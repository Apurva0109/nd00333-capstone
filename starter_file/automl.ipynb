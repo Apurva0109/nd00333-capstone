{
 "cells": [
  {
   "cell_type": "markdown",
   "metadata": {},
   "source": [
    "# Automated ML\n",
    "\n",
    "Import Dependencies."
   ]
  },
  {
   "cell_type": "code",
   "execution_count": 1,
   "metadata": {
    "collapsed": false,
    "gather": {
     "logged": 1598423888013
    },
    "jupyter": {
     "outputs_hidden": false,
     "source_hidden": false
    },
    "nteract": {
     "transient": {
      "deleting": false
     }
    }
   },
   "outputs": [
    {
     "name": "stdout",
     "output_type": "stream",
     "text": [
      "SDK version: 1.19.0\n"
     ]
    }
   ],
   "source": [
    "from azureml.core import Workspace, Experiment,Dataset\n",
    "from azureml.core.compute import ComputeTarget, AmlCompute\n",
    "from azureml.core.compute_target import ComputeTargetException\n",
    "from azureml.widgets import RunDetails\n",
    "\n",
    "import azureml.core\n",
    "from azureml.data.dataset_factory import TabularDatasetFactory\n",
    "from sklearn.model_selection import train_test_split\n",
    "from azureml.train.automl import AutoMLConfig\n",
    "\n",
    "import os\n",
    "import joblib\n",
    "import pandas as pd\n",
    "import numpy as np\n",
    "\n",
    "# Check core SDK version number\n",
    "print(\"SDK version:\", azureml.core.VERSION)"
   ]
  },
  {
   "cell_type": "markdown",
   "metadata": {},
   "source": [
    "## Initialize Workspace"
   ]
  },
  {
   "cell_type": "code",
   "execution_count": 2,
   "metadata": {},
   "outputs": [
    {
     "name": "stdout",
     "output_type": "stream",
     "text": [
      "quick-starts-ws-132953\n",
      "aml-quickstarts-132953\n",
      "southcentralus\n",
      "a0a76bad-11a1-4a2d-9887-97a29122c8ed\n"
     ]
    }
   ],
   "source": [
    "ws = Workspace.from_config()\n",
    "print(ws.name, ws.resource_group, ws.location, ws.subscription_id, sep = '\\n')"
   ]
  },
  {
   "cell_type": "markdown",
   "metadata": {},
   "source": [
    "## Create an Azure ML experiment"
   ]
  },
  {
   "cell_type": "code",
   "execution_count": 3,
   "metadata": {},
   "outputs": [
    {
     "data": {
      "text/html": [
       "<table style=\"width:100%\"><tr><th>Name</th><th>Workspace</th><th>Report Page</th><th>Docs Page</th></tr><tr><td>automl-experiment</td><td>quick-starts-ws-132953</td><td><a href=\"https://ml.azure.com/experiments/automl-experiment?wsid=/subscriptions/a0a76bad-11a1-4a2d-9887-97a29122c8ed/resourcegroups/aml-quickstarts-132953/workspaces/quick-starts-ws-132953\" target=\"_blank\" rel=\"noopener\">Link to Azure Machine Learning studio</a></td><td><a href=\"https://docs.microsoft.com/en-us/python/api/azureml-core/azureml.core.experiment.Experiment?view=azure-ml-py\" target=\"_blank\" rel=\"noopener\">Link to Documentation</a></td></tr></table>"
      ],
      "text/plain": [
       "Experiment(Name: automl-experiment,\n",
       "Workspace: quick-starts-ws-132953)"
      ]
     },
     "execution_count": 3,
     "metadata": {},
     "output_type": "execute_result"
    }
   ],
   "source": [
    "experiment_name = 'automl-experiment'\n",
    "project_folder = './automl-model'\n",
    "\n",
    "experiment = Experiment(ws, experiment_name)\n",
    "experiment"
   ]
  },
  {
   "cell_type": "markdown",
   "metadata": {},
   "source": [
    "## Dataset\n",
    "\n",
    "### Overview\n",
    "\n",
    "We will build prediction model that will classify if a customer is going to churn or not from kaggle's data set [Credit Card customers](https://www.kaggle.com/sakshigoyal7/credit-card-customers). Data set was downloaded as a csv and uploaded i.e. registered as data set in the workspace."
   ]
  },
  {
   "cell_type": "code",
   "execution_count": 4,
   "metadata": {
    "collapsed": false,
    "gather": {
     "logged": 1598423890461
    },
    "jupyter": {
     "outputs_hidden": false,
     "source_hidden": false
    },
    "nteract": {
     "transient": {
      "deleting": false
     }
    }
   },
   "outputs": [
    {
     "data": {
      "text/html": [
       "<div>\n",
       "<style scoped>\n",
       "    .dataframe tbody tr th:only-of-type {\n",
       "        vertical-align: middle;\n",
       "    }\n",
       "\n",
       "    .dataframe tbody tr th {\n",
       "        vertical-align: top;\n",
       "    }\n",
       "\n",
       "    .dataframe thead th {\n",
       "        text-align: right;\n",
       "    }\n",
       "</style>\n",
       "<table border=\"1\" class=\"dataframe\">\n",
       "  <thead>\n",
       "    <tr style=\"text-align: right;\">\n",
       "      <th></th>\n",
       "      <th>CLIENTNUM</th>\n",
       "      <th>Customer_Age</th>\n",
       "      <th>Dependent_count</th>\n",
       "      <th>Months_on_book</th>\n",
       "      <th>Total_Relationship_Count</th>\n",
       "      <th>Months_Inactive_12_mon</th>\n",
       "      <th>Contacts_Count_12_mon</th>\n",
       "      <th>Credit_Limit</th>\n",
       "      <th>Total_Revolving_Bal</th>\n",
       "      <th>Avg_Open_To_Buy</th>\n",
       "      <th>Total_Amt_Chng_Q4_Q1</th>\n",
       "      <th>Total_Trans_Amt</th>\n",
       "      <th>Total_Trans_Ct</th>\n",
       "      <th>Total_Ct_Chng_Q4_Q1</th>\n",
       "      <th>Avg_Utilization_Ratio</th>\n",
       "      <th>Naive_Bayes_Classifier_Attrition_Flag_Card_Category_Contacts_Count_12_mon_Dependent_count_Education_Level_Months_Inactive_12_mon_1</th>\n",
       "      <th>Naive_Bayes_Classifier_Attrition_Flag_Card_Category_Contacts_Count_12_mon_Dependent_count_Education_Level_Months_Inactive_12_mon_2</th>\n",
       "    </tr>\n",
       "  </thead>\n",
       "  <tbody>\n",
       "    <tr>\n",
       "      <th>count</th>\n",
       "      <td>1.012700e+04</td>\n",
       "      <td>10127.000000</td>\n",
       "      <td>10127.000000</td>\n",
       "      <td>10127.000000</td>\n",
       "      <td>10127.000000</td>\n",
       "      <td>10127.000000</td>\n",
       "      <td>10127.000000</td>\n",
       "      <td>10127.000000</td>\n",
       "      <td>10127.000000</td>\n",
       "      <td>10127.000000</td>\n",
       "      <td>10127.000000</td>\n",
       "      <td>10127.000000</td>\n",
       "      <td>10127.000000</td>\n",
       "      <td>10127.000000</td>\n",
       "      <td>10127.000000</td>\n",
       "      <td>10127.000000</td>\n",
       "      <td>10127.000000</td>\n",
       "    </tr>\n",
       "    <tr>\n",
       "      <th>mean</th>\n",
       "      <td>7.391776e+08</td>\n",
       "      <td>46.325960</td>\n",
       "      <td>2.346203</td>\n",
       "      <td>35.928409</td>\n",
       "      <td>3.812580</td>\n",
       "      <td>2.341167</td>\n",
       "      <td>2.455317</td>\n",
       "      <td>8631.953698</td>\n",
       "      <td>1162.814061</td>\n",
       "      <td>7469.139637</td>\n",
       "      <td>0.759941</td>\n",
       "      <td>4404.086304</td>\n",
       "      <td>64.858695</td>\n",
       "      <td>0.712222</td>\n",
       "      <td>0.274894</td>\n",
       "      <td>0.159997</td>\n",
       "      <td>0.840003</td>\n",
       "    </tr>\n",
       "    <tr>\n",
       "      <th>std</th>\n",
       "      <td>3.690378e+07</td>\n",
       "      <td>8.016814</td>\n",
       "      <td>1.298908</td>\n",
       "      <td>7.986416</td>\n",
       "      <td>1.554408</td>\n",
       "      <td>1.010622</td>\n",
       "      <td>1.106225</td>\n",
       "      <td>9088.776650</td>\n",
       "      <td>814.987335</td>\n",
       "      <td>9090.685324</td>\n",
       "      <td>0.219207</td>\n",
       "      <td>3397.129254</td>\n",
       "      <td>23.472570</td>\n",
       "      <td>0.238086</td>\n",
       "      <td>0.275691</td>\n",
       "      <td>0.365301</td>\n",
       "      <td>0.365301</td>\n",
       "    </tr>\n",
       "    <tr>\n",
       "      <th>min</th>\n",
       "      <td>7.080821e+08</td>\n",
       "      <td>26.000000</td>\n",
       "      <td>0.000000</td>\n",
       "      <td>13.000000</td>\n",
       "      <td>1.000000</td>\n",
       "      <td>0.000000</td>\n",
       "      <td>0.000000</td>\n",
       "      <td>1438.300000</td>\n",
       "      <td>0.000000</td>\n",
       "      <td>3.000000</td>\n",
       "      <td>0.000000</td>\n",
       "      <td>510.000000</td>\n",
       "      <td>10.000000</td>\n",
       "      <td>0.000000</td>\n",
       "      <td>0.000000</td>\n",
       "      <td>0.000008</td>\n",
       "      <td>0.000420</td>\n",
       "    </tr>\n",
       "    <tr>\n",
       "      <th>25%</th>\n",
       "      <td>7.130368e+08</td>\n",
       "      <td>41.000000</td>\n",
       "      <td>1.000000</td>\n",
       "      <td>31.000000</td>\n",
       "      <td>3.000000</td>\n",
       "      <td>2.000000</td>\n",
       "      <td>2.000000</td>\n",
       "      <td>2555.000000</td>\n",
       "      <td>359.000000</td>\n",
       "      <td>1324.500000</td>\n",
       "      <td>0.631000</td>\n",
       "      <td>2155.500000</td>\n",
       "      <td>45.000000</td>\n",
       "      <td>0.582000</td>\n",
       "      <td>0.023000</td>\n",
       "      <td>0.000099</td>\n",
       "      <td>0.999660</td>\n",
       "    </tr>\n",
       "    <tr>\n",
       "      <th>50%</th>\n",
       "      <td>7.179264e+08</td>\n",
       "      <td>46.000000</td>\n",
       "      <td>2.000000</td>\n",
       "      <td>36.000000</td>\n",
       "      <td>4.000000</td>\n",
       "      <td>2.000000</td>\n",
       "      <td>2.000000</td>\n",
       "      <td>4549.000000</td>\n",
       "      <td>1276.000000</td>\n",
       "      <td>3474.000000</td>\n",
       "      <td>0.736000</td>\n",
       "      <td>3899.000000</td>\n",
       "      <td>67.000000</td>\n",
       "      <td>0.702000</td>\n",
       "      <td>0.176000</td>\n",
       "      <td>0.000181</td>\n",
       "      <td>0.999820</td>\n",
       "    </tr>\n",
       "    <tr>\n",
       "      <th>75%</th>\n",
       "      <td>7.731435e+08</td>\n",
       "      <td>52.000000</td>\n",
       "      <td>3.000000</td>\n",
       "      <td>40.000000</td>\n",
       "      <td>5.000000</td>\n",
       "      <td>3.000000</td>\n",
       "      <td>3.000000</td>\n",
       "      <td>11067.500000</td>\n",
       "      <td>1784.000000</td>\n",
       "      <td>9859.000000</td>\n",
       "      <td>0.859000</td>\n",
       "      <td>4741.000000</td>\n",
       "      <td>81.000000</td>\n",
       "      <td>0.818000</td>\n",
       "      <td>0.503000</td>\n",
       "      <td>0.000337</td>\n",
       "      <td>0.999900</td>\n",
       "    </tr>\n",
       "    <tr>\n",
       "      <th>max</th>\n",
       "      <td>8.283431e+08</td>\n",
       "      <td>73.000000</td>\n",
       "      <td>5.000000</td>\n",
       "      <td>56.000000</td>\n",
       "      <td>6.000000</td>\n",
       "      <td>6.000000</td>\n",
       "      <td>6.000000</td>\n",
       "      <td>34516.000000</td>\n",
       "      <td>2517.000000</td>\n",
       "      <td>34516.000000</td>\n",
       "      <td>3.397000</td>\n",
       "      <td>18484.000000</td>\n",
       "      <td>139.000000</td>\n",
       "      <td>3.714000</td>\n",
       "      <td>0.999000</td>\n",
       "      <td>0.999580</td>\n",
       "      <td>0.999990</td>\n",
       "    </tr>\n",
       "  </tbody>\n",
       "</table>\n",
       "</div>"
      ],
      "text/plain": [
       "          CLIENTNUM  Customer_Age  Dependent_count  Months_on_book  \\\n",
       "count  1.012700e+04  10127.000000     10127.000000    10127.000000   \n",
       "mean   7.391776e+08     46.325960         2.346203       35.928409   \n",
       "std    3.690378e+07      8.016814         1.298908        7.986416   \n",
       "min    7.080821e+08     26.000000         0.000000       13.000000   \n",
       "25%    7.130368e+08     41.000000         1.000000       31.000000   \n",
       "50%    7.179264e+08     46.000000         2.000000       36.000000   \n",
       "75%    7.731435e+08     52.000000         3.000000       40.000000   \n",
       "max    8.283431e+08     73.000000         5.000000       56.000000   \n",
       "\n",
       "       Total_Relationship_Count  Months_Inactive_12_mon  \\\n",
       "count              10127.000000            10127.000000   \n",
       "mean                   3.812580                2.341167   \n",
       "std                    1.554408                1.010622   \n",
       "min                    1.000000                0.000000   \n",
       "25%                    3.000000                2.000000   \n",
       "50%                    4.000000                2.000000   \n",
       "75%                    5.000000                3.000000   \n",
       "max                    6.000000                6.000000   \n",
       "\n",
       "       Contacts_Count_12_mon  Credit_Limit  Total_Revolving_Bal  \\\n",
       "count           10127.000000  10127.000000         10127.000000   \n",
       "mean                2.455317   8631.953698          1162.814061   \n",
       "std                 1.106225   9088.776650           814.987335   \n",
       "min                 0.000000   1438.300000             0.000000   \n",
       "25%                 2.000000   2555.000000           359.000000   \n",
       "50%                 2.000000   4549.000000          1276.000000   \n",
       "75%                 3.000000  11067.500000          1784.000000   \n",
       "max                 6.000000  34516.000000          2517.000000   \n",
       "\n",
       "       Avg_Open_To_Buy  Total_Amt_Chng_Q4_Q1  Total_Trans_Amt  Total_Trans_Ct  \\\n",
       "count     10127.000000          10127.000000     10127.000000    10127.000000   \n",
       "mean       7469.139637              0.759941      4404.086304       64.858695   \n",
       "std        9090.685324              0.219207      3397.129254       23.472570   \n",
       "min           3.000000              0.000000       510.000000       10.000000   \n",
       "25%        1324.500000              0.631000      2155.500000       45.000000   \n",
       "50%        3474.000000              0.736000      3899.000000       67.000000   \n",
       "75%        9859.000000              0.859000      4741.000000       81.000000   \n",
       "max       34516.000000              3.397000     18484.000000      139.000000   \n",
       "\n",
       "       Total_Ct_Chng_Q4_Q1  Avg_Utilization_Ratio  \\\n",
       "count         10127.000000           10127.000000   \n",
       "mean              0.712222               0.274894   \n",
       "std               0.238086               0.275691   \n",
       "min               0.000000               0.000000   \n",
       "25%               0.582000               0.023000   \n",
       "50%               0.702000               0.176000   \n",
       "75%               0.818000               0.503000   \n",
       "max               3.714000               0.999000   \n",
       "\n",
       "       Naive_Bayes_Classifier_Attrition_Flag_Card_Category_Contacts_Count_12_mon_Dependent_count_Education_Level_Months_Inactive_12_mon_1  \\\n",
       "count                                       10127.000000                                                                                    \n",
       "mean                                            0.159997                                                                                    \n",
       "std                                             0.365301                                                                                    \n",
       "min                                             0.000008                                                                                    \n",
       "25%                                             0.000099                                                                                    \n",
       "50%                                             0.000181                                                                                    \n",
       "75%                                             0.000337                                                                                    \n",
       "max                                             0.999580                                                                                    \n",
       "\n",
       "       Naive_Bayes_Classifier_Attrition_Flag_Card_Category_Contacts_Count_12_mon_Dependent_count_Education_Level_Months_Inactive_12_mon_2  \n",
       "count                                       10127.000000                                                                                   \n",
       "mean                                            0.840003                                                                                   \n",
       "std                                             0.365301                                                                                   \n",
       "min                                             0.000420                                                                                   \n",
       "25%                                             0.999660                                                                                   \n",
       "50%                                             0.999820                                                                                   \n",
       "75%                                             0.999900                                                                                   \n",
       "max                                             0.999990                                                                                   "
      ]
     },
     "execution_count": 4,
     "metadata": {},
     "output_type": "execute_result"
    }
   ],
   "source": [
    "dataset=Dataset.get_by_name(ws,name=\"Credit-Card-Churners\")\n",
    "run = experiment.start_logging()\n",
    "df = dataset.to_pandas_dataframe()\n",
    "df.describe()"
   ]
  },
  {
   "cell_type": "code",
   "execution_count": 5,
   "metadata": {},
   "outputs": [
    {
     "name": "stdout",
     "output_type": "stream",
     "text": [
      "/mnt/batch/tasks/shared/LS_root/mounts/clusters/compute-aml-cluster/code\n"
     ]
    },
    {
     "data": {
      "text/plain": [
       "['.config',\n",
       " '.ipynb_checkpoints',\n",
       " 'automl.ipynb',\n",
       " 'conda_dependencies.yml',\n",
       " 'CreditCardChurners.csv',\n",
       " 'hyperdrive_model.joblib',\n",
       " 'hyperparameter_tuning.ipynb',\n",
       " 'outputs',\n",
       " 'README.md',\n",
       " 'score.py',\n",
       " 'train.py',\n",
       " 'udacity-project.ipynb',\n",
       " 'Users']"
      ]
     },
     "execution_count": 5,
     "metadata": {},
     "output_type": "execute_result"
    }
   ],
   "source": [
    "currDir=os.getcwd()\n",
    "print(currDir)\n",
    "os.listdir(currDir)"
   ]
  },
  {
   "cell_type": "markdown",
   "metadata": {},
   "source": [
    "## Create or Attach a Compute Resource"
   ]
  },
  {
   "cell_type": "code",
   "execution_count": 6,
   "metadata": {},
   "outputs": [
    {
     "name": "stdout",
     "output_type": "stream",
     "text": [
      "Found existing cluster.\n",
      "\n",
      "Running\n"
     ]
    }
   ],
   "source": [
    "compute_name = \"compute-aml-cluster\"\n",
    "\n",
    "# Check if the compute target exists\n",
    "try:\n",
    "    compute_aml_cluster = ComputeTarget(workspace=ws, name=compute_name)\n",
    "    print('Found existing cluster.')\n",
    "except ComputeTargetException:\n",
    "    # If not, create it\n",
    "    compute_config = AmlCompute.provisionibng_configuration(vm_size='STANDARD_DS12_V2',\n",
    "                                                           max_nodes=5)\n",
    "    compute_aml_cluster = ComputeTarget.create(ws, compute_name, compute_config)\n",
    "\n",
    "compute_aml_cluster.wait_for_completion(show_output=True)"
   ]
  },
  {
   "cell_type": "code",
   "execution_count": 7,
   "metadata": {},
   "outputs": [
    {
     "data": {
      "text/html": [
       "<div>\n",
       "<style scoped>\n",
       "    .dataframe tbody tr th:only-of-type {\n",
       "        vertical-align: middle;\n",
       "    }\n",
       "\n",
       "    .dataframe tbody tr th {\n",
       "        vertical-align: top;\n",
       "    }\n",
       "\n",
       "    .dataframe thead th {\n",
       "        text-align: right;\n",
       "    }\n",
       "</style>\n",
       "<table border=\"1\" class=\"dataframe\">\n",
       "  <thead>\n",
       "    <tr style=\"text-align: right;\">\n",
       "      <th></th>\n",
       "      <th>Customer_Age</th>\n",
       "      <th>Gender</th>\n",
       "      <th>Dependent_count</th>\n",
       "      <th>Education_Level</th>\n",
       "      <th>Income_Category</th>\n",
       "      <th>Months_on_book</th>\n",
       "      <th>Total_Relationship_Count</th>\n",
       "      <th>Months_Inactive_12_mon</th>\n",
       "      <th>Contacts_Count_12_mon</th>\n",
       "      <th>Credit_Limit</th>\n",
       "      <th>...</th>\n",
       "      <th>Total_Ct_Chng_Q4_Q1</th>\n",
       "      <th>Avg_Utilization_Ratio</th>\n",
       "      <th>Marital_Status_Divorced</th>\n",
       "      <th>Marital_Status_Married</th>\n",
       "      <th>Marital_Status_Single</th>\n",
       "      <th>Card_Category_Blue</th>\n",
       "      <th>Card_Category_Gold</th>\n",
       "      <th>Card_Category_Platinum</th>\n",
       "      <th>Card_Category_Silver</th>\n",
       "      <th>Attrition_Flag</th>\n",
       "    </tr>\n",
       "  </thead>\n",
       "  <tbody>\n",
       "    <tr>\n",
       "      <th>0</th>\n",
       "      <td>-0.165406</td>\n",
       "      <td>1.059956</td>\n",
       "      <td>0.503368</td>\n",
       "      <td>-0.893680</td>\n",
       "      <td>0.597300</td>\n",
       "      <td>0.384621</td>\n",
       "      <td>0.763943</td>\n",
       "      <td>-1.327136</td>\n",
       "      <td>0.492404</td>\n",
       "      <td>0.446622</td>\n",
       "      <td>...</td>\n",
       "      <td>3.834003</td>\n",
       "      <td>-0.775882</td>\n",
       "      <td>-0.282405</td>\n",
       "      <td>1.077338</td>\n",
       "      <td>-0.798507</td>\n",
       "      <td>0.270611</td>\n",
       "      <td>-0.107644</td>\n",
       "      <td>-0.044484</td>\n",
       "      <td>-0.240794</td>\n",
       "      <td>0</td>\n",
       "    </tr>\n",
       "    <tr>\n",
       "      <th>1</th>\n",
       "      <td>0.333570</td>\n",
       "      <td>-0.943436</td>\n",
       "      <td>2.043199</td>\n",
       "      <td>0.593388</td>\n",
       "      <td>-0.887628</td>\n",
       "      <td>1.010715</td>\n",
       "      <td>1.407306</td>\n",
       "      <td>-1.327136</td>\n",
       "      <td>-0.411616</td>\n",
       "      <td>-0.041367</td>\n",
       "      <td>...</td>\n",
       "      <td>12.608573</td>\n",
       "      <td>-0.616276</td>\n",
       "      <td>-0.282405</td>\n",
       "      <td>-0.928214</td>\n",
       "      <td>1.252337</td>\n",
       "      <td>0.270611</td>\n",
       "      <td>-0.107644</td>\n",
       "      <td>-0.044484</td>\n",
       "      <td>-0.240794</td>\n",
       "      <td>0</td>\n",
       "    </tr>\n",
       "    <tr>\n",
       "      <th>2</th>\n",
       "      <td>0.583058</td>\n",
       "      <td>1.059956</td>\n",
       "      <td>0.503368</td>\n",
       "      <td>0.593388</td>\n",
       "      <td>1.339764</td>\n",
       "      <td>0.008965</td>\n",
       "      <td>0.120579</td>\n",
       "      <td>-1.327136</td>\n",
       "      <td>-2.219655</td>\n",
       "      <td>-0.573698</td>\n",
       "      <td>...</td>\n",
       "      <td>6.807864</td>\n",
       "      <td>-0.997155</td>\n",
       "      <td>-0.282405</td>\n",
       "      <td>1.077338</td>\n",
       "      <td>-0.798507</td>\n",
       "      <td>0.270611</td>\n",
       "      <td>-0.107644</td>\n",
       "      <td>-0.044484</td>\n",
       "      <td>-0.240794</td>\n",
       "      <td>0</td>\n",
       "    </tr>\n",
       "    <tr>\n",
       "      <th>3</th>\n",
       "      <td>-0.789126</td>\n",
       "      <td>-0.943436</td>\n",
       "      <td>1.273283</td>\n",
       "      <td>-0.893680</td>\n",
       "      <td>-0.887628</td>\n",
       "      <td>-0.241473</td>\n",
       "      <td>-0.522785</td>\n",
       "      <td>1.641478</td>\n",
       "      <td>-1.315636</td>\n",
       "      <td>-0.585251</td>\n",
       "      <td>...</td>\n",
       "      <td>6.807864</td>\n",
       "      <td>1.759686</td>\n",
       "      <td>-0.282405</td>\n",
       "      <td>-0.928214</td>\n",
       "      <td>-0.798507</td>\n",
       "      <td>0.270611</td>\n",
       "      <td>-0.107644</td>\n",
       "      <td>-0.044484</td>\n",
       "      <td>-0.240794</td>\n",
       "      <td>0</td>\n",
       "    </tr>\n",
       "    <tr>\n",
       "      <th>4</th>\n",
       "      <td>-0.789126</td>\n",
       "      <td>1.059956</td>\n",
       "      <td>0.503368</td>\n",
       "      <td>-1.637214</td>\n",
       "      <td>0.597300</td>\n",
       "      <td>-1.869317</td>\n",
       "      <td>0.763943</td>\n",
       "      <td>-1.327136</td>\n",
       "      <td>-2.219655</td>\n",
       "      <td>-0.430877</td>\n",
       "      <td>...</td>\n",
       "      <td>7.509325</td>\n",
       "      <td>-0.997155</td>\n",
       "      <td>-0.282405</td>\n",
       "      <td>1.077338</td>\n",
       "      <td>-0.798507</td>\n",
       "      <td>0.270611</td>\n",
       "      <td>-0.107644</td>\n",
       "      <td>-0.044484</td>\n",
       "      <td>-0.240794</td>\n",
       "      <td>0</td>\n",
       "    </tr>\n",
       "  </tbody>\n",
       "</table>\n",
       "<p>5 rows × 25 columns</p>\n",
       "</div>"
      ],
      "text/plain": [
       "   Customer_Age    Gender  Dependent_count  Education_Level  Income_Category  \\\n",
       "0     -0.165406  1.059956         0.503368        -0.893680         0.597300   \n",
       "1      0.333570 -0.943436         2.043199         0.593388        -0.887628   \n",
       "2      0.583058  1.059956         0.503368         0.593388         1.339764   \n",
       "3     -0.789126 -0.943436         1.273283        -0.893680        -0.887628   \n",
       "4     -0.789126  1.059956         0.503368        -1.637214         0.597300   \n",
       "\n",
       "   Months_on_book  Total_Relationship_Count  Months_Inactive_12_mon  \\\n",
       "0        0.384621                  0.763943               -1.327136   \n",
       "1        1.010715                  1.407306               -1.327136   \n",
       "2        0.008965                  0.120579               -1.327136   \n",
       "3       -0.241473                 -0.522785                1.641478   \n",
       "4       -1.869317                  0.763943               -1.327136   \n",
       "\n",
       "   Contacts_Count_12_mon  Credit_Limit  ...  Total_Ct_Chng_Q4_Q1  \\\n",
       "0               0.492404      0.446622  ...             3.834003   \n",
       "1              -0.411616     -0.041367  ...            12.608573   \n",
       "2              -2.219655     -0.573698  ...             6.807864   \n",
       "3              -1.315636     -0.585251  ...             6.807864   \n",
       "4              -2.219655     -0.430877  ...             7.509325   \n",
       "\n",
       "   Avg_Utilization_Ratio  Marital_Status_Divorced  Marital_Status_Married  \\\n",
       "0              -0.775882                -0.282405                1.077338   \n",
       "1              -0.616276                -0.282405               -0.928214   \n",
       "2              -0.997155                -0.282405                1.077338   \n",
       "3               1.759686                -0.282405               -0.928214   \n",
       "4              -0.997155                -0.282405                1.077338   \n",
       "\n",
       "   Marital_Status_Single  Card_Category_Blue  Card_Category_Gold  \\\n",
       "0              -0.798507            0.270611           -0.107644   \n",
       "1               1.252337            0.270611           -0.107644   \n",
       "2              -0.798507            0.270611           -0.107644   \n",
       "3              -0.798507            0.270611           -0.107644   \n",
       "4              -0.798507            0.270611           -0.107644   \n",
       "\n",
       "   Card_Category_Platinum  Card_Category_Silver  Attrition_Flag  \n",
       "0               -0.044484             -0.240794               0  \n",
       "1               -0.044484             -0.240794               0  \n",
       "2               -0.044484             -0.240794               0  \n",
       "3               -0.044484             -0.240794               0  \n",
       "4               -0.044484             -0.240794               0  \n",
       "\n",
       "[5 rows x 25 columns]"
      ]
     },
     "execution_count": 7,
     "metadata": {},
     "output_type": "execute_result"
    }
   ],
   "source": [
    "from sklearn.preprocessing import OneHotEncoder, StandardScaler\n",
    "\n",
    "# Use the clean_data function to clean your data.\n",
    "#x, y = clean_data(df)\n",
    "\n",
    "def binary_encode(df, column, positive_value):\n",
    "    df = df.copy()\n",
    "    df[column] = df[column].apply(lambda x: 1 if x == positive_value else 0)\n",
    "    return df\n",
    "\n",
    "def ordinal_encode(df, column, ordering):\n",
    "    df = df.copy()\n",
    "    df[column] = df[column].apply(lambda x: ordering.index(x))\n",
    "    return df\n",
    "\n",
    "def onehot_encode(df, column, prefix):\n",
    "    df = df.copy()\n",
    "    dummies = pd.get_dummies(df[column], prefix=prefix)\n",
    "    df = pd.concat([df, dummies], axis=1)\n",
    "    df = df.drop(column, axis=1)\n",
    "    return df\n",
    "\n",
    "def pre_processing(data):\n",
    "    # Clean and one hot encode data\n",
    "    x_df = data.to_pandas_dataframe().dropna()\n",
    "\n",
    "    # Drop last two columns (unneeded)\n",
    "    x_df.drop(x_df.columns[-2:],inplace=True, axis=1)\n",
    "\n",
    "    # Drop CLIENTNUM columns\n",
    "    x_df.drop(\"CLIENTNUM\",inplace=True, axis=1)\n",
    "\n",
    "    # Encode unknown values as np.NaN\n",
    "    x_df = x_df.replace('Unknown', np.NaN)\n",
    "\n",
    "    # Fill ordinal missing values with modes (Education_Level and Income_Category columns)\n",
    "    x_df['Education_Level'] = x_df['Education_Level'].fillna('Graduate')\n",
    "    x_df['Income_Category'] = x_df['Income_Category'].fillna('Less than $40K')\n",
    "\n",
    "    # Encode binary columns\n",
    "    x_df = binary_encode(x_df, 'Attrition_Flag', positive_value='Attrited Customer')\n",
    "    x_df = binary_encode(x_df, 'Gender', positive_value='M')\n",
    "\n",
    "    # Encode ordinal columns\n",
    "    education_ordering = [\n",
    "        'Uneducated',\n",
    "        'High School',\n",
    "        'College',\n",
    "        'Graduate',\n",
    "        'Post-Graduate',\n",
    "        'Doctorate'\n",
    "    ]\n",
    "    income_ordering = [\n",
    "        'Less than $40K',\n",
    "        '$40K - $60K',\n",
    "        '$60K - $80K',\n",
    "        '$80K - $120K',\n",
    "        '$120K +'\n",
    "    ]\n",
    "\n",
    "    x_df = ordinal_encode(x_df, 'Education_Level', ordering=education_ordering)\n",
    "    x_df = ordinal_encode(x_df, 'Income_Category', ordering=income_ordering)\n",
    "\n",
    "    # Encode nominal columns\n",
    "    x_df = onehot_encode(x_df, 'Marital_Status', prefix='Marital_Status')\n",
    "    x_df = onehot_encode(x_df, 'Card_Category', prefix='Card_Category')\n",
    "\n",
    "    # Split df into X and y\n",
    "    X = x_df.drop('Attrition_Flag', axis=1).copy()\n",
    "    y = x_df['Attrition_Flag'].copy()\n",
    "\n",
    "    # Scale X with a standard scaler\n",
    "    scaler = StandardScaler()\n",
    "    X = pd.DataFrame(scaler.fit_transform(X), columns=X.columns)\n",
    "\n",
    "    return X, y\n",
    "\n",
    "x, y = pre_processing(dataset)\n",
    "\n",
    "all_data = pd.concat([x,y], axis = 1)\n",
    "all_data.head()"
   ]
  },
  {
   "cell_type": "code",
   "execution_count": 8,
   "metadata": {},
   "outputs": [
    {
     "name": "stdout",
     "output_type": "stream",
     "text": [
      "      Customer_Age    Gender  Dependent_count  Education_Level  \\\n",
      "147       1.082034  1.059956        -0.266547         0.593388   \n",
      "1985     -1.787077  1.059956        -1.806378         0.593388   \n",
      "8316     -1.412845 -0.943436         1.273283        -1.637214   \n",
      "\n",
      "      Income_Category  Months_on_book  Total_Relationship_Count  \\\n",
      "147          2.082228        1.762028                 -0.522785   \n",
      "1985        -0.887628       -1.118005                  1.407306   \n",
      "8316        -0.887628       -1.368442                 -1.166148   \n",
      "\n",
      "      Months_Inactive_12_mon  Contacts_Count_12_mon  Credit_Limit  ...  \\\n",
      "147                -0.337598              -2.219655      0.251316  ...   \n",
      "1985                0.651940               0.492404      0.066684  ...   \n",
      "8316                0.651940              -0.411616     -0.577989  ...   \n",
      "\n",
      "      Total_Ct_Chng_Q4_Q1  Avg_Utilization_Ratio  Marital_Status_Divorced  \\\n",
      "147              1.208772              -0.485688                -0.282405   \n",
      "1985            -0.983820              -0.997155                -0.282405   \n",
      "8316            -0.042938              -0.365984                -0.282405   \n",
      "\n",
      "      Marital_Status_Married  Marital_Status_Single  Card_Category_Blue  \\\n",
      "147                 1.077338              -0.798507            0.270611   \n",
      "1985               -0.928214               1.252337            0.270611   \n",
      "8316                1.077338              -0.798507            0.270611   \n",
      "\n",
      "      Card_Category_Gold  Card_Category_Platinum  Card_Category_Silver  \\\n",
      "147            -0.107644               -0.044484             -0.240794   \n",
      "1985           -0.107644               -0.044484             -0.240794   \n",
      "8316           -0.107644               -0.044484             -0.240794   \n",
      "\n",
      "      Attrition_Flag  \n",
      "147                0  \n",
      "1985               0  \n",
      "8316               0  \n",
      "\n",
      "[3 rows x 25 columns]\n",
      "      Customer_Age    Gender  Dependent_count  Education_Level  \\\n",
      "3358     -0.290150  1.059956         2.043199        -1.637214   \n",
      "9951     -0.290150 -0.943436         0.503368         0.593388   \n",
      "3848     -1.163358 -0.943436         0.503368        -0.893680   \n",
      "\n",
      "      Income_Category  Months_on_book  Total_Relationship_Count  \\\n",
      "3358         0.597300        0.384621                  0.763943   \n",
      "9951        -0.887628       -0.241473                 -1.166148   \n",
      "3848        -0.887628       -1.243223                 -0.522785   \n",
      "\n",
      "      Months_Inactive_12_mon  Contacts_Count_12_mon  Credit_Limit  ...  \\\n",
      "3358               -0.337598              -2.219655      0.814456  ...   \n",
      "9951                0.651940               0.492404      1.913338  ...   \n",
      "3848               -1.327136              -0.411616     -0.628823  ...   \n",
      "\n",
      "      Total_Ct_Chng_Q4_Q1  Avg_Utilization_Ratio  Marital_Status_Divorced  \\\n",
      "3358             0.801336              -0.634413                 3.541013   \n",
      "9951            -0.731798              -0.997155                -0.282405   \n",
      "3848            -0.937616               1.759686                -0.282405   \n",
      "\n",
      "      Marital_Status_Married  Marital_Status_Single  Card_Category_Blue  \\\n",
      "3358               -0.928214              -0.798507            0.270611   \n",
      "9951               -0.928214               1.252337            0.270611   \n",
      "3848               -0.928214               1.252337            0.270611   \n",
      "\n",
      "      Card_Category_Gold  Card_Category_Platinum  Card_Category_Silver  \\\n",
      "3358           -0.107644               -0.044484             -0.240794   \n",
      "9951           -0.107644               -0.044484             -0.240794   \n",
      "3848           -0.107644               -0.044484             -0.240794   \n",
      "\n",
      "      Attrition_Flag  \n",
      "3358               0  \n",
      "9951               1  \n",
      "3848               0  \n",
      "\n",
      "[3 rows x 25 columns]\n",
      "(8101, 25)\n",
      "(2026, 25)\n"
     ]
    }
   ],
   "source": [
    "from sklearn.model_selection import train_test_split\n",
    "\n",
    "x_train, x_test = train_test_split(all_data, test_size=0.2,random_state=0)\n",
    "# columns=x_train.columns\n",
    "print(x_train.head(3))\n",
    "print(x_test.head(3))\n",
    "print(x_train.shape)\n",
    "print(x_test.shape)\n",
    "\n",
    "if \"training\" not in os.listdir():\n",
    "    os.mkdir(\"./training\")\n",
    "\n",
    "x_train.to_csv('training/train_data.csv')\n",
    "x_test.to_csv('training/test_data.csv')\n",
    "\n",
    "# x_train.to_csv(path_or_buf='training/train_data.csv', columns=columns, header=True, index=False) \n",
    "# x_test.to_csv(path_or_buf='training/test_data.csv', columns=columns, header=True, index=False)"
   ]
  },
  {
   "cell_type": "code",
   "execution_count": 9,
   "metadata": {},
   "outputs": [
    {
     "name": "stdout",
     "output_type": "stream",
     "text": [
      "{\n",
      "  \"name\": \"workspaceblobstore\",\n",
      "  \"container_name\": \"azureml-blobstore-702fe34b-98da-4a84-a097-88511a2080e2\",\n",
      "  \"account_name\": \"mlstrg132953\",\n",
      "  \"protocol\": \"https\",\n",
      "  \"endpoint\": \"core.windows.net\"\n",
      "}\n",
      "Uploading an estimated of 2 files\n",
      "Uploading training/test_data.csv\n",
      "Uploaded training/test_data.csv, 1 files out of an estimated total of 2\n",
      "Uploading training/train_data.csv\n",
      "Uploaded training/train_data.csv, 2 files out of an estimated total of 2\n",
      "Uploaded 2 files\n"
     ]
    }
   ],
   "source": [
    "# get the datastore to upload prepared data\n",
    "datastore = ws.get_default_datastore()\n",
    "print(datastore)\n",
    "\n",
    "# upload the local file from src_dir to the target_path in datastore\n",
    "datastore.upload(src_dir='training/', target_path='data/')\n",
    "# datastore.upload_files(['trainset.csv'])\n",
    "\n",
    "# create a dataset referencing the cloud location\n",
    "train_data = TabularDatasetFactory.from_delimited_files(path = [(datastore, ('data/train_data.csv'))])"
   ]
  },
  {
   "cell_type": "markdown",
   "metadata": {},
   "source": [
    "## AutoML Configuration"
   ]
  },
  {
   "cell_type": "code",
   "execution_count": 10,
   "metadata": {
    "collapsed": false,
    "gather": {
     "logged": 1598429217746
    },
    "jupyter": {
     "outputs_hidden": false,
     "source_hidden": false
    },
    "nteract": {
     "transient": {
      "deleting": false
     }
    }
   },
   "outputs": [],
   "source": [
    "# TODO: Put your automl settings here\n",
    "automl_settings = {\n",
    "    \"experiment_timeout_minutes\": 30,\n",
    "    \"max_concurrent_iterations\": 10,\n",
    "    \"primary_metric\" : 'accuracy',\n",
    "    \"n_cross_validations\": 3,\n",
    "    \"max_cores_per_iteration\":-1\n",
    "}\n",
    "\n",
    "# TODO: Put your automl config here\n",
    "automl_config = AutoMLConfig(compute_target=compute_aml_cluster,\n",
    "                             task = \"classification\",\n",
    "                             training_data=train_data,\n",
    "                             label_column_name=\"Attrition_Flag\",   \n",
    "                             path = project_folder,\n",
    "                             enable_early_stopping= True,\n",
    "                             debug_log = \"automl_errors.log\",\n",
    "                             **automl_settings\n",
    ")"
   ]
  },
  {
   "cell_type": "markdown",
   "metadata": {},
   "source": [
    "## Submit Run"
   ]
  },
  {
   "cell_type": "code",
   "execution_count": 11,
   "metadata": {
    "collapsed": false,
    "gather": {
     "logged": 1598431107951
    },
    "jupyter": {
     "outputs_hidden": false,
     "source_hidden": false
    },
    "nteract": {
     "transient": {
      "deleting": false
     }
    }
   },
   "outputs": [
    {
     "name": "stdout",
     "output_type": "stream",
     "text": [
      "Running on remote.\n",
      "No run_configuration provided, running on compute-aml-cluster with default configuration\n",
      "Running on remote compute: compute-aml-cluster\n",
      "Parent Run ID: AutoML_4796283c-20a9-478b-b3c1-d77aca018967\n",
      "\n",
      "Current status: FeaturesGeneration. Generating features for the dataset.\n",
      "Current status: DatasetCrossValidationSplit. Generating individually featurized CV splits.\n",
      "Current status: ModelSelection. Beginning model selection.\n",
      "\n",
      "****************************************************************************************************\n",
      "DATA GUARDRAILS: \n",
      "\n",
      "TYPE:         Class balancing detection\n",
      "STATUS:       ALERTED\n",
      "DESCRIPTION:  To decrease model bias, please cancel the current run and fix balancing problem.\n",
      "              Learn more about imbalanced data: https://aka.ms/AutomatedMLImbalancedData\n",
      "DETAILS:      Imbalanced data can lead to a falsely perceived positive effect of a model's accuracy because the input data has bias towards one class.\n",
      "+---------------------------------+---------------------------------+--------------------------------------+\n",
      "|Size of the smallest class       |Name/Label of the smallest class |Number of samples in the training data|\n",
      "+=================================+=================================+======================================+\n",
      "|1318                             |1                                |8101                                  |\n",
      "+---------------------------------+---------------------------------+--------------------------------------+\n",
      "\n",
      "****************************************************************************************************\n",
      "\n",
      "TYPE:         Missing feature values imputation\n",
      "STATUS:       PASSED\n",
      "DESCRIPTION:  No feature missing values were detected in the training data.\n",
      "              Learn more about missing value imputation: https://aka.ms/AutomatedMLFeaturization\n",
      "\n",
      "****************************************************************************************************\n",
      "\n",
      "TYPE:         High cardinality feature detection\n",
      "STATUS:       PASSED\n",
      "DESCRIPTION:  Your inputs were analyzed, and no high cardinality features were detected.\n",
      "              Learn more about high cardinality feature handling: https://aka.ms/AutomatedMLFeaturization\n",
      "\n",
      "****************************************************************************************************\n",
      "\n",
      "****************************************************************************************************\n",
      "ITERATION: The iteration being evaluated.\n",
      "PIPELINE: A summary description of the pipeline being evaluated.\n",
      "DURATION: Time taken for the current iteration.\n",
      "METRIC: The result of computing score on the fitted pipeline.\n",
      "BEST: The best observed score thus far.\n",
      "****************************************************************************************************\n",
      "\n",
      " ITERATION   PIPELINE                                       DURATION      METRIC      BEST\n",
      "         2   MinMaxScaler RandomForest                      0:00:50       0.9335    0.9335\n",
      "         3   MinMaxScaler RandomForest                      0:00:46       0.9074    0.9335\n",
      "         4   MinMaxScaler RandomForest                      0:00:48       0.9422    0.9422\n",
      "         1   MaxAbsScaler XGBoostClassifier                 0:00:55       0.9853    0.9853\n",
      "         5   SparseNormalizer XGBoostClassifier             0:00:54       0.9690    0.9853\n",
      "         8   MinMaxScaler LightGBM                          0:01:01       0.9786    0.9853\n",
      "         0   MaxAbsScaler LightGBM                          0:01:12       0.9874    0.9874\n",
      "         9   RobustScaler LightGBM                          0:01:13       0.9791    0.9874\n",
      "         6   SparseNormalizer XGBoostClassifier             0:01:20       0.9738    0.9874\n",
      "        15   MaxAbsScaler LogisticRegression                0:00:59       0.9510    0.9874\n",
      "        12   SparseNormalizer XGBoostClassifier             0:01:14       0.9740    0.9874\n",
      "        16   StandardScalerWrapper XGBoostClassifier        0:01:06       0.9705    0.9874\n",
      "         7   SparseNormalizer XGBoostClassifier             0:02:27       0.9806    0.9874\n",
      "        10   StandardScalerWrapper XGBoostClassifier        0:01:28       0.9856    0.9874\n",
      "        11   SparseNormalizer XGBoostClassifier             0:01:24       0.9788    0.9874\n",
      "        13   SparseNormalizer XGBoostClassifier             0:01:33       0.9783    0.9874\n",
      "        14   SparseNormalizer XGBoostClassifier             0:01:17       0.9773    0.9874\n",
      "        17   SparseNormalizer XGBoostClassifier             0:01:12       0.9772    0.9874\n",
      "        18   StandardScalerWrapper LightGBM                 0:00:57       0.8873    0.9874\n",
      "        19   MaxAbsScaler LightGBM                          0:00:59       0.9191    0.9874\n",
      "        20   StandardScalerWrapper LightGBM                 0:00:55       0.9342    0.9874\n",
      "        21   StandardScalerWrapper LightGBM                 0:00:48       0.9142    0.9874\n",
      "        24   StandardScalerWrapper LightGBM                 0:00:52       0.9693    0.9874\n",
      "        22   MaxAbsScaler RandomForest                      0:01:24       0.9662    0.9874\n",
      "        23   RobustScaler LightGBM                          0:01:20       0.9788    0.9874\n",
      "        25   MinMaxScaler LightGBM                          0:01:14       0.9414    0.9874\n",
      "        26   SparseNormalizer XGBoostClassifier             0:01:17       0.9744    0.9874\n",
      "        27   SparseNormalizer XGBoostClassifier             0:01:12       0.9757    0.9874\n",
      "        28   StandardScalerWrapper XGBoostClassifier        0:01:08       0.9878    0.9878\n",
      "        29   MinMaxScaler LightGBM                          0:00:43       0.9136    0.9878\n",
      "        31   StandardScalerWrapper XGBoostClassifier        0:00:45       0.9857    0.9878\n",
      "        32   SparseNormalizer XGBoostClassifier             0:00:55       0.9701    0.9878\n",
      "        30   RobustScaler LightGBM                          0:01:07       0.8619    0.9878\n",
      "        36   MinMaxScaler ExtremeRandomTrees                0:00:38       0.9062    0.9878\n",
      "        34   StandardScalerWrapper XGBoostClassifier        0:00:52       0.9451    0.9878\n",
      "        35   StandardScalerWrapper XGBoostClassifier        0:00:49       0.8373    0.9878\n",
      "        38   StandardScalerWrapper XGBoostClassifier        0:00:50       0.9822    0.9878\n",
      "        39   SparseNormalizer XGBoostClassifier             0:00:49       0.9735    0.9878\n",
      "        37   SparseNormalizer XGBoostClassifier             0:01:09       0.9774    0.9878\n",
      "        33   SparseNormalizer XGBoostClassifier             0:01:55       0.9801    0.9878\n",
      "        40   SparseNormalizer XGBoostClassifier             0:01:25       0.9767    0.9878\n",
      "        41   StandardScalerWrapper XGBoostClassifier        0:01:20       0.9856    0.9878\n",
      "        42   StandardScalerWrapper XGBoostClassifier        0:01:12       0.9758    0.9878\n",
      "        43   SparseNormalizer XGBoostClassifier             0:01:01       0.9763    0.9878\n",
      "        44   SparseNormalizer XGBoostClassifier             0:01:01       0.9783    0.9878\n",
      "        45   SparseNormalizer XGBoostClassifier             0:01:07       0.9754    0.9878\n",
      "        46   StandardScalerWrapper RandomForest             0:01:07       0.9394    0.9878\n",
      "        47   SparseNormalizer XGBoostClassifier             0:00:58          nan    0.9878\n",
      "        48   StandardScalerWrapper XGBoostClassifier        0:00:50          nan    0.9878\n",
      "        49                                                  0:00:10          nan    0.9878\n",
      "        50                                                  0:00:10          nan    0.9878\n",
      "        51                                                  0:00:17          nan    0.9878\n",
      "        52                                                  0:00:21          nan    0.9878\n",
      "        53    VotingEnsemble                                0:01:30       0.9881    0.9881\n",
      "        54    StackEnsemble                                 0:01:48       0.9875    0.9881\n"
     ]
    }
   ],
   "source": [
    "remote_run = experiment.submit(automl_config, show_output=True)"
   ]
  },
  {
   "cell_type": "markdown",
   "metadata": {},
   "source": [
    "## Run Details"
   ]
  },
  {
   "cell_type": "code",
   "execution_count": 12,
   "metadata": {},
   "outputs": [
    {
     "data": {
      "text/html": [
       "<table style=\"width:100%\"><tr><th>Experiment</th><th>Id</th><th>Type</th><th>Status</th><th>Details Page</th><th>Docs Page</th></tr><tr><td>automl-experiment</td><td>AutoML_4796283c-20a9-478b-b3c1-d77aca018967</td><td>automl</td><td>Completed</td><td><a href=\"https://ml.azure.com/experiments/automl-experiment/runs/AutoML_4796283c-20a9-478b-b3c1-d77aca018967?wsid=/subscriptions/a0a76bad-11a1-4a2d-9887-97a29122c8ed/resourcegroups/aml-quickstarts-132953/workspaces/quick-starts-ws-132953\" target=\"_blank\" rel=\"noopener\">Link to Azure Machine Learning studio</a></td><td><a href=\"https://docs.microsoft.com/en-us/python/api/overview/azure/ml/intro?view=azure-ml-py\" target=\"_blank\" rel=\"noopener\">Link to Documentation</a></td></tr></table>"
      ],
      "text/plain": [
       "Run(Experiment: automl-experiment,\n",
       "Id: AutoML_4796283c-20a9-478b-b3c1-d77aca018967,\n",
       "Type: automl,\n",
       "Status: Completed)"
      ]
     },
     "execution_count": 12,
     "metadata": {},
     "output_type": "execute_result"
    }
   ],
   "source": [
    "remote_run"
   ]
  },
  {
   "cell_type": "code",
   "execution_count": 13,
   "metadata": {
    "collapsed": false,
    "gather": {
     "logged": 1598431121770
    },
    "jupyter": {
     "outputs_hidden": false,
     "source_hidden": false
    },
    "nteract": {
     "transient": {
      "deleting": false
     }
    }
   },
   "outputs": [
    {
     "data": {
      "application/vnd.jupyter.widget-view+json": {
       "model_id": "6c70787d50cb484f9652ccdd37367773",
       "version_major": 2,
       "version_minor": 0
      },
      "text/plain": [
       "_AutoMLWidget(widget_settings={'childWidgetDisplay': 'popup', 'send_telemetry': False, 'log_level': 'INFO', 's…"
      ]
     },
     "metadata": {},
     "output_type": "display_data"
    },
    {
     "data": {
      "application/aml.mini.widget.v1": "{\"status\": \"Completed\", \"workbench_run_details_uri\": \"https://ml.azure.com/experiments/automl-experiment/runs/AutoML_4796283c-20a9-478b-b3c1-d77aca018967?wsid=/subscriptions/a0a76bad-11a1-4a2d-9887-97a29122c8ed/resourcegroups/aml-quickstarts-132953/workspaces/quick-starts-ws-132953\", \"run_id\": \"AutoML_4796283c-20a9-478b-b3c1-d77aca018967\", \"run_properties\": {\"run_id\": \"AutoML_4796283c-20a9-478b-b3c1-d77aca018967\", \"created_utc\": \"2021-01-02T14:59:55.898964Z\", \"properties\": {\"num_iterations\": \"1000\", \"training_type\": \"TrainFull\", \"acquisition_function\": \"EI\", \"primary_metric\": \"accuracy\", \"train_split\": \"0\", \"acquisition_parameter\": \"0\", \"num_cross_validation\": \"3\", \"target\": \"compute-aml-cluster\", \"AMLSettingsJsonString\": \"{\\\"path\\\":null,\\\"name\\\":\\\"automl-experiment\\\",\\\"subscription_id\\\":\\\"a0a76bad-11a1-4a2d-9887-97a29122c8ed\\\",\\\"resource_group\\\":\\\"aml-quickstarts-132953\\\",\\\"workspace_name\\\":\\\"quick-starts-ws-132953\\\",\\\"region\\\":\\\"southcentralus\\\",\\\"compute_target\\\":\\\"compute-aml-cluster\\\",\\\"spark_service\\\":null,\\\"azure_service\\\":\\\"remote\\\",\\\"many_models\\\":false,\\\"pipeline_fetch_max_batch_size\\\":1,\\\"iterations\\\":1000,\\\"primary_metric\\\":\\\"accuracy\\\",\\\"task_type\\\":\\\"classification\\\",\\\"data_script\\\":null,\\\"validation_size\\\":0.0,\\\"n_cross_validations\\\":3,\\\"y_min\\\":null,\\\"y_max\\\":null,\\\"num_classes\\\":null,\\\"featurization\\\":\\\"auto\\\",\\\"_ignore_package_version_incompatibilities\\\":false,\\\"is_timeseries\\\":false,\\\"max_cores_per_iteration\\\":-1,\\\"max_concurrent_iterations\\\":10,\\\"iteration_timeout_minutes\\\":null,\\\"mem_in_mb\\\":null,\\\"enforce_time_on_windows\\\":false,\\\"experiment_timeout_minutes\\\":30,\\\"experiment_exit_score\\\":null,\\\"whitelist_models\\\":null,\\\"blacklist_algos\\\":[\\\"TensorFlowLinearClassifier\\\",\\\"TensorFlowDNN\\\"],\\\"supported_models\\\":[\\\"ExtremeRandomTrees\\\",\\\"TensorFlowLinearClassifier\\\",\\\"DecisionTree\\\",\\\"XGBoostClassifier\\\",\\\"LogisticRegression\\\",\\\"TensorFlowDNN\\\",\\\"LightGBM\\\",\\\"LinearSVM\\\",\\\"RandomForest\\\",\\\"AveragedPerceptronClassifier\\\",\\\"SGD\\\",\\\"MultinomialNaiveBayes\\\",\\\"GradientBoosting\\\",\\\"SVM\\\",\\\"KNN\\\",\\\"BernoulliNaiveBayes\\\"],\\\"auto_blacklist\\\":true,\\\"blacklist_samples_reached\\\":false,\\\"exclude_nan_labels\\\":true,\\\"verbosity\\\":20,\\\"_debug_log\\\":\\\"azureml_automl.log\\\",\\\"show_warnings\\\":false,\\\"model_explainability\\\":true,\\\"service_url\\\":null,\\\"sdk_url\\\":null,\\\"sdk_packages\\\":null,\\\"enable_onnx_compatible_models\\\":false,\\\"enable_split_onnx_featurizer_estimator_models\\\":false,\\\"vm_type\\\":\\\"STANDARD_D13_V2\\\",\\\"telemetry_verbosity\\\":20,\\\"send_telemetry\\\":true,\\\"enable_dnn\\\":false,\\\"scenario\\\":\\\"SDK-1.13.0\\\",\\\"environment_label\\\":null,\\\"force_text_dnn\\\":false,\\\"enable_feature_sweeping\\\":true,\\\"enable_early_stopping\\\":true,\\\"early_stopping_n_iters\\\":10,\\\"metrics\\\":null,\\\"enable_ensembling\\\":true,\\\"enable_stack_ensembling\\\":true,\\\"ensemble_iterations\\\":15,\\\"enable_tf\\\":false,\\\"enable_subsampling\\\":null,\\\"subsample_seed\\\":null,\\\"enable_nimbusml\\\":false,\\\"enable_streaming\\\":false,\\\"force_streaming\\\":false,\\\"track_child_runs\\\":true,\\\"allowed_private_models\\\":[],\\\"label_column_name\\\":\\\"Attrition_Flag\\\",\\\"weight_column_name\\\":null,\\\"cv_split_column_names\\\":null,\\\"enable_local_managed\\\":false,\\\"_local_managed_run_id\\\":null,\\\"cost_mode\\\":1,\\\"lag_length\\\":0,\\\"metric_operation\\\":\\\"maximize\\\",\\\"preprocess\\\":true}\", \"DataPrepJsonString\": \"{\\\\\\\"training_data\\\\\\\": \\\\\\\"{\\\\\\\\\\\\\\\"blocks\\\\\\\\\\\\\\\": [{\\\\\\\\\\\\\\\"id\\\\\\\\\\\\\\\": \\\\\\\\\\\\\\\"f70fd9a8-0bb0-40ef-a836-494248ac6289\\\\\\\\\\\\\\\", \\\\\\\\\\\\\\\"type\\\\\\\\\\\\\\\": \\\\\\\\\\\\\\\"Microsoft.DPrep.GetDatastoreFilesBlock\\\\\\\\\\\\\\\", \\\\\\\\\\\\\\\"arguments\\\\\\\\\\\\\\\": {\\\\\\\\\\\\\\\"datastores\\\\\\\\\\\\\\\": [{\\\\\\\\\\\\\\\"datastoreName\\\\\\\\\\\\\\\": \\\\\\\\\\\\\\\"workspaceblobstore\\\\\\\\\\\\\\\", \\\\\\\\\\\\\\\"path\\\\\\\\\\\\\\\": \\\\\\\\\\\\\\\"data/train_data.csv\\\\\\\\\\\\\\\", \\\\\\\\\\\\\\\"resourceGroup\\\\\\\\\\\\\\\": \\\\\\\\\\\\\\\"aml-quickstarts-132953\\\\\\\\\\\\\\\", \\\\\\\\\\\\\\\"subscription\\\\\\\\\\\\\\\": \\\\\\\\\\\\\\\"a0a76bad-11a1-4a2d-9887-97a29122c8ed\\\\\\\\\\\\\\\", \\\\\\\\\\\\\\\"workspaceName\\\\\\\\\\\\\\\": \\\\\\\\\\\\\\\"quick-starts-ws-132953\\\\\\\\\\\\\\\"}]}, \\\\\\\\\\\\\\\"localData\\\\\\\\\\\\\\\": {}, \\\\\\\\\\\\\\\"isEnabled\\\\\\\\\\\\\\\": true, \\\\\\\\\\\\\\\"name\\\\\\\\\\\\\\\": null, \\\\\\\\\\\\\\\"annotation\\\\\\\\\\\\\\\": null}, {\\\\\\\\\\\\\\\"id\\\\\\\\\\\\\\\": \\\\\\\\\\\\\\\"3797fa79-53cd-4214-974b-2d7599048e9c\\\\\\\\\\\\\\\", \\\\\\\\\\\\\\\"type\\\\\\\\\\\\\\\": \\\\\\\\\\\\\\\"Microsoft.DPrep.ParseDelimitedBlock\\\\\\\\\\\\\\\", \\\\\\\\\\\\\\\"arguments\\\\\\\\\\\\\\\": {\\\\\\\\\\\\\\\"columnHeadersMode\\\\\\\\\\\\\\\": 3, \\\\\\\\\\\\\\\"fileEncoding\\\\\\\\\\\\\\\": 0, \\\\\\\\\\\\\\\"handleQuotedLineBreaks\\\\\\\\\\\\\\\": false, \\\\\\\\\\\\\\\"preview\\\\\\\\\\\\\\\": false, \\\\\\\\\\\\\\\"separator\\\\\\\\\\\\\\\": \\\\\\\\\\\\\\\",\\\\\\\\\\\\\\\", \\\\\\\\\\\\\\\"skipRows\\\\\\\\\\\\\\\": 0, \\\\\\\\\\\\\\\"skipRowsMode\\\\\\\\\\\\\\\": 0}, \\\\\\\\\\\\\\\"localData\\\\\\\\\\\\\\\": {}, \\\\\\\\\\\\\\\"isEnabled\\\\\\\\\\\\\\\": true, \\\\\\\\\\\\\\\"name\\\\\\\\\\\\\\\": null, \\\\\\\\\\\\\\\"annotation\\\\\\\\\\\\\\\": null}, {\\\\\\\\\\\\\\\"id\\\\\\\\\\\\\\\": \\\\\\\\\\\\\\\"6efa66b3-bfca-4b76-931f-c796e518a9da\\\\\\\\\\\\\\\", \\\\\\\\\\\\\\\"type\\\\\\\\\\\\\\\": \\\\\\\\\\\\\\\"Microsoft.DPrep.DropColumnsBlock\\\\\\\\\\\\\\\", \\\\\\\\\\\\\\\"arguments\\\\\\\\\\\\\\\": {\\\\\\\\\\\\\\\"columns\\\\\\\\\\\\\\\": {\\\\\\\\\\\\\\\"type\\\\\\\\\\\\\\\": 0, \\\\\\\\\\\\\\\"details\\\\\\\\\\\\\\\": {\\\\\\\\\\\\\\\"selectedColumns\\\\\\\\\\\\\\\": [\\\\\\\\\\\\\\\"Path\\\\\\\\\\\\\\\"]}}}, \\\\\\\\\\\\\\\"localData\\\\\\\\\\\\\\\": {}, \\\\\\\\\\\\\\\"isEnabled\\\\\\\\\\\\\\\": true, \\\\\\\\\\\\\\\"name\\\\\\\\\\\\\\\": null, \\\\\\\\\\\\\\\"annotation\\\\\\\\\\\\\\\": null}, {\\\\\\\\\\\\\\\"id\\\\\\\\\\\\\\\": \\\\\\\\\\\\\\\"f035581e-3f25-42d3-b1c4-b3b79c2d8baf\\\\\\\\\\\\\\\", \\\\\\\\\\\\\\\"type\\\\\\\\\\\\\\\": \\\\\\\\\\\\\\\"Microsoft.DPrep.SetColumnTypesBlock\\\\\\\\\\\\\\\", \\\\\\\\\\\\\\\"arguments\\\\\\\\\\\\\\\": {\\\\\\\\\\\\\\\"columnConversion\\\\\\\\\\\\\\\": [{\\\\\\\\\\\\\\\"column\\\\\\\\\\\\\\\": {\\\\\\\\\\\\\\\"type\\\\\\\\\\\\\\\": 2, \\\\\\\\\\\\\\\"details\\\\\\\\\\\\\\\": {\\\\\\\\\\\\\\\"selectedColumn\\\\\\\\\\\\\\\": \\\\\\\\\\\\\\\"Column1\\\\\\\\\\\\\\\"}}, \\\\\\\\\\\\\\\"typeProperty\\\\\\\\\\\\\\\": 2}, {\\\\\\\\\\\\\\\"column\\\\\\\\\\\\\\\": {\\\\\\\\\\\\\\\"type\\\\\\\\\\\\\\\": 2, \\\\\\\\\\\\\\\"details\\\\\\\\\\\\\\\": {\\\\\\\\\\\\\\\"selectedColumn\\\\\\\\\\\\\\\": \\\\\\\\\\\\\\\"Customer_Age\\\\\\\\\\\\\\\"}}, \\\\\\\\\\\\\\\"typeProperty\\\\\\\\\\\\\\\": 3}, {\\\\\\\\\\\\\\\"column\\\\\\\\\\\\\\\": {\\\\\\\\\\\\\\\"type\\\\\\\\\\\\\\\": 2, \\\\\\\\\\\\\\\"details\\\\\\\\\\\\\\\": {\\\\\\\\\\\\\\\"selectedColumn\\\\\\\\\\\\\\\": \\\\\\\\\\\\\\\"Gender\\\\\\\\\\\\\\\"}}, \\\\\\\\\\\\\\\"typeProperty\\\\\\\\\\\\\\\": 3}, {\\\\\\\\\\\\\\\"column\\\\\\\\\\\\\\\": {\\\\\\\\\\\\\\\"type\\\\\\\\\\\\\\\": 2, \\\\\\\\\\\\\\\"details\\\\\\\\\\\\\\\": {\\\\\\\\\\\\\\\"selectedColumn\\\\\\\\\\\\\\\": \\\\\\\\\\\\\\\"Dependent_count\\\\\\\\\\\\\\\"}}, \\\\\\\\\\\\\\\"typeProperty\\\\\\\\\\\\\\\": 3}, {\\\\\\\\\\\\\\\"column\\\\\\\\\\\\\\\": {\\\\\\\\\\\\\\\"type\\\\\\\\\\\\\\\": 2, \\\\\\\\\\\\\\\"details\\\\\\\\\\\\\\\": {\\\\\\\\\\\\\\\"selectedColumn\\\\\\\\\\\\\\\": \\\\\\\\\\\\\\\"Education_Level\\\\\\\\\\\\\\\"}}, \\\\\\\\\\\\\\\"typeProperty\\\\\\\\\\\\\\\": 3}, {\\\\\\\\\\\\\\\"column\\\\\\\\\\\\\\\": {\\\\\\\\\\\\\\\"type\\\\\\\\\\\\\\\": 2, \\\\\\\\\\\\\\\"details\\\\\\\\\\\\\\\": {\\\\\\\\\\\\\\\"selectedColumn\\\\\\\\\\\\\\\": \\\\\\\\\\\\\\\"Income_Category\\\\\\\\\\\\\\\"}}, \\\\\\\\\\\\\\\"typeProperty\\\\\\\\\\\\\\\": 3}, {\\\\\\\\\\\\\\\"column\\\\\\\\\\\\\\\": {\\\\\\\\\\\\\\\"type\\\\\\\\\\\\\\\": 2, \\\\\\\\\\\\\\\"details\\\\\\\\\\\\\\\": {\\\\\\\\\\\\\\\"selectedColumn\\\\\\\\\\\\\\\": \\\\\\\\\\\\\\\"Months_on_book\\\\\\\\\\\\\\\"}}, \\\\\\\\\\\\\\\"typeProperty\\\\\\\\\\\\\\\": 3}, {\\\\\\\\\\\\\\\"column\\\\\\\\\\\\\\\": {\\\\\\\\\\\\\\\"type\\\\\\\\\\\\\\\": 2, \\\\\\\\\\\\\\\"details\\\\\\\\\\\\\\\": {\\\\\\\\\\\\\\\"selectedColumn\\\\\\\\\\\\\\\": \\\\\\\\\\\\\\\"Total_Relationship_Count\\\\\\\\\\\\\\\"}}, \\\\\\\\\\\\\\\"typeProperty\\\\\\\\\\\\\\\": 3}, {\\\\\\\\\\\\\\\"column\\\\\\\\\\\\\\\": {\\\\\\\\\\\\\\\"type\\\\\\\\\\\\\\\": 2, \\\\\\\\\\\\\\\"details\\\\\\\\\\\\\\\": {\\\\\\\\\\\\\\\"selectedColumn\\\\\\\\\\\\\\\": \\\\\\\\\\\\\\\"Months_Inactive_12_mon\\\\\\\\\\\\\\\"}}, \\\\\\\\\\\\\\\"typeProperty\\\\\\\\\\\\\\\": 3}, {\\\\\\\\\\\\\\\"column\\\\\\\\\\\\\\\": {\\\\\\\\\\\\\\\"type\\\\\\\\\\\\\\\": 2, \\\\\\\\\\\\\\\"details\\\\\\\\\\\\\\\": {\\\\\\\\\\\\\\\"selectedColumn\\\\\\\\\\\\\\\": \\\\\\\\\\\\\\\"Contacts_Count_12_mon\\\\\\\\\\\\\\\"}}, \\\\\\\\\\\\\\\"typeProperty\\\\\\\\\\\\\\\": 3}, {\\\\\\\\\\\\\\\"column\\\\\\\\\\\\\\\": {\\\\\\\\\\\\\\\"type\\\\\\\\\\\\\\\": 2, \\\\\\\\\\\\\\\"details\\\\\\\\\\\\\\\": {\\\\\\\\\\\\\\\"selectedColumn\\\\\\\\\\\\\\\": \\\\\\\\\\\\\\\"Credit_Limit\\\\\\\\\\\\\\\"}}, \\\\\\\\\\\\\\\"typeProperty\\\\\\\\\\\\\\\": 3}, {\\\\\\\\\\\\\\\"column\\\\\\\\\\\\\\\": {\\\\\\\\\\\\\\\"type\\\\\\\\\\\\\\\": 2, \\\\\\\\\\\\\\\"details\\\\\\\\\\\\\\\": {\\\\\\\\\\\\\\\"selectedColumn\\\\\\\\\\\\\\\": \\\\\\\\\\\\\\\"Total_Revolving_Bal\\\\\\\\\\\\\\\"}}, \\\\\\\\\\\\\\\"typeProperty\\\\\\\\\\\\\\\": 3}, {\\\\\\\\\\\\\\\"column\\\\\\\\\\\\\\\": {\\\\\\\\\\\\\\\"type\\\\\\\\\\\\\\\": 2, \\\\\\\\\\\\\\\"details\\\\\\\\\\\\\\\": {\\\\\\\\\\\\\\\"selectedColumn\\\\\\\\\\\\\\\": \\\\\\\\\\\\\\\"Avg_Open_To_Buy\\\\\\\\\\\\\\\"}}, \\\\\\\\\\\\\\\"typeProperty\\\\\\\\\\\\\\\": 3}, {\\\\\\\\\\\\\\\"column\\\\\\\\\\\\\\\": {\\\\\\\\\\\\\\\"type\\\\\\\\\\\\\\\": 2, \\\\\\\\\\\\\\\"details\\\\\\\\\\\\\\\": {\\\\\\\\\\\\\\\"selectedColumn\\\\\\\\\\\\\\\": \\\\\\\\\\\\\\\"Total_Amt_Chng_Q4_Q1\\\\\\\\\\\\\\\"}}, \\\\\\\\\\\\\\\"typeProperty\\\\\\\\\\\\\\\": 3}, {\\\\\\\\\\\\\\\"column\\\\\\\\\\\\\\\": {\\\\\\\\\\\\\\\"type\\\\\\\\\\\\\\\": 2, \\\\\\\\\\\\\\\"details\\\\\\\\\\\\\\\": {\\\\\\\\\\\\\\\"selectedColumn\\\\\\\\\\\\\\\": \\\\\\\\\\\\\\\"Total_Trans_Amt\\\\\\\\\\\\\\\"}}, \\\\\\\\\\\\\\\"typeProperty\\\\\\\\\\\\\\\": 3}, {\\\\\\\\\\\\\\\"column\\\\\\\\\\\\\\\": {\\\\\\\\\\\\\\\"type\\\\\\\\\\\\\\\": 2, \\\\\\\\\\\\\\\"details\\\\\\\\\\\\\\\": {\\\\\\\\\\\\\\\"selectedColumn\\\\\\\\\\\\\\\": \\\\\\\\\\\\\\\"Total_Trans_Ct\\\\\\\\\\\\\\\"}}, \\\\\\\\\\\\\\\"typeProperty\\\\\\\\\\\\\\\": 3}, {\\\\\\\\\\\\\\\"column\\\\\\\\\\\\\\\": {\\\\\\\\\\\\\\\"type\\\\\\\\\\\\\\\": 2, \\\\\\\\\\\\\\\"details\\\\\\\\\\\\\\\": {\\\\\\\\\\\\\\\"selectedColumn\\\\\\\\\\\\\\\": \\\\\\\\\\\\\\\"Total_Ct_Chng_Q4_Q1\\\\\\\\\\\\\\\"}}, \\\\\\\\\\\\\\\"typeProperty\\\\\\\\\\\\\\\": 3}, {\\\\\\\\\\\\\\\"column\\\\\\\\\\\\\\\": {\\\\\\\\\\\\\\\"type\\\\\\\\\\\\\\\": 2, \\\\\\\\\\\\\\\"details\\\\\\\\\\\\\\\": {\\\\\\\\\\\\\\\"selectedColumn\\\\\\\\\\\\\\\": \\\\\\\\\\\\\\\"Avg_Utilization_Ratio\\\\\\\\\\\\\\\"}}, \\\\\\\\\\\\\\\"typeProperty\\\\\\\\\\\\\\\": 3}, {\\\\\\\\\\\\\\\"column\\\\\\\\\\\\\\\": {\\\\\\\\\\\\\\\"type\\\\\\\\\\\\\\\": 2, \\\\\\\\\\\\\\\"details\\\\\\\\\\\\\\\": {\\\\\\\\\\\\\\\"selectedColumn\\\\\\\\\\\\\\\": \\\\\\\\\\\\\\\"Marital_Status_Divorced\\\\\\\\\\\\\\\"}}, \\\\\\\\\\\\\\\"typeProperty\\\\\\\\\\\\\\\": 3}, {\\\\\\\\\\\\\\\"column\\\\\\\\\\\\\\\": {\\\\\\\\\\\\\\\"type\\\\\\\\\\\\\\\": 2, \\\\\\\\\\\\\\\"details\\\\\\\\\\\\\\\": {\\\\\\\\\\\\\\\"selectedColumn\\\\\\\\\\\\\\\": \\\\\\\\\\\\\\\"Marital_Status_Married\\\\\\\\\\\\\\\"}}, \\\\\\\\\\\\\\\"typeProperty\\\\\\\\\\\\\\\": 3}, {\\\\\\\\\\\\\\\"column\\\\\\\\\\\\\\\": {\\\\\\\\\\\\\\\"type\\\\\\\\\\\\\\\": 2, \\\\\\\\\\\\\\\"details\\\\\\\\\\\\\\\": {\\\\\\\\\\\\\\\"selectedColumn\\\\\\\\\\\\\\\": \\\\\\\\\\\\\\\"Marital_Status_Single\\\\\\\\\\\\\\\"}}, \\\\\\\\\\\\\\\"typeProperty\\\\\\\\\\\\\\\": 3}, {\\\\\\\\\\\\\\\"column\\\\\\\\\\\\\\\": {\\\\\\\\\\\\\\\"type\\\\\\\\\\\\\\\": 2, \\\\\\\\\\\\\\\"details\\\\\\\\\\\\\\\": {\\\\\\\\\\\\\\\"selectedColumn\\\\\\\\\\\\\\\": \\\\\\\\\\\\\\\"Card_Category_Blue\\\\\\\\\\\\\\\"}}, \\\\\\\\\\\\\\\"typeProperty\\\\\\\\\\\\\\\": 3}, {\\\\\\\\\\\\\\\"column\\\\\\\\\\\\\\\": {\\\\\\\\\\\\\\\"type\\\\\\\\\\\\\\\": 2, \\\\\\\\\\\\\\\"details\\\\\\\\\\\\\\\": {\\\\\\\\\\\\\\\"selectedColumn\\\\\\\\\\\\\\\": \\\\\\\\\\\\\\\"Card_Category_Gold\\\\\\\\\\\\\\\"}}, \\\\\\\\\\\\\\\"typeProperty\\\\\\\\\\\\\\\": 3}, {\\\\\\\\\\\\\\\"column\\\\\\\\\\\\\\\": {\\\\\\\\\\\\\\\"type\\\\\\\\\\\\\\\": 2, \\\\\\\\\\\\\\\"details\\\\\\\\\\\\\\\": {\\\\\\\\\\\\\\\"selectedColumn\\\\\\\\\\\\\\\": \\\\\\\\\\\\\\\"Card_Category_Platinum\\\\\\\\\\\\\\\"}}, \\\\\\\\\\\\\\\"typeProperty\\\\\\\\\\\\\\\": 3}, {\\\\\\\\\\\\\\\"column\\\\\\\\\\\\\\\": {\\\\\\\\\\\\\\\"type\\\\\\\\\\\\\\\": 2, \\\\\\\\\\\\\\\"details\\\\\\\\\\\\\\\": {\\\\\\\\\\\\\\\"selectedColumn\\\\\\\\\\\\\\\": \\\\\\\\\\\\\\\"Card_Category_Silver\\\\\\\\\\\\\\\"}}, \\\\\\\\\\\\\\\"typeProperty\\\\\\\\\\\\\\\": 3}, {\\\\\\\\\\\\\\\"column\\\\\\\\\\\\\\\": {\\\\\\\\\\\\\\\"type\\\\\\\\\\\\\\\": 2, \\\\\\\\\\\\\\\"details\\\\\\\\\\\\\\\": {\\\\\\\\\\\\\\\"selectedColumn\\\\\\\\\\\\\\\": \\\\\\\\\\\\\\\"Attrition_Flag\\\\\\\\\\\\\\\"}}, \\\\\\\\\\\\\\\"typeProperty\\\\\\\\\\\\\\\": 2}]}, \\\\\\\\\\\\\\\"localData\\\\\\\\\\\\\\\": {}, \\\\\\\\\\\\\\\"isEnabled\\\\\\\\\\\\\\\": true, \\\\\\\\\\\\\\\"name\\\\\\\\\\\\\\\": null, \\\\\\\\\\\\\\\"annotation\\\\\\\\\\\\\\\": null}], \\\\\\\\\\\\\\\"inspectors\\\\\\\\\\\\\\\": [], \\\\\\\\\\\\\\\"meta\\\\\\\\\\\\\\\": {\\\\\\\\\\\\\\\"savedDatasetId\\\\\\\\\\\\\\\": \\\\\\\\\\\\\\\"1954928b-f3bb-49e3-8854-862517f33c10\\\\\\\\\\\\\\\", \\\\\\\\\\\\\\\"datasetType\\\\\\\\\\\\\\\": \\\\\\\\\\\\\\\"tabular\\\\\\\\\\\\\\\", \\\\\\\\\\\\\\\"subscriptionId\\\\\\\\\\\\\\\": \\\\\\\\\\\\\\\"a0a76bad-11a1-4a2d-9887-97a29122c8ed\\\\\\\\\\\\\\\", \\\\\\\\\\\\\\\"workspaceId\\\\\\\\\\\\\\\": \\\\\\\\\\\\\\\"702fe34b-98da-4a84-a097-88511a2080e2\\\\\\\\\\\\\\\", \\\\\\\\\\\\\\\"workspaceLocation\\\\\\\\\\\\\\\": \\\\\\\\\\\\\\\"southcentralus\\\\\\\\\\\\\\\"}}\\\\\\\", \\\\\\\"activities\\\\\\\": 0}\", \"EnableSubsampling\": null, \"runTemplate\": \"AutoML\", \"azureml.runsource\": \"automl\", \"display_task_type\": \"classification\", \"dependencies_versions\": \"{\\\"azureml-widgets\\\": \\\"1.19.0\\\", \\\"azureml-train\\\": \\\"1.19.0\\\", \\\"azureml-train-restclients-hyperdrive\\\": \\\"1.19.0\\\", \\\"azureml-train-core\\\": \\\"1.19.0\\\", \\\"azureml-train-automl\\\": \\\"1.19.0\\\", \\\"azureml-train-automl-runtime\\\": \\\"1.19.0\\\", \\\"azureml-train-automl-client\\\": \\\"1.19.0\\\", \\\"azureml-tensorboard\\\": \\\"1.19.0\\\", \\\"azureml-telemetry\\\": \\\"1.19.0\\\", \\\"azureml-sdk\\\": \\\"1.19.0\\\", \\\"azureml-samples\\\": \\\"0+unknown\\\", \\\"azureml-pipeline\\\": \\\"1.19.0\\\", \\\"azureml-pipeline-steps\\\": \\\"1.19.0\\\", \\\"azureml-pipeline-core\\\": \\\"1.19.0\\\", \\\"azureml-opendatasets\\\": \\\"1.19.0\\\", \\\"azureml-model-management-sdk\\\": \\\"1.0.1b6.post1\\\", \\\"azureml-mlflow\\\": \\\"1.19.0\\\", \\\"azureml-interpret\\\": \\\"1.19.0\\\", \\\"azureml-explain-model\\\": \\\"1.19.0\\\", \\\"azureml-defaults\\\": \\\"1.19.0\\\", \\\"azureml-dataset-runtime\\\": \\\"1.19.0\\\", \\\"azureml-dataprep\\\": \\\"2.6.1\\\", \\\"azureml-dataprep-rslex\\\": \\\"1.4.0\\\", \\\"azureml-dataprep-native\\\": \\\"26.0.0\\\", \\\"azureml-datadrift\\\": \\\"1.19.0\\\", \\\"azureml-core\\\": \\\"1.19.0\\\", \\\"azureml-contrib-services\\\": \\\"1.19.0\\\", \\\"azureml-contrib-server\\\": \\\"1.19.0\\\", \\\"azureml-contrib-reinforcementlearning\\\": \\\"1.19.0\\\", \\\"azureml-contrib-pipeline-steps\\\": \\\"1.19.0\\\", \\\"azureml-contrib-notebook\\\": \\\"1.19.0\\\", \\\"azureml-contrib-interpret\\\": \\\"1.19.0\\\", \\\"azureml-contrib-gbdt\\\": \\\"1.19.0\\\", \\\"azureml-contrib-fairness\\\": \\\"1.19.0\\\", \\\"azureml-contrib-dataset\\\": \\\"1.19.0\\\", \\\"azureml-cli-common\\\": \\\"1.19.0\\\", \\\"azureml-automl-runtime\\\": \\\"1.19.0\\\", \\\"azureml-automl-core\\\": \\\"1.19.0\\\", \\\"azureml-accel-models\\\": \\\"1.19.0\\\"}\", \"_aml_system_scenario_identification\": \"Remote.Parent\", \"ClientType\": \"SDK\", \"environment_cpu_name\": \"AzureML-AutoML\", \"environment_cpu_label\": \"prod\", \"environment_gpu_name\": \"AzureML-AutoML-GPU\", \"environment_gpu_label\": \"prod\", \"root_attribution\": \"automl\", \"attribution\": \"AutoML\", \"Orchestrator\": \"AutoML\", \"CancelUri\": \"https://southcentralus.experiments.azureml.net/jasmine/v1.0/subscriptions/a0a76bad-11a1-4a2d-9887-97a29122c8ed/resourceGroups/aml-quickstarts-132953/providers/Microsoft.MachineLearningServices/workspaces/quick-starts-ws-132953/experimentids/008b8854-e005-4ed3-ad3c-cb11c42dcd57/cancel/AutoML_4796283c-20a9-478b-b3c1-d77aca018967\", \"ClientSdkVersion\": \"1.19.0\", \"snapshotId\": \"00000000-0000-0000-0000-000000000000\", \"SetupRunId\": \"AutoML_4796283c-20a9-478b-b3c1-d77aca018967_setup\", \"SetupRunContainerId\": \"dcid.AutoML_4796283c-20a9-478b-b3c1-d77aca018967_setup\", \"FeaturizationRunJsonPath\": \"featurizer_container.json\", \"FeaturizationRunId\": \"AutoML_4796283c-20a9-478b-b3c1-d77aca018967_featurize\", \"ProblemInfoJsonString\": \"{\\\"dataset_num_categorical\\\": 0, \\\"is_sparse\\\": false, \\\"subsampling\\\": false, \\\"dataset_classes\\\": 2, \\\"dataset_features\\\": 25, \\\"dataset_samples\\\": 8101, \\\"single_frequency_class_detected\\\": false}\", \"ModelExplainRunId\": \"AutoML_4796283c-20a9-478b-b3c1-d77aca018967_ModelExplain\"}, \"tags\": {\"model_explain_run\": \"best_run\", \"_aml_system_azureml.automlComponent\": \"AutoML\", \"pipeline_id\": \"\", \"score\": \"\", \"predicted_cost\": \"\", \"fit_time\": \"\", \"training_percent\": \"\", \"iteration\": \"\", \"run_preprocessor\": \"\", \"run_algorithm\": \"\", \"dynamic_whitelisting_iterations\": \"<25>;<30>;<35>;<40>;<45>;<49>;\", \"automl_best_child_run_id\": \"AutoML_4796283c-20a9-478b-b3c1-d77aca018967_53\"}, \"end_time_utc\": \"2021-01-02T15:13:59.146409Z\", \"status\": \"Completed\", \"log_files\": {}, \"log_groups\": [], \"run_duration\": \"0:14:03\"}, \"child_runs\": [{\"run_id\": \"AutoML_4796283c-20a9-478b-b3c1-d77aca018967_1\", \"run_number\": 6, \"metric\": null, \"status\": \"Completed\", \"run_type\": \"azureml.scriptrun\", \"training_percent\": \"100\", \"start_time\": \"2021-01-02T15:04:51.358491Z\", \"end_time\": \"2021-01-02T15:05:46.033942Z\", \"created_time\": \"2021-01-02T15:04:36.778478Z\", \"created_time_dt\": \"2021-01-02T15:04:36.778478Z\", \"duration\": \"0:01:09\", \"iteration\": \"1\", \"goal\": \"accuracy_max\", \"run_name\": \"MaxAbsScaler, XGBoostClassifier\", \"run_properties\": \"copy=True\", \"primary_metric\": 0.98531061, \"best_metric\": 0.98740896}, {\"run_id\": \"AutoML_4796283c-20a9-478b-b3c1-d77aca018967_7\", \"run_number\": 7, \"metric\": null, \"status\": \"Completed\", \"run_type\": \"azureml.scriptrun\", \"training_percent\": \"100\", \"start_time\": \"2021-01-02T15:04:49.999995Z\", \"end_time\": \"2021-01-02T15:07:17.206523Z\", \"created_time\": \"2021-01-02T15:04:36.932375Z\", \"created_time_dt\": \"2021-01-02T15:04:36.932375Z\", \"duration\": \"0:02:40\", \"iteration\": \"7\", \"goal\": \"accuracy_max\", \"run_name\": \"SparseNormalizer, XGBoostClassifier\", \"run_properties\": \"<azureml.automl.runtime.shared.model_wrappers.SparseNormalizer object at 0x7f27ce119320\", \"primary_metric\": 0.98061939, \"best_metric\": 0.98740896}, {\"run_id\": \"AutoML_4796283c-20a9-478b-b3c1-d77aca018967_0\", \"run_number\": 8, \"metric\": null, \"status\": \"Completed\", \"run_type\": \"azureml.scriptrun\", \"training_percent\": \"100\", \"start_time\": \"2021-01-02T15:04:48.96346Z\", \"end_time\": \"2021-01-02T15:06:00.767494Z\", \"created_time\": \"2021-01-02T15:04:36.920212Z\", \"created_time_dt\": \"2021-01-02T15:04:36.920212Z\", \"duration\": \"0:01:23\", \"iteration\": \"0\", \"goal\": \"accuracy_max\", \"run_name\": \"MaxAbsScaler, LightGBM\", \"run_properties\": \"copy=True\", \"primary_metric\": 0.98740896, \"best_metric\": 0.98740896}, {\"run_id\": \"AutoML_4796283c-20a9-478b-b3c1-d77aca018967_6\", \"run_number\": 9, \"metric\": null, \"status\": \"Completed\", \"run_type\": \"azureml.scriptrun\", \"training_percent\": \"100\", \"start_time\": \"2021-01-02T15:04:49.606755Z\", \"end_time\": \"2021-01-02T15:06:09.820533Z\", \"created_time\": \"2021-01-02T15:04:36.932748Z\", \"created_time_dt\": \"2021-01-02T15:04:36.932748Z\", \"duration\": \"0:01:32\", \"iteration\": \"6\", \"goal\": \"accuracy_max\", \"run_name\": \"SparseNormalizer, XGBoostClassifier\", \"run_properties\": \"<azureml.automl.runtime.shared.model_wrappers.SparseNormalizer object at 0x7fe33cd28b38\", \"primary_metric\": 0.97383041, \"best_metric\": 0.98740896}, {\"run_id\": \"AutoML_4796283c-20a9-478b-b3c1-d77aca018967_9\", \"run_number\": 10, \"metric\": null, \"status\": \"Completed\", \"run_type\": \"azureml.scriptrun\", \"training_percent\": \"100\", \"start_time\": \"2021-01-02T15:04:48.890488Z\", \"end_time\": \"2021-01-02T15:06:01.555567Z\", \"created_time\": \"2021-01-02T15:04:36.980098Z\", \"created_time_dt\": \"2021-01-02T15:04:36.980098Z\", \"duration\": \"0:01:24\", \"iteration\": \"9\", \"goal\": \"accuracy_max\", \"run_name\": \"RobustScaler, LightGBM\", \"run_properties\": \"copy=True, quantile_range=[25, 75], with_centering=False,\\n             with_scaling=False\", \"primary_metric\": 0.97913832, \"best_metric\": 0.98740896}, {\"run_id\": \"AutoML_4796283c-20a9-478b-b3c1-d77aca018967_3\", \"run_number\": 11, \"metric\": null, \"status\": \"Completed\", \"run_type\": \"azureml.scriptrun\", \"training_percent\": \"100\", \"start_time\": \"2021-01-02T15:04:50.713163Z\", \"end_time\": \"2021-01-02T15:05:36.279649Z\", \"created_time\": \"2021-01-02T15:04:36.972063Z\", \"created_time_dt\": \"2021-01-02T15:04:36.972063Z\", \"duration\": \"0:00:59\", \"iteration\": \"3\", \"goal\": \"accuracy_max\", \"run_name\": \"MinMaxScaler, RandomForest\", \"run_properties\": \"copy=True, feature_range=(0, 1\", \"primary_metric\": 0.90741911, \"best_metric\": 0.98740896}, {\"run_id\": \"AutoML_4796283c-20a9-478b-b3c1-d77aca018967_8\", \"run_number\": 12, \"metric\": null, \"status\": \"Completed\", \"run_type\": \"azureml.scriptrun\", \"training_percent\": \"100\", \"start_time\": \"2021-01-02T15:04:50.293808Z\", \"end_time\": \"2021-01-02T15:05:51.58143Z\", \"created_time\": \"2021-01-02T15:04:37.005705Z\", \"created_time_dt\": \"2021-01-02T15:04:37.005705Z\", \"duration\": \"0:01:14\", \"iteration\": \"8\", \"goal\": \"accuracy_max\", \"run_name\": \"MinMaxScaler, LightGBM\", \"run_properties\": \"copy=True, feature_range=(0, 1\", \"primary_metric\": 0.97864472, \"best_metric\": 0.98740896}, {\"run_id\": \"AutoML_4796283c-20a9-478b-b3c1-d77aca018967_4\", \"run_number\": 13, \"metric\": null, \"status\": \"Completed\", \"run_type\": \"azureml.scriptrun\", \"training_percent\": \"100\", \"start_time\": \"2021-01-02T15:04:49.242639Z\", \"end_time\": \"2021-01-02T15:05:37.449406Z\", \"created_time\": \"2021-01-02T15:04:36.940693Z\", \"created_time_dt\": \"2021-01-02T15:04:36.940693Z\", \"duration\": \"0:01:00\", \"iteration\": \"4\", \"goal\": \"accuracy_max\", \"run_name\": \"MinMaxScaler, RandomForest\", \"run_properties\": \"copy=True, feature_range=(0, 1\", \"primary_metric\": 0.94222931, \"best_metric\": 0.98740896}, {\"run_id\": \"AutoML_4796283c-20a9-478b-b3c1-d77aca018967_2\", \"run_number\": 14, \"metric\": null, \"status\": \"Completed\", \"run_type\": \"azureml.scriptrun\", \"training_percent\": \"100\", \"start_time\": \"2021-01-02T15:04:50.249415Z\", \"end_time\": \"2021-01-02T15:05:40.067865Z\", \"created_time\": \"2021-01-02T15:04:36.948099Z\", \"created_time_dt\": \"2021-01-02T15:04:36.948099Z\", \"duration\": \"0:01:03\", \"iteration\": \"2\", \"goal\": \"accuracy_max\", \"run_name\": \"MinMaxScaler, RandomForest\", \"run_properties\": \"copy=True, feature_range=(0, 1\", \"primary_metric\": 0.93346584, \"best_metric\": 0.98740896}, {\"run_id\": \"AutoML_4796283c-20a9-478b-b3c1-d77aca018967_5\", \"run_number\": 15, \"metric\": null, \"status\": \"Completed\", \"run_type\": \"azureml.scriptrun\", \"training_percent\": \"100\", \"start_time\": \"2021-01-02T15:04:49.499641Z\", \"end_time\": \"2021-01-02T15:05:43.486905Z\", \"created_time\": \"2021-01-02T15:04:36.967033Z\", \"created_time_dt\": \"2021-01-02T15:04:36.967033Z\", \"duration\": \"0:01:06\", \"iteration\": \"5\", \"goal\": \"accuracy_max\", \"run_name\": \"SparseNormalizer, XGBoostClassifier\", \"run_properties\": \"<azureml.automl.runtime.shared.model_wrappers.SparseNormalizer object at 0x7f3471ea0550\", \"primary_metric\": 0.96901609, \"best_metric\": 0.98740896}, {\"run_id\": \"AutoML_4796283c-20a9-478b-b3c1-d77aca018967_10\", \"run_number\": 16, \"metric\": null, \"status\": \"Completed\", \"run_type\": \"azureml.scriptrun\", \"training_percent\": \"100\", \"start_time\": \"2021-01-02T15:05:57.668277Z\", \"end_time\": \"2021-01-02T15:07:25.648885Z\", \"created_time\": \"2021-01-02T15:05:42.537418Z\", \"created_time_dt\": \"2021-01-02T15:05:42.537418Z\", \"duration\": \"0:01:43\", \"iteration\": \"10\", \"goal\": \"accuracy_max\", \"run_name\": \"StandardScalerWrapper, XGBoostClassifier\", \"run_properties\": \"<azureml.automl.runtime.shared.model_wrappers.StandardScalerWrapper object at 0x7fda3b55f588\", \"primary_metric\": 0.98555743, \"best_metric\": 0.98740896}, {\"run_id\": \"AutoML_4796283c-20a9-478b-b3c1-d77aca018967_12\", \"run_number\": 17, \"metric\": null, \"status\": \"Completed\", \"run_type\": \"azureml.scriptrun\", \"training_percent\": \"100\", \"start_time\": \"2021-01-02T15:06:00.56523Z\", \"end_time\": \"2021-01-02T15:07:14.364748Z\", \"created_time\": \"2021-01-02T15:05:48.007357Z\", \"created_time_dt\": \"2021-01-02T15:05:48.007357Z\", \"duration\": \"0:01:26\", \"iteration\": \"12\", \"goal\": \"accuracy_max\", \"run_name\": \"SparseNormalizer, XGBoostClassifier\", \"run_properties\": \"<azureml.automl.runtime.shared.model_wrappers.SparseNormalizer object at 0x7f12b6cbaf98\", \"primary_metric\": 0.97395359, \"best_metric\": 0.98740896}, {\"run_id\": \"AutoML_4796283c-20a9-478b-b3c1-d77aca018967_13\", \"run_number\": 18, \"metric\": null, \"status\": \"Completed\", \"run_type\": \"azureml.scriptrun\", \"training_percent\": \"100\", \"start_time\": \"2021-01-02T15:06:00.77893Z\", \"end_time\": \"2021-01-02T15:07:34.009279Z\", \"created_time\": \"2021-01-02T15:05:48.013201Z\", \"created_time_dt\": \"2021-01-02T15:05:48.013201Z\", \"duration\": \"0:01:45\", \"iteration\": \"13\", \"goal\": \"accuracy_max\", \"run_name\": \"SparseNormalizer, XGBoostClassifier\", \"run_properties\": \"<azureml.automl.runtime.shared.model_wrappers.SparseNormalizer object at 0x7f8b41b0e550\", \"primary_metric\": 0.97827407, \"best_metric\": 0.98740896}, {\"run_id\": \"AutoML_4796283c-20a9-478b-b3c1-d77aca018967_11\", \"run_number\": 19, \"metric\": null, \"status\": \"Completed\", \"run_type\": \"azureml.scriptrun\", \"training_percent\": \"100\", \"start_time\": \"2021-01-02T15:06:02.72356Z\", \"end_time\": \"2021-01-02T15:07:26.989648Z\", \"created_time\": \"2021-01-02T15:05:48.174985Z\", \"created_time_dt\": \"2021-01-02T15:05:48.174985Z\", \"duration\": \"0:01:38\", \"iteration\": \"11\", \"goal\": \"accuracy_max\", \"run_name\": \"SparseNormalizer, XGBoostClassifier\", \"run_properties\": \"<azureml.automl.runtime.shared.model_wrappers.SparseNormalizer object at 0x7f7e557fd5c0\", \"primary_metric\": 0.97876804, \"best_metric\": 0.98740896}, {\"run_id\": \"AutoML_4796283c-20a9-478b-b3c1-d77aca018967_15\", \"run_number\": 20, \"metric\": null, \"status\": \"Completed\", \"run_type\": \"azureml.scriptrun\", \"training_percent\": \"100\", \"start_time\": \"2021-01-02T15:06:08.403266Z\", \"end_time\": \"2021-01-02T15:07:07.649298Z\", \"created_time\": \"2021-01-02T15:05:56.536182Z\", \"created_time_dt\": \"2021-01-02T15:05:56.536182Z\", \"duration\": \"0:01:11\", \"iteration\": \"15\", \"goal\": \"accuracy_max\", \"run_name\": \"MaxAbsScaler, LogisticRegression\", \"run_properties\": \"copy=True\", \"primary_metric\": 0.95099369, \"best_metric\": 0.98740896}, {\"run_id\": \"AutoML_4796283c-20a9-478b-b3c1-d77aca018967_14\", \"run_number\": 21, \"metric\": null, \"status\": \"Completed\", \"run_type\": \"azureml.scriptrun\", \"training_percent\": \"100\", \"start_time\": \"2021-01-02T15:06:09.489608Z\", \"end_time\": \"2021-01-02T15:07:26.68274Z\", \"created_time\": \"2021-01-02T15:05:56.692949Z\", \"created_time_dt\": \"2021-01-02T15:05:56.692949Z\", \"duration\": \"0:01:29\", \"iteration\": \"14\", \"goal\": \"accuracy_max\", \"run_name\": \"SparseNormalizer, XGBoostClassifier\", \"run_properties\": \"<azureml.automl.runtime.shared.model_wrappers.SparseNormalizer object at 0x7f42b0c45a58\", \"primary_metric\": 0.97728656, \"best_metric\": 0.98740896}, {\"run_id\": \"AutoML_4796283c-20a9-478b-b3c1-d77aca018967_16\", \"run_number\": 22, \"metric\": null, \"status\": \"Completed\", \"run_type\": \"azureml.scriptrun\", \"training_percent\": \"100\", \"start_time\": \"2021-01-02T15:06:15.316739Z\", \"end_time\": \"2021-01-02T15:07:21.400655Z\", \"created_time\": \"2021-01-02T15:06:03.207009Z\", \"created_time_dt\": \"2021-01-02T15:06:03.207009Z\", \"duration\": \"0:01:18\", \"iteration\": \"16\", \"goal\": \"accuracy_max\", \"run_name\": \"StandardScalerWrapper, XGBoostClassifier\", \"run_properties\": \"<azureml.automl.runtime.shared.model_wrappers.StandardScalerWrapper object at 0x7f49d83b4208\", \"primary_metric\": 0.97049762, \"best_metric\": 0.98740896}, {\"run_id\": \"AutoML_4796283c-20a9-478b-b3c1-d77aca018967_17\", \"run_number\": 23, \"metric\": null, \"status\": \"Completed\", \"run_type\": \"azureml.scriptrun\", \"training_percent\": \"100\", \"start_time\": \"2021-01-02T15:06:22.063542Z\", \"end_time\": \"2021-01-02T15:07:33.962646Z\", \"created_time\": \"2021-01-02T15:06:09.825848Z\", \"created_time_dt\": \"2021-01-02T15:06:09.825848Z\", \"duration\": \"0:01:24\", \"iteration\": \"17\", \"goal\": \"accuracy_max\", \"run_name\": \"SparseNormalizer, XGBoostClassifier\", \"run_properties\": \"<azureml.automl.runtime.shared.model_wrappers.SparseNormalizer object at 0x7fa1f81b2278\", \"primary_metric\": 0.97716328, \"best_metric\": 0.98740896}, {\"run_id\": \"AutoML_4796283c-20a9-478b-b3c1-d77aca018967_18\", \"run_number\": 24, \"metric\": null, \"status\": \"Completed\", \"run_type\": \"azureml.scriptrun\", \"training_percent\": \"100\", \"start_time\": \"2021-01-02T15:06:29.119306Z\", \"end_time\": \"2021-01-02T15:07:26.265503Z\", \"created_time\": \"2021-01-02T15:06:17.136725Z\", \"created_time_dt\": \"2021-01-02T15:06:17.136725Z\", \"duration\": \"0:01:09\", \"iteration\": \"18\", \"goal\": \"accuracy_max\", \"run_name\": \"StandardScalerWrapper, LightGBM\", \"run_properties\": \"<azureml.automl.runtime.shared.model_wrappers.StandardScalerWrapper object at 0x7f05406fe198\", \"primary_metric\": 0.88729766, \"best_metric\": 0.98740896}, {\"run_id\": \"AutoML_4796283c-20a9-478b-b3c1-d77aca018967_19\", \"run_number\": 25, \"metric\": null, \"status\": \"Completed\", \"run_type\": \"azureml.scriptrun\", \"training_percent\": \"100\", \"start_time\": \"2021-01-02T15:07:27.558299Z\", \"end_time\": \"2021-01-02T15:08:26.305825Z\", \"created_time\": \"2021-01-02T15:07:10.501563Z\", \"created_time_dt\": \"2021-01-02T15:07:10.501563Z\", \"duration\": \"0:01:15\", \"iteration\": \"19\", \"goal\": \"accuracy_max\", \"run_name\": \"MaxAbsScaler, LightGBM\", \"run_properties\": \"copy=True\", \"primary_metric\": 0.91914517, \"best_metric\": 0.98740896}, {\"run_id\": \"AutoML_4796283c-20a9-478b-b3c1-d77aca018967_20\", \"run_number\": 26, \"metric\": null, \"status\": \"Completed\", \"run_type\": \"azureml.scriptrun\", \"training_percent\": \"100\", \"start_time\": \"2021-01-02T15:07:30.665571Z\", \"end_time\": \"2021-01-02T15:08:25.196116Z\", \"created_time\": \"2021-01-02T15:07:17.088435Z\", \"created_time_dt\": \"2021-01-02T15:07:17.088435Z\", \"duration\": \"0:01:08\", \"iteration\": \"20\", \"goal\": \"accuracy_max\", \"run_name\": \"StandardScalerWrapper, LightGBM\", \"run_properties\": \"<azureml.automl.runtime.shared.model_wrappers.StandardScalerWrapper object at 0x7fa1d8e31128\", \"primary_metric\": 0.93420535, \"best_metric\": 0.98740896}, {\"run_id\": \"AutoML_4796283c-20a9-478b-b3c1-d77aca018967_21\", \"run_number\": 27, \"metric\": null, \"status\": \"Completed\", \"run_type\": \"azureml.scriptrun\", \"training_percent\": \"100\", \"start_time\": \"2021-01-02T15:07:35.799847Z\", \"end_time\": \"2021-01-02T15:08:23.878107Z\", \"created_time\": \"2021-01-02T15:07:22.997828Z\", \"created_time_dt\": \"2021-01-02T15:07:22.997828Z\", \"duration\": \"0:01:00\", \"iteration\": \"21\", \"goal\": \"accuracy_max\", \"run_name\": \"StandardScalerWrapper, LightGBM\", \"run_properties\": \"<azureml.automl.runtime.shared.model_wrappers.StandardScalerWrapper object at 0x7fa03a843f98\", \"primary_metric\": 0.91420745, \"best_metric\": 0.98740896}, {\"run_id\": \"AutoML_4796283c-20a9-478b-b3c1-d77aca018967_22\", \"run_number\": 28, \"metric\": null, \"status\": \"Completed\", \"run_type\": \"azureml.scriptrun\", \"training_percent\": \"100\", \"start_time\": \"2021-01-02T15:07:42.244827Z\", \"end_time\": \"2021-01-02T15:09:06.251533Z\", \"created_time\": \"2021-01-02T15:07:28.634097Z\", \"created_time_dt\": \"2021-01-02T15:07:28.634097Z\", \"duration\": \"0:01:37\", \"iteration\": \"22\", \"goal\": \"accuracy_max\", \"run_name\": \"MaxAbsScaler, RandomForest\", \"run_properties\": \"copy=True\", \"primary_metric\": 0.96617714, \"best_metric\": 0.98740896}, {\"run_id\": \"AutoML_4796283c-20a9-478b-b3c1-d77aca018967_23\", \"run_number\": 29, \"metric\": null, \"status\": \"Completed\", \"run_type\": \"azureml.scriptrun\", \"training_percent\": \"100\", \"start_time\": \"2021-01-02T15:07:41.498847Z\", \"end_time\": \"2021-01-02T15:09:01.924382Z\", \"created_time\": \"2021-01-02T15:07:28.640916Z\", \"created_time_dt\": \"2021-01-02T15:07:28.640916Z\", \"duration\": \"0:01:33\", \"iteration\": \"23\", \"goal\": \"accuracy_max\", \"run_name\": \"RobustScaler, LightGBM\", \"run_properties\": \"copy=True, quantile_range=[10, 90], with_centering=False,\\n             with_scaling=True\", \"primary_metric\": 0.97876808, \"best_metric\": 0.98740896}, {\"run_id\": \"AutoML_4796283c-20a9-478b-b3c1-d77aca018967_24\", \"run_number\": 30, \"metric\": null, \"status\": \"Completed\", \"run_type\": \"azureml.scriptrun\", \"training_percent\": \"100\", \"start_time\": \"2021-01-02T15:07:42.114727Z\", \"end_time\": \"2021-01-02T15:08:33.630075Z\", \"created_time\": \"2021-01-02T15:07:28.815217Z\", \"created_time_dt\": \"2021-01-02T15:07:28.815217Z\", \"duration\": \"0:01:04\", \"iteration\": \"24\", \"goal\": \"accuracy_max\", \"run_name\": \"StandardScalerWrapper, LightGBM\", \"run_properties\": \"<azureml.automl.runtime.shared.model_wrappers.StandardScalerWrapper object at 0x7f681cd4fc88\", \"primary_metric\": 0.96926305, \"best_metric\": 0.98740896}, {\"run_id\": \"AutoML_4796283c-20a9-478b-b3c1-d77aca018967_25\", \"run_number\": 31, \"metric\": null, \"status\": \"Completed\", \"run_type\": \"azureml.scriptrun\", \"training_percent\": \"100\", \"start_time\": \"2021-01-02T15:07:49.023867Z\", \"end_time\": \"2021-01-02T15:09:02.549562Z\", \"created_time\": \"2021-01-02T15:07:35.554428Z\", \"created_time_dt\": \"2021-01-02T15:07:35.554428Z\", \"duration\": \"0:01:26\", \"iteration\": \"25\", \"goal\": \"accuracy_max\", \"run_name\": \"MinMaxScaler, LightGBM\", \"run_properties\": \"copy=True, feature_range=(0, 1\", \"primary_metric\": 0.94136534, \"best_metric\": 0.98740896}, {\"run_id\": \"AutoML_4796283c-20a9-478b-b3c1-d77aca018967_26\", \"run_number\": 32, \"metric\": null, \"status\": \"Completed\", \"run_type\": \"azureml.scriptrun\", \"training_percent\": \"100\", \"start_time\": \"2021-01-02T15:07:47.878385Z\", \"end_time\": \"2021-01-02T15:09:04.930487Z\", \"created_time\": \"2021-01-02T15:07:35.560506Z\", \"created_time_dt\": \"2021-01-02T15:07:35.560506Z\", \"duration\": \"0:01:29\", \"iteration\": \"26\", \"goal\": \"accuracy_max\", \"run_name\": \"SparseNormalizer, XGBoostClassifier\", \"run_properties\": \"<azureml.automl.runtime.shared.model_wrappers.SparseNormalizer object at 0x7fa12d3c8908\", \"primary_metric\": 0.97444732, \"best_metric\": 0.98740896}, {\"run_id\": \"AutoML_4796283c-20a9-478b-b3c1-d77aca018967_28\", \"run_number\": 33, \"metric\": null, \"status\": \"Completed\", \"run_type\": \"azureml.scriptrun\", \"training_percent\": \"100\", \"start_time\": \"2021-01-02T15:07:53.878493Z\", \"end_time\": \"2021-01-02T15:09:01.499507Z\", \"created_time\": \"2021-01-02T15:07:41.775536Z\", \"created_time_dt\": \"2021-01-02T15:07:41.775536Z\", \"duration\": \"0:01:19\", \"iteration\": \"28\", \"goal\": \"accuracy_max\", \"run_name\": \"StandardScalerWrapper, XGBoostClassifier\", \"run_properties\": \"<azureml.automl.runtime.shared.model_wrappers.StandardScalerWrapper object at 0x7ff2c29cd978\", \"primary_metric\": 0.98777951, \"best_metric\": 0.98777951}, {\"run_id\": \"AutoML_4796283c-20a9-478b-b3c1-d77aca018967_27\", \"run_number\": 34, \"metric\": null, \"status\": \"Completed\", \"run_type\": \"azureml.scriptrun\", \"training_percent\": \"100\", \"start_time\": \"2021-01-02T15:07:52.22461Z\", \"end_time\": \"2021-01-02T15:09:04.219635Z\", \"created_time\": \"2021-01-02T15:07:41.803185Z\", \"created_time_dt\": \"2021-01-02T15:07:41.803185Z\", \"duration\": \"0:01:22\", \"iteration\": \"27\", \"goal\": \"accuracy_max\", \"run_name\": \"SparseNormalizer, XGBoostClassifier\", \"run_properties\": \"<azureml.automl.runtime.shared.model_wrappers.SparseNormalizer object at 0x7f3572450898\", \"primary_metric\": 0.97568175, \"best_metric\": 0.98740896}, {\"run_id\": \"AutoML_4796283c-20a9-478b-b3c1-d77aca018967_29\", \"run_number\": 35, \"metric\": null, \"status\": \"Completed\", \"run_type\": \"azureml.scriptrun\", \"training_percent\": \"100\", \"start_time\": \"2021-01-02T15:08:39.75941Z\", \"end_time\": \"2021-01-02T15:09:22.504698Z\", \"created_time\": \"2021-01-02T15:08:26.502872Z\", \"created_time_dt\": \"2021-01-02T15:08:26.502872Z\", \"duration\": \"0:00:56\", \"iteration\": \"29\", \"goal\": \"accuracy_max\", \"run_name\": \"MinMaxScaler, LightGBM\", \"run_properties\": \"copy=True, feature_range=(0, 1\", \"primary_metric\": 0.91359044, \"best_metric\": 0.98777951}, {\"run_id\": \"AutoML_4796283c-20a9-478b-b3c1-d77aca018967_30\", \"run_number\": 36, \"metric\": null, \"status\": \"Completed\", \"run_type\": \"azureml.scriptrun\", \"training_percent\": \"100\", \"start_time\": \"2021-01-02T15:08:47.729365Z\", \"end_time\": \"2021-01-02T15:09:54.961913Z\", \"created_time\": \"2021-01-02T15:08:33.527437Z\", \"created_time_dt\": \"2021-01-02T15:08:33.527437Z\", \"duration\": \"0:01:21\", \"iteration\": \"30\", \"goal\": \"accuracy_max\", \"run_name\": \"RobustScaler, LightGBM\", \"run_properties\": \"copy=True, quantile_range=[25, 75], with_centering=False,\\n             with_scaling=False\", \"primary_metric\": 0.86186854, \"best_metric\": 0.98777951}, {\"run_id\": \"AutoML_4796283c-20a9-478b-b3c1-d77aca018967_31\", \"run_number\": 37, \"metric\": null, \"status\": \"Completed\", \"run_type\": \"azureml.scriptrun\", \"training_percent\": \"100\", \"start_time\": \"2021-01-02T15:08:44.914751Z\", \"end_time\": \"2021-01-02T15:09:30.020935Z\", \"created_time\": \"2021-01-02T15:08:33.565199Z\", \"created_time_dt\": \"2021-01-02T15:08:33.565199Z\", \"duration\": \"0:00:56\", \"iteration\": \"31\", \"goal\": \"accuracy_max\", \"run_name\": \"StandardScalerWrapper, XGBoostClassifier\", \"run_properties\": \"<azureml.automl.runtime.shared.model_wrappers.StandardScalerWrapper object at 0x7ff0fcf5acc0\", \"primary_metric\": 0.98568084, \"best_metric\": 0.98777951}, {\"run_id\": \"AutoML_4796283c-20a9-478b-b3c1-d77aca018967_32\", \"run_number\": 38, \"metric\": null, \"status\": \"Completed\", \"run_type\": \"azureml.scriptrun\", \"training_percent\": \"100\", \"start_time\": \"2021-01-02T15:08:54.256184Z\", \"end_time\": \"2021-01-02T15:09:49.170462Z\", \"created_time\": \"2021-01-02T15:08:39.472587Z\", \"created_time_dt\": \"2021-01-02T15:08:39.472587Z\", \"duration\": \"0:01:09\", \"iteration\": \"32\", \"goal\": \"accuracy_max\", \"run_name\": \"SparseNormalizer, XGBoostClassifier\", \"run_properties\": \"<azureml.automl.runtime.shared.model_wrappers.SparseNormalizer object at 0x7fd194b29518\", \"primary_metric\": 0.97012693, \"best_metric\": 0.98777951}, {\"run_id\": \"AutoML_4796283c-20a9-478b-b3c1-d77aca018967_33\", \"run_number\": 39, \"metric\": null, \"status\": \"Completed\", \"run_type\": \"azureml.scriptrun\", \"training_percent\": \"100\", \"start_time\": \"2021-01-02T15:09:20.214758Z\", \"end_time\": \"2021-01-02T15:11:15.044775Z\", \"created_time\": \"2021-01-02T15:09:04.285527Z\", \"created_time_dt\": \"2021-01-02T15:09:04.285527Z\", \"duration\": \"0:02:10\", \"iteration\": \"33\", \"goal\": \"accuracy_max\", \"run_name\": \"SparseNormalizer, XGBoostClassifier\", \"run_properties\": \"<azureml.automl.runtime.shared.model_wrappers.SparseNormalizer object at 0x7f2381b3d128\", \"primary_metric\": 0.98012588, \"best_metric\": 0.98777951}, {\"run_id\": \"AutoML_4796283c-20a9-478b-b3c1-d77aca018967_34\", \"run_number\": 40, \"metric\": null, \"status\": \"Completed\", \"run_type\": \"azureml.scriptrun\", \"training_percent\": \"100\", \"start_time\": \"2021-01-02T15:09:20.817741Z\", \"end_time\": \"2021-01-02T15:10:12.650486Z\", \"created_time\": \"2021-01-02T15:09:04.287904Z\", \"created_time_dt\": \"2021-01-02T15:09:04.287904Z\", \"duration\": \"0:01:08\", \"iteration\": \"34\", \"goal\": \"accuracy_max\", \"run_name\": \"StandardScalerWrapper, XGBoostClassifier\", \"run_properties\": \"<azureml.automl.runtime.shared.model_wrappers.StandardScalerWrapper object at 0x7ff7fc919c88\", \"primary_metric\": 0.94506886, \"best_metric\": 0.98777951}, {\"run_id\": \"AutoML_4796283c-20a9-478b-b3c1-d77aca018967_36\", \"run_number\": 41, \"metric\": null, \"status\": \"Completed\", \"run_type\": \"azureml.scriptrun\", \"training_percent\": \"100\", \"start_time\": \"2021-01-02T15:09:23.308817Z\", \"end_time\": \"2021-01-02T15:10:01.299766Z\", \"created_time\": \"2021-01-02T15:09:11.842444Z\", \"created_time_dt\": \"2021-01-02T15:09:11.842444Z\", \"duration\": \"0:00:49\", \"iteration\": \"36\", \"goal\": \"accuracy_max\", \"run_name\": \"MinMaxScaler, ExtremeRandomTrees\", \"run_properties\": \"copy=True, feature_range=(0, 1\", \"primary_metric\": 0.90618472, \"best_metric\": 0.98777951}, {\"run_id\": \"AutoML_4796283c-20a9-478b-b3c1-d77aca018967_37\", \"run_number\": 42, \"metric\": null, \"status\": \"Completed\", \"run_type\": \"azureml.scriptrun\", \"training_percent\": \"100\", \"start_time\": \"2021-01-02T15:09:28.196298Z\", \"end_time\": \"2021-01-02T15:10:37.43779Z\", \"created_time\": \"2021-01-02T15:09:11.84719Z\", \"created_time_dt\": \"2021-01-02T15:09:11.84719Z\", \"duration\": \"0:01:25\", \"iteration\": \"37\", \"goal\": \"accuracy_max\", \"run_name\": \"SparseNormalizer, XGBoostClassifier\", \"run_properties\": \"<azureml.automl.runtime.shared.model_wrappers.SparseNormalizer object at 0x7f7314dfcba8\", \"primary_metric\": 0.97741006, \"best_metric\": 0.98777951}, {\"run_id\": \"AutoML_4796283c-20a9-478b-b3c1-d77aca018967_38\", \"run_number\": 43, \"metric\": null, \"status\": \"Completed\", \"run_type\": \"azureml.scriptrun\", \"training_percent\": \"100\", \"start_time\": \"2021-01-02T15:09:24.461393Z\", \"end_time\": \"2021-01-02T15:10:14.788297Z\", \"created_time\": \"2021-01-02T15:09:11.980929Z\", \"created_time_dt\": \"2021-01-02T15:09:11.980929Z\", \"duration\": \"0:01:02\", \"iteration\": \"38\", \"goal\": \"accuracy_max\", \"run_name\": \"StandardScalerWrapper, XGBoostClassifier\", \"run_properties\": \"<azureml.automl.runtime.shared.model_wrappers.StandardScalerWrapper object at 0x7f191904f400\", \"primary_metric\": 0.98222446, \"best_metric\": 0.98777951}, {\"run_id\": \"AutoML_4796283c-20a9-478b-b3c1-d77aca018967_35\", \"run_number\": 44, \"metric\": null, \"status\": \"Completed\", \"run_type\": \"azureml.scriptrun\", \"training_percent\": \"100\", \"start_time\": \"2021-01-02T15:09:26.663399Z\", \"end_time\": \"2021-01-02T15:10:15.401861Z\", \"created_time\": \"2021-01-02T15:09:11.849915Z\", \"created_time_dt\": \"2021-01-02T15:09:11.849915Z\", \"duration\": \"0:01:03\", \"iteration\": \"35\", \"goal\": \"accuracy_max\", \"run_name\": \"StandardScalerWrapper, XGBoostClassifier\", \"run_properties\": \"<azureml.automl.runtime.shared.model_wrappers.StandardScalerWrapper object at 0x7f6095b77a90\", \"primary_metric\": 0.83730356, \"best_metric\": 0.98777951}, {\"run_id\": \"AutoML_4796283c-20a9-478b-b3c1-d77aca018967_39\", \"run_number\": 45, \"metric\": null, \"status\": \"Completed\", \"run_type\": \"azureml.scriptrun\", \"training_percent\": \"100\", \"start_time\": \"2021-01-02T15:09:36.809626Z\", \"end_time\": \"2021-01-02T15:10:26.061328Z\", \"created_time\": \"2021-01-02T15:09:24.720158Z\", \"created_time_dt\": \"2021-01-02T15:09:24.720158Z\", \"duration\": \"0:01:01\", \"iteration\": \"39\", \"goal\": \"accuracy_max\", \"run_name\": \"SparseNormalizer, XGBoostClassifier\", \"run_properties\": \"<azureml.automl.runtime.shared.model_wrappers.SparseNormalizer object at 0x7fe83d461eb8\", \"primary_metric\": 0.97345972, \"best_metric\": 0.98777951}, {\"run_id\": \"AutoML_4796283c-20a9-478b-b3c1-d77aca018967_40\", \"run_number\": 46, \"metric\": null, \"status\": \"Completed\", \"run_type\": \"azureml.scriptrun\", \"training_percent\": \"100\", \"start_time\": \"2021-01-02T15:09:50.013807Z\", \"end_time\": \"2021-01-02T15:11:14.711769Z\", \"created_time\": \"2021-01-02T15:09:33.627256Z\", \"created_time_dt\": \"2021-01-02T15:09:33.627256Z\", \"duration\": \"0:01:41\", \"iteration\": \"40\", \"goal\": \"accuracy_max\", \"run_name\": \"SparseNormalizer, XGBoostClassifier\", \"run_properties\": \"<azureml.automl.runtime.shared.model_wrappers.SparseNormalizer object at 0x7fa7d296c8d0\", \"primary_metric\": 0.97666932, \"best_metric\": 0.98777951}, {\"run_id\": \"AutoML_4796283c-20a9-478b-b3c1-d77aca018967_41\", \"run_number\": 47, \"metric\": null, \"status\": \"Completed\", \"run_type\": \"azureml.scriptrun\", \"training_percent\": \"100\", \"start_time\": \"2021-01-02T15:10:02.171638Z\", \"end_time\": \"2021-01-02T15:11:22.530019Z\", \"created_time\": \"2021-01-02T15:09:51.418216Z\", \"created_time_dt\": \"2021-01-02T15:09:51.418216Z\", \"duration\": \"0:01:31\", \"iteration\": \"41\", \"goal\": \"accuracy_max\", \"run_name\": \"StandardScalerWrapper, XGBoostClassifier\", \"run_properties\": \"<azureml.automl.runtime.shared.model_wrappers.StandardScalerWrapper object at 0x7fea78f56048\", \"primary_metric\": 0.98555748, \"best_metric\": 0.98777951}, {\"run_id\": \"AutoML_4796283c-20a9-478b-b3c1-d77aca018967_42\", \"run_number\": 48, \"metric\": null, \"status\": \"Completed\", \"run_type\": \"azureml.scriptrun\", \"training_percent\": \"100\", \"start_time\": \"2021-01-02T15:10:09.841291Z\", \"end_time\": \"2021-01-02T15:11:21.486234Z\", \"created_time\": \"2021-01-02T15:09:57.330239Z\", \"created_time_dt\": \"2021-01-02T15:09:57.330239Z\", \"duration\": \"0:01:24\", \"iteration\": \"42\", \"goal\": \"accuracy_max\", \"run_name\": \"StandardScalerWrapper, XGBoostClassifier\", \"run_properties\": \"<azureml.automl.runtime.shared.model_wrappers.StandardScalerWrapper object at 0x7efeebc18710\", \"primary_metric\": 0.97580549, \"best_metric\": 0.98777951}, {\"run_id\": \"AutoML_4796283c-20a9-478b-b3c1-d77aca018967_43\", \"run_number\": 49, \"metric\": null, \"status\": \"Completed\", \"run_type\": \"azureml.scriptrun\", \"training_percent\": \"100\", \"start_time\": \"2021-01-02T15:10:14.828411Z\", \"end_time\": \"2021-01-02T15:11:16.317886Z\", \"created_time\": \"2021-01-02T15:10:03.952975Z\", \"created_time_dt\": \"2021-01-02T15:10:03.952975Z\", \"duration\": \"0:01:12\", \"iteration\": \"43\", \"goal\": \"accuracy_max\", \"run_name\": \"SparseNormalizer, XGBoostClassifier\", \"run_properties\": \"<azureml.automl.runtime.shared.model_wrappers.SparseNormalizer object at 0x7efddc019f28\", \"primary_metric\": 0.97629904, \"best_metric\": 0.98777951}, {\"run_id\": \"AutoML_4796283c-20a9-478b-b3c1-d77aca018967_44\", \"run_number\": 50, \"metric\": null, \"status\": \"Completed\", \"run_type\": \"azureml.scriptrun\", \"training_percent\": \"100\", \"start_time\": \"2021-01-02T15:10:25.636891Z\", \"end_time\": \"2021-01-02T15:11:26.342534Z\", \"created_time\": \"2021-01-02T15:10:14.919881Z\", \"created_time_dt\": \"2021-01-02T15:10:14.919881Z\", \"duration\": \"0:01:11\", \"iteration\": \"44\", \"goal\": \"accuracy_max\", \"run_name\": \"SparseNormalizer, XGBoostClassifier\", \"run_properties\": \"<azureml.automl.runtime.shared.model_wrappers.SparseNormalizer object at 0x7ff51409c780\", \"primary_metric\": 0.97827412, \"best_metric\": 0.98777951}, {\"run_id\": \"AutoML_4796283c-20a9-478b-b3c1-d77aca018967_46\", \"run_number\": 51, \"metric\": null, \"status\": \"Canceled\", \"run_type\": \"azureml.scriptrun\", \"training_percent\": \"100\", \"start_time\": \"2021-01-02T15:10:34.636444Z\", \"end_time\": \"2021-01-02T15:11:41.13948Z\", \"created_time\": \"2021-01-02T15:10:20.397088Z\", \"created_time_dt\": \"2021-01-02T15:10:20.397088Z\", \"duration\": \"0:01:20\", \"iteration\": \"46\", \"goal\": \"accuracy_max\", \"run_name\": \"StandardScalerWrapper, RandomForest\", \"run_properties\": \"<azureml.automl.runtime.shared.model_wrappers.StandardScalerWrapper object at 0x7fcf5bdd33c8\", \"primary_metric\": 0.93939222, \"best_metric\": 0.98777951}, {\"run_id\": \"AutoML_4796283c-20a9-478b-b3c1-d77aca018967_45\", \"run_number\": 52, \"metric\": null, \"status\": \"Canceled\", \"run_type\": \"azureml.scriptrun\", \"training_percent\": \"100\", \"start_time\": \"2021-01-02T15:10:33.833925Z\", \"end_time\": \"2021-01-02T15:11:40.579095Z\", \"created_time\": \"2021-01-02T15:10:20.39973Z\", \"created_time_dt\": \"2021-01-02T15:10:20.39973Z\", \"duration\": \"0:01:20\", \"iteration\": \"45\", \"goal\": \"accuracy_max\", \"run_name\": \"SparseNormalizer, XGBoostClassifier\", \"run_properties\": \"<azureml.automl.runtime.shared.model_wrappers.SparseNormalizer object at 0x7f7b5400eb70\", \"primary_metric\": 0.97543489, \"best_metric\": 0.98777951}, {\"run_id\": \"AutoML_4796283c-20a9-478b-b3c1-d77aca018967_47\", \"run_number\": 53, \"metric\": null, \"status\": \"Canceled\", \"run_type\": \"azureml.scriptrun\", \"training_percent\": \"100\", \"start_time\": \"2021-01-02T15:10:43.118846Z\", \"end_time\": \"2021-01-02T15:11:41.435734Z\", \"created_time\": \"2021-01-02T15:10:28.877075Z\", \"created_time_dt\": \"2021-01-02T15:10:28.877075Z\", \"duration\": \"0:01:12\", \"iteration\": \"47\", \"goal\": null, \"run_name\": \"SparseNormalizer, XGBoostClassifier\", \"run_properties\": null}, {\"run_id\": \"AutoML_4796283c-20a9-478b-b3c1-d77aca018967_48\", \"run_number\": 54, \"metric\": null, \"status\": \"Canceled\", \"run_type\": \"azureml.scriptrun\", \"training_percent\": \"100\", \"start_time\": \"2021-01-02T15:10:50.950635Z\", \"end_time\": \"2021-01-02T15:11:40.779214Z\", \"created_time\": \"2021-01-02T15:10:40.064796Z\", \"created_time_dt\": \"2021-01-02T15:10:40.064796Z\", \"duration\": \"0:01:00\", \"iteration\": \"48\", \"goal\": null, \"run_name\": \"StandardScalerWrapper, XGBoostClassifier\", \"run_properties\": null}, {\"run_id\": \"AutoML_4796283c-20a9-478b-b3c1-d77aca018967_49\", \"run_number\": 55, \"metric\": null, \"status\": \"Canceled\", \"run_type\": \"azureml.scriptrun\", \"training_percent\": \"100\", \"start_time\": \"2021-01-02T15:11:30.105624Z\", \"end_time\": \"2021-01-02T15:11:39.758717Z\", \"created_time\": \"2021-01-02T15:11:18.729248Z\", \"created_time_dt\": \"2021-01-02T15:11:18.729248Z\", \"duration\": \"0:00:21\", \"iteration\": \"49\", \"goal\": null, \"run_name\": \"Canceled\", \"run_properties\": null}, {\"run_id\": \"AutoML_4796283c-20a9-478b-b3c1-d77aca018967_50\", \"run_number\": 56, \"metric\": null, \"status\": \"Canceled\", \"run_type\": \"azureml.scriptrun\", \"training_percent\": \"100\", \"start_time\": \"2021-01-02T15:11:29.453033Z\", \"end_time\": \"2021-01-02T15:11:39.452601Z\", \"created_time\": \"2021-01-02T15:11:18.733098Z\", \"created_time_dt\": \"2021-01-02T15:11:18.733098Z\", \"duration\": \"0:00:20\", \"iteration\": \"50\", \"goal\": null, \"run_name\": \"Canceled\", \"run_properties\": null}, {\"run_id\": \"AutoML_4796283c-20a9-478b-b3c1-d77aca018967_51\", \"run_number\": 57, \"metric\": null, \"status\": \"Canceled\", \"run_type\": \"azureml.scriptrun\", \"training_percent\": \"100\", \"start_time\": \"2021-01-02T15:11:24.555907Z\", \"end_time\": \"2021-01-02T15:11:41.663493Z\", \"created_time\": \"2021-01-02T15:11:24.555907Z\", \"created_time_dt\": \"2021-01-02T15:11:24.555907Z\", \"duration\": \"0:00:17\", \"iteration\": \"51\", \"goal\": null, \"run_name\": \"Canceled\", \"run_properties\": null}, {\"run_id\": \"AutoML_4796283c-20a9-478b-b3c1-d77aca018967_52\", \"run_number\": 58, \"metric\": null, \"status\": \"Canceled\", \"run_type\": \"azureml.scriptrun\", \"training_percent\": \"100\", \"start_time\": \"2021-01-02T15:11:24.558083Z\", \"end_time\": \"2021-01-02T15:11:45.817727Z\", \"created_time\": \"2021-01-02T15:11:24.558083Z\", \"created_time_dt\": \"2021-01-02T15:11:24.558083Z\", \"duration\": \"0:00:21\", \"iteration\": \"52\", \"goal\": null, \"run_name\": \"Canceled\", \"run_properties\": null}, {\"run_id\": \"AutoML_4796283c-20a9-478b-b3c1-d77aca018967_53\", \"run_number\": 59, \"metric\": null, \"status\": \"Completed\", \"run_type\": \"azureml.scriptrun\", \"training_percent\": \"100\", \"start_time\": \"2021-01-02T15:11:57.954517Z\", \"end_time\": \"2021-01-02T15:13:28.439105Z\", \"created_time\": \"2021-01-02T15:11:46.996812Z\", \"created_time_dt\": \"2021-01-02T15:11:46.996812Z\", \"duration\": \"0:01:41\", \"iteration\": \"53\", \"goal\": \"accuracy_max\", \"run_name\": \"VotingEnsemble\", \"run_properties\": \"classification_labels=None,\\n                              estimators=[('28',\\n                                           Pipeline(memory=None,\\n                                                    steps=[('standardscalerwrapper',\\n                                                            <azureml.automl.runtime.shared.model_wrappers.StandardScalerWrapper object at 0x7fa24004ef28>\", \"primary_metric\": 0.98814975, \"best_metric\": 0.98814975}, {\"run_id\": \"AutoML_4796283c-20a9-478b-b3c1-d77aca018967_54\", \"run_number\": 60, \"metric\": null, \"status\": \"Completed\", \"run_type\": \"azureml.scriptrun\", \"training_percent\": \"100\", \"start_time\": \"2021-01-02T15:11:57.46503Z\", \"end_time\": \"2021-01-02T15:13:45.197411Z\", \"created_time\": \"2021-01-02T15:11:47.285951Z\", \"created_time_dt\": \"2021-01-02T15:11:47.285951Z\", \"duration\": \"0:01:57\", \"iteration\": \"54\", \"goal\": \"accuracy_max\", \"run_name\": \"StackEnsemble\", \"run_properties\": \"base_learners=[('28',\\n                                        Pipeline(memory=None,\\n                                                 steps=[('standardscalerwrapper',\\n                                                         <azureml.automl.runtime.shared.model_wrappers.StandardScalerWrapper object at 0x7f4d2428a2b0>\", \"primary_metric\": 0.98753256, \"best_metric\": 0.98814975}], \"children_metrics\": {\"categories\": [0], \"series\": {\"precision_score_weighted\": [{\"categories\": [\"0\", \"1\", \"2\", \"3\", \"4\", \"5\", \"6\", \"7\", \"8\", \"9\", \"10\", \"11\", \"12\", \"13\", \"14\", \"15\", \"16\", \"17\", \"18\", \"19\", \"20\", \"21\", \"22\", \"23\", \"24\", \"25\", \"26\", \"27\", \"28\", \"29\", \"30\", \"31\", \"32\", \"33\", \"34\", \"35\", \"36\", \"37\", \"38\", \"39\", \"40\", \"41\", \"42\", \"43\", \"44\", \"45\", \"46\", \"53\", \"54\"], \"mode\": \"markers\", \"name\": \"precision_score_weighted\", \"stepped\": false, \"type\": \"scatter\", \"data\": [0.9873729082892057, 0.98524767775142, 0.9341783367178941, 0.90810969040011, 0.950129642638961, 0.968616100221217, 0.973538792060468, 0.9804811692378078, 0.9784970017184628, 0.9790276814313675, 0.9854779991005627, 0.9786281735213297, 0.9736708000495201, 0.9781072393332649, 0.9770879062513124, 0.9500620470815829, 0.9703136950203692, 0.9769838936570673, 0.9001126780798573, 0.9252433905329864, 0.9368913045086527, 0.917192457643881, 0.9656551822135722, 0.9786611364722098, 0.9693654480029178, 0.9420350943989201, 0.9741778401117696, 0.9754590880729769, 0.9877397132987179, 0.9208370674557217, 0.8806847252339306, 0.9856395486759678, 0.9697400981017313, 0.9800076714044939, 0.9459652645640967, 0.7011160233823897, 0.9135218610787966, 0.9772170048148335, 0.9821386994102094, 0.9732399031879534, 0.976479966249124, 0.985504125990636, 0.975655985542122, 0.9760991450372097, 0.9780793980040318, 0.9751899775379211, 0.950528747519115, 0.9881060940790287, 0.9874809290606668]}, {\"categories\": [\"0\", \"1\", \"2\", \"3\", \"4\", \"5\", \"6\", \"7\", \"8\", \"9\", \"10\", \"11\", \"12\", \"13\", \"14\", \"15\", \"16\", \"17\", \"18\", \"19\", \"20\", \"21\", \"22\", \"23\", \"24\", \"25\", \"26\", \"27\", \"28\", \"29\", \"30\", \"31\", \"32\", \"33\", \"34\", \"35\", \"36\", \"37\", \"38\", \"39\", \"40\", \"41\", \"42\", \"43\", \"44\", \"45\", \"46\", \"53\", \"54\"], \"mode\": \"lines\", \"name\": \"precision_score_weighted_max\", \"stepped\": true, \"type\": \"scatter\", \"data\": [0.9873729082892057, 0.9873729082892057, 0.9873729082892057, 0.9873729082892057, 0.9873729082892057, 0.9873729082892057, 0.9873729082892057, 0.9873729082892057, 0.9873729082892057, 0.9873729082892057, 0.9873729082892057, 0.9873729082892057, 0.9873729082892057, 0.9873729082892057, 0.9873729082892057, 0.9873729082892057, 0.9873729082892057, 0.9873729082892057, 0.9873729082892057, 0.9873729082892057, 0.9873729082892057, 0.9873729082892057, 0.9873729082892057, 0.9873729082892057, 0.9873729082892057, 0.9873729082892057, 0.9873729082892057, 0.9873729082892057, 0.9877397132987179, 0.9877397132987179, 0.9877397132987179, 0.9877397132987179, 0.9877397132987179, 0.9877397132987179, 0.9877397132987179, 0.9877397132987179, 0.9877397132987179, 0.9877397132987179, 0.9877397132987179, 0.9877397132987179, 0.9877397132987179, 0.9877397132987179, 0.9877397132987179, 0.9877397132987179, 0.9877397132987179, 0.9877397132987179, 0.9877397132987179, 0.9881060940790287, 0.9881060940790287]}], \"accuracy\": [{\"categories\": [\"0\", \"1\", \"2\", \"3\", \"4\", \"5\", \"6\", \"7\", \"8\", \"9\", \"10\", \"11\", \"12\", \"13\", \"14\", \"15\", \"16\", \"17\", \"18\", \"19\", \"20\", \"21\", \"22\", \"23\", \"24\", \"25\", \"26\", \"27\", \"28\", \"29\", \"30\", \"31\", \"32\", \"33\", \"34\", \"35\", \"36\", \"37\", \"38\", \"39\", \"40\", \"41\", \"42\", \"43\", \"44\", \"45\", \"46\", \"53\", \"54\"], \"mode\": \"markers\", \"name\": \"accuracy\", \"stepped\": false, \"type\": \"scatter\", \"data\": [0.9874089614728884, 0.9853106074110641, 0.9334658402694932, 0.9074191086063231, 0.9422293069325033, 0.9690160937192901, 0.973830405748214, 0.9806193865097974, 0.9786447177771379, 0.9791383163985904, 0.9855574295756945, 0.9787680374438366, 0.9739535882914879, 0.978274073159918, 0.977286555962355, 0.9509936877516786, 0.9704976209085799, 0.9771632820034647, 0.8872976629597634, 0.9191451725698302, 0.9342053468994109, 0.914207449458591, 0.9661771360401498, 0.9787680831516449, 0.9692630530073453, 0.9413653379406804, 0.974447324036365, 0.9756817548141749, 0.9877795146744918, 0.9135904397548232, 0.8618685352018686, 0.9856808406580096, 0.9701269305835516, 0.9801258793039614, 0.945068858813151, 0.8373035592670296, 0.9061847235363217, 0.9774100584602868, 0.9822244619048272, 0.9734597154231857, 0.976669317719546, 0.9855574752835027, 0.975805485851148, 0.9762990387647922, 0.9782741188677262, 0.9754348869417363, 0.9393922232735018, 0.9881497479214375, 0.9875325553864367]}, {\"categories\": [\"0\", \"1\", \"2\", \"3\", \"4\", \"5\", \"6\", \"7\", \"8\", \"9\", \"10\", \"11\", \"12\", \"13\", \"14\", \"15\", \"16\", \"17\", \"18\", \"19\", \"20\", \"21\", \"22\", \"23\", \"24\", \"25\", \"26\", \"27\", \"28\", \"29\", \"30\", \"31\", \"32\", \"33\", \"34\", \"35\", \"36\", \"37\", \"38\", \"39\", \"40\", \"41\", \"42\", \"43\", \"44\", \"45\", \"46\", \"53\", \"54\"], \"mode\": \"lines\", \"name\": \"accuracy_max\", \"stepped\": true, \"type\": \"scatter\", \"data\": [0.9874089614728884, 0.9874089614728884, 0.9874089614728884, 0.9874089614728884, 0.9874089614728884, 0.9874089614728884, 0.9874089614728884, 0.9874089614728884, 0.9874089614728884, 0.9874089614728884, 0.9874089614728884, 0.9874089614728884, 0.9874089614728884, 0.9874089614728884, 0.9874089614728884, 0.9874089614728884, 0.9874089614728884, 0.9874089614728884, 0.9874089614728884, 0.9874089614728884, 0.9874089614728884, 0.9874089614728884, 0.9874089614728884, 0.9874089614728884, 0.9874089614728884, 0.9874089614728884, 0.9874089614728884, 0.9874089614728884, 0.9877795146744918, 0.9877795146744918, 0.9877795146744918, 0.9877795146744918, 0.9877795146744918, 0.9877795146744918, 0.9877795146744918, 0.9877795146744918, 0.9877795146744918, 0.9877795146744918, 0.9877795146744918, 0.9877795146744918, 0.9877795146744918, 0.9877795146744918, 0.9877795146744918, 0.9877795146744918, 0.9877795146744918, 0.9877795146744918, 0.9877795146744918, 0.9881497479214375, 0.9881497479214375]}], \"recall_score_macro\": [{\"categories\": [\"0\", \"1\", \"2\", \"3\", \"4\", \"5\", \"6\", \"7\", \"8\", \"9\", \"10\", \"11\", \"12\", \"13\", \"14\", \"15\", \"16\", \"17\", \"18\", \"19\", \"20\", \"21\", \"22\", \"23\", \"24\", \"25\", \"26\", \"27\", \"28\", \"29\", \"30\", \"31\", \"32\", \"33\", \"34\", \"35\", \"36\", \"37\", \"38\", \"39\", \"40\", \"41\", \"42\", \"43\", \"44\", \"45\", \"46\", \"53\", \"54\"], \"mode\": \"markers\", \"name\": \"recall_score_macro\", \"stepped\": false, \"type\": \"scatter\", \"data\": [0.9750558736568098, 0.966000538190876, 0.8239761832359155, 0.7344346585348754, 0.9384765635675899, 0.9260054337728661, 0.9405701743145504, 0.9562367433454252, 0.9467813367468924, 0.9533755506974219, 0.9674415157445316, 0.9488422633742908, 0.9395159891656958, 0.9498675432815693, 0.9469346634641006, 0.8954169906108046, 0.9230164085546945, 0.9474432481624181, 0.6538538780073612, 0.7536162196967813, 0.8044498589660233, 0.7469600879427182, 0.9223030830194112, 0.9540183174489343, 0.9147886474580483, 0.8331337588587816, 0.9410497983239087, 0.9426766411266373, 0.9748244627331201, 0.7359294110050767, 0.5759654262467735, 0.9707801506801519, 0.9284296643741566, 0.9546845123446426, 0.8421352668525159, 0.5, 0.7157713512925926, 0.949444397730467, 0.9574752767142966, 0.9352314753371748, 0.9467561720768561, 0.9674137384100097, 0.9390364992993567, 0.9459684092190552, 0.9505927734940883, 0.9434116803084635, 0.943334265557802, 0.9744671626391342, 0.9725477180463712]}, {\"categories\": [\"0\", \"1\", \"2\", \"3\", \"4\", \"5\", \"6\", \"7\", \"8\", \"9\", \"10\", \"11\", \"12\", \"13\", \"14\", \"15\", \"16\", \"17\", \"18\", \"19\", \"20\", \"21\", \"22\", \"23\", \"24\", \"25\", \"26\", \"27\", \"28\", \"29\", \"30\", \"31\", \"32\", \"33\", \"34\", \"35\", \"36\", \"37\", \"38\", \"39\", \"40\", \"41\", \"42\", \"43\", \"44\", \"45\", \"46\", \"53\", \"54\"], \"mode\": \"lines\", \"name\": \"recall_score_macro_max\", \"stepped\": true, \"type\": \"scatter\", \"data\": [0.9750558736568098, 0.9750558736568098, 0.9750558736568098, 0.9750558736568098, 0.9750558736568098, 0.9750558736568098, 0.9750558736568098, 0.9750558736568098, 0.9750558736568098, 0.9750558736568098, 0.9750558736568098, 0.9750558736568098, 0.9750558736568098, 0.9750558736568098, 0.9750558736568098, 0.9750558736568098, 0.9750558736568098, 0.9750558736568098, 0.9750558736568098, 0.9750558736568098, 0.9750558736568098, 0.9750558736568098, 0.9750558736568098, 0.9750558736568098, 0.9750558736568098, 0.9750558736568098, 0.9750558736568098, 0.9750558736568098, 0.9750558736568098, 0.9750558736568098, 0.9750558736568098, 0.9750558736568098, 0.9750558736568098, 0.9750558736568098, 0.9750558736568098, 0.9750558736568098, 0.9750558736568098, 0.9750558736568098, 0.9750558736568098, 0.9750558736568098, 0.9750558736568098, 0.9750558736568098, 0.9750558736568098, 0.9750558736568098, 0.9750558736568098, 0.9750558736568098, 0.9750558736568098, 0.9750558736568098, 0.9750558736568098]}], \"average_precision_score_macro\": [{\"categories\": [\"0\", \"1\", \"2\", \"3\", \"4\", \"5\", \"6\", \"7\", \"8\", \"9\", \"10\", \"11\", \"12\", \"13\", \"14\", \"15\", \"16\", \"17\", \"18\", \"19\", \"20\", \"21\", \"22\", \"23\", \"24\", \"25\", \"26\", \"27\", \"28\", \"29\", \"30\", \"31\", \"32\", \"33\", \"34\", \"35\", \"36\", \"37\", \"38\", \"39\", \"40\", \"41\", \"42\", \"43\", \"44\", \"45\", \"46\", \"53\", \"54\"], \"mode\": \"markers\", \"name\": \"average_precision_score_macro\", \"stepped\": false, \"type\": \"scatter\", \"data\": [0.99570583306166, 0.9951287622344864, 0.9504836761557618, 0.9175173200154868, 0.97099930392368, 0.9828594913036756, 0.9881369087405644, 0.9898304505591172, 0.9932001593444385, 0.9916301993671723, 0.9955637695758157, 0.990022506664923, 0.9844598396658092, 0.9896127254759857, 0.9890371821008955, 0.9599018616794571, 0.9870561945841029, 0.9890330025543612, 0.9796459010580939, 0.9626061991304948, 0.9639570222785036, 0.9305208702196562, 0.9790484104697875, 0.9918931769401399, 0.989485349603573, 0.9500244999665651, 0.9867845942698817, 0.987373011135332, 0.9958075696168066, 0.9738288739093338, 0.9810823845014401, 0.9954553131423965, 0.9804913270677211, 0.990302825291823, 0.9720936741256869, 0.5, 0.934382639581965, 0.9892358792119428, 0.9930952668978769, 0.9844655618360639, 0.98891657921577, 0.9951893889520423, 0.989076330753326, 0.988134582385106, 0.9898555793124723, 0.9873576540875139, 0.972734974981695, 0.9957458670230658, 0.9958267062795775]}, {\"categories\": [\"0\", \"1\", \"2\", \"3\", \"4\", \"5\", \"6\", \"7\", \"8\", \"9\", \"10\", \"11\", \"12\", \"13\", \"14\", \"15\", \"16\", \"17\", \"18\", \"19\", \"20\", \"21\", \"22\", \"23\", \"24\", \"25\", \"26\", \"27\", \"28\", \"29\", \"30\", \"31\", \"32\", \"33\", \"34\", \"35\", \"36\", \"37\", \"38\", \"39\", \"40\", \"41\", \"42\", \"43\", \"44\", \"45\", \"46\", \"53\", \"54\"], \"mode\": \"lines\", \"name\": \"average_precision_score_macro_max\", \"stepped\": true, \"type\": \"scatter\", \"data\": [0.99570583306166, 0.99570583306166, 0.99570583306166, 0.99570583306166, 0.99570583306166, 0.99570583306166, 0.99570583306166, 0.99570583306166, 0.99570583306166, 0.99570583306166, 0.99570583306166, 0.99570583306166, 0.99570583306166, 0.99570583306166, 0.99570583306166, 0.99570583306166, 0.99570583306166, 0.99570583306166, 0.99570583306166, 0.99570583306166, 0.99570583306166, 0.99570583306166, 0.99570583306166, 0.99570583306166, 0.99570583306166, 0.99570583306166, 0.99570583306166, 0.99570583306166, 0.9958075696168066, 0.9958075696168066, 0.9958075696168066, 0.9958075696168066, 0.9958075696168066, 0.9958075696168066, 0.9958075696168066, 0.9958075696168066, 0.9958075696168066, 0.9958075696168066, 0.9958075696168066, 0.9958075696168066, 0.9958075696168066, 0.9958075696168066, 0.9958075696168066, 0.9958075696168066, 0.9958075696168066, 0.9958075696168066, 0.9958075696168066, 0.9958075696168066, 0.9958267062795775]}], \"f1_score_macro\": [{\"categories\": [\"0\", \"1\", \"2\", \"3\", \"4\", \"5\", \"6\", \"7\", \"8\", \"9\", \"10\", \"11\", \"12\", \"13\", \"14\", \"15\", \"16\", \"17\", \"18\", \"19\", \"20\", \"21\", \"22\", \"23\", \"24\", \"25\", \"26\", \"27\", \"28\", \"29\", \"30\", \"31\", \"32\", \"33\", \"34\", \"35\", \"36\", \"37\", \"38\", \"39\", \"40\", \"41\", \"42\", \"43\", \"44\", \"45\", \"46\", \"53\", \"54\"], \"mode\": \"markers\", \"name\": \"f1_score_macro\", \"stepped\": false, \"type\": \"scatter\", \"data\": [0.9768412779670027, 0.9726148784006824, 0.8626417953135759, 0.7861990682495974, 0.9025435512927862, 0.941191537608001, 0.9508800401063265, 0.9638982441322274, 0.9595910909383555, 0.9610670154063641, 0.9731323980330869, 0.9600051590981007, 0.9510871984937849, 0.959322749721221, 0.9574082738409063, 0.907281393173534, 0.9429949552308722, 0.9572270638368767, 0.7034652972952963, 0.8127145284753756, 0.8568797253742325, 0.8026120207383656, 0.9357109252197914, 0.9604066962940389, 0.9399703988160025, 0.8773001991623456, 0.9520837006322203, 0.9543410576130205, 0.9773685435144001, 0.7955348835261894, 0.5937374370390119, 0.9734869635828747, 0.943354409644674, 0.962959977154222, 0.8855310870839331, 0.4557178599772091, 0.7732406818104091, 0.9578648913208747, 0.9666665325016162, 0.9498560834808408, 0.9563091674728857, 0.9731681687518977, 0.9540354682841193, 0.9556207501125797, 0.9594140448378696, 0.9539629582085981, 0.8995591726377438, 0.9780722360715396, 0.9768814346040943]}, {\"categories\": [\"0\", \"1\", \"2\", \"3\", \"4\", \"5\", \"6\", \"7\", \"8\", \"9\", \"10\", \"11\", \"12\", \"13\", \"14\", \"15\", \"16\", \"17\", \"18\", \"19\", \"20\", \"21\", \"22\", \"23\", \"24\", \"25\", \"26\", \"27\", \"28\", \"29\", \"30\", \"31\", \"32\", \"33\", \"34\", \"35\", \"36\", \"37\", \"38\", \"39\", \"40\", \"41\", \"42\", \"43\", \"44\", \"45\", \"46\", \"53\", \"54\"], \"mode\": \"lines\", \"name\": \"f1_score_macro_max\", \"stepped\": true, \"type\": \"scatter\", \"data\": [0.9768412779670027, 0.9768412779670027, 0.9768412779670027, 0.9768412779670027, 0.9768412779670027, 0.9768412779670027, 0.9768412779670027, 0.9768412779670027, 0.9768412779670027, 0.9768412779670027, 0.9768412779670027, 0.9768412779670027, 0.9768412779670027, 0.9768412779670027, 0.9768412779670027, 0.9768412779670027, 0.9768412779670027, 0.9768412779670027, 0.9768412779670027, 0.9768412779670027, 0.9768412779670027, 0.9768412779670027, 0.9768412779670027, 0.9768412779670027, 0.9768412779670027, 0.9768412779670027, 0.9768412779670027, 0.9768412779670027, 0.9773685435144001, 0.9773685435144001, 0.9773685435144001, 0.9773685435144001, 0.9773685435144001, 0.9773685435144001, 0.9773685435144001, 0.9773685435144001, 0.9773685435144001, 0.9773685435144001, 0.9773685435144001, 0.9773685435144001, 0.9773685435144001, 0.9773685435144001, 0.9773685435144001, 0.9773685435144001, 0.9773685435144001, 0.9773685435144001, 0.9773685435144001, 0.9780722360715396, 0.9780722360715396]}], \"log_loss\": [{\"categories\": [\"0\", \"1\", \"2\", \"3\", \"4\", \"5\", \"6\", \"7\", \"8\", \"9\", \"10\", \"11\", \"12\", \"13\", \"14\", \"15\", \"16\", \"17\", \"18\", \"19\", \"20\", \"21\", \"22\", \"23\", \"24\", \"25\", \"26\", \"27\", \"28\", \"29\", \"30\", \"31\", \"32\", \"33\", \"34\", \"35\", \"36\", \"37\", \"38\", \"39\", \"40\", \"41\", \"42\", \"43\", \"44\", \"45\", \"46\", \"53\", \"54\"], \"mode\": \"markers\", \"name\": \"log_loss\", \"stepped\": false, \"type\": \"scatter\", \"data\": [0.04076043957448076, 0.044375149243352986, 0.1939143710544723, 0.23594843091874332, 0.23466439998078414, 0.09464043603015383, 0.06825668074083568, 0.06587699431547395, 0.0759456127345123, 0.05754797684745242, 0.04233940986118543, 0.060981743207833124, 0.10744723053422699, 0.061481556296568984, 0.06500848381777033, 0.1269961144227065, 0.09659524594344619, 0.06496397002742975, 0.24978933982579313, 0.22193817108874328, 0.1939505835562824, 0.2292366750489527, 0.09836346884953061, 0.05509801935331299, 0.11072577117966313, 0.17810467495879234, 0.0759754888194956, 0.07349418379889265, 0.03705999703440778, 0.22247755011702444, 0.2720431897059004, 0.04666771438455669, 0.25658452742923094, 0.062031336269368874, 0.1575332765302332, 0.4464462014664952, 0.2443566462987149, 0.06255158418368904, 0.10515569466872043, 0.11975423820630983, 0.0646082615973758, 0.04324614579721676, 0.11844399559291358, 0.06769637537494926, 0.060997174066803016, 0.07203542177545304, 0.14203251793687421, 0.040058154261099356, 0.04578789341523385]}, {\"categories\": [\"0\", \"1\", \"2\", \"3\", \"4\", \"5\", \"6\", \"7\", \"8\", \"9\", \"10\", \"11\", \"12\", \"13\", \"14\", \"15\", \"16\", \"17\", \"18\", \"19\", \"20\", \"21\", \"22\", \"23\", \"24\", \"25\", \"26\", \"27\", \"28\", \"29\", \"30\", \"31\", \"32\", \"33\", \"34\", \"35\", \"36\", \"37\", \"38\", \"39\", \"40\", \"41\", \"42\", \"43\", \"44\", \"45\", \"46\", \"53\", \"54\"], \"mode\": \"lines\", \"name\": \"log_loss_min\", \"stepped\": true, \"type\": \"scatter\", \"data\": [0.04076043957448076, 0.04076043957448076, 0.04076043957448076, 0.04076043957448076, 0.04076043957448076, 0.04076043957448076, 0.04076043957448076, 0.04076043957448076, 0.04076043957448076, 0.04076043957448076, 0.04076043957448076, 0.04076043957448076, 0.04076043957448076, 0.04076043957448076, 0.04076043957448076, 0.04076043957448076, 0.04076043957448076, 0.04076043957448076, 0.04076043957448076, 0.04076043957448076, 0.04076043957448076, 0.04076043957448076, 0.04076043957448076, 0.04076043957448076, 0.04076043957448076, 0.04076043957448076, 0.04076043957448076, 0.04076043957448076, 0.03705999703440778, 0.03705999703440778, 0.03705999703440778, 0.03705999703440778, 0.03705999703440778, 0.03705999703440778, 0.03705999703440778, 0.03705999703440778, 0.03705999703440778, 0.03705999703440778, 0.03705999703440778, 0.03705999703440778, 0.03705999703440778, 0.03705999703440778, 0.03705999703440778, 0.03705999703440778, 0.03705999703440778, 0.03705999703440778, 0.03705999703440778, 0.03705999703440778, 0.03705999703440778]}], \"precision_score_macro\": [{\"categories\": [\"0\", \"1\", \"2\", \"3\", \"4\", \"5\", \"6\", \"7\", \"8\", \"9\", \"10\", \"11\", \"12\", \"13\", \"14\", \"15\", \"16\", \"17\", \"18\", \"19\", \"20\", \"21\", \"22\", \"23\", \"24\", \"25\", \"26\", \"27\", \"28\", \"29\", \"30\", \"31\", \"32\", \"33\", \"34\", \"35\", \"36\", \"37\", \"38\", \"39\", \"40\", \"41\", \"42\", \"43\", \"44\", \"45\", \"46\", \"53\", \"54\"], \"mode\": \"markers\", \"name\": \"precision_score_macro\", \"stepped\": false, \"type\": \"scatter\", \"data\": [0.9786522709509162, 0.9796563414116992, 0.9266791728109925, 0.9091256535396552, 0.8755026643218836, 0.9583809641090717, 0.9620743046516598, 0.972048253637335, 0.9736989736466688, 0.9694261067582088, 0.9790996455495119, 0.9722635531221551, 0.9637303819995907, 0.9695583149117027, 0.9687784790494108, 0.9206916130809398, 0.9664630246262756, 0.9678933153695564, 0.9386681850567277, 0.9512576014205619, 0.9518058482831845, 0.930318243646649, 0.9507409119150886, 0.9673546900011191, 0.9707192642450587, 0.9466295696703323, 0.9640987814720878, 0.9671179425424281, 0.9800075085179567, 0.9494915465801338, 0.9267167167823726, 0.9763214076394462, 0.9600822201599927, 0.9718738184498674, 0.9523808872588039, 0.4186517796335148, 0.9401093055518882, 0.9668855707629233, 0.9766251206673239, 0.966272391042755, 0.9666915375160091, 0.97928673277816, 0.9709324075763023, 0.9661109596080397, 0.9688500048191891, 0.9654141491266808, 0.8691070517757674, 0.9818124490472263, 0.9813985201430575]}, {\"categories\": [\"0\", \"1\", \"2\", \"3\", \"4\", \"5\", \"6\", \"7\", \"8\", \"9\", \"10\", \"11\", \"12\", \"13\", \"14\", \"15\", \"16\", \"17\", \"18\", \"19\", \"20\", \"21\", \"22\", \"23\", \"24\", \"25\", \"26\", \"27\", \"28\", \"29\", \"30\", \"31\", \"32\", \"33\", \"34\", \"35\", \"36\", \"37\", \"38\", \"39\", \"40\", \"41\", \"42\", \"43\", \"44\", \"45\", \"46\", \"53\", \"54\"], \"mode\": \"lines\", \"name\": \"precision_score_macro_max\", \"stepped\": true, \"type\": \"scatter\", \"data\": [0.9786522709509162, 0.9796563414116992, 0.9796563414116992, 0.9796563414116992, 0.9796563414116992, 0.9796563414116992, 0.9796563414116992, 0.9796563414116992, 0.9796563414116992, 0.9796563414116992, 0.9796563414116992, 0.9796563414116992, 0.9796563414116992, 0.9796563414116992, 0.9796563414116992, 0.9796563414116992, 0.9796563414116992, 0.9796563414116992, 0.9796563414116992, 0.9796563414116992, 0.9796563414116992, 0.9796563414116992, 0.9796563414116992, 0.9796563414116992, 0.9796563414116992, 0.9796563414116992, 0.9796563414116992, 0.9796563414116992, 0.9800075085179567, 0.9800075085179567, 0.9800075085179567, 0.9800075085179567, 0.9800075085179567, 0.9800075085179567, 0.9800075085179567, 0.9800075085179567, 0.9800075085179567, 0.9800075085179567, 0.9800075085179567, 0.9800075085179567, 0.9800075085179567, 0.9800075085179567, 0.9800075085179567, 0.9800075085179567, 0.9800075085179567, 0.9800075085179567, 0.9800075085179567, 0.9818124490472263, 0.9818124490472263]}], \"AUC_weighted\": [{\"categories\": [\"0\", \"1\", \"2\", \"3\", \"4\", \"5\", \"6\", \"7\", \"8\", \"9\", \"10\", \"11\", \"12\", \"13\", \"14\", \"15\", \"16\", \"17\", \"18\", \"19\", \"20\", \"21\", \"22\", \"23\", \"24\", \"25\", \"26\", \"27\", \"28\", \"29\", \"30\", \"31\", \"32\", \"33\", \"34\", \"35\", \"36\", \"37\", \"38\", \"39\", \"40\", \"41\", \"42\", \"43\", \"44\", \"45\", \"46\", \"53\", \"54\"], \"mode\": \"markers\", \"name\": \"AUC_weighted\", \"stepped\": false, \"type\": \"scatter\", \"data\": [0.9982348563940859, 0.9980583751239606, 0.9752298109082091, 0.9552250782340673, 0.9871464970290201, 0.9915461063180128, 0.9945707891700885, 0.995198223668682, 0.997119828617396, 0.9964382464222171, 0.9981961150009019, 0.995255072872241, 0.9918057729478648, 0.9951450620370346, 0.9948806005356187, 0.9798116376464927, 0.9944885673718193, 0.9949991273999638, 0.9911773705843389, 0.9823789346559488, 0.9818828935866221, 0.9579223641863033, 0.9916160061092277, 0.9965169967907629, 0.9955165579892156, 0.9657786031800862, 0.9934913233464576, 0.9939875316254537, 0.9980655650982673, 0.9879828134919887, 0.9916338806100078, 0.9980984649313976, 0.989183501882046, 0.9953737570961358, 0.9872775084087154, 0.5, 0.9650772240535481, 0.9950249698008197, 0.9972174097088565, 0.9920861012446401, 0.9947522723795555, 0.9981549230712381, 0.9952278907136468, 0.9946001713116684, 0.9953315191337473, 0.9938592982961628, 0.988021921210838, 0.9982944398267265, 0.9983156812851294]}, {\"categories\": [\"0\", \"1\", \"2\", \"3\", \"4\", \"5\", \"6\", \"7\", \"8\", \"9\", \"10\", \"11\", \"12\", \"13\", \"14\", \"15\", \"16\", \"17\", \"18\", \"19\", \"20\", \"21\", \"22\", \"23\", \"24\", \"25\", \"26\", \"27\", \"28\", \"29\", \"30\", \"31\", \"32\", \"33\", \"34\", \"35\", \"36\", \"37\", \"38\", \"39\", \"40\", \"41\", \"42\", \"43\", \"44\", \"45\", \"46\", \"53\", \"54\"], \"mode\": \"lines\", \"name\": \"AUC_weighted_max\", \"stepped\": true, \"type\": \"scatter\", \"data\": [0.9982348563940859, 0.9982348563940859, 0.9982348563940859, 0.9982348563940859, 0.9982348563940859, 0.9982348563940859, 0.9982348563940859, 0.9982348563940859, 0.9982348563940859, 0.9982348563940859, 0.9982348563940859, 0.9982348563940859, 0.9982348563940859, 0.9982348563940859, 0.9982348563940859, 0.9982348563940859, 0.9982348563940859, 0.9982348563940859, 0.9982348563940859, 0.9982348563940859, 0.9982348563940859, 0.9982348563940859, 0.9982348563940859, 0.9982348563940859, 0.9982348563940859, 0.9982348563940859, 0.9982348563940859, 0.9982348563940859, 0.9982348563940859, 0.9982348563940859, 0.9982348563940859, 0.9982348563940859, 0.9982348563940859, 0.9982348563940859, 0.9982348563940859, 0.9982348563940859, 0.9982348563940859, 0.9982348563940859, 0.9982348563940859, 0.9982348563940859, 0.9982348563940859, 0.9982348563940859, 0.9982348563940859, 0.9982348563940859, 0.9982348563940859, 0.9982348563940859, 0.9982348563940859, 0.9982944398267265, 0.9983156812851294]}], \"balanced_accuracy\": [{\"categories\": [\"0\", \"1\", \"2\", \"3\", \"4\", \"5\", \"6\", \"7\", \"8\", \"9\", \"10\", \"11\", \"12\", \"13\", \"14\", \"15\", \"16\", \"17\", \"18\", \"19\", \"20\", \"21\", \"22\", \"23\", \"24\", \"25\", \"26\", \"27\", \"28\", \"29\", \"30\", \"31\", \"32\", \"33\", \"34\", \"35\", \"36\", \"37\", \"38\", \"39\", \"40\", \"41\", \"42\", \"43\", \"44\", \"45\", \"46\", \"53\", \"54\"], \"mode\": \"markers\", \"name\": \"balanced_accuracy\", \"stepped\": false, \"type\": \"scatter\", \"data\": [0.9750558736568098, 0.966000538190876, 0.8239761832359155, 0.7344346585348754, 0.9384765635675899, 0.9260054337728661, 0.9405701743145504, 0.9562367433454252, 0.9467813367468924, 0.9533755506974219, 0.9674415157445316, 0.9488422633742908, 0.9395159891656958, 0.9498675432815693, 0.9469346634641006, 0.8954169906108046, 0.9230164085546945, 0.9474432481624181, 0.6538538780073612, 0.7536162196967813, 0.8044498589660233, 0.7469600879427182, 0.9223030830194112, 0.9540183174489343, 0.9147886474580483, 0.8331337588587816, 0.9410497983239087, 0.9426766411266373, 0.9748244627331201, 0.7359294110050767, 0.5759654262467735, 0.9707801506801519, 0.9284296643741566, 0.9546845123446426, 0.8421352668525159, 0.5, 0.7157713512925926, 0.949444397730467, 0.9574752767142966, 0.9352314753371748, 0.9467561720768561, 0.9674137384100097, 0.9390364992993567, 0.9459684092190552, 0.9505927734940883, 0.9434116803084635, 0.943334265557802, 0.9744671626391342, 0.9725477180463712]}, {\"categories\": [\"0\", \"1\", \"2\", \"3\", \"4\", \"5\", \"6\", \"7\", \"8\", \"9\", \"10\", \"11\", \"12\", \"13\", \"14\", \"15\", \"16\", \"17\", \"18\", \"19\", \"20\", \"21\", \"22\", \"23\", \"24\", \"25\", \"26\", \"27\", \"28\", \"29\", \"30\", \"31\", \"32\", \"33\", \"34\", \"35\", \"36\", \"37\", \"38\", \"39\", \"40\", \"41\", \"42\", \"43\", \"44\", \"45\", \"46\", \"53\", \"54\"], \"mode\": \"lines\", \"name\": \"balanced_accuracy_max\", \"stepped\": true, \"type\": \"scatter\", \"data\": [0.9750558736568098, 0.9750558736568098, 0.9750558736568098, 0.9750558736568098, 0.9750558736568098, 0.9750558736568098, 0.9750558736568098, 0.9750558736568098, 0.9750558736568098, 0.9750558736568098, 0.9750558736568098, 0.9750558736568098, 0.9750558736568098, 0.9750558736568098, 0.9750558736568098, 0.9750558736568098, 0.9750558736568098, 0.9750558736568098, 0.9750558736568098, 0.9750558736568098, 0.9750558736568098, 0.9750558736568098, 0.9750558736568098, 0.9750558736568098, 0.9750558736568098, 0.9750558736568098, 0.9750558736568098, 0.9750558736568098, 0.9750558736568098, 0.9750558736568098, 0.9750558736568098, 0.9750558736568098, 0.9750558736568098, 0.9750558736568098, 0.9750558736568098, 0.9750558736568098, 0.9750558736568098, 0.9750558736568098, 0.9750558736568098, 0.9750558736568098, 0.9750558736568098, 0.9750558736568098, 0.9750558736568098, 0.9750558736568098, 0.9750558736568098, 0.9750558736568098, 0.9750558736568098, 0.9750558736568098, 0.9750558736568098]}], \"precision_score_micro\": [{\"categories\": [\"0\", \"1\", \"2\", \"3\", \"4\", \"5\", \"6\", \"7\", \"8\", \"9\", \"10\", \"11\", \"12\", \"13\", \"14\", \"15\", \"16\", \"17\", \"18\", \"19\", \"20\", \"21\", \"22\", \"23\", \"24\", \"25\", \"26\", \"27\", \"28\", \"29\", \"30\", \"31\", \"32\", \"33\", \"34\", \"35\", \"36\", \"37\", \"38\", \"39\", \"40\", \"41\", \"42\", \"43\", \"44\", \"45\", \"46\", \"53\", \"54\"], \"mode\": \"markers\", \"name\": \"precision_score_micro\", \"stepped\": false, \"type\": \"scatter\", \"data\": [0.9874089614728884, 0.9853106074110641, 0.9334658402694932, 0.9074191086063231, 0.9422293069325033, 0.9690160937192901, 0.973830405748214, 0.9806193865097974, 0.9786447177771379, 0.9791383163985904, 0.9855574295756945, 0.9787680374438366, 0.9739535882914879, 0.978274073159918, 0.977286555962355, 0.9509936877516786, 0.9704976209085799, 0.9771632820034647, 0.8872976629597634, 0.9191451725698302, 0.9342053468994109, 0.914207449458591, 0.9661771360401498, 0.9787680831516449, 0.9692630530073453, 0.9413653379406804, 0.974447324036365, 0.9756817548141749, 0.9877795146744918, 0.9135904397548232, 0.8618685352018686, 0.9856808406580096, 0.9701269305835516, 0.9801258793039614, 0.945068858813151, 0.8373035592670296, 0.9061847235363217, 0.9774100584602868, 0.9822244619048272, 0.9734597154231857, 0.976669317719546, 0.9855574752835027, 0.975805485851148, 0.9762990387647922, 0.9782741188677262, 0.9754348869417363, 0.9393922232735018, 0.9881497479214375, 0.9875325553864367]}, {\"categories\": [\"0\", \"1\", \"2\", \"3\", \"4\", \"5\", \"6\", \"7\", \"8\", \"9\", \"10\", \"11\", \"12\", \"13\", \"14\", \"15\", \"16\", \"17\", \"18\", \"19\", \"20\", \"21\", \"22\", \"23\", \"24\", \"25\", \"26\", \"27\", \"28\", \"29\", \"30\", \"31\", \"32\", \"33\", \"34\", \"35\", \"36\", \"37\", \"38\", \"39\", \"40\", \"41\", \"42\", \"43\", \"44\", \"45\", \"46\", \"53\", \"54\"], \"mode\": \"lines\", \"name\": \"precision_score_micro_max\", \"stepped\": true, \"type\": \"scatter\", \"data\": [0.9874089614728884, 0.9874089614728884, 0.9874089614728884, 0.9874089614728884, 0.9874089614728884, 0.9874089614728884, 0.9874089614728884, 0.9874089614728884, 0.9874089614728884, 0.9874089614728884, 0.9874089614728884, 0.9874089614728884, 0.9874089614728884, 0.9874089614728884, 0.9874089614728884, 0.9874089614728884, 0.9874089614728884, 0.9874089614728884, 0.9874089614728884, 0.9874089614728884, 0.9874089614728884, 0.9874089614728884, 0.9874089614728884, 0.9874089614728884, 0.9874089614728884, 0.9874089614728884, 0.9874089614728884, 0.9874089614728884, 0.9877795146744918, 0.9877795146744918, 0.9877795146744918, 0.9877795146744918, 0.9877795146744918, 0.9877795146744918, 0.9877795146744918, 0.9877795146744918, 0.9877795146744918, 0.9877795146744918, 0.9877795146744918, 0.9877795146744918, 0.9877795146744918, 0.9877795146744918, 0.9877795146744918, 0.9877795146744918, 0.9877795146744918, 0.9877795146744918, 0.9877795146744918, 0.9881497479214375, 0.9881497479214375]}], \"AUC_macro\": [{\"categories\": [\"0\", \"1\", \"2\", \"3\", \"4\", \"5\", \"6\", \"7\", \"8\", \"9\", \"10\", \"11\", \"12\", \"13\", \"14\", \"15\", \"16\", \"17\", \"18\", \"19\", \"20\", \"21\", \"22\", \"23\", \"24\", \"25\", \"26\", \"27\", \"28\", \"29\", \"30\", \"31\", \"32\", \"33\", \"34\", \"35\", \"36\", \"37\", \"38\", \"39\", \"40\", \"41\", \"42\", \"43\", \"44\", \"45\", \"46\", \"53\", \"54\"], \"mode\": \"markers\", \"name\": \"AUC_macro\", \"stepped\": false, \"type\": \"scatter\", \"data\": [0.9982348563940859, 0.9980583751239606, 0.9752298109082091, 0.9552250782340673, 0.9871464970290201, 0.9915461063180128, 0.9945707891700885, 0.995198223668682, 0.9971198286173958, 0.9964382464222171, 0.9981961150009019, 0.995255072872241, 0.9918057729478648, 0.9951450620370346, 0.9948806005356187, 0.9798116376464927, 0.9944885673718193, 0.9949991273999638, 0.9911773705843389, 0.9823789346559488, 0.9818828935866222, 0.9579223641863032, 0.9916160061092277, 0.9965169967907629, 0.9955165579892155, 0.9657786031800862, 0.9934913233464574, 0.9939875316254537, 0.9980655650982673, 0.9879828134919889, 0.9916338806100077, 0.9980984649313976, 0.989183501882046, 0.9953737570961357, 0.9872775084087154, 0.5, 0.9650772240535481, 0.9950249698008197, 0.9972174097088565, 0.9920861012446401, 0.9947522723795555, 0.9981549230712381, 0.9952278907136468, 0.9946001713116684, 0.9953315191337473, 0.9938592982961626, 0.988021921210838, 0.9982944398267263, 0.9983156812851294]}, {\"categories\": [\"0\", \"1\", \"2\", \"3\", \"4\", \"5\", \"6\", \"7\", \"8\", \"9\", \"10\", \"11\", \"12\", \"13\", \"14\", \"15\", \"16\", \"17\", \"18\", \"19\", \"20\", \"21\", \"22\", \"23\", \"24\", \"25\", \"26\", \"27\", \"28\", \"29\", \"30\", \"31\", \"32\", \"33\", \"34\", \"35\", \"36\", \"37\", \"38\", \"39\", \"40\", \"41\", \"42\", \"43\", \"44\", \"45\", \"46\", \"53\", \"54\"], \"mode\": \"lines\", \"name\": \"AUC_macro_max\", \"stepped\": true, \"type\": \"scatter\", \"data\": [0.9982348563940859, 0.9982348563940859, 0.9982348563940859, 0.9982348563940859, 0.9982348563940859, 0.9982348563940859, 0.9982348563940859, 0.9982348563940859, 0.9982348563940859, 0.9982348563940859, 0.9982348563940859, 0.9982348563940859, 0.9982348563940859, 0.9982348563940859, 0.9982348563940859, 0.9982348563940859, 0.9982348563940859, 0.9982348563940859, 0.9982348563940859, 0.9982348563940859, 0.9982348563940859, 0.9982348563940859, 0.9982348563940859, 0.9982348563940859, 0.9982348563940859, 0.9982348563940859, 0.9982348563940859, 0.9982348563940859, 0.9982348563940859, 0.9982348563940859, 0.9982348563940859, 0.9982348563940859, 0.9982348563940859, 0.9982348563940859, 0.9982348563940859, 0.9982348563940859, 0.9982348563940859, 0.9982348563940859, 0.9982348563940859, 0.9982348563940859, 0.9982348563940859, 0.9982348563940859, 0.9982348563940859, 0.9982348563940859, 0.9982348563940859, 0.9982348563940859, 0.9982348563940859, 0.9982944398267263, 0.9983156812851294]}], \"f1_score_micro\": [{\"categories\": [\"0\", \"1\", \"2\", \"3\", \"4\", \"5\", \"6\", \"7\", \"8\", \"9\", \"10\", \"11\", \"12\", \"13\", \"14\", \"15\", \"16\", \"17\", \"18\", \"19\", \"20\", \"21\", \"22\", \"23\", \"24\", \"25\", \"26\", \"27\", \"28\", \"29\", \"30\", \"31\", \"32\", \"33\", \"34\", \"35\", \"36\", \"37\", \"38\", \"39\", \"40\", \"41\", \"42\", \"43\", \"44\", \"45\", \"46\", \"53\", \"54\"], \"mode\": \"markers\", \"name\": \"f1_score_micro\", \"stepped\": false, \"type\": \"scatter\", \"data\": [0.9874089614728884, 0.9853106074110641, 0.9334658402694932, 0.9074191086063231, 0.9422293069325033, 0.9690160937192901, 0.973830405748214, 0.9806193865097974, 0.9786447177771379, 0.9791383163985904, 0.9855574295756945, 0.9787680374438366, 0.9739535882914879, 0.978274073159918, 0.977286555962355, 0.9509936877516786, 0.9704976209085799, 0.9771632820034647, 0.8872976629597634, 0.9191451725698302, 0.9342053468994109, 0.914207449458591, 0.9661771360401498, 0.9787680831516449, 0.9692630530073453, 0.9413653379406804, 0.974447324036365, 0.9756817548141749, 0.9877795146744918, 0.9135904397548232, 0.8618685352018686, 0.9856808406580096, 0.9701269305835516, 0.9801258793039614, 0.945068858813151, 0.8373035592670296, 0.9061847235363217, 0.9774100584602868, 0.9822244619048272, 0.9734597154231857, 0.976669317719546, 0.9855574752835027, 0.975805485851148, 0.9762990387647922, 0.9782741188677262, 0.9754348869417363, 0.9393922232735018, 0.9881497479214375, 0.9875325553864367]}, {\"categories\": [\"0\", \"1\", \"2\", \"3\", \"4\", \"5\", \"6\", \"7\", \"8\", \"9\", \"10\", \"11\", \"12\", \"13\", \"14\", \"15\", \"16\", \"17\", \"18\", \"19\", \"20\", \"21\", \"22\", \"23\", \"24\", \"25\", \"26\", \"27\", \"28\", \"29\", \"30\", \"31\", \"32\", \"33\", \"34\", \"35\", \"36\", \"37\", \"38\", \"39\", \"40\", \"41\", \"42\", \"43\", \"44\", \"45\", \"46\", \"53\", \"54\"], \"mode\": \"lines\", \"name\": \"f1_score_micro_max\", \"stepped\": true, \"type\": \"scatter\", \"data\": [0.9874089614728884, 0.9874089614728884, 0.9874089614728884, 0.9874089614728884, 0.9874089614728884, 0.9874089614728884, 0.9874089614728884, 0.9874089614728884, 0.9874089614728884, 0.9874089614728884, 0.9874089614728884, 0.9874089614728884, 0.9874089614728884, 0.9874089614728884, 0.9874089614728884, 0.9874089614728884, 0.9874089614728884, 0.9874089614728884, 0.9874089614728884, 0.9874089614728884, 0.9874089614728884, 0.9874089614728884, 0.9874089614728884, 0.9874089614728884, 0.9874089614728884, 0.9874089614728884, 0.9874089614728884, 0.9874089614728884, 0.9877795146744918, 0.9877795146744918, 0.9877795146744918, 0.9877795146744918, 0.9877795146744918, 0.9877795146744918, 0.9877795146744918, 0.9877795146744918, 0.9877795146744918, 0.9877795146744918, 0.9877795146744918, 0.9877795146744918, 0.9877795146744918, 0.9877795146744918, 0.9877795146744918, 0.9877795146744918, 0.9877795146744918, 0.9877795146744918, 0.9877795146744918, 0.9881497479214375, 0.9881497479214375]}], \"average_precision_score_weighted\": [{\"categories\": [\"0\", \"1\", \"2\", \"3\", \"4\", \"5\", \"6\", \"7\", \"8\", \"9\", \"10\", \"11\", \"12\", \"13\", \"14\", \"15\", \"16\", \"17\", \"18\", \"19\", \"20\", \"21\", \"22\", \"23\", \"24\", \"25\", \"26\", \"27\", \"28\", \"29\", \"30\", \"31\", \"32\", \"33\", \"34\", \"35\", \"36\", \"37\", \"38\", \"39\", \"40\", \"41\", \"42\", \"43\", \"44\", \"45\", \"46\", \"53\", \"54\"], \"mode\": \"markers\", \"name\": \"average_precision_score_weighted\", \"stepped\": false, \"type\": \"scatter\", \"data\": [0.9983621673771177, 0.9981571799370664, 0.9805504266685157, 0.9669417788244635, 0.9887805001623051, 0.9932674644907052, 0.9954062428929006, 0.9960040681953931, 0.997399090141704, 0.9967871734625922, 0.9983206964620287, 0.9961080540192128, 0.9937969037492714, 0.9959506743216364, 0.9957223343970402, 0.984162025515145, 0.9950706734994187, 0.9957438519612863, 0.9921812735013985, 0.9854496720881148, 0.9856843078265819, 0.9709126104159772, 0.9920722791056811, 0.9968913800853754, 0.9959694974578097, 0.9781755690830051, 0.9947928587886384, 0.9950694362504159, 0.9983625647677461, 0.9898233109004838, 0.9927206909331262, 0.9982694711563548, 0.9920912420262082, 0.9961948802078542, 0.9892186757537581, 0.72762492823072, 0.9737450399850647, 0.9958185283368314, 0.9973835696671802, 0.9938400700399855, 0.9956743866571993, 0.998182665685818, 0.9957878686005383, 0.9954100280369382, 0.9960601817872524, 0.9950422569567025, 0.989506869525144, 0.9983890958272683, 0.9984174118571699]}, {\"categories\": [\"0\", \"1\", \"2\", \"3\", \"4\", \"5\", \"6\", \"7\", \"8\", \"9\", \"10\", \"11\", \"12\", \"13\", \"14\", \"15\", \"16\", \"17\", \"18\", \"19\", \"20\", \"21\", \"22\", \"23\", \"24\", \"25\", \"26\", \"27\", \"28\", \"29\", \"30\", \"31\", \"32\", \"33\", \"34\", \"35\", \"36\", \"37\", \"38\", \"39\", \"40\", \"41\", \"42\", \"43\", \"44\", \"45\", \"46\", \"53\", \"54\"], \"mode\": \"lines\", \"name\": \"average_precision_score_weighted_max\", \"stepped\": true, \"type\": \"scatter\", \"data\": [0.9983621673771177, 0.9983621673771177, 0.9983621673771177, 0.9983621673771177, 0.9983621673771177, 0.9983621673771177, 0.9983621673771177, 0.9983621673771177, 0.9983621673771177, 0.9983621673771177, 0.9983621673771177, 0.9983621673771177, 0.9983621673771177, 0.9983621673771177, 0.9983621673771177, 0.9983621673771177, 0.9983621673771177, 0.9983621673771177, 0.9983621673771177, 0.9983621673771177, 0.9983621673771177, 0.9983621673771177, 0.9983621673771177, 0.9983621673771177, 0.9983621673771177, 0.9983621673771177, 0.9983621673771177, 0.9983621673771177, 0.9983625647677461, 0.9983625647677461, 0.9983625647677461, 0.9983625647677461, 0.9983625647677461, 0.9983625647677461, 0.9983625647677461, 0.9983625647677461, 0.9983625647677461, 0.9983625647677461, 0.9983625647677461, 0.9983625647677461, 0.9983625647677461, 0.9983625647677461, 0.9983625647677461, 0.9983625647677461, 0.9983625647677461, 0.9983625647677461, 0.9983625647677461, 0.9983890958272683, 0.9984174118571699]}], \"f1_score_weighted\": [{\"categories\": [\"0\", \"1\", \"2\", \"3\", \"4\", \"5\", \"6\", \"7\", \"8\", \"9\", \"10\", \"11\", \"12\", \"13\", \"14\", \"15\", \"16\", \"17\", \"18\", \"19\", \"20\", \"21\", \"22\", \"23\", \"24\", \"25\", \"26\", \"27\", \"28\", \"29\", \"30\", \"31\", \"32\", \"33\", \"34\", \"35\", \"36\", \"37\", \"38\", \"39\", \"40\", \"41\", \"42\", \"43\", \"44\", \"45\", \"46\", \"53\", \"54\"], \"mode\": \"markers\", \"name\": \"f1_score_weighted\", \"stepped\": false, \"type\": \"scatter\", \"data\": [0.9873862570688954, 0.9852013763530646, 0.9291219758267606, 0.8949813225882544, 0.9444334875465118, 0.9684429825063935, 0.9735220775179566, 0.9804610776783349, 0.9783304375305094, 0.9789618698148352, 0.9854669251711181, 0.9784988808167564, 0.9736149563147798, 0.9780485367844918, 0.9770227116651045, 0.95024187006072, 0.9697659741368527, 0.9769124292387831, 0.8611065656047399, 0.9079669347241134, 0.9278585928005031, 0.9027493333963982, 0.9656181447363813, 0.978612979350432, 0.9682915172127001, 0.9371185353129312, 0.9741319303253441, 0.9753661523199705, 0.987742321507533, 0.9003617378039884, 0.8163258765069529, 0.9856369172927509, 0.9695981809276746, 0.9799507854257743, 0.9412657455039718, 0.7631713985796408, 0.8902701462254159, 0.9772039322446308, 0.9820407664614743, 0.9730216854148579, 0.9764237294919007, 0.9854645748262568, 0.9753796690385131, 0.9760463073782207, 0.9780638913901648, 0.975147359697827, 0.9423023535292779, 0.9881033300625964, 0.9874733787149944]}, {\"categories\": [\"0\", \"1\", \"2\", \"3\", \"4\", \"5\", \"6\", \"7\", \"8\", \"9\", \"10\", \"11\", \"12\", \"13\", \"14\", \"15\", \"16\", \"17\", \"18\", \"19\", \"20\", \"21\", \"22\", \"23\", \"24\", \"25\", \"26\", \"27\", \"28\", \"29\", \"30\", \"31\", \"32\", \"33\", \"34\", \"35\", \"36\", \"37\", \"38\", \"39\", \"40\", \"41\", \"42\", \"43\", \"44\", \"45\", \"46\", \"53\", \"54\"], \"mode\": \"lines\", \"name\": \"f1_score_weighted_max\", \"stepped\": true, \"type\": \"scatter\", \"data\": [0.9873862570688954, 0.9873862570688954, 0.9873862570688954, 0.9873862570688954, 0.9873862570688954, 0.9873862570688954, 0.9873862570688954, 0.9873862570688954, 0.9873862570688954, 0.9873862570688954, 0.9873862570688954, 0.9873862570688954, 0.9873862570688954, 0.9873862570688954, 0.9873862570688954, 0.9873862570688954, 0.9873862570688954, 0.9873862570688954, 0.9873862570688954, 0.9873862570688954, 0.9873862570688954, 0.9873862570688954, 0.9873862570688954, 0.9873862570688954, 0.9873862570688954, 0.9873862570688954, 0.9873862570688954, 0.9873862570688954, 0.987742321507533, 0.987742321507533, 0.987742321507533, 0.987742321507533, 0.987742321507533, 0.987742321507533, 0.987742321507533, 0.987742321507533, 0.987742321507533, 0.987742321507533, 0.987742321507533, 0.987742321507533, 0.987742321507533, 0.987742321507533, 0.987742321507533, 0.987742321507533, 0.987742321507533, 0.987742321507533, 0.987742321507533, 0.9881033300625964, 0.9881033300625964]}], \"recall_score_weighted\": [{\"categories\": [\"0\", \"1\", \"2\", \"3\", \"4\", \"5\", \"6\", \"7\", \"8\", \"9\", \"10\", \"11\", \"12\", \"13\", \"14\", \"15\", \"16\", \"17\", \"18\", \"19\", \"20\", \"21\", \"22\", \"23\", \"24\", \"25\", \"26\", \"27\", \"28\", \"29\", \"30\", \"31\", \"32\", \"33\", \"34\", \"35\", \"36\", \"37\", \"38\", \"39\", \"40\", \"41\", \"42\", \"43\", \"44\", \"45\", \"46\", \"53\", \"54\"], \"mode\": \"markers\", \"name\": \"recall_score_weighted\", \"stepped\": false, \"type\": \"scatter\", \"data\": [0.9874089614728884, 0.9853106074110641, 0.9334658402694932, 0.9074191086063231, 0.9422293069325033, 0.9690160937192901, 0.973830405748214, 0.9806193865097974, 0.9786447177771379, 0.9791383163985904, 0.9855574295756945, 0.9787680374438366, 0.9739535882914879, 0.978274073159918, 0.977286555962355, 0.9509936877516786, 0.9704976209085799, 0.9771632820034647, 0.8872976629597634, 0.9191451725698302, 0.9342053468994109, 0.914207449458591, 0.9661771360401498, 0.9787680831516449, 0.9692630530073453, 0.9413653379406804, 0.974447324036365, 0.9756817548141749, 0.9877795146744918, 0.9135904397548232, 0.8618685352018686, 0.9856808406580096, 0.9701269305835516, 0.9801258793039614, 0.945068858813151, 0.8373035592670296, 0.9061847235363217, 0.9774100584602868, 0.9822244619048272, 0.9734597154231857, 0.976669317719546, 0.9855574752835027, 0.975805485851148, 0.9762990387647922, 0.9782741188677262, 0.9754348869417363, 0.9393922232735018, 0.9881497479214375, 0.9875325553864367]}, {\"categories\": [\"0\", \"1\", \"2\", \"3\", \"4\", \"5\", \"6\", \"7\", \"8\", \"9\", \"10\", \"11\", \"12\", \"13\", \"14\", \"15\", \"16\", \"17\", \"18\", \"19\", \"20\", \"21\", \"22\", \"23\", \"24\", \"25\", \"26\", \"27\", \"28\", \"29\", \"30\", \"31\", \"32\", \"33\", \"34\", \"35\", \"36\", \"37\", \"38\", \"39\", \"40\", \"41\", \"42\", \"43\", \"44\", \"45\", \"46\", \"53\", \"54\"], \"mode\": \"lines\", \"name\": \"recall_score_weighted_max\", \"stepped\": true, \"type\": \"scatter\", \"data\": [0.9874089614728884, 0.9874089614728884, 0.9874089614728884, 0.9874089614728884, 0.9874089614728884, 0.9874089614728884, 0.9874089614728884, 0.9874089614728884, 0.9874089614728884, 0.9874089614728884, 0.9874089614728884, 0.9874089614728884, 0.9874089614728884, 0.9874089614728884, 0.9874089614728884, 0.9874089614728884, 0.9874089614728884, 0.9874089614728884, 0.9874089614728884, 0.9874089614728884, 0.9874089614728884, 0.9874089614728884, 0.9874089614728884, 0.9874089614728884, 0.9874089614728884, 0.9874089614728884, 0.9874089614728884, 0.9874089614728884, 0.9877795146744918, 0.9877795146744918, 0.9877795146744918, 0.9877795146744918, 0.9877795146744918, 0.9877795146744918, 0.9877795146744918, 0.9877795146744918, 0.9877795146744918, 0.9877795146744918, 0.9877795146744918, 0.9877795146744918, 0.9877795146744918, 0.9877795146744918, 0.9877795146744918, 0.9877795146744918, 0.9877795146744918, 0.9877795146744918, 0.9877795146744918, 0.9881497479214375, 0.9881497479214375]}], \"recall_score_micro\": [{\"categories\": [\"0\", \"1\", \"2\", \"3\", \"4\", \"5\", \"6\", \"7\", \"8\", \"9\", \"10\", \"11\", \"12\", \"13\", \"14\", \"15\", \"16\", \"17\", \"18\", \"19\", \"20\", \"21\", \"22\", \"23\", \"24\", \"25\", \"26\", \"27\", \"28\", \"29\", \"30\", \"31\", \"32\", \"33\", \"34\", \"35\", \"36\", \"37\", \"38\", \"39\", \"40\", \"41\", \"42\", \"43\", \"44\", \"45\", \"46\", \"53\", \"54\"], \"mode\": \"markers\", \"name\": \"recall_score_micro\", \"stepped\": false, \"type\": \"scatter\", \"data\": [0.9874089614728884, 0.9853106074110641, 0.9334658402694932, 0.9074191086063231, 0.9422293069325033, 0.9690160937192901, 0.973830405748214, 0.9806193865097974, 0.9786447177771379, 0.9791383163985904, 0.9855574295756945, 0.9787680374438366, 0.9739535882914879, 0.978274073159918, 0.977286555962355, 0.9509936877516786, 0.9704976209085799, 0.9771632820034647, 0.8872976629597634, 0.9191451725698302, 0.9342053468994109, 0.914207449458591, 0.9661771360401498, 0.9787680831516449, 0.9692630530073453, 0.9413653379406804, 0.974447324036365, 0.9756817548141749, 0.9877795146744918, 0.9135904397548232, 0.8618685352018686, 0.9856808406580096, 0.9701269305835516, 0.9801258793039614, 0.945068858813151, 0.8373035592670296, 0.9061847235363217, 0.9774100584602868, 0.9822244619048272, 0.9734597154231857, 0.976669317719546, 0.9855574752835027, 0.975805485851148, 0.9762990387647922, 0.9782741188677262, 0.9754348869417363, 0.9393922232735018, 0.9881497479214375, 0.9875325553864367]}, {\"categories\": [\"0\", \"1\", \"2\", \"3\", \"4\", \"5\", \"6\", \"7\", \"8\", \"9\", \"10\", \"11\", \"12\", \"13\", \"14\", \"15\", \"16\", \"17\", \"18\", \"19\", \"20\", \"21\", \"22\", \"23\", \"24\", \"25\", \"26\", \"27\", \"28\", \"29\", \"30\", \"31\", \"32\", \"33\", \"34\", \"35\", \"36\", \"37\", \"38\", \"39\", \"40\", \"41\", \"42\", \"43\", \"44\", \"45\", \"46\", \"53\", \"54\"], \"mode\": \"lines\", \"name\": \"recall_score_micro_max\", \"stepped\": true, \"type\": \"scatter\", \"data\": [0.9874089614728884, 0.9874089614728884, 0.9874089614728884, 0.9874089614728884, 0.9874089614728884, 0.9874089614728884, 0.9874089614728884, 0.9874089614728884, 0.9874089614728884, 0.9874089614728884, 0.9874089614728884, 0.9874089614728884, 0.9874089614728884, 0.9874089614728884, 0.9874089614728884, 0.9874089614728884, 0.9874089614728884, 0.9874089614728884, 0.9874089614728884, 0.9874089614728884, 0.9874089614728884, 0.9874089614728884, 0.9874089614728884, 0.9874089614728884, 0.9874089614728884, 0.9874089614728884, 0.9874089614728884, 0.9874089614728884, 0.9877795146744918, 0.9877795146744918, 0.9877795146744918, 0.9877795146744918, 0.9877795146744918, 0.9877795146744918, 0.9877795146744918, 0.9877795146744918, 0.9877795146744918, 0.9877795146744918, 0.9877795146744918, 0.9877795146744918, 0.9877795146744918, 0.9877795146744918, 0.9877795146744918, 0.9877795146744918, 0.9877795146744918, 0.9877795146744918, 0.9877795146744918, 0.9881497479214375, 0.9881497479214375]}], \"weighted_accuracy\": [{\"categories\": [\"0\", \"1\", \"2\", \"3\", \"4\", \"5\", \"6\", \"7\", \"8\", \"9\", \"10\", \"11\", \"12\", \"13\", \"14\", \"15\", \"16\", \"17\", \"18\", \"19\", \"20\", \"21\", \"22\", \"23\", \"24\", \"25\", \"26\", \"27\", \"28\", \"29\", \"30\", \"31\", \"32\", \"33\", \"34\", \"35\", \"36\", \"37\", \"38\", \"39\", \"40\", \"41\", \"42\", \"43\", \"44\", \"45\", \"46\", \"53\", \"54\"], \"mode\": \"markers\", \"name\": \"weighted_accuracy\", \"stepped\": false, \"type\": \"scatter\", \"data\": [0.9920264572700059, 0.9924851054037255, 0.9746433783754433, 0.9719956957688097, 0.9437565373502012, 0.9851411884169458, 0.9862412558530621, 0.9897068862298016, 0.9905349313728293, 0.9887000872388098, 0.9923082770577297, 0.9898814598110007, 0.9868276892542226, 0.9888443067655682, 0.9886144186431042, 0.9717494475000384, 0.988161390001677, 0.9882452982037059, 0.9745453970014107, 0.9810766002449212, 0.9827391328514, 0.9767686319306629, 0.9824981208381797, 0.9879388054219835, 0.9895841585754971, 0.9818283517789247, 0.9869369479040814, 0.9880166195395125, 0.9925840384239106, 0.9800626587377653, 0.9689053715121162, 0.9912007346878698, 0.985740148783668, 0.9895955837149085, 0.98348069644678, 0.9635304322903258, 0.977560434229671, 0.9878398571359601, 0.9914489980414726, 0.9877441813401151, 0.9877982969236833, 0.9923056663736686, 0.989546618169217, 0.9875970952312761, 0.988606569874909, 0.9873934158001326, 0.9379425533212914, 0.9932320062563731, 0.9930958757058868]}, {\"categories\": [\"0\", \"1\", \"2\", \"3\", \"4\", \"5\", \"6\", \"7\", \"8\", \"9\", \"10\", \"11\", \"12\", \"13\", \"14\", \"15\", \"16\", \"17\", \"18\", \"19\", \"20\", \"21\", \"22\", \"23\", \"24\", \"25\", \"26\", \"27\", \"28\", \"29\", \"30\", \"31\", \"32\", \"33\", \"34\", \"35\", \"36\", \"37\", \"38\", \"39\", \"40\", \"41\", \"42\", \"43\", \"44\", \"45\", \"46\", \"53\", \"54\"], \"mode\": \"lines\", \"name\": \"weighted_accuracy_max\", \"stepped\": true, \"type\": \"scatter\", \"data\": [0.9920264572700059, 0.9924851054037255, 0.9924851054037255, 0.9924851054037255, 0.9924851054037255, 0.9924851054037255, 0.9924851054037255, 0.9924851054037255, 0.9924851054037255, 0.9924851054037255, 0.9924851054037255, 0.9924851054037255, 0.9924851054037255, 0.9924851054037255, 0.9924851054037255, 0.9924851054037255, 0.9924851054037255, 0.9924851054037255, 0.9924851054037255, 0.9924851054037255, 0.9924851054037255, 0.9924851054037255, 0.9924851054037255, 0.9924851054037255, 0.9924851054037255, 0.9924851054037255, 0.9924851054037255, 0.9924851054037255, 0.9925840384239106, 0.9925840384239106, 0.9925840384239106, 0.9925840384239106, 0.9925840384239106, 0.9925840384239106, 0.9925840384239106, 0.9925840384239106, 0.9925840384239106, 0.9925840384239106, 0.9925840384239106, 0.9925840384239106, 0.9925840384239106, 0.9925840384239106, 0.9925840384239106, 0.9925840384239106, 0.9925840384239106, 0.9925840384239106, 0.9925840384239106, 0.9932320062563731, 0.9932320062563731]}], \"matthews_correlation\": [{\"categories\": [\"0\", \"1\", \"2\", \"3\", \"4\", \"5\", \"6\", \"7\", \"8\", \"9\", \"10\", \"11\", \"12\", \"13\", \"14\", \"15\", \"16\", \"17\", \"18\", \"19\", \"20\", \"21\", \"22\", \"23\", \"24\", \"25\", \"26\", \"27\", \"28\", \"29\", \"30\", \"31\", \"32\", \"33\", \"34\", \"35\", \"36\", \"37\", \"38\", \"39\", \"40\", \"41\", \"42\", \"43\", \"44\", \"45\", \"46\", \"53\", \"54\"], \"mode\": \"markers\", \"name\": \"matthews_correlation\", \"stepped\": false, \"type\": \"scatter\", \"data\": [0.9537000545583414, 0.9455203753613054, 0.7421540649153245, 0.6184675210223145, 0.8114952597370767, 0.8837537527477451, 0.9023643072662679, 0.9281295894874365, 0.9200688568449885, 0.922587760560874, 0.9464535787647627, 0.9207549378177416, 0.902906591885916, 0.9191767659748372, 0.915428176587669, 0.8156236041429813, 0.8883589084311266, 0.9150548540122457, 0.5192090170395286, 0.6765439581029223, 0.74172350797071, 0.6519228825879496, 0.8725295564765184, 0.9211939530901962, 0.8837112432242084, 0.7713721813666338, 0.9048377323022034, 0.9094408417423234, 0.9548018183085484, 0.6512891491070385, 0.3599273762908674, 0.9470609982851018, 0.8879430234148386, 0.9263542173065314, 0.7866792150809205, 0.0, 0.6157317022468608, 0.916139139194701, 0.9338557109114866, 0.9009312956471307, 0.9131828317289622, 0.9465840145652781, 0.909364847687833, 0.911812051416308, 0.9192480037424073, 0.9085401476901934, 0.8088379997455478, 0.9562365936711772, 0.9538878298075376]}, {\"categories\": [\"0\", \"1\", \"2\", \"3\", \"4\", \"5\", \"6\", \"7\", \"8\", \"9\", \"10\", \"11\", \"12\", \"13\", \"14\", \"15\", \"16\", \"17\", \"18\", \"19\", \"20\", \"21\", \"22\", \"23\", \"24\", \"25\", \"26\", \"27\", \"28\", \"29\", \"30\", \"31\", \"32\", \"33\", \"34\", \"35\", \"36\", \"37\", \"38\", \"39\", \"40\", \"41\", \"42\", \"43\", \"44\", \"45\", \"46\", \"53\", \"54\"], \"mode\": \"lines\", \"name\": \"matthews_correlation_max\", \"stepped\": true, \"type\": \"scatter\", \"data\": [0.9537000545583414, 0.9537000545583414, 0.9537000545583414, 0.9537000545583414, 0.9537000545583414, 0.9537000545583414, 0.9537000545583414, 0.9537000545583414, 0.9537000545583414, 0.9537000545583414, 0.9537000545583414, 0.9537000545583414, 0.9537000545583414, 0.9537000545583414, 0.9537000545583414, 0.9537000545583414, 0.9537000545583414, 0.9537000545583414, 0.9537000545583414, 0.9537000545583414, 0.9537000545583414, 0.9537000545583414, 0.9537000545583414, 0.9537000545583414, 0.9537000545583414, 0.9537000545583414, 0.9537000545583414, 0.9537000545583414, 0.9548018183085484, 0.9548018183085484, 0.9548018183085484, 0.9548018183085484, 0.9548018183085484, 0.9548018183085484, 0.9548018183085484, 0.9548018183085484, 0.9548018183085484, 0.9548018183085484, 0.9548018183085484, 0.9548018183085484, 0.9548018183085484, 0.9548018183085484, 0.9548018183085484, 0.9548018183085484, 0.9548018183085484, 0.9548018183085484, 0.9548018183085484, 0.9562365936711772, 0.9562365936711772]}], \"AUC_micro\": [{\"categories\": [\"0\", \"1\", \"2\", \"3\", \"4\", \"5\", \"6\", \"7\", \"8\", \"9\", \"10\", \"11\", \"12\", \"13\", \"14\", \"15\", \"16\", \"17\", \"18\", \"19\", \"20\", \"21\", \"22\", \"23\", \"24\", \"25\", \"26\", \"27\", \"28\", \"29\", \"30\", \"31\", \"32\", \"33\", \"34\", \"35\", \"36\", \"37\", \"38\", \"39\", \"40\", \"41\", \"42\", \"43\", \"44\", \"45\", \"46\", \"53\", \"54\"], \"mode\": \"markers\", \"name\": \"AUC_micro\", \"stepped\": false, \"type\": \"scatter\", \"data\": [0.9990409582273198, 0.9988644090426736, 0.9833999998475278, 0.9728466849055181, 0.9882284898877902, 0.9956116595455687, 0.9971865898477311, 0.9975034624068927, 0.9981047573529459, 0.9980477714331696, 0.9989762236529426, 0.9975614618070449, 0.9960283383437266, 0.9974887125909384, 0.9973237071209783, 0.9900511784887915, 0.9965560921081894, 0.997370727358425, 0.9762877022543369, 0.9815826636557695, 0.9855044215980476, 0.9749128751142283, 0.99528827071207, 0.9981152943109831, 0.9964299886149086, 0.9831117951456005, 0.996699544927553, 0.9969438097143192, 0.9990210949800805, 0.9821436230408273, 0.9726079964463965, 0.9989419954925124, 0.9948402354413058, 0.9976053460705693, 0.9907800187891164, 0.8373035592670296, 0.9729784429400198, 0.9974286866150884, 0.9982698861857594, 0.9959003917449358, 0.9973214299478296, 0.9988988719200353, 0.9970792837320849, 0.9971736195601778, 0.997589861362544, 0.9969078333422376, 0.9879356924436214, 0.9990293065521533, 0.9985388911611518]}, {\"categories\": [\"0\", \"1\", \"2\", \"3\", \"4\", \"5\", \"6\", \"7\", \"8\", \"9\", \"10\", \"11\", \"12\", \"13\", \"14\", \"15\", \"16\", \"17\", \"18\", \"19\", \"20\", \"21\", \"22\", \"23\", \"24\", \"25\", \"26\", \"27\", \"28\", \"29\", \"30\", \"31\", \"32\", \"33\", \"34\", \"35\", \"36\", \"37\", \"38\", \"39\", \"40\", \"41\", \"42\", \"43\", \"44\", \"45\", \"46\", \"53\", \"54\"], \"mode\": \"lines\", \"name\": \"AUC_micro_max\", \"stepped\": true, \"type\": \"scatter\", \"data\": [0.9990409582273198, 0.9990409582273198, 0.9990409582273198, 0.9990409582273198, 0.9990409582273198, 0.9990409582273198, 0.9990409582273198, 0.9990409582273198, 0.9990409582273198, 0.9990409582273198, 0.9990409582273198, 0.9990409582273198, 0.9990409582273198, 0.9990409582273198, 0.9990409582273198, 0.9990409582273198, 0.9990409582273198, 0.9990409582273198, 0.9990409582273198, 0.9990409582273198, 0.9990409582273198, 0.9990409582273198, 0.9990409582273198, 0.9990409582273198, 0.9990409582273198, 0.9990409582273198, 0.9990409582273198, 0.9990409582273198, 0.9990409582273198, 0.9990409582273198, 0.9990409582273198, 0.9990409582273198, 0.9990409582273198, 0.9990409582273198, 0.9990409582273198, 0.9990409582273198, 0.9990409582273198, 0.9990409582273198, 0.9990409582273198, 0.9990409582273198, 0.9990409582273198, 0.9990409582273198, 0.9990409582273198, 0.9990409582273198, 0.9990409582273198, 0.9990409582273198, 0.9990409582273198, 0.9990409582273198, 0.9990409582273198]}], \"norm_macro_recall\": [{\"categories\": [\"0\", \"1\", \"2\", \"3\", \"4\", \"5\", \"6\", \"7\", \"8\", \"9\", \"10\", \"11\", \"12\", \"13\", \"14\", \"15\", \"16\", \"17\", \"18\", \"19\", \"20\", \"21\", \"22\", \"23\", \"24\", \"25\", \"26\", \"27\", \"28\", \"29\", \"30\", \"31\", \"32\", \"33\", \"34\", \"35\", \"36\", \"37\", \"38\", \"39\", \"40\", \"41\", \"42\", \"43\", \"44\", \"45\", \"46\", \"53\", \"54\"], \"mode\": \"markers\", \"name\": \"norm_macro_recall\", \"stepped\": false, \"type\": \"scatter\", \"data\": [0.9501117473136196, 0.9320010763817518, 0.6479523664718311, 0.46886931706975105, 0.8769531271351797, 0.8520108675457324, 0.8811403486291006, 0.9124734866908503, 0.8935626734937848, 0.9067511013948439, 0.9348830314890634, 0.8976845267485816, 0.8790319783313915, 0.8997350865631385, 0.8938693269282011, 0.7908339812216094, 0.8460328171093888, 0.8948864963248361, 0.3077077560147223, 0.5072324393935626, 0.6088997179320466, 0.49392017588543663, 0.8446061660388221, 0.9080366348978686, 0.8295772949160968, 0.6662675177175631, 0.8820995966478172, 0.8853532822532748, 0.94964892546624, 0.47185882201015356, 0.1519308524935469, 0.9415603013603038, 0.8568593287483132, 0.909369024689285, 0.6842705337050319, 0.0, 0.43154270258518523, 0.8988887954609339, 0.9149505534285932, 0.8704629506743494, 0.8935123441537124, 0.9348274768200193, 0.8780729985987135, 0.8919368184381105, 0.9011855469881768, 0.8868233606169271, 0.8866685311156038, 0.9489343252782686, 0.9450954360927423]}, {\"categories\": [\"0\", \"1\", \"2\", \"3\", \"4\", \"5\", \"6\", \"7\", \"8\", \"9\", \"10\", \"11\", \"12\", \"13\", \"14\", \"15\", \"16\", \"17\", \"18\", \"19\", \"20\", \"21\", \"22\", \"23\", \"24\", \"25\", \"26\", \"27\", \"28\", \"29\", \"30\", \"31\", \"32\", \"33\", \"34\", \"35\", \"36\", \"37\", \"38\", \"39\", \"40\", \"41\", \"42\", \"43\", \"44\", \"45\", \"46\", \"53\", \"54\"], \"mode\": \"lines\", \"name\": \"norm_macro_recall_max\", \"stepped\": true, \"type\": \"scatter\", \"data\": [0.9501117473136196, 0.9501117473136196, 0.9501117473136196, 0.9501117473136196, 0.9501117473136196, 0.9501117473136196, 0.9501117473136196, 0.9501117473136196, 0.9501117473136196, 0.9501117473136196, 0.9501117473136196, 0.9501117473136196, 0.9501117473136196, 0.9501117473136196, 0.9501117473136196, 0.9501117473136196, 0.9501117473136196, 0.9501117473136196, 0.9501117473136196, 0.9501117473136196, 0.9501117473136196, 0.9501117473136196, 0.9501117473136196, 0.9501117473136196, 0.9501117473136196, 0.9501117473136196, 0.9501117473136196, 0.9501117473136196, 0.9501117473136196, 0.9501117473136196, 0.9501117473136196, 0.9501117473136196, 0.9501117473136196, 0.9501117473136196, 0.9501117473136196, 0.9501117473136196, 0.9501117473136196, 0.9501117473136196, 0.9501117473136196, 0.9501117473136196, 0.9501117473136196, 0.9501117473136196, 0.9501117473136196, 0.9501117473136196, 0.9501117473136196, 0.9501117473136196, 0.9501117473136196, 0.9501117473136196, 0.9501117473136196]}], \"average_precision_score_micro\": [{\"categories\": [\"0\", \"1\", \"2\", \"3\", \"4\", \"5\", \"6\", \"7\", \"8\", \"9\", \"10\", \"11\", \"12\", \"13\", \"14\", \"15\", \"16\", \"17\", \"18\", \"19\", \"20\", \"21\", \"22\", \"23\", \"24\", \"25\", \"26\", \"27\", \"28\", \"29\", \"30\", \"31\", \"32\", \"33\", \"34\", \"35\", \"36\", \"37\", \"38\", \"39\", \"40\", \"41\", \"42\", \"43\", \"44\", \"45\", \"46\", \"53\", \"54\"], \"mode\": \"markers\", \"name\": \"average_precision_score_micro\", \"stepped\": false, \"type\": \"scatter\", \"data\": [0.9990566812269132, 0.9988847508984856, 0.9839847241651012, 0.9738671854111426, 0.9885123744255665, 0.9957203388309109, 0.9972520408649913, 0.9975230135149453, 0.9981403085647239, 0.9980885326837198, 0.9989942645636049, 0.9976165347001006, 0.9960956151793825, 0.9975429698694548, 0.9973824195061827, 0.9902788792380672, 0.9966397525352972, 0.9974268347560078, 0.9776836550346334, 0.9823667763514571, 0.9860087355382293, 0.9753625181644954, 0.9954030967651487, 0.9981542478446848, 0.9965156658981419, 0.9830012046082977, 0.9967703081259242, 0.9970132128029868, 0.9990227604638338, 0.9829510496517412, 0.9744414426035993, 0.9989599373488457, 0.9949054266443871, 0.9976449948585259, 0.9910680578965554, 0.7824642437488748, 0.9741111856836194, 0.9974825711879726, 0.9983048346530078, 0.9959807456066395, 0.9973787141255203, 0.9989107294775802, 0.9971341470346443, 0.9972347228164429, 0.9976408338334353, 0.9969768029056768, 0.9883132084063077, 0.999047051240426, 0.9982800146914771]}, {\"categories\": [\"0\", \"1\", \"2\", \"3\", \"4\", \"5\", \"6\", \"7\", \"8\", \"9\", \"10\", \"11\", \"12\", \"13\", \"14\", \"15\", \"16\", \"17\", \"18\", \"19\", \"20\", \"21\", \"22\", \"23\", \"24\", \"25\", \"26\", \"27\", \"28\", \"29\", \"30\", \"31\", \"32\", \"33\", \"34\", \"35\", \"36\", \"37\", \"38\", \"39\", \"40\", \"41\", \"42\", \"43\", \"44\", \"45\", \"46\", \"53\", \"54\"], \"mode\": \"lines\", \"name\": \"average_precision_score_micro_max\", \"stepped\": true, \"type\": \"scatter\", \"data\": [0.9990566812269132, 0.9990566812269132, 0.9990566812269132, 0.9990566812269132, 0.9990566812269132, 0.9990566812269132, 0.9990566812269132, 0.9990566812269132, 0.9990566812269132, 0.9990566812269132, 0.9990566812269132, 0.9990566812269132, 0.9990566812269132, 0.9990566812269132, 0.9990566812269132, 0.9990566812269132, 0.9990566812269132, 0.9990566812269132, 0.9990566812269132, 0.9990566812269132, 0.9990566812269132, 0.9990566812269132, 0.9990566812269132, 0.9990566812269132, 0.9990566812269132, 0.9990566812269132, 0.9990566812269132, 0.9990566812269132, 0.9990566812269132, 0.9990566812269132, 0.9990566812269132, 0.9990566812269132, 0.9990566812269132, 0.9990566812269132, 0.9990566812269132, 0.9990566812269132, 0.9990566812269132, 0.9990566812269132, 0.9990566812269132, 0.9990566812269132, 0.9990566812269132, 0.9990566812269132, 0.9990566812269132, 0.9990566812269132, 0.9990566812269132, 0.9990566812269132, 0.9990566812269132, 0.9990566812269132, 0.9990566812269132]}]}, \"metricName\": null, \"primaryMetricName\": \"accuracy\", \"showLegend\": false}, \"run_metrics\": [{\"name\": \"experiment_status\", \"run_id\": \"AutoML_4796283c-20a9-478b-b3c1-d77aca018967\", \"categories\": [0, 1, 2, 3, 4, 5, 6], \"series\": [{\"data\": [\"DatasetEvaluation\", \"FeaturesGeneration\", \"DatasetFeaturization\", \"DatasetFeaturizationCompleted\", \"DatasetBalancing\", \"DatasetCrossValidationSplit\", \"ModelSelection\"]}]}, {\"name\": \"experiment_status_description\", \"run_id\": \"AutoML_4796283c-20a9-478b-b3c1-d77aca018967\", \"categories\": [0, 1, 2, 3, 4, 5, 6], \"series\": [{\"data\": [\"Gathering dataset statistics.\", \"Generating features for the dataset.\", \"Beginning to fit featurizers and featurize the dataset.\", \"Completed fit featurizers and featurizing the dataset.\", \"Performing class balancing sweeping\", \"Generating individually featurized CV splits.\", \"Beginning model selection.\"]}]}, {\"name\": \"recall_score_micro\", \"run_id\": \"AutoML_4796283c-20a9-478b-b3c1-d77aca018967\", \"categories\": [0], \"series\": [{\"data\": [0.9881497479214375]}]}, {\"name\": \"accuracy\", \"run_id\": \"AutoML_4796283c-20a9-478b-b3c1-d77aca018967\", \"categories\": [0], \"series\": [{\"data\": [0.9881497479214375]}]}, {\"name\": \"norm_macro_recall\", \"run_id\": \"AutoML_4796283c-20a9-478b-b3c1-d77aca018967\", \"categories\": [0], \"series\": [{\"data\": [0.9489343252782686]}]}, {\"name\": \"precision_score_weighted\", \"run_id\": \"AutoML_4796283c-20a9-478b-b3c1-d77aca018967\", \"categories\": [0], \"series\": [{\"data\": [0.9881060940790287]}]}, {\"name\": \"balanced_accuracy\", \"run_id\": \"AutoML_4796283c-20a9-478b-b3c1-d77aca018967\", \"categories\": [0], \"series\": [{\"data\": [0.9744671626391342]}]}, {\"name\": \"weighted_accuracy\", \"run_id\": \"AutoML_4796283c-20a9-478b-b3c1-d77aca018967\", \"categories\": [0], \"series\": [{\"data\": [0.9932320062563731]}]}, {\"name\": \"precision_score_micro\", \"run_id\": \"AutoML_4796283c-20a9-478b-b3c1-d77aca018967\", \"categories\": [0], \"series\": [{\"data\": [0.9881497479214375]}]}, {\"name\": \"AUC_micro\", \"run_id\": \"AutoML_4796283c-20a9-478b-b3c1-d77aca018967\", \"categories\": [0], \"series\": [{\"data\": [0.9990293065521533]}]}, {\"name\": \"average_precision_score_weighted\", \"run_id\": \"AutoML_4796283c-20a9-478b-b3c1-d77aca018967\", \"categories\": [0], \"series\": [{\"data\": [0.9983890958272683]}]}, {\"name\": \"precision_score_macro\", \"run_id\": \"AutoML_4796283c-20a9-478b-b3c1-d77aca018967\", \"categories\": [0], \"series\": [{\"data\": [0.9818124490472263]}]}, {\"name\": \"average_precision_score_macro\", \"run_id\": \"AutoML_4796283c-20a9-478b-b3c1-d77aca018967\", \"categories\": [0], \"series\": [{\"data\": [0.9957458670230658]}]}, {\"name\": \"recall_score_weighted\", \"run_id\": \"AutoML_4796283c-20a9-478b-b3c1-d77aca018967\", \"categories\": [0], \"series\": [{\"data\": [0.9881497479214375]}]}, {\"name\": \"f1_score_weighted\", \"run_id\": \"AutoML_4796283c-20a9-478b-b3c1-d77aca018967\", \"categories\": [0], \"series\": [{\"data\": [0.9881033300625964]}]}, {\"name\": \"average_precision_score_micro\", \"run_id\": \"AutoML_4796283c-20a9-478b-b3c1-d77aca018967\", \"categories\": [0], \"series\": [{\"data\": [0.999047051240426]}]}, {\"name\": \"f1_score_micro\", \"run_id\": \"AutoML_4796283c-20a9-478b-b3c1-d77aca018967\", \"categories\": [0], \"series\": [{\"data\": [0.9881497479214375]}]}, {\"name\": \"recall_score_macro\", \"run_id\": \"AutoML_4796283c-20a9-478b-b3c1-d77aca018967\", \"categories\": [0], \"series\": [{\"data\": [0.9744671626391342]}]}, {\"name\": \"AUC_macro\", \"run_id\": \"AutoML_4796283c-20a9-478b-b3c1-d77aca018967\", \"categories\": [0], \"series\": [{\"data\": [0.9982944398267263]}]}, {\"name\": \"AUC_weighted\", \"run_id\": \"AutoML_4796283c-20a9-478b-b3c1-d77aca018967\", \"categories\": [0], \"series\": [{\"data\": [0.9982944398267265]}]}, {\"name\": \"log_loss\", \"run_id\": \"AutoML_4796283c-20a9-478b-b3c1-d77aca018967\", \"categories\": [0], \"series\": [{\"data\": [0.040058154261099356]}]}, {\"name\": \"matthews_correlation\", \"run_id\": \"AutoML_4796283c-20a9-478b-b3c1-d77aca018967\", \"categories\": [0], \"series\": [{\"data\": [0.9562365936711772]}]}, {\"name\": \"f1_score_macro\", \"run_id\": \"AutoML_4796283c-20a9-478b-b3c1-d77aca018967\", \"categories\": [0], \"series\": [{\"data\": [0.9780722360715396]}]}], \"run_logs\": \"\\nRun is completed.\", \"graph\": {}, \"widget_settings\": {\"childWidgetDisplay\": \"popup\", \"send_telemetry\": false, \"log_level\": \"INFO\", \"sdk_version\": \"1.19.0\"}, \"loading\": false}"
     },
     "metadata": {},
     "output_type": "display_data"
    },
    {
     "name": "stdout",
     "output_type": "stream",
     "text": [
      "\n",
      "\n",
      "****************************************************************************************************\n",
      "DATA GUARDRAILS: \n",
      "\n",
      "TYPE:         Class balancing detection\n",
      "STATUS:       ALERTED\n",
      "DESCRIPTION:  To decrease model bias, please cancel the current run and fix balancing problem.\n",
      "              Learn more about imbalanced data: https://aka.ms/AutomatedMLImbalancedData\n",
      "DETAILS:      Imbalanced data can lead to a falsely perceived positive effect of a model's accuracy because the input data has bias towards one class.\n",
      "+---------------------------------+---------------------------------+--------------------------------------+\n",
      "|Size of the smallest class       |Name/Label of the smallest class |Number of samples in the training data|\n",
      "+=================================+=================================+======================================+\n",
      "|1318                             |1                                |8101                                  |\n",
      "+---------------------------------+---------------------------------+--------------------------------------+\n",
      "\n",
      "****************************************************************************************************\n",
      "\n",
      "TYPE:         Missing feature values imputation\n",
      "STATUS:       PASSED\n",
      "DESCRIPTION:  No feature missing values were detected in the training data.\n",
      "              Learn more about missing value imputation: https://aka.ms/AutomatedMLFeaturization\n",
      "\n",
      "****************************************************************************************************\n",
      "\n",
      "TYPE:         High cardinality feature detection\n",
      "STATUS:       PASSED\n",
      "DESCRIPTION:  Your inputs were analyzed, and no high cardinality features were detected.\n",
      "              Learn more about high cardinality feature handling: https://aka.ms/AutomatedMLFeaturization\n",
      "\n",
      "****************************************************************************************************\n",
      "\n",
      "****************************************************************************************************\n",
      "ITERATION: The iteration being evaluated.\n",
      "PIPELINE: A summary description of the pipeline being evaluated.\n",
      "DURATION: Time taken for the current iteration.\n",
      "METRIC: The result of computing score on the fitted pipeline.\n",
      "BEST: The best observed score thus far.\n",
      "****************************************************************************************************\n",
      "\n",
      " ITERATION   PIPELINE                                       DURATION      METRIC      BEST\n",
      "         0   MaxAbsScaler LightGBM                          0:01:12       0.9874    0.9874\n",
      "         1   MaxAbsScaler XGBoostClassifier                 0:00:55       0.9853    0.9874\n",
      "         2   MinMaxScaler RandomForest                      0:00:50       0.9335    0.9874\n",
      "         3   MinMaxScaler RandomForest                      0:00:46       0.9074    0.9874\n",
      "         4   MinMaxScaler RandomForest                      0:00:48       0.9422    0.9874\n",
      "         5   SparseNormalizer XGBoostClassifier             0:00:54       0.9690    0.9874\n",
      "         6   SparseNormalizer XGBoostClassifier             0:01:20       0.9738    0.9874\n",
      "         7   SparseNormalizer XGBoostClassifier             0:02:27       0.9806    0.9874\n",
      "         8   MinMaxScaler LightGBM                          0:01:01       0.9786    0.9874\n",
      "         9   RobustScaler LightGBM                          0:01:13       0.9791    0.9874\n",
      "        10   StandardScalerWrapper XGBoostClassifier        0:01:28       0.9856    0.9874\n",
      "        11   SparseNormalizer XGBoostClassifier             0:01:24       0.9788    0.9874\n",
      "        12   SparseNormalizer XGBoostClassifier             0:01:14       0.9740    0.9874\n",
      "        13   SparseNormalizer XGBoostClassifier             0:01:33       0.9783    0.9874\n",
      "        14   SparseNormalizer XGBoostClassifier             0:01:17       0.9773    0.9874\n",
      "        15   MaxAbsScaler LogisticRegression                0:00:59       0.9510    0.9874\n",
      "        16   StandardScalerWrapper XGBoostClassifier        0:01:06       0.9705    0.9874\n",
      "        17   SparseNormalizer XGBoostClassifier             0:01:12       0.9772    0.9874\n",
      "        18   StandardScalerWrapper LightGBM                 0:00:57       0.8873    0.9874\n",
      "        19   MaxAbsScaler LightGBM                          0:00:59       0.9191    0.9874\n",
      "        20   StandardScalerWrapper LightGBM                 0:00:55       0.9342    0.9874\n",
      "        21   StandardScalerWrapper LightGBM                 0:00:48       0.9142    0.9874\n",
      "        22   MaxAbsScaler RandomForest                      0:01:24       0.9662    0.9874\n",
      "        23   RobustScaler LightGBM                          0:01:20       0.9788    0.9874\n",
      "        24   StandardScalerWrapper LightGBM                 0:00:52       0.9693    0.9874\n",
      "        25   MinMaxScaler LightGBM                          0:01:14       0.9414    0.9874\n",
      "        26   SparseNormalizer XGBoostClassifier             0:01:17       0.9744    0.9874\n",
      "        27   SparseNormalizer XGBoostClassifier             0:01:12       0.9757    0.9874\n",
      "        28   StandardScalerWrapper XGBoostClassifier        0:01:08       0.9878    0.9878\n",
      "        29   MinMaxScaler LightGBM                          0:00:43       0.9136    0.9878\n",
      "        30   RobustScaler LightGBM                          0:01:07       0.8619    0.9878\n",
      "        31   StandardScalerWrapper XGBoostClassifier        0:00:45       0.9857    0.9878\n",
      "        32   SparseNormalizer XGBoostClassifier             0:00:55       0.9701    0.9878\n",
      "        33   SparseNormalizer XGBoostClassifier             0:01:55       0.9801    0.9878\n",
      "        34   StandardScalerWrapper XGBoostClassifier        0:00:52       0.9451    0.9878\n",
      "        35   StandardScalerWrapper XGBoostClassifier        0:00:49       0.8373    0.9878\n",
      "        36   MinMaxScaler ExtremeRandomTrees                0:00:38       0.9062    0.9878\n",
      "        37   SparseNormalizer XGBoostClassifier             0:01:09       0.9774    0.9878\n",
      "        38   StandardScalerWrapper XGBoostClassifier        0:00:50       0.9822    0.9878\n",
      "        39   SparseNormalizer XGBoostClassifier             0:00:49       0.9735    0.9878\n",
      "        40   SparseNormalizer XGBoostClassifier             0:01:25       0.9767    0.9878\n",
      "        41   StandardScalerWrapper XGBoostClassifier        0:01:20       0.9856    0.9878\n",
      "        42   StandardScalerWrapper XGBoostClassifier        0:01:12       0.9758    0.9878\n",
      "        43   SparseNormalizer XGBoostClassifier             0:01:01       0.9763    0.9878\n",
      "        44   SparseNormalizer XGBoostClassifier             0:01:01       0.9783    0.9878\n",
      "        45   SparseNormalizer XGBoostClassifier             0:01:07       0.9754    0.9878\n",
      "        46   StandardScalerWrapper RandomForest             0:01:07       0.9394    0.9878\n",
      "        47   SparseNormalizer XGBoostClassifier             0:00:58          nan    0.9878\n",
      "        48   StandardScalerWrapper XGBoostClassifier        0:00:50          nan    0.9878\n",
      "        49                                                  0:00:10          nan    0.9878\n",
      "        50                                                  0:00:10          nan    0.9878\n",
      "        51                                                  0:00:17          nan    0.9878\n",
      "        52                                                  0:00:21          nan    0.9878\n",
      "        53    VotingEnsemble                                0:01:30       0.9881    0.9881\n",
      "        54    StackEnsemble                                 0:01:48       0.9875    0.9881\n"
     ]
    },
    {
     "data": {
      "text/plain": [
       "{'runId': 'AutoML_4796283c-20a9-478b-b3c1-d77aca018967',\n",
       " 'target': 'compute-aml-cluster',\n",
       " 'status': 'Completed',\n",
       " 'startTimeUtc': '2021-01-02T15:00:14.868844Z',\n",
       " 'endTimeUtc': '2021-01-02T15:13:59.146409Z',\n",
       " 'properties': {'num_iterations': '1000',\n",
       "  'training_type': 'TrainFull',\n",
       "  'acquisition_function': 'EI',\n",
       "  'primary_metric': 'accuracy',\n",
       "  'train_split': '0',\n",
       "  'acquisition_parameter': '0',\n",
       "  'num_cross_validation': '3',\n",
       "  'target': 'compute-aml-cluster',\n",
       "  'AMLSettingsJsonString': '{\"path\":null,\"name\":\"automl-experiment\",\"subscription_id\":\"a0a76bad-11a1-4a2d-9887-97a29122c8ed\",\"resource_group\":\"aml-quickstarts-132953\",\"workspace_name\":\"quick-starts-ws-132953\",\"region\":\"southcentralus\",\"compute_target\":\"compute-aml-cluster\",\"spark_service\":null,\"azure_service\":\"remote\",\"many_models\":false,\"pipeline_fetch_max_batch_size\":1,\"iterations\":1000,\"primary_metric\":\"accuracy\",\"task_type\":\"classification\",\"data_script\":null,\"validation_size\":0.0,\"n_cross_validations\":3,\"y_min\":null,\"y_max\":null,\"num_classes\":null,\"featurization\":\"auto\",\"_ignore_package_version_incompatibilities\":false,\"is_timeseries\":false,\"max_cores_per_iteration\":-1,\"max_concurrent_iterations\":10,\"iteration_timeout_minutes\":null,\"mem_in_mb\":null,\"enforce_time_on_windows\":false,\"experiment_timeout_minutes\":30,\"experiment_exit_score\":null,\"whitelist_models\":null,\"blacklist_algos\":[\"TensorFlowLinearClassifier\",\"TensorFlowDNN\"],\"supported_models\":[\"ExtremeRandomTrees\",\"TensorFlowLinearClassifier\",\"DecisionTree\",\"XGBoostClassifier\",\"LogisticRegression\",\"TensorFlowDNN\",\"LightGBM\",\"LinearSVM\",\"RandomForest\",\"AveragedPerceptronClassifier\",\"SGD\",\"MultinomialNaiveBayes\",\"GradientBoosting\",\"SVM\",\"KNN\",\"BernoulliNaiveBayes\"],\"auto_blacklist\":true,\"blacklist_samples_reached\":false,\"exclude_nan_labels\":true,\"verbosity\":20,\"_debug_log\":\"azureml_automl.log\",\"show_warnings\":false,\"model_explainability\":true,\"service_url\":null,\"sdk_url\":null,\"sdk_packages\":null,\"enable_onnx_compatible_models\":false,\"enable_split_onnx_featurizer_estimator_models\":false,\"vm_type\":\"STANDARD_D13_V2\",\"telemetry_verbosity\":20,\"send_telemetry\":true,\"enable_dnn\":false,\"scenario\":\"SDK-1.13.0\",\"environment_label\":null,\"force_text_dnn\":false,\"enable_feature_sweeping\":true,\"enable_early_stopping\":true,\"early_stopping_n_iters\":10,\"metrics\":null,\"enable_ensembling\":true,\"enable_stack_ensembling\":true,\"ensemble_iterations\":15,\"enable_tf\":false,\"enable_subsampling\":null,\"subsample_seed\":null,\"enable_nimbusml\":false,\"enable_streaming\":false,\"force_streaming\":false,\"track_child_runs\":true,\"allowed_private_models\":[],\"label_column_name\":\"Attrition_Flag\",\"weight_column_name\":null,\"cv_split_column_names\":null,\"enable_local_managed\":false,\"_local_managed_run_id\":null,\"cost_mode\":1,\"lag_length\":0,\"metric_operation\":\"maximize\",\"preprocess\":true}',\n",
       "  'DataPrepJsonString': '{\\\\\"training_data\\\\\": \\\\\"{\\\\\\\\\\\\\"blocks\\\\\\\\\\\\\": [{\\\\\\\\\\\\\"id\\\\\\\\\\\\\": \\\\\\\\\\\\\"f70fd9a8-0bb0-40ef-a836-494248ac6289\\\\\\\\\\\\\", \\\\\\\\\\\\\"type\\\\\\\\\\\\\": \\\\\\\\\\\\\"Microsoft.DPrep.GetDatastoreFilesBlock\\\\\\\\\\\\\", \\\\\\\\\\\\\"arguments\\\\\\\\\\\\\": {\\\\\\\\\\\\\"datastores\\\\\\\\\\\\\": [{\\\\\\\\\\\\\"datastoreName\\\\\\\\\\\\\": \\\\\\\\\\\\\"workspaceblobstore\\\\\\\\\\\\\", \\\\\\\\\\\\\"path\\\\\\\\\\\\\": \\\\\\\\\\\\\"data/train_data.csv\\\\\\\\\\\\\", \\\\\\\\\\\\\"resourceGroup\\\\\\\\\\\\\": \\\\\\\\\\\\\"aml-quickstarts-132953\\\\\\\\\\\\\", \\\\\\\\\\\\\"subscription\\\\\\\\\\\\\": \\\\\\\\\\\\\"a0a76bad-11a1-4a2d-9887-97a29122c8ed\\\\\\\\\\\\\", \\\\\\\\\\\\\"workspaceName\\\\\\\\\\\\\": \\\\\\\\\\\\\"quick-starts-ws-132953\\\\\\\\\\\\\"}]}, \\\\\\\\\\\\\"localData\\\\\\\\\\\\\": {}, \\\\\\\\\\\\\"isEnabled\\\\\\\\\\\\\": true, \\\\\\\\\\\\\"name\\\\\\\\\\\\\": null, \\\\\\\\\\\\\"annotation\\\\\\\\\\\\\": null}, {\\\\\\\\\\\\\"id\\\\\\\\\\\\\": \\\\\\\\\\\\\"3797fa79-53cd-4214-974b-2d7599048e9c\\\\\\\\\\\\\", \\\\\\\\\\\\\"type\\\\\\\\\\\\\": \\\\\\\\\\\\\"Microsoft.DPrep.ParseDelimitedBlock\\\\\\\\\\\\\", \\\\\\\\\\\\\"arguments\\\\\\\\\\\\\": {\\\\\\\\\\\\\"columnHeadersMode\\\\\\\\\\\\\": 3, \\\\\\\\\\\\\"fileEncoding\\\\\\\\\\\\\": 0, \\\\\\\\\\\\\"handleQuotedLineBreaks\\\\\\\\\\\\\": false, \\\\\\\\\\\\\"preview\\\\\\\\\\\\\": false, \\\\\\\\\\\\\"separator\\\\\\\\\\\\\": \\\\\\\\\\\\\",\\\\\\\\\\\\\", \\\\\\\\\\\\\"skipRows\\\\\\\\\\\\\": 0, \\\\\\\\\\\\\"skipRowsMode\\\\\\\\\\\\\": 0}, \\\\\\\\\\\\\"localData\\\\\\\\\\\\\": {}, \\\\\\\\\\\\\"isEnabled\\\\\\\\\\\\\": true, \\\\\\\\\\\\\"name\\\\\\\\\\\\\": null, \\\\\\\\\\\\\"annotation\\\\\\\\\\\\\": null}, {\\\\\\\\\\\\\"id\\\\\\\\\\\\\": \\\\\\\\\\\\\"6efa66b3-bfca-4b76-931f-c796e518a9da\\\\\\\\\\\\\", \\\\\\\\\\\\\"type\\\\\\\\\\\\\": \\\\\\\\\\\\\"Microsoft.DPrep.DropColumnsBlock\\\\\\\\\\\\\", \\\\\\\\\\\\\"arguments\\\\\\\\\\\\\": {\\\\\\\\\\\\\"columns\\\\\\\\\\\\\": {\\\\\\\\\\\\\"type\\\\\\\\\\\\\": 0, \\\\\\\\\\\\\"details\\\\\\\\\\\\\": {\\\\\\\\\\\\\"selectedColumns\\\\\\\\\\\\\": [\\\\\\\\\\\\\"Path\\\\\\\\\\\\\"]}}}, \\\\\\\\\\\\\"localData\\\\\\\\\\\\\": {}, \\\\\\\\\\\\\"isEnabled\\\\\\\\\\\\\": true, \\\\\\\\\\\\\"name\\\\\\\\\\\\\": null, \\\\\\\\\\\\\"annotation\\\\\\\\\\\\\": null}, {\\\\\\\\\\\\\"id\\\\\\\\\\\\\": \\\\\\\\\\\\\"f035581e-3f25-42d3-b1c4-b3b79c2d8baf\\\\\\\\\\\\\", \\\\\\\\\\\\\"type\\\\\\\\\\\\\": \\\\\\\\\\\\\"Microsoft.DPrep.SetColumnTypesBlock\\\\\\\\\\\\\", \\\\\\\\\\\\\"arguments\\\\\\\\\\\\\": {\\\\\\\\\\\\\"columnConversion\\\\\\\\\\\\\": [{\\\\\\\\\\\\\"column\\\\\\\\\\\\\": {\\\\\\\\\\\\\"type\\\\\\\\\\\\\": 2, \\\\\\\\\\\\\"details\\\\\\\\\\\\\": {\\\\\\\\\\\\\"selectedColumn\\\\\\\\\\\\\": \\\\\\\\\\\\\"Column1\\\\\\\\\\\\\"}}, \\\\\\\\\\\\\"typeProperty\\\\\\\\\\\\\": 2}, {\\\\\\\\\\\\\"column\\\\\\\\\\\\\": {\\\\\\\\\\\\\"type\\\\\\\\\\\\\": 2, \\\\\\\\\\\\\"details\\\\\\\\\\\\\": {\\\\\\\\\\\\\"selectedColumn\\\\\\\\\\\\\": \\\\\\\\\\\\\"Customer_Age\\\\\\\\\\\\\"}}, \\\\\\\\\\\\\"typeProperty\\\\\\\\\\\\\": 3}, {\\\\\\\\\\\\\"column\\\\\\\\\\\\\": {\\\\\\\\\\\\\"type\\\\\\\\\\\\\": 2, \\\\\\\\\\\\\"details\\\\\\\\\\\\\": {\\\\\\\\\\\\\"selectedColumn\\\\\\\\\\\\\": \\\\\\\\\\\\\"Gender\\\\\\\\\\\\\"}}, \\\\\\\\\\\\\"typeProperty\\\\\\\\\\\\\": 3}, {\\\\\\\\\\\\\"column\\\\\\\\\\\\\": {\\\\\\\\\\\\\"type\\\\\\\\\\\\\": 2, \\\\\\\\\\\\\"details\\\\\\\\\\\\\": {\\\\\\\\\\\\\"selectedColumn\\\\\\\\\\\\\": \\\\\\\\\\\\\"Dependent_count\\\\\\\\\\\\\"}}, \\\\\\\\\\\\\"typeProperty\\\\\\\\\\\\\": 3}, {\\\\\\\\\\\\\"column\\\\\\\\\\\\\": {\\\\\\\\\\\\\"type\\\\\\\\\\\\\": 2, \\\\\\\\\\\\\"details\\\\\\\\\\\\\": {\\\\\\\\\\\\\"selectedColumn\\\\\\\\\\\\\": \\\\\\\\\\\\\"Education_Level\\\\\\\\\\\\\"}}, \\\\\\\\\\\\\"typeProperty\\\\\\\\\\\\\": 3}, {\\\\\\\\\\\\\"column\\\\\\\\\\\\\": {\\\\\\\\\\\\\"type\\\\\\\\\\\\\": 2, \\\\\\\\\\\\\"details\\\\\\\\\\\\\": {\\\\\\\\\\\\\"selectedColumn\\\\\\\\\\\\\": \\\\\\\\\\\\\"Income_Category\\\\\\\\\\\\\"}}, \\\\\\\\\\\\\"typeProperty\\\\\\\\\\\\\": 3}, {\\\\\\\\\\\\\"column\\\\\\\\\\\\\": {\\\\\\\\\\\\\"type\\\\\\\\\\\\\": 2, \\\\\\\\\\\\\"details\\\\\\\\\\\\\": {\\\\\\\\\\\\\"selectedColumn\\\\\\\\\\\\\": \\\\\\\\\\\\\"Months_on_book\\\\\\\\\\\\\"}}, \\\\\\\\\\\\\"typeProperty\\\\\\\\\\\\\": 3}, {\\\\\\\\\\\\\"column\\\\\\\\\\\\\": {\\\\\\\\\\\\\"type\\\\\\\\\\\\\": 2, \\\\\\\\\\\\\"details\\\\\\\\\\\\\": {\\\\\\\\\\\\\"selectedColumn\\\\\\\\\\\\\": \\\\\\\\\\\\\"Total_Relationship_Count\\\\\\\\\\\\\"}}, \\\\\\\\\\\\\"typeProperty\\\\\\\\\\\\\": 3}, {\\\\\\\\\\\\\"column\\\\\\\\\\\\\": {\\\\\\\\\\\\\"type\\\\\\\\\\\\\": 2, \\\\\\\\\\\\\"details\\\\\\\\\\\\\": {\\\\\\\\\\\\\"selectedColumn\\\\\\\\\\\\\": \\\\\\\\\\\\\"Months_Inactive_12_mon\\\\\\\\\\\\\"}}, \\\\\\\\\\\\\"typeProperty\\\\\\\\\\\\\": 3}, {\\\\\\\\\\\\\"column\\\\\\\\\\\\\": {\\\\\\\\\\\\\"type\\\\\\\\\\\\\": 2, \\\\\\\\\\\\\"details\\\\\\\\\\\\\": {\\\\\\\\\\\\\"selectedColumn\\\\\\\\\\\\\": \\\\\\\\\\\\\"Contacts_Count_12_mon\\\\\\\\\\\\\"}}, \\\\\\\\\\\\\"typeProperty\\\\\\\\\\\\\": 3}, {\\\\\\\\\\\\\"column\\\\\\\\\\\\\": {\\\\\\\\\\\\\"type\\\\\\\\\\\\\": 2, \\\\\\\\\\\\\"details\\\\\\\\\\\\\": {\\\\\\\\\\\\\"selectedColumn\\\\\\\\\\\\\": \\\\\\\\\\\\\"Credit_Limit\\\\\\\\\\\\\"}}, \\\\\\\\\\\\\"typeProperty\\\\\\\\\\\\\": 3}, {\\\\\\\\\\\\\"column\\\\\\\\\\\\\": {\\\\\\\\\\\\\"type\\\\\\\\\\\\\": 2, \\\\\\\\\\\\\"details\\\\\\\\\\\\\": {\\\\\\\\\\\\\"selectedColumn\\\\\\\\\\\\\": \\\\\\\\\\\\\"Total_Revolving_Bal\\\\\\\\\\\\\"}}, \\\\\\\\\\\\\"typeProperty\\\\\\\\\\\\\": 3}, {\\\\\\\\\\\\\"column\\\\\\\\\\\\\": {\\\\\\\\\\\\\"type\\\\\\\\\\\\\": 2, \\\\\\\\\\\\\"details\\\\\\\\\\\\\": {\\\\\\\\\\\\\"selectedColumn\\\\\\\\\\\\\": \\\\\\\\\\\\\"Avg_Open_To_Buy\\\\\\\\\\\\\"}}, \\\\\\\\\\\\\"typeProperty\\\\\\\\\\\\\": 3}, {\\\\\\\\\\\\\"column\\\\\\\\\\\\\": {\\\\\\\\\\\\\"type\\\\\\\\\\\\\": 2, \\\\\\\\\\\\\"details\\\\\\\\\\\\\": {\\\\\\\\\\\\\"selectedColumn\\\\\\\\\\\\\": \\\\\\\\\\\\\"Total_Amt_Chng_Q4_Q1\\\\\\\\\\\\\"}}, \\\\\\\\\\\\\"typeProperty\\\\\\\\\\\\\": 3}, {\\\\\\\\\\\\\"column\\\\\\\\\\\\\": {\\\\\\\\\\\\\"type\\\\\\\\\\\\\": 2, \\\\\\\\\\\\\"details\\\\\\\\\\\\\": {\\\\\\\\\\\\\"selectedColumn\\\\\\\\\\\\\": \\\\\\\\\\\\\"Total_Trans_Amt\\\\\\\\\\\\\"}}, \\\\\\\\\\\\\"typeProperty\\\\\\\\\\\\\": 3}, {\\\\\\\\\\\\\"column\\\\\\\\\\\\\": {\\\\\\\\\\\\\"type\\\\\\\\\\\\\": 2, \\\\\\\\\\\\\"details\\\\\\\\\\\\\": {\\\\\\\\\\\\\"selectedColumn\\\\\\\\\\\\\": \\\\\\\\\\\\\"Total_Trans_Ct\\\\\\\\\\\\\"}}, \\\\\\\\\\\\\"typeProperty\\\\\\\\\\\\\": 3}, {\\\\\\\\\\\\\"column\\\\\\\\\\\\\": {\\\\\\\\\\\\\"type\\\\\\\\\\\\\": 2, \\\\\\\\\\\\\"details\\\\\\\\\\\\\": {\\\\\\\\\\\\\"selectedColumn\\\\\\\\\\\\\": \\\\\\\\\\\\\"Total_Ct_Chng_Q4_Q1\\\\\\\\\\\\\"}}, \\\\\\\\\\\\\"typeProperty\\\\\\\\\\\\\": 3}, {\\\\\\\\\\\\\"column\\\\\\\\\\\\\": {\\\\\\\\\\\\\"type\\\\\\\\\\\\\": 2, \\\\\\\\\\\\\"details\\\\\\\\\\\\\": {\\\\\\\\\\\\\"selectedColumn\\\\\\\\\\\\\": \\\\\\\\\\\\\"Avg_Utilization_Ratio\\\\\\\\\\\\\"}}, \\\\\\\\\\\\\"typeProperty\\\\\\\\\\\\\": 3}, {\\\\\\\\\\\\\"column\\\\\\\\\\\\\": {\\\\\\\\\\\\\"type\\\\\\\\\\\\\": 2, \\\\\\\\\\\\\"details\\\\\\\\\\\\\": {\\\\\\\\\\\\\"selectedColumn\\\\\\\\\\\\\": \\\\\\\\\\\\\"Marital_Status_Divorced\\\\\\\\\\\\\"}}, \\\\\\\\\\\\\"typeProperty\\\\\\\\\\\\\": 3}, {\\\\\\\\\\\\\"column\\\\\\\\\\\\\": {\\\\\\\\\\\\\"type\\\\\\\\\\\\\": 2, \\\\\\\\\\\\\"details\\\\\\\\\\\\\": {\\\\\\\\\\\\\"selectedColumn\\\\\\\\\\\\\": \\\\\\\\\\\\\"Marital_Status_Married\\\\\\\\\\\\\"}}, \\\\\\\\\\\\\"typeProperty\\\\\\\\\\\\\": 3}, {\\\\\\\\\\\\\"column\\\\\\\\\\\\\": {\\\\\\\\\\\\\"type\\\\\\\\\\\\\": 2, \\\\\\\\\\\\\"details\\\\\\\\\\\\\": {\\\\\\\\\\\\\"selectedColumn\\\\\\\\\\\\\": \\\\\\\\\\\\\"Marital_Status_Single\\\\\\\\\\\\\"}}, \\\\\\\\\\\\\"typeProperty\\\\\\\\\\\\\": 3}, {\\\\\\\\\\\\\"column\\\\\\\\\\\\\": {\\\\\\\\\\\\\"type\\\\\\\\\\\\\": 2, \\\\\\\\\\\\\"details\\\\\\\\\\\\\": {\\\\\\\\\\\\\"selectedColumn\\\\\\\\\\\\\": \\\\\\\\\\\\\"Card_Category_Blue\\\\\\\\\\\\\"}}, \\\\\\\\\\\\\"typeProperty\\\\\\\\\\\\\": 3}, {\\\\\\\\\\\\\"column\\\\\\\\\\\\\": {\\\\\\\\\\\\\"type\\\\\\\\\\\\\": 2, \\\\\\\\\\\\\"details\\\\\\\\\\\\\": {\\\\\\\\\\\\\"selectedColumn\\\\\\\\\\\\\": \\\\\\\\\\\\\"Card_Category_Gold\\\\\\\\\\\\\"}}, \\\\\\\\\\\\\"typeProperty\\\\\\\\\\\\\": 3}, {\\\\\\\\\\\\\"column\\\\\\\\\\\\\": {\\\\\\\\\\\\\"type\\\\\\\\\\\\\": 2, \\\\\\\\\\\\\"details\\\\\\\\\\\\\": {\\\\\\\\\\\\\"selectedColumn\\\\\\\\\\\\\": \\\\\\\\\\\\\"Card_Category_Platinum\\\\\\\\\\\\\"}}, \\\\\\\\\\\\\"typeProperty\\\\\\\\\\\\\": 3}, {\\\\\\\\\\\\\"column\\\\\\\\\\\\\": {\\\\\\\\\\\\\"type\\\\\\\\\\\\\": 2, \\\\\\\\\\\\\"details\\\\\\\\\\\\\": {\\\\\\\\\\\\\"selectedColumn\\\\\\\\\\\\\": \\\\\\\\\\\\\"Card_Category_Silver\\\\\\\\\\\\\"}}, \\\\\\\\\\\\\"typeProperty\\\\\\\\\\\\\": 3}, {\\\\\\\\\\\\\"column\\\\\\\\\\\\\": {\\\\\\\\\\\\\"type\\\\\\\\\\\\\": 2, \\\\\\\\\\\\\"details\\\\\\\\\\\\\": {\\\\\\\\\\\\\"selectedColumn\\\\\\\\\\\\\": \\\\\\\\\\\\\"Attrition_Flag\\\\\\\\\\\\\"}}, \\\\\\\\\\\\\"typeProperty\\\\\\\\\\\\\": 2}]}, \\\\\\\\\\\\\"localData\\\\\\\\\\\\\": {}, \\\\\\\\\\\\\"isEnabled\\\\\\\\\\\\\": true, \\\\\\\\\\\\\"name\\\\\\\\\\\\\": null, \\\\\\\\\\\\\"annotation\\\\\\\\\\\\\": null}], \\\\\\\\\\\\\"inspectors\\\\\\\\\\\\\": [], \\\\\\\\\\\\\"meta\\\\\\\\\\\\\": {\\\\\\\\\\\\\"savedDatasetId\\\\\\\\\\\\\": \\\\\\\\\\\\\"1954928b-f3bb-49e3-8854-862517f33c10\\\\\\\\\\\\\", \\\\\\\\\\\\\"datasetType\\\\\\\\\\\\\": \\\\\\\\\\\\\"tabular\\\\\\\\\\\\\", \\\\\\\\\\\\\"subscriptionId\\\\\\\\\\\\\": \\\\\\\\\\\\\"a0a76bad-11a1-4a2d-9887-97a29122c8ed\\\\\\\\\\\\\", \\\\\\\\\\\\\"workspaceId\\\\\\\\\\\\\": \\\\\\\\\\\\\"702fe34b-98da-4a84-a097-88511a2080e2\\\\\\\\\\\\\", \\\\\\\\\\\\\"workspaceLocation\\\\\\\\\\\\\": \\\\\\\\\\\\\"southcentralus\\\\\\\\\\\\\"}}\\\\\", \\\\\"activities\\\\\": 0}',\n",
       "  'EnableSubsampling': None,\n",
       "  'runTemplate': 'AutoML',\n",
       "  'azureml.runsource': 'automl',\n",
       "  'display_task_type': 'classification',\n",
       "  'dependencies_versions': '{\"azureml-widgets\": \"1.19.0\", \"azureml-train\": \"1.19.0\", \"azureml-train-restclients-hyperdrive\": \"1.19.0\", \"azureml-train-core\": \"1.19.0\", \"azureml-train-automl\": \"1.19.0\", \"azureml-train-automl-runtime\": \"1.19.0\", \"azureml-train-automl-client\": \"1.19.0\", \"azureml-tensorboard\": \"1.19.0\", \"azureml-telemetry\": \"1.19.0\", \"azureml-sdk\": \"1.19.0\", \"azureml-samples\": \"0+unknown\", \"azureml-pipeline\": \"1.19.0\", \"azureml-pipeline-steps\": \"1.19.0\", \"azureml-pipeline-core\": \"1.19.0\", \"azureml-opendatasets\": \"1.19.0\", \"azureml-model-management-sdk\": \"1.0.1b6.post1\", \"azureml-mlflow\": \"1.19.0\", \"azureml-interpret\": \"1.19.0\", \"azureml-explain-model\": \"1.19.0\", \"azureml-defaults\": \"1.19.0\", \"azureml-dataset-runtime\": \"1.19.0\", \"azureml-dataprep\": \"2.6.1\", \"azureml-dataprep-rslex\": \"1.4.0\", \"azureml-dataprep-native\": \"26.0.0\", \"azureml-datadrift\": \"1.19.0\", \"azureml-core\": \"1.19.0\", \"azureml-contrib-services\": \"1.19.0\", \"azureml-contrib-server\": \"1.19.0\", \"azureml-contrib-reinforcementlearning\": \"1.19.0\", \"azureml-contrib-pipeline-steps\": \"1.19.0\", \"azureml-contrib-notebook\": \"1.19.0\", \"azureml-contrib-interpret\": \"1.19.0\", \"azureml-contrib-gbdt\": \"1.19.0\", \"azureml-contrib-fairness\": \"1.19.0\", \"azureml-contrib-dataset\": \"1.19.0\", \"azureml-cli-common\": \"1.19.0\", \"azureml-automl-runtime\": \"1.19.0\", \"azureml-automl-core\": \"1.19.0\", \"azureml-accel-models\": \"1.19.0\"}',\n",
       "  '_aml_system_scenario_identification': 'Remote.Parent',\n",
       "  'ClientType': 'SDK',\n",
       "  'environment_cpu_name': 'AzureML-AutoML',\n",
       "  'environment_cpu_label': 'prod',\n",
       "  'environment_gpu_name': 'AzureML-AutoML-GPU',\n",
       "  'environment_gpu_label': 'prod',\n",
       "  'root_attribution': 'automl',\n",
       "  'attribution': 'AutoML',\n",
       "  'Orchestrator': 'AutoML',\n",
       "  'CancelUri': 'https://southcentralus.experiments.azureml.net/jasmine/v1.0/subscriptions/a0a76bad-11a1-4a2d-9887-97a29122c8ed/resourceGroups/aml-quickstarts-132953/providers/Microsoft.MachineLearningServices/workspaces/quick-starts-ws-132953/experimentids/008b8854-e005-4ed3-ad3c-cb11c42dcd57/cancel/AutoML_4796283c-20a9-478b-b3c1-d77aca018967',\n",
       "  'ClientSdkVersion': '1.19.0',\n",
       "  'snapshotId': '00000000-0000-0000-0000-000000000000',\n",
       "  'SetupRunId': 'AutoML_4796283c-20a9-478b-b3c1-d77aca018967_setup',\n",
       "  'SetupRunContainerId': 'dcid.AutoML_4796283c-20a9-478b-b3c1-d77aca018967_setup',\n",
       "  'FeaturizationRunJsonPath': 'featurizer_container.json',\n",
       "  'FeaturizationRunId': 'AutoML_4796283c-20a9-478b-b3c1-d77aca018967_featurize',\n",
       "  'ProblemInfoJsonString': '{\"dataset_num_categorical\": 0, \"is_sparse\": false, \"subsampling\": false, \"dataset_classes\": 2, \"dataset_features\": 25, \"dataset_samples\": 8101, \"single_frequency_class_detected\": false}',\n",
       "  'ModelExplainRunId': 'AutoML_4796283c-20a9-478b-b3c1-d77aca018967_ModelExplain'},\n",
       " 'inputDatasets': [{'dataset': {'id': '1954928b-f3bb-49e3-8854-862517f33c10'}, 'consumptionDetails': {'type': 'RunInput', 'inputName': 'training_data', 'mechanism': 'Direct'}}],\n",
       " 'outputDatasets': [],\n",
       " 'logFiles': {}}"
      ]
     },
     "execution_count": 13,
     "metadata": {},
     "output_type": "execute_result"
    }
   ],
   "source": [
    "RunDetails(remote_run).show()\n",
    "remote_run.wait_for_completion(show_output=True)"
   ]
  },
  {
   "cell_type": "markdown",
   "metadata": {},
   "source": [
    "## Best Model"
   ]
  },
  {
   "cell_type": "code",
   "execution_count": 14,
   "metadata": {
    "collapsed": false,
    "gather": {
     "logged": 1598431425670
    },
    "jupyter": {
     "outputs_hidden": false,
     "source_hidden": false
    },
    "nteract": {
     "transient": {
      "deleting": false
     }
    }
   },
   "outputs": [
    {
     "name": "stdout",
     "output_type": "stream",
     "text": [
      "Best Run ID AutoML_4796283c-20a9-478b-b3c1-d77aca018967_53\n"
     ]
    }
   ],
   "source": [
    "best_run, fitted_automl_best_model = remote_run.get_output()\n",
    "best_run_metrics = best_run.get_metrics()\n",
    "print('Best Run ID',best_run.id)"
   ]
  },
  {
   "cell_type": "code",
   "execution_count": 15,
   "metadata": {},
   "outputs": [
    {
     "data": {
      "text/html": [
       "<table style=\"width:100%\"><tr><th>Experiment</th><th>Id</th><th>Type</th><th>Status</th><th>Details Page</th><th>Docs Page</th></tr><tr><td>automl-experiment</td><td>AutoML_4796283c-20a9-478b-b3c1-d77aca018967_53</td><td>azureml.scriptrun</td><td>Completed</td><td><a href=\"https://ml.azure.com/experiments/automl-experiment/runs/AutoML_4796283c-20a9-478b-b3c1-d77aca018967_53?wsid=/subscriptions/a0a76bad-11a1-4a2d-9887-97a29122c8ed/resourcegroups/aml-quickstarts-132953/workspaces/quick-starts-ws-132953\" target=\"_blank\" rel=\"noopener\">Link to Azure Machine Learning studio</a></td><td><a href=\"https://docs.microsoft.com/en-us/python/api/azureml-core/azureml.core.run.Run?view=azure-ml-py\" target=\"_blank\" rel=\"noopener\">Link to Documentation</a></td></tr></table>"
      ],
      "text/plain": [
       "Run(Experiment: automl-experiment,\n",
       "Id: AutoML_4796283c-20a9-478b-b3c1-d77aca018967_53,\n",
       "Type: azureml.scriptrun,\n",
       "Status: Completed)"
      ]
     },
     "execution_count": 15,
     "metadata": {},
     "output_type": "execute_result"
    }
   ],
   "source": [
    "best_run"
   ]
  },
  {
   "cell_type": "code",
   "execution_count": 16,
   "metadata": {},
   "outputs": [
    {
     "data": {
      "text/plain": [
       "Pipeline(memory=None,\n",
       "         steps=[('datatransformer',\n",
       "                 DataTransformer(enable_dnn=None, enable_feature_sweeping=None,\n",
       "                                 feature_sweeping_config=None,\n",
       "                                 feature_sweeping_timeout=None,\n",
       "                                 featurization_config=None, force_text_dnn=None,\n",
       "                                 is_cross_validation=None,\n",
       "                                 is_onnx_compatible=None, logger=None,\n",
       "                                 observer=None, task=None, working_dir=None)),\n",
       "                ('prefittedsoftvotingclassifier',...\n",
       "                                                                                               random_state=0,\n",
       "                                                                                               reg_alpha=0,\n",
       "                                                                                               reg_lambda=2.0833333333333335,\n",
       "                                                                                               scale_pos_weight=1,\n",
       "                                                                                               seed=None,\n",
       "                                                                                               silent=None,\n",
       "                                                                                               subsample=1,\n",
       "                                                                                               tree_method='auto',\n",
       "                                                                                               verbose=-10,\n",
       "                                                                                               verbosity=0))],\n",
       "                                                                     verbose=False))],\n",
       "                                               flatten_transform=None,\n",
       "                                               weights=[0.14285714285714285,\n",
       "                                                        0.14285714285714285,\n",
       "                                                        0.14285714285714285,\n",
       "                                                        0.14285714285714285,\n",
       "                                                        0.14285714285714285,\n",
       "                                                        0.14285714285714285,\n",
       "                                                        0.14285714285714285]))],\n",
       "         verbose=False)"
      ]
     },
     "execution_count": 16,
     "metadata": {},
     "output_type": "execute_result"
    }
   ],
   "source": [
    "fitted_automl_best_model"
   ]
  },
  {
   "cell_type": "code",
   "execution_count": 17,
   "metadata": {},
   "outputs": [
    {
     "name": "stdout",
     "output_type": "stream",
     "text": [
      "accuracy 0.9881497479214375\n",
      "norm_macro_recall 0.9489343252782686\n",
      "balanced_accuracy 0.9744671626391342\n",
      "weighted_accuracy 0.9932320062563731\n",
      "recall_score_micro 0.9881497479214375\n",
      "precision_score_weighted 0.9881060940790287\n",
      "AUC_micro 0.9990293065521533\n",
      "recall_score_macro 0.9744671626391342\n",
      "AUC_weighted 0.9982944398267265\n",
      "f1_score_micro 0.9881497479214375\n",
      "AUC_macro 0.9982944398267263\n",
      "matthews_correlation 0.9562365936711772\n",
      "f1_score_macro 0.9780722360715396\n",
      "log_loss 0.040058154261099356\n",
      "precision_score_macro 0.9818124490472263\n",
      "average_precision_score_micro 0.999047051240426\n",
      "f1_score_weighted 0.9881033300625964\n",
      "precision_score_micro 0.9881497479214375\n",
      "average_precision_score_weighted 0.9983890958272683\n",
      "average_precision_score_macro 0.9957458670230658\n",
      "recall_score_weighted 0.9881497479214375\n",
      "confusion_matrix aml://artifactId/ExperimentRun/dcid.AutoML_4796283c-20a9-478b-b3c1-d77aca018967_53/confusion_matrix\n",
      "accuracy_table aml://artifactId/ExperimentRun/dcid.AutoML_4796283c-20a9-478b-b3c1-d77aca018967_53/accuracy_table\n",
      "\n",
      "Accuracy of Best run\n",
      "0.9881497479214375\n",
      "Run(Experiment: automl-experiment,\n",
      "Id: AutoML_4796283c-20a9-478b-b3c1-d77aca018967_53,\n",
      "Type: azureml.scriptrun,\n",
      "Status: Completed)\n"
     ]
    },
    {
     "data": {
      "text/plain": [
       "'AutoML4796283c253'"
      ]
     },
     "execution_count": 17,
     "metadata": {},
     "output_type": "execute_result"
    }
   ],
   "source": [
    "# Metric in best run\n",
    "for metric_name in best_run_metrics:\n",
    "    metric = best_run_metrics[metric_name]\n",
    "    print(metric_name, metric)\n",
    "    \n",
    "print('\\nAccuracy of Best run',best_run_metrics['accuracy'],sep='\\n')\n",
    "print(best_run)\n",
    "\n",
    "model_name = best_run.properties['model_name']\n",
    "model_name"
   ]
  },
  {
   "cell_type": "code",
   "execution_count": 18,
   "metadata": {
    "collapsed": false,
    "gather": {
     "logged": 1598431426111
    },
    "jupyter": {
     "outputs_hidden": false,
     "source_hidden": false
    },
    "nteract": {
     "transient": {
      "deleting": false
     }
    }
   },
   "outputs": [
    {
     "data": {
      "text/plain": [
       "['outputs/automl.joblib']"
      ]
     },
     "execution_count": 18,
     "metadata": {},
     "output_type": "execute_result"
    }
   ],
   "source": [
    "#TODO: Save the best model\n",
    "\n",
    "os.makedirs('./outputs', exist_ok=True)\n",
    "\n",
    "joblib.dump(fitted_automl_best_model, filename='outputs/automl.joblib')"
   ]
  },
  {
   "cell_type": "markdown",
   "metadata": {},
   "source": [
    "## Fetch Environment"
   ]
  },
  {
   "cell_type": "code",
   "execution_count": 19,
   "metadata": {},
   "outputs": [],
   "source": [
    "env = best_run.get_environment()\n",
    "\n",
    "script_file = 'score.py'\n",
    "\n",
    "best_run.download_file('outputs/scoring_file_v_1_0_0.py', script_file)"
   ]
  },
  {
   "cell_type": "markdown",
   "metadata": {},
   "source": [
    "## Model Deployment\n",
    "\n",
    "Remember you have to deploy only one of the two models you trained.. Perform the steps in the rest of this notebook only if you wish to deploy this model.\n",
    "\n",
    "TODO: In the cell below, register the model, create an inference config and deploy the model as a web service."
   ]
  },
  {
   "cell_type": "code",
   "execution_count": 20,
   "metadata": {
    "collapsed": false,
    "gather": {
     "logged": 1598431435189
    },
    "jupyter": {
     "outputs_hidden": false,
     "source_hidden": false
    },
    "nteract": {
     "transient": {
      "deleting": false
     }
    }
   },
   "outputs": [
    {
     "name": "stdout",
     "output_type": "stream",
     "text": [
      "AutoML4796283c253\tAutoML4796283c253:1\t1\n"
     ]
    }
   ],
   "source": [
    "#Register the model\n",
    "model = remote_run.register_model(model_name=model_name)\n",
    "print(model.name, model.id, model.version, sep='\\t')"
   ]
  },
  {
   "cell_type": "code",
   "execution_count": 21,
   "metadata": {},
   "outputs": [
    {
     "name": "stdout",
     "output_type": "stream",
     "text": [
      "Tips: You can try get_logs(): https://aka.ms/debugimage#dockerlog or local deployment: https://aka.ms/debugimage#debug-locally to debug if deployment takes longer than 10 minutes.\n",
      "Running.............................................\n",
      "Succeeded\n",
      "ACI service creation operation finished, operation \"Succeeded\"\n",
      "State:  Healthy\n",
      "\n",
      "Scoring URI:  http://616a470d-217f-4ced-a4a4-fda4216e0a5c.southcentralus.azurecontainer.io/score\n",
      "\n",
      "Service Logs 2021-01-02T15:19:49,944729241+00:00 - rsyslog/run \n",
      "2021-01-02T15:19:49,944894542+00:00 - iot-server/run \n",
      "2021-01-02T15:19:49,944894342+00:00 - gunicorn/run \n",
      "2021-01-02T15:19:49,998092694+00:00 - nginx/run \n",
      "/usr/sbin/nginx: /azureml-envs/azureml_8eff28b157f42edcd2424a5aae6c8074/lib/libcrypto.so.1.0.0: no version information available (required by /usr/sbin/nginx)\n",
      "/usr/sbin/nginx: /azureml-envs/azureml_8eff28b157f42edcd2424a5aae6c8074/lib/libcrypto.so.1.0.0: no version information available (required by /usr/sbin/nginx)\n",
      "/usr/sbin/nginx: /azureml-envs/azureml_8eff28b157f42edcd2424a5aae6c8074/lib/libssl.so.1.0.0: no version information available (required by /usr/sbin/nginx)\n",
      "/usr/sbin/nginx: /azureml-envs/azureml_8eff28b157f42edcd2424a5aae6c8074/lib/libssl.so.1.0.0: no version information available (required by /usr/sbin/nginx)\n",
      "/usr/sbin/nginx: /azureml-envs/azureml_8eff28b157f42edcd2424a5aae6c8074/lib/libssl.so.1.0.0: no version information available (required by /usr/sbin/nginx)\n",
      "EdgeHubConnectionString and IOTEDGE_IOTHUBHOSTNAME are not set. Exiting...\n",
      "2021-01-02T15:19:50,203993657+00:00 - iot-server/finish 1 0\n",
      "2021-01-02T15:19:50,205073865+00:00 - Exit code 1 is normal. Not restarting iot-server.\n",
      "rsyslogd: /azureml-envs/azureml_8eff28b157f42edcd2424a5aae6c8074/lib/libuuid.so.1: no version information available (required by rsyslogd)\n",
      "Starting gunicorn 19.9.0\n",
      "Listening at: http://127.0.0.1:31311 (11)\n",
      "Using worker: sync\n",
      "worker timeout is set to 300\n",
      "Booting worker with pid: 40\n",
      "SPARK_HOME not set. Skipping PySpark Initialization.\n",
      "Generating new fontManager, this may take some time...\n",
      "Initializing logger\n",
      "2021-01-02 15:19:51,598 | root | INFO | Starting up app insights client\n",
      "Starting up app insights client\n",
      "2021-01-02 15:19:51,598 | root | INFO | Starting up request id generator\n",
      "Starting up request id generator\n",
      "2021-01-02 15:19:51,599 | root | INFO | Starting up app insight hooks\n",
      "Starting up app insight hooks\n",
      "2021-01-02 15:19:51,599 | root | INFO | Invoking user's init function\n",
      "Invoking user's init function\n",
      "2021-01-02 15:19:54,064 | root | INFO | Users's init has completed successfully\n",
      "Users's init has completed successfully\n",
      "2021-01-02 15:19:54,068 | root | INFO | Skipping middleware: dbg_model_info as it's not enabled.\n",
      "Skipping middleware: dbg_model_info as it's not enabled.\n",
      "2021-01-02 15:19:54,068 | root | INFO | Skipping middleware: dbg_resource_usage as it's not enabled.\n",
      "Skipping middleware: dbg_resource_usage as it's not enabled.\n",
      "2021-01-02 15:19:54,071 | root | INFO | Scoring timeout is found from os.environ: 60000 ms\n",
      "Scoring timeout is found from os.environ: 60000 ms\n",
      "2021-01-02 15:20:07,252 | root | INFO | 200\n",
      "200\n",
      "127.0.0.1 - - [02/Jan/2021:15:20:07 +0000] \"GET /swagger.json HTTP/1.0\" 200 4167 \"-\" \"Go-http-client/1.1\"\n",
      "2021-01-02 15:20:12,513 | root | INFO | 200\n",
      "200\n",
      "127.0.0.1 - - [02/Jan/2021:15:20:12 +0000] \"GET /swagger.json HTTP/1.0\" 200 4167 \"-\" \"Go-http-client/1.1\"\n",
      "\n"
     ]
    }
   ],
   "source": [
    "from azureml.core.model import InferenceConfig\n",
    "from azureml.core.webservice import AciWebservice\n",
    "from azureml.core.webservice import Webservice\n",
    "from azureml.core.model import Model\n",
    "from azureml.core.environment import Environment\n",
    "\n",
    "inference_config = InferenceConfig(entry_script=script_file, environment=env)\n",
    "\n",
    "deployment_config = AciWebservice.deploy_configuration(cpu_cores = 1, memory_gb = 1)\n",
    "\n",
    "deploy_service_name= 'automl-model-deployment'\n",
    "service = Model.deploy(ws,deploy_service_name,  [model], inference_config, deployment_config)\n",
    "\n",
    "service.wait_for_deployment(show_output = True)\n",
    "\n",
    "print(\"State: \",service.state)\n",
    "print(\"\\nScoring URI: \",service.scoring_uri)\n",
    "print(\"\\nService Logs\",service.get_logs())"
   ]
  },
  {
   "cell_type": "markdown",
   "metadata": {
    "gather": {
     "logged": 1598431657736
    },
    "jupyter": {
     "outputs_hidden": false,
     "source_hidden": false
    },
    "nteract": {
     "transient": {
      "deleting": false
     }
    }
   },
   "source": [
    "## Test the Deploy model\n",
    "TODO: In the cell below, send a request to the web service you deployed to test it."
   ]
  },
  {
   "cell_type": "code",
   "execution_count": null,
   "metadata": {
    "collapsed": false,
    "gather": {
     "logged": 1598432707604
    },
    "jupyter": {
     "outputs_hidden": false,
     "source_hidden": false
    },
    "nteract": {
     "transient": {
      "deleting": false
     }
    }
   },
   "outputs": [],
   "source": []
  },
  {
   "cell_type": "markdown",
   "metadata": {
    "gather": {
     "logged": 1598432765711
    },
    "jupyter": {
     "outputs_hidden": false,
     "source_hidden": false
    },
    "nteract": {
     "transient": {
      "deleting": false
     }
    }
   },
   "source": [
    "TODO: In the cell below, print the logs of the web service and delete the service"
   ]
  },
  {
   "cell_type": "code",
   "execution_count": null,
   "metadata": {
    "collapsed": false,
    "jupyter": {
     "outputs_hidden": false,
     "source_hidden": false
    },
    "nteract": {
     "transient": {
      "deleting": false
     }
    }
   },
   "outputs": [],
   "source": []
  }
 ],
 "metadata": {
  "kernel_info": {
   "name": "python3"
  },
  "kernelspec": {
   "display_name": "Python 3",
   "language": "python",
   "name": "python3"
  },
  "language_info": {
   "codemirror_mode": {
    "name": "ipython",
    "version": 3
   },
   "file_extension": ".py",
   "mimetype": "text/x-python",
   "name": "python",
   "nbconvert_exporter": "python",
   "pygments_lexer": "ipython3",
   "version": "3.6.9"
  },
  "nteract": {
   "version": "nteract-front-end@1.0.0"
  }
 },
 "nbformat": 4,
 "nbformat_minor": 4
}
