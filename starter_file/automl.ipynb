{
 "cells": [
  {
   "cell_type": "markdown",
   "metadata": {},
   "source": [
    "# Automated ML\n",
    "\n",
    "Import Dependencies."
   ]
  },
  {
   "cell_type": "code",
   "execution_count": 1,
   "metadata": {
    "collapsed": false,
    "gather": {
     "logged": 1598423888013
    },
    "jupyter": {
     "outputs_hidden": false,
     "source_hidden": false
    },
    "nteract": {
     "transient": {
      "deleting": false
     }
    }
   },
   "outputs": [
    {
     "name": "stdout",
     "output_type": "stream",
     "text": [
      "SDK version: 1.19.0\n"
     ]
    }
   ],
   "source": [
    "from azureml.core import Workspace, Experiment,Dataset\n",
    "from azureml.core.compute import ComputeTarget, AmlCompute\n",
    "from azureml.core.compute_target import ComputeTargetException\n",
    "from azureml.widgets import RunDetails\n",
    "\n",
    "import azureml.core\n",
    "from azureml.data.dataset_factory import TabularDatasetFactory\n",
    "from sklearn.model_selection import train_test_split\n",
    "from azureml.train.automl import AutoMLConfig\n",
    "\n",
    "import os\n",
    "import joblib\n",
    "import pandas as pd\n",
    "import numpy as np\n",
    "\n",
    "# Check core SDK version number\n",
    "print(\"SDK version:\", azureml.core.VERSION)"
   ]
  },
  {
   "cell_type": "markdown",
   "metadata": {},
   "source": [
    "## Initialize Workspace"
   ]
  },
  {
   "cell_type": "code",
   "execution_count": 2,
   "metadata": {},
   "outputs": [
    {
     "name": "stdout",
     "output_type": "stream",
     "text": [
      "quick-starts-ws-133172\n",
      "aml-quickstarts-133172\n",
      "southcentralus\n",
      "cdbe0b43-92a0-4715-838a-f2648cc7ad21\n"
     ]
    }
   ],
   "source": [
    "ws = Workspace.from_config()\n",
    "print(ws.name, ws.resource_group, ws.location, ws.subscription_id, sep = '\\n')"
   ]
  },
  {
   "cell_type": "markdown",
   "metadata": {},
   "source": [
    "## Create an Azure ML experiment"
   ]
  },
  {
   "cell_type": "code",
   "execution_count": 3,
   "metadata": {},
   "outputs": [
    {
     "data": {
      "text/html": [
       "<table style=\"width:100%\"><tr><th>Name</th><th>Workspace</th><th>Report Page</th><th>Docs Page</th></tr><tr><td>automl-experiment</td><td>quick-starts-ws-133172</td><td><a href=\"https://ml.azure.com/experiments/automl-experiment?wsid=/subscriptions/cdbe0b43-92a0-4715-838a-f2648cc7ad21/resourcegroups/aml-quickstarts-133172/workspaces/quick-starts-ws-133172\" target=\"_blank\" rel=\"noopener\">Link to Azure Machine Learning studio</a></td><td><a href=\"https://docs.microsoft.com/en-us/python/api/azureml-core/azureml.core.experiment.Experiment?view=azure-ml-py\" target=\"_blank\" rel=\"noopener\">Link to Documentation</a></td></tr></table>"
      ],
      "text/plain": [
       "Experiment(Name: automl-experiment,\n",
       "Workspace: quick-starts-ws-133172)"
      ]
     },
     "execution_count": 3,
     "metadata": {},
     "output_type": "execute_result"
    }
   ],
   "source": [
    "experiment_name = 'automl-experiment'\n",
    "project_folder = './automl-model'\n",
    "\n",
    "experiment = Experiment(ws, experiment_name)\n",
    "experiment"
   ]
  },
  {
   "cell_type": "markdown",
   "metadata": {},
   "source": [
    "## Dataset\n",
    "\n",
    "### Overview\n",
    "\n",
    "We will build prediction model that will classify if a customer is going to churn or not from kaggle's data set [Credit Card customers](https://www.kaggle.com/sakshigoyal7/credit-card-customers). Data set was downloaded as a csv and uploaded i.e. registered as data set in the workspace."
   ]
  },
  {
   "cell_type": "code",
   "execution_count": 4,
   "metadata": {
    "collapsed": false,
    "gather": {
     "logged": 1598423890461
    },
    "jupyter": {
     "outputs_hidden": false,
     "source_hidden": false
    },
    "nteract": {
     "transient": {
      "deleting": false
     }
    }
   },
   "outputs": [
    {
     "data": {
      "text/html": [
       "<div>\n",
       "<style scoped>\n",
       "    .dataframe tbody tr th:only-of-type {\n",
       "        vertical-align: middle;\n",
       "    }\n",
       "\n",
       "    .dataframe tbody tr th {\n",
       "        vertical-align: top;\n",
       "    }\n",
       "\n",
       "    .dataframe thead th {\n",
       "        text-align: right;\n",
       "    }\n",
       "</style>\n",
       "<table border=\"1\" class=\"dataframe\">\n",
       "  <thead>\n",
       "    <tr style=\"text-align: right;\">\n",
       "      <th></th>\n",
       "      <th>CLIENTNUM</th>\n",
       "      <th>Customer_Age</th>\n",
       "      <th>Dependent_count</th>\n",
       "      <th>Months_on_book</th>\n",
       "      <th>Total_Relationship_Count</th>\n",
       "      <th>Months_Inactive_12_mon</th>\n",
       "      <th>Contacts_Count_12_mon</th>\n",
       "      <th>Credit_Limit</th>\n",
       "      <th>Total_Revolving_Bal</th>\n",
       "      <th>Avg_Open_To_Buy</th>\n",
       "      <th>Total_Amt_Chng_Q4_Q1</th>\n",
       "      <th>Total_Trans_Amt</th>\n",
       "      <th>Total_Trans_Ct</th>\n",
       "      <th>Total_Ct_Chng_Q4_Q1</th>\n",
       "      <th>Avg_Utilization_Ratio</th>\n",
       "      <th>Naive_Bayes_Classifier_Attrition_Flag_Card_Category_Contacts_Count_12_mon_Dependent_count_Education_Level_Months_Inactive_12_mon_1</th>\n",
       "      <th>Naive_Bayes_Classifier_Attrition_Flag_Card_Category_Contacts_Count_12_mon_Dependent_count_Education_Level_Months_Inactive_12_mon_2</th>\n",
       "    </tr>\n",
       "  </thead>\n",
       "  <tbody>\n",
       "    <tr>\n",
       "      <th>count</th>\n",
       "      <td>1.012700e+04</td>\n",
       "      <td>10127.000000</td>\n",
       "      <td>10127.000000</td>\n",
       "      <td>10127.000000</td>\n",
       "      <td>10127.000000</td>\n",
       "      <td>10127.000000</td>\n",
       "      <td>10127.000000</td>\n",
       "      <td>10127.000000</td>\n",
       "      <td>10127.000000</td>\n",
       "      <td>10127.000000</td>\n",
       "      <td>10127.000000</td>\n",
       "      <td>10127.000000</td>\n",
       "      <td>10127.000000</td>\n",
       "      <td>10127.000000</td>\n",
       "      <td>10127.000000</td>\n",
       "      <td>10127.000000</td>\n",
       "      <td>10127.000000</td>\n",
       "    </tr>\n",
       "    <tr>\n",
       "      <th>mean</th>\n",
       "      <td>7.391776e+08</td>\n",
       "      <td>46.325960</td>\n",
       "      <td>2.346203</td>\n",
       "      <td>35.928409</td>\n",
       "      <td>3.812580</td>\n",
       "      <td>2.341167</td>\n",
       "      <td>2.455317</td>\n",
       "      <td>8631.953698</td>\n",
       "      <td>1162.814061</td>\n",
       "      <td>7469.139637</td>\n",
       "      <td>0.759941</td>\n",
       "      <td>4404.086304</td>\n",
       "      <td>64.858695</td>\n",
       "      <td>0.712222</td>\n",
       "      <td>0.274894</td>\n",
       "      <td>0.159997</td>\n",
       "      <td>0.840003</td>\n",
       "    </tr>\n",
       "    <tr>\n",
       "      <th>std</th>\n",
       "      <td>3.690378e+07</td>\n",
       "      <td>8.016814</td>\n",
       "      <td>1.298908</td>\n",
       "      <td>7.986416</td>\n",
       "      <td>1.554408</td>\n",
       "      <td>1.010622</td>\n",
       "      <td>1.106225</td>\n",
       "      <td>9088.776650</td>\n",
       "      <td>814.987335</td>\n",
       "      <td>9090.685324</td>\n",
       "      <td>0.219207</td>\n",
       "      <td>3397.129254</td>\n",
       "      <td>23.472570</td>\n",
       "      <td>0.238086</td>\n",
       "      <td>0.275691</td>\n",
       "      <td>0.365301</td>\n",
       "      <td>0.365301</td>\n",
       "    </tr>\n",
       "    <tr>\n",
       "      <th>min</th>\n",
       "      <td>7.080821e+08</td>\n",
       "      <td>26.000000</td>\n",
       "      <td>0.000000</td>\n",
       "      <td>13.000000</td>\n",
       "      <td>1.000000</td>\n",
       "      <td>0.000000</td>\n",
       "      <td>0.000000</td>\n",
       "      <td>1438.300000</td>\n",
       "      <td>0.000000</td>\n",
       "      <td>3.000000</td>\n",
       "      <td>0.000000</td>\n",
       "      <td>510.000000</td>\n",
       "      <td>10.000000</td>\n",
       "      <td>0.000000</td>\n",
       "      <td>0.000000</td>\n",
       "      <td>0.000008</td>\n",
       "      <td>0.000420</td>\n",
       "    </tr>\n",
       "    <tr>\n",
       "      <th>25%</th>\n",
       "      <td>7.130368e+08</td>\n",
       "      <td>41.000000</td>\n",
       "      <td>1.000000</td>\n",
       "      <td>31.000000</td>\n",
       "      <td>3.000000</td>\n",
       "      <td>2.000000</td>\n",
       "      <td>2.000000</td>\n",
       "      <td>2555.000000</td>\n",
       "      <td>359.000000</td>\n",
       "      <td>1324.500000</td>\n",
       "      <td>0.631000</td>\n",
       "      <td>2155.500000</td>\n",
       "      <td>45.000000</td>\n",
       "      <td>0.582000</td>\n",
       "      <td>0.023000</td>\n",
       "      <td>0.000099</td>\n",
       "      <td>0.999660</td>\n",
       "    </tr>\n",
       "    <tr>\n",
       "      <th>50%</th>\n",
       "      <td>7.179264e+08</td>\n",
       "      <td>46.000000</td>\n",
       "      <td>2.000000</td>\n",
       "      <td>36.000000</td>\n",
       "      <td>4.000000</td>\n",
       "      <td>2.000000</td>\n",
       "      <td>2.000000</td>\n",
       "      <td>4549.000000</td>\n",
       "      <td>1276.000000</td>\n",
       "      <td>3474.000000</td>\n",
       "      <td>0.736000</td>\n",
       "      <td>3899.000000</td>\n",
       "      <td>67.000000</td>\n",
       "      <td>0.702000</td>\n",
       "      <td>0.176000</td>\n",
       "      <td>0.000181</td>\n",
       "      <td>0.999820</td>\n",
       "    </tr>\n",
       "    <tr>\n",
       "      <th>75%</th>\n",
       "      <td>7.731435e+08</td>\n",
       "      <td>52.000000</td>\n",
       "      <td>3.000000</td>\n",
       "      <td>40.000000</td>\n",
       "      <td>5.000000</td>\n",
       "      <td>3.000000</td>\n",
       "      <td>3.000000</td>\n",
       "      <td>11067.500000</td>\n",
       "      <td>1784.000000</td>\n",
       "      <td>9859.000000</td>\n",
       "      <td>0.859000</td>\n",
       "      <td>4741.000000</td>\n",
       "      <td>81.000000</td>\n",
       "      <td>0.818000</td>\n",
       "      <td>0.503000</td>\n",
       "      <td>0.000337</td>\n",
       "      <td>0.999900</td>\n",
       "    </tr>\n",
       "    <tr>\n",
       "      <th>max</th>\n",
       "      <td>8.283431e+08</td>\n",
       "      <td>73.000000</td>\n",
       "      <td>5.000000</td>\n",
       "      <td>56.000000</td>\n",
       "      <td>6.000000</td>\n",
       "      <td>6.000000</td>\n",
       "      <td>6.000000</td>\n",
       "      <td>34516.000000</td>\n",
       "      <td>2517.000000</td>\n",
       "      <td>34516.000000</td>\n",
       "      <td>3.397000</td>\n",
       "      <td>18484.000000</td>\n",
       "      <td>139.000000</td>\n",
       "      <td>3.714000</td>\n",
       "      <td>0.999000</td>\n",
       "      <td>0.999580</td>\n",
       "      <td>0.999990</td>\n",
       "    </tr>\n",
       "  </tbody>\n",
       "</table>\n",
       "</div>"
      ],
      "text/plain": [
       "          CLIENTNUM  Customer_Age  Dependent_count  Months_on_book  \\\n",
       "count  1.012700e+04  10127.000000     10127.000000    10127.000000   \n",
       "mean   7.391776e+08     46.325960         2.346203       35.928409   \n",
       "std    3.690378e+07      8.016814         1.298908        7.986416   \n",
       "min    7.080821e+08     26.000000         0.000000       13.000000   \n",
       "25%    7.130368e+08     41.000000         1.000000       31.000000   \n",
       "50%    7.179264e+08     46.000000         2.000000       36.000000   \n",
       "75%    7.731435e+08     52.000000         3.000000       40.000000   \n",
       "max    8.283431e+08     73.000000         5.000000       56.000000   \n",
       "\n",
       "       Total_Relationship_Count  Months_Inactive_12_mon  \\\n",
       "count              10127.000000            10127.000000   \n",
       "mean                   3.812580                2.341167   \n",
       "std                    1.554408                1.010622   \n",
       "min                    1.000000                0.000000   \n",
       "25%                    3.000000                2.000000   \n",
       "50%                    4.000000                2.000000   \n",
       "75%                    5.000000                3.000000   \n",
       "max                    6.000000                6.000000   \n",
       "\n",
       "       Contacts_Count_12_mon  Credit_Limit  Total_Revolving_Bal  \\\n",
       "count           10127.000000  10127.000000         10127.000000   \n",
       "mean                2.455317   8631.953698          1162.814061   \n",
       "std                 1.106225   9088.776650           814.987335   \n",
       "min                 0.000000   1438.300000             0.000000   \n",
       "25%                 2.000000   2555.000000           359.000000   \n",
       "50%                 2.000000   4549.000000          1276.000000   \n",
       "75%                 3.000000  11067.500000          1784.000000   \n",
       "max                 6.000000  34516.000000          2517.000000   \n",
       "\n",
       "       Avg_Open_To_Buy  Total_Amt_Chng_Q4_Q1  Total_Trans_Amt  Total_Trans_Ct  \\\n",
       "count     10127.000000          10127.000000     10127.000000    10127.000000   \n",
       "mean       7469.139637              0.759941      4404.086304       64.858695   \n",
       "std        9090.685324              0.219207      3397.129254       23.472570   \n",
       "min           3.000000              0.000000       510.000000       10.000000   \n",
       "25%        1324.500000              0.631000      2155.500000       45.000000   \n",
       "50%        3474.000000              0.736000      3899.000000       67.000000   \n",
       "75%        9859.000000              0.859000      4741.000000       81.000000   \n",
       "max       34516.000000              3.397000     18484.000000      139.000000   \n",
       "\n",
       "       Total_Ct_Chng_Q4_Q1  Avg_Utilization_Ratio  \\\n",
       "count         10127.000000           10127.000000   \n",
       "mean              0.712222               0.274894   \n",
       "std               0.238086               0.275691   \n",
       "min               0.000000               0.000000   \n",
       "25%               0.582000               0.023000   \n",
       "50%               0.702000               0.176000   \n",
       "75%               0.818000               0.503000   \n",
       "max               3.714000               0.999000   \n",
       "\n",
       "       Naive_Bayes_Classifier_Attrition_Flag_Card_Category_Contacts_Count_12_mon_Dependent_count_Education_Level_Months_Inactive_12_mon_1  \\\n",
       "count                                       10127.000000                                                                                    \n",
       "mean                                            0.159997                                                                                    \n",
       "std                                             0.365301                                                                                    \n",
       "min                                             0.000008                                                                                    \n",
       "25%                                             0.000099                                                                                    \n",
       "50%                                             0.000181                                                                                    \n",
       "75%                                             0.000337                                                                                    \n",
       "max                                             0.999580                                                                                    \n",
       "\n",
       "       Naive_Bayes_Classifier_Attrition_Flag_Card_Category_Contacts_Count_12_mon_Dependent_count_Education_Level_Months_Inactive_12_mon_2  \n",
       "count                                       10127.000000                                                                                   \n",
       "mean                                            0.840003                                                                                   \n",
       "std                                             0.365301                                                                                   \n",
       "min                                             0.000420                                                                                   \n",
       "25%                                             0.999660                                                                                   \n",
       "50%                                             0.999820                                                                                   \n",
       "75%                                             0.999900                                                                                   \n",
       "max                                             0.999990                                                                                   "
      ]
     },
     "execution_count": 4,
     "metadata": {},
     "output_type": "execute_result"
    }
   ],
   "source": [
    "dataset=Dataset.get_by_name(ws,name=\"Credit-Card-Churners\")\n",
    "run = experiment.start_logging()\n",
    "df = dataset.to_pandas_dataframe()\n",
    "df.describe()"
   ]
  },
  {
   "cell_type": "code",
   "execution_count": 5,
   "metadata": {},
   "outputs": [
    {
     "name": "stdout",
     "output_type": "stream",
     "text": [
      "/mnt/batch/tasks/shared/LS_root/mounts/clusters/compute-aml-cluster/code/Users/odl_user_133172\n"
     ]
    },
    {
     "data": {
      "text/plain": [
       "['.config',\n",
       " '.ipynb_checkpoints',\n",
       " 'automl-model',\n",
       " 'automl.ipynb',\n",
       " 'automl.log',\n",
       " 'automl_errors.log',\n",
       " 'azureml_automl.log',\n",
       " 'conda_dependencies.yml',\n",
       " 'CreditCardChurners.csv',\n",
       " 'endpoint.py',\n",
       " 'hyperparameter_tuning.ipynb',\n",
       " 'outputs',\n",
       " 'README.md',\n",
       " 'score.py',\n",
       " 'train.py',\n",
       " 'training',\n",
       " 'udacity-project.ipynb']"
      ]
     },
     "execution_count": 5,
     "metadata": {},
     "output_type": "execute_result"
    }
   ],
   "source": [
    "currDir=os.getcwd()\n",
    "print(currDir)\n",
    "os.listdir(currDir)"
   ]
  },
  {
   "cell_type": "markdown",
   "metadata": {},
   "source": [
    "## Create or Attach a Compute Resource"
   ]
  },
  {
   "cell_type": "code",
   "execution_count": 6,
   "metadata": {},
   "outputs": [
    {
     "name": "stdout",
     "output_type": "stream",
     "text": [
      "Found existing cluster.\n",
      "\n",
      "Running\n"
     ]
    }
   ],
   "source": [
    "compute_name = \"compute-aml-cluster\"\n",
    "\n",
    "# Check if the compute target exists\n",
    "try:\n",
    "    compute_aml_cluster = ComputeTarget(workspace=ws, name=compute_name)\n",
    "    print('Found existing cluster.')\n",
    "except ComputeTargetException:\n",
    "    # If not, create it\n",
    "    compute_config = AmlCompute.provisionibng_configuration(vm_size='STANDARD_DS12_V2',\n",
    "                                                           max_nodes=5)\n",
    "    compute_aml_cluster = ComputeTarget.create(ws, compute_name, compute_config)\n",
    "\n",
    "compute_aml_cluster.wait_for_completion(show_output=True)"
   ]
  },
  {
   "cell_type": "code",
   "execution_count": 7,
   "metadata": {},
   "outputs": [
    {
     "data": {
      "text/html": [
       "<div>\n",
       "<style scoped>\n",
       "    .dataframe tbody tr th:only-of-type {\n",
       "        vertical-align: middle;\n",
       "    }\n",
       "\n",
       "    .dataframe tbody tr th {\n",
       "        vertical-align: top;\n",
       "    }\n",
       "\n",
       "    .dataframe thead th {\n",
       "        text-align: right;\n",
       "    }\n",
       "</style>\n",
       "<table border=\"1\" class=\"dataframe\">\n",
       "  <thead>\n",
       "    <tr style=\"text-align: right;\">\n",
       "      <th></th>\n",
       "      <th>Customer_Age</th>\n",
       "      <th>Gender</th>\n",
       "      <th>Dependent_count</th>\n",
       "      <th>Education_Level</th>\n",
       "      <th>Income_Category</th>\n",
       "      <th>Months_on_book</th>\n",
       "      <th>Total_Relationship_Count</th>\n",
       "      <th>Months_Inactive_12_mon</th>\n",
       "      <th>Contacts_Count_12_mon</th>\n",
       "      <th>Credit_Limit</th>\n",
       "      <th>...</th>\n",
       "      <th>Total_Ct_Chng_Q4_Q1</th>\n",
       "      <th>Avg_Utilization_Ratio</th>\n",
       "      <th>Marital_Status_Divorced</th>\n",
       "      <th>Marital_Status_Married</th>\n",
       "      <th>Marital_Status_Single</th>\n",
       "      <th>Card_Category_Blue</th>\n",
       "      <th>Card_Category_Gold</th>\n",
       "      <th>Card_Category_Platinum</th>\n",
       "      <th>Card_Category_Silver</th>\n",
       "      <th>Attrition_Flag</th>\n",
       "    </tr>\n",
       "  </thead>\n",
       "  <tbody>\n",
       "    <tr>\n",
       "      <th>0</th>\n",
       "      <td>-0.165406</td>\n",
       "      <td>1.059956</td>\n",
       "      <td>0.503368</td>\n",
       "      <td>-0.893680</td>\n",
       "      <td>0.597300</td>\n",
       "      <td>0.384621</td>\n",
       "      <td>0.763943</td>\n",
       "      <td>-1.327136</td>\n",
       "      <td>0.492404</td>\n",
       "      <td>0.446622</td>\n",
       "      <td>...</td>\n",
       "      <td>3.834003</td>\n",
       "      <td>-0.775882</td>\n",
       "      <td>-0.282405</td>\n",
       "      <td>1.077338</td>\n",
       "      <td>-0.798507</td>\n",
       "      <td>0.270611</td>\n",
       "      <td>-0.107644</td>\n",
       "      <td>-0.044484</td>\n",
       "      <td>-0.240794</td>\n",
       "      <td>0</td>\n",
       "    </tr>\n",
       "    <tr>\n",
       "      <th>1</th>\n",
       "      <td>0.333570</td>\n",
       "      <td>-0.943436</td>\n",
       "      <td>2.043199</td>\n",
       "      <td>0.593388</td>\n",
       "      <td>-0.887628</td>\n",
       "      <td>1.010715</td>\n",
       "      <td>1.407306</td>\n",
       "      <td>-1.327136</td>\n",
       "      <td>-0.411616</td>\n",
       "      <td>-0.041367</td>\n",
       "      <td>...</td>\n",
       "      <td>12.608573</td>\n",
       "      <td>-0.616276</td>\n",
       "      <td>-0.282405</td>\n",
       "      <td>-0.928214</td>\n",
       "      <td>1.252337</td>\n",
       "      <td>0.270611</td>\n",
       "      <td>-0.107644</td>\n",
       "      <td>-0.044484</td>\n",
       "      <td>-0.240794</td>\n",
       "      <td>0</td>\n",
       "    </tr>\n",
       "    <tr>\n",
       "      <th>2</th>\n",
       "      <td>0.583058</td>\n",
       "      <td>1.059956</td>\n",
       "      <td>0.503368</td>\n",
       "      <td>0.593388</td>\n",
       "      <td>1.339764</td>\n",
       "      <td>0.008965</td>\n",
       "      <td>0.120579</td>\n",
       "      <td>-1.327136</td>\n",
       "      <td>-2.219655</td>\n",
       "      <td>-0.573698</td>\n",
       "      <td>...</td>\n",
       "      <td>6.807864</td>\n",
       "      <td>-0.997155</td>\n",
       "      <td>-0.282405</td>\n",
       "      <td>1.077338</td>\n",
       "      <td>-0.798507</td>\n",
       "      <td>0.270611</td>\n",
       "      <td>-0.107644</td>\n",
       "      <td>-0.044484</td>\n",
       "      <td>-0.240794</td>\n",
       "      <td>0</td>\n",
       "    </tr>\n",
       "    <tr>\n",
       "      <th>3</th>\n",
       "      <td>-0.789126</td>\n",
       "      <td>-0.943436</td>\n",
       "      <td>1.273283</td>\n",
       "      <td>-0.893680</td>\n",
       "      <td>-0.887628</td>\n",
       "      <td>-0.241473</td>\n",
       "      <td>-0.522785</td>\n",
       "      <td>1.641478</td>\n",
       "      <td>-1.315636</td>\n",
       "      <td>-0.585251</td>\n",
       "      <td>...</td>\n",
       "      <td>6.807864</td>\n",
       "      <td>1.759686</td>\n",
       "      <td>-0.282405</td>\n",
       "      <td>-0.928214</td>\n",
       "      <td>-0.798507</td>\n",
       "      <td>0.270611</td>\n",
       "      <td>-0.107644</td>\n",
       "      <td>-0.044484</td>\n",
       "      <td>-0.240794</td>\n",
       "      <td>0</td>\n",
       "    </tr>\n",
       "    <tr>\n",
       "      <th>4</th>\n",
       "      <td>-0.789126</td>\n",
       "      <td>1.059956</td>\n",
       "      <td>0.503368</td>\n",
       "      <td>-1.637214</td>\n",
       "      <td>0.597300</td>\n",
       "      <td>-1.869317</td>\n",
       "      <td>0.763943</td>\n",
       "      <td>-1.327136</td>\n",
       "      <td>-2.219655</td>\n",
       "      <td>-0.430877</td>\n",
       "      <td>...</td>\n",
       "      <td>7.509325</td>\n",
       "      <td>-0.997155</td>\n",
       "      <td>-0.282405</td>\n",
       "      <td>1.077338</td>\n",
       "      <td>-0.798507</td>\n",
       "      <td>0.270611</td>\n",
       "      <td>-0.107644</td>\n",
       "      <td>-0.044484</td>\n",
       "      <td>-0.240794</td>\n",
       "      <td>0</td>\n",
       "    </tr>\n",
       "  </tbody>\n",
       "</table>\n",
       "<p>5 rows × 25 columns</p>\n",
       "</div>"
      ],
      "text/plain": [
       "   Customer_Age    Gender  Dependent_count  Education_Level  Income_Category  \\\n",
       "0     -0.165406  1.059956         0.503368        -0.893680         0.597300   \n",
       "1      0.333570 -0.943436         2.043199         0.593388        -0.887628   \n",
       "2      0.583058  1.059956         0.503368         0.593388         1.339764   \n",
       "3     -0.789126 -0.943436         1.273283        -0.893680        -0.887628   \n",
       "4     -0.789126  1.059956         0.503368        -1.637214         0.597300   \n",
       "\n",
       "   Months_on_book  Total_Relationship_Count  Months_Inactive_12_mon  \\\n",
       "0        0.384621                  0.763943               -1.327136   \n",
       "1        1.010715                  1.407306               -1.327136   \n",
       "2        0.008965                  0.120579               -1.327136   \n",
       "3       -0.241473                 -0.522785                1.641478   \n",
       "4       -1.869317                  0.763943               -1.327136   \n",
       "\n",
       "   Contacts_Count_12_mon  Credit_Limit  ...  Total_Ct_Chng_Q4_Q1  \\\n",
       "0               0.492404      0.446622  ...             3.834003   \n",
       "1              -0.411616     -0.041367  ...            12.608573   \n",
       "2              -2.219655     -0.573698  ...             6.807864   \n",
       "3              -1.315636     -0.585251  ...             6.807864   \n",
       "4              -2.219655     -0.430877  ...             7.509325   \n",
       "\n",
       "   Avg_Utilization_Ratio  Marital_Status_Divorced  Marital_Status_Married  \\\n",
       "0              -0.775882                -0.282405                1.077338   \n",
       "1              -0.616276                -0.282405               -0.928214   \n",
       "2              -0.997155                -0.282405                1.077338   \n",
       "3               1.759686                -0.282405               -0.928214   \n",
       "4              -0.997155                -0.282405                1.077338   \n",
       "\n",
       "   Marital_Status_Single  Card_Category_Blue  Card_Category_Gold  \\\n",
       "0              -0.798507            0.270611           -0.107644   \n",
       "1               1.252337            0.270611           -0.107644   \n",
       "2              -0.798507            0.270611           -0.107644   \n",
       "3              -0.798507            0.270611           -0.107644   \n",
       "4              -0.798507            0.270611           -0.107644   \n",
       "\n",
       "   Card_Category_Platinum  Card_Category_Silver  Attrition_Flag  \n",
       "0               -0.044484             -0.240794               0  \n",
       "1               -0.044484             -0.240794               0  \n",
       "2               -0.044484             -0.240794               0  \n",
       "3               -0.044484             -0.240794               0  \n",
       "4               -0.044484             -0.240794               0  \n",
       "\n",
       "[5 rows x 25 columns]"
      ]
     },
     "execution_count": 7,
     "metadata": {},
     "output_type": "execute_result"
    }
   ],
   "source": [
    "from sklearn.preprocessing import OneHotEncoder, StandardScaler\n",
    "\n",
    "# Use the clean_data function to clean your data.\n",
    "#x, y = clean_data(df)\n",
    "\n",
    "def binary_encode(df, column, positive_value):\n",
    "    df = df.copy()\n",
    "    df[column] = df[column].apply(lambda x: 1 if x == positive_value else 0)\n",
    "    return df\n",
    "\n",
    "def ordinal_encode(df, column, ordering):\n",
    "    df = df.copy()\n",
    "    df[column] = df[column].apply(lambda x: ordering.index(x))\n",
    "    return df\n",
    "\n",
    "def onehot_encode(df, column, prefix):\n",
    "    df = df.copy()\n",
    "    dummies = pd.get_dummies(df[column], prefix=prefix)\n",
    "    df = pd.concat([df, dummies], axis=1)\n",
    "    df = df.drop(column, axis=1)\n",
    "    return df\n",
    "\n",
    "def pre_processing(data):\n",
    "    # Clean and one hot encode data\n",
    "    x_df = data.to_pandas_dataframe().dropna()\n",
    "\n",
    "    # Drop last two columns (unneeded)\n",
    "    x_df.drop(x_df.columns[-2:],inplace=True, axis=1)\n",
    "\n",
    "    # Drop CLIENTNUM columns\n",
    "    x_df.drop(\"CLIENTNUM\",inplace=True, axis=1)\n",
    "\n",
    "    # Encode unknown values as np.NaN\n",
    "    x_df = x_df.replace('Unknown', np.NaN)\n",
    "\n",
    "    # Fill ordinal missing values with modes (Education_Level and Income_Category columns)\n",
    "    x_df['Education_Level'] = x_df['Education_Level'].fillna('Graduate')\n",
    "    x_df['Income_Category'] = x_df['Income_Category'].fillna('Less than $40K')\n",
    "\n",
    "    # Encode binary columns\n",
    "    x_df = binary_encode(x_df, 'Attrition_Flag', positive_value='Attrited Customer')\n",
    "    x_df = binary_encode(x_df, 'Gender', positive_value='M')\n",
    "\n",
    "    # Encode ordinal columns\n",
    "    education_ordering = [\n",
    "        'Uneducated',\n",
    "        'High School',\n",
    "        'College',\n",
    "        'Graduate',\n",
    "        'Post-Graduate',\n",
    "        'Doctorate'\n",
    "    ]\n",
    "    income_ordering = [\n",
    "        'Less than $40K',\n",
    "        '$40K - $60K',\n",
    "        '$60K - $80K',\n",
    "        '$80K - $120K',\n",
    "        '$120K +'\n",
    "    ]\n",
    "\n",
    "    x_df = ordinal_encode(x_df, 'Education_Level', ordering=education_ordering)\n",
    "    x_df = ordinal_encode(x_df, 'Income_Category', ordering=income_ordering)\n",
    "\n",
    "    # Encode nominal columns\n",
    "    x_df = onehot_encode(x_df, 'Marital_Status', prefix='Marital_Status')\n",
    "    x_df = onehot_encode(x_df, 'Card_Category', prefix='Card_Category')\n",
    "\n",
    "    # Split df into X and y\n",
    "    X = x_df.drop('Attrition_Flag', axis=1).copy()\n",
    "    y = x_df['Attrition_Flag'].copy()\n",
    "\n",
    "    # Scale X with a standard scaler\n",
    "    scaler = StandardScaler()\n",
    "    X = pd.DataFrame(scaler.fit_transform(X), columns=X.columns)\n",
    "\n",
    "    return X, y\n",
    "\n",
    "x, y = pre_processing(dataset)\n",
    "\n",
    "all_data = pd.concat([x,y], axis = 1)\n",
    "all_data.head()"
   ]
  },
  {
   "cell_type": "code",
   "execution_count": 8,
   "metadata": {},
   "outputs": [
    {
     "name": "stdout",
     "output_type": "stream",
     "text": [
      "      Customer_Age    Gender  Dependent_count  Education_Level  \\\n",
      "147       1.082034  1.059956        -0.266547         0.593388   \n",
      "1985     -1.787077  1.059956        -1.806378         0.593388   \n",
      "8316     -1.412845 -0.943436         1.273283        -1.637214   \n",
      "\n",
      "      Income_Category  Months_on_book  Total_Relationship_Count  \\\n",
      "147          2.082228        1.762028                 -0.522785   \n",
      "1985        -0.887628       -1.118005                  1.407306   \n",
      "8316        -0.887628       -1.368442                 -1.166148   \n",
      "\n",
      "      Months_Inactive_12_mon  Contacts_Count_12_mon  Credit_Limit  ...  \\\n",
      "147                -0.337598              -2.219655      0.251316  ...   \n",
      "1985                0.651940               0.492404      0.066684  ...   \n",
      "8316                0.651940              -0.411616     -0.577989  ...   \n",
      "\n",
      "      Total_Ct_Chng_Q4_Q1  Avg_Utilization_Ratio  Marital_Status_Divorced  \\\n",
      "147              1.208772              -0.485688                -0.282405   \n",
      "1985            -0.983820              -0.997155                -0.282405   \n",
      "8316            -0.042938              -0.365984                -0.282405   \n",
      "\n",
      "      Marital_Status_Married  Marital_Status_Single  Card_Category_Blue  \\\n",
      "147                 1.077338              -0.798507            0.270611   \n",
      "1985               -0.928214               1.252337            0.270611   \n",
      "8316                1.077338              -0.798507            0.270611   \n",
      "\n",
      "      Card_Category_Gold  Card_Category_Platinum  Card_Category_Silver  \\\n",
      "147            -0.107644               -0.044484             -0.240794   \n",
      "1985           -0.107644               -0.044484             -0.240794   \n",
      "8316           -0.107644               -0.044484             -0.240794   \n",
      "\n",
      "      Attrition_Flag  \n",
      "147                0  \n",
      "1985               0  \n",
      "8316               0  \n",
      "\n",
      "[3 rows x 25 columns]\n",
      "      Customer_Age    Gender  Dependent_count  Education_Level  \\\n",
      "3358     -0.290150  1.059956         2.043199        -1.637214   \n",
      "9951     -0.290150 -0.943436         0.503368         0.593388   \n",
      "3848     -1.163358 -0.943436         0.503368        -0.893680   \n",
      "\n",
      "      Income_Category  Months_on_book  Total_Relationship_Count  \\\n",
      "3358         0.597300        0.384621                  0.763943   \n",
      "9951        -0.887628       -0.241473                 -1.166148   \n",
      "3848        -0.887628       -1.243223                 -0.522785   \n",
      "\n",
      "      Months_Inactive_12_mon  Contacts_Count_12_mon  Credit_Limit  ...  \\\n",
      "3358               -0.337598              -2.219655      0.814456  ...   \n",
      "9951                0.651940               0.492404      1.913338  ...   \n",
      "3848               -1.327136              -0.411616     -0.628823  ...   \n",
      "\n",
      "      Total_Ct_Chng_Q4_Q1  Avg_Utilization_Ratio  Marital_Status_Divorced  \\\n",
      "3358             0.801336              -0.634413                 3.541013   \n",
      "9951            -0.731798              -0.997155                -0.282405   \n",
      "3848            -0.937616               1.759686                -0.282405   \n",
      "\n",
      "      Marital_Status_Married  Marital_Status_Single  Card_Category_Blue  \\\n",
      "3358               -0.928214              -0.798507            0.270611   \n",
      "9951               -0.928214               1.252337            0.270611   \n",
      "3848               -0.928214               1.252337            0.270611   \n",
      "\n",
      "      Card_Category_Gold  Card_Category_Platinum  Card_Category_Silver  \\\n",
      "3358           -0.107644               -0.044484             -0.240794   \n",
      "9951           -0.107644               -0.044484             -0.240794   \n",
      "3848           -0.107644               -0.044484             -0.240794   \n",
      "\n",
      "      Attrition_Flag  \n",
      "3358               0  \n",
      "9951               1  \n",
      "3848               0  \n",
      "\n",
      "[3 rows x 25 columns]\n",
      "(8101, 25)\n",
      "(2026, 25)\n"
     ]
    }
   ],
   "source": [
    "from sklearn.model_selection import train_test_split\n",
    "\n",
    "x_train, x_test = train_test_split(all_data, test_size=0.2,random_state=0)\n",
    "# columns=x_train.columns\n",
    "# x_train.reset_index(drop=True, inplace=True)\n",
    "# x_test.reset_index(drop=True, inplace=True)\n",
    "print(x_train.head(3))\n",
    "print(x_test.head(3))\n",
    "print(x_train.shape)\n",
    "print(x_test.shape)\n",
    "\n",
    "if \"training\" not in os.listdir():\n",
    "    os.mkdir(\"./training\")\n",
    "\n",
    "x_train.to_csv('training/train_data.csv',index=False)\n",
    "x_test.to_csv('training/test_data.csv',index=False)\n",
    "\n",
    "# x_train.to_csv(path_or_buf='training/train_data.csv', columns=columns, header=True, index=False) \n",
    "# x_test.to_csv(path_or_buf='training/test_data.csv', columns=columns, header=True, index=False)"
   ]
  },
  {
   "cell_type": "code",
   "execution_count": 9,
   "metadata": {},
   "outputs": [
    {
     "name": "stdout",
     "output_type": "stream",
     "text": [
      "{\n",
      "  \"name\": \"workspaceblobstore\",\n",
      "  \"container_name\": \"azureml-blobstore-09282397-c506-457c-b8b4-96c303ccdc68\",\n",
      "  \"account_name\": \"mlstrg133172\",\n",
      "  \"protocol\": \"https\",\n",
      "  \"endpoint\": \"core.windows.net\"\n",
      "}\n",
      "Uploading an estimated of 3 files\n",
      "Target already exists. Skipping upload for data/test_data.csv\n",
      "Target already exists. Skipping upload for data/train_data.csv\n",
      "Uploading training/.ipynb_checkpoints/train_data-checkpoint.csv\n",
      "Uploaded training/.ipynb_checkpoints/train_data-checkpoint.csv, 1 files out of an estimated total of 1\n",
      "Uploaded 1 files\n"
     ]
    }
   ],
   "source": [
    "# get the datastore to upload prepared data\n",
    "datastore = ws.get_default_datastore()\n",
    "print(datastore)\n",
    "\n",
    "# upload the local file from src_dir to the target_path in datastore\n",
    "datastore.upload(src_dir='training/', target_path='data/')\n",
    "# datastore.upload_files(['trainset.csv'])\n",
    "\n",
    "# create a dataset referencing the cloud location\n",
    "train_data = TabularDatasetFactory.from_delimited_files(path = [(datastore, ('data/train_data.csv'))])\n",
    "test_data = TabularDatasetFactory.from_delimited_files(path = [(datastore, ('data/test_data.csv'))])"
   ]
  },
  {
   "cell_type": "markdown",
   "metadata": {},
   "source": [
    "## AutoML Configuration"
   ]
  },
  {
   "cell_type": "code",
   "execution_count": 10,
   "metadata": {
    "collapsed": false,
    "gather": {
     "logged": 1598429217746
    },
    "jupyter": {
     "outputs_hidden": false,
     "source_hidden": false
    },
    "nteract": {
     "transient": {
      "deleting": false
     }
    }
   },
   "outputs": [],
   "source": [
    "# TODO: Put your automl settings here\n",
    "automl_settings = {\n",
    "    \"experiment_timeout_minutes\": 30,\n",
    "    \"max_concurrent_iterations\": 10,\n",
    "    \"primary_metric\" : 'accuracy',\n",
    "    \"n_cross_validations\": 3,\n",
    "    \"max_cores_per_iteration\":-1\n",
    "}\n",
    "\n",
    "# TODO: Put your automl config here\n",
    "automl_config = AutoMLConfig(compute_target=compute_aml_cluster,\n",
    "                             task = \"classification\",\n",
    "                             training_data=train_data,\n",
    "                             label_column_name=\"Attrition_Flag\",   \n",
    "                             path = project_folder,\n",
    "                             enable_early_stopping= True,\n",
    "                             debug_log = \"automl_errors.log\",\n",
    "                             **automl_settings\n",
    ")"
   ]
  },
  {
   "cell_type": "markdown",
   "metadata": {},
   "source": [
    "## Submit Run"
   ]
  },
  {
   "cell_type": "code",
   "execution_count": 11,
   "metadata": {
    "collapsed": false,
    "gather": {
     "logged": 1598431107951
    },
    "jupyter": {
     "outputs_hidden": false,
     "source_hidden": false
    },
    "nteract": {
     "transient": {
      "deleting": false
     }
    }
   },
   "outputs": [
    {
     "name": "stdout",
     "output_type": "stream",
     "text": [
      "Running on remote.\n",
      "No run_configuration provided, running on compute-aml-cluster with default configuration\n",
      "Running on remote compute: compute-aml-cluster\n",
      "Parent Run ID: AutoML_e11c5b6a-8bb5-49f5-94c6-8788e142e345\n",
      "\n",
      "Current status: FeaturesGeneration. Generating features for the dataset.\n",
      "Current status: DatasetBalancing. Performing class balancing sweeping\n",
      "Current status: ModelSelection. Beginning model selection.\n",
      "\n",
      "****************************************************************************************************\n",
      "DATA GUARDRAILS: \n",
      "\n",
      "TYPE:         Class balancing detection\n",
      "STATUS:       ALERTED\n",
      "DESCRIPTION:  To decrease model bias, please cancel the current run and fix balancing problem.\n",
      "              Learn more about imbalanced data: https://aka.ms/AutomatedMLImbalancedData\n",
      "DETAILS:      Imbalanced data can lead to a falsely perceived positive effect of a model's accuracy because the input data has bias towards one class.\n",
      "+---------------------------------+---------------------------------+--------------------------------------+\n",
      "|Size of the smallest class       |Name/Label of the smallest class |Number of samples in the training data|\n",
      "+=================================+=================================+======================================+\n",
      "|1318                             |1                                |8101                                  |\n",
      "+---------------------------------+---------------------------------+--------------------------------------+\n",
      "\n",
      "****************************************************************************************************\n",
      "\n",
      "TYPE:         Missing feature values imputation\n",
      "STATUS:       PASSED\n",
      "DESCRIPTION:  No feature missing values were detected in the training data.\n",
      "              Learn more about missing value imputation: https://aka.ms/AutomatedMLFeaturization\n",
      "\n",
      "****************************************************************************************************\n",
      "\n",
      "TYPE:         High cardinality feature detection\n",
      "STATUS:       PASSED\n",
      "DESCRIPTION:  Your inputs were analyzed, and no high cardinality features were detected.\n",
      "              Learn more about high cardinality feature handling: https://aka.ms/AutomatedMLFeaturization\n",
      "\n",
      "****************************************************************************************************\n",
      "\n",
      "****************************************************************************************************\n",
      "ITERATION: The iteration being evaluated.\n",
      "PIPELINE: A summary description of the pipeline being evaluated.\n",
      "DURATION: Time taken for the current iteration.\n",
      "METRIC: The result of computing score on the fitted pipeline.\n",
      "BEST: The best observed score thus far.\n",
      "****************************************************************************************************\n",
      "\n",
      " ITERATION   PIPELINE                                       DURATION      METRIC      BEST\n",
      "         3   MinMaxScaler RandomForest                      0:00:49       0.8756    0.8756\n",
      "         2   MinMaxScaler RandomForest                      0:00:53       0.8891    0.8891\n",
      "         4   MinMaxScaler RandomForest                      0:00:53       0.9024    0.9024\n",
      "         9   TruncatedSVDWrapper XGBoostClassifier          0:00:58       0.9016    0.9024\n",
      "         8   SparseNormalizer XGBoostClassifier             0:01:02       0.9361    0.9361\n",
      "         0   MaxAbsScaler LightGBM                          0:01:36       0.9696    0.9696\n",
      "         1   MaxAbsScaler XGBoostClassifier                 0:01:34       0.9626    0.9696\n",
      "         5   StandardScalerWrapper LightGBM                 0:01:36       0.9647    0.9696\n",
      "         6   StandardScalerWrapper XGBoostClassifier        0:01:35       0.9673    0.9696\n",
      "         7   SparseNormalizer LightGBM                      0:01:33       0.9559    0.9696\n",
      "        12   SparseNormalizer XGBoostClassifier             0:00:49       0.9464    0.9696\n",
      "        13   SparseNormalizer LightGBM                      0:00:42       0.9116    0.9696\n",
      "        10   SparseNormalizer XGBoostClassifier             0:01:04       0.9577    0.9696\n",
      "        11   SparseNormalizer XGBoostClassifier             0:00:56       0.9426    0.9696\n",
      "        14   StandardScalerWrapper LogisticRegression       0:00:46       0.9047    0.9696\n",
      "        15   SparseNormalizer XGBoostClassifier             0:00:54       0.8954    0.9696\n",
      "        18   SparseNormalizer GradientBoosting              0:00:46       0.9047    0.9696\n",
      "        16   SparseNormalizer XGBoostClassifier             0:00:56       0.9279    0.9696\n",
      "        17   StandardScalerWrapper LightGBM                 0:00:51       0.8434    0.9696\n",
      "        19   SparseNormalizer LightGBM                      0:00:55       0.9430    0.9696\n",
      "        22   MaxAbsScaler ExtremeRandomTrees                0:00:47       0.9066    0.9696\n",
      "        24   MinMaxScaler LightGBM                          0:00:40       0.8972    0.9696\n",
      "        20   SparseNormalizer XGBoostClassifier             0:01:05       0.9522    0.9696\n",
      "        21   MinMaxScaler LogisticRegression                0:01:01       0.9043    0.9696\n",
      "        23   MaxAbsScaler ExtremeRandomTrees                0:00:54       0.8703    0.9696\n",
      "        25   MaxAbsScaler LightGBM                          0:00:52       0.8373    0.9696\n",
      "        26   MaxAbsScaler RandomForest                      0:00:45       0.9200    0.9696\n",
      "        27   StandardScalerWrapper XGBoostClassifier        0:00:52       0.9093    0.9696\n",
      "        28   SparseNormalizer XGBoostClassifier             0:00:52       0.9479    0.9696\n",
      "        29   SparseNormalizer XGBoostClassifier             0:00:48       0.9373    0.9696\n",
      "        30   StandardScalerWrapper LightGBM                 0:00:50       0.9590    0.9696\n",
      "        33   MaxAbsScaler LightGBM                          0:00:41       0.9348    0.9696\n",
      "        34   StandardScalerWrapper LightGBM                 0:00:45       0.9606    0.9696\n",
      "        31   SparseNormalizer XGBoostClassifier             0:00:49       0.9493    0.9696\n",
      "        32   MaxAbsScaler ExtremeRandomTrees                0:01:10       0.8373    0.9696\n",
      "        35   PCA LightGBM                                   0:00:48       0.8373    0.9696\n",
      "        37   SparseNormalizer XGBoostClassifier             0:00:50       0.9459    0.9696\n",
      "        39   StandardScalerWrapper XGBoostClassifier        0:00:50       0.9656    0.9696\n",
      "        36   SparseNormalizer XGBoostClassifier             0:01:11       0.9538    0.9696\n",
      "        38   SparseNormalizer XGBoostClassifier             0:01:11       0.9559    0.9696\n",
      "        40   SparseNormalizer LightGBM                      0:00:58          nan    0.9696\n",
      "        41   SparseNormalizer XGBoostClassifier             0:00:53       0.9515    0.9696\n",
      "        42   SparseNormalizer XGBoostClassifier             0:00:53          nan    0.9696\n",
      "        43   SparseNormalizer XGBoostClassifier             0:00:47          nan    0.9696\n",
      "        44   SparseNormalizer XGBoostClassifier             0:00:31          nan    0.9696\n",
      "        45                                                  0:00:17          nan    0.9696\n",
      "        46                                                  0:00:08          nan    0.9696\n",
      "        47                                                  0:00:18          nan    0.9696\n",
      "        48    VotingEnsemble                                0:01:36       0.9705    0.9705\n",
      "        49    StackEnsemble                                 0:01:37       0.9698    0.9705\n"
     ]
    }
   ],
   "source": [
    "remote_run = experiment.submit(automl_config, show_output=True)"
   ]
  },
  {
   "cell_type": "markdown",
   "metadata": {},
   "source": [
    "## Run Details"
   ]
  },
  {
   "cell_type": "code",
   "execution_count": 12,
   "metadata": {},
   "outputs": [
    {
     "data": {
      "text/html": [
       "<table style=\"width:100%\"><tr><th>Experiment</th><th>Id</th><th>Type</th><th>Status</th><th>Details Page</th><th>Docs Page</th></tr><tr><td>automl-experiment</td><td>AutoML_e11c5b6a-8bb5-49f5-94c6-8788e142e345</td><td>automl</td><td>Completed</td><td><a href=\"https://ml.azure.com/experiments/automl-experiment/runs/AutoML_e11c5b6a-8bb5-49f5-94c6-8788e142e345?wsid=/subscriptions/cdbe0b43-92a0-4715-838a-f2648cc7ad21/resourcegroups/aml-quickstarts-133172/workspaces/quick-starts-ws-133172\" target=\"_blank\" rel=\"noopener\">Link to Azure Machine Learning studio</a></td><td><a href=\"https://docs.microsoft.com/en-us/python/api/overview/azure/ml/intro?view=azure-ml-py\" target=\"_blank\" rel=\"noopener\">Link to Documentation</a></td></tr></table>"
      ],
      "text/plain": [
       "Run(Experiment: automl-experiment,\n",
       "Id: AutoML_e11c5b6a-8bb5-49f5-94c6-8788e142e345,\n",
       "Type: automl,\n",
       "Status: Completed)"
      ]
     },
     "execution_count": 12,
     "metadata": {},
     "output_type": "execute_result"
    }
   ],
   "source": [
    "remote_run"
   ]
  },
  {
   "cell_type": "code",
   "execution_count": 13,
   "metadata": {
    "collapsed": false,
    "gather": {
     "logged": 1598431121770
    },
    "jupyter": {
     "outputs_hidden": false,
     "source_hidden": false
    },
    "nteract": {
     "transient": {
      "deleting": false
     }
    }
   },
   "outputs": [
    {
     "data": {
      "application/vnd.jupyter.widget-view+json": {
       "model_id": "01e48919679640dca7b0f347e1d69049",
       "version_major": 2,
       "version_minor": 0
      },
      "text/plain": [
       "_AutoMLWidget(widget_settings={'childWidgetDisplay': 'popup', 'send_telemetry': False, 'log_level': 'INFO', 's…"
      ]
     },
     "metadata": {},
     "output_type": "display_data"
    },
    {
     "data": {
      "application/aml.mini.widget.v1": "{\"status\": \"Completed\", \"workbench_run_details_uri\": \"https://ml.azure.com/experiments/automl-experiment/runs/AutoML_e11c5b6a-8bb5-49f5-94c6-8788e142e345?wsid=/subscriptions/cdbe0b43-92a0-4715-838a-f2648cc7ad21/resourcegroups/aml-quickstarts-133172/workspaces/quick-starts-ws-133172\", \"run_id\": \"AutoML_e11c5b6a-8bb5-49f5-94c6-8788e142e345\", \"run_properties\": {\"run_id\": \"AutoML_e11c5b6a-8bb5-49f5-94c6-8788e142e345\", \"created_utc\": \"2021-01-03T15:43:52.551041Z\", \"properties\": {\"num_iterations\": \"1000\", \"training_type\": \"TrainFull\", \"acquisition_function\": \"EI\", \"primary_metric\": \"accuracy\", \"train_split\": \"0\", \"acquisition_parameter\": \"0\", \"num_cross_validation\": \"3\", \"target\": \"compute-aml-cluster\", \"AMLSettingsJsonString\": \"{\\\"path\\\":null,\\\"name\\\":\\\"automl-experiment\\\",\\\"subscription_id\\\":\\\"cdbe0b43-92a0-4715-838a-f2648cc7ad21\\\",\\\"resource_group\\\":\\\"aml-quickstarts-133172\\\",\\\"workspace_name\\\":\\\"quick-starts-ws-133172\\\",\\\"region\\\":\\\"southcentralus\\\",\\\"compute_target\\\":\\\"compute-aml-cluster\\\",\\\"spark_service\\\":null,\\\"azure_service\\\":\\\"remote\\\",\\\"many_models\\\":false,\\\"pipeline_fetch_max_batch_size\\\":1,\\\"iterations\\\":1000,\\\"primary_metric\\\":\\\"accuracy\\\",\\\"task_type\\\":\\\"classification\\\",\\\"data_script\\\":null,\\\"validation_size\\\":0.0,\\\"n_cross_validations\\\":3,\\\"y_min\\\":null,\\\"y_max\\\":null,\\\"num_classes\\\":null,\\\"featurization\\\":\\\"auto\\\",\\\"_ignore_package_version_incompatibilities\\\":false,\\\"is_timeseries\\\":false,\\\"max_cores_per_iteration\\\":-1,\\\"max_concurrent_iterations\\\":10,\\\"iteration_timeout_minutes\\\":null,\\\"mem_in_mb\\\":null,\\\"enforce_time_on_windows\\\":false,\\\"experiment_timeout_minutes\\\":30,\\\"experiment_exit_score\\\":null,\\\"whitelist_models\\\":null,\\\"blacklist_algos\\\":[\\\"TensorFlowLinearClassifier\\\",\\\"TensorFlowDNN\\\"],\\\"supported_models\\\":[\\\"ExtremeRandomTrees\\\",\\\"RandomForest\\\",\\\"KNN\\\",\\\"LogisticRegression\\\",\\\"DecisionTree\\\",\\\"XGBoostClassifier\\\",\\\"AveragedPerceptronClassifier\\\",\\\"TensorFlowDNN\\\",\\\"MultinomialNaiveBayes\\\",\\\"LightGBM\\\",\\\"SGD\\\",\\\"BernoulliNaiveBayes\\\",\\\"LinearSVM\\\",\\\"TensorFlowLinearClassifier\\\",\\\"SVM\\\",\\\"GradientBoosting\\\"],\\\"auto_blacklist\\\":true,\\\"blacklist_samples_reached\\\":false,\\\"exclude_nan_labels\\\":true,\\\"verbosity\\\":20,\\\"_debug_log\\\":\\\"azureml_automl.log\\\",\\\"show_warnings\\\":false,\\\"model_explainability\\\":true,\\\"service_url\\\":null,\\\"sdk_url\\\":null,\\\"sdk_packages\\\":null,\\\"enable_onnx_compatible_models\\\":false,\\\"enable_split_onnx_featurizer_estimator_models\\\":false,\\\"vm_type\\\":\\\"STANDARD_D13_V2\\\",\\\"telemetry_verbosity\\\":20,\\\"send_telemetry\\\":true,\\\"enable_dnn\\\":false,\\\"scenario\\\":\\\"SDK-1.13.0\\\",\\\"environment_label\\\":null,\\\"force_text_dnn\\\":false,\\\"enable_feature_sweeping\\\":true,\\\"enable_early_stopping\\\":true,\\\"early_stopping_n_iters\\\":10,\\\"metrics\\\":null,\\\"enable_ensembling\\\":true,\\\"enable_stack_ensembling\\\":true,\\\"ensemble_iterations\\\":15,\\\"enable_tf\\\":false,\\\"enable_subsampling\\\":null,\\\"subsample_seed\\\":null,\\\"enable_nimbusml\\\":false,\\\"enable_streaming\\\":false,\\\"force_streaming\\\":false,\\\"track_child_runs\\\":true,\\\"allowed_private_models\\\":[],\\\"label_column_name\\\":\\\"Attrition_Flag\\\",\\\"weight_column_name\\\":null,\\\"cv_split_column_names\\\":null,\\\"enable_local_managed\\\":false,\\\"_local_managed_run_id\\\":null,\\\"cost_mode\\\":1,\\\"lag_length\\\":0,\\\"metric_operation\\\":\\\"maximize\\\",\\\"preprocess\\\":true}\", \"DataPrepJsonString\": \"{\\\\\\\"training_data\\\\\\\": \\\\\\\"{\\\\\\\\\\\\\\\"blocks\\\\\\\\\\\\\\\": [{\\\\\\\\\\\\\\\"id\\\\\\\\\\\\\\\": \\\\\\\\\\\\\\\"0d4b89a9-2112-4e33-977f-9fa704d98650\\\\\\\\\\\\\\\", \\\\\\\\\\\\\\\"type\\\\\\\\\\\\\\\": \\\\\\\\\\\\\\\"Microsoft.DPrep.GetDatastoreFilesBlock\\\\\\\\\\\\\\\", \\\\\\\\\\\\\\\"arguments\\\\\\\\\\\\\\\": {\\\\\\\\\\\\\\\"datastores\\\\\\\\\\\\\\\": [{\\\\\\\\\\\\\\\"datastoreName\\\\\\\\\\\\\\\": \\\\\\\\\\\\\\\"workspaceblobstore\\\\\\\\\\\\\\\", \\\\\\\\\\\\\\\"path\\\\\\\\\\\\\\\": \\\\\\\\\\\\\\\"data/train_data.csv\\\\\\\\\\\\\\\", \\\\\\\\\\\\\\\"resourceGroup\\\\\\\\\\\\\\\": \\\\\\\\\\\\\\\"aml-quickstarts-133172\\\\\\\\\\\\\\\", \\\\\\\\\\\\\\\"subscription\\\\\\\\\\\\\\\": \\\\\\\\\\\\\\\"cdbe0b43-92a0-4715-838a-f2648cc7ad21\\\\\\\\\\\\\\\", \\\\\\\\\\\\\\\"workspaceName\\\\\\\\\\\\\\\": \\\\\\\\\\\\\\\"quick-starts-ws-133172\\\\\\\\\\\\\\\"}]}, \\\\\\\\\\\\\\\"localData\\\\\\\\\\\\\\\": {}, \\\\\\\\\\\\\\\"isEnabled\\\\\\\\\\\\\\\": true, \\\\\\\\\\\\\\\"name\\\\\\\\\\\\\\\": null, \\\\\\\\\\\\\\\"annotation\\\\\\\\\\\\\\\": null}, {\\\\\\\\\\\\\\\"id\\\\\\\\\\\\\\\": \\\\\\\\\\\\\\\"c54f26ce-1eb2-47d2-9753-953bd967d79f\\\\\\\\\\\\\\\", \\\\\\\\\\\\\\\"type\\\\\\\\\\\\\\\": \\\\\\\\\\\\\\\"Microsoft.DPrep.ParseDelimitedBlock\\\\\\\\\\\\\\\", \\\\\\\\\\\\\\\"arguments\\\\\\\\\\\\\\\": {\\\\\\\\\\\\\\\"columnHeadersMode\\\\\\\\\\\\\\\": 3, \\\\\\\\\\\\\\\"fileEncoding\\\\\\\\\\\\\\\": 0, \\\\\\\\\\\\\\\"handleQuotedLineBreaks\\\\\\\\\\\\\\\": false, \\\\\\\\\\\\\\\"preview\\\\\\\\\\\\\\\": false, \\\\\\\\\\\\\\\"separator\\\\\\\\\\\\\\\": \\\\\\\\\\\\\\\",\\\\\\\\\\\\\\\", \\\\\\\\\\\\\\\"skipRows\\\\\\\\\\\\\\\": 0, \\\\\\\\\\\\\\\"skipRowsMode\\\\\\\\\\\\\\\": 0}, \\\\\\\\\\\\\\\"localData\\\\\\\\\\\\\\\": {}, \\\\\\\\\\\\\\\"isEnabled\\\\\\\\\\\\\\\": true, \\\\\\\\\\\\\\\"name\\\\\\\\\\\\\\\": null, \\\\\\\\\\\\\\\"annotation\\\\\\\\\\\\\\\": null}, {\\\\\\\\\\\\\\\"id\\\\\\\\\\\\\\\": \\\\\\\\\\\\\\\"0d4cfc59-b369-47f2-8860-8afcad6cbbac\\\\\\\\\\\\\\\", \\\\\\\\\\\\\\\"type\\\\\\\\\\\\\\\": \\\\\\\\\\\\\\\"Microsoft.DPrep.DropColumnsBlock\\\\\\\\\\\\\\\", \\\\\\\\\\\\\\\"arguments\\\\\\\\\\\\\\\": {\\\\\\\\\\\\\\\"columns\\\\\\\\\\\\\\\": {\\\\\\\\\\\\\\\"type\\\\\\\\\\\\\\\": 0, \\\\\\\\\\\\\\\"details\\\\\\\\\\\\\\\": {\\\\\\\\\\\\\\\"selectedColumns\\\\\\\\\\\\\\\": [\\\\\\\\\\\\\\\"Path\\\\\\\\\\\\\\\"]}}}, \\\\\\\\\\\\\\\"localData\\\\\\\\\\\\\\\": {}, \\\\\\\\\\\\\\\"isEnabled\\\\\\\\\\\\\\\": true, \\\\\\\\\\\\\\\"name\\\\\\\\\\\\\\\": null, \\\\\\\\\\\\\\\"annotation\\\\\\\\\\\\\\\": null}, {\\\\\\\\\\\\\\\"id\\\\\\\\\\\\\\\": \\\\\\\\\\\\\\\"b8b4c409-3172-4fae-bfad-de7f0e2478d9\\\\\\\\\\\\\\\", \\\\\\\\\\\\\\\"type\\\\\\\\\\\\\\\": \\\\\\\\\\\\\\\"Microsoft.DPrep.SetColumnTypesBlock\\\\\\\\\\\\\\\", \\\\\\\\\\\\\\\"arguments\\\\\\\\\\\\\\\": {\\\\\\\\\\\\\\\"columnConversion\\\\\\\\\\\\\\\": [{\\\\\\\\\\\\\\\"column\\\\\\\\\\\\\\\": {\\\\\\\\\\\\\\\"type\\\\\\\\\\\\\\\": 2, \\\\\\\\\\\\\\\"details\\\\\\\\\\\\\\\": {\\\\\\\\\\\\\\\"selectedColumn\\\\\\\\\\\\\\\": \\\\\\\\\\\\\\\"Customer_Age\\\\\\\\\\\\\\\"}}, \\\\\\\\\\\\\\\"typeProperty\\\\\\\\\\\\\\\": 3}, {\\\\\\\\\\\\\\\"column\\\\\\\\\\\\\\\": {\\\\\\\\\\\\\\\"type\\\\\\\\\\\\\\\": 2, \\\\\\\\\\\\\\\"details\\\\\\\\\\\\\\\": {\\\\\\\\\\\\\\\"selectedColumn\\\\\\\\\\\\\\\": \\\\\\\\\\\\\\\"Gender\\\\\\\\\\\\\\\"}}, \\\\\\\\\\\\\\\"typeProperty\\\\\\\\\\\\\\\": 3}, {\\\\\\\\\\\\\\\"column\\\\\\\\\\\\\\\": {\\\\\\\\\\\\\\\"type\\\\\\\\\\\\\\\": 2, \\\\\\\\\\\\\\\"details\\\\\\\\\\\\\\\": {\\\\\\\\\\\\\\\"selectedColumn\\\\\\\\\\\\\\\": \\\\\\\\\\\\\\\"Dependent_count\\\\\\\\\\\\\\\"}}, \\\\\\\\\\\\\\\"typeProperty\\\\\\\\\\\\\\\": 3}, {\\\\\\\\\\\\\\\"column\\\\\\\\\\\\\\\": {\\\\\\\\\\\\\\\"type\\\\\\\\\\\\\\\": 2, \\\\\\\\\\\\\\\"details\\\\\\\\\\\\\\\": {\\\\\\\\\\\\\\\"selectedColumn\\\\\\\\\\\\\\\": \\\\\\\\\\\\\\\"Education_Level\\\\\\\\\\\\\\\"}}, \\\\\\\\\\\\\\\"typeProperty\\\\\\\\\\\\\\\": 3}, {\\\\\\\\\\\\\\\"column\\\\\\\\\\\\\\\": {\\\\\\\\\\\\\\\"type\\\\\\\\\\\\\\\": 2, \\\\\\\\\\\\\\\"details\\\\\\\\\\\\\\\": {\\\\\\\\\\\\\\\"selectedColumn\\\\\\\\\\\\\\\": \\\\\\\\\\\\\\\"Income_Category\\\\\\\\\\\\\\\"}}, \\\\\\\\\\\\\\\"typeProperty\\\\\\\\\\\\\\\": 3}, {\\\\\\\\\\\\\\\"column\\\\\\\\\\\\\\\": {\\\\\\\\\\\\\\\"type\\\\\\\\\\\\\\\": 2, \\\\\\\\\\\\\\\"details\\\\\\\\\\\\\\\": {\\\\\\\\\\\\\\\"selectedColumn\\\\\\\\\\\\\\\": \\\\\\\\\\\\\\\"Months_on_book\\\\\\\\\\\\\\\"}}, \\\\\\\\\\\\\\\"typeProperty\\\\\\\\\\\\\\\": 3}, {\\\\\\\\\\\\\\\"column\\\\\\\\\\\\\\\": {\\\\\\\\\\\\\\\"type\\\\\\\\\\\\\\\": 2, \\\\\\\\\\\\\\\"details\\\\\\\\\\\\\\\": {\\\\\\\\\\\\\\\"selectedColumn\\\\\\\\\\\\\\\": \\\\\\\\\\\\\\\"Total_Relationship_Count\\\\\\\\\\\\\\\"}}, \\\\\\\\\\\\\\\"typeProperty\\\\\\\\\\\\\\\": 3}, {\\\\\\\\\\\\\\\"column\\\\\\\\\\\\\\\": {\\\\\\\\\\\\\\\"type\\\\\\\\\\\\\\\": 2, \\\\\\\\\\\\\\\"details\\\\\\\\\\\\\\\": {\\\\\\\\\\\\\\\"selectedColumn\\\\\\\\\\\\\\\": \\\\\\\\\\\\\\\"Months_Inactive_12_mon\\\\\\\\\\\\\\\"}}, \\\\\\\\\\\\\\\"typeProperty\\\\\\\\\\\\\\\": 3}, {\\\\\\\\\\\\\\\"column\\\\\\\\\\\\\\\": {\\\\\\\\\\\\\\\"type\\\\\\\\\\\\\\\": 2, \\\\\\\\\\\\\\\"details\\\\\\\\\\\\\\\": {\\\\\\\\\\\\\\\"selectedColumn\\\\\\\\\\\\\\\": \\\\\\\\\\\\\\\"Contacts_Count_12_mon\\\\\\\\\\\\\\\"}}, \\\\\\\\\\\\\\\"typeProperty\\\\\\\\\\\\\\\": 3}, {\\\\\\\\\\\\\\\"column\\\\\\\\\\\\\\\": {\\\\\\\\\\\\\\\"type\\\\\\\\\\\\\\\": 2, \\\\\\\\\\\\\\\"details\\\\\\\\\\\\\\\": {\\\\\\\\\\\\\\\"selectedColumn\\\\\\\\\\\\\\\": \\\\\\\\\\\\\\\"Credit_Limit\\\\\\\\\\\\\\\"}}, \\\\\\\\\\\\\\\"typeProperty\\\\\\\\\\\\\\\": 3}, {\\\\\\\\\\\\\\\"column\\\\\\\\\\\\\\\": {\\\\\\\\\\\\\\\"type\\\\\\\\\\\\\\\": 2, \\\\\\\\\\\\\\\"details\\\\\\\\\\\\\\\": {\\\\\\\\\\\\\\\"selectedColumn\\\\\\\\\\\\\\\": \\\\\\\\\\\\\\\"Total_Revolving_Bal\\\\\\\\\\\\\\\"}}, \\\\\\\\\\\\\\\"typeProperty\\\\\\\\\\\\\\\": 3}, {\\\\\\\\\\\\\\\"column\\\\\\\\\\\\\\\": {\\\\\\\\\\\\\\\"type\\\\\\\\\\\\\\\": 2, \\\\\\\\\\\\\\\"details\\\\\\\\\\\\\\\": {\\\\\\\\\\\\\\\"selectedColumn\\\\\\\\\\\\\\\": \\\\\\\\\\\\\\\"Avg_Open_To_Buy\\\\\\\\\\\\\\\"}}, \\\\\\\\\\\\\\\"typeProperty\\\\\\\\\\\\\\\": 3}, {\\\\\\\\\\\\\\\"column\\\\\\\\\\\\\\\": {\\\\\\\\\\\\\\\"type\\\\\\\\\\\\\\\": 2, \\\\\\\\\\\\\\\"details\\\\\\\\\\\\\\\": {\\\\\\\\\\\\\\\"selectedColumn\\\\\\\\\\\\\\\": \\\\\\\\\\\\\\\"Total_Amt_Chng_Q4_Q1\\\\\\\\\\\\\\\"}}, \\\\\\\\\\\\\\\"typeProperty\\\\\\\\\\\\\\\": 3}, {\\\\\\\\\\\\\\\"column\\\\\\\\\\\\\\\": {\\\\\\\\\\\\\\\"type\\\\\\\\\\\\\\\": 2, \\\\\\\\\\\\\\\"details\\\\\\\\\\\\\\\": {\\\\\\\\\\\\\\\"selectedColumn\\\\\\\\\\\\\\\": \\\\\\\\\\\\\\\"Total_Trans_Amt\\\\\\\\\\\\\\\"}}, \\\\\\\\\\\\\\\"typeProperty\\\\\\\\\\\\\\\": 3}, {\\\\\\\\\\\\\\\"column\\\\\\\\\\\\\\\": {\\\\\\\\\\\\\\\"type\\\\\\\\\\\\\\\": 2, \\\\\\\\\\\\\\\"details\\\\\\\\\\\\\\\": {\\\\\\\\\\\\\\\"selectedColumn\\\\\\\\\\\\\\\": \\\\\\\\\\\\\\\"Total_Trans_Ct\\\\\\\\\\\\\\\"}}, \\\\\\\\\\\\\\\"typeProperty\\\\\\\\\\\\\\\": 3}, {\\\\\\\\\\\\\\\"column\\\\\\\\\\\\\\\": {\\\\\\\\\\\\\\\"type\\\\\\\\\\\\\\\": 2, \\\\\\\\\\\\\\\"details\\\\\\\\\\\\\\\": {\\\\\\\\\\\\\\\"selectedColumn\\\\\\\\\\\\\\\": \\\\\\\\\\\\\\\"Total_Ct_Chng_Q4_Q1\\\\\\\\\\\\\\\"}}, \\\\\\\\\\\\\\\"typeProperty\\\\\\\\\\\\\\\": 3}, {\\\\\\\\\\\\\\\"column\\\\\\\\\\\\\\\": {\\\\\\\\\\\\\\\"type\\\\\\\\\\\\\\\": 2, \\\\\\\\\\\\\\\"details\\\\\\\\\\\\\\\": {\\\\\\\\\\\\\\\"selectedColumn\\\\\\\\\\\\\\\": \\\\\\\\\\\\\\\"Avg_Utilization_Ratio\\\\\\\\\\\\\\\"}}, \\\\\\\\\\\\\\\"typeProperty\\\\\\\\\\\\\\\": 3}, {\\\\\\\\\\\\\\\"column\\\\\\\\\\\\\\\": {\\\\\\\\\\\\\\\"type\\\\\\\\\\\\\\\": 2, \\\\\\\\\\\\\\\"details\\\\\\\\\\\\\\\": {\\\\\\\\\\\\\\\"selectedColumn\\\\\\\\\\\\\\\": \\\\\\\\\\\\\\\"Marital_Status_Divorced\\\\\\\\\\\\\\\"}}, \\\\\\\\\\\\\\\"typeProperty\\\\\\\\\\\\\\\": 3}, {\\\\\\\\\\\\\\\"column\\\\\\\\\\\\\\\": {\\\\\\\\\\\\\\\"type\\\\\\\\\\\\\\\": 2, \\\\\\\\\\\\\\\"details\\\\\\\\\\\\\\\": {\\\\\\\\\\\\\\\"selectedColumn\\\\\\\\\\\\\\\": \\\\\\\\\\\\\\\"Marital_Status_Married\\\\\\\\\\\\\\\"}}, \\\\\\\\\\\\\\\"typeProperty\\\\\\\\\\\\\\\": 3}, {\\\\\\\\\\\\\\\"column\\\\\\\\\\\\\\\": {\\\\\\\\\\\\\\\"type\\\\\\\\\\\\\\\": 2, \\\\\\\\\\\\\\\"details\\\\\\\\\\\\\\\": {\\\\\\\\\\\\\\\"selectedColumn\\\\\\\\\\\\\\\": \\\\\\\\\\\\\\\"Marital_Status_Single\\\\\\\\\\\\\\\"}}, \\\\\\\\\\\\\\\"typeProperty\\\\\\\\\\\\\\\": 3}, {\\\\\\\\\\\\\\\"column\\\\\\\\\\\\\\\": {\\\\\\\\\\\\\\\"type\\\\\\\\\\\\\\\": 2, \\\\\\\\\\\\\\\"details\\\\\\\\\\\\\\\": {\\\\\\\\\\\\\\\"selectedColumn\\\\\\\\\\\\\\\": \\\\\\\\\\\\\\\"Card_Category_Blue\\\\\\\\\\\\\\\"}}, \\\\\\\\\\\\\\\"typeProperty\\\\\\\\\\\\\\\": 3}, {\\\\\\\\\\\\\\\"column\\\\\\\\\\\\\\\": {\\\\\\\\\\\\\\\"type\\\\\\\\\\\\\\\": 2, \\\\\\\\\\\\\\\"details\\\\\\\\\\\\\\\": {\\\\\\\\\\\\\\\"selectedColumn\\\\\\\\\\\\\\\": \\\\\\\\\\\\\\\"Card_Category_Gold\\\\\\\\\\\\\\\"}}, \\\\\\\\\\\\\\\"typeProperty\\\\\\\\\\\\\\\": 3}, {\\\\\\\\\\\\\\\"column\\\\\\\\\\\\\\\": {\\\\\\\\\\\\\\\"type\\\\\\\\\\\\\\\": 2, \\\\\\\\\\\\\\\"details\\\\\\\\\\\\\\\": {\\\\\\\\\\\\\\\"selectedColumn\\\\\\\\\\\\\\\": \\\\\\\\\\\\\\\"Card_Category_Platinum\\\\\\\\\\\\\\\"}}, \\\\\\\\\\\\\\\"typeProperty\\\\\\\\\\\\\\\": 3}, {\\\\\\\\\\\\\\\"column\\\\\\\\\\\\\\\": {\\\\\\\\\\\\\\\"type\\\\\\\\\\\\\\\": 2, \\\\\\\\\\\\\\\"details\\\\\\\\\\\\\\\": {\\\\\\\\\\\\\\\"selectedColumn\\\\\\\\\\\\\\\": \\\\\\\\\\\\\\\"Card_Category_Silver\\\\\\\\\\\\\\\"}}, \\\\\\\\\\\\\\\"typeProperty\\\\\\\\\\\\\\\": 3}, {\\\\\\\\\\\\\\\"column\\\\\\\\\\\\\\\": {\\\\\\\\\\\\\\\"type\\\\\\\\\\\\\\\": 2, \\\\\\\\\\\\\\\"details\\\\\\\\\\\\\\\": {\\\\\\\\\\\\\\\"selectedColumn\\\\\\\\\\\\\\\": \\\\\\\\\\\\\\\"Attrition_Flag\\\\\\\\\\\\\\\"}}, \\\\\\\\\\\\\\\"typeProperty\\\\\\\\\\\\\\\": 2}]}, \\\\\\\\\\\\\\\"localData\\\\\\\\\\\\\\\": {}, \\\\\\\\\\\\\\\"isEnabled\\\\\\\\\\\\\\\": true, \\\\\\\\\\\\\\\"name\\\\\\\\\\\\\\\": null, \\\\\\\\\\\\\\\"annotation\\\\\\\\\\\\\\\": null}], \\\\\\\\\\\\\\\"inspectors\\\\\\\\\\\\\\\": [], \\\\\\\\\\\\\\\"meta\\\\\\\\\\\\\\\": {\\\\\\\\\\\\\\\"savedDatasetId\\\\\\\\\\\\\\\": \\\\\\\\\\\\\\\"39f6bc19-4a7e-40b6-a3e0-2ed632a66631\\\\\\\\\\\\\\\", \\\\\\\\\\\\\\\"datasetType\\\\\\\\\\\\\\\": \\\\\\\\\\\\\\\"tabular\\\\\\\\\\\\\\\", \\\\\\\\\\\\\\\"subscriptionId\\\\\\\\\\\\\\\": \\\\\\\\\\\\\\\"cdbe0b43-92a0-4715-838a-f2648cc7ad21\\\\\\\\\\\\\\\", \\\\\\\\\\\\\\\"workspaceId\\\\\\\\\\\\\\\": \\\\\\\\\\\\\\\"09282397-c506-457c-b8b4-96c303ccdc68\\\\\\\\\\\\\\\", \\\\\\\\\\\\\\\"workspaceLocation\\\\\\\\\\\\\\\": \\\\\\\\\\\\\\\"southcentralus\\\\\\\\\\\\\\\"}}\\\\\\\", \\\\\\\"activities\\\\\\\": 0}\", \"EnableSubsampling\": null, \"runTemplate\": \"AutoML\", \"azureml.runsource\": \"automl\", \"display_task_type\": \"classification\", \"dependencies_versions\": \"{\\\"azureml-widgets\\\": \\\"1.19.0\\\", \\\"azureml-train\\\": \\\"1.19.0\\\", \\\"azureml-train-restclients-hyperdrive\\\": \\\"1.19.0\\\", \\\"azureml-train-core\\\": \\\"1.19.0\\\", \\\"azureml-train-automl\\\": \\\"1.19.0\\\", \\\"azureml-train-automl-runtime\\\": \\\"1.19.0\\\", \\\"azureml-train-automl-client\\\": \\\"1.19.0\\\", \\\"azureml-tensorboard\\\": \\\"1.19.0\\\", \\\"azureml-telemetry\\\": \\\"1.19.0\\\", \\\"azureml-sdk\\\": \\\"1.19.0\\\", \\\"azureml-samples\\\": \\\"0+unknown\\\", \\\"azureml-pipeline\\\": \\\"1.19.0\\\", \\\"azureml-pipeline-steps\\\": \\\"1.19.0\\\", \\\"azureml-pipeline-core\\\": \\\"1.19.0\\\", \\\"azureml-opendatasets\\\": \\\"1.19.0\\\", \\\"azureml-model-management-sdk\\\": \\\"1.0.1b6.post1\\\", \\\"azureml-mlflow\\\": \\\"1.19.0\\\", \\\"azureml-interpret\\\": \\\"1.19.0\\\", \\\"azureml-explain-model\\\": \\\"1.19.0\\\", \\\"azureml-defaults\\\": \\\"1.19.0\\\", \\\"azureml-dataset-runtime\\\": \\\"1.19.0\\\", \\\"azureml-dataprep\\\": \\\"2.6.1\\\", \\\"azureml-dataprep-rslex\\\": \\\"1.4.0\\\", \\\"azureml-dataprep-native\\\": \\\"26.0.0\\\", \\\"azureml-datadrift\\\": \\\"1.19.0\\\", \\\"azureml-core\\\": \\\"1.19.0\\\", \\\"azureml-contrib-services\\\": \\\"1.19.0\\\", \\\"azureml-contrib-server\\\": \\\"1.19.0\\\", \\\"azureml-contrib-reinforcementlearning\\\": \\\"1.19.0\\\", \\\"azureml-contrib-pipeline-steps\\\": \\\"1.19.0\\\", \\\"azureml-contrib-notebook\\\": \\\"1.19.0\\\", \\\"azureml-contrib-interpret\\\": \\\"1.19.0\\\", \\\"azureml-contrib-gbdt\\\": \\\"1.19.0\\\", \\\"azureml-contrib-fairness\\\": \\\"1.19.0\\\", \\\"azureml-contrib-dataset\\\": \\\"1.19.0\\\", \\\"azureml-cli-common\\\": \\\"1.19.0\\\", \\\"azureml-automl-runtime\\\": \\\"1.19.0\\\", \\\"azureml-automl-core\\\": \\\"1.19.0\\\", \\\"azureml-accel-models\\\": \\\"1.19.0\\\"}\", \"_aml_system_scenario_identification\": \"Remote.Parent\", \"ClientType\": \"SDK\", \"environment_cpu_name\": \"AzureML-AutoML\", \"environment_cpu_label\": \"prod\", \"environment_gpu_name\": \"AzureML-AutoML-GPU\", \"environment_gpu_label\": \"prod\", \"root_attribution\": \"automl\", \"attribution\": \"AutoML\", \"Orchestrator\": \"AutoML\", \"CancelUri\": \"https://southcentralus.experiments.azureml.net/jasmine/v1.0/subscriptions/cdbe0b43-92a0-4715-838a-f2648cc7ad21/resourceGroups/aml-quickstarts-133172/providers/Microsoft.MachineLearningServices/workspaces/quick-starts-ws-133172/experimentids/f11f4c1c-b09c-45c4-a730-8fbb5402e9d0/cancel/AutoML_e11c5b6a-8bb5-49f5-94c6-8788e142e345\", \"ClientSdkVersion\": \"1.19.0\", \"snapshotId\": \"00000000-0000-0000-0000-000000000000\", \"SetupRunId\": \"AutoML_e11c5b6a-8bb5-49f5-94c6-8788e142e345_setup\", \"SetupRunContainerId\": \"dcid.AutoML_e11c5b6a-8bb5-49f5-94c6-8788e142e345_setup\", \"FeaturizationRunJsonPath\": \"featurizer_container.json\", \"FeaturizationRunId\": \"AutoML_e11c5b6a-8bb5-49f5-94c6-8788e142e345_featurize\", \"ProblemInfoJsonString\": \"{\\\"dataset_num_categorical\\\": 0, \\\"is_sparse\\\": false, \\\"subsampling\\\": false, \\\"dataset_classes\\\": 2, \\\"dataset_features\\\": 24, \\\"dataset_samples\\\": 8101, \\\"single_frequency_class_detected\\\": false}\", \"ModelExplainRunId\": \"AutoML_e11c5b6a-8bb5-49f5-94c6-8788e142e345_ModelExplain\"}, \"tags\": {\"model_explain_run\": \"best_run\", \"_aml_system_azureml.automlComponent\": \"AutoML\", \"pipeline_id\": \"\", \"score\": \"\", \"predicted_cost\": \"\", \"fit_time\": \"\", \"training_percent\": \"\", \"iteration\": \"\", \"run_preprocessor\": \"\", \"run_algorithm\": \"\", \"dynamic_whitelisting_iterations\": \"<25>;<30>;<35>;<40>;<45>;\", \"automl_best_child_run_id\": \"AutoML_e11c5b6a-8bb5-49f5-94c6-8788e142e345_48\", \"model_explain_best_run_child_id\": \"AutoML_e11c5b6a-8bb5-49f5-94c6-8788e142e345_48\"}, \"end_time_utc\": \"2021-01-03T15:54:44.803103Z\", \"status\": \"Completed\", \"log_files\": {}, \"log_groups\": [], \"run_duration\": \"0:10:52\"}, \"child_runs\": [{\"run_id\": \"AutoML_e11c5b6a-8bb5-49f5-94c6-8788e142e345_4\", \"run_number\": 59, \"metric\": null, \"status\": \"Completed\", \"run_type\": \"azureml.scriptrun\", \"training_percent\": \"100\", \"start_time\": \"2021-01-03T15:47:05.370159Z\", \"end_time\": \"2021-01-03T15:47:58.553021Z\", \"created_time\": \"2021-01-03T15:46:47.938433Z\", \"created_time_dt\": \"2021-01-03T15:46:47.938433Z\", \"duration\": \"0:01:10\", \"iteration\": \"4\", \"goal\": \"accuracy_max\", \"run_name\": \"MinMaxScaler, RandomForest\", \"run_properties\": \"copy=True, feature_range=(0, 1\", \"primary_metric\": 0.90235765, \"best_metric\": 0.96963356}, {\"run_id\": \"AutoML_e11c5b6a-8bb5-49f5-94c6-8788e142e345_8\", \"run_number\": 60, \"metric\": null, \"status\": \"Completed\", \"run_type\": \"azureml.scriptrun\", \"training_percent\": \"100\", \"start_time\": \"2021-01-03T15:47:03.773299Z\", \"end_time\": \"2021-01-03T15:48:05.283117Z\", \"created_time\": \"2021-01-03T15:46:47.948262Z\", \"created_time_dt\": \"2021-01-03T15:46:47.948262Z\", \"duration\": \"0:01:17\", \"iteration\": \"8\", \"goal\": \"accuracy_max\", \"run_name\": \"SparseNormalizer, XGBoostClassifier\", \"run_properties\": \"<azureml.automl.runtime.shared.model_wrappers.SparseNormalizer object at 0x7f563c0e8a58\", \"primary_metric\": 0.9360572, \"best_metric\": 0.96963356}, {\"run_id\": \"AutoML_e11c5b6a-8bb5-49f5-94c6-8788e142e345_3\", \"run_number\": 61, \"metric\": null, \"status\": \"Completed\", \"run_type\": \"azureml.scriptrun\", \"training_percent\": \"100\", \"start_time\": \"2021-01-03T15:47:02.993794Z\", \"end_time\": \"2021-01-03T15:47:51.95362Z\", \"created_time\": \"2021-01-03T15:46:47.960161Z\", \"created_time_dt\": \"2021-01-03T15:46:47.960161Z\", \"duration\": \"0:01:03\", \"iteration\": \"3\", \"goal\": \"accuracy_max\", \"run_name\": \"MinMaxScaler, RandomForest\", \"run_properties\": \"copy=True, feature_range=(0, 1\", \"primary_metric\": 0.87556931, \"best_metric\": 0.96963356}, {\"run_id\": \"AutoML_e11c5b6a-8bb5-49f5-94c6-8788e142e345_9\", \"run_number\": 62, \"metric\": null, \"status\": \"Completed\", \"run_type\": \"azureml.scriptrun\", \"training_percent\": \"100\", \"start_time\": \"2021-01-03T15:47:03.283904Z\", \"end_time\": \"2021-01-03T15:48:01.516937Z\", \"created_time\": \"2021-01-03T15:46:48.011953Z\", \"created_time_dt\": \"2021-01-03T15:46:48.011953Z\", \"duration\": \"0:01:13\", \"iteration\": \"9\", \"goal\": \"accuracy_max\", \"run_name\": \"TruncatedSVDWrapper, XGBoostClassifier\", \"run_properties\": \"n_components=0.7026315789473684, random_state=None\", \"primary_metric\": 0.90161691, \"best_metric\": 0.96963356}, {\"run_id\": \"AutoML_e11c5b6a-8bb5-49f5-94c6-8788e142e345_6\", \"run_number\": 63, \"metric\": null, \"status\": \"Completed\", \"run_type\": \"azureml.scriptrun\", \"training_percent\": \"100\", \"start_time\": \"2021-01-03T15:47:03.761943Z\", \"end_time\": \"2021-01-03T15:48:38.650701Z\", \"created_time\": \"2021-01-03T15:46:48.109675Z\", \"created_time_dt\": \"2021-01-03T15:46:48.109675Z\", \"duration\": \"0:01:50\", \"iteration\": \"6\", \"goal\": \"accuracy_max\", \"run_name\": \"StandardScalerWrapper, XGBoostClassifier\", \"run_properties\": \"<azureml.automl.runtime.shared.model_wrappers.StandardScalerWrapper object at 0x7faf18966940\", \"primary_metric\": 0.96728816, \"best_metric\": 0.96963356}, {\"run_id\": \"AutoML_e11c5b6a-8bb5-49f5-94c6-8788e142e345_0\", \"run_number\": 64, \"metric\": null, \"status\": \"Completed\", \"run_type\": \"azureml.scriptrun\", \"training_percent\": \"100\", \"start_time\": \"2021-01-03T15:47:03.297488Z\", \"end_time\": \"2021-01-03T15:48:39.075326Z\", \"created_time\": \"2021-01-03T15:46:48.183384Z\", \"created_time_dt\": \"2021-01-03T15:46:48.183384Z\", \"duration\": \"0:01:50\", \"iteration\": \"0\", \"goal\": \"accuracy_max\", \"run_name\": \"MaxAbsScaler, LightGBM\", \"run_properties\": \"copy=True\", \"primary_metric\": 0.96963356, \"best_metric\": 0.96963356}, {\"run_id\": \"AutoML_e11c5b6a-8bb5-49f5-94c6-8788e142e345_1\", \"run_number\": 65, \"metric\": null, \"status\": \"Completed\", \"run_type\": \"azureml.scriptrun\", \"training_percent\": \"100\", \"start_time\": \"2021-01-03T15:47:04.525656Z\", \"end_time\": \"2021-01-03T15:48:38.46994Z\", \"created_time\": \"2021-01-03T15:46:48.216695Z\", \"created_time_dt\": \"2021-01-03T15:46:48.216695Z\", \"duration\": \"0:01:50\", \"iteration\": \"1\", \"goal\": \"accuracy_max\", \"run_name\": \"MaxAbsScaler, XGBoostClassifier\", \"run_properties\": \"copy=True\", \"primary_metric\": 0.96259757, \"best_metric\": 0.96963356}, {\"run_id\": \"AutoML_e11c5b6a-8bb5-49f5-94c6-8788e142e345_5\", \"run_number\": 66, \"metric\": null, \"status\": \"Completed\", \"run_type\": \"azureml.scriptrun\", \"training_percent\": \"100\", \"start_time\": \"2021-01-03T15:47:05.057119Z\", \"end_time\": \"2021-01-03T15:48:40.80575Z\", \"created_time\": \"2021-01-03T15:46:48.231478Z\", \"created_time_dt\": \"2021-01-03T15:46:48.231478Z\", \"duration\": \"0:01:52\", \"iteration\": \"5\", \"goal\": \"accuracy_max\", \"run_name\": \"StandardScalerWrapper, LightGBM\", \"run_properties\": \"<azureml.automl.runtime.shared.model_wrappers.StandardScalerWrapper object at 0x7f15d946dc88\", \"primary_metric\": 0.96469593, \"best_metric\": 0.96963356}, {\"run_id\": \"AutoML_e11c5b6a-8bb5-49f5-94c6-8788e142e345_7\", \"run_number\": 67, \"metric\": null, \"status\": \"Completed\", \"run_type\": \"azureml.scriptrun\", \"training_percent\": \"100\", \"start_time\": \"2021-01-03T15:47:04.571168Z\", \"end_time\": \"2021-01-03T15:48:37.143705Z\", \"created_time\": \"2021-01-03T15:46:48.232919Z\", \"created_time_dt\": \"2021-01-03T15:46:48.232919Z\", \"duration\": \"0:01:48\", \"iteration\": \"7\", \"goal\": \"accuracy_max\", \"run_name\": \"SparseNormalizer, LightGBM\", \"run_properties\": \"<azureml.automl.runtime.shared.model_wrappers.SparseNormalizer object at 0x7f7ee37c3fd0\", \"primary_metric\": 0.95593132, \"best_metric\": 0.96963356}, {\"run_id\": \"AutoML_e11c5b6a-8bb5-49f5-94c6-8788e142e345_2\", \"run_number\": 68, \"metric\": null, \"status\": \"Completed\", \"run_type\": \"azureml.scriptrun\", \"training_percent\": \"100\", \"start_time\": \"2021-01-03T15:47:02.730784Z\", \"end_time\": \"2021-01-03T15:47:55.302639Z\", \"created_time\": \"2021-01-03T15:46:47.976967Z\", \"created_time_dt\": \"2021-01-03T15:46:47.976967Z\", \"duration\": \"0:01:07\", \"iteration\": \"2\", \"goal\": \"accuracy_max\", \"run_name\": \"MinMaxScaler, RandomForest\", \"run_properties\": \"copy=True, feature_range=(0, 1\", \"primary_metric\": 0.88914773, \"best_metric\": 0.96963356}, {\"run_id\": \"AutoML_e11c5b6a-8bb5-49f5-94c6-8788e142e345_10\", \"run_number\": 69, \"metric\": null, \"status\": \"Completed\", \"run_type\": \"azureml.scriptrun\", \"training_percent\": \"100\", \"start_time\": \"2021-01-03T15:48:13.114574Z\", \"end_time\": \"2021-01-03T15:49:17.396872Z\", \"created_time\": \"2021-01-03T15:47:57.084909Z\", \"created_time_dt\": \"2021-01-03T15:47:57.084909Z\", \"duration\": \"0:01:20\", \"iteration\": \"10\", \"goal\": \"accuracy_max\", \"run_name\": \"SparseNormalizer, XGBoostClassifier\", \"run_properties\": \"<azureml.automl.runtime.shared.model_wrappers.SparseNormalizer object at 0x7f00d965f6d8\", \"primary_metric\": 0.95765967, \"best_metric\": 0.96963356}, {\"run_id\": \"AutoML_e11c5b6a-8bb5-49f5-94c6-8788e142e345_11\", \"run_number\": 70, \"metric\": null, \"status\": \"Completed\", \"run_type\": \"azureml.scriptrun\", \"training_percent\": \"100\", \"start_time\": \"2021-01-03T15:48:15.547866Z\", \"end_time\": \"2021-01-03T15:49:12.024379Z\", \"created_time\": \"2021-01-03T15:48:04.026927Z\", \"created_time_dt\": \"2021-01-03T15:48:04.026927Z\", \"duration\": \"0:01:07\", \"iteration\": \"11\", \"goal\": \"accuracy_max\", \"run_name\": \"SparseNormalizer, XGBoostClassifier\", \"run_properties\": \"<azureml.automl.runtime.shared.model_wrappers.SparseNormalizer object at 0x7ffb908eaba8\", \"primary_metric\": 0.94259995, \"best_metric\": 0.96963356}, {\"run_id\": \"AutoML_e11c5b6a-8bb5-49f5-94c6-8788e142e345_13\", \"run_number\": 71, \"metric\": null, \"status\": \"Completed\", \"run_type\": \"azureml.scriptrun\", \"training_percent\": \"100\", \"start_time\": \"2021-01-03T15:48:16.490183Z\", \"end_time\": \"2021-01-03T15:48:58.359251Z\", \"created_time\": \"2021-01-03T15:48:04.243494Z\", \"created_time_dt\": \"2021-01-03T15:48:04.243494Z\", \"duration\": \"0:00:54\", \"iteration\": \"13\", \"goal\": \"accuracy_max\", \"run_name\": \"SparseNormalizer, LightGBM\", \"run_properties\": \"<azureml.automl.runtime.shared.model_wrappers.SparseNormalizer object at 0x7efebb3103c8\", \"primary_metric\": 0.91161573, \"best_metric\": 0.96963356}, {\"run_id\": \"AutoML_e11c5b6a-8bb5-49f5-94c6-8788e142e345_12\", \"run_number\": 72, \"metric\": null, \"status\": \"Completed\", \"run_type\": \"azureml.scriptrun\", \"training_percent\": \"100\", \"start_time\": \"2021-01-03T15:48:17.542452Z\", \"end_time\": \"2021-01-03T15:49:06.18722Z\", \"created_time\": \"2021-01-03T15:48:04.25657Z\", \"created_time_dt\": \"2021-01-03T15:48:04.25657Z\", \"duration\": \"0:01:01\", \"iteration\": \"12\", \"goal\": \"accuracy_max\", \"run_name\": \"SparseNormalizer, XGBoostClassifier\", \"run_properties\": \"<azureml.automl.runtime.shared.model_wrappers.SparseNormalizer object at 0x7f8f5fd020b8\", \"primary_metric\": 0.94642574, \"best_metric\": 0.96963356}, {\"run_id\": \"AutoML_e11c5b6a-8bb5-49f5-94c6-8788e142e345_14\", \"run_number\": 73, \"metric\": null, \"status\": \"Completed\", \"run_type\": \"azureml.scriptrun\", \"training_percent\": \"100\", \"start_time\": \"2021-01-03T15:48:24.981497Z\", \"end_time\": \"2021-01-03T15:49:10.771778Z\", \"created_time\": \"2021-01-03T15:48:11.994369Z\", \"created_time_dt\": \"2021-01-03T15:48:11.994369Z\", \"duration\": \"0:00:58\", \"iteration\": \"14\", \"goal\": \"accuracy_max\", \"run_name\": \"StandardScalerWrapper, LogisticRegression\", \"run_properties\": \"<azureml.automl.runtime.shared.model_wrappers.StandardScalerWrapper object at 0x7f52fc636160\", \"primary_metric\": 0.90470329, \"best_metric\": 0.96963356}, {\"run_id\": \"AutoML_e11c5b6a-8bb5-49f5-94c6-8788e142e345_16\", \"run_number\": 74, \"metric\": null, \"status\": \"Completed\", \"run_type\": \"azureml.scriptrun\", \"training_percent\": \"100\", \"start_time\": \"2021-01-03T15:48:57.585805Z\", \"end_time\": \"2021-01-03T15:49:53.72939Z\", \"created_time\": \"2021-01-03T15:48:41.808022Z\", \"created_time_dt\": \"2021-01-03T15:48:41.808022Z\", \"duration\": \"0:01:11\", \"iteration\": \"16\", \"goal\": \"accuracy_max\", \"run_name\": \"SparseNormalizer, XGBoostClassifier\", \"run_properties\": \"<azureml.automl.runtime.shared.model_wrappers.SparseNormalizer object at 0x7f999c485978\", \"primary_metric\": 0.92790969, \"best_metric\": 0.96963356}, {\"run_id\": \"AutoML_e11c5b6a-8bb5-49f5-94c6-8788e142e345_15\", \"run_number\": 75, \"metric\": null, \"status\": \"Completed\", \"run_type\": \"azureml.scriptrun\", \"training_percent\": \"100\", \"start_time\": \"2021-01-03T15:48:56.980363Z\", \"end_time\": \"2021-01-03T15:49:51.182065Z\", \"created_time\": \"2021-01-03T15:48:41.807306Z\", \"created_time_dt\": \"2021-01-03T15:48:41.807306Z\", \"duration\": \"0:01:09\", \"iteration\": \"15\", \"goal\": \"accuracy_max\", \"run_name\": \"SparseNormalizer, XGBoostClassifier\", \"run_properties\": \"<azureml.automl.runtime.shared.model_wrappers.SparseNormalizer object at 0x7f388e05b550\", \"primary_metric\": 0.89544471, \"best_metric\": 0.96963356}, {\"run_id\": \"AutoML_e11c5b6a-8bb5-49f5-94c6-8788e142e345_19\", \"run_number\": 76, \"metric\": null, \"status\": \"Completed\", \"run_type\": \"azureml.scriptrun\", \"training_percent\": \"100\", \"start_time\": \"2021-01-03T15:49:04.203073Z\", \"end_time\": \"2021-01-03T15:49:58.732908Z\", \"created_time\": \"2021-01-03T15:48:50.887272Z\", \"created_time_dt\": \"2021-01-03T15:48:50.887272Z\", \"duration\": \"0:01:07\", \"iteration\": \"19\", \"goal\": \"accuracy_max\", \"run_name\": \"SparseNormalizer, LightGBM\", \"run_properties\": \"<azureml.automl.runtime.shared.model_wrappers.SparseNormalizer object at 0x7f1e4a790b38\", \"primary_metric\": 0.94296959, \"best_metric\": 0.96963356}, {\"run_id\": \"AutoML_e11c5b6a-8bb5-49f5-94c6-8788e142e345_17\", \"run_number\": 77, \"metric\": null, \"status\": \"Completed\", \"run_type\": \"azureml.scriptrun\", \"training_percent\": \"100\", \"start_time\": \"2021-01-03T15:49:04.684911Z\", \"end_time\": \"2021-01-03T15:49:56.085582Z\", \"created_time\": \"2021-01-03T15:48:51.03265Z\", \"created_time_dt\": \"2021-01-03T15:48:51.03265Z\", \"duration\": \"0:01:05\", \"iteration\": \"17\", \"goal\": \"accuracy_max\", \"run_name\": \"StandardScalerWrapper, LightGBM\", \"run_properties\": \"<azureml.automl.runtime.shared.model_wrappers.StandardScalerWrapper object at 0x7ff0a682d828\", \"primary_metric\": 0.84335244, \"best_metric\": 0.96963356}, {\"run_id\": \"AutoML_e11c5b6a-8bb5-49f5-94c6-8788e142e345_18\", \"run_number\": 78, \"metric\": null, \"status\": \"Completed\", \"run_type\": \"azureml.scriptrun\", \"training_percent\": \"100\", \"start_time\": \"2021-01-03T15:49:03.689669Z\", \"end_time\": \"2021-01-03T15:49:49.267923Z\", \"created_time\": \"2021-01-03T15:48:51.233492Z\", \"created_time_dt\": \"2021-01-03T15:48:51.233492Z\", \"duration\": \"0:00:58\", \"iteration\": \"18\", \"goal\": \"accuracy_max\", \"run_name\": \"SparseNormalizer, GradientBoosting\", \"run_properties\": \"<azureml.automl.runtime.shared.model_wrappers.SparseNormalizer object at 0x7f8ff0051438\", \"primary_metric\": 0.90470306, \"best_metric\": 0.96963356}, {\"run_id\": \"AutoML_e11c5b6a-8bb5-49f5-94c6-8788e142e345_20\", \"run_number\": 79, \"metric\": null, \"status\": \"Completed\", \"run_type\": \"azureml.scriptrun\", \"training_percent\": \"100\", \"start_time\": \"2021-01-03T15:49:14.18048Z\", \"end_time\": \"2021-01-03T15:50:19.471614Z\", \"created_time\": \"2021-01-03T15:49:01.692425Z\", \"created_time_dt\": \"2021-01-03T15:49:01.692425Z\", \"duration\": \"0:01:17\", \"iteration\": \"20\", \"goal\": \"accuracy_max\", \"run_name\": \"SparseNormalizer, XGBoostClassifier\", \"run_properties\": \"<azureml.automl.runtime.shared.model_wrappers.SparseNormalizer object at 0x7f018054a0f0\", \"primary_metric\": 0.9522278, \"best_metric\": 0.96963356}, {\"run_id\": \"AutoML_e11c5b6a-8bb5-49f5-94c6-8788e142e345_21\", \"run_number\": 80, \"metric\": null, \"status\": \"Completed\", \"run_type\": \"azureml.scriptrun\", \"training_percent\": \"100\", \"start_time\": \"2021-01-03T15:49:22.528213Z\", \"end_time\": \"2021-01-03T15:50:23.175735Z\", \"created_time\": \"2021-01-03T15:49:08.697058Z\", \"created_time_dt\": \"2021-01-03T15:49:08.697058Z\", \"duration\": \"0:01:14\", \"iteration\": \"21\", \"goal\": \"accuracy_max\", \"run_name\": \"MinMaxScaler, LogisticRegression\", \"run_properties\": \"copy=True, feature_range=(0, 1\", \"primary_metric\": 0.90433301, \"best_metric\": 0.96963356}, {\"run_id\": \"AutoML_e11c5b6a-8bb5-49f5-94c6-8788e142e345_23\", \"run_number\": 81, \"metric\": null, \"status\": \"Completed\", \"run_type\": \"azureml.scriptrun\", \"training_percent\": \"100\", \"start_time\": \"2021-01-03T15:49:30.499452Z\", \"end_time\": \"2021-01-03T15:50:24.989527Z\", \"created_time\": \"2021-01-03T15:49:16.962492Z\", \"created_time_dt\": \"2021-01-03T15:49:16.962492Z\", \"duration\": \"0:01:08\", \"iteration\": \"23\", \"goal\": \"accuracy_max\", \"run_name\": \"MaxAbsScaler, ExtremeRandomTrees\", \"run_properties\": \"copy=True\", \"primary_metric\": 0.87026259, \"best_metric\": 0.96963356}, {\"run_id\": \"AutoML_e11c5b6a-8bb5-49f5-94c6-8788e142e345_22\", \"run_number\": 82, \"metric\": null, \"status\": \"Completed\", \"run_type\": \"azureml.scriptrun\", \"training_percent\": \"100\", \"start_time\": \"2021-01-03T15:49:30.216644Z\", \"end_time\": \"2021-01-03T15:50:17.648077Z\", \"created_time\": \"2021-01-03T15:49:16.963434Z\", \"created_time_dt\": \"2021-01-03T15:49:16.963434Z\", \"duration\": \"0:01:00\", \"iteration\": \"22\", \"goal\": \"accuracy_max\", \"run_name\": \"MaxAbsScaler, ExtremeRandomTrees\", \"run_properties\": \"copy=True\", \"primary_metric\": 0.90655432, \"best_metric\": 0.96963356}, {\"run_id\": \"AutoML_e11c5b6a-8bb5-49f5-94c6-8788e142e345_24\", \"run_number\": 83, \"metric\": null, \"status\": \"Completed\", \"run_type\": \"azureml.scriptrun\", \"training_percent\": \"100\", \"start_time\": \"2021-01-03T15:49:38.954976Z\", \"end_time\": \"2021-01-03T15:50:18.802666Z\", \"created_time\": \"2021-01-03T15:49:25.691292Z\", \"created_time_dt\": \"2021-01-03T15:49:25.691292Z\", \"duration\": \"0:00:53\", \"iteration\": \"24\", \"goal\": \"accuracy_max\", \"run_name\": \"MinMaxScaler, LightGBM\", \"run_properties\": \"copy=True, feature_range=(0, 1\", \"primary_metric\": 0.8971727, \"best_metric\": 0.96963356}, {\"run_id\": \"AutoML_e11c5b6a-8bb5-49f5-94c6-8788e142e345_25\", \"run_number\": 84, \"metric\": null, \"status\": \"Completed\", \"run_type\": \"azureml.scriptrun\", \"training_percent\": \"100\", \"start_time\": \"2021-01-03T15:50:07.422346Z\", \"end_time\": \"2021-01-03T15:50:59.86876Z\", \"created_time\": \"2021-01-03T15:49:53.812981Z\", \"created_time_dt\": \"2021-01-03T15:49:53.812981Z\", \"duration\": \"0:01:06\", \"iteration\": \"25\", \"goal\": \"accuracy_max\", \"run_name\": \"MaxAbsScaler, LightGBM\", \"run_properties\": \"copy=True\", \"primary_metric\": 0.83730356, \"best_metric\": 0.96963356}, {\"run_id\": \"AutoML_e11c5b6a-8bb5-49f5-94c6-8788e142e345_28\", \"run_number\": 85, \"metric\": null, \"status\": \"Completed\", \"run_type\": \"azureml.scriptrun\", \"training_percent\": \"100\", \"start_time\": \"2021-01-03T15:50:15.593653Z\", \"end_time\": \"2021-01-03T15:51:07.188112Z\", \"created_time\": \"2021-01-03T15:50:01.974253Z\", \"created_time_dt\": \"2021-01-03T15:50:01.974253Z\", \"duration\": \"0:01:05\", \"iteration\": \"28\", \"goal\": \"accuracy_max\", \"run_name\": \"SparseNormalizer, XGBoostClassifier\", \"run_properties\": \"<azureml.automl.runtime.shared.model_wrappers.SparseNormalizer object at 0x7f5e1731ae80\", \"primary_metric\": 0.94790768, \"best_metric\": 0.96963356}, {\"run_id\": \"AutoML_e11c5b6a-8bb5-49f5-94c6-8788e142e345_27\", \"run_number\": 86, \"metric\": null, \"status\": \"Completed\", \"run_type\": \"azureml.scriptrun\", \"training_percent\": \"100\", \"start_time\": \"2021-01-03T15:50:14.472379Z\", \"end_time\": \"2021-01-03T15:51:06.091627Z\", \"created_time\": \"2021-01-03T15:50:02.156841Z\", \"created_time_dt\": \"2021-01-03T15:50:02.156841Z\", \"duration\": \"0:01:03\", \"iteration\": \"27\", \"goal\": \"accuracy_max\", \"run_name\": \"StandardScalerWrapper, XGBoostClassifier\", \"run_properties\": \"<azureml.automl.runtime.shared.model_wrappers.StandardScalerWrapper object at 0x7f43540b0ba8\", \"primary_metric\": 0.90926968, \"best_metric\": 0.96963356}, {\"run_id\": \"AutoML_e11c5b6a-8bb5-49f5-94c6-8788e142e345_26\", \"run_number\": 87, \"metric\": null, \"status\": \"Completed\", \"run_type\": \"azureml.scriptrun\", \"training_percent\": \"100\", \"start_time\": \"2021-01-03T15:50:16.091368Z\", \"end_time\": \"2021-01-03T15:51:00.665839Z\", \"created_time\": \"2021-01-03T15:50:02.154701Z\", \"created_time_dt\": \"2021-01-03T15:50:02.154701Z\", \"duration\": \"0:00:58\", \"iteration\": \"26\", \"goal\": \"accuracy_max\", \"run_name\": \"MaxAbsScaler, RandomForest\", \"run_properties\": \"copy=True\", \"primary_metric\": 0.92001051, \"best_metric\": 0.96963356}, {\"run_id\": \"AutoML_e11c5b6a-8bb5-49f5-94c6-8788e142e345_29\", \"run_number\": 88, \"metric\": null, \"status\": \"Completed\", \"run_type\": \"azureml.scriptrun\", \"training_percent\": \"100\", \"start_time\": \"2021-01-03T15:50:22.813092Z\", \"end_time\": \"2021-01-03T15:51:10.347448Z\", \"created_time\": \"2021-01-03T15:50:10.844787Z\", \"created_time_dt\": \"2021-01-03T15:50:10.844787Z\", \"duration\": \"0:00:59\", \"iteration\": \"29\", \"goal\": \"accuracy_max\", \"run_name\": \"SparseNormalizer, XGBoostClassifier\", \"run_properties\": \"<azureml.automl.runtime.shared.model_wrappers.SparseNormalizer object at 0x7f5af23e99e8\", \"primary_metric\": 0.93729177, \"best_metric\": 0.96963356}, {\"run_id\": \"AutoML_e11c5b6a-8bb5-49f5-94c6-8788e142e345_30\", \"run_number\": 89, \"metric\": null, \"status\": \"Completed\", \"run_type\": \"azureml.scriptrun\", \"training_percent\": \"100\", \"start_time\": \"2021-01-03T15:50:34.217065Z\", \"end_time\": \"2021-01-03T15:51:24.603741Z\", \"created_time\": \"2021-01-03T15:50:22.145637Z\", \"created_time_dt\": \"2021-01-03T15:50:22.145637Z\", \"duration\": \"0:01:02\", \"iteration\": \"30\", \"goal\": \"accuracy_max\", \"run_name\": \"StandardScalerWrapper, LightGBM\", \"run_properties\": \"<azureml.automl.runtime.shared.model_wrappers.StandardScalerWrapper object at 0x7fa27c5d8e80\", \"primary_metric\": 0.95901733, \"best_metric\": 0.96963356}, {\"run_id\": \"AutoML_e11c5b6a-8bb5-49f5-94c6-8788e142e345_34\", \"run_number\": 90, \"metric\": null, \"status\": \"Completed\", \"run_type\": \"azureml.scriptrun\", \"training_percent\": \"100\", \"start_time\": \"2021-01-03T15:50:41.692857Z\", \"end_time\": \"2021-01-03T15:51:26.30222Z\", \"created_time\": \"2021-01-03T15:50:29.949087Z\", \"created_time_dt\": \"2021-01-03T15:50:29.949087Z\", \"duration\": \"0:00:56\", \"iteration\": \"34\", \"goal\": \"accuracy_max\", \"run_name\": \"StandardScalerWrapper, LightGBM\", \"run_properties\": \"<azureml.automl.runtime.shared.model_wrappers.StandardScalerWrapper object at 0x7ffa17da92b0\", \"primary_metric\": 0.96062204, \"best_metric\": 0.96963356}, {\"run_id\": \"AutoML_e11c5b6a-8bb5-49f5-94c6-8788e142e345_33\", \"run_number\": 91, \"metric\": null, \"status\": \"Completed\", \"run_type\": \"azureml.scriptrun\", \"training_percent\": \"100\", \"start_time\": \"2021-01-03T15:50:42.574096Z\", \"end_time\": \"2021-01-03T15:51:23.189188Z\", \"created_time\": \"2021-01-03T15:50:29.960143Z\", \"created_time_dt\": \"2021-01-03T15:50:29.960143Z\", \"duration\": \"0:00:53\", \"iteration\": \"33\", \"goal\": \"accuracy_max\", \"run_name\": \"MaxAbsScaler, LightGBM\", \"run_properties\": \"copy=True\", \"primary_metric\": 0.9348224, \"best_metric\": 0.96963356}, {\"run_id\": \"AutoML_e11c5b6a-8bb5-49f5-94c6-8788e142e345_32\", \"run_number\": 92, \"metric\": null, \"status\": \"Completed\", \"run_type\": \"azureml.scriptrun\", \"training_percent\": \"100\", \"start_time\": \"2021-01-03T15:50:42.486804Z\", \"end_time\": \"2021-01-03T15:51:52.868019Z\", \"created_time\": \"2021-01-03T15:50:30.092356Z\", \"created_time_dt\": \"2021-01-03T15:50:30.092356Z\", \"duration\": \"0:01:22\", \"iteration\": \"32\", \"goal\": \"accuracy_max\", \"run_name\": \"MaxAbsScaler, ExtremeRandomTrees\", \"run_properties\": \"copy=True\", \"primary_metric\": 0.83730356, \"best_metric\": 0.96963356}, {\"run_id\": \"AutoML_e11c5b6a-8bb5-49f5-94c6-8788e142e345_31\", \"run_number\": 93, \"metric\": null, \"status\": \"Completed\", \"run_type\": \"azureml.scriptrun\", \"training_percent\": \"100\", \"start_time\": \"2021-01-03T15:50:42.518211Z\", \"end_time\": \"2021-01-03T15:51:31.525367Z\", \"created_time\": \"2021-01-03T15:50:30.234564Z\", \"created_time_dt\": \"2021-01-03T15:50:30.234564Z\", \"duration\": \"0:01:01\", \"iteration\": \"31\", \"goal\": \"accuracy_max\", \"run_name\": \"SparseNormalizer, XGBoostClassifier\", \"run_properties\": \"<azureml.automl.runtime.shared.model_wrappers.SparseNormalizer object at 0x7fd5a3d27278\", \"primary_metric\": 0.94926525, \"best_metric\": 0.96963356}, {\"run_id\": \"AutoML_e11c5b6a-8bb5-49f5-94c6-8788e142e345_36\", \"run_number\": 94, \"metric\": null, \"status\": \"Completed\", \"run_type\": \"azureml.scriptrun\", \"training_percent\": \"100\", \"start_time\": \"2021-01-03T15:51:18.404926Z\", \"end_time\": \"2021-01-03T15:52:29.421787Z\", \"created_time\": \"2021-01-03T15:51:05.044608Z\", \"created_time_dt\": \"2021-01-03T15:51:05.044608Z\", \"duration\": \"0:01:24\", \"iteration\": \"36\", \"goal\": \"accuracy_max\", \"run_name\": \"SparseNormalizer, XGBoostClassifier\", \"run_properties\": \"<azureml.automl.runtime.shared.model_wrappers.SparseNormalizer object at 0x7fc32bec5b70\", \"primary_metric\": 0.95383306, \"best_metric\": 0.96963356}, {\"run_id\": \"AutoML_e11c5b6a-8bb5-49f5-94c6-8788e142e345_35\", \"run_number\": 95, \"metric\": null, \"status\": \"Completed\", \"run_type\": \"azureml.scriptrun\", \"training_percent\": \"100\", \"start_time\": \"2021-01-03T15:51:18.38283Z\", \"end_time\": \"2021-01-03T15:52:06.667275Z\", \"created_time\": \"2021-01-03T15:51:05.242966Z\", \"created_time_dt\": \"2021-01-03T15:51:05.242966Z\", \"duration\": \"0:01:01\", \"iteration\": \"35\", \"goal\": \"accuracy_max\", \"run_name\": \"PCA, LightGBM\", \"run_properties\": \"copy=True, iterated_power='auto', n_components=0.6531578947368422,\\n    random_state=None, svd_solver='auto', tol=0.0, whiten=False\", \"primary_metric\": 0.83730356, \"best_metric\": 0.96963356}, {\"run_id\": \"AutoML_e11c5b6a-8bb5-49f5-94c6-8788e142e345_38\", \"run_number\": 96, \"metric\": null, \"status\": \"Canceled\", \"run_type\": \"azureml.scriptrun\", \"training_percent\": \"100\", \"start_time\": \"2021-01-03T15:51:24.925124Z\", \"end_time\": \"2021-01-03T15:52:36.273563Z\", \"created_time\": \"2021-01-03T15:51:12.379155Z\", \"created_time_dt\": \"2021-01-03T15:51:12.379155Z\", \"duration\": \"0:01:23\", \"iteration\": \"38\", \"goal\": \"accuracy_max\", \"run_name\": \"SparseNormalizer, XGBoostClassifier\", \"run_properties\": \"<azureml.automl.runtime.shared.model_wrappers.SparseNormalizer object at 0x7fc2d4561898\", \"primary_metric\": 0.95593114, \"best_metric\": 0.96963356}, {\"run_id\": \"AutoML_e11c5b6a-8bb5-49f5-94c6-8788e142e345_37\", \"run_number\": 97, \"metric\": null, \"status\": \"Completed\", \"run_type\": \"azureml.scriptrun\", \"training_percent\": \"100\", \"start_time\": \"2021-01-03T15:51:24.782125Z\", \"end_time\": \"2021-01-03T15:52:15.260196Z\", \"created_time\": \"2021-01-03T15:51:12.54402Z\", \"created_time_dt\": \"2021-01-03T15:51:12.54402Z\", \"duration\": \"0:01:02\", \"iteration\": \"37\", \"goal\": \"accuracy_max\", \"run_name\": \"SparseNormalizer, XGBoostClassifier\", \"run_properties\": \"<azureml.automl.runtime.shared.model_wrappers.SparseNormalizer object at 0x7f051d3a8cf8\", \"primary_metric\": 0.94593255, \"best_metric\": 0.96963356}, {\"run_id\": \"AutoML_e11c5b6a-8bb5-49f5-94c6-8788e142e345_39\", \"run_number\": 98, \"metric\": null, \"status\": \"Completed\", \"run_type\": \"azureml.scriptrun\", \"training_percent\": \"100\", \"start_time\": \"2021-01-03T15:51:30.76249Z\", \"end_time\": \"2021-01-03T15:52:21.005353Z\", \"created_time\": \"2021-01-03T15:51:19.389711Z\", \"created_time_dt\": \"2021-01-03T15:51:19.389711Z\", \"duration\": \"0:01:01\", \"iteration\": \"39\", \"goal\": \"accuracy_max\", \"run_name\": \"StandardScalerWrapper, XGBoostClassifier\", \"run_properties\": \"<azureml.automl.runtime.shared.model_wrappers.StandardScalerWrapper object at 0x7f976936f2b0\", \"primary_metric\": 0.96555999, \"best_metric\": 0.96963356}, {\"run_id\": \"AutoML_e11c5b6a-8bb5-49f5-94c6-8788e142e345_40\", \"run_number\": 99, \"metric\": null, \"status\": \"Canceled\", \"run_type\": \"azureml.scriptrun\", \"training_percent\": \"100\", \"start_time\": \"2021-01-03T15:51:40.371023Z\", \"end_time\": \"2021-01-03T15:52:37.996571Z\", \"created_time\": \"2021-01-03T15:51:27.048443Z\", \"created_time_dt\": \"2021-01-03T15:51:27.048443Z\", \"duration\": \"0:01:10\", \"iteration\": \"40\", \"goal\": null, \"run_name\": \"SparseNormalizer, LightGBM\", \"run_properties\": null}, {\"run_id\": \"AutoML_e11c5b6a-8bb5-49f5-94c6-8788e142e345_41\", \"run_number\": 100, \"metric\": null, \"status\": \"Canceled\", \"run_type\": \"azureml.scriptrun\", \"training_percent\": \"100\", \"start_time\": \"2021-01-03T15:51:44.688894Z\", \"end_time\": \"2021-01-03T15:52:37.782709Z\", \"created_time\": \"2021-01-03T15:51:33.219398Z\", \"created_time_dt\": \"2021-01-03T15:51:33.219398Z\", \"duration\": \"0:01:04\", \"iteration\": \"41\", \"goal\": \"accuracy_max\", \"run_name\": \"SparseNormalizer, XGBoostClassifier\", \"run_properties\": \"<azureml.automl.runtime.shared.model_wrappers.SparseNormalizer object at 0x7f77586143c8\", \"primary_metric\": 0.95148747, \"best_metric\": 0.96963356}, {\"run_id\": \"AutoML_e11c5b6a-8bb5-49f5-94c6-8788e142e345_42\", \"run_number\": 101, \"metric\": null, \"status\": \"Canceled\", \"run_type\": \"azureml.scriptrun\", \"training_percent\": \"100\", \"start_time\": \"2021-01-03T15:51:43.816118Z\", \"end_time\": \"2021-01-03T15:52:36.557844Z\", \"created_time\": \"2021-01-03T15:51:33.221617Z\", \"created_time_dt\": \"2021-01-03T15:51:33.221617Z\", \"duration\": \"0:01:03\", \"iteration\": \"42\", \"goal\": null, \"run_name\": \"SparseNormalizer, XGBoostClassifier\", \"run_properties\": null}, {\"run_id\": \"AutoML_e11c5b6a-8bb5-49f5-94c6-8788e142e345_43\", \"run_number\": 102, \"metric\": null, \"status\": \"Canceled\", \"run_type\": \"azureml.scriptrun\", \"training_percent\": \"100\", \"start_time\": \"2021-01-03T15:51:49.58261Z\", \"end_time\": \"2021-01-03T15:52:36.649809Z\", \"created_time\": \"2021-01-03T15:51:38.15853Z\", \"created_time_dt\": \"2021-01-03T15:51:38.15853Z\", \"duration\": \"0:00:58\", \"iteration\": \"43\", \"goal\": null, \"run_name\": \"SparseNormalizer, XGBoostClassifier\", \"run_properties\": null}, {\"run_id\": \"AutoML_e11c5b6a-8bb5-49f5-94c6-8788e142e345_44\", \"run_number\": 103, \"metric\": null, \"status\": \"Canceled\", \"run_type\": \"azureml.scriptrun\", \"training_percent\": \"100\", \"start_time\": \"2021-01-03T15:52:07.453657Z\", \"end_time\": \"2021-01-03T15:52:38.55095Z\", \"created_time\": \"2021-01-03T15:51:55.893504Z\", \"created_time_dt\": \"2021-01-03T15:51:55.893504Z\", \"duration\": \"0:00:42\", \"iteration\": \"44\", \"goal\": null, \"run_name\": \"SparseNormalizer, XGBoostClassifier\", \"run_properties\": null}, {\"run_id\": \"AutoML_e11c5b6a-8bb5-49f5-94c6-8788e142e345_45\", \"run_number\": 104, \"metric\": null, \"status\": \"Canceled\", \"run_type\": \"azureml.scriptrun\", \"training_percent\": \"100\", \"start_time\": \"2021-01-03T15:52:21.786012Z\", \"end_time\": \"2021-01-03T15:52:38.653393Z\", \"created_time\": \"2021-01-03T15:52:09.908017Z\", \"created_time_dt\": \"2021-01-03T15:52:09.908017Z\", \"duration\": \"0:00:28\", \"iteration\": \"45\", \"goal\": null, \"run_name\": \"Canceled\", \"run_properties\": null}, {\"run_id\": \"AutoML_e11c5b6a-8bb5-49f5-94c6-8788e142e345_46\", \"run_number\": 105, \"metric\": null, \"status\": \"Canceled\", \"run_type\": \"azureml.scriptrun\", \"training_percent\": \"100\", \"start_time\": \"2021-01-03T15:52:29.744248Z\", \"end_time\": \"2021-01-03T15:52:37.383962Z\", \"created_time\": \"2021-01-03T15:52:17.409996Z\", \"created_time_dt\": \"2021-01-03T15:52:17.409996Z\", \"duration\": \"0:00:19\", \"iteration\": \"46\", \"goal\": null, \"run_name\": \"Canceled\", \"run_properties\": null}, {\"run_id\": \"AutoML_e11c5b6a-8bb5-49f5-94c6-8788e142e345_47\", \"run_number\": 106, \"metric\": null, \"status\": \"Canceled\", \"run_type\": \"azureml.scriptrun\", \"training_percent\": \"100\", \"start_time\": \"2021-01-03T15:52:23.059985Z\", \"end_time\": \"2021-01-03T15:52:41.053233Z\", \"created_time\": \"2021-01-03T15:52:23.059985Z\", \"created_time_dt\": \"2021-01-03T15:52:23.059985Z\", \"duration\": \"0:00:17\", \"iteration\": \"47\", \"goal\": null, \"run_name\": \"Canceled\", \"run_properties\": null}, {\"run_id\": \"AutoML_e11c5b6a-8bb5-49f5-94c6-8788e142e345_48\", \"run_number\": 107, \"metric\": null, \"status\": \"Completed\", \"run_type\": \"azureml.scriptrun\", \"training_percent\": \"100\", \"start_time\": \"2021-01-03T15:52:55.593317Z\", \"end_time\": \"2021-01-03T15:54:31.900628Z\", \"created_time\": \"2021-01-03T15:52:42.287256Z\", \"created_time_dt\": \"2021-01-03T15:52:42.287256Z\", \"duration\": \"0:01:49\", \"iteration\": \"48\", \"goal\": \"accuracy_max\", \"run_name\": \"VotingEnsemble\", \"run_properties\": \"classification_labels=None,\\n                              estimators=[('0',\\n                                           Pipeline(memory=None,\\n                                                    steps=[('maxabsscaler',\\n                                                            MaxAbsScaler(copy=True\", \"primary_metric\": 0.9704979, \"best_metric\": 0.9704979}, {\"run_id\": \"AutoML_e11c5b6a-8bb5-49f5-94c6-8788e142e345_49\", \"run_number\": 108, \"metric\": null, \"status\": \"Completed\", \"run_type\": \"azureml.scriptrun\", \"training_percent\": \"100\", \"start_time\": \"2021-01-03T15:52:54.29356Z\", \"end_time\": \"2021-01-03T15:54:31.069443Z\", \"created_time\": \"2021-01-03T15:52:42.299404Z\", \"created_time_dt\": \"2021-01-03T15:52:42.299404Z\", \"duration\": \"0:01:48\", \"iteration\": \"49\", \"goal\": \"accuracy_max\", \"run_name\": \"StackEnsemble\", \"run_properties\": \"base_learners=[('0',\\n                                        Pipeline(memory=None,\\n                                                 steps=[('maxabsscaler',\\n                                                         MaxAbsScaler(copy=True\", \"primary_metric\": 0.96975738, \"best_metric\": 0.9704979}], \"children_metrics\": {\"categories\": [0], \"series\": {\"weighted_accuracy\": [{\"categories\": [\"0\", \"1\", \"2\", \"3\", \"4\", \"5\", \"6\", \"7\", \"8\", \"9\", \"10\", \"11\", \"12\", \"13\", \"14\", \"15\", \"16\", \"17\", \"18\", \"19\", \"20\", \"21\", \"22\", \"23\", \"24\", \"25\", \"26\", \"27\", \"28\", \"29\", \"30\", \"31\", \"32\", \"33\", \"34\", \"35\", \"36\", \"37\", \"38\", \"39\", \"41\", \"48\", \"49\"], \"mode\": \"markers\", \"name\": \"weighted_accuracy\", \"stepped\": false, \"type\": \"scatter\", \"data\": [0.9826914098941565, 0.981573479404816, 0.9637567456713333, 0.9673100181844657, 0.9034922560853618, 0.9793123387073108, 0.9820503059367368, 0.9751754574930745, 0.9734758221755015, 0.958550218768666, 0.978662710224432, 0.9701348423809515, 0.973177495020597, 0.9637290049177466, 0.9521701784455526, 0.9655022746871581, 0.9695725167048405, 0.9648723673537672, 0.968037126513808, 0.969064681769107, 0.9749179307724773, 0.9558461414849363, 0.9641126915876684, 0.968286263807705, 0.966213676498023, 0.9635304322903258, 0.9507648476012163, 0.9704033628268361, 0.9747587018499645, 0.9742342793403275, 0.9801914383458961, 0.9737990409950239, 0.9635304322903258, 0.974658596332353, 0.9779287537356979, 0.9635304322903258, 0.976094627831281, 0.9725029909250287, 0.9773430815469063, 0.9835947569130713, 0.9752269490195724, 0.9844840930277049, 0.9834045658810887]}, {\"categories\": [\"0\", \"1\", \"2\", \"3\", \"4\", \"5\", \"6\", \"7\", \"8\", \"9\", \"10\", \"11\", \"12\", \"13\", \"14\", \"15\", \"16\", \"17\", \"18\", \"19\", \"20\", \"21\", \"22\", \"23\", \"24\", \"25\", \"26\", \"27\", \"28\", \"29\", \"30\", \"31\", \"32\", \"33\", \"34\", \"35\", \"36\", \"37\", \"38\", \"39\", \"41\", \"48\", \"49\"], \"mode\": \"lines\", \"name\": \"weighted_accuracy_max\", \"stepped\": true, \"type\": \"scatter\", \"data\": [0.9826914098941565, 0.9826914098941565, 0.9826914098941565, 0.9826914098941565, 0.9826914098941565, 0.9826914098941565, 0.9826914098941565, 0.9826914098941565, 0.9826914098941565, 0.9826914098941565, 0.9826914098941565, 0.9826914098941565, 0.9826914098941565, 0.9826914098941565, 0.9826914098941565, 0.9826914098941565, 0.9826914098941565, 0.9826914098941565, 0.9826914098941565, 0.9826914098941565, 0.9826914098941565, 0.9826914098941565, 0.9826914098941565, 0.9826914098941565, 0.9826914098941565, 0.9826914098941565, 0.9826914098941565, 0.9826914098941565, 0.9826914098941565, 0.9826914098941565, 0.9826914098941565, 0.9826914098941565, 0.9826914098941565, 0.9826914098941565, 0.9826914098941565, 0.9826914098941565, 0.9826914098941565, 0.9826914098941565, 0.9826914098941565, 0.9835947569130713, 0.9835947569130713, 0.9844840930277049, 0.9844840930277049]}], \"norm_macro_recall\": [{\"categories\": [\"0\", \"1\", \"2\", \"3\", \"4\", \"5\", \"6\", \"7\", \"8\", \"9\", \"10\", \"11\", \"12\", \"13\", \"14\", \"15\", \"16\", \"17\", \"18\", \"19\", \"20\", \"21\", \"22\", \"23\", \"24\", \"25\", \"26\", \"27\", \"28\", \"29\", \"30\", \"31\", \"32\", \"33\", \"34\", \"35\", \"36\", \"37\", \"38\", \"39\", \"41\", \"48\", \"49\"], \"mode\": \"markers\", \"name\": \"norm_macro_recall\", \"stepped\": false, \"type\": \"scatter\", \"data\": [0.8693553852222914, 0.8236435280190738, 0.38114398233008123, 0.262764488359058, 0.7985719809063507, 0.8505466351648575, 0.8555218559799039, 0.808495950207945, 0.6715968085699053, 0.4982442604545607, 0.8024077003264921, 0.7373769720669673, 0.7489248873093688, 0.5444129142866246, 0.5546617539780773, 0.4158230834885055, 0.6328076469205978, 0.03746807514337099, 0.47053229426402, 0.7458841177472614, 0.7826033797410918, 0.5325267932886244, 0.504653193214741, 0.21677310961230342, 0.4251367858077461, 0.0, 0.6756316155552224, 0.49158496488783854, 0.751652050959582, 0.6762631303720399, 0.8046128598400218, 0.7668513707828614, 0.0, 0.6565876719954744, 0.8283777368641485, 0.0, 0.7879786520369727, 0.7490288082032371, 0.7969661640291816, 0.8346896019365019, 0.7753942596653923, 0.8660260093730742, 0.8663918841731171]}, {\"categories\": [\"0\", \"1\", \"2\", \"3\", \"4\", \"5\", \"6\", \"7\", \"8\", \"9\", \"10\", \"11\", \"12\", \"13\", \"14\", \"15\", \"16\", \"17\", \"18\", \"19\", \"20\", \"21\", \"22\", \"23\", \"24\", \"25\", \"26\", \"27\", \"28\", \"29\", \"30\", \"31\", \"32\", \"33\", \"34\", \"35\", \"36\", \"37\", \"38\", \"39\", \"41\", \"48\", \"49\"], \"mode\": \"lines\", \"name\": \"norm_macro_recall_max\", \"stepped\": true, \"type\": \"scatter\", \"data\": [0.8693553852222914, 0.8693553852222914, 0.8693553852222914, 0.8693553852222914, 0.8693553852222914, 0.8693553852222914, 0.8693553852222914, 0.8693553852222914, 0.8693553852222914, 0.8693553852222914, 0.8693553852222914, 0.8693553852222914, 0.8693553852222914, 0.8693553852222914, 0.8693553852222914, 0.8693553852222914, 0.8693553852222914, 0.8693553852222914, 0.8693553852222914, 0.8693553852222914, 0.8693553852222914, 0.8693553852222914, 0.8693553852222914, 0.8693553852222914, 0.8693553852222914, 0.8693553852222914, 0.8693553852222914, 0.8693553852222914, 0.8693553852222914, 0.8693553852222914, 0.8693553852222914, 0.8693553852222914, 0.8693553852222914, 0.8693553852222914, 0.8693553852222914, 0.8693553852222914, 0.8693553852222914, 0.8693553852222914, 0.8693553852222914, 0.8693553852222914, 0.8693553852222914, 0.8693553852222914, 0.8693553852222914]}], \"AUC_macro\": [{\"categories\": [\"0\", \"1\", \"2\", \"3\", \"4\", \"5\", \"6\", \"7\", \"8\", \"9\", \"10\", \"11\", \"12\", \"13\", \"14\", \"15\", \"16\", \"17\", \"18\", \"19\", \"20\", \"21\", \"22\", \"23\", \"24\", \"25\", \"26\", \"27\", \"28\", \"29\", \"30\", \"31\", \"32\", \"33\", \"34\", \"35\", \"36\", \"37\", \"38\", \"39\", \"41\", \"48\", \"49\"], \"mode\": \"markers\", \"name\": \"AUC_macro\", \"stepped\": false, \"type\": \"scatter\", \"data\": [0.9928643754218142, 0.9894721612460692, 0.9398468613601142, 0.9227012126457071, 0.9626619218889613, 0.9892436210343715, 0.9919649534754592, 0.9842482711609826, 0.9770073009160823, 0.9129726045307484, 0.9862161456647683, 0.9773117566201437, 0.9797636117272573, 0.9374921013041632, 0.9215326765966688, 0.9038920222130541, 0.964491931046942, 0.9671106618973612, 0.9241313175501186, 0.9777338018485601, 0.9824057605381639, 0.9199674775244763, 0.9548179888540865, 0.9186974915674556, 0.9269107375538822, 0.9463131712009663, 0.9627131788904482, 0.9340200361067733, 0.9810192719452425, 0.9757994146090975, 0.987647147783162, 0.982628020490813, 0.9094369813359476, 0.97418648949753, 0.9876982291610261, 0.7965853903569412, 0.9844181602511272, 0.9793581392681437, 0.9853965124351219, 0.991719341655824, 0.9828299105105934, 0.9927944857570982, 0.9926743337216539]}, {\"categories\": [\"0\", \"1\", \"2\", \"3\", \"4\", \"5\", \"6\", \"7\", \"8\", \"9\", \"10\", \"11\", \"12\", \"13\", \"14\", \"15\", \"16\", \"17\", \"18\", \"19\", \"20\", \"21\", \"22\", \"23\", \"24\", \"25\", \"26\", \"27\", \"28\", \"29\", \"30\", \"31\", \"32\", \"33\", \"34\", \"35\", \"36\", \"37\", \"38\", \"39\", \"41\", \"48\", \"49\"], \"mode\": \"lines\", \"name\": \"AUC_macro_max\", \"stepped\": true, \"type\": \"scatter\", \"data\": [0.9928643754218142, 0.9928643754218142, 0.9928643754218142, 0.9928643754218142, 0.9928643754218142, 0.9928643754218142, 0.9928643754218142, 0.9928643754218142, 0.9928643754218142, 0.9928643754218142, 0.9928643754218142, 0.9928643754218142, 0.9928643754218142, 0.9928643754218142, 0.9928643754218142, 0.9928643754218142, 0.9928643754218142, 0.9928643754218142, 0.9928643754218142, 0.9928643754218142, 0.9928643754218142, 0.9928643754218142, 0.9928643754218142, 0.9928643754218142, 0.9928643754218142, 0.9928643754218142, 0.9928643754218142, 0.9928643754218142, 0.9928643754218142, 0.9928643754218142, 0.9928643754218142, 0.9928643754218142, 0.9928643754218142, 0.9928643754218142, 0.9928643754218142, 0.9928643754218142, 0.9928643754218142, 0.9928643754218142, 0.9928643754218142, 0.9928643754218142, 0.9928643754218142, 0.9928643754218142, 0.9928643754218142]}], \"balanced_accuracy\": [{\"categories\": [\"0\", \"1\", \"2\", \"3\", \"4\", \"5\", \"6\", \"7\", \"8\", \"9\", \"10\", \"11\", \"12\", \"13\", \"14\", \"15\", \"16\", \"17\", \"18\", \"19\", \"20\", \"21\", \"22\", \"23\", \"24\", \"25\", \"26\", \"27\", \"28\", \"29\", \"30\", \"31\", \"32\", \"33\", \"34\", \"35\", \"36\", \"37\", \"38\", \"39\", \"41\", \"48\", \"49\"], \"mode\": \"markers\", \"name\": \"balanced_accuracy\", \"stepped\": false, \"type\": \"scatter\", \"data\": [0.9346776926111456, 0.9118217640095369, 0.6905719911650406, 0.631382244179529, 0.8992859904531754, 0.9252733175824287, 0.927760927989952, 0.9042479751039725, 0.8357984042849527, 0.7491221302272804, 0.9012038501632461, 0.8686884860334837, 0.8744624436546844, 0.7722064571433123, 0.7773308769890387, 0.7079115417442527, 0.8164038234602989, 0.5187340375716856, 0.73526614713201, 0.8729420588736306, 0.8913016898705459, 0.7662633966443123, 0.7523265966073706, 0.6083865548061517, 0.7125683929038731, 0.5, 0.8378158077776113, 0.7457924824439193, 0.875826025479791, 0.83813156518602, 0.902306429920011, 0.8834256853914306, 0.5, 0.8282938359977372, 0.9141888684320744, 0.5, 0.8939893260184864, 0.8745144041016185, 0.8984830820145908, 0.9173448009682509, 0.8876971298326962, 0.9330130046865371, 0.9331959420865585]}, {\"categories\": [\"0\", \"1\", \"2\", \"3\", \"4\", \"5\", \"6\", \"7\", \"8\", \"9\", \"10\", \"11\", \"12\", \"13\", \"14\", \"15\", \"16\", \"17\", \"18\", \"19\", \"20\", \"21\", \"22\", \"23\", \"24\", \"25\", \"26\", \"27\", \"28\", \"29\", \"30\", \"31\", \"32\", \"33\", \"34\", \"35\", \"36\", \"37\", \"38\", \"39\", \"41\", \"48\", \"49\"], \"mode\": \"lines\", \"name\": \"balanced_accuracy_max\", \"stepped\": true, \"type\": \"scatter\", \"data\": [0.9346776926111456, 0.9346776926111456, 0.9346776926111456, 0.9346776926111456, 0.9346776926111456, 0.9346776926111456, 0.9346776926111456, 0.9346776926111456, 0.9346776926111456, 0.9346776926111456, 0.9346776926111456, 0.9346776926111456, 0.9346776926111456, 0.9346776926111456, 0.9346776926111456, 0.9346776926111456, 0.9346776926111456, 0.9346776926111456, 0.9346776926111456, 0.9346776926111456, 0.9346776926111456, 0.9346776926111456, 0.9346776926111456, 0.9346776926111456, 0.9346776926111456, 0.9346776926111456, 0.9346776926111456, 0.9346776926111456, 0.9346776926111456, 0.9346776926111456, 0.9346776926111456, 0.9346776926111456, 0.9346776926111456, 0.9346776926111456, 0.9346776926111456, 0.9346776926111456, 0.9346776926111456, 0.9346776926111456, 0.9346776926111456, 0.9346776926111456, 0.9346776926111456, 0.9346776926111456, 0.9346776926111456]}], \"recall_score_macro\": [{\"categories\": [\"0\", \"1\", \"2\", \"3\", \"4\", \"5\", \"6\", \"7\", \"8\", \"9\", \"10\", \"11\", \"12\", \"13\", \"14\", \"15\", \"16\", \"17\", \"18\", \"19\", \"20\", \"21\", \"22\", \"23\", \"24\", \"25\", \"26\", \"27\", \"28\", \"29\", \"30\", \"31\", \"32\", \"33\", \"34\", \"35\", \"36\", \"37\", \"38\", \"39\", \"41\", \"48\", \"49\"], \"mode\": \"markers\", \"name\": \"recall_score_macro\", \"stepped\": false, \"type\": \"scatter\", \"data\": [0.9346776926111456, 0.9118217640095369, 0.6905719911650406, 0.631382244179529, 0.8992859904531754, 0.9252733175824287, 0.927760927989952, 0.9042479751039725, 0.8357984042849527, 0.7491221302272804, 0.9012038501632461, 0.8686884860334837, 0.8744624436546844, 0.7722064571433123, 0.7773308769890387, 0.7079115417442527, 0.8164038234602989, 0.5187340375716856, 0.73526614713201, 0.8729420588736306, 0.8913016898705459, 0.7662633966443123, 0.7523265966073706, 0.6083865548061517, 0.7125683929038731, 0.5, 0.8378158077776113, 0.7457924824439193, 0.875826025479791, 0.83813156518602, 0.902306429920011, 0.8834256853914306, 0.5, 0.8282938359977372, 0.9141888684320744, 0.5, 0.8939893260184864, 0.8745144041016185, 0.8984830820145908, 0.9173448009682509, 0.8876971298326962, 0.9330130046865371, 0.9331959420865585]}, {\"categories\": [\"0\", \"1\", \"2\", \"3\", \"4\", \"5\", \"6\", \"7\", \"8\", \"9\", \"10\", \"11\", \"12\", \"13\", \"14\", \"15\", \"16\", \"17\", \"18\", \"19\", \"20\", \"21\", \"22\", \"23\", \"24\", \"25\", \"26\", \"27\", \"28\", \"29\", \"30\", \"31\", \"32\", \"33\", \"34\", \"35\", \"36\", \"37\", \"38\", \"39\", \"41\", \"48\", \"49\"], \"mode\": \"lines\", \"name\": \"recall_score_macro_max\", \"stepped\": true, \"type\": \"scatter\", \"data\": [0.9346776926111456, 0.9346776926111456, 0.9346776926111456, 0.9346776926111456, 0.9346776926111456, 0.9346776926111456, 0.9346776926111456, 0.9346776926111456, 0.9346776926111456, 0.9346776926111456, 0.9346776926111456, 0.9346776926111456, 0.9346776926111456, 0.9346776926111456, 0.9346776926111456, 0.9346776926111456, 0.9346776926111456, 0.9346776926111456, 0.9346776926111456, 0.9346776926111456, 0.9346776926111456, 0.9346776926111456, 0.9346776926111456, 0.9346776926111456, 0.9346776926111456, 0.9346776926111456, 0.9346776926111456, 0.9346776926111456, 0.9346776926111456, 0.9346776926111456, 0.9346776926111456, 0.9346776926111456, 0.9346776926111456, 0.9346776926111456, 0.9346776926111456, 0.9346776926111456, 0.9346776926111456, 0.9346776926111456, 0.9346776926111456, 0.9346776926111456, 0.9346776926111456, 0.9346776926111456, 0.9346776926111456]}], \"precision_score_weighted\": [{\"categories\": [\"0\", \"1\", \"2\", \"3\", \"4\", \"5\", \"6\", \"7\", \"8\", \"9\", \"10\", \"11\", \"12\", \"13\", \"14\", \"15\", \"16\", \"17\", \"18\", \"19\", \"20\", \"21\", \"22\", \"23\", \"24\", \"25\", \"26\", \"27\", \"28\", \"29\", \"30\", \"31\", \"32\", \"33\", \"34\", \"35\", \"36\", \"37\", \"38\", \"39\", \"41\", \"48\", \"49\"], \"mode\": \"markers\", \"name\": \"precision_score_weighted\", \"stepped\": false, \"type\": \"scatter\", \"data\": [0.9693797010512032, 0.9620284310258826, 0.8881745684183834, 0.8800674744468657, 0.92358594390295, 0.9643703144293876, 0.9668982131966434, 0.955121400077585, 0.9342782515747082, 0.8953475633828464, 0.9568286979602973, 0.9408441249983346, 0.9449051252527753, 0.9072615321449033, 0.898771586096773, 0.8918260067193068, 0.9253430678718358, 0.8680937347036934, 0.902164024061371, 0.9413302129707871, 0.9510639356162617, 0.8981672242651744, 0.9020751451072545, 0.877819106414902, 0.8939516399478622, 0.7011160233823897, 0.9182742201140691, 0.9078946875529285, 0.9465360280107245, 0.9355925527786404, 0.9582410213302494, 0.9479312412487803, 0.7011160233823897, 0.9334180459329519, 0.9599339288250883, 0.7011160233823897, 0.9528755840802092, 0.944364154090632, 0.955116830989049, 0.9650831133041832, 0.9503503554848942, 0.9701690550316985, 0.969593957977087]}, {\"categories\": [\"0\", \"1\", \"2\", \"3\", \"4\", \"5\", \"6\", \"7\", \"8\", \"9\", \"10\", \"11\", \"12\", \"13\", \"14\", \"15\", \"16\", \"17\", \"18\", \"19\", \"20\", \"21\", \"22\", \"23\", \"24\", \"25\", \"26\", \"27\", \"28\", \"29\", \"30\", \"31\", \"32\", \"33\", \"34\", \"35\", \"36\", \"37\", \"38\", \"39\", \"41\", \"48\", \"49\"], \"mode\": \"lines\", \"name\": \"precision_score_weighted_max\", \"stepped\": true, \"type\": \"scatter\", \"data\": [0.9693797010512032, 0.9693797010512032, 0.9693797010512032, 0.9693797010512032, 0.9693797010512032, 0.9693797010512032, 0.9693797010512032, 0.9693797010512032, 0.9693797010512032, 0.9693797010512032, 0.9693797010512032, 0.9693797010512032, 0.9693797010512032, 0.9693797010512032, 0.9693797010512032, 0.9693797010512032, 0.9693797010512032, 0.9693797010512032, 0.9693797010512032, 0.9693797010512032, 0.9693797010512032, 0.9693797010512032, 0.9693797010512032, 0.9693797010512032, 0.9693797010512032, 0.9693797010512032, 0.9693797010512032, 0.9693797010512032, 0.9693797010512032, 0.9693797010512032, 0.9693797010512032, 0.9693797010512032, 0.9693797010512032, 0.9693797010512032, 0.9693797010512032, 0.9693797010512032, 0.9693797010512032, 0.9693797010512032, 0.9693797010512032, 0.9693797010512032, 0.9693797010512032, 0.9701690550316985, 0.9701690550316985]}], \"accuracy\": [{\"categories\": [\"0\", \"1\", \"2\", \"3\", \"4\", \"5\", \"6\", \"7\", \"8\", \"9\", \"10\", \"11\", \"12\", \"13\", \"14\", \"15\", \"16\", \"17\", \"18\", \"19\", \"20\", \"21\", \"22\", \"23\", \"24\", \"25\", \"26\", \"27\", \"28\", \"29\", \"30\", \"31\", \"32\", \"33\", \"34\", \"35\", \"36\", \"37\", \"38\", \"39\", \"41\", \"48\", \"49\"], \"mode\": \"markers\", \"name\": \"accuracy\", \"stepped\": false, \"type\": \"scatter\", \"data\": [0.9696335605011405, 0.9625975747436936, 0.889147732207093, 0.8755693136058432, 0.9023576544581111, 0.9646959288055178, 0.9672881557356443, 0.9559313194473011, 0.9360571987512626, 0.9016169137173703, 0.9576596688012212, 0.9425999515497233, 0.9464257408093024, 0.9116157253143555, 0.9047032877626484, 0.8954447141205132, 0.9279096905124303, 0.8433524391971882, 0.9047030592236073, 0.9429695905951614, 0.9522277985748305, 0.9043330088078946, 0.9065543168739515, 0.8702625913584817, 0.8971726978119672, 0.8373035592670296, 0.9200105127959008, 0.9092696806395436, 0.9479076793688667, 0.9372917666524972, 0.9590173278301132, 0.949265246982142, 0.8373035592670296, 0.9348224023109868, 0.9606220375626768, 0.8373035592670296, 0.9538330568010934, 0.9459325535581243, 0.9559311366160682, 0.9655599892129573, 0.9514874692043641, 0.9704978951554294, 0.9697573829537299]}, {\"categories\": [\"0\", \"1\", \"2\", \"3\", \"4\", \"5\", \"6\", \"7\", \"8\", \"9\", \"10\", \"11\", \"12\", \"13\", \"14\", \"15\", \"16\", \"17\", \"18\", \"19\", \"20\", \"21\", \"22\", \"23\", \"24\", \"25\", \"26\", \"27\", \"28\", \"29\", \"30\", \"31\", \"32\", \"33\", \"34\", \"35\", \"36\", \"37\", \"38\", \"39\", \"41\", \"48\", \"49\"], \"mode\": \"lines\", \"name\": \"accuracy_max\", \"stepped\": true, \"type\": \"scatter\", \"data\": [0.9696335605011405, 0.9696335605011405, 0.9696335605011405, 0.9696335605011405, 0.9696335605011405, 0.9696335605011405, 0.9696335605011405, 0.9696335605011405, 0.9696335605011405, 0.9696335605011405, 0.9696335605011405, 0.9696335605011405, 0.9696335605011405, 0.9696335605011405, 0.9696335605011405, 0.9696335605011405, 0.9696335605011405, 0.9696335605011405, 0.9696335605011405, 0.9696335605011405, 0.9696335605011405, 0.9696335605011405, 0.9696335605011405, 0.9696335605011405, 0.9696335605011405, 0.9696335605011405, 0.9696335605011405, 0.9696335605011405, 0.9696335605011405, 0.9696335605011405, 0.9696335605011405, 0.9696335605011405, 0.9696335605011405, 0.9696335605011405, 0.9696335605011405, 0.9696335605011405, 0.9696335605011405, 0.9696335605011405, 0.9696335605011405, 0.9696335605011405, 0.9696335605011405, 0.9704978951554294, 0.9704978951554294]}], \"average_precision_score_weighted\": [{\"categories\": [\"0\", \"1\", \"2\", \"3\", \"4\", \"5\", \"6\", \"7\", \"8\", \"9\", \"10\", \"11\", \"12\", \"13\", \"14\", \"15\", \"16\", \"17\", \"18\", \"19\", \"20\", \"21\", \"22\", \"23\", \"24\", \"25\", \"26\", \"27\", \"28\", \"29\", \"30\", \"31\", \"32\", \"33\", \"34\", \"35\", \"36\", \"37\", \"38\", \"39\", \"41\", \"48\", \"49\"], \"mode\": \"markers\", \"name\": \"average_precision_score_weighted\", \"stepped\": false, \"type\": \"scatter\", \"data\": [0.9938390287479599, 0.9907219259124993, 0.9543536782354268, 0.9453152130786852, 0.9684776201450465, 0.9906615704266942, 0.9928355208795198, 0.9865400225214046, 0.9800475779017402, 0.9414978191538709, 0.9879089961031936, 0.9811968766786497, 0.9830335822163683, 0.955503493181333, 0.9453051736254809, 0.9337500692318702, 0.9723602545798983, 0.9715210870787702, 0.948669239538703, 0.9808646270949445, 0.9851043121720374, 0.9449168957347203, 0.9630662339424602, 0.9419259246212804, 0.946980664484518, 0.9543852834358045, 0.9672380825087891, 0.9539518840445145, 0.9838786582686385, 0.9798458985266354, 0.9891011408697813, 0.9850762987505323, 0.9380091449877869, 0.9789810051364487, 0.9891587098320923, 0.8696209409098087, 0.986717121113954, 0.9827877910388295, 0.987452986062822, 0.9926864616142055, 0.985332229012086, 0.9936296828929193, 0.9935440735154187]}, {\"categories\": [\"0\", \"1\", \"2\", \"3\", \"4\", \"5\", \"6\", \"7\", \"8\", \"9\", \"10\", \"11\", \"12\", \"13\", \"14\", \"15\", \"16\", \"17\", \"18\", \"19\", \"20\", \"21\", \"22\", \"23\", \"24\", \"25\", \"26\", \"27\", \"28\", \"29\", \"30\", \"31\", \"32\", \"33\", \"34\", \"35\", \"36\", \"37\", \"38\", \"39\", \"41\", \"48\", \"49\"], \"mode\": \"lines\", \"name\": \"average_precision_score_weighted_max\", \"stepped\": true, \"type\": \"scatter\", \"data\": [0.9938390287479599, 0.9938390287479599, 0.9938390287479599, 0.9938390287479599, 0.9938390287479599, 0.9938390287479599, 0.9938390287479599, 0.9938390287479599, 0.9938390287479599, 0.9938390287479599, 0.9938390287479599, 0.9938390287479599, 0.9938390287479599, 0.9938390287479599, 0.9938390287479599, 0.9938390287479599, 0.9938390287479599, 0.9938390287479599, 0.9938390287479599, 0.9938390287479599, 0.9938390287479599, 0.9938390287479599, 0.9938390287479599, 0.9938390287479599, 0.9938390287479599, 0.9938390287479599, 0.9938390287479599, 0.9938390287479599, 0.9938390287479599, 0.9938390287479599, 0.9938390287479599, 0.9938390287479599, 0.9938390287479599, 0.9938390287479599, 0.9938390287479599, 0.9938390287479599, 0.9938390287479599, 0.9938390287479599, 0.9938390287479599, 0.9938390287479599, 0.9938390287479599, 0.9938390287479599, 0.9938390287479599]}], \"average_precision_score_macro\": [{\"categories\": [\"0\", \"1\", \"2\", \"3\", \"4\", \"5\", \"6\", \"7\", \"8\", \"9\", \"10\", \"11\", \"12\", \"13\", \"14\", \"15\", \"16\", \"17\", \"18\", \"19\", \"20\", \"21\", \"22\", \"23\", \"24\", \"25\", \"26\", \"27\", \"28\", \"29\", \"30\", \"31\", \"32\", \"33\", \"34\", \"35\", \"36\", \"37\", \"38\", \"39\", \"41\", \"48\", \"49\"], \"mode\": \"markers\", \"name\": \"average_precision_score_macro\", \"stepped\": false, \"type\": \"scatter\", \"data\": [0.9839374947142434, 0.9757242749292713, 0.8860740438893275, 0.8675463170208401, 0.9186717485349742, 0.9756960876205714, 0.9811379083369594, 0.9650499196251041, 0.9480099907709332, 0.8641344271513266, 0.9684354026668435, 0.9515539351241262, 0.9560387259003006, 0.8915848756100934, 0.8694669340534961, 0.8446131845321004, 0.9305936986868725, 0.9261576688385315, 0.8802209009263273, 0.9502184375451579, 0.9613961691029468, 0.8696749082710696, 0.9055506678128452, 0.8589538812987053, 0.8706609196943327, 0.8819454401997607, 0.9146042174631487, 0.8909239278407975, 0.9581467679838364, 0.9479793257498225, 0.971437690229941, 0.9610669096097046, 0.8511303861108196, 0.9464170663643241, 0.9716738692213088, 0.7120458892532949, 0.9655390079058411, 0.9554899237514226, 0.9673725440143611, 0.9808307758715286, 0.9618279006957596, 0.9832869304305846, 0.9830709624929922]}, {\"categories\": [\"0\", \"1\", \"2\", \"3\", \"4\", \"5\", \"6\", \"7\", \"8\", \"9\", \"10\", \"11\", \"12\", \"13\", \"14\", \"15\", \"16\", \"17\", \"18\", \"19\", \"20\", \"21\", \"22\", \"23\", \"24\", \"25\", \"26\", \"27\", \"28\", \"29\", \"30\", \"31\", \"32\", \"33\", \"34\", \"35\", \"36\", \"37\", \"38\", \"39\", \"41\", \"48\", \"49\"], \"mode\": \"lines\", \"name\": \"average_precision_score_macro_max\", \"stepped\": true, \"type\": \"scatter\", \"data\": [0.9839374947142434, 0.9839374947142434, 0.9839374947142434, 0.9839374947142434, 0.9839374947142434, 0.9839374947142434, 0.9839374947142434, 0.9839374947142434, 0.9839374947142434, 0.9839374947142434, 0.9839374947142434, 0.9839374947142434, 0.9839374947142434, 0.9839374947142434, 0.9839374947142434, 0.9839374947142434, 0.9839374947142434, 0.9839374947142434, 0.9839374947142434, 0.9839374947142434, 0.9839374947142434, 0.9839374947142434, 0.9839374947142434, 0.9839374947142434, 0.9839374947142434, 0.9839374947142434, 0.9839374947142434, 0.9839374947142434, 0.9839374947142434, 0.9839374947142434, 0.9839374947142434, 0.9839374947142434, 0.9839374947142434, 0.9839374947142434, 0.9839374947142434, 0.9839374947142434, 0.9839374947142434, 0.9839374947142434, 0.9839374947142434, 0.9839374947142434, 0.9839374947142434, 0.9839374947142434, 0.9839374947142434]}], \"precision_score_micro\": [{\"categories\": [\"0\", \"1\", \"2\", \"3\", \"4\", \"5\", \"6\", \"7\", \"8\", \"9\", \"10\", \"11\", \"12\", \"13\", \"14\", \"15\", \"16\", \"17\", \"18\", \"19\", \"20\", \"21\", \"22\", \"23\", \"24\", \"25\", \"26\", \"27\", \"28\", \"29\", \"30\", \"31\", \"32\", \"33\", \"34\", \"35\", \"36\", \"37\", \"38\", \"39\", \"41\", \"48\", \"49\"], \"mode\": \"markers\", \"name\": \"precision_score_micro\", \"stepped\": false, \"type\": \"scatter\", \"data\": [0.9696335605011405, 0.9625975747436936, 0.889147732207093, 0.8755693136058432, 0.9023576544581111, 0.9646959288055178, 0.9672881557356443, 0.9559313194473011, 0.9360571987512626, 0.9016169137173703, 0.9576596688012212, 0.9425999515497233, 0.9464257408093024, 0.9116157253143555, 0.9047032877626484, 0.8954447141205132, 0.9279096905124303, 0.8433524391971882, 0.9047030592236073, 0.9429695905951614, 0.9522277985748305, 0.9043330088078946, 0.9065543168739515, 0.8702625913584817, 0.8971726978119672, 0.8373035592670296, 0.9200105127959008, 0.9092696806395436, 0.9479076793688667, 0.9372917666524972, 0.9590173278301132, 0.949265246982142, 0.8373035592670296, 0.9348224023109868, 0.9606220375626768, 0.8373035592670296, 0.9538330568010934, 0.9459325535581243, 0.9559311366160682, 0.9655599892129573, 0.9514874692043641, 0.9704978951554294, 0.9697573829537299]}, {\"categories\": [\"0\", \"1\", \"2\", \"3\", \"4\", \"5\", \"6\", \"7\", \"8\", \"9\", \"10\", \"11\", \"12\", \"13\", \"14\", \"15\", \"16\", \"17\", \"18\", \"19\", \"20\", \"21\", \"22\", \"23\", \"24\", \"25\", \"26\", \"27\", \"28\", \"29\", \"30\", \"31\", \"32\", \"33\", \"34\", \"35\", \"36\", \"37\", \"38\", \"39\", \"41\", \"48\", \"49\"], \"mode\": \"lines\", \"name\": \"precision_score_micro_max\", \"stepped\": true, \"type\": \"scatter\", \"data\": [0.9696335605011405, 0.9696335605011405, 0.9696335605011405, 0.9696335605011405, 0.9696335605011405, 0.9696335605011405, 0.9696335605011405, 0.9696335605011405, 0.9696335605011405, 0.9696335605011405, 0.9696335605011405, 0.9696335605011405, 0.9696335605011405, 0.9696335605011405, 0.9696335605011405, 0.9696335605011405, 0.9696335605011405, 0.9696335605011405, 0.9696335605011405, 0.9696335605011405, 0.9696335605011405, 0.9696335605011405, 0.9696335605011405, 0.9696335605011405, 0.9696335605011405, 0.9696335605011405, 0.9696335605011405, 0.9696335605011405, 0.9696335605011405, 0.9696335605011405, 0.9696335605011405, 0.9696335605011405, 0.9696335605011405, 0.9696335605011405, 0.9696335605011405, 0.9696335605011405, 0.9696335605011405, 0.9696335605011405, 0.9696335605011405, 0.9696335605011405, 0.9696335605011405, 0.9704978951554294, 0.9704978951554294]}], \"AUC_micro\": [{\"categories\": [\"0\", \"1\", \"2\", \"3\", \"4\", \"5\", \"6\", \"7\", \"8\", \"9\", \"10\", \"11\", \"12\", \"13\", \"14\", \"15\", \"16\", \"17\", \"18\", \"19\", \"20\", \"21\", \"22\", \"23\", \"24\", \"25\", \"26\", \"27\", \"28\", \"29\", \"30\", \"31\", \"32\", \"33\", \"34\", \"35\", \"36\", \"37\", \"38\", \"39\", \"41\", \"48\", \"49\"], \"mode\": \"markers\", \"name\": \"AUC_micro\", \"stepped\": false, \"type\": \"scatter\", \"data\": [0.9961908104703002, 0.9941827829988776, 0.9648538828575696, 0.9564091873035823, 0.9634975853984443, 0.9943467684847653, 0.9956484667064198, 0.9917956777132297, 0.9864444308530106, 0.9619776514356658, 0.9925782668157543, 0.9882170976579706, 0.9892906124312727, 0.9699379156575327, 0.9649850424167298, 0.9556593184480161, 0.9813412297574858, 0.9646536739269003, 0.9642007401937337, 0.9881905476143514, 0.9907868939768463, 0.96453166536604, 0.9744420540636399, 0.9537116000853053, 0.9607727451367127, 0.9588426715040269, 0.9800552027310312, 0.966093559895218, 0.9899030712246347, 0.9864792410454157, 0.9929942888000186, 0.9905901737683093, 0.9488204322291076, 0.9835857188518848, 0.9934311695029763, 0.9181127441850899, 0.9918032998779536, 0.9891925649867047, 0.992137106406889, 0.9952536978431458, 0.9909169683034443, 0.9960408500806284, 0.994731242918145]}, {\"categories\": [\"0\", \"1\", \"2\", \"3\", \"4\", \"5\", \"6\", \"7\", \"8\", \"9\", \"10\", \"11\", \"12\", \"13\", \"14\", \"15\", \"16\", \"17\", \"18\", \"19\", \"20\", \"21\", \"22\", \"23\", \"24\", \"25\", \"26\", \"27\", \"28\", \"29\", \"30\", \"31\", \"32\", \"33\", \"34\", \"35\", \"36\", \"37\", \"38\", \"39\", \"41\", \"48\", \"49\"], \"mode\": \"lines\", \"name\": \"AUC_micro_max\", \"stepped\": true, \"type\": \"scatter\", \"data\": [0.9961908104703002, 0.9961908104703002, 0.9961908104703002, 0.9961908104703002, 0.9961908104703002, 0.9961908104703002, 0.9961908104703002, 0.9961908104703002, 0.9961908104703002, 0.9961908104703002, 0.9961908104703002, 0.9961908104703002, 0.9961908104703002, 0.9961908104703002, 0.9961908104703002, 0.9961908104703002, 0.9961908104703002, 0.9961908104703002, 0.9961908104703002, 0.9961908104703002, 0.9961908104703002, 0.9961908104703002, 0.9961908104703002, 0.9961908104703002, 0.9961908104703002, 0.9961908104703002, 0.9961908104703002, 0.9961908104703002, 0.9961908104703002, 0.9961908104703002, 0.9961908104703002, 0.9961908104703002, 0.9961908104703002, 0.9961908104703002, 0.9961908104703002, 0.9961908104703002, 0.9961908104703002, 0.9961908104703002, 0.9961908104703002, 0.9961908104703002, 0.9961908104703002, 0.9961908104703002, 0.9961908104703002]}], \"f1_score_macro\": [{\"categories\": [\"0\", \"1\", \"2\", \"3\", \"4\", \"5\", \"6\", \"7\", \"8\", \"9\", \"10\", \"11\", \"12\", \"13\", \"14\", \"15\", \"16\", \"17\", \"18\", \"19\", \"20\", \"21\", \"22\", \"23\", \"24\", \"25\", \"26\", \"27\", \"28\", \"29\", \"30\", \"31\", \"32\", \"33\", \"34\", \"35\", \"36\", \"37\", \"38\", \"39\", \"41\", \"48\", \"49\"], \"mode\": \"markers\", \"name\": \"f1_score_macro\", \"stepped\": false, \"type\": \"scatter\", \"data\": [0.9429965797497974, 0.9283149962538836, 0.7329852825392749, 0.6691783417130149, 0.844329882977009, 0.9336250230843599, 0.9382844906685937, 0.9163911548872491, 0.8698490152052379, 0.7881338004131715, 0.9185004795167133, 0.8884965169444262, 0.8954801544694954, 0.8121292493268685, 0.8055363432319037, 0.7561291701536579, 0.851884435409505, 0.4931384639166972, 0.7840349725971164, 0.8901356721779002, 0.9081690629997574, 0.8000367941273723, 0.7956445447588202, 0.6417567822443467, 0.7612847304053988, 0.4557178599772091, 0.8483240702890918, 0.7957768232372674, 0.8981942874298793, 0.8721656298112035, 0.9211007876870586, 0.9019733407901919, 0.4557178599772091, 0.8658807188965602, 0.9255573265834985, 0.4557178599772091, 0.9110755809749032, 0.8947424606944959, 0.9154313020515055, 0.934096123421135, 0.9062082666952085, 0.9442118759500877, 0.942878472411314]}, {\"categories\": [\"0\", \"1\", \"2\", \"3\", \"4\", \"5\", \"6\", \"7\", \"8\", \"9\", \"10\", \"11\", \"12\", \"13\", \"14\", \"15\", \"16\", \"17\", \"18\", \"19\", \"20\", \"21\", \"22\", \"23\", \"24\", \"25\", \"26\", \"27\", \"28\", \"29\", \"30\", \"31\", \"32\", \"33\", \"34\", \"35\", \"36\", \"37\", \"38\", \"39\", \"41\", \"48\", \"49\"], \"mode\": \"lines\", \"name\": \"f1_score_macro_max\", \"stepped\": true, \"type\": \"scatter\", \"data\": [0.9429965797497974, 0.9429965797497974, 0.9429965797497974, 0.9429965797497974, 0.9429965797497974, 0.9429965797497974, 0.9429965797497974, 0.9429965797497974, 0.9429965797497974, 0.9429965797497974, 0.9429965797497974, 0.9429965797497974, 0.9429965797497974, 0.9429965797497974, 0.9429965797497974, 0.9429965797497974, 0.9429965797497974, 0.9429965797497974, 0.9429965797497974, 0.9429965797497974, 0.9429965797497974, 0.9429965797497974, 0.9429965797497974, 0.9429965797497974, 0.9429965797497974, 0.9429965797497974, 0.9429965797497974, 0.9429965797497974, 0.9429965797497974, 0.9429965797497974, 0.9429965797497974, 0.9429965797497974, 0.9429965797497974, 0.9429965797497974, 0.9429965797497974, 0.9429965797497974, 0.9429965797497974, 0.9429965797497974, 0.9429965797497974, 0.9429965797497974, 0.9429965797497974, 0.9442118759500877, 0.9442118759500877]}], \"average_precision_score_micro\": [{\"categories\": [\"0\", \"1\", \"2\", \"3\", \"4\", \"5\", \"6\", \"7\", \"8\", \"9\", \"10\", \"11\", \"12\", \"13\", \"14\", \"15\", \"16\", \"17\", \"18\", \"19\", \"20\", \"21\", \"22\", \"23\", \"24\", \"25\", \"26\", \"27\", \"28\", \"29\", \"30\", \"31\", \"32\", \"33\", \"34\", \"35\", \"36\", \"37\", \"38\", \"39\", \"41\", \"48\", \"49\"], \"mode\": \"markers\", \"name\": \"average_precision_score_micro\", \"stepped\": false, \"type\": \"scatter\", \"data\": [0.9962706485169024, 0.9943127607666028, 0.9661773018565575, 0.9577211039121137, 0.96402761533774, 0.9944950194141086, 0.995757472046999, 0.9920123066242382, 0.9868994545593344, 0.961231774200399, 0.9927358451966662, 0.9885472879751674, 0.9896315086011137, 0.9704757096470132, 0.964907560713776, 0.9546938642828234, 0.9817745519398632, 0.9669157466305899, 0.9637087564821938, 0.9885566469419946, 0.9909739601378846, 0.9642396422603859, 0.9754449489690611, 0.95520822683921, 0.9618644624470661, 0.9614511665474862, 0.9807892840372529, 0.9660787250367754, 0.9901886434750491, 0.9869118147060888, 0.9931919476181873, 0.9908666471020687, 0.9507764076853101, 0.9840156865604294, 0.9936130852536643, 0.9136382255205776, 0.9919843342743059, 0.9895094977710173, 0.9923430944209789, 0.9953600235808077, 0.9911731981896107, 0.9961257572641081, 0.9939667637987225]}, {\"categories\": [\"0\", \"1\", \"2\", \"3\", \"4\", \"5\", \"6\", \"7\", \"8\", \"9\", \"10\", \"11\", \"12\", \"13\", \"14\", \"15\", \"16\", \"17\", \"18\", \"19\", \"20\", \"21\", \"22\", \"23\", \"24\", \"25\", \"26\", \"27\", \"28\", \"29\", \"30\", \"31\", \"32\", \"33\", \"34\", \"35\", \"36\", \"37\", \"38\", \"39\", \"41\", \"48\", \"49\"], \"mode\": \"lines\", \"name\": \"average_precision_score_micro_max\", \"stepped\": true, \"type\": \"scatter\", \"data\": [0.9962706485169024, 0.9962706485169024, 0.9962706485169024, 0.9962706485169024, 0.9962706485169024, 0.9962706485169024, 0.9962706485169024, 0.9962706485169024, 0.9962706485169024, 0.9962706485169024, 0.9962706485169024, 0.9962706485169024, 0.9962706485169024, 0.9962706485169024, 0.9962706485169024, 0.9962706485169024, 0.9962706485169024, 0.9962706485169024, 0.9962706485169024, 0.9962706485169024, 0.9962706485169024, 0.9962706485169024, 0.9962706485169024, 0.9962706485169024, 0.9962706485169024, 0.9962706485169024, 0.9962706485169024, 0.9962706485169024, 0.9962706485169024, 0.9962706485169024, 0.9962706485169024, 0.9962706485169024, 0.9962706485169024, 0.9962706485169024, 0.9962706485169024, 0.9962706485169024, 0.9962706485169024, 0.9962706485169024, 0.9962706485169024, 0.9962706485169024, 0.9962706485169024, 0.9962706485169024, 0.9962706485169024]}], \"f1_score_weighted\": [{\"categories\": [\"0\", \"1\", \"2\", \"3\", \"4\", \"5\", \"6\", \"7\", \"8\", \"9\", \"10\", \"11\", \"12\", \"13\", \"14\", \"15\", \"16\", \"17\", \"18\", \"19\", \"20\", \"21\", \"22\", \"23\", \"24\", \"25\", \"26\", \"27\", \"28\", \"29\", \"30\", \"31\", \"32\", \"33\", \"34\", \"35\", \"36\", \"37\", \"38\", \"39\", \"41\", \"48\", \"49\"], \"mode\": \"markers\", \"name\": \"f1_score_weighted\", \"stepped\": false, \"type\": \"scatter\", \"data\": [0.9693367734175294, 0.9618155090877781, 0.8704844602911604, 0.8450091892261758, 0.908391952578715, 0.9643126653688031, 0.9668746459740282, 0.9552525724958619, 0.9325817175135787, 0.8928632500565318, 0.9567038099381732, 0.9409811632278252, 0.944807550692282, 0.9043941506356389, 0.8993718591364924, 0.8805775478215209, 0.9235468716705267, 0.7772968656081858, 0.8930416715407116, 0.9416019067438298, 0.9511532705300402, 0.8975864178850242, 0.8973137233374536, 0.8347667898866721, 0.882839566484681, 0.7631713985796408, 0.9187646913890335, 0.8985054417797232, 0.9462794002616186, 0.933873902215682, 0.9580307315811044, 0.9479892962378553, 0.7631713985796408, 0.9308076164738309, 0.9600703760035899, 0.7631713985796408, 0.952777484003512, 0.9443887134664504, 0.9549743136208869, 0.9648392533602393, 0.9502809529715507, 0.9700848567388606, 0.9693572240001913]}, {\"categories\": [\"0\", \"1\", \"2\", \"3\", \"4\", \"5\", \"6\", \"7\", \"8\", \"9\", \"10\", \"11\", \"12\", \"13\", \"14\", \"15\", \"16\", \"17\", \"18\", \"19\", \"20\", \"21\", \"22\", \"23\", \"24\", \"25\", \"26\", \"27\", \"28\", \"29\", \"30\", \"31\", \"32\", \"33\", \"34\", \"35\", \"36\", \"37\", \"38\", \"39\", \"41\", \"48\", \"49\"], \"mode\": \"lines\", \"name\": \"f1_score_weighted_max\", \"stepped\": true, \"type\": \"scatter\", \"data\": [0.9693367734175294, 0.9693367734175294, 0.9693367734175294, 0.9693367734175294, 0.9693367734175294, 0.9693367734175294, 0.9693367734175294, 0.9693367734175294, 0.9693367734175294, 0.9693367734175294, 0.9693367734175294, 0.9693367734175294, 0.9693367734175294, 0.9693367734175294, 0.9693367734175294, 0.9693367734175294, 0.9693367734175294, 0.9693367734175294, 0.9693367734175294, 0.9693367734175294, 0.9693367734175294, 0.9693367734175294, 0.9693367734175294, 0.9693367734175294, 0.9693367734175294, 0.9693367734175294, 0.9693367734175294, 0.9693367734175294, 0.9693367734175294, 0.9693367734175294, 0.9693367734175294, 0.9693367734175294, 0.9693367734175294, 0.9693367734175294, 0.9693367734175294, 0.9693367734175294, 0.9693367734175294, 0.9693367734175294, 0.9693367734175294, 0.9693367734175294, 0.9693367734175294, 0.9700848567388606, 0.9700848567388606]}], \"recall_score_weighted\": [{\"categories\": [\"0\", \"1\", \"2\", \"3\", \"4\", \"5\", \"6\", \"7\", \"8\", \"9\", \"10\", \"11\", \"12\", \"13\", \"14\", \"15\", \"16\", \"17\", \"18\", \"19\", \"20\", \"21\", \"22\", \"23\", \"24\", \"25\", \"26\", \"27\", \"28\", \"29\", \"30\", \"31\", \"32\", \"33\", \"34\", \"35\", \"36\", \"37\", \"38\", \"39\", \"41\", \"48\", \"49\"], \"mode\": \"markers\", \"name\": \"recall_score_weighted\", \"stepped\": false, \"type\": \"scatter\", \"data\": [0.9696335605011405, 0.9625975747436936, 0.889147732207093, 0.8755693136058432, 0.9023576544581111, 0.9646959288055178, 0.9672881557356443, 0.9559313194473011, 0.9360571987512626, 0.9016169137173703, 0.9576596688012212, 0.9425999515497233, 0.9464257408093024, 0.9116157253143555, 0.9047032877626484, 0.8954447141205132, 0.9279096905124303, 0.8433524391971882, 0.9047030592236073, 0.9429695905951614, 0.9522277985748305, 0.9043330088078946, 0.9065543168739515, 0.8702625913584817, 0.8971726978119672, 0.8373035592670296, 0.9200105127959008, 0.9092696806395436, 0.9479076793688667, 0.9372917666524972, 0.9590173278301132, 0.949265246982142, 0.8373035592670296, 0.9348224023109868, 0.9606220375626768, 0.8373035592670296, 0.9538330568010934, 0.9459325535581243, 0.9559311366160682, 0.9655599892129573, 0.9514874692043641, 0.9704978951554294, 0.9697573829537299]}, {\"categories\": [\"0\", \"1\", \"2\", \"3\", \"4\", \"5\", \"6\", \"7\", \"8\", \"9\", \"10\", \"11\", \"12\", \"13\", \"14\", \"15\", \"16\", \"17\", \"18\", \"19\", \"20\", \"21\", \"22\", \"23\", \"24\", \"25\", \"26\", \"27\", \"28\", \"29\", \"30\", \"31\", \"32\", \"33\", \"34\", \"35\", \"36\", \"37\", \"38\", \"39\", \"41\", \"48\", \"49\"], \"mode\": \"lines\", \"name\": \"recall_score_weighted_max\", \"stepped\": true, \"type\": \"scatter\", \"data\": [0.9696335605011405, 0.9696335605011405, 0.9696335605011405, 0.9696335605011405, 0.9696335605011405, 0.9696335605011405, 0.9696335605011405, 0.9696335605011405, 0.9696335605011405, 0.9696335605011405, 0.9696335605011405, 0.9696335605011405, 0.9696335605011405, 0.9696335605011405, 0.9696335605011405, 0.9696335605011405, 0.9696335605011405, 0.9696335605011405, 0.9696335605011405, 0.9696335605011405, 0.9696335605011405, 0.9696335605011405, 0.9696335605011405, 0.9696335605011405, 0.9696335605011405, 0.9696335605011405, 0.9696335605011405, 0.9696335605011405, 0.9696335605011405, 0.9696335605011405, 0.9696335605011405, 0.9696335605011405, 0.9696335605011405, 0.9696335605011405, 0.9696335605011405, 0.9696335605011405, 0.9696335605011405, 0.9696335605011405, 0.9696335605011405, 0.9696335605011405, 0.9696335605011405, 0.9704978951554294, 0.9704978951554294]}], \"log_loss\": [{\"categories\": [\"0\", \"1\", \"2\", \"3\", \"4\", \"5\", \"6\", \"7\", \"8\", \"9\", \"10\", \"11\", \"12\", \"13\", \"14\", \"15\", \"16\", \"17\", \"18\", \"19\", \"20\", \"21\", \"22\", \"23\", \"24\", \"25\", \"26\", \"27\", \"28\", \"29\", \"30\", \"31\", \"32\", \"33\", \"34\", \"35\", \"36\", \"37\", \"38\", \"39\", \"41\", \"48\", \"49\"], \"mode\": \"markers\", \"name\": \"log_loss\", \"stepped\": false, \"type\": \"scatter\", \"data\": [0.07915032906153031, 0.10679036421544867, 0.2581868999073756, 0.28360667084151703, 0.30128812460385873, 0.09541066701885827, 0.08422658474057558, 0.11507236865647691, 0.19451588043119364, 0.24851968387876056, 0.11667456431277769, 0.16774605687624766, 0.13701400390158328, 0.23092700599278082, 0.23866863179186895, 0.3844101215551537, 0.32513614135400326, 0.30876636443263883, 0.2506780948166689, 0.14475663349515877, 0.1394351499970463, 0.24036477294893632, 0.22267583253658907, 0.3000470120098953, 0.2757785809020845, 0.4429075886315977, 0.1875040063132377, 0.27350426742812073, 0.13537143019061346, 0.18985193379291246, 0.12222030009747947, 0.12562733042384067, 0.3266539069212558, 0.1966985880344121, 0.10752762115525537, 0.43185903520064045, 0.11625327918868861, 0.13842802886159536, 0.11429814650896934, 0.09948121689477778, 0.12442592668603737, 0.08478242324314617, 0.09260390646066996]}, {\"categories\": [\"0\", \"1\", \"2\", \"3\", \"4\", \"5\", \"6\", \"7\", \"8\", \"9\", \"10\", \"11\", \"12\", \"13\", \"14\", \"15\", \"16\", \"17\", \"18\", \"19\", \"20\", \"21\", \"22\", \"23\", \"24\", \"25\", \"26\", \"27\", \"28\", \"29\", \"30\", \"31\", \"32\", \"33\", \"34\", \"35\", \"36\", \"37\", \"38\", \"39\", \"41\", \"48\", \"49\"], \"mode\": \"lines\", \"name\": \"log_loss_min\", \"stepped\": true, \"type\": \"scatter\", \"data\": [0.07915032906153031, 0.07915032906153031, 0.07915032906153031, 0.07915032906153031, 0.07915032906153031, 0.07915032906153031, 0.07915032906153031, 0.07915032906153031, 0.07915032906153031, 0.07915032906153031, 0.07915032906153031, 0.07915032906153031, 0.07915032906153031, 0.07915032906153031, 0.07915032906153031, 0.07915032906153031, 0.07915032906153031, 0.07915032906153031, 0.07915032906153031, 0.07915032906153031, 0.07915032906153031, 0.07915032906153031, 0.07915032906153031, 0.07915032906153031, 0.07915032906153031, 0.07915032906153031, 0.07915032906153031, 0.07915032906153031, 0.07915032906153031, 0.07915032906153031, 0.07915032906153031, 0.07915032906153031, 0.07915032906153031, 0.07915032906153031, 0.07915032906153031, 0.07915032906153031, 0.07915032906153031, 0.07915032906153031, 0.07915032906153031, 0.07915032906153031, 0.07915032906153031, 0.07915032906153031, 0.07915032906153031]}], \"matthews_correlation\": [{\"categories\": [\"0\", \"1\", \"2\", \"3\", \"4\", \"5\", \"6\", \"7\", \"8\", \"9\", \"10\", \"11\", \"12\", \"13\", \"14\", \"15\", \"16\", \"17\", \"18\", \"19\", \"20\", \"21\", \"22\", \"23\", \"24\", \"25\", \"26\", \"27\", \"28\", \"29\", \"30\", \"31\", \"32\", \"33\", \"34\", \"35\", \"36\", \"37\", \"38\", \"39\", \"41\", \"48\", \"49\"], \"mode\": \"markers\", \"name\": \"matthews_correlation\", \"stepped\": false, \"type\": \"scatter\", \"data\": [0.886617900508924, 0.8584509833070508, 0.5293296129448545, 0.4478743934147737, 0.7051152670335371, 0.8680750388218285, 0.8773722311331897, 0.8337972705865709, 0.7491840158941806, 0.5968803580122656, 0.8390023648462228, 0.7797354017463781, 0.794151947755633, 0.6427483855712399, 0.6198284215407965, 0.5595263989982087, 0.7150527315262011, 0.1744696428472744, 0.605727211251936, 0.7823021886371392, 0.818162815817348, 0.6135778340468113, 0.616956216985996, 0.41505157733121334, 0.5685228917722238, 0.0, 0.6980140888370233, 0.6281432418080247, 0.7998711228395751, 0.7537803755978252, 0.8444066281814253, 0.8061955976343462, 0.0, 0.7438632555540021, 0.851883179214144, 0.0, 0.8242883823347872, 0.7922957169793957, 0.8328953781841572, 0.8699601846584369, 0.8147757342822141, 0.8893423375469977, 0.8869381664021324]}, {\"categories\": [\"0\", \"1\", \"2\", \"3\", \"4\", \"5\", \"6\", \"7\", \"8\", \"9\", \"10\", \"11\", \"12\", \"13\", \"14\", \"15\", \"16\", \"17\", \"18\", \"19\", \"20\", \"21\", \"22\", \"23\", \"24\", \"25\", \"26\", \"27\", \"28\", \"29\", \"30\", \"31\", \"32\", \"33\", \"34\", \"35\", \"36\", \"37\", \"38\", \"39\", \"41\", \"48\", \"49\"], \"mode\": \"lines\", \"name\": \"matthews_correlation_max\", \"stepped\": true, \"type\": \"scatter\", \"data\": [0.886617900508924, 0.886617900508924, 0.886617900508924, 0.886617900508924, 0.886617900508924, 0.886617900508924, 0.886617900508924, 0.886617900508924, 0.886617900508924, 0.886617900508924, 0.886617900508924, 0.886617900508924, 0.886617900508924, 0.886617900508924, 0.886617900508924, 0.886617900508924, 0.886617900508924, 0.886617900508924, 0.886617900508924, 0.886617900508924, 0.886617900508924, 0.886617900508924, 0.886617900508924, 0.886617900508924, 0.886617900508924, 0.886617900508924, 0.886617900508924, 0.886617900508924, 0.886617900508924, 0.886617900508924, 0.886617900508924, 0.886617900508924, 0.886617900508924, 0.886617900508924, 0.886617900508924, 0.886617900508924, 0.886617900508924, 0.886617900508924, 0.886617900508924, 0.886617900508924, 0.886617900508924, 0.8893423375469977, 0.8893423375469977]}], \"recall_score_micro\": [{\"categories\": [\"0\", \"1\", \"2\", \"3\", \"4\", \"5\", \"6\", \"7\", \"8\", \"9\", \"10\", \"11\", \"12\", \"13\", \"14\", \"15\", \"16\", \"17\", \"18\", \"19\", \"20\", \"21\", \"22\", \"23\", \"24\", \"25\", \"26\", \"27\", \"28\", \"29\", \"30\", \"31\", \"32\", \"33\", \"34\", \"35\", \"36\", \"37\", \"38\", \"39\", \"41\", \"48\", \"49\"], \"mode\": \"markers\", \"name\": \"recall_score_micro\", \"stepped\": false, \"type\": \"scatter\", \"data\": [0.9696335605011405, 0.9625975747436936, 0.889147732207093, 0.8755693136058432, 0.9023576544581111, 0.9646959288055178, 0.9672881557356443, 0.9559313194473011, 0.9360571987512626, 0.9016169137173703, 0.9576596688012212, 0.9425999515497233, 0.9464257408093024, 0.9116157253143555, 0.9047032877626484, 0.8954447141205132, 0.9279096905124303, 0.8433524391971882, 0.9047030592236073, 0.9429695905951614, 0.9522277985748305, 0.9043330088078946, 0.9065543168739515, 0.8702625913584817, 0.8971726978119672, 0.8373035592670296, 0.9200105127959008, 0.9092696806395436, 0.9479076793688667, 0.9372917666524972, 0.9590173278301132, 0.949265246982142, 0.8373035592670296, 0.9348224023109868, 0.9606220375626768, 0.8373035592670296, 0.9538330568010934, 0.9459325535581243, 0.9559311366160682, 0.9655599892129573, 0.9514874692043641, 0.9704978951554294, 0.9697573829537299]}, {\"categories\": [\"0\", \"1\", \"2\", \"3\", \"4\", \"5\", \"6\", \"7\", \"8\", \"9\", \"10\", \"11\", \"12\", \"13\", \"14\", \"15\", \"16\", \"17\", \"18\", \"19\", \"20\", \"21\", \"22\", \"23\", \"24\", \"25\", \"26\", \"27\", \"28\", \"29\", \"30\", \"31\", \"32\", \"33\", \"34\", \"35\", \"36\", \"37\", \"38\", \"39\", \"41\", \"48\", \"49\"], \"mode\": \"lines\", \"name\": \"recall_score_micro_max\", \"stepped\": true, \"type\": \"scatter\", \"data\": [0.9696335605011405, 0.9696335605011405, 0.9696335605011405, 0.9696335605011405, 0.9696335605011405, 0.9696335605011405, 0.9696335605011405, 0.9696335605011405, 0.9696335605011405, 0.9696335605011405, 0.9696335605011405, 0.9696335605011405, 0.9696335605011405, 0.9696335605011405, 0.9696335605011405, 0.9696335605011405, 0.9696335605011405, 0.9696335605011405, 0.9696335605011405, 0.9696335605011405, 0.9696335605011405, 0.9696335605011405, 0.9696335605011405, 0.9696335605011405, 0.9696335605011405, 0.9696335605011405, 0.9696335605011405, 0.9696335605011405, 0.9696335605011405, 0.9696335605011405, 0.9696335605011405, 0.9696335605011405, 0.9696335605011405, 0.9696335605011405, 0.9696335605011405, 0.9696335605011405, 0.9696335605011405, 0.9696335605011405, 0.9696335605011405, 0.9696335605011405, 0.9696335605011405, 0.9704978951554294, 0.9704978951554294]}], \"precision_score_macro\": [{\"categories\": [\"0\", \"1\", \"2\", \"3\", \"4\", \"5\", \"6\", \"7\", \"8\", \"9\", \"10\", \"11\", \"12\", \"13\", \"14\", \"15\", \"16\", \"17\", \"18\", \"19\", \"20\", \"21\", \"22\", \"23\", \"24\", \"25\", \"26\", \"27\", \"28\", \"29\", \"30\", \"31\", \"32\", \"33\", \"34\", \"35\", \"36\", \"37\", \"38\", \"39\", \"41\", \"48\", \"49\"], \"mode\": \"markers\", \"name\": \"precision_score_macro\", \"stepped\": false, \"type\": \"scatter\", \"data\": [0.9522266843806197, 0.9474683178941364, 0.8756478983777988, 0.8899856374437837, 0.8113389698566825, 0.9431908368193747, 0.9499795954210896, 0.9300143321328479, 0.9178937271097016, 0.8576295898398077, 0.938729699751578, 0.9122993911232794, 0.921173652098448, 0.8794529826650764, 0.846449349743566, 0.8766811874847275, 0.904002390926031, 0.9212050175225807, 0.8899211105329154, 0.9102816199163265, 0.9276964552304818, 0.8535782450822863, 0.8773849505576665, 0.897576187495722, 0.8801668942268556, 0.4186517796335148, 0.8607826800807302, 0.901364759812863, 0.9256629381960919, 0.9201581722182203, 0.9431207305113377, 0.9237977947783081, 0.4186517796335148, 0.9213924668634794, 0.9380439483957176, 0.4186517796335148, 0.9312953305069375, 0.9190711730619601, 0.935360537681109, 0.9534322555244673, 0.9281702552063272, 0.9567558629533055, 0.9542981893254635]}, {\"categories\": [\"0\", \"1\", \"2\", \"3\", \"4\", \"5\", \"6\", \"7\", \"8\", \"9\", \"10\", \"11\", \"12\", \"13\", \"14\", \"15\", \"16\", \"17\", \"18\", \"19\", \"20\", \"21\", \"22\", \"23\", \"24\", \"25\", \"26\", \"27\", \"28\", \"29\", \"30\", \"31\", \"32\", \"33\", \"34\", \"35\", \"36\", \"37\", \"38\", \"39\", \"41\", \"48\", \"49\"], \"mode\": \"lines\", \"name\": \"precision_score_macro_max\", \"stepped\": true, \"type\": \"scatter\", \"data\": [0.9522266843806197, 0.9522266843806197, 0.9522266843806197, 0.9522266843806197, 0.9522266843806197, 0.9522266843806197, 0.9522266843806197, 0.9522266843806197, 0.9522266843806197, 0.9522266843806197, 0.9522266843806197, 0.9522266843806197, 0.9522266843806197, 0.9522266843806197, 0.9522266843806197, 0.9522266843806197, 0.9522266843806197, 0.9522266843806197, 0.9522266843806197, 0.9522266843806197, 0.9522266843806197, 0.9522266843806197, 0.9522266843806197, 0.9522266843806197, 0.9522266843806197, 0.9522266843806197, 0.9522266843806197, 0.9522266843806197, 0.9522266843806197, 0.9522266843806197, 0.9522266843806197, 0.9522266843806197, 0.9522266843806197, 0.9522266843806197, 0.9522266843806197, 0.9522266843806197, 0.9522266843806197, 0.9522266843806197, 0.9522266843806197, 0.9534322555244673, 0.9534322555244673, 0.9567558629533055, 0.9567558629533055]}], \"f1_score_micro\": [{\"categories\": [\"0\", \"1\", \"2\", \"3\", \"4\", \"5\", \"6\", \"7\", \"8\", \"9\", \"10\", \"11\", \"12\", \"13\", \"14\", \"15\", \"16\", \"17\", \"18\", \"19\", \"20\", \"21\", \"22\", \"23\", \"24\", \"25\", \"26\", \"27\", \"28\", \"29\", \"30\", \"31\", \"32\", \"33\", \"34\", \"35\", \"36\", \"37\", \"38\", \"39\", \"41\", \"48\", \"49\"], \"mode\": \"markers\", \"name\": \"f1_score_micro\", \"stepped\": false, \"type\": \"scatter\", \"data\": [0.9696335605011405, 0.9625975747436936, 0.889147732207093, 0.8755693136058432, 0.9023576544581111, 0.9646959288055178, 0.9672881557356443, 0.9559313194473011, 0.9360571987512626, 0.9016169137173703, 0.9576596688012212, 0.9425999515497233, 0.9464257408093024, 0.9116157253143555, 0.9047032877626484, 0.8954447141205132, 0.9279096905124303, 0.8433524391971882, 0.9047030592236073, 0.9429695905951614, 0.9522277985748305, 0.9043330088078946, 0.9065543168739515, 0.8702625913584817, 0.8971726978119672, 0.8373035592670296, 0.9200105127959008, 0.9092696806395436, 0.9479076793688667, 0.9372917666524972, 0.9590173278301132, 0.949265246982142, 0.8373035592670296, 0.9348224023109868, 0.9606220375626768, 0.8373035592670296, 0.9538330568010934, 0.9459325535581243, 0.9559311366160682, 0.9655599892129573, 0.9514874692043643, 0.9704978951554294, 0.9697573829537299]}, {\"categories\": [\"0\", \"1\", \"2\", \"3\", \"4\", \"5\", \"6\", \"7\", \"8\", \"9\", \"10\", \"11\", \"12\", \"13\", \"14\", \"15\", \"16\", \"17\", \"18\", \"19\", \"20\", \"21\", \"22\", \"23\", \"24\", \"25\", \"26\", \"27\", \"28\", \"29\", \"30\", \"31\", \"32\", \"33\", \"34\", \"35\", \"36\", \"37\", \"38\", \"39\", \"41\", \"48\", \"49\"], \"mode\": \"lines\", \"name\": \"f1_score_micro_max\", \"stepped\": true, \"type\": \"scatter\", \"data\": [0.9696335605011405, 0.9696335605011405, 0.9696335605011405, 0.9696335605011405, 0.9696335605011405, 0.9696335605011405, 0.9696335605011405, 0.9696335605011405, 0.9696335605011405, 0.9696335605011405, 0.9696335605011405, 0.9696335605011405, 0.9696335605011405, 0.9696335605011405, 0.9696335605011405, 0.9696335605011405, 0.9696335605011405, 0.9696335605011405, 0.9696335605011405, 0.9696335605011405, 0.9696335605011405, 0.9696335605011405, 0.9696335605011405, 0.9696335605011405, 0.9696335605011405, 0.9696335605011405, 0.9696335605011405, 0.9696335605011405, 0.9696335605011405, 0.9696335605011405, 0.9696335605011405, 0.9696335605011405, 0.9696335605011405, 0.9696335605011405, 0.9696335605011405, 0.9696335605011405, 0.9696335605011405, 0.9696335605011405, 0.9696335605011405, 0.9696335605011405, 0.9696335605011405, 0.9704978951554294, 0.9704978951554294]}], \"AUC_weighted\": [{\"categories\": [\"0\", \"1\", \"2\", \"3\", \"4\", \"5\", \"6\", \"7\", \"8\", \"9\", \"10\", \"11\", \"12\", \"13\", \"14\", \"15\", \"16\", \"17\", \"18\", \"19\", \"20\", \"21\", \"22\", \"23\", \"24\", \"25\", \"26\", \"27\", \"28\", \"29\", \"30\", \"31\", \"32\", \"33\", \"34\", \"35\", \"36\", \"37\", \"38\", \"39\", \"41\", \"48\", \"49\"], \"mode\": \"markers\", \"name\": \"AUC_weighted\", \"stepped\": false, \"type\": \"scatter\", \"data\": [0.9928643754218142, 0.9894721612460694, 0.9398468613601142, 0.9227012126457071, 0.9626619218889613, 0.9892436210343715, 0.9919649534754593, 0.9842482711609826, 0.9770073009160823, 0.9129726045307484, 0.9862161985289642, 0.9773117566201437, 0.9797636117272573, 0.937492101304163, 0.9215326765966688, 0.9038920222130541, 0.9644919310469419, 0.9671106618973612, 0.9241313175501186, 0.9777338018485602, 0.9824057605381639, 0.9199674775244763, 0.9548179888540865, 0.9186974915674556, 0.9269107375538822, 0.9463131712009663, 0.9627131788904482, 0.9340200361067733, 0.9810192719452425, 0.9757994146090975, 0.9876471477831621, 0.982628020490813, 0.9094369813359476, 0.97418648949753, 0.9876982291610261, 0.7965853903569412, 0.9844182185894428, 0.979358139268144, 0.9853965124351219, 0.991719341655824, 0.9828299105105934, 0.9927944857570982, 0.9926743337216538]}, {\"categories\": [\"0\", \"1\", \"2\", \"3\", \"4\", \"5\", \"6\", \"7\", \"8\", \"9\", \"10\", \"11\", \"12\", \"13\", \"14\", \"15\", \"16\", \"17\", \"18\", \"19\", \"20\", \"21\", \"22\", \"23\", \"24\", \"25\", \"26\", \"27\", \"28\", \"29\", \"30\", \"31\", \"32\", \"33\", \"34\", \"35\", \"36\", \"37\", \"38\", \"39\", \"41\", \"48\", \"49\"], \"mode\": \"lines\", \"name\": \"AUC_weighted_max\", \"stepped\": true, \"type\": \"scatter\", \"data\": [0.9928643754218142, 0.9928643754218142, 0.9928643754218142, 0.9928643754218142, 0.9928643754218142, 0.9928643754218142, 0.9928643754218142, 0.9928643754218142, 0.9928643754218142, 0.9928643754218142, 0.9928643754218142, 0.9928643754218142, 0.9928643754218142, 0.9928643754218142, 0.9928643754218142, 0.9928643754218142, 0.9928643754218142, 0.9928643754218142, 0.9928643754218142, 0.9928643754218142, 0.9928643754218142, 0.9928643754218142, 0.9928643754218142, 0.9928643754218142, 0.9928643754218142, 0.9928643754218142, 0.9928643754218142, 0.9928643754218142, 0.9928643754218142, 0.9928643754218142, 0.9928643754218142, 0.9928643754218142, 0.9928643754218142, 0.9928643754218142, 0.9928643754218142, 0.9928643754218142, 0.9928643754218142, 0.9928643754218142, 0.9928643754218142, 0.9928643754218142, 0.9928643754218142, 0.9928643754218142, 0.9928643754218142]}]}, \"metricName\": null, \"primaryMetricName\": \"accuracy\", \"showLegend\": false}, \"run_metrics\": [{\"name\": \"experiment_status\", \"run_id\": \"AutoML_e11c5b6a-8bb5-49f5-94c6-8788e142e345\", \"categories\": [0, 1, 2, 3, 4, 5, 6, 7, 8, 9, 10, 11, 12, 13, 14], \"series\": [{\"data\": [\"DatasetEvaluation\", \"FeaturesGeneration\", \"DatasetFeaturization\", \"DatasetFeaturizationCompleted\", \"DatasetBalancing\", \"DatasetCrossValidationSplit\", \"ModelSelection\", \"BestRunExplainModel\", \"ModelExplanationDataSetSetup\", \"PickSurrogateModel\", \"EngineeredFeatureExplanations\", \"EngineeredFeatureExplanations\", \"RawFeaturesExplanations\", \"RawFeaturesExplanations\", \"BestRunExplainModel\"]}]}, {\"name\": \"experiment_status_description\", \"run_id\": \"AutoML_e11c5b6a-8bb5-49f5-94c6-8788e142e345\", \"categories\": [0, 1, 2, 3, 4, 5, 6, 7, 8, 9, 10, 11, 12, 13, 14], \"series\": [{\"data\": [\"Gathering dataset statistics.\", \"Generating features for the dataset.\", \"Beginning to fit featurizers and featurize the dataset.\", \"Completed fit featurizers and featurizing the dataset.\", \"Performing class balancing sweeping\", \"Generating individually featurized CV splits.\", \"Beginning model selection.\", \"Best run model explanations started\", \"Model explanations data setup completed\", \"Choosing LightGBM as the surrogate model for explanations\", \"Computation of engineered features started\", \"Computation of engineered features completed\", \"Computation of raw features started\", \"Computation of raw features completed\", \"Best run model explanations completed\"]}]}, {\"name\": \"AUC_micro\", \"run_id\": \"AutoML_e11c5b6a-8bb5-49f5-94c6-8788e142e345\", \"categories\": [0], \"series\": [{\"data\": [0.9960408500806284]}]}, {\"name\": \"precision_score_micro\", \"run_id\": \"AutoML_e11c5b6a-8bb5-49f5-94c6-8788e142e345\", \"categories\": [0], \"series\": [{\"data\": [0.9704978951554294]}]}, {\"name\": \"AUC_macro\", \"run_id\": \"AutoML_e11c5b6a-8bb5-49f5-94c6-8788e142e345\", \"categories\": [0], \"series\": [{\"data\": [0.9927944857570982]}]}, {\"name\": \"recall_score_micro\", \"run_id\": \"AutoML_e11c5b6a-8bb5-49f5-94c6-8788e142e345\", \"categories\": [0], \"series\": [{\"data\": [0.9704978951554294]}]}, {\"name\": \"average_precision_score_macro\", \"run_id\": \"AutoML_e11c5b6a-8bb5-49f5-94c6-8788e142e345\", \"categories\": [0], \"series\": [{\"data\": [0.9832869304305846]}]}, {\"name\": \"average_precision_score_micro\", \"run_id\": \"AutoML_e11c5b6a-8bb5-49f5-94c6-8788e142e345\", \"categories\": [0], \"series\": [{\"data\": [0.9961257572641081]}]}, {\"name\": \"f1_score_micro\", \"run_id\": \"AutoML_e11c5b6a-8bb5-49f5-94c6-8788e142e345\", \"categories\": [0], \"series\": [{\"data\": [0.9704978951554294]}]}, {\"name\": \"norm_macro_recall\", \"run_id\": \"AutoML_e11c5b6a-8bb5-49f5-94c6-8788e142e345\", \"categories\": [0], \"series\": [{\"data\": [0.8660260093730742]}]}, {\"name\": \"log_loss\", \"run_id\": \"AutoML_e11c5b6a-8bb5-49f5-94c6-8788e142e345\", \"categories\": [0], \"series\": [{\"data\": [0.08478242324314617]}]}, {\"name\": \"accuracy\", \"run_id\": \"AutoML_e11c5b6a-8bb5-49f5-94c6-8788e142e345\", \"categories\": [0], \"series\": [{\"data\": [0.9704978951554294]}]}, {\"name\": \"weighted_accuracy\", \"run_id\": \"AutoML_e11c5b6a-8bb5-49f5-94c6-8788e142e345\", \"categories\": [0], \"series\": [{\"data\": [0.9844840930277049]}]}, {\"name\": \"precision_score_macro\", \"run_id\": \"AutoML_e11c5b6a-8bb5-49f5-94c6-8788e142e345\", \"categories\": [0], \"series\": [{\"data\": [0.9567558629533055]}]}, {\"name\": \"recall_score_weighted\", \"run_id\": \"AutoML_e11c5b6a-8bb5-49f5-94c6-8788e142e345\", \"categories\": [0], \"series\": [{\"data\": [0.9704978951554294]}]}, {\"name\": \"matthews_correlation\", \"run_id\": \"AutoML_e11c5b6a-8bb5-49f5-94c6-8788e142e345\", \"categories\": [0], \"series\": [{\"data\": [0.8893423375469977]}]}, {\"name\": \"f1_score_weighted\", \"run_id\": \"AutoML_e11c5b6a-8bb5-49f5-94c6-8788e142e345\", \"categories\": [0], \"series\": [{\"data\": [0.9700848567388606]}]}, {\"name\": \"precision_score_weighted\", \"run_id\": \"AutoML_e11c5b6a-8bb5-49f5-94c6-8788e142e345\", \"categories\": [0], \"series\": [{\"data\": [0.9701690550316985]}]}, {\"name\": \"f1_score_macro\", \"run_id\": \"AutoML_e11c5b6a-8bb5-49f5-94c6-8788e142e345\", \"categories\": [0], \"series\": [{\"data\": [0.9442118759500877]}]}, {\"name\": \"average_precision_score_weighted\", \"run_id\": \"AutoML_e11c5b6a-8bb5-49f5-94c6-8788e142e345\", \"categories\": [0], \"series\": [{\"data\": [0.9936296828929193]}]}, {\"name\": \"recall_score_macro\", \"run_id\": \"AutoML_e11c5b6a-8bb5-49f5-94c6-8788e142e345\", \"categories\": [0], \"series\": [{\"data\": [0.9330130046865371]}]}, {\"name\": \"balanced_accuracy\", \"run_id\": \"AutoML_e11c5b6a-8bb5-49f5-94c6-8788e142e345\", \"categories\": [0], \"series\": [{\"data\": [0.9330130046865371]}]}, {\"name\": \"AUC_weighted\", \"run_id\": \"AutoML_e11c5b6a-8bb5-49f5-94c6-8788e142e345\", \"categories\": [0], \"series\": [{\"data\": [0.9927944857570982]}]}], \"run_logs\": \"\\nRun is completed.\", \"graph\": {}, \"widget_settings\": {\"childWidgetDisplay\": \"popup\", \"send_telemetry\": false, \"log_level\": \"INFO\", \"sdk_version\": \"1.19.0\"}, \"loading\": false}"
     },
     "metadata": {},
     "output_type": "display_data"
    },
    {
     "name": "stdout",
     "output_type": "stream",
     "text": [
      "\n",
      "\n",
      "****************************************************************************************************\n",
      "DATA GUARDRAILS: \n",
      "\n",
      "TYPE:         Class balancing detection\n",
      "STATUS:       ALERTED\n",
      "DESCRIPTION:  To decrease model bias, please cancel the current run and fix balancing problem.\n",
      "              Learn more about imbalanced data: https://aka.ms/AutomatedMLImbalancedData\n",
      "DETAILS:      Imbalanced data can lead to a falsely perceived positive effect of a model's accuracy because the input data has bias towards one class.\n",
      "+---------------------------------+---------------------------------+--------------------------------------+\n",
      "|Size of the smallest class       |Name/Label of the smallest class |Number of samples in the training data|\n",
      "+=================================+=================================+======================================+\n",
      "|1318                             |1                                |8101                                  |\n",
      "+---------------------------------+---------------------------------+--------------------------------------+\n",
      "\n",
      "****************************************************************************************************\n",
      "\n",
      "TYPE:         Missing feature values imputation\n",
      "STATUS:       PASSED\n",
      "DESCRIPTION:  No feature missing values were detected in the training data.\n",
      "              Learn more about missing value imputation: https://aka.ms/AutomatedMLFeaturization\n",
      "\n",
      "****************************************************************************************************\n",
      "\n",
      "TYPE:         High cardinality feature detection\n",
      "STATUS:       PASSED\n",
      "DESCRIPTION:  Your inputs were analyzed, and no high cardinality features were detected.\n",
      "              Learn more about high cardinality feature handling: https://aka.ms/AutomatedMLFeaturization\n",
      "\n",
      "****************************************************************************************************\n",
      "\n",
      "****************************************************************************************************\n",
      "ITERATION: The iteration being evaluated.\n",
      "PIPELINE: A summary description of the pipeline being evaluated.\n",
      "DURATION: Time taken for the current iteration.\n",
      "METRIC: The result of computing score on the fitted pipeline.\n",
      "BEST: The best observed score thus far.\n",
      "****************************************************************************************************\n",
      "\n",
      " ITERATION   PIPELINE                                       DURATION      METRIC      BEST\n",
      "         0   MaxAbsScaler LightGBM                          0:01:36       0.9696    0.9696\n",
      "         1   MaxAbsScaler XGBoostClassifier                 0:01:34       0.9626    0.9696\n",
      "         2   MinMaxScaler RandomForest                      0:00:53       0.8891    0.9696\n",
      "         3   MinMaxScaler RandomForest                      0:00:49       0.8756    0.9696\n",
      "         4   MinMaxScaler RandomForest                      0:00:53       0.9024    0.9696\n",
      "         5   StandardScalerWrapper LightGBM                 0:01:36       0.9647    0.9696\n",
      "         6   StandardScalerWrapper XGBoostClassifier        0:01:35       0.9673    0.9696\n",
      "         7   SparseNormalizer LightGBM                      0:01:33       0.9559    0.9696\n",
      "         8   SparseNormalizer XGBoostClassifier             0:01:02       0.9361    0.9696\n",
      "         9   TruncatedSVDWrapper XGBoostClassifier          0:00:58       0.9016    0.9696\n",
      "        10   SparseNormalizer XGBoostClassifier             0:01:04       0.9577    0.9696\n",
      "        11   SparseNormalizer XGBoostClassifier             0:00:56       0.9426    0.9696\n",
      "        12   SparseNormalizer XGBoostClassifier             0:00:49       0.9464    0.9696\n",
      "        13   SparseNormalizer LightGBM                      0:00:42       0.9116    0.9696\n",
      "        14   StandardScalerWrapper LogisticRegression       0:00:46       0.9047    0.9696\n",
      "        15   SparseNormalizer XGBoostClassifier             0:00:54       0.8954    0.9696\n",
      "        16   SparseNormalizer XGBoostClassifier             0:00:56       0.9279    0.9696\n",
      "        17   StandardScalerWrapper LightGBM                 0:00:51       0.8434    0.9696\n",
      "        18   SparseNormalizer GradientBoosting              0:00:46       0.9047    0.9696\n",
      "        19   SparseNormalizer LightGBM                      0:00:55       0.9430    0.9696\n",
      "        20   SparseNormalizer XGBoostClassifier             0:01:05       0.9522    0.9696\n",
      "        21   MinMaxScaler LogisticRegression                0:01:01       0.9043    0.9696\n",
      "        22   MaxAbsScaler ExtremeRandomTrees                0:00:47       0.9066    0.9696\n",
      "        23   MaxAbsScaler ExtremeRandomTrees                0:00:54       0.8703    0.9696\n",
      "        24   MinMaxScaler LightGBM                          0:00:40       0.8972    0.9696\n",
      "        25   MaxAbsScaler LightGBM                          0:00:52       0.8373    0.9696\n",
      "        26   MaxAbsScaler RandomForest                      0:00:45       0.9200    0.9696\n",
      "        27   StandardScalerWrapper XGBoostClassifier        0:00:52       0.9093    0.9696\n",
      "        28   SparseNormalizer XGBoostClassifier             0:00:52       0.9479    0.9696\n",
      "        29   SparseNormalizer XGBoostClassifier             0:00:48       0.9373    0.9696\n",
      "        30   StandardScalerWrapper LightGBM                 0:00:50       0.9590    0.9696\n",
      "        31   SparseNormalizer XGBoostClassifier             0:00:49       0.9493    0.9696\n",
      "        32   MaxAbsScaler ExtremeRandomTrees                0:01:10       0.8373    0.9696\n",
      "        33   MaxAbsScaler LightGBM                          0:00:41       0.9348    0.9696\n",
      "        34   StandardScalerWrapper LightGBM                 0:00:45       0.9606    0.9696\n",
      "        35   PCA LightGBM                                   0:00:48       0.8373    0.9696\n",
      "        36   SparseNormalizer XGBoostClassifier             0:01:11       0.9538    0.9696\n",
      "        37   SparseNormalizer XGBoostClassifier             0:00:50       0.9459    0.9696\n",
      "        38   SparseNormalizer XGBoostClassifier             0:01:11       0.9559    0.9696\n",
      "        39   StandardScalerWrapper XGBoostClassifier        0:00:50       0.9656    0.9696\n",
      "        40   SparseNormalizer LightGBM                      0:00:58          nan    0.9696\n",
      "        41   SparseNormalizer XGBoostClassifier             0:00:53       0.9515    0.9696\n",
      "        42   SparseNormalizer XGBoostClassifier             0:00:53          nan    0.9696\n",
      "        43   SparseNormalizer XGBoostClassifier             0:00:47          nan    0.9696\n",
      "        44   SparseNormalizer XGBoostClassifier             0:00:31          nan    0.9696\n",
      "        45                                                  0:00:17          nan    0.9696\n",
      "        46                                                  0:00:08          nan    0.9696\n",
      "        47                                                  0:00:18          nan    0.9696\n",
      "        48    VotingEnsemble                                0:01:36       0.9705    0.9705\n",
      "        49    StackEnsemble                                 0:01:37       0.9698    0.9705\n"
     ]
    },
    {
     "data": {
      "text/plain": [
       "{'runId': 'AutoML_e11c5b6a-8bb5-49f5-94c6-8788e142e345',\n",
       " 'target': 'compute-aml-cluster',\n",
       " 'status': 'Completed',\n",
       " 'startTimeUtc': '2021-01-03T15:44:09.64868Z',\n",
       " 'endTimeUtc': '2021-01-03T15:54:44.803103Z',\n",
       " 'properties': {'num_iterations': '1000',\n",
       "  'training_type': 'TrainFull',\n",
       "  'acquisition_function': 'EI',\n",
       "  'primary_metric': 'accuracy',\n",
       "  'train_split': '0',\n",
       "  'acquisition_parameter': '0',\n",
       "  'num_cross_validation': '3',\n",
       "  'target': 'compute-aml-cluster',\n",
       "  'AMLSettingsJsonString': '{\"path\":null,\"name\":\"automl-experiment\",\"subscription_id\":\"cdbe0b43-92a0-4715-838a-f2648cc7ad21\",\"resource_group\":\"aml-quickstarts-133172\",\"workspace_name\":\"quick-starts-ws-133172\",\"region\":\"southcentralus\",\"compute_target\":\"compute-aml-cluster\",\"spark_service\":null,\"azure_service\":\"remote\",\"many_models\":false,\"pipeline_fetch_max_batch_size\":1,\"iterations\":1000,\"primary_metric\":\"accuracy\",\"task_type\":\"classification\",\"data_script\":null,\"validation_size\":0.0,\"n_cross_validations\":3,\"y_min\":null,\"y_max\":null,\"num_classes\":null,\"featurization\":\"auto\",\"_ignore_package_version_incompatibilities\":false,\"is_timeseries\":false,\"max_cores_per_iteration\":-1,\"max_concurrent_iterations\":10,\"iteration_timeout_minutes\":null,\"mem_in_mb\":null,\"enforce_time_on_windows\":false,\"experiment_timeout_minutes\":30,\"experiment_exit_score\":null,\"whitelist_models\":null,\"blacklist_algos\":[\"TensorFlowLinearClassifier\",\"TensorFlowDNN\"],\"supported_models\":[\"ExtremeRandomTrees\",\"RandomForest\",\"KNN\",\"LogisticRegression\",\"DecisionTree\",\"XGBoostClassifier\",\"AveragedPerceptronClassifier\",\"TensorFlowDNN\",\"MultinomialNaiveBayes\",\"LightGBM\",\"SGD\",\"BernoulliNaiveBayes\",\"LinearSVM\",\"TensorFlowLinearClassifier\",\"SVM\",\"GradientBoosting\"],\"auto_blacklist\":true,\"blacklist_samples_reached\":false,\"exclude_nan_labels\":true,\"verbosity\":20,\"_debug_log\":\"azureml_automl.log\",\"show_warnings\":false,\"model_explainability\":true,\"service_url\":null,\"sdk_url\":null,\"sdk_packages\":null,\"enable_onnx_compatible_models\":false,\"enable_split_onnx_featurizer_estimator_models\":false,\"vm_type\":\"STANDARD_D13_V2\",\"telemetry_verbosity\":20,\"send_telemetry\":true,\"enable_dnn\":false,\"scenario\":\"SDK-1.13.0\",\"environment_label\":null,\"force_text_dnn\":false,\"enable_feature_sweeping\":true,\"enable_early_stopping\":true,\"early_stopping_n_iters\":10,\"metrics\":null,\"enable_ensembling\":true,\"enable_stack_ensembling\":true,\"ensemble_iterations\":15,\"enable_tf\":false,\"enable_subsampling\":null,\"subsample_seed\":null,\"enable_nimbusml\":false,\"enable_streaming\":false,\"force_streaming\":false,\"track_child_runs\":true,\"allowed_private_models\":[],\"label_column_name\":\"Attrition_Flag\",\"weight_column_name\":null,\"cv_split_column_names\":null,\"enable_local_managed\":false,\"_local_managed_run_id\":null,\"cost_mode\":1,\"lag_length\":0,\"metric_operation\":\"maximize\",\"preprocess\":true}',\n",
       "  'DataPrepJsonString': '{\\\\\"training_data\\\\\": \\\\\"{\\\\\\\\\\\\\"blocks\\\\\\\\\\\\\": [{\\\\\\\\\\\\\"id\\\\\\\\\\\\\": \\\\\\\\\\\\\"0d4b89a9-2112-4e33-977f-9fa704d98650\\\\\\\\\\\\\", \\\\\\\\\\\\\"type\\\\\\\\\\\\\": \\\\\\\\\\\\\"Microsoft.DPrep.GetDatastoreFilesBlock\\\\\\\\\\\\\", \\\\\\\\\\\\\"arguments\\\\\\\\\\\\\": {\\\\\\\\\\\\\"datastores\\\\\\\\\\\\\": [{\\\\\\\\\\\\\"datastoreName\\\\\\\\\\\\\": \\\\\\\\\\\\\"workspaceblobstore\\\\\\\\\\\\\", \\\\\\\\\\\\\"path\\\\\\\\\\\\\": \\\\\\\\\\\\\"data/train_data.csv\\\\\\\\\\\\\", \\\\\\\\\\\\\"resourceGroup\\\\\\\\\\\\\": \\\\\\\\\\\\\"aml-quickstarts-133172\\\\\\\\\\\\\", \\\\\\\\\\\\\"subscription\\\\\\\\\\\\\": \\\\\\\\\\\\\"cdbe0b43-92a0-4715-838a-f2648cc7ad21\\\\\\\\\\\\\", \\\\\\\\\\\\\"workspaceName\\\\\\\\\\\\\": \\\\\\\\\\\\\"quick-starts-ws-133172\\\\\\\\\\\\\"}]}, \\\\\\\\\\\\\"localData\\\\\\\\\\\\\": {}, \\\\\\\\\\\\\"isEnabled\\\\\\\\\\\\\": true, \\\\\\\\\\\\\"name\\\\\\\\\\\\\": null, \\\\\\\\\\\\\"annotation\\\\\\\\\\\\\": null}, {\\\\\\\\\\\\\"id\\\\\\\\\\\\\": \\\\\\\\\\\\\"c54f26ce-1eb2-47d2-9753-953bd967d79f\\\\\\\\\\\\\", \\\\\\\\\\\\\"type\\\\\\\\\\\\\": \\\\\\\\\\\\\"Microsoft.DPrep.ParseDelimitedBlock\\\\\\\\\\\\\", \\\\\\\\\\\\\"arguments\\\\\\\\\\\\\": {\\\\\\\\\\\\\"columnHeadersMode\\\\\\\\\\\\\": 3, \\\\\\\\\\\\\"fileEncoding\\\\\\\\\\\\\": 0, \\\\\\\\\\\\\"handleQuotedLineBreaks\\\\\\\\\\\\\": false, \\\\\\\\\\\\\"preview\\\\\\\\\\\\\": false, \\\\\\\\\\\\\"separator\\\\\\\\\\\\\": \\\\\\\\\\\\\",\\\\\\\\\\\\\", \\\\\\\\\\\\\"skipRows\\\\\\\\\\\\\": 0, \\\\\\\\\\\\\"skipRowsMode\\\\\\\\\\\\\": 0}, \\\\\\\\\\\\\"localData\\\\\\\\\\\\\": {}, \\\\\\\\\\\\\"isEnabled\\\\\\\\\\\\\": true, \\\\\\\\\\\\\"name\\\\\\\\\\\\\": null, \\\\\\\\\\\\\"annotation\\\\\\\\\\\\\": null}, {\\\\\\\\\\\\\"id\\\\\\\\\\\\\": \\\\\\\\\\\\\"0d4cfc59-b369-47f2-8860-8afcad6cbbac\\\\\\\\\\\\\", \\\\\\\\\\\\\"type\\\\\\\\\\\\\": \\\\\\\\\\\\\"Microsoft.DPrep.DropColumnsBlock\\\\\\\\\\\\\", \\\\\\\\\\\\\"arguments\\\\\\\\\\\\\": {\\\\\\\\\\\\\"columns\\\\\\\\\\\\\": {\\\\\\\\\\\\\"type\\\\\\\\\\\\\": 0, \\\\\\\\\\\\\"details\\\\\\\\\\\\\": {\\\\\\\\\\\\\"selectedColumns\\\\\\\\\\\\\": [\\\\\\\\\\\\\"Path\\\\\\\\\\\\\"]}}}, \\\\\\\\\\\\\"localData\\\\\\\\\\\\\": {}, \\\\\\\\\\\\\"isEnabled\\\\\\\\\\\\\": true, \\\\\\\\\\\\\"name\\\\\\\\\\\\\": null, \\\\\\\\\\\\\"annotation\\\\\\\\\\\\\": null}, {\\\\\\\\\\\\\"id\\\\\\\\\\\\\": \\\\\\\\\\\\\"b8b4c409-3172-4fae-bfad-de7f0e2478d9\\\\\\\\\\\\\", \\\\\\\\\\\\\"type\\\\\\\\\\\\\": \\\\\\\\\\\\\"Microsoft.DPrep.SetColumnTypesBlock\\\\\\\\\\\\\", \\\\\\\\\\\\\"arguments\\\\\\\\\\\\\": {\\\\\\\\\\\\\"columnConversion\\\\\\\\\\\\\": [{\\\\\\\\\\\\\"column\\\\\\\\\\\\\": {\\\\\\\\\\\\\"type\\\\\\\\\\\\\": 2, \\\\\\\\\\\\\"details\\\\\\\\\\\\\": {\\\\\\\\\\\\\"selectedColumn\\\\\\\\\\\\\": \\\\\\\\\\\\\"Customer_Age\\\\\\\\\\\\\"}}, \\\\\\\\\\\\\"typeProperty\\\\\\\\\\\\\": 3}, {\\\\\\\\\\\\\"column\\\\\\\\\\\\\": {\\\\\\\\\\\\\"type\\\\\\\\\\\\\": 2, \\\\\\\\\\\\\"details\\\\\\\\\\\\\": {\\\\\\\\\\\\\"selectedColumn\\\\\\\\\\\\\": \\\\\\\\\\\\\"Gender\\\\\\\\\\\\\"}}, \\\\\\\\\\\\\"typeProperty\\\\\\\\\\\\\": 3}, {\\\\\\\\\\\\\"column\\\\\\\\\\\\\": {\\\\\\\\\\\\\"type\\\\\\\\\\\\\": 2, \\\\\\\\\\\\\"details\\\\\\\\\\\\\": {\\\\\\\\\\\\\"selectedColumn\\\\\\\\\\\\\": \\\\\\\\\\\\\"Dependent_count\\\\\\\\\\\\\"}}, \\\\\\\\\\\\\"typeProperty\\\\\\\\\\\\\": 3}, {\\\\\\\\\\\\\"column\\\\\\\\\\\\\": {\\\\\\\\\\\\\"type\\\\\\\\\\\\\": 2, \\\\\\\\\\\\\"details\\\\\\\\\\\\\": {\\\\\\\\\\\\\"selectedColumn\\\\\\\\\\\\\": \\\\\\\\\\\\\"Education_Level\\\\\\\\\\\\\"}}, \\\\\\\\\\\\\"typeProperty\\\\\\\\\\\\\": 3}, {\\\\\\\\\\\\\"column\\\\\\\\\\\\\": {\\\\\\\\\\\\\"type\\\\\\\\\\\\\": 2, \\\\\\\\\\\\\"details\\\\\\\\\\\\\": {\\\\\\\\\\\\\"selectedColumn\\\\\\\\\\\\\": \\\\\\\\\\\\\"Income_Category\\\\\\\\\\\\\"}}, \\\\\\\\\\\\\"typeProperty\\\\\\\\\\\\\": 3}, {\\\\\\\\\\\\\"column\\\\\\\\\\\\\": {\\\\\\\\\\\\\"type\\\\\\\\\\\\\": 2, \\\\\\\\\\\\\"details\\\\\\\\\\\\\": {\\\\\\\\\\\\\"selectedColumn\\\\\\\\\\\\\": \\\\\\\\\\\\\"Months_on_book\\\\\\\\\\\\\"}}, \\\\\\\\\\\\\"typeProperty\\\\\\\\\\\\\": 3}, {\\\\\\\\\\\\\"column\\\\\\\\\\\\\": {\\\\\\\\\\\\\"type\\\\\\\\\\\\\": 2, \\\\\\\\\\\\\"details\\\\\\\\\\\\\": {\\\\\\\\\\\\\"selectedColumn\\\\\\\\\\\\\": \\\\\\\\\\\\\"Total_Relationship_Count\\\\\\\\\\\\\"}}, \\\\\\\\\\\\\"typeProperty\\\\\\\\\\\\\": 3}, {\\\\\\\\\\\\\"column\\\\\\\\\\\\\": {\\\\\\\\\\\\\"type\\\\\\\\\\\\\": 2, \\\\\\\\\\\\\"details\\\\\\\\\\\\\": {\\\\\\\\\\\\\"selectedColumn\\\\\\\\\\\\\": \\\\\\\\\\\\\"Months_Inactive_12_mon\\\\\\\\\\\\\"}}, \\\\\\\\\\\\\"typeProperty\\\\\\\\\\\\\": 3}, {\\\\\\\\\\\\\"column\\\\\\\\\\\\\": {\\\\\\\\\\\\\"type\\\\\\\\\\\\\": 2, \\\\\\\\\\\\\"details\\\\\\\\\\\\\": {\\\\\\\\\\\\\"selectedColumn\\\\\\\\\\\\\": \\\\\\\\\\\\\"Contacts_Count_12_mon\\\\\\\\\\\\\"}}, \\\\\\\\\\\\\"typeProperty\\\\\\\\\\\\\": 3}, {\\\\\\\\\\\\\"column\\\\\\\\\\\\\": {\\\\\\\\\\\\\"type\\\\\\\\\\\\\": 2, \\\\\\\\\\\\\"details\\\\\\\\\\\\\": {\\\\\\\\\\\\\"selectedColumn\\\\\\\\\\\\\": \\\\\\\\\\\\\"Credit_Limit\\\\\\\\\\\\\"}}, \\\\\\\\\\\\\"typeProperty\\\\\\\\\\\\\": 3}, {\\\\\\\\\\\\\"column\\\\\\\\\\\\\": {\\\\\\\\\\\\\"type\\\\\\\\\\\\\": 2, \\\\\\\\\\\\\"details\\\\\\\\\\\\\": {\\\\\\\\\\\\\"selectedColumn\\\\\\\\\\\\\": \\\\\\\\\\\\\"Total_Revolving_Bal\\\\\\\\\\\\\"}}, \\\\\\\\\\\\\"typeProperty\\\\\\\\\\\\\": 3}, {\\\\\\\\\\\\\"column\\\\\\\\\\\\\": {\\\\\\\\\\\\\"type\\\\\\\\\\\\\": 2, \\\\\\\\\\\\\"details\\\\\\\\\\\\\": {\\\\\\\\\\\\\"selectedColumn\\\\\\\\\\\\\": \\\\\\\\\\\\\"Avg_Open_To_Buy\\\\\\\\\\\\\"}}, \\\\\\\\\\\\\"typeProperty\\\\\\\\\\\\\": 3}, {\\\\\\\\\\\\\"column\\\\\\\\\\\\\": {\\\\\\\\\\\\\"type\\\\\\\\\\\\\": 2, \\\\\\\\\\\\\"details\\\\\\\\\\\\\": {\\\\\\\\\\\\\"selectedColumn\\\\\\\\\\\\\": \\\\\\\\\\\\\"Total_Amt_Chng_Q4_Q1\\\\\\\\\\\\\"}}, \\\\\\\\\\\\\"typeProperty\\\\\\\\\\\\\": 3}, {\\\\\\\\\\\\\"column\\\\\\\\\\\\\": {\\\\\\\\\\\\\"type\\\\\\\\\\\\\": 2, \\\\\\\\\\\\\"details\\\\\\\\\\\\\": {\\\\\\\\\\\\\"selectedColumn\\\\\\\\\\\\\": \\\\\\\\\\\\\"Total_Trans_Amt\\\\\\\\\\\\\"}}, \\\\\\\\\\\\\"typeProperty\\\\\\\\\\\\\": 3}, {\\\\\\\\\\\\\"column\\\\\\\\\\\\\": {\\\\\\\\\\\\\"type\\\\\\\\\\\\\": 2, \\\\\\\\\\\\\"details\\\\\\\\\\\\\": {\\\\\\\\\\\\\"selectedColumn\\\\\\\\\\\\\": \\\\\\\\\\\\\"Total_Trans_Ct\\\\\\\\\\\\\"}}, \\\\\\\\\\\\\"typeProperty\\\\\\\\\\\\\": 3}, {\\\\\\\\\\\\\"column\\\\\\\\\\\\\": {\\\\\\\\\\\\\"type\\\\\\\\\\\\\": 2, \\\\\\\\\\\\\"details\\\\\\\\\\\\\": {\\\\\\\\\\\\\"selectedColumn\\\\\\\\\\\\\": \\\\\\\\\\\\\"Total_Ct_Chng_Q4_Q1\\\\\\\\\\\\\"}}, \\\\\\\\\\\\\"typeProperty\\\\\\\\\\\\\": 3}, {\\\\\\\\\\\\\"column\\\\\\\\\\\\\": {\\\\\\\\\\\\\"type\\\\\\\\\\\\\": 2, \\\\\\\\\\\\\"details\\\\\\\\\\\\\": {\\\\\\\\\\\\\"selectedColumn\\\\\\\\\\\\\": \\\\\\\\\\\\\"Avg_Utilization_Ratio\\\\\\\\\\\\\"}}, \\\\\\\\\\\\\"typeProperty\\\\\\\\\\\\\": 3}, {\\\\\\\\\\\\\"column\\\\\\\\\\\\\": {\\\\\\\\\\\\\"type\\\\\\\\\\\\\": 2, \\\\\\\\\\\\\"details\\\\\\\\\\\\\": {\\\\\\\\\\\\\"selectedColumn\\\\\\\\\\\\\": \\\\\\\\\\\\\"Marital_Status_Divorced\\\\\\\\\\\\\"}}, \\\\\\\\\\\\\"typeProperty\\\\\\\\\\\\\": 3}, {\\\\\\\\\\\\\"column\\\\\\\\\\\\\": {\\\\\\\\\\\\\"type\\\\\\\\\\\\\": 2, \\\\\\\\\\\\\"details\\\\\\\\\\\\\": {\\\\\\\\\\\\\"selectedColumn\\\\\\\\\\\\\": \\\\\\\\\\\\\"Marital_Status_Married\\\\\\\\\\\\\"}}, \\\\\\\\\\\\\"typeProperty\\\\\\\\\\\\\": 3}, {\\\\\\\\\\\\\"column\\\\\\\\\\\\\": {\\\\\\\\\\\\\"type\\\\\\\\\\\\\": 2, \\\\\\\\\\\\\"details\\\\\\\\\\\\\": {\\\\\\\\\\\\\"selectedColumn\\\\\\\\\\\\\": \\\\\\\\\\\\\"Marital_Status_Single\\\\\\\\\\\\\"}}, \\\\\\\\\\\\\"typeProperty\\\\\\\\\\\\\": 3}, {\\\\\\\\\\\\\"column\\\\\\\\\\\\\": {\\\\\\\\\\\\\"type\\\\\\\\\\\\\": 2, \\\\\\\\\\\\\"details\\\\\\\\\\\\\": {\\\\\\\\\\\\\"selectedColumn\\\\\\\\\\\\\": \\\\\\\\\\\\\"Card_Category_Blue\\\\\\\\\\\\\"}}, \\\\\\\\\\\\\"typeProperty\\\\\\\\\\\\\": 3}, {\\\\\\\\\\\\\"column\\\\\\\\\\\\\": {\\\\\\\\\\\\\"type\\\\\\\\\\\\\": 2, \\\\\\\\\\\\\"details\\\\\\\\\\\\\": {\\\\\\\\\\\\\"selectedColumn\\\\\\\\\\\\\": \\\\\\\\\\\\\"Card_Category_Gold\\\\\\\\\\\\\"}}, \\\\\\\\\\\\\"typeProperty\\\\\\\\\\\\\": 3}, {\\\\\\\\\\\\\"column\\\\\\\\\\\\\": {\\\\\\\\\\\\\"type\\\\\\\\\\\\\": 2, \\\\\\\\\\\\\"details\\\\\\\\\\\\\": {\\\\\\\\\\\\\"selectedColumn\\\\\\\\\\\\\": \\\\\\\\\\\\\"Card_Category_Platinum\\\\\\\\\\\\\"}}, \\\\\\\\\\\\\"typeProperty\\\\\\\\\\\\\": 3}, {\\\\\\\\\\\\\"column\\\\\\\\\\\\\": {\\\\\\\\\\\\\"type\\\\\\\\\\\\\": 2, \\\\\\\\\\\\\"details\\\\\\\\\\\\\": {\\\\\\\\\\\\\"selectedColumn\\\\\\\\\\\\\": \\\\\\\\\\\\\"Card_Category_Silver\\\\\\\\\\\\\"}}, \\\\\\\\\\\\\"typeProperty\\\\\\\\\\\\\": 3}, {\\\\\\\\\\\\\"column\\\\\\\\\\\\\": {\\\\\\\\\\\\\"type\\\\\\\\\\\\\": 2, \\\\\\\\\\\\\"details\\\\\\\\\\\\\": {\\\\\\\\\\\\\"selectedColumn\\\\\\\\\\\\\": \\\\\\\\\\\\\"Attrition_Flag\\\\\\\\\\\\\"}}, \\\\\\\\\\\\\"typeProperty\\\\\\\\\\\\\": 2}]}, \\\\\\\\\\\\\"localData\\\\\\\\\\\\\": {}, \\\\\\\\\\\\\"isEnabled\\\\\\\\\\\\\": true, \\\\\\\\\\\\\"name\\\\\\\\\\\\\": null, \\\\\\\\\\\\\"annotation\\\\\\\\\\\\\": null}], \\\\\\\\\\\\\"inspectors\\\\\\\\\\\\\": [], \\\\\\\\\\\\\"meta\\\\\\\\\\\\\": {\\\\\\\\\\\\\"savedDatasetId\\\\\\\\\\\\\": \\\\\\\\\\\\\"39f6bc19-4a7e-40b6-a3e0-2ed632a66631\\\\\\\\\\\\\", \\\\\\\\\\\\\"datasetType\\\\\\\\\\\\\": \\\\\\\\\\\\\"tabular\\\\\\\\\\\\\", \\\\\\\\\\\\\"subscriptionId\\\\\\\\\\\\\": \\\\\\\\\\\\\"cdbe0b43-92a0-4715-838a-f2648cc7ad21\\\\\\\\\\\\\", \\\\\\\\\\\\\"workspaceId\\\\\\\\\\\\\": \\\\\\\\\\\\\"09282397-c506-457c-b8b4-96c303ccdc68\\\\\\\\\\\\\", \\\\\\\\\\\\\"workspaceLocation\\\\\\\\\\\\\": \\\\\\\\\\\\\"southcentralus\\\\\\\\\\\\\"}}\\\\\", \\\\\"activities\\\\\": 0}',\n",
       "  'EnableSubsampling': None,\n",
       "  'runTemplate': 'AutoML',\n",
       "  'azureml.runsource': 'automl',\n",
       "  'display_task_type': 'classification',\n",
       "  'dependencies_versions': '{\"azureml-widgets\": \"1.19.0\", \"azureml-train\": \"1.19.0\", \"azureml-train-restclients-hyperdrive\": \"1.19.0\", \"azureml-train-core\": \"1.19.0\", \"azureml-train-automl\": \"1.19.0\", \"azureml-train-automl-runtime\": \"1.19.0\", \"azureml-train-automl-client\": \"1.19.0\", \"azureml-tensorboard\": \"1.19.0\", \"azureml-telemetry\": \"1.19.0\", \"azureml-sdk\": \"1.19.0\", \"azureml-samples\": \"0+unknown\", \"azureml-pipeline\": \"1.19.0\", \"azureml-pipeline-steps\": \"1.19.0\", \"azureml-pipeline-core\": \"1.19.0\", \"azureml-opendatasets\": \"1.19.0\", \"azureml-model-management-sdk\": \"1.0.1b6.post1\", \"azureml-mlflow\": \"1.19.0\", \"azureml-interpret\": \"1.19.0\", \"azureml-explain-model\": \"1.19.0\", \"azureml-defaults\": \"1.19.0\", \"azureml-dataset-runtime\": \"1.19.0\", \"azureml-dataprep\": \"2.6.1\", \"azureml-dataprep-rslex\": \"1.4.0\", \"azureml-dataprep-native\": \"26.0.0\", \"azureml-datadrift\": \"1.19.0\", \"azureml-core\": \"1.19.0\", \"azureml-contrib-services\": \"1.19.0\", \"azureml-contrib-server\": \"1.19.0\", \"azureml-contrib-reinforcementlearning\": \"1.19.0\", \"azureml-contrib-pipeline-steps\": \"1.19.0\", \"azureml-contrib-notebook\": \"1.19.0\", \"azureml-contrib-interpret\": \"1.19.0\", \"azureml-contrib-gbdt\": \"1.19.0\", \"azureml-contrib-fairness\": \"1.19.0\", \"azureml-contrib-dataset\": \"1.19.0\", \"azureml-cli-common\": \"1.19.0\", \"azureml-automl-runtime\": \"1.19.0\", \"azureml-automl-core\": \"1.19.0\", \"azureml-accel-models\": \"1.19.0\"}',\n",
       "  '_aml_system_scenario_identification': 'Remote.Parent',\n",
       "  'ClientType': 'SDK',\n",
       "  'environment_cpu_name': 'AzureML-AutoML',\n",
       "  'environment_cpu_label': 'prod',\n",
       "  'environment_gpu_name': 'AzureML-AutoML-GPU',\n",
       "  'environment_gpu_label': 'prod',\n",
       "  'root_attribution': 'automl',\n",
       "  'attribution': 'AutoML',\n",
       "  'Orchestrator': 'AutoML',\n",
       "  'CancelUri': 'https://southcentralus.experiments.azureml.net/jasmine/v1.0/subscriptions/cdbe0b43-92a0-4715-838a-f2648cc7ad21/resourceGroups/aml-quickstarts-133172/providers/Microsoft.MachineLearningServices/workspaces/quick-starts-ws-133172/experimentids/f11f4c1c-b09c-45c4-a730-8fbb5402e9d0/cancel/AutoML_e11c5b6a-8bb5-49f5-94c6-8788e142e345',\n",
       "  'ClientSdkVersion': '1.19.0',\n",
       "  'snapshotId': '00000000-0000-0000-0000-000000000000',\n",
       "  'SetupRunId': 'AutoML_e11c5b6a-8bb5-49f5-94c6-8788e142e345_setup',\n",
       "  'SetupRunContainerId': 'dcid.AutoML_e11c5b6a-8bb5-49f5-94c6-8788e142e345_setup',\n",
       "  'FeaturizationRunJsonPath': 'featurizer_container.json',\n",
       "  'FeaturizationRunId': 'AutoML_e11c5b6a-8bb5-49f5-94c6-8788e142e345_featurize',\n",
       "  'ProblemInfoJsonString': '{\"dataset_num_categorical\": 0, \"is_sparse\": false, \"subsampling\": false, \"dataset_classes\": 2, \"dataset_features\": 24, \"dataset_samples\": 8101, \"single_frequency_class_detected\": false}',\n",
       "  'ModelExplainRunId': 'AutoML_e11c5b6a-8bb5-49f5-94c6-8788e142e345_ModelExplain'},\n",
       " 'inputDatasets': [{'dataset': {'id': '39f6bc19-4a7e-40b6-a3e0-2ed632a66631'}, 'consumptionDetails': {'type': 'RunInput', 'inputName': 'training_data', 'mechanism': 'Direct'}}],\n",
       " 'outputDatasets': [],\n",
       " 'logFiles': {}}"
      ]
     },
     "execution_count": 13,
     "metadata": {},
     "output_type": "execute_result"
    }
   ],
   "source": [
    "RunDetails(remote_run).show()\n",
    "remote_run.wait_for_completion(show_output=True)"
   ]
  },
  {
   "cell_type": "markdown",
   "metadata": {},
   "source": [
    "## Best Model"
   ]
  },
  {
   "cell_type": "code",
   "execution_count": 14,
   "metadata": {
    "collapsed": false,
    "gather": {
     "logged": 1598431425670
    },
    "jupyter": {
     "outputs_hidden": false,
     "source_hidden": false
    },
    "nteract": {
     "transient": {
      "deleting": false
     }
    }
   },
   "outputs": [
    {
     "name": "stdout",
     "output_type": "stream",
     "text": [
      "Best Run ID AutoML_e11c5b6a-8bb5-49f5-94c6-8788e142e345_48\n"
     ]
    }
   ],
   "source": [
    "best_run, fitted_automl_best_model = remote_run.get_output()\n",
    "best_run_metrics = best_run.get_metrics()\n",
    "print('Best Run ID',best_run.id)"
   ]
  },
  {
   "cell_type": "code",
   "execution_count": 15,
   "metadata": {},
   "outputs": [
    {
     "data": {
      "text/html": [
       "<table style=\"width:100%\"><tr><th>Experiment</th><th>Id</th><th>Type</th><th>Status</th><th>Details Page</th><th>Docs Page</th></tr><tr><td>automl-experiment</td><td>AutoML_e11c5b6a-8bb5-49f5-94c6-8788e142e345_48</td><td>azureml.scriptrun</td><td>Completed</td><td><a href=\"https://ml.azure.com/experiments/automl-experiment/runs/AutoML_e11c5b6a-8bb5-49f5-94c6-8788e142e345_48?wsid=/subscriptions/cdbe0b43-92a0-4715-838a-f2648cc7ad21/resourcegroups/aml-quickstarts-133172/workspaces/quick-starts-ws-133172\" target=\"_blank\" rel=\"noopener\">Link to Azure Machine Learning studio</a></td><td><a href=\"https://docs.microsoft.com/en-us/python/api/azureml-core/azureml.core.run.Run?view=azure-ml-py\" target=\"_blank\" rel=\"noopener\">Link to Documentation</a></td></tr></table>"
      ],
      "text/plain": [
       "Run(Experiment: automl-experiment,\n",
       "Id: AutoML_e11c5b6a-8bb5-49f5-94c6-8788e142e345_48,\n",
       "Type: azureml.scriptrun,\n",
       "Status: Completed)"
      ]
     },
     "execution_count": 15,
     "metadata": {},
     "output_type": "execute_result"
    }
   ],
   "source": [
    "best_run"
   ]
  },
  {
   "cell_type": "code",
   "execution_count": 16,
   "metadata": {},
   "outputs": [
    {
     "data": {
      "text/plain": [
       "Pipeline(memory=None,\n",
       "         steps=[('datatransformer',\n",
       "                 DataTransformer(enable_dnn=None, enable_feature_sweeping=None,\n",
       "                                 feature_sweeping_config=None,\n",
       "                                 feature_sweeping_timeout=None,\n",
       "                                 featurization_config=None, force_text_dnn=None,\n",
       "                                 is_cross_validation=None,\n",
       "                                 is_onnx_compatible=None, logger=None,\n",
       "                                 observer=None, task=None, working_dir=None)),\n",
       "                ('prefittedsoftvotingclassifier',...\n",
       "                                                                                               max_delta_step=0,\n",
       "                                                                                               max_depth=3,\n",
       "                                                                                               min_child_weight=1,\n",
       "                                                                                               missing=nan,\n",
       "                                                                                               n_estimators=100,\n",
       "                                                                                               n_jobs=-1,\n",
       "                                                                                               nthread=None,\n",
       "                                                                                               objective='binary:logistic',\n",
       "                                                                                               random_state=0,\n",
       "                                                                                               reg_alpha=0,\n",
       "                                                                                               reg_lambda=1,\n",
       "                                                                                               scale_pos_weight=1,\n",
       "                                                                                               seed=None,\n",
       "                                                                                               silent=None,\n",
       "                                                                                               subsample=1,\n",
       "                                                                                               tree_method='auto',\n",
       "                                                                                               verbose=-10,\n",
       "                                                                                               verbosity=0))],\n",
       "                                                                     verbose=False))],\n",
       "                                               flatten_transform=None,\n",
       "                                               weights=[0.25, 0.125, 0.25, 0.25,\n",
       "                                                        0.125]))],\n",
       "         verbose=False)"
      ]
     },
     "execution_count": 16,
     "metadata": {},
     "output_type": "execute_result"
    }
   ],
   "source": [
    "fitted_automl_best_model"
   ]
  },
  {
   "cell_type": "code",
   "execution_count": 17,
   "metadata": {},
   "outputs": [
    {
     "name": "stdout",
     "output_type": "stream",
     "text": [
      "norm_macro_recall 0.8660260093730742\n",
      "AUC_weighted 0.9927944857570982\n",
      "recall_score_macro 0.9330130046865371\n",
      "precision_score_weighted 0.9701690550316985\n",
      "average_precision_score_weighted 0.9936296828929193\n",
      "f1_score_macro 0.9442118759500877\n",
      "average_precision_score_micro 0.9961257572641081\n",
      "balanced_accuracy 0.9330130046865371\n",
      "accuracy 0.9704978951554294\n",
      "recall_score_weighted 0.9704978951554294\n",
      "f1_score_weighted 0.9700848567388606\n",
      "precision_score_macro 0.9567558629533055\n",
      "AUC_micro 0.9960408500806284\n",
      "recall_score_micro 0.9704978951554294\n",
      "weighted_accuracy 0.9844840930277049\n",
      "precision_score_micro 0.9704978951554294\n",
      "log_loss 0.08478242324314617\n",
      "average_precision_score_macro 0.9832869304305846\n",
      "matthews_correlation 0.8893423375469977\n",
      "AUC_macro 0.9927944857570982\n",
      "f1_score_micro 0.9704978951554294\n",
      "confusion_matrix aml://artifactId/ExperimentRun/dcid.AutoML_e11c5b6a-8bb5-49f5-94c6-8788e142e345_48/confusion_matrix\n",
      "accuracy_table aml://artifactId/ExperimentRun/dcid.AutoML_e11c5b6a-8bb5-49f5-94c6-8788e142e345_48/accuracy_table\n",
      "\n",
      "Accuracy of Best run\n",
      "0.9704978951554294\n",
      "Run(Experiment: automl-experiment,\n",
      "Id: AutoML_e11c5b6a-8bb5-49f5-94c6-8788e142e345_48,\n",
      "Type: azureml.scriptrun,\n",
      "Status: Completed)\n"
     ]
    },
    {
     "data": {
      "text/plain": [
       "'AutoMLe11c5b6a848'"
      ]
     },
     "execution_count": 17,
     "metadata": {},
     "output_type": "execute_result"
    }
   ],
   "source": [
    "# Metric in best run\n",
    "for metric_name in best_run_metrics:\n",
    "    metric = best_run_metrics[metric_name]\n",
    "    print(metric_name, metric)\n",
    "    \n",
    "print('\\nAccuracy of Best run',best_run_metrics['accuracy'],sep='\\n')\n",
    "print(best_run)\n",
    "\n",
    "model_name = best_run.properties['model_name']\n",
    "model_name"
   ]
  },
  {
   "cell_type": "code",
   "execution_count": 18,
   "metadata": {
    "collapsed": false,
    "gather": {
     "logged": 1598431426111
    },
    "jupyter": {
     "outputs_hidden": false,
     "source_hidden": false
    },
    "nteract": {
     "transient": {
      "deleting": false
     }
    }
   },
   "outputs": [
    {
     "data": {
      "text/plain": [
       "['outputs/automl.joblib']"
      ]
     },
     "execution_count": 18,
     "metadata": {},
     "output_type": "execute_result"
    }
   ],
   "source": [
    "#TODO: Save the best model\n",
    "\n",
    "os.makedirs('./outputs', exist_ok=True)\n",
    "\n",
    "joblib.dump(fitted_automl_best_model, filename='outputs/automl.joblib')"
   ]
  },
  {
   "cell_type": "markdown",
   "metadata": {},
   "source": [
    "## Fetch Environment"
   ]
  },
  {
   "cell_type": "code",
   "execution_count": 19,
   "metadata": {},
   "outputs": [],
   "source": [
    "env = best_run.get_environment()\n",
    "\n",
    "script_file = 'score.py'\n",
    "best_run.download_file('outputs/scoring_file_v_1_0_0.py', script_file)"
   ]
  },
  {
   "cell_type": "markdown",
   "metadata": {},
   "source": [
    "## Model Deployment\n",
    "\n",
    "Remember you have to deploy only one of the two models you trained.. Perform the steps in the rest of this notebook only if you wish to deploy this model.\n",
    "\n",
    "TODO: In the cell below, register the model, create an inference config and deploy the model as a web service."
   ]
  },
  {
   "cell_type": "code",
   "execution_count": 20,
   "metadata": {
    "collapsed": false,
    "gather": {
     "logged": 1598431435189
    },
    "jupyter": {
     "outputs_hidden": false,
     "source_hidden": false
    },
    "nteract": {
     "transient": {
      "deleting": false
     }
    }
   },
   "outputs": [
    {
     "name": "stdout",
     "output_type": "stream",
     "text": [
      "AutoMLe11c5b6a848\tAutoMLe11c5b6a848:1\t1\n"
     ]
    }
   ],
   "source": [
    "#Register the model\n",
    "model = remote_run.register_model(model_name=model_name)\n",
    "print(model.name, model.id, model.version, sep='\\t')"
   ]
  },
  {
   "cell_type": "code",
   "execution_count": 38,
   "metadata": {},
   "outputs": [
    {
     "name": "stdout",
     "output_type": "stream",
     "text": [
      "Tips: You can try get_logs(): https://aka.ms/debugimage#dockerlog or local deployment: https://aka.ms/debugimage#debug-locally to debug if deployment takes longer than 10 minutes.\n",
      "Running............................................\n",
      "Succeeded\n",
      "ACI service creation operation finished, operation \"Succeeded\"\n",
      "State:  Healthy\n",
      "\n",
      "Scoring URI:  http://32ea274d-570e-4bbe-b466-a7df0f57c754.southcentralus.azurecontainer.io/score\n",
      "\n",
      "Service Logs:\n",
      " 2021-01-03T16:32:17,333749800+00:00 - gunicorn/run \n",
      "2021-01-03T16:32:17,335105200+00:00 - rsyslog/run \n",
      "2021-01-03T16:32:17,355191100+00:00 - iot-server/run \n",
      "rsyslogd: /azureml-envs/azureml_8eff28b157f42edcd2424a5aae6c8074/lib/libuuid.so.1: no version information available (required by rsyslogd)\n",
      "2021-01-03T16:32:17,369622900+00:00 - nginx/run \n",
      "/usr/sbin/nginx: /azureml-envs/azureml_8eff28b157f42edcd2424a5aae6c8074/lib/libcrypto.so.1.0.0: no version information available (required by /usr/sbin/nginx)\n",
      "/usr/sbin/nginx: /azureml-envs/azureml_8eff28b157f42edcd2424a5aae6c8074/lib/libcrypto.so.1.0.0: no version information available (required by /usr/sbin/nginx)\n",
      "/usr/sbin/nginx: /azureml-envs/azureml_8eff28b157f42edcd2424a5aae6c8074/lib/libssl.so.1.0.0: no version information available (required by /usr/sbin/nginx)\n",
      "/usr/sbin/nginx: /azureml-envs/azureml_8eff28b157f42edcd2424a5aae6c8074/lib/libssl.so.1.0.0: no version information available (required by /usr/sbin/nginx)\n",
      "/usr/sbin/nginx: /azureml-envs/azureml_8eff28b157f42edcd2424a5aae6c8074/lib/libssl.so.1.0.0: no version information available (required by /usr/sbin/nginx)\n",
      "EdgeHubConnectionString and IOTEDGE_IOTHUBHOSTNAME are not set. Exiting...\n",
      "2021-01-03T16:32:18,835704300+00:00 - iot-server/finish 1 0\n",
      "2021-01-03T16:32:18,841011800+00:00 - Exit code 1 is normal. Not restarting iot-server.\n",
      "Starting gunicorn 19.9.0\n",
      "Listening at: http://127.0.0.1:31311 (68)\n",
      "Using worker: sync\n",
      "worker timeout is set to 300\n",
      "Booting worker with pid: 97\n",
      "SPARK_HOME not set. Skipping PySpark Initialization.\n",
      "Generating new fontManager, this may take some time...\n",
      "Initializing logger\n",
      "2021-01-03 16:32:23,199 | root | INFO | Starting up app insights client\n",
      "Starting up app insights client\n",
      "2021-01-03 16:32:23,200 | root | INFO | Starting up request id generator\n",
      "Starting up request id generator\n",
      "2021-01-03 16:32:23,200 | root | INFO | Starting up app insight hooks\n",
      "Starting up app insight hooks\n",
      "2021-01-03 16:32:23,200 | root | INFO | Invoking user's init function\n",
      "Invoking user's init function\n",
      "2021-01-03 16:32:30,734 | root | INFO | Users's init has completed successfully\n",
      "Users's init has completed successfully\n",
      "2021-01-03 16:32:30,740 | root | INFO | Skipping middleware: dbg_model_info as it's not enabled.\n",
      "Skipping middleware: dbg_model_info as it's not enabled.\n",
      "2021-01-03 16:32:30,740 | root | INFO | Skipping middleware: dbg_resource_usage as it's not enabled.\n",
      "Skipping middleware: dbg_resource_usage as it's not enabled.\n",
      "2021-01-03 16:32:30,741 | root | INFO | Scoring timeout is found from os.environ: 60000 ms\n",
      "Scoring timeout is found from os.environ: 60000 ms\n",
      "2021-01-03 16:32:30,759 | root | INFO | 200\n",
      "200\n",
      "127.0.0.1 - - [03/Jan/2021:16:32:30 +0000] \"GET /swagger.json HTTP/1.0\" 200 4100 \"-\" \"Go-http-client/1.1\"\n",
      "2021-01-03 16:32:38,390 | root | INFO | 200\n",
      "200\n",
      "127.0.0.1 - - [03/Jan/2021:16:32:38 +0000] \"GET /swagger.json HTTP/1.0\" 200 4100 \"-\" \"Go-http-client/1.1\"\n",
      "\n"
     ]
    }
   ],
   "source": [
    "from azureml.core.model import InferenceConfig\n",
    "from azureml.core.webservice import AciWebservice\n",
    "from azureml.core.webservice import Webservice\n",
    "from azureml.core.model import Model\n",
    "from azureml.core.environment import Environment\n",
    "\n",
    "inference_config = InferenceConfig(entry_script=script_file, environment=env)\n",
    "\n",
    "deployment_config = AciWebservice.deploy_configuration(cpu_cores = 1, \n",
    "                                                       memory_gb = 1)\n",
    "\n",
    "deploy_service_name= 'automl-model-deployment'\n",
    "service = Model.deploy(ws,deploy_service_name,  [model], inference_config, deployment_config)\n",
    "\n",
    "service.wait_for_deployment(show_output = True)\n",
    "\n",
    "scoring_uri = service.scoring_uri\n",
    "\n",
    "print(\"State: \",service.state)\n",
    "print(\"\\nScoring URI: \", scoring_uri)\n",
    "print(\"\\nService Logs:\\n\",service.get_logs())"
   ]
  },
  {
   "cell_type": "markdown",
   "metadata": {
    "gather": {
     "logged": 1598431657736
    },
    "jupyter": {
     "outputs_hidden": false,
     "source_hidden": false
    },
    "nteract": {
     "transient": {
      "deleting": false
     }
    }
   },
   "source": [
    "## Test the Deploy model with two different methods\n",
    "\n",
    "### Method 1"
   ]
  },
  {
   "cell_type": "code",
   "execution_count": 39,
   "metadata": {},
   "outputs": [
    {
     "ename": "JSONDecodeError",
     "evalue": "Expecting value: line 1 column 1 (char 0)",
     "output_type": "error",
     "traceback": [
      "\u001b[0;31m---------------------------------------------------------------------------\u001b[0m",
      "\u001b[0;31mJSONDecodeError\u001b[0m                           Traceback (most recent call last)",
      "\u001b[0;32m/mnt/batch/tasks/shared/LS_root/mounts/clusters/compute-aml-cluster/code/Users/odl_user_133172/endpoint.py\u001b[0m in \u001b[0;36m<module>\u001b[0;34m\u001b[0m\n\u001b[1;32m     65\u001b[0m \u001b[0;31m# Make the request and display the response\u001b[0m\u001b[0;34m\u001b[0m\u001b[0;34m\u001b[0m\u001b[0;34m\u001b[0m\u001b[0m\n\u001b[1;32m     66\u001b[0m \u001b[0mresp\u001b[0m \u001b[0;34m=\u001b[0m \u001b[0mrequests\u001b[0m\u001b[0;34m.\u001b[0m\u001b[0mpost\u001b[0m\u001b[0;34m(\u001b[0m\u001b[0mscoring_uri\u001b[0m\u001b[0;34m,\u001b[0m \u001b[0minput_data\u001b[0m\u001b[0;34m,\u001b[0m \u001b[0mheaders\u001b[0m\u001b[0;34m=\u001b[0m\u001b[0mheaders\u001b[0m\u001b[0;34m)\u001b[0m\u001b[0;34m\u001b[0m\u001b[0;34m\u001b[0m\u001b[0m\n\u001b[0;32m---> 67\u001b[0;31m \u001b[0mprint\u001b[0m\u001b[0;34m(\u001b[0m\u001b[0mresp\u001b[0m\u001b[0;34m.\u001b[0m\u001b[0mjson\u001b[0m\u001b[0;34m(\u001b[0m\u001b[0;34m)\u001b[0m\u001b[0;34m)\u001b[0m\u001b[0;34m\u001b[0m\u001b[0;34m\u001b[0m\u001b[0m\n\u001b[0m\u001b[1;32m     68\u001b[0m \u001b[0;34m\u001b[0m\u001b[0m\n\u001b[1;32m     69\u001b[0m \u001b[0;34m\u001b[0m\u001b[0m\n",
      "\u001b[0;32m/anaconda/envs/azureml_py36/lib/python3.6/site-packages/requests/models.py\u001b[0m in \u001b[0;36mjson\u001b[0;34m(self, **kwargs)\u001b[0m\n\u001b[1;32m    898\u001b[0m                     \u001b[0;31m# used.\u001b[0m\u001b[0;34m\u001b[0m\u001b[0;34m\u001b[0m\u001b[0;34m\u001b[0m\u001b[0m\n\u001b[1;32m    899\u001b[0m                     \u001b[0;32mpass\u001b[0m\u001b[0;34m\u001b[0m\u001b[0;34m\u001b[0m\u001b[0m\n\u001b[0;32m--> 900\u001b[0;31m         \u001b[0;32mreturn\u001b[0m \u001b[0mcomplexjson\u001b[0m\u001b[0;34m.\u001b[0m\u001b[0mloads\u001b[0m\u001b[0;34m(\u001b[0m\u001b[0mself\u001b[0m\u001b[0;34m.\u001b[0m\u001b[0mtext\u001b[0m\u001b[0;34m,\u001b[0m \u001b[0;34m**\u001b[0m\u001b[0mkwargs\u001b[0m\u001b[0;34m)\u001b[0m\u001b[0;34m\u001b[0m\u001b[0;34m\u001b[0m\u001b[0m\n\u001b[0m\u001b[1;32m    901\u001b[0m \u001b[0;34m\u001b[0m\u001b[0m\n\u001b[1;32m    902\u001b[0m     \u001b[0;34m@\u001b[0m\u001b[0mproperty\u001b[0m\u001b[0;34m\u001b[0m\u001b[0;34m\u001b[0m\u001b[0m\n",
      "\u001b[0;32m/anaconda/envs/azureml_py36/lib/python3.6/json/__init__.py\u001b[0m in \u001b[0;36mloads\u001b[0;34m(s, encoding, cls, object_hook, parse_float, parse_int, parse_constant, object_pairs_hook, **kw)\u001b[0m\n\u001b[1;32m    352\u001b[0m             \u001b[0mparse_int\u001b[0m \u001b[0;32mis\u001b[0m \u001b[0;32mNone\u001b[0m \u001b[0;32mand\u001b[0m \u001b[0mparse_float\u001b[0m \u001b[0;32mis\u001b[0m \u001b[0;32mNone\u001b[0m \u001b[0;32mand\u001b[0m\u001b[0;34m\u001b[0m\u001b[0;34m\u001b[0m\u001b[0m\n\u001b[1;32m    353\u001b[0m             parse_constant is None and object_pairs_hook is None and not kw):\n\u001b[0;32m--> 354\u001b[0;31m         \u001b[0;32mreturn\u001b[0m \u001b[0m_default_decoder\u001b[0m\u001b[0;34m.\u001b[0m\u001b[0mdecode\u001b[0m\u001b[0;34m(\u001b[0m\u001b[0ms\u001b[0m\u001b[0;34m)\u001b[0m\u001b[0;34m\u001b[0m\u001b[0;34m\u001b[0m\u001b[0m\n\u001b[0m\u001b[1;32m    355\u001b[0m     \u001b[0;32mif\u001b[0m \u001b[0mcls\u001b[0m \u001b[0;32mis\u001b[0m \u001b[0;32mNone\u001b[0m\u001b[0;34m:\u001b[0m\u001b[0;34m\u001b[0m\u001b[0;34m\u001b[0m\u001b[0m\n\u001b[1;32m    356\u001b[0m         \u001b[0mcls\u001b[0m \u001b[0;34m=\u001b[0m \u001b[0mJSONDecoder\u001b[0m\u001b[0;34m\u001b[0m\u001b[0;34m\u001b[0m\u001b[0m\n",
      "\u001b[0;32m/anaconda/envs/azureml_py36/lib/python3.6/json/decoder.py\u001b[0m in \u001b[0;36mdecode\u001b[0;34m(self, s, _w)\u001b[0m\n\u001b[1;32m    337\u001b[0m \u001b[0;34m\u001b[0m\u001b[0m\n\u001b[1;32m    338\u001b[0m         \"\"\"\n\u001b[0;32m--> 339\u001b[0;31m         \u001b[0mobj\u001b[0m\u001b[0;34m,\u001b[0m \u001b[0mend\u001b[0m \u001b[0;34m=\u001b[0m \u001b[0mself\u001b[0m\u001b[0;34m.\u001b[0m\u001b[0mraw_decode\u001b[0m\u001b[0;34m(\u001b[0m\u001b[0ms\u001b[0m\u001b[0;34m,\u001b[0m \u001b[0midx\u001b[0m\u001b[0;34m=\u001b[0m\u001b[0m_w\u001b[0m\u001b[0;34m(\u001b[0m\u001b[0ms\u001b[0m\u001b[0;34m,\u001b[0m \u001b[0;36m0\u001b[0m\u001b[0;34m)\u001b[0m\u001b[0;34m.\u001b[0m\u001b[0mend\u001b[0m\u001b[0;34m(\u001b[0m\u001b[0;34m)\u001b[0m\u001b[0;34m)\u001b[0m\u001b[0;34m\u001b[0m\u001b[0;34m\u001b[0m\u001b[0m\n\u001b[0m\u001b[1;32m    340\u001b[0m         \u001b[0mend\u001b[0m \u001b[0;34m=\u001b[0m \u001b[0m_w\u001b[0m\u001b[0;34m(\u001b[0m\u001b[0ms\u001b[0m\u001b[0;34m,\u001b[0m \u001b[0mend\u001b[0m\u001b[0;34m)\u001b[0m\u001b[0;34m.\u001b[0m\u001b[0mend\u001b[0m\u001b[0;34m(\u001b[0m\u001b[0;34m)\u001b[0m\u001b[0;34m\u001b[0m\u001b[0;34m\u001b[0m\u001b[0m\n\u001b[1;32m    341\u001b[0m         \u001b[0;32mif\u001b[0m \u001b[0mend\u001b[0m \u001b[0;34m!=\u001b[0m \u001b[0mlen\u001b[0m\u001b[0;34m(\u001b[0m\u001b[0ms\u001b[0m\u001b[0;34m)\u001b[0m\u001b[0;34m:\u001b[0m\u001b[0;34m\u001b[0m\u001b[0;34m\u001b[0m\u001b[0m\n",
      "\u001b[0;32m/anaconda/envs/azureml_py36/lib/python3.6/json/decoder.py\u001b[0m in \u001b[0;36mraw_decode\u001b[0;34m(self, s, idx)\u001b[0m\n\u001b[1;32m    355\u001b[0m             \u001b[0mobj\u001b[0m\u001b[0;34m,\u001b[0m \u001b[0mend\u001b[0m \u001b[0;34m=\u001b[0m \u001b[0mself\u001b[0m\u001b[0;34m.\u001b[0m\u001b[0mscan_once\u001b[0m\u001b[0;34m(\u001b[0m\u001b[0ms\u001b[0m\u001b[0;34m,\u001b[0m \u001b[0midx\u001b[0m\u001b[0;34m)\u001b[0m\u001b[0;34m\u001b[0m\u001b[0;34m\u001b[0m\u001b[0m\n\u001b[1;32m    356\u001b[0m         \u001b[0;32mexcept\u001b[0m \u001b[0mStopIteration\u001b[0m \u001b[0;32mas\u001b[0m \u001b[0merr\u001b[0m\u001b[0;34m:\u001b[0m\u001b[0;34m\u001b[0m\u001b[0;34m\u001b[0m\u001b[0m\n\u001b[0;32m--> 357\u001b[0;31m             \u001b[0;32mraise\u001b[0m \u001b[0mJSONDecodeError\u001b[0m\u001b[0;34m(\u001b[0m\u001b[0;34m\"Expecting value\"\u001b[0m\u001b[0;34m,\u001b[0m \u001b[0ms\u001b[0m\u001b[0;34m,\u001b[0m \u001b[0merr\u001b[0m\u001b[0;34m.\u001b[0m\u001b[0mvalue\u001b[0m\u001b[0;34m)\u001b[0m \u001b[0;32mfrom\u001b[0m \u001b[0;32mNone\u001b[0m\u001b[0;34m\u001b[0m\u001b[0;34m\u001b[0m\u001b[0m\n\u001b[0m\u001b[1;32m    358\u001b[0m         \u001b[0;32mreturn\u001b[0m \u001b[0mobj\u001b[0m\u001b[0;34m,\u001b[0m \u001b[0mend\u001b[0m\u001b[0;34m\u001b[0m\u001b[0;34m\u001b[0m\u001b[0m\n",
      "\u001b[0;31mJSONDecodeError\u001b[0m: Expecting value: line 1 column 1 (char 0)"
     ]
    }
   ],
   "source": [
    "%run endpoint.py"
   ]
  },
  {
   "cell_type": "code",
   "execution_count": 40,
   "metadata": {},
   "outputs": [],
   "source": [
    "### Method 2"
   ]
  },
  {
   "cell_type": "code",
   "execution_count": 41,
   "metadata": {
    "collapsed": false,
    "gather": {
     "logged": 1598432707604
    },
    "jupyter": {
     "outputs_hidden": false,
     "source_hidden": false
    },
    "nteract": {
     "transient": {
      "deleting": false
     }
    }
   },
   "outputs": [
    {
     "name": "stdout",
     "output_type": "stream",
     "text": [
      "{\"data\": [{\"Customer_Age\": 1.206778319662518, \"Gender\": 1.0599556481738364, \"Dependent_count\": -1.036462419552892, \"Education_Level\": -1.6372140257929357, \"Income_Category\": 1.3397639173688694, \"Months_on_book\": 0.008964512845950725, \"Total_Relationship_Count\": 1.4073061679039114, \"Months_Inactive_12_mon\": -1.327136030161504, \"Contacts_Count_12_mon\": -1.315635733377402, \"Credit_Limit\": 0.04390755993689662, \"Total_Revolving_Bal\": 0.45669950902500683, \"Avg_Open_To_Buy\": 0.0029548585945444205, \"Total_Amt_Chng_Q4_Q1\": -0.31907822635493943, \"Total_Trans_Amt\": -0.8248802009982372, \"Total_Trans_Ct\": -1.2721303346326203, \"Total_Ct_Chng_Q4_Q1\": -0.5091786786011017, \"Avg_Utilization_Ratio\": -0.38049320664335057, \"Marital_Status_Divorced\": -0.28240509711065837, \"Marital_Status_Married\": 1.0773379863168544, \"Marital_Status_Single\": -0.7985068536605181, \"Card_Category_Blue\": 0.27061075788044237, \"Card_Category_Gold\": -0.10764410815542748, \"Card_Category_Platinum\": -0.04448400337033954, \"Card_Category_Silver\": -0.2407937146979289}, {\"Customer_Age\": 0.45831437433967187, \"Gender\": -0.9434357010341592, \"Dependent_count\": -1.8063776929932305, \"Education_Level\": -0.8936799462734478, \"Income_Category\": -0.8876284200276294, \"Months_on_book\": 0.8854960316550902, \"Total_Relationship_Count\": 1.4073061679039114, \"Months_Inactive_12_mon\": 1.6414782926434333, \"Contacts_Count_12_mon\": -0.4116159836207899, \"Credit_Limit\": -0.6560011659007998, \"Total_Revolving_Bal\": 0.958572577910604, \"Avg_Open_To_Buy\": -0.7418002438710117, \"Total_Amt_Chng_Q4_Q1\": -0.6019301727982431, \"Total_Trans_Amt\": 0.025585716961928115, \"Total_Trans_Ct\": 0.0060203205542025545, \"Total_Ct_Chng_Q4_Q1\": -0.18995065399192315, \"Avg_Utilization_Ratio\": 1.643608422860511, \"Marital_Status_Divorced\": -0.28240509711065837, \"Marital_Status_Married\": -0.9282138128432161, \"Marital_Status_Single\": 1.2523374037627806, \"Card_Category_Blue\": 0.27061075788044237, \"Card_Category_Gold\": -0.10764410815542748, \"Card_Category_Platinum\": -0.04448400337033954, \"Card_Category_Silver\": -0.2407937146979289}, {\"Customer_Age\": -0.41489356187031523, \"Gender\": -0.9434357010341592, \"Dependent_count\": 1.2732834007681237, \"Education_Level\": 0.5933882127655281, \"Income_Category\": -0.8876284200276294, \"Months_on_book\": -0.49191064075927177, \"Total_Relationship_Count\": 1.4073061679039114, \"Months_Inactive_12_mon\": 0.6519401850417875, \"Contacts_Count_12_mon\": -1.315635733377402, \"Credit_Limit\": -0.661062603000082, \"Total_Revolving_Bal\": -0.056217221523109595, \"Avg_Open_To_Buy\": -0.6558838871464032, \"Total_Amt_Chng_Q4_Q1\": 0.3013712045529532, \"Total_Trans_Amt\": -0.13985625115631795, \"Total_Trans_Ct\": 0.09123036423332408, \"Total_Ct_Chng_Q4_Q1\": -0.49237720362167114, \"Avg_Utilization_Ratio\": 0.5481268957813601, \"Marital_Status_Divorced\": -0.28240509711065837, \"Marital_Status_Married\": 1.0773379863168544, \"Marital_Status_Single\": -0.7985068536605181, \"Card_Category_Blue\": 0.27061075788044237, \"Card_Category_Gold\": -0.10764410815542748, \"Card_Category_Platinum\": -0.04448400337033954, \"Card_Category_Silver\": -0.2407937146979289}]}\n"
     ]
    }
   ],
   "source": [
    "import json\n",
    "data_test = test_data.to_pandas_dataframe().dropna()\n",
    "data_sample = data_test.sample(3)\n",
    "y_true = data_sample.pop('Attrition_Flag')\n",
    "sample_json = json.dumps({'data':data_sample.to_dict(orient='records')})\n",
    "print(sample_json)"
   ]
  },
  {
   "cell_type": "markdown",
   "metadata": {
    "gather": {
     "logged": 1598432765711
    },
    "jupyter": {
     "outputs_hidden": false,
     "source_hidden": false
    },
    "nteract": {
     "transient": {
      "deleting": false
     }
    }
   },
   "source": [
    "TODO: In the cell below, print the logs of the web service and delete the service"
   ]
  },
  {
   "cell_type": "code",
   "execution_count": 42,
   "metadata": {
    "collapsed": false,
    "jupyter": {
     "outputs_hidden": false,
     "source_hidden": false
    },
    "nteract": {
     "transient": {
      "deleting": false
     }
    }
   },
   "outputs": [
    {
     "name": "stdout",
     "output_type": "stream",
     "text": [
      "{\"result\": [0, 0, 0]}\n"
     ]
    }
   ],
   "source": [
    "Output = service.run(sample_json)\n",
    "print(Output)"
   ]
  },
  {
   "cell_type": "code",
   "execution_count": 43,
   "metadata": {},
   "outputs": [
    {
     "name": "stdout",
     "output_type": "stream",
     "text": [
      "Prediction:  {\"result\": [0, 0, 0]}\n",
      "True Values:  [0 0 0]\n"
     ]
    }
   ],
   "source": [
    "print('Prediction: ',Output)\n",
    "print('True Values: ', y_true.values)"
   ]
  },
  {
   "cell_type": "code",
   "execution_count": 44,
   "metadata": {},
   "outputs": [
    {
     "data": {
      "text/plain": [
       "'2021-01-03T16:32:17,333749800+00:00 - gunicorn/run \\n2021-01-03T16:32:17,335105200+00:00 - rsyslog/run \\n2021-01-03T16:32:17,355191100+00:00 - iot-server/run \\nrsyslogd: /azureml-envs/azureml_8eff28b157f42edcd2424a5aae6c8074/lib/libuuid.so.1: no version information available (required by rsyslogd)\\n2021-01-03T16:32:17,369622900+00:00 - nginx/run \\n/usr/sbin/nginx: /azureml-envs/azureml_8eff28b157f42edcd2424a5aae6c8074/lib/libcrypto.so.1.0.0: no version information available (required by /usr/sbin/nginx)\\n/usr/sbin/nginx: /azureml-envs/azureml_8eff28b157f42edcd2424a5aae6c8074/lib/libcrypto.so.1.0.0: no version information available (required by /usr/sbin/nginx)\\n/usr/sbin/nginx: /azureml-envs/azureml_8eff28b157f42edcd2424a5aae6c8074/lib/libssl.so.1.0.0: no version information available (required by /usr/sbin/nginx)\\n/usr/sbin/nginx: /azureml-envs/azureml_8eff28b157f42edcd2424a5aae6c8074/lib/libssl.so.1.0.0: no version information available (required by /usr/sbin/nginx)\\n/usr/sbin/nginx: /azureml-envs/azureml_8eff28b157f42edcd2424a5aae6c8074/lib/libssl.so.1.0.0: no version information available (required by /usr/sbin/nginx)\\nEdgeHubConnectionString and IOTEDGE_IOTHUBHOSTNAME are not set. Exiting...\\n2021-01-03T16:32:18,835704300+00:00 - iot-server/finish 1 0\\n2021-01-03T16:32:18,841011800+00:00 - Exit code 1 is normal. Not restarting iot-server.\\nStarting gunicorn 19.9.0\\nListening at: http://127.0.0.1:31311 (68)\\nUsing worker: sync\\nworker timeout is set to 300\\nBooting worker with pid: 97\\nSPARK_HOME not set. Skipping PySpark Initialization.\\nGenerating new fontManager, this may take some time...\\nInitializing logger\\n2021-01-03 16:32:23,199 | root | INFO | Starting up app insights client\\nStarting up app insights client\\n2021-01-03 16:32:23,200 | root | INFO | Starting up request id generator\\nStarting up request id generator\\n2021-01-03 16:32:23,200 | root | INFO | Starting up app insight hooks\\nStarting up app insight hooks\\n2021-01-03 16:32:23,200 | root | INFO | Invoking user\\'s init function\\nInvoking user\\'s init function\\n2021-01-03 16:32:30,734 | root | INFO | Users\\'s init has completed successfully\\nUsers\\'s init has completed successfully\\n2021-01-03 16:32:30,740 | root | INFO | Skipping middleware: dbg_model_info as it\\'s not enabled.\\nSkipping middleware: dbg_model_info as it\\'s not enabled.\\n2021-01-03 16:32:30,740 | root | INFO | Skipping middleware: dbg_resource_usage as it\\'s not enabled.\\nSkipping middleware: dbg_resource_usage as it\\'s not enabled.\\n2021-01-03 16:32:30,741 | root | INFO | Scoring timeout is found from os.environ: 60000 ms\\nScoring timeout is found from os.environ: 60000 ms\\n2021-01-03 16:32:30,759 | root | INFO | 200\\n200\\n127.0.0.1 - - [03/Jan/2021:16:32:30 +0000] \"GET /swagger.json HTTP/1.0\" 200 4100 \"-\" \"Go-http-client/1.1\"\\n2021-01-03 16:32:38,390 | root | INFO | 200\\n200\\n127.0.0.1 - - [03/Jan/2021:16:32:38 +0000] \"GET /swagger.json HTTP/1.0\" 200 4100 \"-\" \"Go-http-client/1.1\"\\n2021-01-03 16:32:53,688 | root | INFO | 200\\n200\\n127.0.0.1 - - [03/Jan/2021:16:32:53 +0000] \"GET /swagger.json HTTP/1.0\" 200 4100 \"-\" \"Go-http-client/1.1\"\\n2021-01-03 16:32:54,050 | root | INFO | 200\\n200\\n127.0.0.1 - - [03/Jan/2021:16:32:54 +0000] \"GET /swagger.json HTTP/1.0\" 200 4100 \"-\" \"Go-http-client/1.1\"\\n2021-01-03 16:33:16,269 | root | INFO | Validation Request Content-Type\\nValidation Request Content-Type\\n2021-01-03 16:33:16,269 | root | INFO | \\tHost: localhost:5001\\n\\tHost: localhost:5001\\n2021-01-03 16:33:16,269 | root | INFO | \\tX-Real-Ip: 127.0.0.1\\n\\tX-Real-Ip: 127.0.0.1\\n2021-01-03 16:33:16,269 | root | INFO | \\tX-Forwarded-For: 127.0.0.1\\n\\tX-Forwarded-For: 127.0.0.1\\n2021-01-03 16:33:16,270 | root | INFO | \\tX-Forwarded-Proto: http\\n\\tX-Forwarded-Proto: http\\n2021-01-03 16:33:16,270 | root | INFO | \\tConnection: close\\n\\tConnection: close\\n2021-01-03 16:33:16,270 | root | INFO | \\tContent-Length: 812\\n\\tContent-Length: 812\\n2021-01-03 16:33:16,270 | root | INFO | \\tUser-Agent: python-requests/2.25.0\\n\\tUser-Agent: python-requests/2.25.0\\n2021-01-03 16:33:16,270 | root | INFO | \\tAccept: */*\\n\\tAccept: */*\\n2021-01-03 16:33:16,270 | root | INFO | \\tAccept-Encoding: gzip, deflate\\n\\tAccept-Encoding: gzip, deflate\\n2021-01-03 16:33:16,270 | root | INFO | \\tContent-Type: application/json\\n\\tContent-Type: application/json\\n2021-01-03 16:33:16,270 | root | INFO | \\tX-Ms-Request-Id: 7c1319f6-0a3d-4fb4-8318-4b254b6f144c\\n\\tX-Ms-Request-Id: 7c1319f6-0a3d-4fb4-8318-4b254b6f144c\\n2021-01-03 16:33:16,271 | root | INFO | Scoring Timer is set to 60.0 seconds\\nScoring Timer is set to 60.0 seconds\\n2021-01-03 16:33:16,289 | root | ERROR | Encountered Exception: Traceback (most recent call last):\\n  File \"/var/azureml-server/app.py\", line 239, in run_scoring\\n    response = invoke_user_with_timer(service_input, request_headers)\\n  File \"/var/azureml-server/app.py\", line 309, in invoke_user_with_timer\\n    result = user_main.run(**params)\\n  File \"/azureml-envs/azureml_8eff28b157f42edcd2424a5aae6c8074/lib/python3.6/site-packages/wrapt/wrappers.py\", line 564, in __call__\\n    args, kwargs)\\n  File \"/azureml-envs/azureml_8eff28b157f42edcd2424a5aae6c8074/lib/python3.6/site-packages/inference_schema/schema_decorators.py\", line 57, in decorator_input\\n    kwargs[param_name] = _deserialize_input_argument(kwargs[param_name], param_type, param_name)\\n  File \"/azureml-envs/azureml_8eff28b157f42edcd2424a5aae6c8074/lib/python3.6/site-packages/inference_schema/schema_decorators.py\", line 285, in _deserialize_input_argument\\n    input_data = param_type.deserialize_input(input_data)\\n  File \"/azureml-envs/azureml_8eff28b157f42edcd2424a5aae6c8074/lib/python3.6/site-packages/inference_schema/parameter_types/pandas_parameter_type.py\", line 79, in deserialize_input\\n    data_frame.shape[dim], dim, expected_shape[dim]))\\nValueError: Invalid input data frame: data frame has size 20 on dimension #1, while expected value is 24\\n\\nDuring handling of the above exception, another exception occurred:\\n\\nTraceback (most recent call last):\\n  File \"/azureml-envs/azureml_8eff28b157f42edcd2424a5aae6c8074/lib/python3.6/site-packages/flask/app.py\", line 1832, in full_dispatch_request\\n    rv = self.dispatch_request()\\n  File \"/azureml-envs/azureml_8eff28b157f42edcd2424a5aae6c8074/lib/python3.6/site-packages/flask/app.py\", line 1818, in dispatch_request\\n    return self.view_functions[rule.endpoint](**req.view_args)\\n  File \"/var/azureml-server/app.py\", line 142, in score_realtime\\n    return run_scoring(service_input, request.headers, request.environ.get(\\'REQUEST_ID\\', \\'00000000-0000-0000-0000-000000000000\\'))\\n  File \"/var/azureml-server/app.py\", line 252, in run_scoring\\n    raise RunFunctionException(str(exc))\\nrun_function_exception.RunFunctionException\\n\\nEncountered Exception: Traceback (most recent call last):\\n  File \"/var/azureml-server/app.py\", line 239, in run_scoring\\n    response = invoke_user_with_timer(service_input, request_headers)\\n  File \"/var/azureml-server/app.py\", line 309, in invoke_user_with_timer\\n    result = user_main.run(**params)\\n  File \"/azureml-envs/azureml_8eff28b157f42edcd2424a5aae6c8074/lib/python3.6/site-packages/wrapt/wrappers.py\", line 564, in __call__\\n    args, kwargs)\\n  File \"/azureml-envs/azureml_8eff28b157f42edcd2424a5aae6c8074/lib/python3.6/site-packages/inference_schema/schema_decorators.py\", line 57, in decorator_input\\n    kwargs[param_name] = _deserialize_input_argument(kwargs[param_name], param_type, param_name)\\n  File \"/azureml-envs/azureml_8eff28b157f42edcd2424a5aae6c8074/lib/python3.6/site-packages/inference_schema/schema_decorators.py\", line 285, in _deserialize_input_argument\\n    input_data = param_type.deserialize_input(input_data)\\n  File \"/azureml-envs/azureml_8eff28b157f42edcd2424a5aae6c8074/lib/python3.6/site-packages/inference_schema/parameter_types/pandas_parameter_type.py\", line 79, in deserialize_input\\n    data_frame.shape[dim], dim, expected_shape[dim]))\\nValueError: Invalid input data frame: data frame has size 20 on dimension #1, while expected value is 24\\n\\nDuring handling of the above exception, another exception occurred:\\n\\nTraceback (most recent call last):\\n  File \"/azureml-envs/azureml_8eff28b157f42edcd2424a5aae6c8074/lib/python3.6/site-packages/flask/app.py\", line 1832, in full_dispatch_request\\n    rv = self.dispatch_request()\\n  File \"/azureml-envs/azureml_8eff28b157f42edcd2424a5aae6c8074/lib/python3.6/site-packages/flask/app.py\", line 1818, in dispatch_request\\n    return self.view_functions[rule.endpoint](**req.view_args)\\n  File \"/var/azureml-server/app.py\", line 142, in score_realtime\\n    return run_scoring(service_input, request.headers, request.environ.get(\\'REQUEST_ID\\', \\'00000000-0000-0000-0000-000000000000\\'))\\n  File \"/var/azureml-server/app.py\", line 252, in run_scoring\\n    raise RunFunctionException(str(exc))\\nrun_function_exception.RunFunctionException\\n\\n2021-01-03 16:33:16,290 | root | INFO | 500\\n500\\n127.0.0.1 - - [03/Jan/2021:16:33:16 +0000] \"POST /score HTTP/1.0\" 500 92 \"-\" \"python-requests/2.25.0\"\\n2021-01-03 16:33:32,616 | root | INFO | Validation Request Content-Type\\nValidation Request Content-Type\\n2021-01-03 16:33:32,617 | root | INFO | \\tHost: localhost:5001\\n\\tHost: localhost:5001\\n2021-01-03 16:33:32,617 | root | INFO | \\tX-Real-Ip: 127.0.0.1\\n\\tX-Real-Ip: 127.0.0.1\\n2021-01-03 16:33:32,617 | root | INFO | \\tX-Forwarded-For: 127.0.0.1\\n\\tX-Forwarded-For: 127.0.0.1\\n2021-01-03 16:33:32,617 | root | INFO | \\tX-Forwarded-Proto: http\\n\\tX-Forwarded-Proto: http\\n2021-01-03 16:33:32,618 | root | INFO | \\tConnection: close\\n\\tConnection: close\\n2021-01-03 16:33:32,618 | root | INFO | \\tContent-Length: 3083\\n\\tContent-Length: 3083\\n2021-01-03 16:33:32,618 | root | INFO | \\tUser-Agent: python-requests/2.25.0\\n\\tUser-Agent: python-requests/2.25.0\\n2021-01-03 16:33:32,618 | root | INFO | \\tAccept: application/json\\n\\tAccept: application/json\\n2021-01-03 16:33:32,618 | root | INFO | \\tAccept-Encoding: gzip, deflate\\n\\tAccept-Encoding: gzip, deflate\\n2021-01-03 16:33:32,618 | root | INFO | \\tContent-Type: application/json\\n\\tContent-Type: application/json\\n2021-01-03 16:33:32,618 | root | INFO | \\tX-Ms-Request-Id: 3ce9aeeb-2a0c-4c49-9f50-a0a48a366e8e\\n\\tX-Ms-Request-Id: 3ce9aeeb-2a0c-4c49-9f50-a0a48a366e8e\\n2021-01-03 16:33:32,619 | root | INFO | Scoring Timer is set to 60.0 seconds\\nScoring Timer is set to 60.0 seconds\\n2021-01-03 16:33:32,772 | root | INFO | 200\\n200\\n127.0.0.1 - - [03/Jan/2021:16:33:32 +0000] \"POST /score HTTP/1.0\" 200 25 \"-\" \"python-requests/2.25.0\"\\n'"
      ]
     },
     "execution_count": 44,
     "metadata": {},
     "output_type": "execute_result"
    }
   ],
   "source": [
    "service.get_logs()"
   ]
  },
  {
   "cell_type": "markdown",
   "metadata": {},
   "source": [
    "## Clean Up"
   ]
  },
  {
   "cell_type": "code",
   "execution_count": 37,
   "metadata": {},
   "outputs": [],
   "source": [
    "service.delete()"
   ]
  },
  {
   "cell_type": "code",
   "execution_count": null,
   "metadata": {},
   "outputs": [],
   "source": []
  }
 ],
 "metadata": {
  "kernel_info": {
   "name": "python3"
  },
  "kernelspec": {
   "display_name": "Python 3",
   "language": "python",
   "name": "python3"
  },
  "language_info": {
   "codemirror_mode": {
    "name": "ipython",
    "version": 3
   },
   "file_extension": ".py",
   "mimetype": "text/x-python",
   "name": "python",
   "nbconvert_exporter": "python",
   "pygments_lexer": "ipython3",
   "version": "3.6.9"
  },
  "nteract": {
   "version": "nteract-front-end@1.0.0"
  }
 },
 "nbformat": 4,
 "nbformat_minor": 4
}
