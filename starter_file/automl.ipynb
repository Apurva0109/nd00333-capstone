{
 "cells": [
  {
   "cell_type": "markdown",
   "metadata": {},
   "source": [
    "# Automated ML\n",
    "\n",
    "Import Dependencies."
   ]
  },
  {
   "cell_type": "code",
   "execution_count": 1,
   "metadata": {
    "gather": {
     "logged": 1598423888013
    },
    "jupyter": {
     "outputs_hidden": false,
     "source_hidden": false
    },
    "nteract": {
     "transient": {
      "deleting": false
     }
    }
   },
   "outputs": [
    {
     "name": "stdout",
     "output_type": "stream",
     "text": [
      "SDK version: 1.19.0\n"
     ]
    }
   ],
   "source": [
    "from azureml.core import Workspace, Experiment,Dataset\n",
    "from azureml.core.compute import ComputeTarget, AmlCompute\n",
    "from azureml.core.compute_target import ComputeTargetException\n",
    "from azureml.widgets import RunDetails\n",
    "\n",
    "import azureml.core\n",
    "from azureml.data.dataset_factory import TabularDatasetFactory\n",
    "from sklearn.model_selection import train_test_split\n",
    "from azureml.train.automl import AutoMLConfig\n",
    "\n",
    "import os\n",
    "import joblib\n",
    "import pandas as pd\n",
    "import numpy as np\n",
    "\n",
    "# Check core SDK version number\n",
    "print(\"SDK version:\", azureml.core.VERSION)"
   ]
  },
  {
   "cell_type": "markdown",
   "metadata": {},
   "source": [
    "## Initialize Workspace"
   ]
  },
  {
   "cell_type": "code",
   "execution_count": 2,
   "metadata": {},
   "outputs": [
    {
     "name": "stdout",
     "output_type": "stream",
     "text": [
      "quick-starts-ws-133132\n",
      "aml-quickstarts-133132\n",
      "southcentralus\n",
      "81cefad3-d2c9-4f77-a466-99a7f541c7bb\n"
     ]
    }
   ],
   "source": [
    "ws = Workspace.from_config()\n",
    "print(ws.name, ws.resource_group, ws.location, ws.subscription_id, sep = '\\n')"
   ]
  },
  {
   "cell_type": "markdown",
   "metadata": {},
   "source": [
    "## Create an Azure ML experiment"
   ]
  },
  {
   "cell_type": "code",
   "execution_count": 3,
   "metadata": {},
   "outputs": [
    {
     "data": {
      "text/html": [
       "<table style=\"width:100%\"><tr><th>Name</th><th>Workspace</th><th>Report Page</th><th>Docs Page</th></tr><tr><td>automl-experiment</td><td>quick-starts-ws-133132</td><td><a href=\"https://ml.azure.com/experiments/automl-experiment?wsid=/subscriptions/81cefad3-d2c9-4f77-a466-99a7f541c7bb/resourcegroups/aml-quickstarts-133132/workspaces/quick-starts-ws-133132\" target=\"_blank\" rel=\"noopener\">Link to Azure Machine Learning studio</a></td><td><a href=\"https://docs.microsoft.com/en-us/python/api/azureml-core/azureml.core.experiment.Experiment?view=azure-ml-py\" target=\"_blank\" rel=\"noopener\">Link to Documentation</a></td></tr></table>"
      ],
      "text/plain": [
       "Experiment(Name: automl-experiment,\n",
       "Workspace: quick-starts-ws-133132)"
      ]
     },
     "execution_count": 3,
     "metadata": {},
     "output_type": "execute_result"
    }
   ],
   "source": [
    "experiment_name = 'automl-experiment'\n",
    "project_folder = './automl-model'\n",
    "\n",
    "experiment = Experiment(ws, experiment_name)\n",
    "experiment"
   ]
  },
  {
   "cell_type": "markdown",
   "metadata": {},
   "source": [
    "## Dataset\n",
    "\n",
    "### Overview\n",
    "\n",
    "We will build prediction model that will classify if a customer is going to churn or not from kaggle's data set [Credit Card customers](https://www.kaggle.com/sakshigoyal7/credit-card-customers). Data set was downloaded as a csv and uploaded i.e. registered as data set in the workspace."
   ]
  },
  {
   "cell_type": "code",
   "execution_count": 4,
   "metadata": {
    "gather": {
     "logged": 1598423890461
    },
    "jupyter": {
     "outputs_hidden": false,
     "source_hidden": false
    },
    "nteract": {
     "transient": {
      "deleting": false
     }
    }
   },
   "outputs": [
    {
     "data": {
      "text/html": [
       "<div>\n",
       "<style scoped>\n",
       "    .dataframe tbody tr th:only-of-type {\n",
       "        vertical-align: middle;\n",
       "    }\n",
       "\n",
       "    .dataframe tbody tr th {\n",
       "        vertical-align: top;\n",
       "    }\n",
       "\n",
       "    .dataframe thead th {\n",
       "        text-align: right;\n",
       "    }\n",
       "</style>\n",
       "<table border=\"1\" class=\"dataframe\">\n",
       "  <thead>\n",
       "    <tr style=\"text-align: right;\">\n",
       "      <th></th>\n",
       "      <th>CLIENTNUM</th>\n",
       "      <th>Customer_Age</th>\n",
       "      <th>Dependent_count</th>\n",
       "      <th>Months_on_book</th>\n",
       "      <th>Total_Relationship_Count</th>\n",
       "      <th>Months_Inactive_12_mon</th>\n",
       "      <th>Contacts_Count_12_mon</th>\n",
       "      <th>Credit_Limit</th>\n",
       "      <th>Total_Revolving_Bal</th>\n",
       "      <th>Avg_Open_To_Buy</th>\n",
       "      <th>Total_Amt_Chng_Q4_Q1</th>\n",
       "      <th>Total_Trans_Amt</th>\n",
       "      <th>Total_Trans_Ct</th>\n",
       "      <th>Total_Ct_Chng_Q4_Q1</th>\n",
       "      <th>Avg_Utilization_Ratio</th>\n",
       "      <th>Naive_Bayes_Classifier_Attrition_Flag_Card_Category_Contacts_Count_12_mon_Dependent_count_Education_Level_Months_Inactive_12_mon_1</th>\n",
       "      <th>Naive_Bayes_Classifier_Attrition_Flag_Card_Category_Contacts_Count_12_mon_Dependent_count_Education_Level_Months_Inactive_12_mon_2</th>\n",
       "    </tr>\n",
       "  </thead>\n",
       "  <tbody>\n",
       "    <tr>\n",
       "      <th>count</th>\n",
       "      <td>1.012700e+04</td>\n",
       "      <td>10127.000000</td>\n",
       "      <td>10127.000000</td>\n",
       "      <td>10127.000000</td>\n",
       "      <td>10127.000000</td>\n",
       "      <td>10127.000000</td>\n",
       "      <td>10127.000000</td>\n",
       "      <td>10127.000000</td>\n",
       "      <td>10127.000000</td>\n",
       "      <td>10127.000000</td>\n",
       "      <td>10127.000000</td>\n",
       "      <td>10127.000000</td>\n",
       "      <td>10127.000000</td>\n",
       "      <td>10127.000000</td>\n",
       "      <td>10127.000000</td>\n",
       "      <td>10127.000000</td>\n",
       "      <td>10127.000000</td>\n",
       "    </tr>\n",
       "    <tr>\n",
       "      <th>mean</th>\n",
       "      <td>7.391776e+08</td>\n",
       "      <td>46.325960</td>\n",
       "      <td>2.346203</td>\n",
       "      <td>35.928409</td>\n",
       "      <td>3.812580</td>\n",
       "      <td>2.341167</td>\n",
       "      <td>2.455317</td>\n",
       "      <td>8631.953698</td>\n",
       "      <td>1162.814061</td>\n",
       "      <td>7469.139637</td>\n",
       "      <td>0.759941</td>\n",
       "      <td>4404.086304</td>\n",
       "      <td>64.858695</td>\n",
       "      <td>0.712222</td>\n",
       "      <td>0.274894</td>\n",
       "      <td>0.159997</td>\n",
       "      <td>0.840003</td>\n",
       "    </tr>\n",
       "    <tr>\n",
       "      <th>std</th>\n",
       "      <td>3.690378e+07</td>\n",
       "      <td>8.016814</td>\n",
       "      <td>1.298908</td>\n",
       "      <td>7.986416</td>\n",
       "      <td>1.554408</td>\n",
       "      <td>1.010622</td>\n",
       "      <td>1.106225</td>\n",
       "      <td>9088.776650</td>\n",
       "      <td>814.987335</td>\n",
       "      <td>9090.685324</td>\n",
       "      <td>0.219207</td>\n",
       "      <td>3397.129254</td>\n",
       "      <td>23.472570</td>\n",
       "      <td>0.238086</td>\n",
       "      <td>0.275691</td>\n",
       "      <td>0.365301</td>\n",
       "      <td>0.365301</td>\n",
       "    </tr>\n",
       "    <tr>\n",
       "      <th>min</th>\n",
       "      <td>7.080821e+08</td>\n",
       "      <td>26.000000</td>\n",
       "      <td>0.000000</td>\n",
       "      <td>13.000000</td>\n",
       "      <td>1.000000</td>\n",
       "      <td>0.000000</td>\n",
       "      <td>0.000000</td>\n",
       "      <td>1438.300000</td>\n",
       "      <td>0.000000</td>\n",
       "      <td>3.000000</td>\n",
       "      <td>0.000000</td>\n",
       "      <td>510.000000</td>\n",
       "      <td>10.000000</td>\n",
       "      <td>0.000000</td>\n",
       "      <td>0.000000</td>\n",
       "      <td>0.000008</td>\n",
       "      <td>0.000420</td>\n",
       "    </tr>\n",
       "    <tr>\n",
       "      <th>25%</th>\n",
       "      <td>7.130368e+08</td>\n",
       "      <td>41.000000</td>\n",
       "      <td>1.000000</td>\n",
       "      <td>31.000000</td>\n",
       "      <td>3.000000</td>\n",
       "      <td>2.000000</td>\n",
       "      <td>2.000000</td>\n",
       "      <td>2555.000000</td>\n",
       "      <td>359.000000</td>\n",
       "      <td>1324.500000</td>\n",
       "      <td>0.631000</td>\n",
       "      <td>2155.500000</td>\n",
       "      <td>45.000000</td>\n",
       "      <td>0.582000</td>\n",
       "      <td>0.023000</td>\n",
       "      <td>0.000099</td>\n",
       "      <td>0.999660</td>\n",
       "    </tr>\n",
       "    <tr>\n",
       "      <th>50%</th>\n",
       "      <td>7.179264e+08</td>\n",
       "      <td>46.000000</td>\n",
       "      <td>2.000000</td>\n",
       "      <td>36.000000</td>\n",
       "      <td>4.000000</td>\n",
       "      <td>2.000000</td>\n",
       "      <td>2.000000</td>\n",
       "      <td>4549.000000</td>\n",
       "      <td>1276.000000</td>\n",
       "      <td>3474.000000</td>\n",
       "      <td>0.736000</td>\n",
       "      <td>3899.000000</td>\n",
       "      <td>67.000000</td>\n",
       "      <td>0.702000</td>\n",
       "      <td>0.176000</td>\n",
       "      <td>0.000181</td>\n",
       "      <td>0.999820</td>\n",
       "    </tr>\n",
       "    <tr>\n",
       "      <th>75%</th>\n",
       "      <td>7.731435e+08</td>\n",
       "      <td>52.000000</td>\n",
       "      <td>3.000000</td>\n",
       "      <td>40.000000</td>\n",
       "      <td>5.000000</td>\n",
       "      <td>3.000000</td>\n",
       "      <td>3.000000</td>\n",
       "      <td>11067.500000</td>\n",
       "      <td>1784.000000</td>\n",
       "      <td>9859.000000</td>\n",
       "      <td>0.859000</td>\n",
       "      <td>4741.000000</td>\n",
       "      <td>81.000000</td>\n",
       "      <td>0.818000</td>\n",
       "      <td>0.503000</td>\n",
       "      <td>0.000337</td>\n",
       "      <td>0.999900</td>\n",
       "    </tr>\n",
       "    <tr>\n",
       "      <th>max</th>\n",
       "      <td>8.283431e+08</td>\n",
       "      <td>73.000000</td>\n",
       "      <td>5.000000</td>\n",
       "      <td>56.000000</td>\n",
       "      <td>6.000000</td>\n",
       "      <td>6.000000</td>\n",
       "      <td>6.000000</td>\n",
       "      <td>34516.000000</td>\n",
       "      <td>2517.000000</td>\n",
       "      <td>34516.000000</td>\n",
       "      <td>3.397000</td>\n",
       "      <td>18484.000000</td>\n",
       "      <td>139.000000</td>\n",
       "      <td>3.714000</td>\n",
       "      <td>0.999000</td>\n",
       "      <td>0.999580</td>\n",
       "      <td>0.999990</td>\n",
       "    </tr>\n",
       "  </tbody>\n",
       "</table>\n",
       "</div>"
      ],
      "text/plain": [
       "          CLIENTNUM  Customer_Age  Dependent_count  Months_on_book  \\\n",
       "count  1.012700e+04  10127.000000     10127.000000    10127.000000   \n",
       "mean   7.391776e+08     46.325960         2.346203       35.928409   \n",
       "std    3.690378e+07      8.016814         1.298908        7.986416   \n",
       "min    7.080821e+08     26.000000         0.000000       13.000000   \n",
       "25%    7.130368e+08     41.000000         1.000000       31.000000   \n",
       "50%    7.179264e+08     46.000000         2.000000       36.000000   \n",
       "75%    7.731435e+08     52.000000         3.000000       40.000000   \n",
       "max    8.283431e+08     73.000000         5.000000       56.000000   \n",
       "\n",
       "       Total_Relationship_Count  Months_Inactive_12_mon  \\\n",
       "count              10127.000000            10127.000000   \n",
       "mean                   3.812580                2.341167   \n",
       "std                    1.554408                1.010622   \n",
       "min                    1.000000                0.000000   \n",
       "25%                    3.000000                2.000000   \n",
       "50%                    4.000000                2.000000   \n",
       "75%                    5.000000                3.000000   \n",
       "max                    6.000000                6.000000   \n",
       "\n",
       "       Contacts_Count_12_mon  Credit_Limit  Total_Revolving_Bal  \\\n",
       "count           10127.000000  10127.000000         10127.000000   \n",
       "mean                2.455317   8631.953698          1162.814061   \n",
       "std                 1.106225   9088.776650           814.987335   \n",
       "min                 0.000000   1438.300000             0.000000   \n",
       "25%                 2.000000   2555.000000           359.000000   \n",
       "50%                 2.000000   4549.000000          1276.000000   \n",
       "75%                 3.000000  11067.500000          1784.000000   \n",
       "max                 6.000000  34516.000000          2517.000000   \n",
       "\n",
       "       Avg_Open_To_Buy  Total_Amt_Chng_Q4_Q1  Total_Trans_Amt  Total_Trans_Ct  \\\n",
       "count     10127.000000          10127.000000     10127.000000    10127.000000   \n",
       "mean       7469.139637              0.759941      4404.086304       64.858695   \n",
       "std        9090.685324              0.219207      3397.129254       23.472570   \n",
       "min           3.000000              0.000000       510.000000       10.000000   \n",
       "25%        1324.500000              0.631000      2155.500000       45.000000   \n",
       "50%        3474.000000              0.736000      3899.000000       67.000000   \n",
       "75%        9859.000000              0.859000      4741.000000       81.000000   \n",
       "max       34516.000000              3.397000     18484.000000      139.000000   \n",
       "\n",
       "       Total_Ct_Chng_Q4_Q1  Avg_Utilization_Ratio  \\\n",
       "count         10127.000000           10127.000000   \n",
       "mean              0.712222               0.274894   \n",
       "std               0.238086               0.275691   \n",
       "min               0.000000               0.000000   \n",
       "25%               0.582000               0.023000   \n",
       "50%               0.702000               0.176000   \n",
       "75%               0.818000               0.503000   \n",
       "max               3.714000               0.999000   \n",
       "\n",
       "       Naive_Bayes_Classifier_Attrition_Flag_Card_Category_Contacts_Count_12_mon_Dependent_count_Education_Level_Months_Inactive_12_mon_1  \\\n",
       "count                                       10127.000000                                                                                    \n",
       "mean                                            0.159997                                                                                    \n",
       "std                                             0.365301                                                                                    \n",
       "min                                             0.000008                                                                                    \n",
       "25%                                             0.000099                                                                                    \n",
       "50%                                             0.000181                                                                                    \n",
       "75%                                             0.000337                                                                                    \n",
       "max                                             0.999580                                                                                    \n",
       "\n",
       "       Naive_Bayes_Classifier_Attrition_Flag_Card_Category_Contacts_Count_12_mon_Dependent_count_Education_Level_Months_Inactive_12_mon_2  \n",
       "count                                       10127.000000                                                                                   \n",
       "mean                                            0.840003                                                                                   \n",
       "std                                             0.365301                                                                                   \n",
       "min                                             0.000420                                                                                   \n",
       "25%                                             0.999660                                                                                   \n",
       "50%                                             0.999820                                                                                   \n",
       "75%                                             0.999900                                                                                   \n",
       "max                                             0.999990                                                                                   "
      ]
     },
     "execution_count": 4,
     "metadata": {},
     "output_type": "execute_result"
    }
   ],
   "source": [
    "dataset=Dataset.get_by_name(ws,name=\"Credit-Card-Churners\")\n",
    "run = experiment.start_logging()\n",
    "df = dataset.to_pandas_dataframe()\n",
    "df.describe()"
   ]
  },
  {
   "cell_type": "code",
   "execution_count": 5,
   "metadata": {},
   "outputs": [
    {
     "name": "stdout",
     "output_type": "stream",
     "text": [
      "/mnt/batch/tasks/shared/LS_root/mounts/clusters/compute-aml-cluster/code/Users/odl_user_133132\n"
     ]
    },
    {
     "data": {
      "text/plain": [
       "['.config',\n",
       " '.ipynb_checkpoints',\n",
       " 'automl-model',\n",
       " 'automl.ipynb',\n",
       " 'automl.log',\n",
       " 'automl_errors.log',\n",
       " 'azureml_automl.log',\n",
       " 'conda_dependencies.yml',\n",
       " 'CreditCardChurners.csv',\n",
       " 'hyperparameter_tuning.ipynb',\n",
       " 'outputs',\n",
       " 'README.md',\n",
       " 'train.py',\n",
       " 'training',\n",
       " 'udacity-project.ipynb']"
      ]
     },
     "execution_count": 5,
     "metadata": {},
     "output_type": "execute_result"
    }
   ],
   "source": [
    "currDir=os.getcwd()\n",
    "print(currDir)\n",
    "os.listdir(currDir)"
   ]
  },
  {
   "cell_type": "markdown",
   "metadata": {},
   "source": [
    "## Create or Attach a Compute Resource"
   ]
  },
  {
   "cell_type": "code",
   "execution_count": 6,
   "metadata": {},
   "outputs": [
    {
     "name": "stdout",
     "output_type": "stream",
     "text": [
      "Found existing cluster.\n",
      "\n",
      "Running\n"
     ]
    }
   ],
   "source": [
    "compute_name = \"compute-aml-cluster\"\n",
    "\n",
    "# Check if the compute target exists\n",
    "try:\n",
    "    compute_aml_cluster = ComputeTarget(workspace=ws, name=compute_name)\n",
    "    print('Found existing cluster.')\n",
    "except ComputeTargetException:\n",
    "    # If not, create it\n",
    "    compute_config = AmlCompute.provisionibng_configuration(vm_size='STANDARD_DS12_V2',\n",
    "                                                           max_nodes=5)\n",
    "    compute_aml_cluster = ComputeTarget.create(ws, compute_name, compute_config)\n",
    "\n",
    "compute_aml_cluster.wait_for_completion(show_output=True)"
   ]
  },
  {
   "cell_type": "code",
   "execution_count": 7,
   "metadata": {},
   "outputs": [
    {
     "data": {
      "text/html": [
       "<div>\n",
       "<style scoped>\n",
       "    .dataframe tbody tr th:only-of-type {\n",
       "        vertical-align: middle;\n",
       "    }\n",
       "\n",
       "    .dataframe tbody tr th {\n",
       "        vertical-align: top;\n",
       "    }\n",
       "\n",
       "    .dataframe thead th {\n",
       "        text-align: right;\n",
       "    }\n",
       "</style>\n",
       "<table border=\"1\" class=\"dataframe\">\n",
       "  <thead>\n",
       "    <tr style=\"text-align: right;\">\n",
       "      <th></th>\n",
       "      <th>Customer_Age</th>\n",
       "      <th>Gender</th>\n",
       "      <th>Dependent_count</th>\n",
       "      <th>Education_Level</th>\n",
       "      <th>Income_Category</th>\n",
       "      <th>Months_on_book</th>\n",
       "      <th>Total_Relationship_Count</th>\n",
       "      <th>Months_Inactive_12_mon</th>\n",
       "      <th>Contacts_Count_12_mon</th>\n",
       "      <th>Credit_Limit</th>\n",
       "      <th>...</th>\n",
       "      <th>Total_Ct_Chng_Q4_Q1</th>\n",
       "      <th>Avg_Utilization_Ratio</th>\n",
       "      <th>Marital_Status_Divorced</th>\n",
       "      <th>Marital_Status_Married</th>\n",
       "      <th>Marital_Status_Single</th>\n",
       "      <th>Card_Category_Blue</th>\n",
       "      <th>Card_Category_Gold</th>\n",
       "      <th>Card_Category_Platinum</th>\n",
       "      <th>Card_Category_Silver</th>\n",
       "      <th>Attrition_Flag</th>\n",
       "    </tr>\n",
       "  </thead>\n",
       "  <tbody>\n",
       "    <tr>\n",
       "      <th>0</th>\n",
       "      <td>-0.165406</td>\n",
       "      <td>1.059956</td>\n",
       "      <td>0.503368</td>\n",
       "      <td>-0.893680</td>\n",
       "      <td>0.597300</td>\n",
       "      <td>0.384621</td>\n",
       "      <td>0.763943</td>\n",
       "      <td>-1.327136</td>\n",
       "      <td>0.492404</td>\n",
       "      <td>0.446622</td>\n",
       "      <td>...</td>\n",
       "      <td>3.834003</td>\n",
       "      <td>-0.775882</td>\n",
       "      <td>-0.282405</td>\n",
       "      <td>1.077338</td>\n",
       "      <td>-0.798507</td>\n",
       "      <td>0.270611</td>\n",
       "      <td>-0.107644</td>\n",
       "      <td>-0.044484</td>\n",
       "      <td>-0.240794</td>\n",
       "      <td>0</td>\n",
       "    </tr>\n",
       "    <tr>\n",
       "      <th>1</th>\n",
       "      <td>0.333570</td>\n",
       "      <td>-0.943436</td>\n",
       "      <td>2.043199</td>\n",
       "      <td>0.593388</td>\n",
       "      <td>-0.887628</td>\n",
       "      <td>1.010715</td>\n",
       "      <td>1.407306</td>\n",
       "      <td>-1.327136</td>\n",
       "      <td>-0.411616</td>\n",
       "      <td>-0.041367</td>\n",
       "      <td>...</td>\n",
       "      <td>12.608573</td>\n",
       "      <td>-0.616276</td>\n",
       "      <td>-0.282405</td>\n",
       "      <td>-0.928214</td>\n",
       "      <td>1.252337</td>\n",
       "      <td>0.270611</td>\n",
       "      <td>-0.107644</td>\n",
       "      <td>-0.044484</td>\n",
       "      <td>-0.240794</td>\n",
       "      <td>0</td>\n",
       "    </tr>\n",
       "    <tr>\n",
       "      <th>2</th>\n",
       "      <td>0.583058</td>\n",
       "      <td>1.059956</td>\n",
       "      <td>0.503368</td>\n",
       "      <td>0.593388</td>\n",
       "      <td>1.339764</td>\n",
       "      <td>0.008965</td>\n",
       "      <td>0.120579</td>\n",
       "      <td>-1.327136</td>\n",
       "      <td>-2.219655</td>\n",
       "      <td>-0.573698</td>\n",
       "      <td>...</td>\n",
       "      <td>6.807864</td>\n",
       "      <td>-0.997155</td>\n",
       "      <td>-0.282405</td>\n",
       "      <td>1.077338</td>\n",
       "      <td>-0.798507</td>\n",
       "      <td>0.270611</td>\n",
       "      <td>-0.107644</td>\n",
       "      <td>-0.044484</td>\n",
       "      <td>-0.240794</td>\n",
       "      <td>0</td>\n",
       "    </tr>\n",
       "    <tr>\n",
       "      <th>3</th>\n",
       "      <td>-0.789126</td>\n",
       "      <td>-0.943436</td>\n",
       "      <td>1.273283</td>\n",
       "      <td>-0.893680</td>\n",
       "      <td>-0.887628</td>\n",
       "      <td>-0.241473</td>\n",
       "      <td>-0.522785</td>\n",
       "      <td>1.641478</td>\n",
       "      <td>-1.315636</td>\n",
       "      <td>-0.585251</td>\n",
       "      <td>...</td>\n",
       "      <td>6.807864</td>\n",
       "      <td>1.759686</td>\n",
       "      <td>-0.282405</td>\n",
       "      <td>-0.928214</td>\n",
       "      <td>-0.798507</td>\n",
       "      <td>0.270611</td>\n",
       "      <td>-0.107644</td>\n",
       "      <td>-0.044484</td>\n",
       "      <td>-0.240794</td>\n",
       "      <td>0</td>\n",
       "    </tr>\n",
       "    <tr>\n",
       "      <th>4</th>\n",
       "      <td>-0.789126</td>\n",
       "      <td>1.059956</td>\n",
       "      <td>0.503368</td>\n",
       "      <td>-1.637214</td>\n",
       "      <td>0.597300</td>\n",
       "      <td>-1.869317</td>\n",
       "      <td>0.763943</td>\n",
       "      <td>-1.327136</td>\n",
       "      <td>-2.219655</td>\n",
       "      <td>-0.430877</td>\n",
       "      <td>...</td>\n",
       "      <td>7.509325</td>\n",
       "      <td>-0.997155</td>\n",
       "      <td>-0.282405</td>\n",
       "      <td>1.077338</td>\n",
       "      <td>-0.798507</td>\n",
       "      <td>0.270611</td>\n",
       "      <td>-0.107644</td>\n",
       "      <td>-0.044484</td>\n",
       "      <td>-0.240794</td>\n",
       "      <td>0</td>\n",
       "    </tr>\n",
       "  </tbody>\n",
       "</table>\n",
       "<p>5 rows × 25 columns</p>\n",
       "</div>"
      ],
      "text/plain": [
       "   Customer_Age    Gender  Dependent_count  Education_Level  Income_Category  \\\n",
       "0     -0.165406  1.059956         0.503368        -0.893680         0.597300   \n",
       "1      0.333570 -0.943436         2.043199         0.593388        -0.887628   \n",
       "2      0.583058  1.059956         0.503368         0.593388         1.339764   \n",
       "3     -0.789126 -0.943436         1.273283        -0.893680        -0.887628   \n",
       "4     -0.789126  1.059956         0.503368        -1.637214         0.597300   \n",
       "\n",
       "   Months_on_book  Total_Relationship_Count  Months_Inactive_12_mon  \\\n",
       "0        0.384621                  0.763943               -1.327136   \n",
       "1        1.010715                  1.407306               -1.327136   \n",
       "2        0.008965                  0.120579               -1.327136   \n",
       "3       -0.241473                 -0.522785                1.641478   \n",
       "4       -1.869317                  0.763943               -1.327136   \n",
       "\n",
       "   Contacts_Count_12_mon  Credit_Limit  ...  Total_Ct_Chng_Q4_Q1  \\\n",
       "0               0.492404      0.446622  ...             3.834003   \n",
       "1              -0.411616     -0.041367  ...            12.608573   \n",
       "2              -2.219655     -0.573698  ...             6.807864   \n",
       "3              -1.315636     -0.585251  ...             6.807864   \n",
       "4              -2.219655     -0.430877  ...             7.509325   \n",
       "\n",
       "   Avg_Utilization_Ratio  Marital_Status_Divorced  Marital_Status_Married  \\\n",
       "0              -0.775882                -0.282405                1.077338   \n",
       "1              -0.616276                -0.282405               -0.928214   \n",
       "2              -0.997155                -0.282405                1.077338   \n",
       "3               1.759686                -0.282405               -0.928214   \n",
       "4              -0.997155                -0.282405                1.077338   \n",
       "\n",
       "   Marital_Status_Single  Card_Category_Blue  Card_Category_Gold  \\\n",
       "0              -0.798507            0.270611           -0.107644   \n",
       "1               1.252337            0.270611           -0.107644   \n",
       "2              -0.798507            0.270611           -0.107644   \n",
       "3              -0.798507            0.270611           -0.107644   \n",
       "4              -0.798507            0.270611           -0.107644   \n",
       "\n",
       "   Card_Category_Platinum  Card_Category_Silver  Attrition_Flag  \n",
       "0               -0.044484             -0.240794               0  \n",
       "1               -0.044484             -0.240794               0  \n",
       "2               -0.044484             -0.240794               0  \n",
       "3               -0.044484             -0.240794               0  \n",
       "4               -0.044484             -0.240794               0  \n",
       "\n",
       "[5 rows x 25 columns]"
      ]
     },
     "execution_count": 7,
     "metadata": {},
     "output_type": "execute_result"
    }
   ],
   "source": [
    "from sklearn.preprocessing import OneHotEncoder, StandardScaler\n",
    "\n",
    "# Use the clean_data function to clean your data.\n",
    "#x, y = clean_data(df)\n",
    "\n",
    "def binary_encode(df, column, positive_value):\n",
    "    df = df.copy()\n",
    "    df[column] = df[column].apply(lambda x: 1 if x == positive_value else 0)\n",
    "    return df\n",
    "\n",
    "def ordinal_encode(df, column, ordering):\n",
    "    df = df.copy()\n",
    "    df[column] = df[column].apply(lambda x: ordering.index(x))\n",
    "    return df\n",
    "\n",
    "def onehot_encode(df, column, prefix):\n",
    "    df = df.copy()\n",
    "    dummies = pd.get_dummies(df[column], prefix=prefix)\n",
    "    df = pd.concat([df, dummies], axis=1)\n",
    "    df = df.drop(column, axis=1)\n",
    "    return df\n",
    "\n",
    "def pre_processing(data):\n",
    "    # Clean and one hot encode data\n",
    "    x_df = data.to_pandas_dataframe().dropna()\n",
    "\n",
    "    # Drop last two columns (unneeded)\n",
    "    x_df.drop(x_df.columns[-2:],inplace=True, axis=1)\n",
    "\n",
    "    # Drop CLIENTNUM columns\n",
    "    x_df.drop(\"CLIENTNUM\",inplace=True, axis=1)\n",
    "\n",
    "    # Encode unknown values as np.NaN\n",
    "    x_df = x_df.replace('Unknown', np.NaN)\n",
    "\n",
    "    # Fill ordinal missing values with modes (Education_Level and Income_Category columns)\n",
    "    x_df['Education_Level'] = x_df['Education_Level'].fillna('Graduate')\n",
    "    x_df['Income_Category'] = x_df['Income_Category'].fillna('Less than $40K')\n",
    "\n",
    "    # Encode binary columns\n",
    "    x_df = binary_encode(x_df, 'Attrition_Flag', positive_value='Attrited Customer')\n",
    "    x_df = binary_encode(x_df, 'Gender', positive_value='M')\n",
    "\n",
    "    # Encode ordinal columns\n",
    "    education_ordering = [\n",
    "        'Uneducated',\n",
    "        'High School',\n",
    "        'College',\n",
    "        'Graduate',\n",
    "        'Post-Graduate',\n",
    "        'Doctorate'\n",
    "    ]\n",
    "    income_ordering = [\n",
    "        'Less than $40K',\n",
    "        '$40K - $60K',\n",
    "        '$60K - $80K',\n",
    "        '$80K - $120K',\n",
    "        '$120K +'\n",
    "    ]\n",
    "\n",
    "    x_df = ordinal_encode(x_df, 'Education_Level', ordering=education_ordering)\n",
    "    x_df = ordinal_encode(x_df, 'Income_Category', ordering=income_ordering)\n",
    "\n",
    "    # Encode nominal columns\n",
    "    x_df = onehot_encode(x_df, 'Marital_Status', prefix='Marital_Status')\n",
    "    x_df = onehot_encode(x_df, 'Card_Category', prefix='Card_Category')\n",
    "\n",
    "    # Split df into X and y\n",
    "    X = x_df.drop('Attrition_Flag', axis=1).copy()\n",
    "    y = x_df['Attrition_Flag'].copy()\n",
    "\n",
    "    # Scale X with a standard scaler\n",
    "    scaler = StandardScaler()\n",
    "    X = pd.DataFrame(scaler.fit_transform(X), columns=X.columns)\n",
    "\n",
    "    return X, y\n",
    "\n",
    "x, y = pre_processing(dataset)\n",
    "\n",
    "all_data = pd.concat([x,y], axis = 1)\n",
    "all_data.head()"
   ]
  },
  {
   "cell_type": "code",
   "execution_count": 36,
   "metadata": {},
   "outputs": [
    {
     "name": "stdout",
     "output_type": "stream",
     "text": [
      "      Customer_Age  Gender  Dependent_count  Education_Level  Income_Category  \\\n",
      "147           1.08    1.06            -0.27             0.59             2.08   \n",
      "1985         -1.79    1.06            -1.81             0.59            -0.89   \n",
      "8316         -1.41   -0.94             1.27            -1.64            -0.89   \n",
      "\n",
      "      Months_on_book  Total_Relationship_Count  Months_Inactive_12_mon  \\\n",
      "147             1.76                     -0.52                   -0.34   \n",
      "1985           -1.12                      1.41                    0.65   \n",
      "8316           -1.37                     -1.17                    0.65   \n",
      "\n",
      "      Contacts_Count_12_mon  Credit_Limit  ...  Total_Ct_Chng_Q4_Q1  \\\n",
      "147                   -2.22          0.25  ...                 1.21   \n",
      "1985                   0.49          0.07  ...                -0.98   \n",
      "8316                  -0.41         -0.58  ...                -0.04   \n",
      "\n",
      "      Avg_Utilization_Ratio  Marital_Status_Divorced  Marital_Status_Married  \\\n",
      "147                   -0.49                    -0.28                    1.08   \n",
      "1985                  -1.00                    -0.28                   -0.93   \n",
      "8316                  -0.37                    -0.28                    1.08   \n",
      "\n",
      "      Marital_Status_Single  Card_Category_Blue  Card_Category_Gold  \\\n",
      "147                   -0.80                0.27               -0.11   \n",
      "1985                   1.25                0.27               -0.11   \n",
      "8316                  -0.80                0.27               -0.11   \n",
      "\n",
      "      Card_Category_Platinum  Card_Category_Silver  Attrition_Flag  \n",
      "147                    -0.04                 -0.24               0  \n",
      "1985                   -0.04                 -0.24               0  \n",
      "8316                   -0.04                 -0.24               0  \n",
      "\n",
      "[3 rows x 25 columns]\n",
      "      Customer_Age  Gender  Dependent_count  Education_Level  Income_Category  \\\n",
      "3358         -0.29    1.06             2.04            -1.64             0.60   \n",
      "9951         -0.29   -0.94             0.50             0.59            -0.89   \n",
      "3848         -1.16   -0.94             0.50            -0.89            -0.89   \n",
      "\n",
      "      Months_on_book  Total_Relationship_Count  Months_Inactive_12_mon  \\\n",
      "3358            0.38                      0.76                   -0.34   \n",
      "9951           -0.24                     -1.17                    0.65   \n",
      "3848           -1.24                     -0.52                   -1.33   \n",
      "\n",
      "      Contacts_Count_12_mon  Credit_Limit  ...  Total_Ct_Chng_Q4_Q1  \\\n",
      "3358                  -2.22          0.81  ...                 0.80   \n",
      "9951                   0.49          1.91  ...                -0.73   \n",
      "3848                  -0.41         -0.63  ...                -0.94   \n",
      "\n",
      "      Avg_Utilization_Ratio  Marital_Status_Divorced  Marital_Status_Married  \\\n",
      "3358                  -0.63                     3.54                   -0.93   \n",
      "9951                  -1.00                    -0.28                   -0.93   \n",
      "3848                   1.76                    -0.28                   -0.93   \n",
      "\n",
      "      Marital_Status_Single  Card_Category_Blue  Card_Category_Gold  \\\n",
      "3358                  -0.80                0.27               -0.11   \n",
      "9951                   1.25                0.27               -0.11   \n",
      "3848                   1.25                0.27               -0.11   \n",
      "\n",
      "      Card_Category_Platinum  Card_Category_Silver  Attrition_Flag  \n",
      "3358                   -0.04                 -0.24               0  \n",
      "9951                   -0.04                 -0.24               1  \n",
      "3848                   -0.04                 -0.24               0  \n",
      "\n",
      "[3 rows x 25 columns]\n",
      "(8101, 25)\n",
      "(2026, 25)\n"
     ]
    }
   ],
   "source": [
    "from sklearn.model_selection import train_test_split\n",
    "\n",
    "x_train, x_test = train_test_split(all_data, test_size=0.2,random_state=0)\n",
    "# columns=x_train.columns\n",
    "# x_train.reset_index(drop=True, inplace=True)\n",
    "# x_test.reset_index(drop=True, inplace=True)\n",
    "print(x_train.head(3))\n",
    "print(x_test.head(3))\n",
    "print(x_train.shape)\n",
    "print(x_test.shape)\n",
    "\n",
    "if \"training\" not in os.listdir():\n",
    "    os.mkdir(\"./training\")\n",
    "\n",
    "x_train.to_csv('training/train_data.csv',index=False)\n",
    "x_test.to_csv('training/test_data.csv',index=False)\n",
    "\n",
    "# x_train.to_csv(path_or_buf='training/train_data.csv', columns=columns, header=True, index=False) \n",
    "# x_test.to_csv(path_or_buf='training/test_data.csv', columns=columns, header=True, index=False)"
   ]
  },
  {
   "cell_type": "code",
   "execution_count": 32,
   "metadata": {},
   "outputs": [
    {
     "name": "stdout",
     "output_type": "stream",
     "text": [
      "{\n",
      "  \"name\": \"workspaceblobstore\",\n",
      "  \"container_name\": \"azureml-blobstore-1bc1184b-0d99-47b2-b8b1-a9aba83249ed\",\n",
      "  \"account_name\": \"mlstrg133132\",\n",
      "  \"protocol\": \"https\",\n",
      "  \"endpoint\": \"core.windows.net\"\n",
      "}\n",
      "Uploading an estimated of 3 files\n",
      "Target already exists. Skipping upload for data/test_data.csv\n",
      "Target already exists. Skipping upload for data/train_data.csv\n",
      "Target already exists. Skipping upload for data/.ipynb_checkpoints/train_data-checkpoint.csv\n",
      "Uploaded 0 files\n"
     ]
    }
   ],
   "source": [
    "# get the datastore to upload prepared data\n",
    "datastore = ws.get_default_datastore()\n",
    "print(datastore)\n",
    "\n",
    "# upload the local file from src_dir to the target_path in datastore\n",
    "datastore.upload(src_dir='training/', target_path='data/')\n",
    "# datastore.upload_files(['trainset.csv'])\n",
    "\n",
    "# create a dataset referencing the cloud location\n",
    "train_data = TabularDatasetFactory.from_delimited_files(path = [(datastore, ('data/train_data.csv'))])\n",
    "test_data = TabularDatasetFactory.from_delimited_files(path = [(datastore, ('data/test_data.csv'))])"
   ]
  },
  {
   "cell_type": "markdown",
   "metadata": {},
   "source": [
    "## AutoML Configuration"
   ]
  },
  {
   "cell_type": "code",
   "execution_count": 10,
   "metadata": {
    "gather": {
     "logged": 1598429217746
    },
    "jupyter": {
     "outputs_hidden": false,
     "source_hidden": false
    },
    "nteract": {
     "transient": {
      "deleting": false
     }
    }
   },
   "outputs": [],
   "source": [
    "# TODO: Put your automl settings here\n",
    "automl_settings = {\n",
    "    \"experiment_timeout_minutes\": 30,\n",
    "    \"max_concurrent_iterations\": 10,\n",
    "    \"primary_metric\" : 'accuracy',\n",
    "    \"n_cross_validations\": 3,\n",
    "    \"max_cores_per_iteration\":-1\n",
    "}\n",
    "\n",
    "# TODO: Put your automl config here\n",
    "automl_config = AutoMLConfig(compute_target=compute_aml_cluster,\n",
    "                             task = \"classification\",\n",
    "                             training_data=train_data,\n",
    "                             label_column_name=\"Attrition_Flag\",   \n",
    "                             path = project_folder,\n",
    "                             enable_early_stopping= True,\n",
    "                             debug_log = \"automl_errors.log\",\n",
    "                             **automl_settings\n",
    ")"
   ]
  },
  {
   "cell_type": "markdown",
   "metadata": {},
   "source": [
    "## Submit Run"
   ]
  },
  {
   "cell_type": "code",
   "execution_count": 11,
   "metadata": {
    "gather": {
     "logged": 1598431107951
    },
    "jupyter": {
     "outputs_hidden": false,
     "source_hidden": false
    },
    "nteract": {
     "transient": {
      "deleting": false
     }
    }
   },
   "outputs": [
    {
     "name": "stdout",
     "output_type": "stream",
     "text": [
      "Running on remote.\n",
      "No run_configuration provided, running on compute-aml-cluster with default configuration\n",
      "Running on remote compute: compute-aml-cluster\n",
      "Parent Run ID: AutoML_ceea2569-ef01-4a09-ac5c-5230d248456c\n",
      "\n",
      "Current status: FeaturesGeneration. Generating features for the dataset.\n",
      "Current status: DatasetCrossValidationSplit. Generating individually featurized CV splits.\n",
      "Current status: ModelSelection. Beginning model selection.\n",
      "\n",
      "****************************************************************************************************\n",
      "DATA GUARDRAILS: \n",
      "\n",
      "TYPE:         Class balancing detection\n",
      "STATUS:       ALERTED\n",
      "DESCRIPTION:  To decrease model bias, please cancel the current run and fix balancing problem.\n",
      "              Learn more about imbalanced data: https://aka.ms/AutomatedMLImbalancedData\n",
      "DETAILS:      Imbalanced data can lead to a falsely perceived positive effect of a model's accuracy because the input data has bias towards one class.\n",
      "+---------------------------------+---------------------------------+--------------------------------------+\n",
      "|Size of the smallest class       |Name/Label of the smallest class |Number of samples in the training data|\n",
      "+=================================+=================================+======================================+\n",
      "|1318                             |1                                |8101                                  |\n",
      "+---------------------------------+---------------------------------+--------------------------------------+\n",
      "\n",
      "****************************************************************************************************\n",
      "\n",
      "TYPE:         Missing feature values imputation\n",
      "STATUS:       PASSED\n",
      "DESCRIPTION:  No feature missing values were detected in the training data.\n",
      "              Learn more about missing value imputation: https://aka.ms/AutomatedMLFeaturization\n",
      "\n",
      "****************************************************************************************************\n",
      "\n",
      "TYPE:         High cardinality feature detection\n",
      "STATUS:       PASSED\n",
      "DESCRIPTION:  Your inputs were analyzed, and no high cardinality features were detected.\n",
      "              Learn more about high cardinality feature handling: https://aka.ms/AutomatedMLFeaturization\n",
      "\n",
      "****************************************************************************************************\n",
      "\n",
      "****************************************************************************************************\n",
      "ITERATION: The iteration being evaluated.\n",
      "PIPELINE: A summary description of the pipeline being evaluated.\n",
      "DURATION: Time taken for the current iteration.\n",
      "METRIC: The result of computing score on the fitted pipeline.\n",
      "BEST: The best observed score thus far.\n",
      "****************************************************************************************************\n",
      "\n",
      " ITERATION   PIPELINE                                       DURATION      METRIC      BEST\n",
      "         2   MinMaxScaler RandomForest                      0:00:48       0.9253    0.9253\n",
      "         6   RobustScaler LightGBM                          0:00:49       0.9546    0.9546\n",
      "         1   MaxAbsScaler XGBoostClassifier                 0:00:54       0.9853    0.9853\n",
      "         3   MinMaxScaler RandomForest                      0:00:53       0.9106    0.9853\n",
      "         4   MinMaxScaler RandomForest                      0:00:55       0.9421    0.9853\n",
      "         9   StandardScalerWrapper LightGBM                 0:00:55       0.8621    0.9853\n",
      "         0   MaxAbsScaler LightGBM                          0:01:28       0.9874    0.9874\n",
      "         5   StandardScalerWrapper LightGBM                 0:01:28       0.9843    0.9874\n",
      "         7   TruncatedSVDWrapper XGBoostClassifier          0:01:31       0.9695    0.9874\n",
      "         8   StandardScalerWrapper LightGBM                 0:01:27       0.9614    0.9874\n",
      "        11   MaxAbsScaler LogisticRegression                0:00:49       0.9510    0.9874\n",
      "        12   MinMaxScaler LogisticRegression                0:00:50       0.9509    0.9874\n",
      "        13   SparseNormalizer XGBoostClassifier             0:00:51       0.9783    0.9874\n",
      "        14   MinMaxScaler LogisticRegression                0:00:50       0.9510    0.9874\n",
      "        10   SparseNormalizer XGBoostClassifier             0:01:10       0.9772    0.9874\n",
      "        15   SparseNormalizer XGBoostClassifier             0:00:52       0.9701    0.9874\n",
      "        16   StandardScalerWrapper LogisticRegression       0:00:57       0.9510    0.9874\n",
      "        17   StandardScalerWrapper XGBoostClassifier        0:00:58       0.9851    0.9874\n",
      "        18   MaxAbsScaler LogisticRegression                0:00:51       0.9507    0.9874\n",
      "        19   MaxAbsScaler LogisticRegression                0:00:51       0.9510    0.9874\n",
      "        20   SparseNormalizer XGBoostClassifier             0:00:47       0.9667    0.9874\n",
      "        21   SparseNormalizer XGBoostClassifier             0:00:43       0.9737    0.9874\n",
      "        22   StandardScalerWrapper LightGBM                 0:00:43       0.9723    0.9874\n",
      "        23   StandardScalerWrapper LightGBM                 0:00:45       0.9491    0.9874\n",
      "        24   SparseNormalizer XGBoostClassifier             0:00:43       0.9733    0.9874\n",
      "        25   MaxAbsScaler LightGBM                          0:01:09       0.8373    0.9874\n",
      "        26   MinMaxScaler RandomForest                      0:00:35       0.9435    0.9874\n",
      "        29   StandardScalerWrapper XGBoostClassifier        0:00:46       0.9703    0.9874\n",
      "        27   StandardScalerWrapper XGBoostClassifier        0:00:58       0.9878    0.9878\n",
      "        30   StandardScalerWrapper LightGBM                 0:00:46       0.8659    0.9878\n",
      "        31   StandardScalerWrapper XGBoostClassifier        0:00:57       0.9859    0.9878\n",
      "        33   StandardScalerWrapper LightGBM                 0:00:49       0.9142    0.9878\n",
      "        34   SparseNormalizer XGBoostClassifier             0:00:46       0.9732    0.9878\n",
      "        28   SparseNormalizer XGBoostClassifier             0:01:26       0.9753    0.9878\n",
      "        32   SparseNormalizer XGBoostClassifier             0:00:55       0.9773    0.9878\n",
      "        35   RobustScaler LightGBM                          0:00:59       0.9819    0.9878\n",
      "        36   SparseNormalizer XGBoostClassifier             0:01:11       0.9780    0.9878\n",
      "        37   MaxAbsScaler LightGBM                          0:01:09       0.9821    0.9878\n",
      "        38   StandardScalerWrapper LightGBM                 0:01:02       0.9798    0.9878\n",
      "        39   SparseNormalizer XGBoostClassifier             0:00:58       0.9788    0.9878\n",
      "        40   SparseNormalizer XGBoostClassifier             0:00:49       0.8373    0.9878\n",
      "        41   StandardScalerWrapper XGBoostClassifier        0:00:52       0.9869    0.9878\n",
      "        42   SparseNormalizer XGBoostClassifier             0:01:15       0.9785    0.9878\n",
      "        43   SparseNormalizer XGBoostClassifier             0:01:12       0.9789    0.9878\n",
      "        44   SparseNormalizer XGBoostClassifier             0:01:10       0.9773    0.9878\n",
      "        45   TruncatedSVDWrapper XGBoostClassifier          0:00:48       0.8373    0.9878\n",
      "        46   SparseNormalizer XGBoostClassifier             0:00:46       0.9715    0.9878\n",
      "        48   SparseNormalizer XGBoostClassifier             0:00:48       0.9747    0.9878\n",
      "        47   SparseNormalizer XGBoostClassifier             0:00:57       0.9780    0.9878\n",
      "        49   StandardScalerWrapper XGBoostClassifier        0:00:51          nan    0.9878\n",
      "        50   SparseNormalizer XGBoostClassifier             0:00:42       0.9678    0.9878\n",
      "        51   SparseNormalizer RandomForest                  0:00:41       0.9333    0.9878\n",
      "        52                                                  0:00:19          nan    0.9878\n",
      "        53                                                  0:00:15          nan    0.9878\n",
      "        54                                                  0:00:15          nan    0.9878\n",
      "        55                                                  0:00:18          nan    0.9878\n",
      "        56                                                  0:00:17          nan    0.9878\n",
      "        57    VotingEnsemble                                0:01:18       0.9885    0.9885\n",
      "        58    StackEnsemble                                 0:01:29       0.9879    0.9885\n"
     ]
    }
   ],
   "source": [
    "remote_run = experiment.submit(automl_config, show_output=True)"
   ]
  },
  {
   "cell_type": "markdown",
   "metadata": {},
   "source": [
    "## Run Details"
   ]
  },
  {
   "cell_type": "code",
   "execution_count": 12,
   "metadata": {},
   "outputs": [
    {
     "data": {
      "text/html": [
       "<table style=\"width:100%\"><tr><th>Experiment</th><th>Id</th><th>Type</th><th>Status</th><th>Details Page</th><th>Docs Page</th></tr><tr><td>automl-experiment</td><td>AutoML_ceea2569-ef01-4a09-ac5c-5230d248456c</td><td>automl</td><td>Completed</td><td><a href=\"https://ml.azure.com/experiments/automl-experiment/runs/AutoML_ceea2569-ef01-4a09-ac5c-5230d248456c?wsid=/subscriptions/81cefad3-d2c9-4f77-a466-99a7f541c7bb/resourcegroups/aml-quickstarts-133132/workspaces/quick-starts-ws-133132\" target=\"_blank\" rel=\"noopener\">Link to Azure Machine Learning studio</a></td><td><a href=\"https://docs.microsoft.com/en-us/python/api/overview/azure/ml/intro?view=azure-ml-py\" target=\"_blank\" rel=\"noopener\">Link to Documentation</a></td></tr></table>"
      ],
      "text/plain": [
       "Run(Experiment: automl-experiment,\n",
       "Id: AutoML_ceea2569-ef01-4a09-ac5c-5230d248456c,\n",
       "Type: automl,\n",
       "Status: Completed)"
      ]
     },
     "execution_count": 12,
     "metadata": {},
     "output_type": "execute_result"
    }
   ],
   "source": [
    "remote_run"
   ]
  },
  {
   "cell_type": "code",
   "execution_count": 13,
   "metadata": {
    "gather": {
     "logged": 1598431121770
    },
    "jupyter": {
     "outputs_hidden": false,
     "source_hidden": false
    },
    "nteract": {
     "transient": {
      "deleting": false
     }
    }
   },
   "outputs": [
    {
     "data": {
      "application/vnd.jupyter.widget-view+json": {
       "model_id": "2531fcc20f524fd0bee59d0a7d2e28a9",
       "version_major": 2,
       "version_minor": 0
      },
      "text/plain": [
       "_AutoMLWidget(widget_settings={'childWidgetDisplay': 'popup', 'send_telemetry': False, 'log_level': 'INFO', 's…"
      ]
     },
     "metadata": {},
     "output_type": "display_data"
    },
    {
     "data": {
      "application/aml.mini.widget.v1": "{\"status\": \"Completed\", \"workbench_run_details_uri\": \"https://ml.azure.com/experiments/automl-experiment/runs/AutoML_ceea2569-ef01-4a09-ac5c-5230d248456c?wsid=/subscriptions/81cefad3-d2c9-4f77-a466-99a7f541c7bb/resourcegroups/aml-quickstarts-133132/workspaces/quick-starts-ws-133132\", \"run_id\": \"AutoML_ceea2569-ef01-4a09-ac5c-5230d248456c\", \"run_properties\": {\"run_id\": \"AutoML_ceea2569-ef01-4a09-ac5c-5230d248456c\", \"created_utc\": \"2021-01-03T12:42:41.713759Z\", \"properties\": {\"num_iterations\": \"1000\", \"training_type\": \"TrainFull\", \"acquisition_function\": \"EI\", \"primary_metric\": \"accuracy\", \"train_split\": \"0\", \"acquisition_parameter\": \"0\", \"num_cross_validation\": \"3\", \"target\": \"compute-aml-cluster\", \"AMLSettingsJsonString\": \"{\\\"path\\\":null,\\\"name\\\":\\\"automl-experiment\\\",\\\"subscription_id\\\":\\\"81cefad3-d2c9-4f77-a466-99a7f541c7bb\\\",\\\"resource_group\\\":\\\"aml-quickstarts-133132\\\",\\\"workspace_name\\\":\\\"quick-starts-ws-133132\\\",\\\"region\\\":\\\"southcentralus\\\",\\\"compute_target\\\":\\\"compute-aml-cluster\\\",\\\"spark_service\\\":null,\\\"azure_service\\\":\\\"remote\\\",\\\"many_models\\\":false,\\\"pipeline_fetch_max_batch_size\\\":1,\\\"iterations\\\":1000,\\\"primary_metric\\\":\\\"accuracy\\\",\\\"task_type\\\":\\\"classification\\\",\\\"data_script\\\":null,\\\"validation_size\\\":0.0,\\\"n_cross_validations\\\":3,\\\"y_min\\\":null,\\\"y_max\\\":null,\\\"num_classes\\\":null,\\\"featurization\\\":\\\"auto\\\",\\\"_ignore_package_version_incompatibilities\\\":false,\\\"is_timeseries\\\":false,\\\"max_cores_per_iteration\\\":-1,\\\"max_concurrent_iterations\\\":10,\\\"iteration_timeout_minutes\\\":null,\\\"mem_in_mb\\\":null,\\\"enforce_time_on_windows\\\":false,\\\"experiment_timeout_minutes\\\":30,\\\"experiment_exit_score\\\":null,\\\"whitelist_models\\\":null,\\\"blacklist_algos\\\":[\\\"TensorFlowLinearClassifier\\\",\\\"TensorFlowDNN\\\"],\\\"supported_models\\\":[\\\"MultinomialNaiveBayes\\\",\\\"BernoulliNaiveBayes\\\",\\\"LightGBM\\\",\\\"SGD\\\",\\\"TensorFlowDNN\\\",\\\"ExtremeRandomTrees\\\",\\\"TensorFlowLinearClassifier\\\",\\\"AveragedPerceptronClassifier\\\",\\\"SVM\\\",\\\"GradientBoosting\\\",\\\"DecisionTree\\\",\\\"XGBoostClassifier\\\",\\\"LinearSVM\\\",\\\"KNN\\\",\\\"RandomForest\\\",\\\"LogisticRegression\\\"],\\\"auto_blacklist\\\":true,\\\"blacklist_samples_reached\\\":false,\\\"exclude_nan_labels\\\":true,\\\"verbosity\\\":20,\\\"_debug_log\\\":\\\"azureml_automl.log\\\",\\\"show_warnings\\\":false,\\\"model_explainability\\\":true,\\\"service_url\\\":null,\\\"sdk_url\\\":null,\\\"sdk_packages\\\":null,\\\"enable_onnx_compatible_models\\\":false,\\\"enable_split_onnx_featurizer_estimator_models\\\":false,\\\"vm_type\\\":\\\"STANDARD_D13_V2\\\",\\\"telemetry_verbosity\\\":20,\\\"send_telemetry\\\":true,\\\"enable_dnn\\\":false,\\\"scenario\\\":\\\"SDK-1.13.0\\\",\\\"environment_label\\\":null,\\\"force_text_dnn\\\":false,\\\"enable_feature_sweeping\\\":true,\\\"enable_early_stopping\\\":true,\\\"early_stopping_n_iters\\\":10,\\\"metrics\\\":null,\\\"enable_ensembling\\\":true,\\\"enable_stack_ensembling\\\":true,\\\"ensemble_iterations\\\":15,\\\"enable_tf\\\":false,\\\"enable_subsampling\\\":null,\\\"subsample_seed\\\":null,\\\"enable_nimbusml\\\":false,\\\"enable_streaming\\\":false,\\\"force_streaming\\\":false,\\\"track_child_runs\\\":true,\\\"allowed_private_models\\\":[],\\\"label_column_name\\\":\\\"Attrition_Flag\\\",\\\"weight_column_name\\\":null,\\\"cv_split_column_names\\\":null,\\\"enable_local_managed\\\":false,\\\"_local_managed_run_id\\\":null,\\\"cost_mode\\\":1,\\\"lag_length\\\":0,\\\"metric_operation\\\":\\\"maximize\\\",\\\"preprocess\\\":true}\", \"DataPrepJsonString\": \"{\\\\\\\"training_data\\\\\\\": \\\\\\\"{\\\\\\\\\\\\\\\"blocks\\\\\\\\\\\\\\\": [{\\\\\\\\\\\\\\\"id\\\\\\\\\\\\\\\": \\\\\\\\\\\\\\\"ab55ce9e-4800-458d-9c95-c0641a633cfa\\\\\\\\\\\\\\\", \\\\\\\\\\\\\\\"type\\\\\\\\\\\\\\\": \\\\\\\\\\\\\\\"Microsoft.DPrep.GetDatastoreFilesBlock\\\\\\\\\\\\\\\", \\\\\\\\\\\\\\\"arguments\\\\\\\\\\\\\\\": {\\\\\\\\\\\\\\\"datastores\\\\\\\\\\\\\\\": [{\\\\\\\\\\\\\\\"datastoreName\\\\\\\\\\\\\\\": \\\\\\\\\\\\\\\"workspaceblobstore\\\\\\\\\\\\\\\", \\\\\\\\\\\\\\\"path\\\\\\\\\\\\\\\": \\\\\\\\\\\\\\\"data/train_data.csv\\\\\\\\\\\\\\\", \\\\\\\\\\\\\\\"resourceGroup\\\\\\\\\\\\\\\": \\\\\\\\\\\\\\\"aml-quickstarts-133132\\\\\\\\\\\\\\\", \\\\\\\\\\\\\\\"subscription\\\\\\\\\\\\\\\": \\\\\\\\\\\\\\\"81cefad3-d2c9-4f77-a466-99a7f541c7bb\\\\\\\\\\\\\\\", \\\\\\\\\\\\\\\"workspaceName\\\\\\\\\\\\\\\": \\\\\\\\\\\\\\\"quick-starts-ws-133132\\\\\\\\\\\\\\\"}]}, \\\\\\\\\\\\\\\"localData\\\\\\\\\\\\\\\": {}, \\\\\\\\\\\\\\\"isEnabled\\\\\\\\\\\\\\\": true, \\\\\\\\\\\\\\\"name\\\\\\\\\\\\\\\": null, \\\\\\\\\\\\\\\"annotation\\\\\\\\\\\\\\\": null}, {\\\\\\\\\\\\\\\"id\\\\\\\\\\\\\\\": \\\\\\\\\\\\\\\"b7069be8-b83a-4cb1-aacd-d3dc4991f703\\\\\\\\\\\\\\\", \\\\\\\\\\\\\\\"type\\\\\\\\\\\\\\\": \\\\\\\\\\\\\\\"Microsoft.DPrep.ParseDelimitedBlock\\\\\\\\\\\\\\\", \\\\\\\\\\\\\\\"arguments\\\\\\\\\\\\\\\": {\\\\\\\\\\\\\\\"columnHeadersMode\\\\\\\\\\\\\\\": 3, \\\\\\\\\\\\\\\"fileEncoding\\\\\\\\\\\\\\\": 0, \\\\\\\\\\\\\\\"handleQuotedLineBreaks\\\\\\\\\\\\\\\": false, \\\\\\\\\\\\\\\"preview\\\\\\\\\\\\\\\": false, \\\\\\\\\\\\\\\"separator\\\\\\\\\\\\\\\": \\\\\\\\\\\\\\\",\\\\\\\\\\\\\\\", \\\\\\\\\\\\\\\"skipRows\\\\\\\\\\\\\\\": 0, \\\\\\\\\\\\\\\"skipRowsMode\\\\\\\\\\\\\\\": 0}, \\\\\\\\\\\\\\\"localData\\\\\\\\\\\\\\\": {}, \\\\\\\\\\\\\\\"isEnabled\\\\\\\\\\\\\\\": true, \\\\\\\\\\\\\\\"name\\\\\\\\\\\\\\\": null, \\\\\\\\\\\\\\\"annotation\\\\\\\\\\\\\\\": null}, {\\\\\\\\\\\\\\\"id\\\\\\\\\\\\\\\": \\\\\\\\\\\\\\\"ccb4f1ae-c13b-46d1-916c-37dd7d7025d0\\\\\\\\\\\\\\\", \\\\\\\\\\\\\\\"type\\\\\\\\\\\\\\\": \\\\\\\\\\\\\\\"Microsoft.DPrep.DropColumnsBlock\\\\\\\\\\\\\\\", \\\\\\\\\\\\\\\"arguments\\\\\\\\\\\\\\\": {\\\\\\\\\\\\\\\"columns\\\\\\\\\\\\\\\": {\\\\\\\\\\\\\\\"type\\\\\\\\\\\\\\\": 0, \\\\\\\\\\\\\\\"details\\\\\\\\\\\\\\\": {\\\\\\\\\\\\\\\"selectedColumns\\\\\\\\\\\\\\\": [\\\\\\\\\\\\\\\"Path\\\\\\\\\\\\\\\"]}}}, \\\\\\\\\\\\\\\"localData\\\\\\\\\\\\\\\": {}, \\\\\\\\\\\\\\\"isEnabled\\\\\\\\\\\\\\\": true, \\\\\\\\\\\\\\\"name\\\\\\\\\\\\\\\": null, \\\\\\\\\\\\\\\"annotation\\\\\\\\\\\\\\\": null}, {\\\\\\\\\\\\\\\"id\\\\\\\\\\\\\\\": \\\\\\\\\\\\\\\"503e94dd-e8c7-4a30-b2c6-068facb0cb1e\\\\\\\\\\\\\\\", \\\\\\\\\\\\\\\"type\\\\\\\\\\\\\\\": \\\\\\\\\\\\\\\"Microsoft.DPrep.SetColumnTypesBlock\\\\\\\\\\\\\\\", \\\\\\\\\\\\\\\"arguments\\\\\\\\\\\\\\\": {\\\\\\\\\\\\\\\"columnConversion\\\\\\\\\\\\\\\": [{\\\\\\\\\\\\\\\"column\\\\\\\\\\\\\\\": {\\\\\\\\\\\\\\\"type\\\\\\\\\\\\\\\": 2, \\\\\\\\\\\\\\\"details\\\\\\\\\\\\\\\": {\\\\\\\\\\\\\\\"selectedColumn\\\\\\\\\\\\\\\": \\\\\\\\\\\\\\\"Column1\\\\\\\\\\\\\\\"}}, \\\\\\\\\\\\\\\"typeProperty\\\\\\\\\\\\\\\": 2}, {\\\\\\\\\\\\\\\"column\\\\\\\\\\\\\\\": {\\\\\\\\\\\\\\\"type\\\\\\\\\\\\\\\": 2, \\\\\\\\\\\\\\\"details\\\\\\\\\\\\\\\": {\\\\\\\\\\\\\\\"selectedColumn\\\\\\\\\\\\\\\": \\\\\\\\\\\\\\\"Customer_Age\\\\\\\\\\\\\\\"}}, \\\\\\\\\\\\\\\"typeProperty\\\\\\\\\\\\\\\": 3}, {\\\\\\\\\\\\\\\"column\\\\\\\\\\\\\\\": {\\\\\\\\\\\\\\\"type\\\\\\\\\\\\\\\": 2, \\\\\\\\\\\\\\\"details\\\\\\\\\\\\\\\": {\\\\\\\\\\\\\\\"selectedColumn\\\\\\\\\\\\\\\": \\\\\\\\\\\\\\\"Gender\\\\\\\\\\\\\\\"}}, \\\\\\\\\\\\\\\"typeProperty\\\\\\\\\\\\\\\": 3}, {\\\\\\\\\\\\\\\"column\\\\\\\\\\\\\\\": {\\\\\\\\\\\\\\\"type\\\\\\\\\\\\\\\": 2, \\\\\\\\\\\\\\\"details\\\\\\\\\\\\\\\": {\\\\\\\\\\\\\\\"selectedColumn\\\\\\\\\\\\\\\": \\\\\\\\\\\\\\\"Dependent_count\\\\\\\\\\\\\\\"}}, \\\\\\\\\\\\\\\"typeProperty\\\\\\\\\\\\\\\": 3}, {\\\\\\\\\\\\\\\"column\\\\\\\\\\\\\\\": {\\\\\\\\\\\\\\\"type\\\\\\\\\\\\\\\": 2, \\\\\\\\\\\\\\\"details\\\\\\\\\\\\\\\": {\\\\\\\\\\\\\\\"selectedColumn\\\\\\\\\\\\\\\": \\\\\\\\\\\\\\\"Education_Level\\\\\\\\\\\\\\\"}}, \\\\\\\\\\\\\\\"typeProperty\\\\\\\\\\\\\\\": 3}, {\\\\\\\\\\\\\\\"column\\\\\\\\\\\\\\\": {\\\\\\\\\\\\\\\"type\\\\\\\\\\\\\\\": 2, \\\\\\\\\\\\\\\"details\\\\\\\\\\\\\\\": {\\\\\\\\\\\\\\\"selectedColumn\\\\\\\\\\\\\\\": \\\\\\\\\\\\\\\"Income_Category\\\\\\\\\\\\\\\"}}, \\\\\\\\\\\\\\\"typeProperty\\\\\\\\\\\\\\\": 3}, {\\\\\\\\\\\\\\\"column\\\\\\\\\\\\\\\": {\\\\\\\\\\\\\\\"type\\\\\\\\\\\\\\\": 2, \\\\\\\\\\\\\\\"details\\\\\\\\\\\\\\\": {\\\\\\\\\\\\\\\"selectedColumn\\\\\\\\\\\\\\\": \\\\\\\\\\\\\\\"Months_on_book\\\\\\\\\\\\\\\"}}, \\\\\\\\\\\\\\\"typeProperty\\\\\\\\\\\\\\\": 3}, {\\\\\\\\\\\\\\\"column\\\\\\\\\\\\\\\": {\\\\\\\\\\\\\\\"type\\\\\\\\\\\\\\\": 2, \\\\\\\\\\\\\\\"details\\\\\\\\\\\\\\\": {\\\\\\\\\\\\\\\"selectedColumn\\\\\\\\\\\\\\\": \\\\\\\\\\\\\\\"Total_Relationship_Count\\\\\\\\\\\\\\\"}}, \\\\\\\\\\\\\\\"typeProperty\\\\\\\\\\\\\\\": 3}, {\\\\\\\\\\\\\\\"column\\\\\\\\\\\\\\\": {\\\\\\\\\\\\\\\"type\\\\\\\\\\\\\\\": 2, \\\\\\\\\\\\\\\"details\\\\\\\\\\\\\\\": {\\\\\\\\\\\\\\\"selectedColumn\\\\\\\\\\\\\\\": \\\\\\\\\\\\\\\"Months_Inactive_12_mon\\\\\\\\\\\\\\\"}}, \\\\\\\\\\\\\\\"typeProperty\\\\\\\\\\\\\\\": 3}, {\\\\\\\\\\\\\\\"column\\\\\\\\\\\\\\\": {\\\\\\\\\\\\\\\"type\\\\\\\\\\\\\\\": 2, \\\\\\\\\\\\\\\"details\\\\\\\\\\\\\\\": {\\\\\\\\\\\\\\\"selectedColumn\\\\\\\\\\\\\\\": \\\\\\\\\\\\\\\"Contacts_Count_12_mon\\\\\\\\\\\\\\\"}}, \\\\\\\\\\\\\\\"typeProperty\\\\\\\\\\\\\\\": 3}, {\\\\\\\\\\\\\\\"column\\\\\\\\\\\\\\\": {\\\\\\\\\\\\\\\"type\\\\\\\\\\\\\\\": 2, \\\\\\\\\\\\\\\"details\\\\\\\\\\\\\\\": {\\\\\\\\\\\\\\\"selectedColumn\\\\\\\\\\\\\\\": \\\\\\\\\\\\\\\"Credit_Limit\\\\\\\\\\\\\\\"}}, \\\\\\\\\\\\\\\"typeProperty\\\\\\\\\\\\\\\": 3}, {\\\\\\\\\\\\\\\"column\\\\\\\\\\\\\\\": {\\\\\\\\\\\\\\\"type\\\\\\\\\\\\\\\": 2, \\\\\\\\\\\\\\\"details\\\\\\\\\\\\\\\": {\\\\\\\\\\\\\\\"selectedColumn\\\\\\\\\\\\\\\": \\\\\\\\\\\\\\\"Total_Revolving_Bal\\\\\\\\\\\\\\\"}}, \\\\\\\\\\\\\\\"typeProperty\\\\\\\\\\\\\\\": 3}, {\\\\\\\\\\\\\\\"column\\\\\\\\\\\\\\\": {\\\\\\\\\\\\\\\"type\\\\\\\\\\\\\\\": 2, \\\\\\\\\\\\\\\"details\\\\\\\\\\\\\\\": {\\\\\\\\\\\\\\\"selectedColumn\\\\\\\\\\\\\\\": \\\\\\\\\\\\\\\"Avg_Open_To_Buy\\\\\\\\\\\\\\\"}}, \\\\\\\\\\\\\\\"typeProperty\\\\\\\\\\\\\\\": 3}, {\\\\\\\\\\\\\\\"column\\\\\\\\\\\\\\\": {\\\\\\\\\\\\\\\"type\\\\\\\\\\\\\\\": 2, \\\\\\\\\\\\\\\"details\\\\\\\\\\\\\\\": {\\\\\\\\\\\\\\\"selectedColumn\\\\\\\\\\\\\\\": \\\\\\\\\\\\\\\"Total_Amt_Chng_Q4_Q1\\\\\\\\\\\\\\\"}}, \\\\\\\\\\\\\\\"typeProperty\\\\\\\\\\\\\\\": 3}, {\\\\\\\\\\\\\\\"column\\\\\\\\\\\\\\\": {\\\\\\\\\\\\\\\"type\\\\\\\\\\\\\\\": 2, \\\\\\\\\\\\\\\"details\\\\\\\\\\\\\\\": {\\\\\\\\\\\\\\\"selectedColumn\\\\\\\\\\\\\\\": \\\\\\\\\\\\\\\"Total_Trans_Amt\\\\\\\\\\\\\\\"}}, \\\\\\\\\\\\\\\"typeProperty\\\\\\\\\\\\\\\": 3}, {\\\\\\\\\\\\\\\"column\\\\\\\\\\\\\\\": {\\\\\\\\\\\\\\\"type\\\\\\\\\\\\\\\": 2, \\\\\\\\\\\\\\\"details\\\\\\\\\\\\\\\": {\\\\\\\\\\\\\\\"selectedColumn\\\\\\\\\\\\\\\": \\\\\\\\\\\\\\\"Total_Trans_Ct\\\\\\\\\\\\\\\"}}, \\\\\\\\\\\\\\\"typeProperty\\\\\\\\\\\\\\\": 3}, {\\\\\\\\\\\\\\\"column\\\\\\\\\\\\\\\": {\\\\\\\\\\\\\\\"type\\\\\\\\\\\\\\\": 2, \\\\\\\\\\\\\\\"details\\\\\\\\\\\\\\\": {\\\\\\\\\\\\\\\"selectedColumn\\\\\\\\\\\\\\\": \\\\\\\\\\\\\\\"Total_Ct_Chng_Q4_Q1\\\\\\\\\\\\\\\"}}, \\\\\\\\\\\\\\\"typeProperty\\\\\\\\\\\\\\\": 3}, {\\\\\\\\\\\\\\\"column\\\\\\\\\\\\\\\": {\\\\\\\\\\\\\\\"type\\\\\\\\\\\\\\\": 2, \\\\\\\\\\\\\\\"details\\\\\\\\\\\\\\\": {\\\\\\\\\\\\\\\"selectedColumn\\\\\\\\\\\\\\\": \\\\\\\\\\\\\\\"Avg_Utilization_Ratio\\\\\\\\\\\\\\\"}}, \\\\\\\\\\\\\\\"typeProperty\\\\\\\\\\\\\\\": 3}, {\\\\\\\\\\\\\\\"column\\\\\\\\\\\\\\\": {\\\\\\\\\\\\\\\"type\\\\\\\\\\\\\\\": 2, \\\\\\\\\\\\\\\"details\\\\\\\\\\\\\\\": {\\\\\\\\\\\\\\\"selectedColumn\\\\\\\\\\\\\\\": \\\\\\\\\\\\\\\"Marital_Status_Divorced\\\\\\\\\\\\\\\"}}, \\\\\\\\\\\\\\\"typeProperty\\\\\\\\\\\\\\\": 3}, {\\\\\\\\\\\\\\\"column\\\\\\\\\\\\\\\": {\\\\\\\\\\\\\\\"type\\\\\\\\\\\\\\\": 2, \\\\\\\\\\\\\\\"details\\\\\\\\\\\\\\\": {\\\\\\\\\\\\\\\"selectedColumn\\\\\\\\\\\\\\\": \\\\\\\\\\\\\\\"Marital_Status_Married\\\\\\\\\\\\\\\"}}, \\\\\\\\\\\\\\\"typeProperty\\\\\\\\\\\\\\\": 3}, {\\\\\\\\\\\\\\\"column\\\\\\\\\\\\\\\": {\\\\\\\\\\\\\\\"type\\\\\\\\\\\\\\\": 2, \\\\\\\\\\\\\\\"details\\\\\\\\\\\\\\\": {\\\\\\\\\\\\\\\"selectedColumn\\\\\\\\\\\\\\\": \\\\\\\\\\\\\\\"Marital_Status_Single\\\\\\\\\\\\\\\"}}, \\\\\\\\\\\\\\\"typeProperty\\\\\\\\\\\\\\\": 3}, {\\\\\\\\\\\\\\\"column\\\\\\\\\\\\\\\": {\\\\\\\\\\\\\\\"type\\\\\\\\\\\\\\\": 2, \\\\\\\\\\\\\\\"details\\\\\\\\\\\\\\\": {\\\\\\\\\\\\\\\"selectedColumn\\\\\\\\\\\\\\\": \\\\\\\\\\\\\\\"Card_Category_Blue\\\\\\\\\\\\\\\"}}, \\\\\\\\\\\\\\\"typeProperty\\\\\\\\\\\\\\\": 3}, {\\\\\\\\\\\\\\\"column\\\\\\\\\\\\\\\": {\\\\\\\\\\\\\\\"type\\\\\\\\\\\\\\\": 2, \\\\\\\\\\\\\\\"details\\\\\\\\\\\\\\\": {\\\\\\\\\\\\\\\"selectedColumn\\\\\\\\\\\\\\\": \\\\\\\\\\\\\\\"Card_Category_Gold\\\\\\\\\\\\\\\"}}, \\\\\\\\\\\\\\\"typeProperty\\\\\\\\\\\\\\\": 3}, {\\\\\\\\\\\\\\\"column\\\\\\\\\\\\\\\": {\\\\\\\\\\\\\\\"type\\\\\\\\\\\\\\\": 2, \\\\\\\\\\\\\\\"details\\\\\\\\\\\\\\\": {\\\\\\\\\\\\\\\"selectedColumn\\\\\\\\\\\\\\\": \\\\\\\\\\\\\\\"Card_Category_Platinum\\\\\\\\\\\\\\\"}}, \\\\\\\\\\\\\\\"typeProperty\\\\\\\\\\\\\\\": 3}, {\\\\\\\\\\\\\\\"column\\\\\\\\\\\\\\\": {\\\\\\\\\\\\\\\"type\\\\\\\\\\\\\\\": 2, \\\\\\\\\\\\\\\"details\\\\\\\\\\\\\\\": {\\\\\\\\\\\\\\\"selectedColumn\\\\\\\\\\\\\\\": \\\\\\\\\\\\\\\"Card_Category_Silver\\\\\\\\\\\\\\\"}}, \\\\\\\\\\\\\\\"typeProperty\\\\\\\\\\\\\\\": 3}, {\\\\\\\\\\\\\\\"column\\\\\\\\\\\\\\\": {\\\\\\\\\\\\\\\"type\\\\\\\\\\\\\\\": 2, \\\\\\\\\\\\\\\"details\\\\\\\\\\\\\\\": {\\\\\\\\\\\\\\\"selectedColumn\\\\\\\\\\\\\\\": \\\\\\\\\\\\\\\"Attrition_Flag\\\\\\\\\\\\\\\"}}, \\\\\\\\\\\\\\\"typeProperty\\\\\\\\\\\\\\\": 2}]}, \\\\\\\\\\\\\\\"localData\\\\\\\\\\\\\\\": {}, \\\\\\\\\\\\\\\"isEnabled\\\\\\\\\\\\\\\": true, \\\\\\\\\\\\\\\"name\\\\\\\\\\\\\\\": null, \\\\\\\\\\\\\\\"annotation\\\\\\\\\\\\\\\": null}], \\\\\\\\\\\\\\\"inspectors\\\\\\\\\\\\\\\": [], \\\\\\\\\\\\\\\"meta\\\\\\\\\\\\\\\": {\\\\\\\\\\\\\\\"savedDatasetId\\\\\\\\\\\\\\\": \\\\\\\\\\\\\\\"57fd53df-386f-4c14-a2ff-4331d95f5778\\\\\\\\\\\\\\\", \\\\\\\\\\\\\\\"datasetType\\\\\\\\\\\\\\\": \\\\\\\\\\\\\\\"tabular\\\\\\\\\\\\\\\", \\\\\\\\\\\\\\\"subscriptionId\\\\\\\\\\\\\\\": \\\\\\\\\\\\\\\"81cefad3-d2c9-4f77-a466-99a7f541c7bb\\\\\\\\\\\\\\\", \\\\\\\\\\\\\\\"workspaceId\\\\\\\\\\\\\\\": \\\\\\\\\\\\\\\"1bc1184b-0d99-47b2-b8b1-a9aba83249ed\\\\\\\\\\\\\\\", \\\\\\\\\\\\\\\"workspaceLocation\\\\\\\\\\\\\\\": \\\\\\\\\\\\\\\"southcentralus\\\\\\\\\\\\\\\"}}\\\\\\\", \\\\\\\"activities\\\\\\\": 0}\", \"EnableSubsampling\": null, \"runTemplate\": \"AutoML\", \"azureml.runsource\": \"automl\", \"display_task_type\": \"classification\", \"dependencies_versions\": \"{\\\"azureml-widgets\\\": \\\"1.19.0\\\", \\\"azureml-train\\\": \\\"1.19.0\\\", \\\"azureml-train-restclients-hyperdrive\\\": \\\"1.19.0\\\", \\\"azureml-train-core\\\": \\\"1.19.0\\\", \\\"azureml-train-automl\\\": \\\"1.19.0\\\", \\\"azureml-train-automl-runtime\\\": \\\"1.19.0\\\", \\\"azureml-train-automl-client\\\": \\\"1.19.0\\\", \\\"azureml-tensorboard\\\": \\\"1.19.0\\\", \\\"azureml-telemetry\\\": \\\"1.19.0\\\", \\\"azureml-sdk\\\": \\\"1.19.0\\\", \\\"azureml-samples\\\": \\\"0+unknown\\\", \\\"azureml-pipeline\\\": \\\"1.19.0\\\", \\\"azureml-pipeline-steps\\\": \\\"1.19.0\\\", \\\"azureml-pipeline-core\\\": \\\"1.19.0\\\", \\\"azureml-opendatasets\\\": \\\"1.19.0\\\", \\\"azureml-model-management-sdk\\\": \\\"1.0.1b6.post1\\\", \\\"azureml-mlflow\\\": \\\"1.19.0\\\", \\\"azureml-interpret\\\": \\\"1.19.0\\\", \\\"azureml-explain-model\\\": \\\"1.19.0\\\", \\\"azureml-defaults\\\": \\\"1.19.0\\\", \\\"azureml-dataset-runtime\\\": \\\"1.19.0\\\", \\\"azureml-dataprep\\\": \\\"2.6.1\\\", \\\"azureml-dataprep-rslex\\\": \\\"1.4.0\\\", \\\"azureml-dataprep-native\\\": \\\"26.0.0\\\", \\\"azureml-datadrift\\\": \\\"1.19.0\\\", \\\"azureml-core\\\": \\\"1.19.0\\\", \\\"azureml-contrib-services\\\": \\\"1.19.0\\\", \\\"azureml-contrib-server\\\": \\\"1.19.0\\\", \\\"azureml-contrib-reinforcementlearning\\\": \\\"1.19.0\\\", \\\"azureml-contrib-pipeline-steps\\\": \\\"1.19.0\\\", \\\"azureml-contrib-notebook\\\": \\\"1.19.0\\\", \\\"azureml-contrib-interpret\\\": \\\"1.19.0\\\", \\\"azureml-contrib-gbdt\\\": \\\"1.19.0\\\", \\\"azureml-contrib-fairness\\\": \\\"1.19.0\\\", \\\"azureml-contrib-dataset\\\": \\\"1.19.0\\\", \\\"azureml-cli-common\\\": \\\"1.19.0\\\", \\\"azureml-automl-runtime\\\": \\\"1.19.0\\\", \\\"azureml-automl-core\\\": \\\"1.19.0\\\", \\\"azureml-accel-models\\\": \\\"1.19.0\\\"}\", \"_aml_system_scenario_identification\": \"Remote.Parent\", \"ClientType\": \"SDK\", \"environment_cpu_name\": \"AzureML-AutoML\", \"environment_cpu_label\": \"prod\", \"environment_gpu_name\": \"AzureML-AutoML-GPU\", \"environment_gpu_label\": \"prod\", \"root_attribution\": \"automl\", \"attribution\": \"AutoML\", \"Orchestrator\": \"AutoML\", \"CancelUri\": \"https://southcentralus.experiments.azureml.net/jasmine/v1.0/subscriptions/81cefad3-d2c9-4f77-a466-99a7f541c7bb/resourceGroups/aml-quickstarts-133132/providers/Microsoft.MachineLearningServices/workspaces/quick-starts-ws-133132/experimentids/3ec5e294-f3a0-4945-91b7-a34a74ae9fa0/cancel/AutoML_ceea2569-ef01-4a09-ac5c-5230d248456c\", \"ClientSdkVersion\": \"1.19.0\", \"snapshotId\": \"00000000-0000-0000-0000-000000000000\", \"SetupRunId\": \"AutoML_ceea2569-ef01-4a09-ac5c-5230d248456c_setup\", \"SetupRunContainerId\": \"dcid.AutoML_ceea2569-ef01-4a09-ac5c-5230d248456c_setup\", \"FeaturizationRunJsonPath\": \"featurizer_container.json\", \"FeaturizationRunId\": \"AutoML_ceea2569-ef01-4a09-ac5c-5230d248456c_featurize\", \"ProblemInfoJsonString\": \"{\\\"dataset_num_categorical\\\": 0, \\\"is_sparse\\\": false, \\\"subsampling\\\": false, \\\"dataset_classes\\\": 2, \\\"dataset_features\\\": 25, \\\"dataset_samples\\\": 8101, \\\"single_frequency_class_detected\\\": false}\", \"ModelExplainRunId\": \"AutoML_ceea2569-ef01-4a09-ac5c-5230d248456c_ModelExplain\"}, \"tags\": {\"model_explain_run\": \"best_run\", \"_aml_system_azureml.automlComponent\": \"AutoML\", \"pipeline_id\": \"\", \"score\": \"\", \"predicted_cost\": \"\", \"fit_time\": \"\", \"training_percent\": \"\", \"iteration\": \"\", \"run_preprocessor\": \"\", \"run_algorithm\": \"\", \"dynamic_whitelisting_iterations\": \"<25>;<30>;<35>;<40>;<45>;<50>;<55>;\", \"automl_best_child_run_id\": \"AutoML_ceea2569-ef01-4a09-ac5c-5230d248456c_57\", \"model_explain_best_run_child_id\": \"AutoML_ceea2569-ef01-4a09-ac5c-5230d248456c_57\"}, \"end_time_utc\": \"2021-01-03T12:53:56.929822Z\", \"status\": \"Completed\", \"log_files\": {}, \"log_groups\": [], \"run_duration\": \"0:11:15\"}, \"child_runs\": [{\"run_id\": \"AutoML_ceea2569-ef01-4a09-ac5c-5230d248456c_0\", \"run_number\": 61, \"metric\": null, \"status\": \"Completed\", \"run_type\": \"azureml.scriptrun\", \"training_percent\": \"100\", \"start_time\": \"2021-01-03T12:45:38.460281Z\", \"end_time\": \"2021-01-03T12:47:06.137852Z\", \"created_time\": \"2021-01-03T12:45:25.155283Z\", \"created_time_dt\": \"2021-01-03T12:45:25.155283Z\", \"duration\": \"0:01:40\", \"iteration\": \"0\", \"goal\": \"accuracy_max\", \"run_name\": \"MaxAbsScaler, LightGBM\", \"run_properties\": \"copy=True\", \"primary_metric\": 0.98740896, \"best_metric\": 0.98740896}, {\"run_id\": \"AutoML_ceea2569-ef01-4a09-ac5c-5230d248456c_1\", \"run_number\": 62, \"metric\": null, \"status\": \"Completed\", \"run_type\": \"azureml.scriptrun\", \"training_percent\": \"100\", \"start_time\": \"2021-01-03T12:45:39.378448Z\", \"end_time\": \"2021-01-03T12:46:32.906938Z\", \"created_time\": \"2021-01-03T12:45:25.177788Z\", \"created_time_dt\": \"2021-01-03T12:45:25.177788Z\", \"duration\": \"0:01:07\", \"iteration\": \"1\", \"goal\": \"accuracy_max\", \"run_name\": \"MaxAbsScaler, XGBoostClassifier\", \"run_properties\": \"copy=True\", \"primary_metric\": 0.98531061, \"best_metric\": 0.98740896}, {\"run_id\": \"AutoML_ceea2569-ef01-4a09-ac5c-5230d248456c_9\", \"run_number\": 63, \"metric\": null, \"status\": \"Completed\", \"run_type\": \"azureml.scriptrun\", \"training_percent\": \"100\", \"start_time\": \"2021-01-03T12:45:37.685189Z\", \"end_time\": \"2021-01-03T12:46:32.459962Z\", \"created_time\": \"2021-01-03T12:45:25.266371Z\", \"created_time_dt\": \"2021-01-03T12:45:25.266371Z\", \"duration\": \"0:01:07\", \"iteration\": \"9\", \"goal\": \"accuracy_max\", \"run_name\": \"StandardScalerWrapper, LightGBM\", \"run_properties\": \"<azureml.automl.runtime.shared.model_wrappers.StandardScalerWrapper object at 0x7f9e61fd40b8\", \"primary_metric\": 0.86211536, \"best_metric\": 0.98740896}, {\"run_id\": \"AutoML_ceea2569-ef01-4a09-ac5c-5230d248456c_2\", \"run_number\": 64, \"metric\": null, \"status\": \"Completed\", \"run_type\": \"azureml.scriptrun\", \"training_percent\": \"100\", \"start_time\": \"2021-01-03T12:45:37.578125Z\", \"end_time\": \"2021-01-03T12:46:25.2866Z\", \"created_time\": \"2021-01-03T12:45:25.276017Z\", \"created_time_dt\": \"2021-01-03T12:45:25.276017Z\", \"duration\": \"0:01:00\", \"iteration\": \"2\", \"goal\": \"accuracy_max\", \"run_name\": \"MinMaxScaler, RandomForest\", \"run_properties\": \"copy=True, feature_range=(0, 1\", \"primary_metric\": 0.92531856, \"best_metric\": 0.98740896}, {\"run_id\": \"AutoML_ceea2569-ef01-4a09-ac5c-5230d248456c_3\", \"run_number\": 65, \"metric\": null, \"status\": \"Completed\", \"run_type\": \"azureml.scriptrun\", \"training_percent\": \"100\", \"start_time\": \"2021-01-03T12:45:38.144778Z\", \"end_time\": \"2021-01-03T12:46:31.572778Z\", \"created_time\": \"2021-01-03T12:45:25.848298Z\", \"created_time_dt\": \"2021-01-03T12:45:25.848298Z\", \"duration\": \"0:01:05\", \"iteration\": \"3\", \"goal\": \"accuracy_max\", \"run_name\": \"MinMaxScaler, RandomForest\", \"run_properties\": \"copy=True, feature_range=(0, 1\", \"primary_metric\": 0.91062926, \"best_metric\": 0.98740896}, {\"run_id\": \"AutoML_ceea2569-ef01-4a09-ac5c-5230d248456c_7\", \"run_number\": 66, \"metric\": null, \"status\": \"Completed\", \"run_type\": \"azureml.scriptrun\", \"training_percent\": \"100\", \"start_time\": \"2021-01-03T12:45:38.595829Z\", \"end_time\": \"2021-01-03T12:47:09.472224Z\", \"created_time\": \"2021-01-03T12:45:25.873623Z\", \"created_time_dt\": \"2021-01-03T12:45:25.873623Z\", \"duration\": \"0:01:43\", \"iteration\": \"7\", \"goal\": \"accuracy_max\", \"run_name\": \"TruncatedSVDWrapper, XGBoostClassifier\", \"run_properties\": \"n_components=0.8015789473684211, random_state=None\", \"primary_metric\": 0.96950997, \"best_metric\": 0.98740896}, {\"run_id\": \"AutoML_ceea2569-ef01-4a09-ac5c-5230d248456c_8\", \"run_number\": 67, \"metric\": null, \"status\": \"Completed\", \"run_type\": \"azureml.scriptrun\", \"training_percent\": \"100\", \"start_time\": \"2021-01-03T12:45:38.714713Z\", \"end_time\": \"2021-01-03T12:47:05.513402Z\", \"created_time\": \"2021-01-03T12:45:25.874655Z\", \"created_time_dt\": \"2021-01-03T12:45:25.874655Z\", \"duration\": \"0:01:39\", \"iteration\": \"8\", \"goal\": \"accuracy_max\", \"run_name\": \"StandardScalerWrapper, LightGBM\", \"run_properties\": \"<azureml.automl.runtime.shared.model_wrappers.StandardScalerWrapper object at 0x7f010d9d08d0\", \"primary_metric\": 0.96136196, \"best_metric\": 0.98740896}, {\"run_id\": \"AutoML_ceea2569-ef01-4a09-ac5c-5230d248456c_6\", \"run_number\": 68, \"metric\": null, \"status\": \"Completed\", \"run_type\": \"azureml.scriptrun\", \"training_percent\": \"100\", \"start_time\": \"2021-01-03T12:45:37.657209Z\", \"end_time\": \"2021-01-03T12:46:26.18994Z\", \"created_time\": \"2021-01-03T12:45:25.888614Z\", \"created_time_dt\": \"2021-01-03T12:45:25.888614Z\", \"duration\": \"0:01:00\", \"iteration\": \"6\", \"goal\": \"accuracy_max\", \"run_name\": \"RobustScaler, LightGBM\", \"run_properties\": \"copy=True, quantile_range=[10, 90], with_centering=True,\\n             with_scaling=False\", \"primary_metric\": 0.95457352, \"best_metric\": 0.98740896}, {\"run_id\": \"AutoML_ceea2569-ef01-4a09-ac5c-5230d248456c_5\", \"run_number\": 69, \"metric\": null, \"status\": \"Completed\", \"run_type\": \"azureml.scriptrun\", \"training_percent\": \"100\", \"start_time\": \"2021-01-03T12:45:40.34171Z\", \"end_time\": \"2021-01-03T12:47:08.07706Z\", \"created_time\": \"2021-01-03T12:45:26.338045Z\", \"created_time_dt\": \"2021-01-03T12:45:26.338045Z\", \"duration\": \"0:01:41\", \"iteration\": \"5\", \"goal\": \"accuracy_max\", \"run_name\": \"StandardScalerWrapper, LightGBM\", \"run_properties\": \"<azureml.automl.runtime.shared.model_wrappers.StandardScalerWrapper object at 0x7fe8825ec630\", \"primary_metric\": 0.984323, \"best_metric\": 0.98740896}, {\"run_id\": \"AutoML_ceea2569-ef01-4a09-ac5c-5230d248456c_4\", \"run_number\": 70, \"metric\": null, \"status\": \"Completed\", \"run_type\": \"azureml.scriptrun\", \"training_percent\": \"100\", \"start_time\": \"2021-01-03T12:45:38.373086Z\", \"end_time\": \"2021-01-03T12:46:32.916198Z\", \"created_time\": \"2021-01-03T12:45:25.910931Z\", \"created_time_dt\": \"2021-01-03T12:45:25.910931Z\", \"duration\": \"0:01:07\", \"iteration\": \"4\", \"goal\": \"accuracy_max\", \"run_name\": \"MinMaxScaler, RandomForest\", \"run_properties\": \"copy=True, feature_range=(0, 1\", \"primary_metric\": 0.94210599, \"best_metric\": 0.98740896}, {\"run_id\": \"AutoML_ceea2569-ef01-4a09-ac5c-5230d248456c_10\", \"run_number\": 71, \"metric\": null, \"status\": \"Completed\", \"run_type\": \"azureml.scriptrun\", \"training_percent\": \"100\", \"start_time\": \"2021-01-03T12:46:41.805694Z\", \"end_time\": \"2021-01-03T12:47:51.366605Z\", \"created_time\": \"2021-01-03T12:46:29.646143Z\", \"created_time_dt\": \"2021-01-03T12:46:29.646143Z\", \"duration\": \"0:01:21\", \"iteration\": \"10\", \"goal\": \"accuracy_max\", \"run_name\": \"SparseNormalizer, XGBoostClassifier\", \"run_properties\": \"<azureml.automl.runtime.shared.model_wrappers.SparseNormalizer object at 0x7ff98c1a1978\", \"primary_metric\": 0.9771631, \"best_metric\": 0.98740896}, {\"run_id\": \"AutoML_ceea2569-ef01-4a09-ac5c-5230d248456c_11\", \"run_number\": 72, \"metric\": null, \"status\": \"Completed\", \"run_type\": \"azureml.scriptrun\", \"training_percent\": \"100\", \"start_time\": \"2021-01-03T12:46:48.216406Z\", \"end_time\": \"2021-01-03T12:47:36.79877Z\", \"created_time\": \"2021-01-03T12:46:36.491844Z\", \"created_time_dt\": \"2021-01-03T12:46:36.491844Z\", \"duration\": \"0:01:00\", \"iteration\": \"11\", \"goal\": \"accuracy_max\", \"run_name\": \"MaxAbsScaler, LogisticRegression\", \"run_properties\": \"copy=True\", \"primary_metric\": 0.95099369, \"best_metric\": 0.98740896}, {\"run_id\": \"AutoML_ceea2569-ef01-4a09-ac5c-5230d248456c_14\", \"run_number\": 73, \"metric\": null, \"status\": \"Completed\", \"run_type\": \"azureml.scriptrun\", \"training_percent\": \"100\", \"start_time\": \"2021-01-03T12:46:47.576697Z\", \"end_time\": \"2021-01-03T12:47:38.072914Z\", \"created_time\": \"2021-01-03T12:46:36.509126Z\", \"created_time_dt\": \"2021-01-03T12:46:36.509126Z\", \"duration\": \"0:01:01\", \"iteration\": \"14\", \"goal\": \"accuracy_max\", \"run_name\": \"MinMaxScaler, LogisticRegression\", \"run_properties\": \"copy=True, feature_range=(0, 1\", \"primary_metric\": 0.95099369, \"best_metric\": 0.98740896}, {\"run_id\": \"AutoML_ceea2569-ef01-4a09-ac5c-5230d248456c_13\", \"run_number\": 74, \"metric\": null, \"status\": \"Completed\", \"run_type\": \"azureml.scriptrun\", \"training_percent\": \"100\", \"start_time\": \"2021-01-03T12:46:48.468962Z\", \"end_time\": \"2021-01-03T12:47:39.868694Z\", \"created_time\": \"2021-01-03T12:46:36.515753Z\", \"created_time_dt\": \"2021-01-03T12:46:36.515753Z\", \"duration\": \"0:01:03\", \"iteration\": \"13\", \"goal\": \"accuracy_max\", \"run_name\": \"SparseNormalizer, XGBoostClassifier\", \"run_properties\": \"<azureml.automl.runtime.shared.model_wrappers.SparseNormalizer object at 0x7fdbc9172630\", \"primary_metric\": 0.97827407, \"best_metric\": 0.98740896}, {\"run_id\": \"AutoML_ceea2569-ef01-4a09-ac5c-5230d248456c_12\", \"run_number\": 75, \"metric\": null, \"status\": \"Completed\", \"run_type\": \"azureml.scriptrun\", \"training_percent\": \"100\", \"start_time\": \"2021-01-03T12:46:48.03706Z\", \"end_time\": \"2021-01-03T12:47:38.352256Z\", \"created_time\": \"2021-01-03T12:46:36.747446Z\", \"created_time_dt\": \"2021-01-03T12:46:36.747446Z\", \"duration\": \"0:01:01\", \"iteration\": \"12\", \"goal\": \"accuracy_max\", \"run_name\": \"MinMaxScaler, LogisticRegression\", \"run_properties\": \"copy=True, feature_range=(0, 1\", \"primary_metric\": 0.95087032, \"best_metric\": 0.98740896}, {\"run_id\": \"AutoML_ceea2569-ef01-4a09-ac5c-5230d248456c_15\", \"run_number\": 76, \"metric\": null, \"status\": \"Completed\", \"run_type\": \"azureml.scriptrun\", \"training_percent\": \"100\", \"start_time\": \"2021-01-03T12:47:00.797611Z\", \"end_time\": \"2021-01-03T12:47:52.413884Z\", \"created_time\": \"2021-01-03T12:46:44.727841Z\", \"created_time_dt\": \"2021-01-03T12:46:44.727841Z\", \"duration\": \"0:01:07\", \"iteration\": \"15\", \"goal\": \"accuracy_max\", \"run_name\": \"SparseNormalizer, XGBoostClassifier\", \"run_properties\": \"<azureml.automl.runtime.shared.model_wrappers.SparseNormalizer object at 0x7f48c5638978\", \"primary_metric\": 0.97012693, \"best_metric\": 0.98740896}, {\"run_id\": \"AutoML_ceea2569-ef01-4a09-ac5c-5230d248456c_17\", \"run_number\": 77, \"metric\": null, \"status\": \"Completed\", \"run_type\": \"azureml.scriptrun\", \"training_percent\": \"100\", \"start_time\": \"2021-01-03T12:47:21.219986Z\", \"end_time\": \"2021-01-03T12:48:18.81875Z\", \"created_time\": \"2021-01-03T12:47:09.065495Z\", \"created_time_dt\": \"2021-01-03T12:47:09.065495Z\", \"duration\": \"0:01:09\", \"iteration\": \"17\", \"goal\": \"accuracy_max\", \"run_name\": \"StandardScalerWrapper, XGBoostClassifier\", \"run_properties\": \"<azureml.automl.runtime.shared.model_wrappers.StandardScalerWrapper object at 0x7f1c45d12518\", \"primary_metric\": 0.9850636, \"best_metric\": 0.98740896}, {\"run_id\": \"AutoML_ceea2569-ef01-4a09-ac5c-5230d248456c_16\", \"run_number\": 78, \"metric\": null, \"status\": \"Completed\", \"run_type\": \"azureml.scriptrun\", \"training_percent\": \"100\", \"start_time\": \"2021-01-03T12:47:21.86272Z\", \"end_time\": \"2021-01-03T12:48:19.046501Z\", \"created_time\": \"2021-01-03T12:47:09.253755Z\", \"created_time_dt\": \"2021-01-03T12:47:09.253755Z\", \"duration\": \"0:01:09\", \"iteration\": \"16\", \"goal\": \"accuracy_max\", \"run_name\": \"StandardScalerWrapper, LogisticRegression\", \"run_properties\": \"<azureml.automl.runtime.shared.model_wrappers.StandardScalerWrapper object at 0x7f130d251438\", \"primary_metric\": 0.95099369, \"best_metric\": 0.98740896}, {\"run_id\": \"AutoML_ceea2569-ef01-4a09-ac5c-5230d248456c_19\", \"run_number\": 79, \"metric\": null, \"status\": \"Completed\", \"run_type\": \"azureml.scriptrun\", \"training_percent\": \"100\", \"start_time\": \"2021-01-03T12:47:27.316217Z\", \"end_time\": \"2021-01-03T12:48:18.756527Z\", \"created_time\": \"2021-01-03T12:47:15.244049Z\", \"created_time_dt\": \"2021-01-03T12:47:15.244049Z\", \"duration\": \"0:01:03\", \"iteration\": \"19\", \"goal\": \"accuracy_max\", \"run_name\": \"MaxAbsScaler, LogisticRegression\", \"run_properties\": \"copy=True\", \"primary_metric\": 0.95099369, \"best_metric\": 0.98740896}, {\"run_id\": \"AutoML_ceea2569-ef01-4a09-ac5c-5230d248456c_18\", \"run_number\": 80, \"metric\": null, \"status\": \"Completed\", \"run_type\": \"azureml.scriptrun\", \"training_percent\": \"100\", \"start_time\": \"2021-01-03T12:47:27.229825Z\", \"end_time\": \"2021-01-03T12:48:18.39541Z\", \"created_time\": \"2021-01-03T12:47:15.448319Z\", \"created_time_dt\": \"2021-01-03T12:47:15.448319Z\", \"duration\": \"0:01:02\", \"iteration\": \"18\", \"goal\": \"accuracy_max\", \"run_name\": \"MaxAbsScaler, LogisticRegression\", \"run_properties\": \"copy=True\", \"primary_metric\": 0.95074682, \"best_metric\": 0.98740896}, {\"run_id\": \"AutoML_ceea2569-ef01-4a09-ac5c-5230d248456c_20\", \"run_number\": 81, \"metric\": null, \"status\": \"Completed\", \"run_type\": \"azureml.scriptrun\", \"training_percent\": \"100\", \"start_time\": \"2021-01-03T12:47:52.329981Z\", \"end_time\": \"2021-01-03T12:48:39.691328Z\", \"created_time\": \"2021-01-03T12:47:39.968024Z\", \"created_time_dt\": \"2021-01-03T12:47:39.968024Z\", \"duration\": \"0:00:59\", \"iteration\": \"20\", \"goal\": \"accuracy_max\", \"run_name\": \"SparseNormalizer, XGBoostClassifier\", \"run_properties\": \"<azureml.automl.runtime.shared.model_wrappers.SparseNormalizer object at 0x7fadfb26f5f8\", \"primary_metric\": 0.96667046, \"best_metric\": 0.98740896}, {\"run_id\": \"AutoML_ceea2569-ef01-4a09-ac5c-5230d248456c_22\", \"run_number\": 82, \"metric\": null, \"status\": \"Completed\", \"run_type\": \"azureml.scriptrun\", \"training_percent\": \"100\", \"start_time\": \"2021-01-03T12:47:58.084128Z\", \"end_time\": \"2021-01-03T12:48:40.93365Z\", \"created_time\": \"2021-01-03T12:47:46.040744Z\", \"created_time_dt\": \"2021-01-03T12:47:46.040744Z\", \"duration\": \"0:00:54\", \"iteration\": \"22\", \"goal\": \"accuracy_max\", \"run_name\": \"StandardScalerWrapper, LightGBM\", \"run_properties\": \"<azureml.automl.runtime.shared.model_wrappers.StandardScalerWrapper object at 0x7f67e5cb4d68\", \"primary_metric\": 0.97234934, \"best_metric\": 0.98740896}, {\"run_id\": \"AutoML_ceea2569-ef01-4a09-ac5c-5230d248456c_21\", \"run_number\": 83, \"metric\": null, \"status\": \"Completed\", \"run_type\": \"azureml.scriptrun\", \"training_percent\": \"100\", \"start_time\": \"2021-01-03T12:47:58.239555Z\", \"end_time\": \"2021-01-03T12:48:40.853361Z\", \"created_time\": \"2021-01-03T12:47:46.21482Z\", \"created_time_dt\": \"2021-01-03T12:47:46.21482Z\", \"duration\": \"0:00:54\", \"iteration\": \"21\", \"goal\": \"accuracy_max\", \"run_name\": \"SparseNormalizer, XGBoostClassifier\", \"run_properties\": \"<azureml.automl.runtime.shared.model_wrappers.SparseNormalizer object at 0x7f31508dd828\", \"primary_metric\": 0.97370672, \"best_metric\": 0.98740896}, {\"run_id\": \"AutoML_ceea2569-ef01-4a09-ac5c-5230d248456c_23\", \"run_number\": 84, \"metric\": null, \"status\": \"Completed\", \"run_type\": \"azureml.scriptrun\", \"training_percent\": \"100\", \"start_time\": \"2021-01-03T12:47:57.11051Z\", \"end_time\": \"2021-01-03T12:48:41.718273Z\", \"created_time\": \"2021-01-03T12:47:46.041601Z\", \"created_time_dt\": \"2021-01-03T12:47:46.041601Z\", \"duration\": \"0:00:55\", \"iteration\": \"23\", \"goal\": \"accuracy_max\", \"run_name\": \"StandardScalerWrapper, LightGBM\", \"run_properties\": \"<azureml.automl.runtime.shared.model_wrappers.StandardScalerWrapper object at 0x7f4b103f6f60\", \"primary_metric\": 0.94914202, \"best_metric\": 0.98740896}, {\"run_id\": \"AutoML_ceea2569-ef01-4a09-ac5c-5230d248456c_24\", \"run_number\": 85, \"metric\": null, \"status\": \"Completed\", \"run_type\": \"azureml.scriptrun\", \"training_percent\": \"100\", \"start_time\": \"2021-01-03T12:48:05.77138Z\", \"end_time\": \"2021-01-03T12:48:48.899662Z\", \"created_time\": \"2021-01-03T12:47:55.72264Z\", \"created_time_dt\": \"2021-01-03T12:47:55.72264Z\", \"duration\": \"0:00:53\", \"iteration\": \"24\", \"goal\": \"accuracy_max\", \"run_name\": \"SparseNormalizer, XGBoostClassifier\", \"run_properties\": \"<azureml.automl.runtime.shared.model_wrappers.SparseNormalizer object at 0x7f8a358ace80\", \"primary_metric\": 0.97333649, \"best_metric\": 0.98740896}, {\"run_id\": \"AutoML_ceea2569-ef01-4a09-ac5c-5230d248456c_25\", \"run_number\": 86, \"metric\": null, \"status\": \"Completed\", \"run_type\": \"azureml.scriptrun\", \"training_percent\": \"100\", \"start_time\": \"2021-01-03T12:48:11.689704Z\", \"end_time\": \"2021-01-03T12:49:20.901914Z\", \"created_time\": \"2021-01-03T12:48:00.138887Z\", \"created_time_dt\": \"2021-01-03T12:48:00.138887Z\", \"duration\": \"0:01:20\", \"iteration\": \"25\", \"goal\": \"accuracy_max\", \"run_name\": \"MaxAbsScaler, LightGBM\", \"run_properties\": \"copy=True\", \"primary_metric\": 0.83730356, \"best_metric\": 0.98740896}, {\"run_id\": \"AutoML_ceea2569-ef01-4a09-ac5c-5230d248456c_26\", \"run_number\": 87, \"metric\": null, \"status\": \"Completed\", \"run_type\": \"azureml.scriptrun\", \"training_percent\": \"100\", \"start_time\": \"2021-01-03T12:48:47.510962Z\", \"end_time\": \"2021-01-03T12:49:22.624465Z\", \"created_time\": \"2021-01-03T12:48:20.104181Z\", \"created_time_dt\": \"2021-01-03T12:48:20.104181Z\", \"duration\": \"0:01:02\", \"iteration\": \"26\", \"goal\": \"accuracy_max\", \"run_name\": \"MinMaxScaler, RandomForest\", \"run_properties\": \"copy=True, feature_range=(0, 1\", \"primary_metric\": 0.94346323, \"best_metric\": 0.98740896}, {\"run_id\": \"AutoML_ceea2569-ef01-4a09-ac5c-5230d248456c_29\", \"run_number\": 88, \"metric\": null, \"status\": \"Completed\", \"run_type\": \"azureml.scriptrun\", \"training_percent\": \"100\", \"start_time\": \"2021-01-03T12:48:36.745455Z\", \"end_time\": \"2021-01-03T12:49:22.52876Z\", \"created_time\": \"2021-01-03T12:48:24.305792Z\", \"created_time_dt\": \"2021-01-03T12:48:24.305792Z\", \"duration\": \"0:00:58\", \"iteration\": \"29\", \"goal\": \"accuracy_max\", \"run_name\": \"StandardScalerWrapper, XGBoostClassifier\", \"run_properties\": \"<azureml.automl.runtime.shared.model_wrappers.StandardScalerWrapper object at 0x7f7c59e579b0\", \"primary_metric\": 0.9702508, \"best_metric\": 0.98777951}, {\"run_id\": \"AutoML_ceea2569-ef01-4a09-ac5c-5230d248456c_27\", \"run_number\": 89, \"metric\": null, \"status\": \"Completed\", \"run_type\": \"azureml.scriptrun\", \"training_percent\": \"100\", \"start_time\": \"2021-01-03T12:48:37.3653Z\", \"end_time\": \"2021-01-03T12:49:35.01785Z\", \"created_time\": \"2021-01-03T12:48:24.338821Z\", \"created_time_dt\": \"2021-01-03T12:48:24.338821Z\", \"duration\": \"0:01:10\", \"iteration\": \"27\", \"goal\": \"accuracy_max\", \"run_name\": \"StandardScalerWrapper, XGBoostClassifier\", \"run_properties\": \"<azureml.automl.runtime.shared.model_wrappers.StandardScalerWrapper object at 0x7f16c98bde10\", \"primary_metric\": 0.98777951, \"best_metric\": 0.98777951}, {\"run_id\": \"AutoML_ceea2569-ef01-4a09-ac5c-5230d248456c_28\", \"run_number\": 90, \"metric\": null, \"status\": \"Completed\", \"run_type\": \"azureml.scriptrun\", \"training_percent\": \"100\", \"start_time\": \"2021-01-03T12:48:34.972855Z\", \"end_time\": \"2021-01-03T12:50:01.157781Z\", \"created_time\": \"2021-01-03T12:48:24.542227Z\", \"created_time_dt\": \"2021-01-03T12:48:24.542227Z\", \"duration\": \"0:01:36\", \"iteration\": \"28\", \"goal\": \"accuracy_max\", \"run_name\": \"SparseNormalizer, XGBoostClassifier\", \"run_properties\": \"<azureml.automl.runtime.shared.model_wrappers.SparseNormalizer object at 0x7f77d01f6240\", \"primary_metric\": 0.97531152, \"best_metric\": 0.98777951}, {\"run_id\": \"AutoML_ceea2569-ef01-4a09-ac5c-5230d248456c_31\", \"run_number\": 91, \"metric\": null, \"status\": \"Completed\", \"run_type\": \"azureml.scriptrun\", \"training_percent\": \"100\", \"start_time\": \"2021-01-03T12:48:55.657533Z\", \"end_time\": \"2021-01-03T12:49:52.578894Z\", \"created_time\": \"2021-01-03T12:48:44.099141Z\", \"created_time_dt\": \"2021-01-03T12:48:44.099141Z\", \"duration\": \"0:01:08\", \"iteration\": \"31\", \"goal\": \"accuracy_max\", \"run_name\": \"StandardScalerWrapper, XGBoostClassifier\", \"run_properties\": \"<azureml.automl.runtime.shared.model_wrappers.StandardScalerWrapper object at 0x7f437c002240\", \"primary_metric\": 0.98592762, \"best_metric\": 0.98777951}, {\"run_id\": \"AutoML_ceea2569-ef01-4a09-ac5c-5230d248456c_30\", \"run_number\": 92, \"metric\": null, \"status\": \"Completed\", \"run_type\": \"azureml.scriptrun\", \"training_percent\": \"100\", \"start_time\": \"2021-01-03T12:48:56.605437Z\", \"end_time\": \"2021-01-03T12:49:43.08165Z\", \"created_time\": \"2021-01-03T12:48:44.322148Z\", \"created_time_dt\": \"2021-01-03T12:48:44.322148Z\", \"duration\": \"0:00:58\", \"iteration\": \"30\", \"goal\": \"accuracy_max\", \"run_name\": \"StandardScalerWrapper, LightGBM\", \"run_properties\": \"<azureml.automl.runtime.shared.model_wrappers.StandardScalerWrapper object at 0x7f6c440942b0\", \"primary_metric\": 0.86594229, \"best_metric\": 0.98777951}, {\"run_id\": \"AutoML_ceea2569-ef01-4a09-ac5c-5230d248456c_33\", \"run_number\": 93, \"metric\": null, \"status\": \"Completed\", \"run_type\": \"azureml.scriptrun\", \"training_percent\": \"100\", \"start_time\": \"2021-01-03T12:49:02.442615Z\", \"end_time\": \"2021-01-03T12:49:50.991236Z\", \"created_time\": \"2021-01-03T12:48:50.233841Z\", \"created_time_dt\": \"2021-01-03T12:48:50.233841Z\", \"duration\": \"0:01:00\", \"iteration\": \"33\", \"goal\": \"accuracy_max\", \"run_name\": \"StandardScalerWrapper, LightGBM\", \"run_properties\": \"<azureml.automl.runtime.shared.model_wrappers.StandardScalerWrapper object at 0x7ff9a5bfa978\", \"primary_metric\": 0.91420745, \"best_metric\": 0.98777951}, {\"run_id\": \"AutoML_ceea2569-ef01-4a09-ac5c-5230d248456c_32\", \"run_number\": 94, \"metric\": null, \"status\": \"Completed\", \"run_type\": \"azureml.scriptrun\", \"training_percent\": \"100\", \"start_time\": \"2021-01-03T12:49:04.185602Z\", \"end_time\": \"2021-01-03T12:49:58.816292Z\", \"created_time\": \"2021-01-03T12:48:50.420635Z\", \"created_time_dt\": \"2021-01-03T12:48:50.420635Z\", \"duration\": \"0:01:08\", \"iteration\": \"32\", \"goal\": \"accuracy_max\", \"run_name\": \"SparseNormalizer, XGBoostClassifier\", \"run_properties\": \"<azureml.automl.runtime.shared.model_wrappers.SparseNormalizer object at 0x7f13695b7e10\", \"primary_metric\": 0.97728651, \"best_metric\": 0.98777951}, {\"run_id\": \"AutoML_ceea2569-ef01-4a09-ac5c-5230d248456c_34\", \"run_number\": 95, \"metric\": null, \"status\": \"Completed\", \"run_type\": \"azureml.scriptrun\", \"training_percent\": \"100\", \"start_time\": \"2021-01-03T12:49:09.988902Z\", \"end_time\": \"2021-01-03T12:49:55.938581Z\", \"created_time\": \"2021-01-03T12:48:57.95459Z\", \"created_time_dt\": \"2021-01-03T12:48:57.95459Z\", \"duration\": \"0:00:57\", \"iteration\": \"34\", \"goal\": \"accuracy_max\", \"run_name\": \"SparseNormalizer, XGBoostClassifier\", \"run_properties\": \"<azureml.automl.runtime.shared.model_wrappers.SparseNormalizer object at 0x7f8b40225390\", \"primary_metric\": 0.9732128, \"best_metric\": 0.98777951}, {\"run_id\": \"AutoML_ceea2569-ef01-4a09-ac5c-5230d248456c_35\", \"run_number\": 96, \"metric\": null, \"status\": \"Completed\", \"run_type\": \"azureml.scriptrun\", \"training_percent\": \"100\", \"start_time\": \"2021-01-03T12:49:38.293457Z\", \"end_time\": \"2021-01-03T12:50:37.268827Z\", \"created_time\": \"2021-01-03T12:49:23.556469Z\", \"created_time_dt\": \"2021-01-03T12:49:23.556469Z\", \"duration\": \"0:01:13\", \"iteration\": \"35\", \"goal\": \"accuracy_max\", \"run_name\": \"RobustScaler, LightGBM\", \"run_properties\": \"copy=True, quantile_range=[25, 75], with_centering=True,\\n             with_scaling=False\", \"primary_metric\": 0.981854, \"best_metric\": 0.98777951}, {\"run_id\": \"AutoML_ceea2569-ef01-4a09-ac5c-5230d248456c_37\", \"run_number\": 97, \"metric\": null, \"status\": \"Completed\", \"run_type\": \"azureml.scriptrun\", \"training_percent\": \"100\", \"start_time\": \"2021-01-03T12:49:38.943001Z\", \"end_time\": \"2021-01-03T12:50:47.767336Z\", \"created_time\": \"2021-01-03T12:49:27.51234Z\", \"created_time_dt\": \"2021-01-03T12:49:27.51234Z\", \"duration\": \"0:01:20\", \"iteration\": \"37\", \"goal\": \"accuracy_max\", \"run_name\": \"MaxAbsScaler, LightGBM\", \"run_properties\": \"copy=True\", \"primary_metric\": 0.98210119, \"best_metric\": 0.98777951}, {\"run_id\": \"AutoML_ceea2569-ef01-4a09-ac5c-5230d248456c_36\", \"run_number\": 98, \"metric\": null, \"status\": \"Completed\", \"run_type\": \"azureml.scriptrun\", \"training_percent\": \"100\", \"start_time\": \"2021-01-03T12:49:40.30117Z\", \"end_time\": \"2021-01-03T12:50:51.063554Z\", \"created_time\": \"2021-01-03T12:49:27.514115Z\", \"created_time_dt\": \"2021-01-03T12:49:27.514115Z\", \"duration\": \"0:01:23\", \"iteration\": \"36\", \"goal\": \"accuracy_max\", \"run_name\": \"SparseNormalizer, XGBoostClassifier\", \"run_properties\": \"<azureml.automl.runtime.shared.model_wrappers.SparseNormalizer object at 0x7efd888c9d68\", \"primary_metric\": 0.97802739, \"best_metric\": 0.98777951}, {\"run_id\": \"AutoML_ceea2569-ef01-4a09-ac5c-5230d248456c_38\", \"run_number\": 99, \"metric\": null, \"status\": \"Completed\", \"run_type\": \"azureml.scriptrun\", \"training_percent\": \"100\", \"start_time\": \"2021-01-03T12:49:48.028295Z\", \"end_time\": \"2021-01-03T12:50:50.408845Z\", \"created_time\": \"2021-01-03T12:49:37.570382Z\", \"created_time_dt\": \"2021-01-03T12:49:37.570382Z\", \"duration\": \"0:01:12\", \"iteration\": \"38\", \"goal\": \"accuracy_max\", \"run_name\": \"StandardScalerWrapper, LightGBM\", \"run_properties\": \"<azureml.automl.runtime.shared.model_wrappers.StandardScalerWrapper object at 0x7f6429c419b0\", \"primary_metric\": 0.97975574, \"best_metric\": 0.98777951}, {\"run_id\": \"AutoML_ceea2569-ef01-4a09-ac5c-5230d248456c_39\", \"run_number\": 100, \"metric\": null, \"status\": \"Completed\", \"run_type\": \"azureml.scriptrun\", \"training_percent\": \"100\", \"start_time\": \"2021-01-03T12:49:57.154135Z\", \"end_time\": \"2021-01-03T12:50:54.737277Z\", \"created_time\": \"2021-01-03T12:49:45.241802Z\", \"created_time_dt\": \"2021-01-03T12:49:45.241802Z\", \"duration\": \"0:01:09\", \"iteration\": \"39\", \"goal\": \"accuracy_max\", \"run_name\": \"SparseNormalizer, XGBoostClassifier\", \"run_properties\": \"<azureml.automl.runtime.shared.model_wrappers.SparseNormalizer object at 0x7f51d67ff2b0\", \"primary_metric\": 0.97876804, \"best_metric\": 0.98777951}, {\"run_id\": \"AutoML_ceea2569-ef01-4a09-ac5c-5230d248456c_40\", \"run_number\": 101, \"metric\": null, \"status\": \"Completed\", \"run_type\": \"azureml.scriptrun\", \"training_percent\": \"100\", \"start_time\": \"2021-01-03T12:50:08.226969Z\", \"end_time\": \"2021-01-03T12:50:57.145364Z\", \"created_time\": \"2021-01-03T12:49:56.079771Z\", \"created_time_dt\": \"2021-01-03T12:49:56.079771Z\", \"duration\": \"0:01:01\", \"iteration\": \"40\", \"goal\": \"accuracy_max\", \"run_name\": \"SparseNormalizer, XGBoostClassifier\", \"run_properties\": \"<azureml.automl.runtime.shared.model_wrappers.SparseNormalizer object at 0x7fefff197ef0\", \"primary_metric\": 0.83730356, \"best_metric\": 0.98777951}, {\"run_id\": \"AutoML_ceea2569-ef01-4a09-ac5c-5230d248456c_41\", \"run_number\": 102, \"metric\": null, \"status\": \"Completed\", \"run_type\": \"azureml.scriptrun\", \"training_percent\": \"100\", \"start_time\": \"2021-01-03T12:50:12.518149Z\", \"end_time\": \"2021-01-03T12:51:04.09135Z\", \"created_time\": \"2021-01-03T12:50:00.131199Z\", \"created_time_dt\": \"2021-01-03T12:50:00.131199Z\", \"duration\": \"0:01:03\", \"iteration\": \"41\", \"goal\": \"accuracy_max\", \"run_name\": \"StandardScalerWrapper, XGBoostClassifier\", \"run_properties\": \"<azureml.automl.runtime.shared.model_wrappers.StandardScalerWrapper object at 0x7f095730d048\", \"primary_metric\": 0.98691536, \"best_metric\": 0.98777951}, {\"run_id\": \"AutoML_ceea2569-ef01-4a09-ac5c-5230d248456c_42\", \"run_number\": 103, \"metric\": null, \"status\": \"Completed\", \"run_type\": \"azureml.scriptrun\", \"training_percent\": \"100\", \"start_time\": \"2021-01-03T12:50:11.068718Z\", \"end_time\": \"2021-01-03T12:51:26.285334Z\", \"created_time\": \"2021-01-03T12:50:00.176268Z\", \"created_time_dt\": \"2021-01-03T12:50:00.176268Z\", \"duration\": \"0:01:26\", \"iteration\": \"42\", \"goal\": \"accuracy_max\", \"run_name\": \"SparseNormalizer, XGBoostClassifier\", \"run_properties\": \"<azureml.automl.runtime.shared.model_wrappers.SparseNormalizer object at 0x7fd9d67bc390\", \"primary_metric\": 0.97852112, \"best_metric\": 0.98777951}, {\"run_id\": \"AutoML_ceea2569-ef01-4a09-ac5c-5230d248456c_44\", \"run_number\": 104, \"metric\": null, \"status\": \"Completed\", \"run_type\": \"azureml.scriptrun\", \"training_percent\": \"100\", \"start_time\": \"2021-01-03T12:50:17.128926Z\", \"end_time\": \"2021-01-03T12:51:27.540651Z\", \"created_time\": \"2021-01-03T12:50:04.387276Z\", \"created_time_dt\": \"2021-01-03T12:50:04.387276Z\", \"duration\": \"0:01:23\", \"iteration\": \"44\", \"goal\": \"accuracy_max\", \"run_name\": \"SparseNormalizer, XGBoostClassifier\", \"run_properties\": \"<azureml.automl.runtime.shared.model_wrappers.SparseNormalizer object at 0x7fe2be139ba8\", \"primary_metric\": 0.97728646, \"best_metric\": 0.98777951}, {\"run_id\": \"AutoML_ceea2569-ef01-4a09-ac5c-5230d248456c_43\", \"run_number\": 105, \"metric\": null, \"status\": \"Completed\", \"run_type\": \"azureml.scriptrun\", \"training_percent\": \"100\", \"start_time\": \"2021-01-03T12:50:17.680118Z\", \"end_time\": \"2021-01-03T12:51:29.566477Z\", \"created_time\": \"2021-01-03T12:50:04.542558Z\", \"created_time_dt\": \"2021-01-03T12:50:04.542558Z\", \"duration\": \"0:01:25\", \"iteration\": \"43\", \"goal\": \"accuracy_max\", \"run_name\": \"SparseNormalizer, XGBoostClassifier\", \"run_properties\": \"<azureml.automl.runtime.shared.model_wrappers.SparseNormalizer object at 0x7f958d98d4e0\", \"primary_metric\": 0.97889136, \"best_metric\": 0.98777951}, {\"run_id\": \"AutoML_ceea2569-ef01-4a09-ac5c-5230d248456c_45\", \"run_number\": 106, \"metric\": null, \"status\": \"Completed\", \"run_type\": \"azureml.scriptrun\", \"training_percent\": \"100\", \"start_time\": \"2021-01-03T12:50:52.686363Z\", \"end_time\": \"2021-01-03T12:51:40.28104Z\", \"created_time\": \"2021-01-03T12:50:40.912046Z\", \"created_time_dt\": \"2021-01-03T12:50:40.912046Z\", \"duration\": \"0:00:59\", \"iteration\": \"45\", \"goal\": \"accuracy_max\", \"run_name\": \"TruncatedSVDWrapper, XGBoostClassifier\", \"run_properties\": \"n_components=0.95, random_state=None\", \"primary_metric\": 0.83730356, \"best_metric\": 0.98777951}, {\"run_id\": \"AutoML_ceea2569-ef01-4a09-ac5c-5230d248456c_46\", \"run_number\": 107, \"metric\": null, \"status\": \"Completed\", \"run_type\": \"azureml.scriptrun\", \"training_percent\": \"100\", \"start_time\": \"2021-01-03T12:51:02.341975Z\", \"end_time\": \"2021-01-03T12:51:47.958612Z\", \"created_time\": \"2021-01-03T12:50:49.808008Z\", \"created_time_dt\": \"2021-01-03T12:50:49.808008Z\", \"duration\": \"0:00:58\", \"iteration\": \"46\", \"goal\": \"accuracy_max\", \"run_name\": \"SparseNormalizer, XGBoostClassifier\", \"run_properties\": \"<azureml.automl.runtime.shared.model_wrappers.SparseNormalizer object at 0x7fb09c15e908\", \"primary_metric\": 0.97148482, \"best_metric\": 0.98777951}, {\"run_id\": \"AutoML_ceea2569-ef01-4a09-ac5c-5230d248456c_47\", \"run_number\": 108, \"metric\": null, \"status\": \"Canceled\", \"run_type\": \"azureml.scriptrun\", \"training_percent\": \"100\", \"start_time\": \"2021-01-03T12:51:05.946038Z\", \"end_time\": \"2021-01-03T12:52:03.058283Z\", \"created_time\": \"2021-01-03T12:50:53.742317Z\", \"created_time_dt\": \"2021-01-03T12:50:53.742317Z\", \"duration\": \"0:01:09\", \"iteration\": \"47\", \"goal\": \"accuracy_max\", \"run_name\": \"SparseNormalizer, XGBoostClassifier\", \"run_properties\": \"<azureml.automl.runtime.shared.model_wrappers.SparseNormalizer object at 0x7f14a4c2ba90\", \"primary_metric\": 0.97802711, \"best_metric\": 0.98777951}, {\"run_id\": \"AutoML_ceea2569-ef01-4a09-ac5c-5230d248456c_48\", \"run_number\": 109, \"metric\": null, \"status\": \"Completed\", \"run_type\": \"azureml.scriptrun\", \"training_percent\": \"100\", \"start_time\": \"2021-01-03T12:51:05.23144Z\", \"end_time\": \"2021-01-03T12:51:52.888142Z\", \"created_time\": \"2021-01-03T12:50:53.752023Z\", \"created_time_dt\": \"2021-01-03T12:50:53.752023Z\", \"duration\": \"0:00:59\", \"iteration\": \"48\", \"goal\": \"accuracy_max\", \"run_name\": \"SparseNormalizer, XGBoostClassifier\", \"run_properties\": \"<azureml.automl.runtime.shared.model_wrappers.SparseNormalizer object at 0x7fccf72a2898\", \"primary_metric\": 0.97469447, \"best_metric\": 0.98777951}, {\"run_id\": \"AutoML_ceea2569-ef01-4a09-ac5c-5230d248456c_49\", \"run_number\": 110, \"metric\": null, \"status\": \"Canceled\", \"run_type\": \"azureml.scriptrun\", \"training_percent\": \"100\", \"start_time\": \"2021-01-03T12:51:10.337139Z\", \"end_time\": \"2021-01-03T12:52:01.000407Z\", \"created_time\": \"2021-01-03T12:50:57.642527Z\", \"created_time_dt\": \"2021-01-03T12:50:57.642527Z\", \"duration\": \"0:01:03\", \"iteration\": \"49\", \"goal\": null, \"run_name\": \"StandardScalerWrapper, XGBoostClassifier\", \"run_properties\": null}, {\"run_id\": \"AutoML_ceea2569-ef01-4a09-ac5c-5230d248456c_50\", \"run_number\": 111, \"metric\": null, \"status\": \"Canceled\", \"run_type\": \"azureml.scriptrun\", \"training_percent\": \"100\", \"start_time\": \"2021-01-03T12:51:14.522813Z\", \"end_time\": \"2021-01-03T12:51:56.513868Z\", \"created_time\": \"2021-01-03T12:51:02.900305Z\", \"created_time_dt\": \"2021-01-03T12:51:02.900305Z\", \"duration\": \"0:00:53\", \"iteration\": \"50\", \"goal\": \"accuracy_max\", \"run_name\": \"SparseNormalizer, XGBoostClassifier\", \"run_properties\": \"<azureml.automl.runtime.shared.model_wrappers.SparseNormalizer object at 0x7f7cf0187be0\", \"primary_metric\": 0.96778157, \"best_metric\": 0.98777951}, {\"run_id\": \"AutoML_ceea2569-ef01-4a09-ac5c-5230d248456c_51\", \"run_number\": 112, \"metric\": null, \"status\": \"Canceled\", \"run_type\": \"azureml.scriptrun\", \"training_percent\": \"100\", \"start_time\": \"2021-01-03T12:51:17.725768Z\", \"end_time\": \"2021-01-03T12:51:59.204026Z\", \"created_time\": \"2021-01-03T12:51:07.285942Z\", \"created_time_dt\": \"2021-01-03T12:51:07.285942Z\", \"duration\": \"0:00:51\", \"iteration\": \"51\", \"goal\": \"accuracy_max\", \"run_name\": \"SparseNormalizer, RandomForest\", \"run_properties\": \"<azureml.automl.runtime.shared.model_wrappers.SparseNormalizer object at 0x7faecaa8db00\", \"primary_metric\": 0.93334092, \"best_metric\": 0.98777951}, {\"run_id\": \"AutoML_ceea2569-ef01-4a09-ac5c-5230d248456c_52\", \"run_number\": 113, \"metric\": null, \"status\": \"Canceled\", \"run_type\": \"azureml.scriptrun\", \"training_percent\": \"100\", \"start_time\": \"2021-01-03T12:51:40.676638Z\", \"end_time\": \"2021-01-03T12:51:59.549847Z\", \"created_time\": \"2021-01-03T12:51:28.170423Z\", \"created_time_dt\": \"2021-01-03T12:51:28.170423Z\", \"duration\": \"0:00:31\", \"iteration\": \"52\", \"goal\": null, \"run_name\": \"Canceled\", \"run_properties\": null}, {\"run_id\": \"AutoML_ceea2569-ef01-4a09-ac5c-5230d248456c_53\", \"run_number\": 114, \"metric\": null, \"status\": \"Canceled\", \"run_type\": \"azureml.scriptrun\", \"training_percent\": \"100\", \"start_time\": \"2021-01-03T12:51:45.608781Z\", \"end_time\": \"2021-01-03T12:52:00.373544Z\", \"created_time\": \"2021-01-03T12:51:32.857282Z\", \"created_time_dt\": \"2021-01-03T12:51:32.857282Z\", \"duration\": \"0:00:27\", \"iteration\": \"53\", \"goal\": null, \"run_name\": \"Canceled\", \"run_properties\": null}, {\"run_id\": \"AutoML_ceea2569-ef01-4a09-ac5c-5230d248456c_54\", \"run_number\": 115, \"metric\": null, \"status\": \"Canceled\", \"run_type\": \"azureml.scriptrun\", \"training_percent\": \"100\", \"start_time\": \"2021-01-03T12:51:46.005424Z\", \"end_time\": \"2021-01-03T12:52:00.633828Z\", \"created_time\": \"2021-01-03T12:51:32.862532Z\", \"created_time_dt\": \"2021-01-03T12:51:32.862532Z\", \"duration\": \"0:00:27\", \"iteration\": \"54\", \"goal\": null, \"run_name\": \"Canceled\", \"run_properties\": null}, {\"run_id\": \"AutoML_ceea2569-ef01-4a09-ac5c-5230d248456c_55\", \"run_number\": 116, \"metric\": null, \"status\": \"Canceled\", \"run_type\": \"azureml.scriptrun\", \"training_percent\": \"100\", \"start_time\": \"2021-01-03T12:51:44.849249Z\", \"end_time\": \"2021-01-03T12:52:02.846091Z\", \"created_time\": \"2021-01-03T12:51:44.849249Z\", \"created_time_dt\": \"2021-01-03T12:51:44.849249Z\", \"duration\": \"0:00:17\", \"iteration\": \"55\", \"goal\": null, \"run_name\": \"Canceled\", \"run_properties\": null}, {\"run_id\": \"AutoML_ceea2569-ef01-4a09-ac5c-5230d248456c_56\", \"run_number\": 117, \"metric\": null, \"status\": \"Canceled\", \"run_type\": \"azureml.scriptrun\", \"training_percent\": \"100\", \"start_time\": \"2021-01-03T12:51:49.773437Z\", \"end_time\": \"2021-01-03T12:52:06.39732Z\", \"created_time\": \"2021-01-03T12:51:49.773437Z\", \"created_time_dt\": \"2021-01-03T12:51:49.773437Z\", \"duration\": \"0:00:16\", \"iteration\": \"56\", \"goal\": null, \"run_name\": \"Canceled\", \"run_properties\": null}, {\"run_id\": \"AutoML_ceea2569-ef01-4a09-ac5c-5230d248456c_57\", \"run_number\": 118, \"metric\": null, \"status\": \"Completed\", \"run_type\": \"azureml.scriptrun\", \"training_percent\": \"100\", \"start_time\": \"2021-01-03T12:52:21.338513Z\", \"end_time\": \"2021-01-03T12:53:39.16335Z\", \"created_time\": \"2021-01-03T12:52:07.056422Z\", \"created_time_dt\": \"2021-01-03T12:52:07.056422Z\", \"duration\": \"0:01:32\", \"iteration\": \"57\", \"goal\": \"accuracy_max\", \"run_name\": \"VotingEnsemble\", \"run_properties\": \"classification_labels=None,\\n                              estimators=[('27',\\n                                           Pipeline(memory=None,\\n                                                    steps=[('standardscalerwrapper',\\n                                                            <azureml.automl.runtime.shared.model_wrappers.StandardScalerWrapper object at 0x7f82a426d6a0>\", \"primary_metric\": 0.98852003, \"best_metric\": 0.98852003}, {\"run_id\": \"AutoML_ceea2569-ef01-4a09-ac5c-5230d248456c_58\", \"run_number\": 119, \"metric\": null, \"status\": \"Completed\", \"run_type\": \"azureml.scriptrun\", \"training_percent\": \"100\", \"start_time\": \"2021-01-03T12:52:18.707518Z\", \"end_time\": \"2021-01-03T12:53:47.577079Z\", \"created_time\": \"2021-01-03T12:52:07.193379Z\", \"created_time_dt\": \"2021-01-03T12:52:07.193379Z\", \"duration\": \"0:01:40\", \"iteration\": \"58\", \"goal\": \"accuracy_max\", \"run_name\": \"StackEnsemble\", \"run_properties\": \"base_learners=[('27',\\n                                        Pipeline(memory=None,\\n                                                 steps=[('standardscalerwrapper',\\n                                                         <azureml.automl.runtime.shared.model_wrappers.StandardScalerWrapper object at 0x7f9c73e8ae10>\", \"primary_metric\": 0.98790283, \"best_metric\": 0.98852003}], \"children_metrics\": {\"categories\": [0], \"series\": {\"f1_score_micro\": [{\"categories\": [\"0\", \"1\", \"2\", \"3\", \"4\", \"5\", \"6\", \"7\", \"8\", \"9\", \"10\", \"11\", \"12\", \"13\", \"14\", \"15\", \"16\", \"17\", \"18\", \"19\", \"20\", \"21\", \"22\", \"23\", \"24\", \"25\", \"26\", \"27\", \"28\", \"29\", \"30\", \"31\", \"32\", \"33\", \"34\", \"35\", \"36\", \"37\", \"38\", \"39\", \"40\", \"41\", \"42\", \"43\", \"44\", \"45\", \"46\", \"47\", \"48\", \"50\", \"51\", \"57\", \"58\"], \"mode\": \"markers\", \"name\": \"f1_score_micro\", \"stepped\": false, \"type\": \"scatter\", \"data\": [0.9874089614728884, 0.9853106074110641, 0.9253185605697021, 0.9106292593963827, 0.9421059872658045, 0.9843229987978847, 0.9545735232949845, 0.9695099665875921, 0.9613619555628689, 0.8621153573664989, 0.9771630991722317, 0.9509936877516786, 0.9508703223771717, 0.978274073159918, 0.9509936877516786, 0.9701269305835516, 0.9509936877516786, 0.9850636024152006, 0.95074681987924, 0.9509936877516786, 0.9666704604147527, 0.9737067204190492, 0.9723493356370069, 0.9491420187310599, 0.9733364871721036, 0.8373035592670296, 0.9434632349244221, 0.9877795146744918, 0.9753115215672293, 0.9702507987439494, 0.8659422893212847, 0.9859276171148318, 0.9772865102545468, 0.914207449458591, 0.9732128018429389, 0.9818540001188403, 0.9780273881187123, 0.9821011879459367, 0.9797557374726326, 0.9787680374438366, 0.8373035592670296, 0.9869153628514359, 0.9785211238635897, 0.9788913571105352, 0.9772864645467386, 0.8373035592670296, 0.9714848181514849, 0.9780271138718627, 0.9746944661556535, 0.9677815715258639, 0.9333409208295054, 0.9885200268761913, 0.9879028343411905]}, {\"categories\": [\"0\", \"1\", \"2\", \"3\", \"4\", \"5\", \"6\", \"7\", \"8\", \"9\", \"10\", \"11\", \"12\", \"13\", \"14\", \"15\", \"16\", \"17\", \"18\", \"19\", \"20\", \"21\", \"22\", \"23\", \"24\", \"25\", \"26\", \"27\", \"28\", \"29\", \"30\", \"31\", \"32\", \"33\", \"34\", \"35\", \"36\", \"37\", \"38\", \"39\", \"40\", \"41\", \"42\", \"43\", \"44\", \"45\", \"46\", \"47\", \"48\", \"50\", \"51\", \"57\", \"58\"], \"mode\": \"lines\", \"name\": \"f1_score_micro_max\", \"stepped\": true, \"type\": \"scatter\", \"data\": [0.9874089614728884, 0.9874089614728884, 0.9874089614728884, 0.9874089614728884, 0.9874089614728884, 0.9874089614728884, 0.9874089614728884, 0.9874089614728884, 0.9874089614728884, 0.9874089614728884, 0.9874089614728884, 0.9874089614728884, 0.9874089614728884, 0.9874089614728884, 0.9874089614728884, 0.9874089614728884, 0.9874089614728884, 0.9874089614728884, 0.9874089614728884, 0.9874089614728884, 0.9874089614728884, 0.9874089614728884, 0.9874089614728884, 0.9874089614728884, 0.9874089614728884, 0.9874089614728884, 0.9874089614728884, 0.9877795146744918, 0.9877795146744918, 0.9877795146744918, 0.9877795146744918, 0.9877795146744918, 0.9877795146744918, 0.9877795146744918, 0.9877795146744918, 0.9877795146744918, 0.9877795146744918, 0.9877795146744918, 0.9877795146744918, 0.9877795146744918, 0.9877795146744918, 0.9877795146744918, 0.9877795146744918, 0.9877795146744918, 0.9877795146744918, 0.9877795146744918, 0.9877795146744918, 0.9877795146744918, 0.9877795146744918, 0.9877795146744918, 0.9877795146744918, 0.9885200268761913, 0.9885200268761913]}], \"precision_score_macro\": [{\"categories\": [\"0\", \"1\", \"2\", \"3\", \"4\", \"5\", \"6\", \"7\", \"8\", \"9\", \"10\", \"11\", \"12\", \"13\", \"14\", \"15\", \"16\", \"17\", \"18\", \"19\", \"20\", \"21\", \"22\", \"23\", \"24\", \"25\", \"26\", \"27\", \"28\", \"29\", \"30\", \"31\", \"32\", \"33\", \"34\", \"35\", \"36\", \"37\", \"38\", \"39\", \"40\", \"41\", \"42\", \"43\", \"44\", \"45\", \"46\", \"47\", \"48\", \"50\", \"51\", \"57\", \"58\"], \"mode\": \"markers\", \"name\": \"precision_score_macro\", \"stepped\": false, \"type\": \"scatter\", \"data\": [0.9786522709509162, 0.9796563414116992, 0.919832602407911, 0.9000893759154217, 0.8757142319685031, 0.9754598827557244, 0.968542184030429, 0.9664633701718425, 0.9479998158962327, 0.9270309068783895, 0.9663536823581417, 0.9206916130809398, 0.9215152120381722, 0.9695583149117027, 0.9206916130809398, 0.9600822201599927, 0.9206916130809398, 0.9777731408875449, 0.9208402021091148, 0.9206916130809398, 0.9615404501052671, 0.9629528951215242, 0.9676207274622802, 0.959912343710915, 0.9662430851815816, 0.4186517796335148, 0.950520731599218, 0.9800075085179567, 0.9649853944744785, 0.9669492732593666, 0.9290067711023405, 0.9765951268353653, 0.9737048906536918, 0.930318243646649, 0.9657176523148375, 0.9721574028775319, 0.9718891977707985, 0.9722627544971335, 0.9725865014591349, 0.9722635531221551, 0.4186517796335148, 0.9783164091531393, 0.969652140463363, 0.9689510071254636, 0.9695863100075935, 0.4186517796335148, 0.965712660671533, 0.9726063253168292, 0.9649879274688636, 0.9531131052129984, 0.8610417345004379, 0.9831402968284659, 0.9816544576791282]}, {\"categories\": [\"0\", \"1\", \"2\", \"3\", \"4\", \"5\", \"6\", \"7\", \"8\", \"9\", \"10\", \"11\", \"12\", \"13\", \"14\", \"15\", \"16\", \"17\", \"18\", \"19\", \"20\", \"21\", \"22\", \"23\", \"24\", \"25\", \"26\", \"27\", \"28\", \"29\", \"30\", \"31\", \"32\", \"33\", \"34\", \"35\", \"36\", \"37\", \"38\", \"39\", \"40\", \"41\", \"42\", \"43\", \"44\", \"45\", \"46\", \"47\", \"48\", \"50\", \"51\", \"57\", \"58\"], \"mode\": \"lines\", \"name\": \"precision_score_macro_max\", \"stepped\": true, \"type\": \"scatter\", \"data\": [0.9786522709509162, 0.9796563414116992, 0.9796563414116992, 0.9796563414116992, 0.9796563414116992, 0.9796563414116992, 0.9796563414116992, 0.9796563414116992, 0.9796563414116992, 0.9796563414116992, 0.9796563414116992, 0.9796563414116992, 0.9796563414116992, 0.9796563414116992, 0.9796563414116992, 0.9796563414116992, 0.9796563414116992, 0.9796563414116992, 0.9796563414116992, 0.9796563414116992, 0.9796563414116992, 0.9796563414116992, 0.9796563414116992, 0.9796563414116992, 0.9796563414116992, 0.9796563414116992, 0.9796563414116992, 0.9800075085179567, 0.9800075085179567, 0.9800075085179567, 0.9800075085179567, 0.9800075085179567, 0.9800075085179567, 0.9800075085179567, 0.9800075085179567, 0.9800075085179567, 0.9800075085179567, 0.9800075085179567, 0.9800075085179567, 0.9800075085179567, 0.9800075085179567, 0.9800075085179567, 0.9800075085179567, 0.9800075085179567, 0.9800075085179567, 0.9800075085179567, 0.9800075085179567, 0.9800075085179567, 0.9800075085179567, 0.9800075085179567, 0.9800075085179567, 0.9831402968284659, 0.9831402968284659]}], \"precision_score_micro\": [{\"categories\": [\"0\", \"1\", \"2\", \"3\", \"4\", \"5\", \"6\", \"7\", \"8\", \"9\", \"10\", \"11\", \"12\", \"13\", \"14\", \"15\", \"16\", \"17\", \"18\", \"19\", \"20\", \"21\", \"22\", \"23\", \"24\", \"25\", \"26\", \"27\", \"28\", \"29\", \"30\", \"31\", \"32\", \"33\", \"34\", \"35\", \"36\", \"37\", \"38\", \"39\", \"40\", \"41\", \"42\", \"43\", \"44\", \"45\", \"46\", \"47\", \"48\", \"50\", \"51\", \"57\", \"58\"], \"mode\": \"markers\", \"name\": \"precision_score_micro\", \"stepped\": false, \"type\": \"scatter\", \"data\": [0.9874089614728884, 0.9853106074110641, 0.9253185605697021, 0.9106292593963827, 0.9421059872658045, 0.9843229987978847, 0.9545735232949845, 0.9695099665875921, 0.9613619555628689, 0.8621153573664989, 0.9771630991722317, 0.9509936877516786, 0.9508703223771716, 0.978274073159918, 0.9509936877516786, 0.9701269305835516, 0.9509936877516786, 0.9850636024152006, 0.95074681987924, 0.9509936877516786, 0.9666704604147527, 0.9737067204190492, 0.9723493356370069, 0.9491420187310599, 0.9733364871721036, 0.8373035592670296, 0.9434632349244222, 0.9877795146744918, 0.9753115215672293, 0.9702507987439494, 0.8659422893212847, 0.9859276171148318, 0.9772865102545468, 0.914207449458591, 0.9732128018429389, 0.9818540001188403, 0.9780273881187123, 0.9821011879459367, 0.9797557374726326, 0.9787680374438366, 0.8373035592670296, 0.9869153628514359, 0.9785211238635897, 0.9788913571105352, 0.9772864645467386, 0.8373035592670296, 0.9714848181514849, 0.9780271138718627, 0.9746944661556535, 0.9677815715258639, 0.9333409208295054, 0.9885200268761913, 0.9879028343411905]}, {\"categories\": [\"0\", \"1\", \"2\", \"3\", \"4\", \"5\", \"6\", \"7\", \"8\", \"9\", \"10\", \"11\", \"12\", \"13\", \"14\", \"15\", \"16\", \"17\", \"18\", \"19\", \"20\", \"21\", \"22\", \"23\", \"24\", \"25\", \"26\", \"27\", \"28\", \"29\", \"30\", \"31\", \"32\", \"33\", \"34\", \"35\", \"36\", \"37\", \"38\", \"39\", \"40\", \"41\", \"42\", \"43\", \"44\", \"45\", \"46\", \"47\", \"48\", \"50\", \"51\", \"57\", \"58\"], \"mode\": \"lines\", \"name\": \"precision_score_micro_max\", \"stepped\": true, \"type\": \"scatter\", \"data\": [0.9874089614728884, 0.9874089614728884, 0.9874089614728884, 0.9874089614728884, 0.9874089614728884, 0.9874089614728884, 0.9874089614728884, 0.9874089614728884, 0.9874089614728884, 0.9874089614728884, 0.9874089614728884, 0.9874089614728884, 0.9874089614728884, 0.9874089614728884, 0.9874089614728884, 0.9874089614728884, 0.9874089614728884, 0.9874089614728884, 0.9874089614728884, 0.9874089614728884, 0.9874089614728884, 0.9874089614728884, 0.9874089614728884, 0.9874089614728884, 0.9874089614728884, 0.9874089614728884, 0.9874089614728884, 0.9877795146744918, 0.9877795146744918, 0.9877795146744918, 0.9877795146744918, 0.9877795146744918, 0.9877795146744918, 0.9877795146744918, 0.9877795146744918, 0.9877795146744918, 0.9877795146744918, 0.9877795146744918, 0.9877795146744918, 0.9877795146744918, 0.9877795146744918, 0.9877795146744918, 0.9877795146744918, 0.9877795146744918, 0.9877795146744918, 0.9877795146744918, 0.9877795146744918, 0.9877795146744918, 0.9877795146744918, 0.9877795146744918, 0.9877795146744918, 0.9885200268761913, 0.9885200268761913]}], \"AUC_macro\": [{\"categories\": [\"0\", \"1\", \"2\", \"3\", \"4\", \"5\", \"6\", \"7\", \"8\", \"9\", \"10\", \"11\", \"12\", \"13\", \"14\", \"15\", \"16\", \"17\", \"18\", \"19\", \"20\", \"21\", \"22\", \"23\", \"24\", \"25\", \"26\", \"27\", \"28\", \"29\", \"30\", \"31\", \"32\", \"33\", \"34\", \"35\", \"36\", \"37\", \"38\", \"39\", \"40\", \"41\", \"42\", \"43\", \"44\", \"45\", \"46\", \"47\", \"48\", \"50\", \"51\", \"57\", \"58\"], \"mode\": \"markers\", \"name\": \"AUC_macro\", \"stepped\": false, \"type\": \"scatter\", \"data\": [0.9982348563940859, 0.9980583751239606, 0.9698532519766827, 0.9541721131935704, 0.9858603393732768, 0.9980956679411538, 0.9936090436108255, 0.9920622841360397, 0.9870096731812724, 0.9862352716004702, 0.9951854616023056, 0.9798058102885007, 0.9801453899365488, 0.9951450620370346, 0.9798018932317305, 0.989183501882046, 0.9798040934769672, 0.9980924915697615, 0.9798488106202913, 0.9798026815413197, 0.9884375106776249, 0.9918660438405227, 0.9952685920002443, 0.9926753905533069, 0.9929867129064739, 0.984471390065802, 0.9875133998799809, 0.9980655650982673, 0.9946037624629062, 0.9918778540611729, 0.9837775766729934, 0.9978793052046587, 0.9943060143025905, 0.9579223641863032, 0.9916951571899218, 0.997029575740139, 0.9951824368562378, 0.9976559277917323, 0.9969732735406042, 0.995255072872241, 0.5, 0.9983099531468684, 0.9952647459564913, 0.9953931373876751, 0.9947767117169851, 0.5, 0.9918883613111857, 0.9950473183462059, 0.993621070198186, 0.9877203913483544, 0.9819311687716631, 0.9982497423027814, 0.9982430144294631]}, {\"categories\": [\"0\", \"1\", \"2\", \"3\", \"4\", \"5\", \"6\", \"7\", \"8\", \"9\", \"10\", \"11\", \"12\", \"13\", \"14\", \"15\", \"16\", \"17\", \"18\", \"19\", \"20\", \"21\", \"22\", \"23\", \"24\", \"25\", \"26\", \"27\", \"28\", \"29\", \"30\", \"31\", \"32\", \"33\", \"34\", \"35\", \"36\", \"37\", \"38\", \"39\", \"40\", \"41\", \"42\", \"43\", \"44\", \"45\", \"46\", \"47\", \"48\", \"50\", \"51\", \"57\", \"58\"], \"mode\": \"lines\", \"name\": \"AUC_macro_max\", \"stepped\": true, \"type\": \"scatter\", \"data\": [0.9982348563940859, 0.9982348563940859, 0.9982348563940859, 0.9982348563940859, 0.9982348563940859, 0.9982348563940859, 0.9982348563940859, 0.9982348563940859, 0.9982348563940859, 0.9982348563940859, 0.9982348563940859, 0.9982348563940859, 0.9982348563940859, 0.9982348563940859, 0.9982348563940859, 0.9982348563940859, 0.9982348563940859, 0.9982348563940859, 0.9982348563940859, 0.9982348563940859, 0.9982348563940859, 0.9982348563940859, 0.9982348563940859, 0.9982348563940859, 0.9982348563940859, 0.9982348563940859, 0.9982348563940859, 0.9982348563940859, 0.9982348563940859, 0.9982348563940859, 0.9982348563940859, 0.9982348563940859, 0.9982348563940859, 0.9982348563940859, 0.9982348563940859, 0.9982348563940859, 0.9982348563940859, 0.9982348563940859, 0.9982348563940859, 0.9982348563940859, 0.9982348563940859, 0.9983099531468684, 0.9983099531468684, 0.9983099531468684, 0.9983099531468684, 0.9983099531468684, 0.9983099531468684, 0.9983099531468684, 0.9983099531468684, 0.9983099531468684, 0.9983099531468684, 0.9983099531468684, 0.9983099531468684]}], \"AUC_micro\": [{\"categories\": [\"0\", \"1\", \"2\", \"3\", \"4\", \"5\", \"6\", \"7\", \"8\", \"9\", \"10\", \"11\", \"12\", \"13\", \"14\", \"15\", \"16\", \"17\", \"18\", \"19\", \"20\", \"21\", \"22\", \"23\", \"24\", \"25\", \"26\", \"27\", \"28\", \"29\", \"30\", \"31\", \"32\", \"33\", \"34\", \"35\", \"36\", \"37\", \"38\", \"39\", \"40\", \"41\", \"42\", \"43\", \"44\", \"45\", \"46\", \"47\", \"48\", \"50\", \"51\", \"57\", \"58\"], \"mode\": \"markers\", \"name\": \"AUC_micro\", \"stepped\": false, \"type\": \"scatter\", \"data\": [0.9990409582273198, 0.9988644090426736, 0.9807677387055002, 0.9727662823010408, 0.9870341489311869, 0.9989113158864983, 0.990498397899227, 0.995488342790094, 0.9934974513049709, 0.9714928778917038, 0.9974296387229339, 0.990048617903515, 0.9901763221518873, 0.9974887125909384, 0.9900478859692079, 0.9948402354413058, 0.9900488919811264, 0.9988890827979868, 0.9900642587086662, 0.9900458756379392, 0.9938803177305923, 0.9960439441634859, 0.9969997843498248, 0.9924768726344185, 0.9964177310425463, 0.9692614451773238, 0.9907376626018088, 0.9990210949800805, 0.997171867971851, 0.9955666519497326, 0.971069186867023, 0.998832168025325, 0.9969857443759292, 0.9749128751142283, 0.9958507445566022, 0.9983457269374091, 0.9974956608891498, 0.9986673036224833, 0.9981915503089175, 0.9975614618070449, 0.8373035592670296, 0.9990575615284527, 0.997535310714507, 0.9975591574173963, 0.9973180310714748, 0.8373035592670296, 0.9958303337634645, 0.9974065183857984, 0.9967106172957702, 0.9941657619633878, 0.9832540303396821, 0.9989819049621033, 0.9985844812967274]}, {\"categories\": [\"0\", \"1\", \"2\", \"3\", \"4\", \"5\", \"6\", \"7\", \"8\", \"9\", \"10\", \"11\", \"12\", \"13\", \"14\", \"15\", \"16\", \"17\", \"18\", \"19\", \"20\", \"21\", \"22\", \"23\", \"24\", \"25\", \"26\", \"27\", \"28\", \"29\", \"30\", \"31\", \"32\", \"33\", \"34\", \"35\", \"36\", \"37\", \"38\", \"39\", \"40\", \"41\", \"42\", \"43\", \"44\", \"45\", \"46\", \"47\", \"48\", \"50\", \"51\", \"57\", \"58\"], \"mode\": \"lines\", \"name\": \"AUC_micro_max\", \"stepped\": true, \"type\": \"scatter\", \"data\": [0.9990409582273198, 0.9990409582273198, 0.9990409582273198, 0.9990409582273198, 0.9990409582273198, 0.9990409582273198, 0.9990409582273198, 0.9990409582273198, 0.9990409582273198, 0.9990409582273198, 0.9990409582273198, 0.9990409582273198, 0.9990409582273198, 0.9990409582273198, 0.9990409582273198, 0.9990409582273198, 0.9990409582273198, 0.9990409582273198, 0.9990409582273198, 0.9990409582273198, 0.9990409582273198, 0.9990409582273198, 0.9990409582273198, 0.9990409582273198, 0.9990409582273198, 0.9990409582273198, 0.9990409582273198, 0.9990409582273198, 0.9990409582273198, 0.9990409582273198, 0.9990409582273198, 0.9990409582273198, 0.9990409582273198, 0.9990409582273198, 0.9990409582273198, 0.9990409582273198, 0.9990409582273198, 0.9990409582273198, 0.9990409582273198, 0.9990409582273198, 0.9990409582273198, 0.9990575615284527, 0.9990575615284527, 0.9990575615284527, 0.9990575615284527, 0.9990575615284527, 0.9990575615284527, 0.9990575615284527, 0.9990575615284527, 0.9990575615284527, 0.9990575615284527, 0.9990575615284527, 0.9990575615284527]}], \"precision_score_weighted\": [{\"categories\": [\"0\", \"1\", \"2\", \"3\", \"4\", \"5\", \"6\", \"7\", \"8\", \"9\", \"10\", \"11\", \"12\", \"13\", \"14\", \"15\", \"16\", \"17\", \"18\", \"19\", \"20\", \"21\", \"22\", \"23\", \"24\", \"25\", \"26\", \"27\", \"28\", \"29\", \"30\", \"31\", \"32\", \"33\", \"34\", \"35\", \"36\", \"37\", \"38\", \"39\", \"40\", \"41\", \"42\", \"43\", \"44\", \"45\", \"46\", \"47\", \"48\", \"50\", \"51\", \"57\", \"58\"], \"mode\": \"markers\", \"name\": \"precision_score_weighted\", \"stepped\": false, \"type\": \"scatter\", \"data\": [0.9873729082892057, 0.98524767775142, 0.9254099224729867, 0.9094571061876859, 0.9496181861377586, 0.9842638116109352, 0.9561328221597291, 0.9693474018831755, 0.9606769277515516, 0.8809225801555587, 0.976960233843719, 0.9500620470815829, 0.9498779223177009, 0.9781072393332649, 0.9500620470815829, 0.9697400981017313, 0.9500620470815829, 0.9850242318978105, 0.9497427609957644, 0.9500620470815829, 0.9664267860387996, 0.9734244916498577, 0.9722219488031563, 0.9504200224780673, 0.9730885771197418, 0.7011160233823897, 0.9443341874562993, 0.9877397132987179, 0.9750788687908196, 0.9701003147362437, 0.8838567004039518, 0.9859068358418316, 0.9771718665619168, 0.917192457643881, 0.9729760643687942, 0.9817754852550135, 0.9778551879018775, 0.9820311604189126, 0.9796166903451632, 0.9786281735213297, 0.7011160233823897, 0.9868748520315838, 0.9783547932341229, 0.9787638683919774, 0.9770873639711081, 0.7011160233823897, 0.9712579478962553, 0.9778699727298222, 0.9744308132960677, 0.9673141709733696, 0.9421292530656998, 0.9884679366831852, 0.9878597294218675]}, {\"categories\": [\"0\", \"1\", \"2\", \"3\", \"4\", \"5\", \"6\", \"7\", \"8\", \"9\", \"10\", \"11\", \"12\", \"13\", \"14\", \"15\", \"16\", \"17\", \"18\", \"19\", \"20\", \"21\", \"22\", \"23\", \"24\", \"25\", \"26\", \"27\", \"28\", \"29\", \"30\", \"31\", \"32\", \"33\", \"34\", \"35\", \"36\", \"37\", \"38\", \"39\", \"40\", \"41\", \"42\", \"43\", \"44\", \"45\", \"46\", \"47\", \"48\", \"50\", \"51\", \"57\", \"58\"], \"mode\": \"lines\", \"name\": \"precision_score_weighted_max\", \"stepped\": true, \"type\": \"scatter\", \"data\": [0.9873729082892057, 0.9873729082892057, 0.9873729082892057, 0.9873729082892057, 0.9873729082892057, 0.9873729082892057, 0.9873729082892057, 0.9873729082892057, 0.9873729082892057, 0.9873729082892057, 0.9873729082892057, 0.9873729082892057, 0.9873729082892057, 0.9873729082892057, 0.9873729082892057, 0.9873729082892057, 0.9873729082892057, 0.9873729082892057, 0.9873729082892057, 0.9873729082892057, 0.9873729082892057, 0.9873729082892057, 0.9873729082892057, 0.9873729082892057, 0.9873729082892057, 0.9873729082892057, 0.9873729082892057, 0.9877397132987179, 0.9877397132987179, 0.9877397132987179, 0.9877397132987179, 0.9877397132987179, 0.9877397132987179, 0.9877397132987179, 0.9877397132987179, 0.9877397132987179, 0.9877397132987179, 0.9877397132987179, 0.9877397132987179, 0.9877397132987179, 0.9877397132987179, 0.9877397132987179, 0.9877397132987179, 0.9877397132987179, 0.9877397132987179, 0.9877397132987179, 0.9877397132987179, 0.9877397132987179, 0.9877397132987179, 0.9877397132987179, 0.9877397132987179, 0.9884679366831852, 0.9884679366831852]}], \"average_precision_score_weighted\": [{\"categories\": [\"0\", \"1\", \"2\", \"3\", \"4\", \"5\", \"6\", \"7\", \"8\", \"9\", \"10\", \"11\", \"12\", \"13\", \"14\", \"15\", \"16\", \"17\", \"18\", \"19\", \"20\", \"21\", \"22\", \"23\", \"24\", \"25\", \"26\", \"27\", \"28\", \"29\", \"30\", \"31\", \"32\", \"33\", \"34\", \"35\", \"36\", \"37\", \"38\", \"39\", \"40\", \"41\", \"42\", \"43\", \"44\", \"45\", \"46\", \"47\", \"48\", \"50\", \"51\", \"57\", \"58\"], \"mode\": \"markers\", \"name\": \"average_precision_score_weighted\", \"stepped\": false, \"type\": \"scatter\", \"data\": [0.9983621673771177, 0.9981571799370664, 0.9740176969398645, 0.9651082744093352, 0.9877875371933675, 0.9981776357028314, 0.9943544192579971, 0.993643182080237, 0.9896914421976427, 0.9893035681865608, 0.9958233851629386, 0.9841563830135828, 0.9843093646448406, 0.9959506743216364, 0.9841574075034222, 0.9920912420262082, 0.9841601047619924, 0.9982314007311951, 0.9841629829983929, 0.9841560636003948, 0.9912773787604752, 0.9937123665123409, 0.9957360868790177, 0.9932725928450576, 0.994508108830258, 0.9862273803103815, 0.988541857725593, 0.9983625647677461, 0.9953258367768855, 0.9938651698838052, 0.9866682957701954, 0.9981010049857005, 0.9954181988213113, 0.9709126104159772, 0.9937030428436421, 0.9972809354614993, 0.9960004611077001, 0.997763611915118, 0.9970955479848534, 0.9961080540192128, 0.72762492823072, 0.9983896393698716, 0.9960358767455073, 0.9960839093667403, 0.9957250444623664, 0.72762492823072, 0.9936872196112022, 0.9959104957829412, 0.9947757653173473, 0.9903005601634504, 0.9854956276340912, 0.9983986967778214, 0.998396402960395]}, {\"categories\": [\"0\", \"1\", \"2\", \"3\", \"4\", \"5\", \"6\", \"7\", \"8\", \"9\", \"10\", \"11\", \"12\", \"13\", \"14\", \"15\", \"16\", \"17\", \"18\", \"19\", \"20\", \"21\", \"22\", \"23\", \"24\", \"25\", \"26\", \"27\", \"28\", \"29\", \"30\", \"31\", \"32\", \"33\", \"34\", \"35\", \"36\", \"37\", \"38\", \"39\", \"40\", \"41\", \"42\", \"43\", \"44\", \"45\", \"46\", \"47\", \"48\", \"50\", \"51\", \"57\", \"58\"], \"mode\": \"lines\", \"name\": \"average_precision_score_weighted_max\", \"stepped\": true, \"type\": \"scatter\", \"data\": [0.9983621673771177, 0.9983621673771177, 0.9983621673771177, 0.9983621673771177, 0.9983621673771177, 0.9983621673771177, 0.9983621673771177, 0.9983621673771177, 0.9983621673771177, 0.9983621673771177, 0.9983621673771177, 0.9983621673771177, 0.9983621673771177, 0.9983621673771177, 0.9983621673771177, 0.9983621673771177, 0.9983621673771177, 0.9983621673771177, 0.9983621673771177, 0.9983621673771177, 0.9983621673771177, 0.9983621673771177, 0.9983621673771177, 0.9983621673771177, 0.9983621673771177, 0.9983621673771177, 0.9983621673771177, 0.9983625647677461, 0.9983625647677461, 0.9983625647677461, 0.9983625647677461, 0.9983625647677461, 0.9983625647677461, 0.9983625647677461, 0.9983625647677461, 0.9983625647677461, 0.9983625647677461, 0.9983625647677461, 0.9983625647677461, 0.9983625647677461, 0.9983625647677461, 0.9983896393698716, 0.9983896393698716, 0.9983896393698716, 0.9983896393698716, 0.9983896393698716, 0.9983896393698716, 0.9983896393698716, 0.9983896393698716, 0.9983896393698716, 0.9983896393698716, 0.9983986967778214, 0.9983986967778214]}], \"weighted_accuracy\": [{\"categories\": [\"0\", \"1\", \"2\", \"3\", \"4\", \"5\", \"6\", \"7\", \"8\", \"9\", \"10\", \"11\", \"12\", \"13\", \"14\", \"15\", \"16\", \"17\", \"18\", \"19\", \"20\", \"21\", \"22\", \"23\", \"24\", \"25\", \"26\", \"27\", \"28\", \"29\", \"30\", \"31\", \"32\", \"33\", \"34\", \"35\", \"36\", \"37\", \"38\", \"39\", \"40\", \"41\", \"42\", \"43\", \"44\", \"45\", \"46\", \"47\", \"48\", \"50\", \"51\", \"57\", \"58\"], \"mode\": \"markers\", \"name\": \"weighted_accuracy\", \"stepped\": false, \"type\": \"scatter\", \"data\": [0.9920264572700059, 0.9924851054037255, 0.9737248380157819, 0.9697931517493713, 0.944331941639744, 0.9908961815844126, 0.9883188377924043, 0.9881542085370353, 0.9816855170191493, 0.9689771371305386, 0.9876730345869139, 0.9717494475000384, 0.9721851958172459, 0.9888443067655682, 0.9717494475000384, 0.985740148783668, 0.9717494475000384, 0.9917423004573401, 0.9719272706821945, 0.9717494475000384, 0.9863521877821261, 0.9865532031399442, 0.9883148002347729, 0.9857188630081731, 0.9878446098055574, 0.9635304322903258, 0.9829633891667324, 0.9925840384239106, 0.9872533951672304, 0.988321068312144, 0.9698310923386136, 0.9912485179740386, 0.9904434165484325, 0.9767686319306629, 0.9875773105959288, 0.9896517313693817, 0.9898256978272832, 0.989718370067457, 0.9899796636350356, 0.9898814598110007, 0.9635304322903258, 0.9919280339045625, 0.9889148197020835, 0.9885281870872321, 0.9889698515079814, 0.9635304322903258, 0.9876445684024172, 0.9900390726080951, 0.9873509394077006, 0.9831633359942816, 0.9372235592603918, 0.9937742520007841, 0.9931787762041057]}, {\"categories\": [\"0\", \"1\", \"2\", \"3\", \"4\", \"5\", \"6\", \"7\", \"8\", \"9\", \"10\", \"11\", \"12\", \"13\", \"14\", \"15\", \"16\", \"17\", \"18\", \"19\", \"20\", \"21\", \"22\", \"23\", \"24\", \"25\", \"26\", \"27\", \"28\", \"29\", \"30\", \"31\", \"32\", \"33\", \"34\", \"35\", \"36\", \"37\", \"38\", \"39\", \"40\", \"41\", \"42\", \"43\", \"44\", \"45\", \"46\", \"47\", \"48\", \"50\", \"51\", \"57\", \"58\"], \"mode\": \"lines\", \"name\": \"weighted_accuracy_max\", \"stepped\": true, \"type\": \"scatter\", \"data\": [0.9920264572700059, 0.9924851054037255, 0.9924851054037255, 0.9924851054037255, 0.9924851054037255, 0.9924851054037255, 0.9924851054037255, 0.9924851054037255, 0.9924851054037255, 0.9924851054037255, 0.9924851054037255, 0.9924851054037255, 0.9924851054037255, 0.9924851054037255, 0.9924851054037255, 0.9924851054037255, 0.9924851054037255, 0.9924851054037255, 0.9924851054037255, 0.9924851054037255, 0.9924851054037255, 0.9924851054037255, 0.9924851054037255, 0.9924851054037255, 0.9924851054037255, 0.9924851054037255, 0.9924851054037255, 0.9925840384239106, 0.9925840384239106, 0.9925840384239106, 0.9925840384239106, 0.9925840384239106, 0.9925840384239106, 0.9925840384239106, 0.9925840384239106, 0.9925840384239106, 0.9925840384239106, 0.9925840384239106, 0.9925840384239106, 0.9925840384239106, 0.9925840384239106, 0.9925840384239106, 0.9925840384239106, 0.9925840384239106, 0.9925840384239106, 0.9925840384239106, 0.9925840384239106, 0.9925840384239106, 0.9925840384239106, 0.9925840384239106, 0.9925840384239106, 0.9937742520007841, 0.9937742520007841]}], \"matthews_correlation\": [{\"categories\": [\"0\", \"1\", \"2\", \"3\", \"4\", \"5\", \"6\", \"7\", \"8\", \"9\", \"10\", \"11\", \"12\", \"13\", \"14\", \"15\", \"16\", \"17\", \"18\", \"19\", \"20\", \"21\", \"22\", \"23\", \"24\", \"25\", \"26\", \"27\", \"28\", \"29\", \"30\", \"31\", \"32\", \"33\", \"34\", \"35\", \"36\", \"37\", \"38\", \"39\", \"40\", \"41\", \"42\", \"43\", \"44\", \"45\", \"46\", \"47\", \"48\", \"50\", \"51\", \"57\", \"58\"], \"mode\": \"markers\", \"name\": \"matthews_correlation\", \"stepped\": false, \"type\": \"scatter\", \"data\": [0.9537000545583414, 0.9455203753613054, 0.7025212168921019, 0.6353040237668717, 0.8097283859472442, 0.9419597712911808, 0.826434220367179, 0.8846805008935684, 0.854256189574839, 0.3616060533682835, 0.9151472021343938, 0.8156236041429813, 0.814714433438284, 0.9191767659748372, 0.8156236041429813, 0.8879430234148386, 0.8156236041429813, 0.944746718167406, 0.814333559162079, 0.8156236041429813, 0.8741489816405211, 0.9018974152986418, 0.8962201386098895, 0.8041428686926606, 0.9001271664261777, 0.0, 0.7804383761694954, 0.9548018183085484, 0.9080426752841646, 0.8875446630778109, 0.3892407308815568, 0.9481394010812275, 0.9151861885001337, 0.6519228825879496, 0.8999193876585916, 0.9328591126522916, 0.9178480365969612, 0.9336231860544001, 0.9246088263845138, 0.9207549378177416, 0.0, 0.951705609084918, 0.9199008801202592, 0.921686456605504, 0.9151753890329556, 0.0, 0.8931560523740858, 0.9180454992635848, 0.9054413154829676, 0.8793093909098264, 0.7816590781147011, 0.9574955630022789, 0.9552892110086028]}, {\"categories\": [\"0\", \"1\", \"2\", \"3\", \"4\", \"5\", \"6\", \"7\", \"8\", \"9\", \"10\", \"11\", \"12\", \"13\", \"14\", \"15\", \"16\", \"17\", \"18\", \"19\", \"20\", \"21\", \"22\", \"23\", \"24\", \"25\", \"26\", \"27\", \"28\", \"29\", \"30\", \"31\", \"32\", \"33\", \"34\", \"35\", \"36\", \"37\", \"38\", \"39\", \"40\", \"41\", \"42\", \"43\", \"44\", \"45\", \"46\", \"47\", \"48\", \"50\", \"51\", \"57\", \"58\"], \"mode\": \"lines\", \"name\": \"matthews_correlation_max\", \"stepped\": true, \"type\": \"scatter\", \"data\": [0.9537000545583414, 0.9537000545583414, 0.9537000545583414, 0.9537000545583414, 0.9537000545583414, 0.9537000545583414, 0.9537000545583414, 0.9537000545583414, 0.9537000545583414, 0.9537000545583414, 0.9537000545583414, 0.9537000545583414, 0.9537000545583414, 0.9537000545583414, 0.9537000545583414, 0.9537000545583414, 0.9537000545583414, 0.9537000545583414, 0.9537000545583414, 0.9537000545583414, 0.9537000545583414, 0.9537000545583414, 0.9537000545583414, 0.9537000545583414, 0.9537000545583414, 0.9537000545583414, 0.9537000545583414, 0.9548018183085484, 0.9548018183085484, 0.9548018183085484, 0.9548018183085484, 0.9548018183085484, 0.9548018183085484, 0.9548018183085484, 0.9548018183085484, 0.9548018183085484, 0.9548018183085484, 0.9548018183085484, 0.9548018183085484, 0.9548018183085484, 0.9548018183085484, 0.9548018183085484, 0.9548018183085484, 0.9548018183085484, 0.9548018183085484, 0.9548018183085484, 0.9548018183085484, 0.9548018183085484, 0.9548018183085484, 0.9548018183085484, 0.9548018183085484, 0.9574955630022789, 0.9574955630022789]}], \"f1_score_weighted\": [{\"categories\": [\"0\", \"1\", \"2\", \"3\", \"4\", \"5\", \"6\", \"7\", \"8\", \"9\", \"10\", \"11\", \"12\", \"13\", \"14\", \"15\", \"16\", \"17\", \"18\", \"19\", \"20\", \"21\", \"22\", \"23\", \"24\", \"25\", \"26\", \"27\", \"28\", \"29\", \"30\", \"31\", \"32\", \"33\", \"34\", \"35\", \"36\", \"37\", \"38\", \"39\", \"40\", \"41\", \"42\", \"43\", \"44\", \"45\", \"46\", \"47\", \"48\", \"50\", \"51\", \"57\", \"58\"], \"mode\": \"markers\", \"name\": \"f1_score_weighted\", \"stepped\": false, \"type\": \"scatter\", \"data\": [0.9873862570688954, 0.9852013763530646, 0.9187259575707852, 0.9005757057430298, 0.9442547120893555, 0.9842467743806234, 0.9517390983550674, 0.9686990705724758, 0.960443905781427, 0.816821193182604, 0.976953542778631, 0.95024187006072, 0.9500414399967573, 0.9780485367844918, 0.95024187006072, 0.9695981809276746, 0.95024187006072, 0.9849782486966215, 0.9499404699086137, 0.95024187006072, 0.9657799177692293, 0.973371288445737, 0.9717525386010465, 0.9457429967665022, 0.9728741123847392, 0.7631713985796408, 0.9394502092910512, 0.987742321507533, 0.9750228064683287, 0.9694877996693293, 0.8240763836737649, 0.9858916467332545, 0.9769023629220204, 0.9027493333963982, 0.9727689271611896, 0.9817478831593395, 0.9777222524016832, 0.9819908272366066, 0.9795308153255003, 0.9784988808167564, 0.7631713985796408, 0.9868794706257136, 0.9782958941247037, 0.978715671180285, 0.9769967355316455, 0.7631713985796408, 0.9709035916270925, 0.9777134430303076, 0.9743573919159515, 0.9673047820137528, 0.9359573534582503, 0.9884665953344453, 0.9878511795651487]}, {\"categories\": [\"0\", \"1\", \"2\", \"3\", \"4\", \"5\", \"6\", \"7\", \"8\", \"9\", \"10\", \"11\", \"12\", \"13\", \"14\", \"15\", \"16\", \"17\", \"18\", \"19\", \"20\", \"21\", \"22\", \"23\", \"24\", \"25\", \"26\", \"27\", \"28\", \"29\", \"30\", \"31\", \"32\", \"33\", \"34\", \"35\", \"36\", \"37\", \"38\", \"39\", \"40\", \"41\", \"42\", \"43\", \"44\", \"45\", \"46\", \"47\", \"48\", \"50\", \"51\", \"57\", \"58\"], \"mode\": \"lines\", \"name\": \"f1_score_weighted_max\", \"stepped\": true, \"type\": \"scatter\", \"data\": [0.9873862570688954, 0.9873862570688954, 0.9873862570688954, 0.9873862570688954, 0.9873862570688954, 0.9873862570688954, 0.9873862570688954, 0.9873862570688954, 0.9873862570688954, 0.9873862570688954, 0.9873862570688954, 0.9873862570688954, 0.9873862570688954, 0.9873862570688954, 0.9873862570688954, 0.9873862570688954, 0.9873862570688954, 0.9873862570688954, 0.9873862570688954, 0.9873862570688954, 0.9873862570688954, 0.9873862570688954, 0.9873862570688954, 0.9873862570688954, 0.9873862570688954, 0.9873862570688954, 0.9873862570688954, 0.987742321507533, 0.987742321507533, 0.987742321507533, 0.987742321507533, 0.987742321507533, 0.987742321507533, 0.987742321507533, 0.987742321507533, 0.987742321507533, 0.987742321507533, 0.987742321507533, 0.987742321507533, 0.987742321507533, 0.987742321507533, 0.987742321507533, 0.987742321507533, 0.987742321507533, 0.987742321507533, 0.987742321507533, 0.987742321507533, 0.987742321507533, 0.987742321507533, 0.987742321507533, 0.987742321507533, 0.9884665953344453, 0.9884665953344453]}], \"recall_score_macro\": [{\"categories\": [\"0\", \"1\", \"2\", \"3\", \"4\", \"5\", \"6\", \"7\", \"8\", \"9\", \"10\", \"11\", \"12\", \"13\", \"14\", \"15\", \"16\", \"17\", \"18\", \"19\", \"20\", \"21\", \"22\", \"23\", \"24\", \"25\", \"26\", \"27\", \"28\", \"29\", \"30\", \"31\", \"32\", \"33\", \"34\", \"35\", \"36\", \"37\", \"38\", \"39\", \"40\", \"41\", \"42\", \"43\", \"44\", \"45\", \"46\", \"47\", \"48\", \"50\", \"51\", \"57\", \"58\"], \"mode\": \"markers\", \"name\": \"recall_score_macro\", \"stepped\": false, \"type\": \"scatter\", \"data\": [0.9750558736568098, 0.966000538190876, 0.7954633262640044, 0.7527754598375781, 0.9362994217830773, 0.9665816662181591, 0.8644514108917685, 0.919491137338713, 0.9072290484079585, 0.5765548363972215, 0.9489811459070733, 0.8954169906108046, 0.8937646750185623, 0.9498675432815693, 0.8954169906108046, 0.9284296643741566, 0.8954169906108046, 0.9670893686648402, 0.8940081790087239, 0.8954169906108046, 0.9139554080237368, 0.9392811456274354, 0.929541389551662, 0.8515420465942393, 0.9344711043630229, 0.5, 0.8379947053752618, 0.9748244627331201, 0.9433546856737908, 0.9217923226252163, 0.5883568312704298, 0.9715888570052761, 0.9420496769191627, 0.7469600879427182, 0.9347681589959205, 0.9608190634960104, 0.9463395352047109, 0.9614925152753031, 0.952294046018558, 0.9488422633742908, 0.5, 0.9734164135799398, 0.9504987217656603, 0.9529327381599332, 0.9459192665690251, 0.5, 0.9282581650113834, 0.9458467335452355, 0.9408055966947573, 0.9266124214383081, 0.9230986238711734, 0.9744025382155712, 0.9736874904617654]}, {\"categories\": [\"0\", \"1\", \"2\", \"3\", \"4\", \"5\", \"6\", \"7\", \"8\", \"9\", \"10\", \"11\", \"12\", \"13\", \"14\", \"15\", \"16\", \"17\", \"18\", \"19\", \"20\", \"21\", \"22\", \"23\", \"24\", \"25\", \"26\", \"27\", \"28\", \"29\", \"30\", \"31\", \"32\", \"33\", \"34\", \"35\", \"36\", \"37\", \"38\", \"39\", \"40\", \"41\", \"42\", \"43\", \"44\", \"45\", \"46\", \"47\", \"48\", \"50\", \"51\", \"57\", \"58\"], \"mode\": \"lines\", \"name\": \"recall_score_macro_max\", \"stepped\": true, \"type\": \"scatter\", \"data\": [0.9750558736568098, 0.9750558736568098, 0.9750558736568098, 0.9750558736568098, 0.9750558736568098, 0.9750558736568098, 0.9750558736568098, 0.9750558736568098, 0.9750558736568098, 0.9750558736568098, 0.9750558736568098, 0.9750558736568098, 0.9750558736568098, 0.9750558736568098, 0.9750558736568098, 0.9750558736568098, 0.9750558736568098, 0.9750558736568098, 0.9750558736568098, 0.9750558736568098, 0.9750558736568098, 0.9750558736568098, 0.9750558736568098, 0.9750558736568098, 0.9750558736568098, 0.9750558736568098, 0.9750558736568098, 0.9750558736568098, 0.9750558736568098, 0.9750558736568098, 0.9750558736568098, 0.9750558736568098, 0.9750558736568098, 0.9750558736568098, 0.9750558736568098, 0.9750558736568098, 0.9750558736568098, 0.9750558736568098, 0.9750558736568098, 0.9750558736568098, 0.9750558736568098, 0.9750558736568098, 0.9750558736568098, 0.9750558736568098, 0.9750558736568098, 0.9750558736568098, 0.9750558736568098, 0.9750558736568098, 0.9750558736568098, 0.9750558736568098, 0.9750558736568098, 0.9750558736568098, 0.9750558736568098]}], \"norm_macro_recall\": [{\"categories\": [\"0\", \"1\", \"2\", \"3\", \"4\", \"5\", \"6\", \"7\", \"8\", \"9\", \"10\", \"11\", \"12\", \"13\", \"14\", \"15\", \"16\", \"17\", \"18\", \"19\", \"20\", \"21\", \"22\", \"23\", \"24\", \"25\", \"26\", \"27\", \"28\", \"29\", \"30\", \"31\", \"32\", \"33\", \"34\", \"35\", \"36\", \"37\", \"38\", \"39\", \"40\", \"41\", \"42\", \"43\", \"44\", \"45\", \"46\", \"47\", \"48\", \"50\", \"51\", \"57\", \"58\"], \"mode\": \"markers\", \"name\": \"norm_macro_recall\", \"stepped\": false, \"type\": \"scatter\", \"data\": [0.9501117473136196, 0.9320010763817518, 0.5909266525280087, 0.5055509196751561, 0.8725988435661547, 0.9331633324363181, 0.7289028217835369, 0.8389822746774263, 0.8144580968159169, 0.15310967279444299, 0.8979622918141464, 0.7908339812216094, 0.7875293500371248, 0.8997350865631385, 0.7908339812216094, 0.8568593287483132, 0.7908339812216094, 0.9341787373296806, 0.7880163580174478, 0.7908339812216094, 0.8279108160474736, 0.8785622912548711, 0.8590827791033241, 0.7030840931884788, 0.8689422087260459, 0.0, 0.6759894107505234, 0.94964892546624, 0.8867093713475814, 0.8435846452504324, 0.1767136625408597, 0.9431777140105521, 0.8840993538383254, 0.49392017588543663, 0.869536317991841, 0.9216381269920207, 0.892679070409422, 0.9229850305506062, 0.9045880920371161, 0.8976845267485816, 0.0, 0.9468328271598795, 0.9009974435313207, 0.9058654763198662, 0.8918385331380505, 0.0, 0.8565163300227668, 0.8916934670904709, 0.8816111933895145, 0.8532248428766164, 0.8461972477423467, 0.9488050764311423, 0.9473749809235305]}, {\"categories\": [\"0\", \"1\", \"2\", \"3\", \"4\", \"5\", \"6\", \"7\", \"8\", \"9\", \"10\", \"11\", \"12\", \"13\", \"14\", \"15\", \"16\", \"17\", \"18\", \"19\", \"20\", \"21\", \"22\", \"23\", \"24\", \"25\", \"26\", \"27\", \"28\", \"29\", \"30\", \"31\", \"32\", \"33\", \"34\", \"35\", \"36\", \"37\", \"38\", \"39\", \"40\", \"41\", \"42\", \"43\", \"44\", \"45\", \"46\", \"47\", \"48\", \"50\", \"51\", \"57\", \"58\"], \"mode\": \"lines\", \"name\": \"norm_macro_recall_max\", \"stepped\": true, \"type\": \"scatter\", \"data\": [0.9501117473136196, 0.9501117473136196, 0.9501117473136196, 0.9501117473136196, 0.9501117473136196, 0.9501117473136196, 0.9501117473136196, 0.9501117473136196, 0.9501117473136196, 0.9501117473136196, 0.9501117473136196, 0.9501117473136196, 0.9501117473136196, 0.9501117473136196, 0.9501117473136196, 0.9501117473136196, 0.9501117473136196, 0.9501117473136196, 0.9501117473136196, 0.9501117473136196, 0.9501117473136196, 0.9501117473136196, 0.9501117473136196, 0.9501117473136196, 0.9501117473136196, 0.9501117473136196, 0.9501117473136196, 0.9501117473136196, 0.9501117473136196, 0.9501117473136196, 0.9501117473136196, 0.9501117473136196, 0.9501117473136196, 0.9501117473136196, 0.9501117473136196, 0.9501117473136196, 0.9501117473136196, 0.9501117473136196, 0.9501117473136196, 0.9501117473136196, 0.9501117473136196, 0.9501117473136196, 0.9501117473136196, 0.9501117473136196, 0.9501117473136196, 0.9501117473136196, 0.9501117473136196, 0.9501117473136196, 0.9501117473136196, 0.9501117473136196, 0.9501117473136196, 0.9501117473136196, 0.9501117473136196]}], \"log_loss\": [{\"categories\": [\"0\", \"1\", \"2\", \"3\", \"4\", \"5\", \"6\", \"7\", \"8\", \"9\", \"10\", \"11\", \"12\", \"13\", \"14\", \"15\", \"16\", \"17\", \"18\", \"19\", \"20\", \"21\", \"22\", \"23\", \"24\", \"25\", \"26\", \"27\", \"28\", \"29\", \"30\", \"31\", \"32\", \"33\", \"34\", \"35\", \"36\", \"37\", \"38\", \"39\", \"40\", \"41\", \"42\", \"43\", \"44\", \"45\", \"46\", \"47\", \"48\", \"50\", \"51\", \"57\", \"58\"], \"mode\": \"markers\", \"name\": \"log_loss\", \"stepped\": false, \"type\": \"scatter\", \"data\": [0.04076043957448076, 0.044375149243352986, 0.20669495686903885, 0.23443330532402915, 0.24699399228074792, 0.04410979978015639, 0.1881906832101897, 0.08858558093891111, 0.10365146353799161, 0.27542959560510466, 0.06196422212358035, 0.12701084943477786, 0.12617002298856927, 0.061481556296568984, 0.12701054076782572, 0.25658452742923094, 0.12700094611199741, 0.050712119353512046, 0.12681347658487044, 0.12700298745889624, 0.27534273440898493, 0.1130056857582319, 0.09105272121478436, 0.15520053333328096, 0.08243129428893729, 0.32670263803195015, 0.16253840059508387, 0.03705999703440778, 0.06817484125090613, 0.2714853717235885, 0.2778223507784722, 0.046448715992612376, 0.07582507021502698, 0.2292366750489527, 0.11941684137291404, 0.05173205712646139, 0.06253364578843616, 0.04752306413473483, 0.06370402231781187, 0.060981743207833124, 0.444301925116336, 0.037745372191835574, 0.06247306454760356, 0.061927557604967896, 0.06479503961077432, 0.4442740605626733, 0.12170353574171096, 0.06405889626480528, 0.07570068573506512, 0.25544825804142485, 0.24379235141208602, 0.03950192825182192, 0.0449296082725702]}, {\"categories\": [\"0\", \"1\", \"2\", \"3\", \"4\", \"5\", \"6\", \"7\", \"8\", \"9\", \"10\", \"11\", \"12\", \"13\", \"14\", \"15\", \"16\", \"17\", \"18\", \"19\", \"20\", \"21\", \"22\", \"23\", \"24\", \"25\", \"26\", \"27\", \"28\", \"29\", \"30\", \"31\", \"32\", \"33\", \"34\", \"35\", \"36\", \"37\", \"38\", \"39\", \"40\", \"41\", \"42\", \"43\", \"44\", \"45\", \"46\", \"47\", \"48\", \"50\", \"51\", \"57\", \"58\"], \"mode\": \"lines\", \"name\": \"log_loss_min\", \"stepped\": true, \"type\": \"scatter\", \"data\": [0.04076043957448076, 0.04076043957448076, 0.04076043957448076, 0.04076043957448076, 0.04076043957448076, 0.04076043957448076, 0.04076043957448076, 0.04076043957448076, 0.04076043957448076, 0.04076043957448076, 0.04076043957448076, 0.04076043957448076, 0.04076043957448076, 0.04076043957448076, 0.04076043957448076, 0.04076043957448076, 0.04076043957448076, 0.04076043957448076, 0.04076043957448076, 0.04076043957448076, 0.04076043957448076, 0.04076043957448076, 0.04076043957448076, 0.04076043957448076, 0.04076043957448076, 0.04076043957448076, 0.04076043957448076, 0.03705999703440778, 0.03705999703440778, 0.03705999703440778, 0.03705999703440778, 0.03705999703440778, 0.03705999703440778, 0.03705999703440778, 0.03705999703440778, 0.03705999703440778, 0.03705999703440778, 0.03705999703440778, 0.03705999703440778, 0.03705999703440778, 0.03705999703440778, 0.03705999703440778, 0.03705999703440778, 0.03705999703440778, 0.03705999703440778, 0.03705999703440778, 0.03705999703440778, 0.03705999703440778, 0.03705999703440778, 0.03705999703440778, 0.03705999703440778, 0.03705999703440778, 0.03705999703440778]}], \"f1_score_macro\": [{\"categories\": [\"0\", \"1\", \"2\", \"3\", \"4\", \"5\", \"6\", \"7\", \"8\", \"9\", \"10\", \"11\", \"12\", \"13\", \"14\", \"15\", \"16\", \"17\", \"18\", \"19\", \"20\", \"21\", \"22\", \"23\", \"24\", \"25\", \"26\", \"27\", \"28\", \"29\", \"30\", \"31\", \"32\", \"33\", \"34\", \"35\", \"36\", \"37\", \"38\", \"39\", \"40\", \"41\", \"42\", \"43\", \"44\", \"45\", \"46\", \"47\", \"48\", \"50\", \"51\", \"57\", \"58\"], \"mode\": \"markers\", \"name\": \"f1_score_macro\", \"stepped\": false, \"type\": \"scatter\", \"data\": [0.9768412779670027, 0.9726148784006824, 0.8391667989881079, 0.8006682005148532, 0.9019194997687293, 0.9708925882184726, 0.9066159967566448, 0.9409919114092519, 0.9260718089744012, 0.5947595950890597, 0.9573719441688109, 0.907281393173534, 0.906740227436091, 0.959322749721221, 0.907281393173534, 0.943354409644674, 0.907281393173534, 0.9722505551077294, 0.9066025702456025, 0.907281393173534, 0.9356526147736838, 0.9505871806503358, 0.9471208121950316, 0.8947132624221265, 0.9494361191868252, 0.4557178599772091, 0.8821043394705087, 0.9773685435144001, 0.9537016472347964, 0.9425037128452028, 0.6130577138412828, 0.9740219107232096, 0.9569873386322819, 0.8026120207383656, 0.9493555387379553, 0.9663042678802757, 0.9585168928270446, 0.9666706275946536, 0.962014841821548, 0.9600051590981007, 0.4557178599772091, 0.9758235394764304, 0.9596843765638527, 0.9606333571747685, 0.9572339683356615, 0.4557178599772091, 0.9457113705758888, 0.9585865204950701, 0.9523408327451491, 0.9392039759946784, 0.8875749996910335, 0.9786967986141067, 0.9775882328802478]}, {\"categories\": [\"0\", \"1\", \"2\", \"3\", \"4\", \"5\", \"6\", \"7\", \"8\", \"9\", \"10\", \"11\", \"12\", \"13\", \"14\", \"15\", \"16\", \"17\", \"18\", \"19\", \"20\", \"21\", \"22\", \"23\", \"24\", \"25\", \"26\", \"27\", \"28\", \"29\", \"30\", \"31\", \"32\", \"33\", \"34\", \"35\", \"36\", \"37\", \"38\", \"39\", \"40\", \"41\", \"42\", \"43\", \"44\", \"45\", \"46\", \"47\", \"48\", \"50\", \"51\", \"57\", \"58\"], \"mode\": \"lines\", \"name\": \"f1_score_macro_max\", \"stepped\": true, \"type\": \"scatter\", \"data\": [0.9768412779670027, 0.9768412779670027, 0.9768412779670027, 0.9768412779670027, 0.9768412779670027, 0.9768412779670027, 0.9768412779670027, 0.9768412779670027, 0.9768412779670027, 0.9768412779670027, 0.9768412779670027, 0.9768412779670027, 0.9768412779670027, 0.9768412779670027, 0.9768412779670027, 0.9768412779670027, 0.9768412779670027, 0.9768412779670027, 0.9768412779670027, 0.9768412779670027, 0.9768412779670027, 0.9768412779670027, 0.9768412779670027, 0.9768412779670027, 0.9768412779670027, 0.9768412779670027, 0.9768412779670027, 0.9773685435144001, 0.9773685435144001, 0.9773685435144001, 0.9773685435144001, 0.9773685435144001, 0.9773685435144001, 0.9773685435144001, 0.9773685435144001, 0.9773685435144001, 0.9773685435144001, 0.9773685435144001, 0.9773685435144001, 0.9773685435144001, 0.9773685435144001, 0.9773685435144001, 0.9773685435144001, 0.9773685435144001, 0.9773685435144001, 0.9773685435144001, 0.9773685435144001, 0.9773685435144001, 0.9773685435144001, 0.9773685435144001, 0.9773685435144001, 0.9786967986141067, 0.9786967986141067]}], \"accuracy\": [{\"categories\": [\"0\", \"1\", \"2\", \"3\", \"4\", \"5\", \"6\", \"7\", \"8\", \"9\", \"10\", \"11\", \"12\", \"13\", \"14\", \"15\", \"16\", \"17\", \"18\", \"19\", \"20\", \"21\", \"22\", \"23\", \"24\", \"25\", \"26\", \"27\", \"28\", \"29\", \"30\", \"31\", \"32\", \"33\", \"34\", \"35\", \"36\", \"37\", \"38\", \"39\", \"40\", \"41\", \"42\", \"43\", \"44\", \"45\", \"46\", \"47\", \"48\", \"50\", \"51\", \"57\", \"58\"], \"mode\": \"markers\", \"name\": \"accuracy\", \"stepped\": false, \"type\": \"scatter\", \"data\": [0.9874089614728884, 0.9853106074110641, 0.9253185605697021, 0.9106292593963827, 0.9421059872658045, 0.9843229987978847, 0.9545735232949845, 0.9695099665875921, 0.9613619555628689, 0.8621153573664989, 0.9771630991722317, 0.9509936877516786, 0.9508703223771716, 0.978274073159918, 0.9509936877516786, 0.9701269305835516, 0.9509936877516786, 0.9850636024152006, 0.95074681987924, 0.9509936877516786, 0.9666704604147527, 0.9737067204190492, 0.9723493356370069, 0.9491420187310599, 0.9733364871721036, 0.8373035592670296, 0.9434632349244222, 0.9877795146744918, 0.9753115215672293, 0.9702507987439494, 0.8659422893212847, 0.9859276171148318, 0.9772865102545468, 0.914207449458591, 0.9732128018429389, 0.9818540001188403, 0.9780273881187123, 0.9821011879459367, 0.9797557374726326, 0.9787680374438366, 0.8373035592670296, 0.9869153628514359, 0.9785211238635897, 0.9788913571105352, 0.9772864645467386, 0.8373035592670296, 0.9714848181514849, 0.9780271138718627, 0.9746944661556535, 0.9677815715258639, 0.9333409208295054, 0.9885200268761913, 0.9879028343411905]}, {\"categories\": [\"0\", \"1\", \"2\", \"3\", \"4\", \"5\", \"6\", \"7\", \"8\", \"9\", \"10\", \"11\", \"12\", \"13\", \"14\", \"15\", \"16\", \"17\", \"18\", \"19\", \"20\", \"21\", \"22\", \"23\", \"24\", \"25\", \"26\", \"27\", \"28\", \"29\", \"30\", \"31\", \"32\", \"33\", \"34\", \"35\", \"36\", \"37\", \"38\", \"39\", \"40\", \"41\", \"42\", \"43\", \"44\", \"45\", \"46\", \"47\", \"48\", \"50\", \"51\", \"57\", \"58\"], \"mode\": \"lines\", \"name\": \"accuracy_max\", \"stepped\": true, \"type\": \"scatter\", \"data\": [0.9874089614728884, 0.9874089614728884, 0.9874089614728884, 0.9874089614728884, 0.9874089614728884, 0.9874089614728884, 0.9874089614728884, 0.9874089614728884, 0.9874089614728884, 0.9874089614728884, 0.9874089614728884, 0.9874089614728884, 0.9874089614728884, 0.9874089614728884, 0.9874089614728884, 0.9874089614728884, 0.9874089614728884, 0.9874089614728884, 0.9874089614728884, 0.9874089614728884, 0.9874089614728884, 0.9874089614728884, 0.9874089614728884, 0.9874089614728884, 0.9874089614728884, 0.9874089614728884, 0.9874089614728884, 0.9877795146744918, 0.9877795146744918, 0.9877795146744918, 0.9877795146744918, 0.9877795146744918, 0.9877795146744918, 0.9877795146744918, 0.9877795146744918, 0.9877795146744918, 0.9877795146744918, 0.9877795146744918, 0.9877795146744918, 0.9877795146744918, 0.9877795146744918, 0.9877795146744918, 0.9877795146744918, 0.9877795146744918, 0.9877795146744918, 0.9877795146744918, 0.9877795146744918, 0.9877795146744918, 0.9877795146744918, 0.9877795146744918, 0.9877795146744918, 0.9885200268761913, 0.9885200268761913]}], \"average_precision_score_micro\": [{\"categories\": [\"0\", \"1\", \"2\", \"3\", \"4\", \"5\", \"6\", \"7\", \"8\", \"9\", \"10\", \"11\", \"12\", \"13\", \"14\", \"15\", \"16\", \"17\", \"18\", \"19\", \"20\", \"21\", \"22\", \"23\", \"24\", \"25\", \"26\", \"27\", \"28\", \"29\", \"30\", \"31\", \"32\", \"33\", \"34\", \"35\", \"36\", \"37\", \"38\", \"39\", \"40\", \"41\", \"42\", \"43\", \"44\", \"45\", \"46\", \"47\", \"48\", \"50\", \"51\", \"57\", \"58\"], \"mode\": \"markers\", \"name\": \"average_precision_score_micro\", \"stepped\": false, \"type\": \"scatter\", \"data\": [0.9990566812269132, 0.9988847508984856, 0.9814307955206454, 0.9737213518991018, 0.9873488368180351, 0.9989306540898338, 0.9908330250982725, 0.9955577453524276, 0.9936609679317208, 0.9732500164915608, 0.9974656575285347, 0.9902764808174954, 0.9904036335677474, 0.9975429698694548, 0.9902755909031731, 0.9949054266443871, 0.9902764658450391, 0.9989086445318742, 0.9902936972640927, 0.990273714888147, 0.9939497756000236, 0.9961299756576034, 0.9970690218354484, 0.992717182768143, 0.9965019687118618, 0.9713863265714328, 0.9910653926630985, 0.9990227604638338, 0.9972359991689633, 0.9954204915782517, 0.9728530922297015, 0.9988517638428519, 0.9970536182035898, 0.9753625181644954, 0.9959343557494417, 0.9983785686652555, 0.9975497863735988, 0.9986918454618525, 0.9982284777532083, 0.9976165347001006, 0.7824642437488748, 0.9990739846130445, 0.9975845495997685, 0.9976013313212183, 0.9973773471843197, 0.7824642437488748, 0.9959272987896156, 0.9974643300807414, 0.9967860252209663, 0.9938494796527676, 0.9835033770951687, 0.9989988841805254, 0.9982750569401911]}, {\"categories\": [\"0\", \"1\", \"2\", \"3\", \"4\", \"5\", \"6\", \"7\", \"8\", \"9\", \"10\", \"11\", \"12\", \"13\", \"14\", \"15\", \"16\", \"17\", \"18\", \"19\", \"20\", \"21\", \"22\", \"23\", \"24\", \"25\", \"26\", \"27\", \"28\", \"29\", \"30\", \"31\", \"32\", \"33\", \"34\", \"35\", \"36\", \"37\", \"38\", \"39\", \"40\", \"41\", \"42\", \"43\", \"44\", \"45\", \"46\", \"47\", \"48\", \"50\", \"51\", \"57\", \"58\"], \"mode\": \"lines\", \"name\": \"average_precision_score_micro_max\", \"stepped\": true, \"type\": \"scatter\", \"data\": [0.9990566812269132, 0.9990566812269132, 0.9990566812269132, 0.9990566812269132, 0.9990566812269132, 0.9990566812269132, 0.9990566812269132, 0.9990566812269132, 0.9990566812269132, 0.9990566812269132, 0.9990566812269132, 0.9990566812269132, 0.9990566812269132, 0.9990566812269132, 0.9990566812269132, 0.9990566812269132, 0.9990566812269132, 0.9990566812269132, 0.9990566812269132, 0.9990566812269132, 0.9990566812269132, 0.9990566812269132, 0.9990566812269132, 0.9990566812269132, 0.9990566812269132, 0.9990566812269132, 0.9990566812269132, 0.9990566812269132, 0.9990566812269132, 0.9990566812269132, 0.9990566812269132, 0.9990566812269132, 0.9990566812269132, 0.9990566812269132, 0.9990566812269132, 0.9990566812269132, 0.9990566812269132, 0.9990566812269132, 0.9990566812269132, 0.9990566812269132, 0.9990566812269132, 0.9990739846130445, 0.9990739846130445, 0.9990739846130445, 0.9990739846130445, 0.9990739846130445, 0.9990739846130445, 0.9990739846130445, 0.9990739846130445, 0.9990739846130445, 0.9990739846130445, 0.9990739846130445, 0.9990739846130445]}], \"average_precision_score_macro\": [{\"categories\": [\"0\", \"1\", \"2\", \"3\", \"4\", \"5\", \"6\", \"7\", \"8\", \"9\", \"10\", \"11\", \"12\", \"13\", \"14\", \"15\", \"16\", \"17\", \"18\", \"19\", \"20\", \"21\", \"22\", \"23\", \"24\", \"25\", \"26\", \"27\", \"28\", \"29\", \"30\", \"31\", \"32\", \"33\", \"34\", \"35\", \"36\", \"37\", \"38\", \"39\", \"40\", \"41\", \"42\", \"43\", \"44\", \"45\", \"46\", \"47\", \"48\", \"50\", \"51\", \"57\", \"58\"], \"mode\": \"markers\", \"name\": \"average_precision_score_macro\", \"stepped\": false, \"type\": \"scatter\", \"data\": [0.99570583306166, 0.9951287622344864, 0.9325461816357183, 0.9123819526754415, 0.968386965306919, 0.9951757177035798, 0.9852399196407703, 0.9837832429393153, 0.9739927233880481, 0.9732408632802562, 0.9892215975007407, 0.9598861022871192, 0.9601785781728394, 0.9896127254759857, 0.9598924064262485, 0.9804913270677211, 0.9599008606769717, 0.9953471370136157, 0.9598757053427045, 0.9598870661026891, 0.9783004610430805, 0.9841204122357681, 0.9889122549383257, 0.9824429474779071, 0.9860803144452451, 0.9640195328989613, 0.969776980358891, 0.9958075696168066, 0.9878964998945734, 0.9851388832589406, 0.9660146416435985, 0.9950372557191874, 0.988338286300777, 0.9305208702196562, 0.9842192540774085, 0.9928984400113272, 0.9897264564367599, 0.9940877568388542, 0.9923351012697029, 0.990022506664923, 0.5, 0.9957288709264146, 0.9898174307004485, 0.9899110997594298, 0.9890527830349716, 0.5, 0.9840559334102217, 0.9895003795060658, 0.9866228053318119, 0.9764821490309187, 0.963159254231258, 0.9958124604969072, 0.9958083183156498]}, {\"categories\": [\"0\", \"1\", \"2\", \"3\", \"4\", \"5\", \"6\", \"7\", \"8\", \"9\", \"10\", \"11\", \"12\", \"13\", \"14\", \"15\", \"16\", \"17\", \"18\", \"19\", \"20\", \"21\", \"22\", \"23\", \"24\", \"25\", \"26\", \"27\", \"28\", \"29\", \"30\", \"31\", \"32\", \"33\", \"34\", \"35\", \"36\", \"37\", \"38\", \"39\", \"40\", \"41\", \"42\", \"43\", \"44\", \"45\", \"46\", \"47\", \"48\", \"50\", \"51\", \"57\", \"58\"], \"mode\": \"lines\", \"name\": \"average_precision_score_macro_max\", \"stepped\": true, \"type\": \"scatter\", \"data\": [0.99570583306166, 0.99570583306166, 0.99570583306166, 0.99570583306166, 0.99570583306166, 0.99570583306166, 0.99570583306166, 0.99570583306166, 0.99570583306166, 0.99570583306166, 0.99570583306166, 0.99570583306166, 0.99570583306166, 0.99570583306166, 0.99570583306166, 0.99570583306166, 0.99570583306166, 0.99570583306166, 0.99570583306166, 0.99570583306166, 0.99570583306166, 0.99570583306166, 0.99570583306166, 0.99570583306166, 0.99570583306166, 0.99570583306166, 0.99570583306166, 0.9958075696168066, 0.9958075696168066, 0.9958075696168066, 0.9958075696168066, 0.9958075696168066, 0.9958075696168066, 0.9958075696168066, 0.9958075696168066, 0.9958075696168066, 0.9958075696168066, 0.9958075696168066, 0.9958075696168066, 0.9958075696168066, 0.9958075696168066, 0.9958075696168066, 0.9958075696168066, 0.9958075696168066, 0.9958075696168066, 0.9958075696168066, 0.9958075696168066, 0.9958075696168066, 0.9958075696168066, 0.9958075696168066, 0.9958075696168066, 0.9958124604969072, 0.9958124604969072]}], \"recall_score_micro\": [{\"categories\": [\"0\", \"1\", \"2\", \"3\", \"4\", \"5\", \"6\", \"7\", \"8\", \"9\", \"10\", \"11\", \"12\", \"13\", \"14\", \"15\", \"16\", \"17\", \"18\", \"19\", \"20\", \"21\", \"22\", \"23\", \"24\", \"25\", \"26\", \"27\", \"28\", \"29\", \"30\", \"31\", \"32\", \"33\", \"34\", \"35\", \"36\", \"37\", \"38\", \"39\", \"40\", \"41\", \"42\", \"43\", \"44\", \"45\", \"46\", \"47\", \"48\", \"50\", \"51\", \"57\", \"58\"], \"mode\": \"markers\", \"name\": \"recall_score_micro\", \"stepped\": false, \"type\": \"scatter\", \"data\": [0.9874089614728884, 0.9853106074110641, 0.9253185605697021, 0.9106292593963827, 0.9421059872658045, 0.9843229987978847, 0.9545735232949845, 0.9695099665875921, 0.9613619555628689, 0.8621153573664989, 0.9771630991722317, 0.9509936877516786, 0.9508703223771716, 0.978274073159918, 0.9509936877516786, 0.9701269305835516, 0.9509936877516786, 0.9850636024152006, 0.95074681987924, 0.9509936877516786, 0.9666704604147527, 0.9737067204190492, 0.9723493356370069, 0.9491420187310599, 0.9733364871721036, 0.8373035592670296, 0.9434632349244222, 0.9877795146744918, 0.9753115215672293, 0.9702507987439494, 0.8659422893212847, 0.9859276171148318, 0.9772865102545468, 0.914207449458591, 0.9732128018429389, 0.9818540001188403, 0.9780273881187123, 0.9821011879459367, 0.9797557374726326, 0.9787680374438366, 0.8373035592670296, 0.9869153628514359, 0.9785211238635897, 0.9788913571105352, 0.9772864645467386, 0.8373035592670296, 0.9714848181514849, 0.9780271138718627, 0.9746944661556535, 0.9677815715258639, 0.9333409208295054, 0.9885200268761913, 0.9879028343411905]}, {\"categories\": [\"0\", \"1\", \"2\", \"3\", \"4\", \"5\", \"6\", \"7\", \"8\", \"9\", \"10\", \"11\", \"12\", \"13\", \"14\", \"15\", \"16\", \"17\", \"18\", \"19\", \"20\", \"21\", \"22\", \"23\", \"24\", \"25\", \"26\", \"27\", \"28\", \"29\", \"30\", \"31\", \"32\", \"33\", \"34\", \"35\", \"36\", \"37\", \"38\", \"39\", \"40\", \"41\", \"42\", \"43\", \"44\", \"45\", \"46\", \"47\", \"48\", \"50\", \"51\", \"57\", \"58\"], \"mode\": \"lines\", \"name\": \"recall_score_micro_max\", \"stepped\": true, \"type\": \"scatter\", \"data\": [0.9874089614728884, 0.9874089614728884, 0.9874089614728884, 0.9874089614728884, 0.9874089614728884, 0.9874089614728884, 0.9874089614728884, 0.9874089614728884, 0.9874089614728884, 0.9874089614728884, 0.9874089614728884, 0.9874089614728884, 0.9874089614728884, 0.9874089614728884, 0.9874089614728884, 0.9874089614728884, 0.9874089614728884, 0.9874089614728884, 0.9874089614728884, 0.9874089614728884, 0.9874089614728884, 0.9874089614728884, 0.9874089614728884, 0.9874089614728884, 0.9874089614728884, 0.9874089614728884, 0.9874089614728884, 0.9877795146744918, 0.9877795146744918, 0.9877795146744918, 0.9877795146744918, 0.9877795146744918, 0.9877795146744918, 0.9877795146744918, 0.9877795146744918, 0.9877795146744918, 0.9877795146744918, 0.9877795146744918, 0.9877795146744918, 0.9877795146744918, 0.9877795146744918, 0.9877795146744918, 0.9877795146744918, 0.9877795146744918, 0.9877795146744918, 0.9877795146744918, 0.9877795146744918, 0.9877795146744918, 0.9877795146744918, 0.9877795146744918, 0.9877795146744918, 0.9885200268761913, 0.9885200268761913]}], \"recall_score_weighted\": [{\"categories\": [\"0\", \"1\", \"2\", \"3\", \"4\", \"5\", \"6\", \"7\", \"8\", \"9\", \"10\", \"11\", \"12\", \"13\", \"14\", \"15\", \"16\", \"17\", \"18\", \"19\", \"20\", \"21\", \"22\", \"23\", \"24\", \"25\", \"26\", \"27\", \"28\", \"29\", \"30\", \"31\", \"32\", \"33\", \"34\", \"35\", \"36\", \"37\", \"38\", \"39\", \"40\", \"41\", \"42\", \"43\", \"44\", \"45\", \"46\", \"47\", \"48\", \"50\", \"51\", \"57\", \"58\"], \"mode\": \"markers\", \"name\": \"recall_score_weighted\", \"stepped\": false, \"type\": \"scatter\", \"data\": [0.9874089614728884, 0.9853106074110641, 0.9253185605697021, 0.9106292593963827, 0.9421059872658045, 0.9843229987978847, 0.9545735232949845, 0.9695099665875921, 0.9613619555628689, 0.8621153573664989, 0.9771630991722317, 0.9509936877516786, 0.9508703223771716, 0.978274073159918, 0.9509936877516786, 0.9701269305835516, 0.9509936877516786, 0.9850636024152006, 0.95074681987924, 0.9509936877516786, 0.9666704604147527, 0.9737067204190492, 0.9723493356370069, 0.9491420187310599, 0.9733364871721036, 0.8373035592670296, 0.9434632349244222, 0.9877795146744918, 0.9753115215672293, 0.9702507987439494, 0.8659422893212847, 0.9859276171148318, 0.9772865102545468, 0.914207449458591, 0.9732128018429389, 0.9818540001188403, 0.9780273881187123, 0.9821011879459367, 0.9797557374726326, 0.9787680374438366, 0.8373035592670296, 0.9869153628514359, 0.9785211238635897, 0.9788913571105352, 0.9772864645467386, 0.8373035592670296, 0.9714848181514849, 0.9780271138718627, 0.9746944661556535, 0.9677815715258639, 0.9333409208295054, 0.9885200268761913, 0.9879028343411905]}, {\"categories\": [\"0\", \"1\", \"2\", \"3\", \"4\", \"5\", \"6\", \"7\", \"8\", \"9\", \"10\", \"11\", \"12\", \"13\", \"14\", \"15\", \"16\", \"17\", \"18\", \"19\", \"20\", \"21\", \"22\", \"23\", \"24\", \"25\", \"26\", \"27\", \"28\", \"29\", \"30\", \"31\", \"32\", \"33\", \"34\", \"35\", \"36\", \"37\", \"38\", \"39\", \"40\", \"41\", \"42\", \"43\", \"44\", \"45\", \"46\", \"47\", \"48\", \"50\", \"51\", \"57\", \"58\"], \"mode\": \"lines\", \"name\": \"recall_score_weighted_max\", \"stepped\": true, \"type\": \"scatter\", \"data\": [0.9874089614728884, 0.9874089614728884, 0.9874089614728884, 0.9874089614728884, 0.9874089614728884, 0.9874089614728884, 0.9874089614728884, 0.9874089614728884, 0.9874089614728884, 0.9874089614728884, 0.9874089614728884, 0.9874089614728884, 0.9874089614728884, 0.9874089614728884, 0.9874089614728884, 0.9874089614728884, 0.9874089614728884, 0.9874089614728884, 0.9874089614728884, 0.9874089614728884, 0.9874089614728884, 0.9874089614728884, 0.9874089614728884, 0.9874089614728884, 0.9874089614728884, 0.9874089614728884, 0.9874089614728884, 0.9877795146744918, 0.9877795146744918, 0.9877795146744918, 0.9877795146744918, 0.9877795146744918, 0.9877795146744918, 0.9877795146744918, 0.9877795146744918, 0.9877795146744918, 0.9877795146744918, 0.9877795146744918, 0.9877795146744918, 0.9877795146744918, 0.9877795146744918, 0.9877795146744918, 0.9877795146744918, 0.9877795146744918, 0.9877795146744918, 0.9877795146744918, 0.9877795146744918, 0.9877795146744918, 0.9877795146744918, 0.9877795146744918, 0.9877795146744918, 0.9885200268761913, 0.9885200268761913]}], \"balanced_accuracy\": [{\"categories\": [\"0\", \"1\", \"2\", \"3\", \"4\", \"5\", \"6\", \"7\", \"8\", \"9\", \"10\", \"11\", \"12\", \"13\", \"14\", \"15\", \"16\", \"17\", \"18\", \"19\", \"20\", \"21\", \"22\", \"23\", \"24\", \"25\", \"26\", \"27\", \"28\", \"29\", \"30\", \"31\", \"32\", \"33\", \"34\", \"35\", \"36\", \"37\", \"38\", \"39\", \"40\", \"41\", \"42\", \"43\", \"44\", \"45\", \"46\", \"47\", \"48\", \"50\", \"51\", \"57\", \"58\"], \"mode\": \"markers\", \"name\": \"balanced_accuracy\", \"stepped\": false, \"type\": \"scatter\", \"data\": [0.9750558736568098, 0.966000538190876, 0.7954633262640044, 0.7527754598375781, 0.9362994217830773, 0.9665816662181591, 0.8644514108917685, 0.919491137338713, 0.9072290484079585, 0.5765548363972215, 0.9489811459070733, 0.8954169906108046, 0.8937646750185623, 0.9498675432815693, 0.8954169906108046, 0.9284296643741566, 0.8954169906108046, 0.9670893686648402, 0.8940081790087239, 0.8954169906108046, 0.9139554080237368, 0.9392811456274354, 0.929541389551662, 0.8515420465942393, 0.9344711043630229, 0.5, 0.8379947053752618, 0.9748244627331201, 0.9433546856737908, 0.9217923226252163, 0.5883568312704298, 0.9715888570052761, 0.9420496769191627, 0.7469600879427182, 0.9347681589959205, 0.9608190634960104, 0.9463395352047109, 0.9614925152753031, 0.952294046018558, 0.9488422633742908, 0.5, 0.9734164135799398, 0.9504987217656603, 0.9529327381599332, 0.9459192665690251, 0.5, 0.9282581650113834, 0.9458467335452355, 0.9408055966947573, 0.9266124214383081, 0.9230986238711734, 0.9744025382155712, 0.9736874904617654]}, {\"categories\": [\"0\", \"1\", \"2\", \"3\", \"4\", \"5\", \"6\", \"7\", \"8\", \"9\", \"10\", \"11\", \"12\", \"13\", \"14\", \"15\", \"16\", \"17\", \"18\", \"19\", \"20\", \"21\", \"22\", \"23\", \"24\", \"25\", \"26\", \"27\", \"28\", \"29\", \"30\", \"31\", \"32\", \"33\", \"34\", \"35\", \"36\", \"37\", \"38\", \"39\", \"40\", \"41\", \"42\", \"43\", \"44\", \"45\", \"46\", \"47\", \"48\", \"50\", \"51\", \"57\", \"58\"], \"mode\": \"lines\", \"name\": \"balanced_accuracy_max\", \"stepped\": true, \"type\": \"scatter\", \"data\": [0.9750558736568098, 0.9750558736568098, 0.9750558736568098, 0.9750558736568098, 0.9750558736568098, 0.9750558736568098, 0.9750558736568098, 0.9750558736568098, 0.9750558736568098, 0.9750558736568098, 0.9750558736568098, 0.9750558736568098, 0.9750558736568098, 0.9750558736568098, 0.9750558736568098, 0.9750558736568098, 0.9750558736568098, 0.9750558736568098, 0.9750558736568098, 0.9750558736568098, 0.9750558736568098, 0.9750558736568098, 0.9750558736568098, 0.9750558736568098, 0.9750558736568098, 0.9750558736568098, 0.9750558736568098, 0.9750558736568098, 0.9750558736568098, 0.9750558736568098, 0.9750558736568098, 0.9750558736568098, 0.9750558736568098, 0.9750558736568098, 0.9750558736568098, 0.9750558736568098, 0.9750558736568098, 0.9750558736568098, 0.9750558736568098, 0.9750558736568098, 0.9750558736568098, 0.9750558736568098, 0.9750558736568098, 0.9750558736568098, 0.9750558736568098, 0.9750558736568098, 0.9750558736568098, 0.9750558736568098, 0.9750558736568098, 0.9750558736568098, 0.9750558736568098, 0.9750558736568098, 0.9750558736568098]}], \"AUC_weighted\": [{\"categories\": [\"0\", \"1\", \"2\", \"3\", \"4\", \"5\", \"6\", \"7\", \"8\", \"9\", \"10\", \"11\", \"12\", \"13\", \"14\", \"15\", \"16\", \"17\", \"18\", \"19\", \"20\", \"21\", \"22\", \"23\", \"24\", \"25\", \"26\", \"27\", \"28\", \"29\", \"30\", \"31\", \"32\", \"33\", \"34\", \"35\", \"36\", \"37\", \"38\", \"39\", \"40\", \"41\", \"42\", \"43\", \"44\", \"45\", \"46\", \"47\", \"48\", \"50\", \"51\", \"57\", \"58\"], \"mode\": \"markers\", \"name\": \"AUC_weighted\", \"stepped\": false, \"type\": \"scatter\", \"data\": [0.9982348563940859, 0.9980583751239606, 0.9698532519766827, 0.9541721131935704, 0.9858603393732768, 0.9980956679411538, 0.9936090436108255, 0.9920622841360398, 0.9870096731812724, 0.9862352716004702, 0.9951854616023058, 0.9798058102885009, 0.9801453899365488, 0.9951450620370346, 0.9798018932317305, 0.989183501882046, 0.9798040934769671, 0.9980924915697615, 0.9798488106202913, 0.9798026815413197, 0.988437510677625, 0.9918660438405227, 0.9952685920002443, 0.9926753905533069, 0.9929867129064739, 0.984471390065802, 0.9875133998799807, 0.9980655650982673, 0.9946037624629059, 0.991877854061173, 0.9837775766729934, 0.9978793052046587, 0.9943060143025905, 0.9579223641863033, 0.9916951571899218, 0.997029575740139, 0.9951824368562378, 0.9976559277917324, 0.9969732735406044, 0.995255072872241, 0.5, 0.9983099531468684, 0.9952646930922953, 0.995393137387675, 0.9947767645811809, 0.5, 0.9918883613111856, 0.9950473183462059, 0.993621070198186, 0.9877203913483544, 0.9819311687716631, 0.9982497423027814, 0.9982430144294631]}, {\"categories\": [\"0\", \"1\", \"2\", \"3\", \"4\", \"5\", \"6\", \"7\", \"8\", \"9\", \"10\", \"11\", \"12\", \"13\", \"14\", \"15\", \"16\", \"17\", \"18\", \"19\", \"20\", \"21\", \"22\", \"23\", \"24\", \"25\", \"26\", \"27\", \"28\", \"29\", \"30\", \"31\", \"32\", \"33\", \"34\", \"35\", \"36\", \"37\", \"38\", \"39\", \"40\", \"41\", \"42\", \"43\", \"44\", \"45\", \"46\", \"47\", \"48\", \"50\", \"51\", \"57\", \"58\"], \"mode\": \"lines\", \"name\": \"AUC_weighted_max\", \"stepped\": true, \"type\": \"scatter\", \"data\": [0.9982348563940859, 0.9982348563940859, 0.9982348563940859, 0.9982348563940859, 0.9982348563940859, 0.9982348563940859, 0.9982348563940859, 0.9982348563940859, 0.9982348563940859, 0.9982348563940859, 0.9982348563940859, 0.9982348563940859, 0.9982348563940859, 0.9982348563940859, 0.9982348563940859, 0.9982348563940859, 0.9982348563940859, 0.9982348563940859, 0.9982348563940859, 0.9982348563940859, 0.9982348563940859, 0.9982348563940859, 0.9982348563940859, 0.9982348563940859, 0.9982348563940859, 0.9982348563940859, 0.9982348563940859, 0.9982348563940859, 0.9982348563940859, 0.9982348563940859, 0.9982348563940859, 0.9982348563940859, 0.9982348563940859, 0.9982348563940859, 0.9982348563940859, 0.9982348563940859, 0.9982348563940859, 0.9982348563940859, 0.9982348563940859, 0.9982348563940859, 0.9982348563940859, 0.9983099531468684, 0.9983099531468684, 0.9983099531468684, 0.9983099531468684, 0.9983099531468684, 0.9983099531468684, 0.9983099531468684, 0.9983099531468684, 0.9983099531468684, 0.9983099531468684, 0.9983099531468684, 0.9983099531468684]}]}, \"metricName\": null, \"primaryMetricName\": \"accuracy\", \"showLegend\": false}, \"run_metrics\": [{\"name\": \"experiment_status\", \"run_id\": \"AutoML_ceea2569-ef01-4a09-ac5c-5230d248456c\", \"categories\": [0, 1, 2, 3, 4, 5, 6, 7, 8, 9, 10, 11, 12, 13, 14], \"series\": [{\"data\": [\"DatasetEvaluation\", \"FeaturesGeneration\", \"DatasetFeaturization\", \"DatasetFeaturizationCompleted\", \"DatasetBalancing\", \"DatasetCrossValidationSplit\", \"ModelSelection\", \"BestRunExplainModel\", \"ModelExplanationDataSetSetup\", \"PickSurrogateModel\", \"EngineeredFeatureExplanations\", \"EngineeredFeatureExplanations\", \"RawFeaturesExplanations\", \"RawFeaturesExplanations\", \"BestRunExplainModel\"]}]}, {\"name\": \"experiment_status_description\", \"run_id\": \"AutoML_ceea2569-ef01-4a09-ac5c-5230d248456c\", \"categories\": [0, 1, 2, 3, 4, 5, 6, 7, 8, 9, 10, 11, 12, 13, 14], \"series\": [{\"data\": [\"Gathering dataset statistics.\", \"Generating features for the dataset.\", \"Beginning to fit featurizers and featurize the dataset.\", \"Completed fit featurizers and featurizing the dataset.\", \"Performing class balancing sweeping\", \"Generating individually featurized CV splits.\", \"Beginning model selection.\", \"Best run model explanations started\", \"Model explanations data setup completed\", \"Choosing LightGBM as the surrogate model for explanations\", \"Computation of engineered features started\", \"Computation of engineered features completed\", \"Computation of raw features started\", \"Computation of raw features completed\", \"Best run model explanations completed\"]}]}, {\"name\": \"recall_score_macro\", \"run_id\": \"AutoML_ceea2569-ef01-4a09-ac5c-5230d248456c\", \"categories\": [0], \"series\": [{\"data\": [0.9744025382155712]}]}, {\"name\": \"AUC_macro\", \"run_id\": \"AutoML_ceea2569-ef01-4a09-ac5c-5230d248456c\", \"categories\": [0], \"series\": [{\"data\": [0.9982497423027814]}]}, {\"name\": \"f1_score_micro\", \"run_id\": \"AutoML_ceea2569-ef01-4a09-ac5c-5230d248456c\", \"categories\": [0], \"series\": [{\"data\": [0.9885200268761913]}]}, {\"name\": \"recall_score_micro\", \"run_id\": \"AutoML_ceea2569-ef01-4a09-ac5c-5230d248456c\", \"categories\": [0], \"series\": [{\"data\": [0.9885200268761913]}]}, {\"name\": \"AUC_micro\", \"run_id\": \"AutoML_ceea2569-ef01-4a09-ac5c-5230d248456c\", \"categories\": [0], \"series\": [{\"data\": [0.9989819049621033]}]}, {\"name\": \"recall_score_weighted\", \"run_id\": \"AutoML_ceea2569-ef01-4a09-ac5c-5230d248456c\", \"categories\": [0], \"series\": [{\"data\": [0.9885200268761913]}]}, {\"name\": \"average_precision_score_macro\", \"run_id\": \"AutoML_ceea2569-ef01-4a09-ac5c-5230d248456c\", \"categories\": [0], \"series\": [{\"data\": [0.9958124604969072]}]}, {\"name\": \"accuracy\", \"run_id\": \"AutoML_ceea2569-ef01-4a09-ac5c-5230d248456c\", \"categories\": [0], \"series\": [{\"data\": [0.9885200268761913]}]}, {\"name\": \"precision_score_weighted\", \"run_id\": \"AutoML_ceea2569-ef01-4a09-ac5c-5230d248456c\", \"categories\": [0], \"series\": [{\"data\": [0.9884679366831852]}]}, {\"name\": \"AUC_weighted\", \"run_id\": \"AutoML_ceea2569-ef01-4a09-ac5c-5230d248456c\", \"categories\": [0], \"series\": [{\"data\": [0.9982497423027814]}]}, {\"name\": \"matthews_correlation\", \"run_id\": \"AutoML_ceea2569-ef01-4a09-ac5c-5230d248456c\", \"categories\": [0], \"series\": [{\"data\": [0.9574955630022789]}]}, {\"name\": \"balanced_accuracy\", \"run_id\": \"AutoML_ceea2569-ef01-4a09-ac5c-5230d248456c\", \"categories\": [0], \"series\": [{\"data\": [0.9744025382155712]}]}, {\"name\": \"precision_score_macro\", \"run_id\": \"AutoML_ceea2569-ef01-4a09-ac5c-5230d248456c\", \"categories\": [0], \"series\": [{\"data\": [0.9831402968284659]}]}, {\"name\": \"average_precision_score_weighted\", \"run_id\": \"AutoML_ceea2569-ef01-4a09-ac5c-5230d248456c\", \"categories\": [0], \"series\": [{\"data\": [0.9983986967778214]}]}, {\"name\": \"norm_macro_recall\", \"run_id\": \"AutoML_ceea2569-ef01-4a09-ac5c-5230d248456c\", \"categories\": [0], \"series\": [{\"data\": [0.9488050764311423]}]}, {\"name\": \"weighted_accuracy\", \"run_id\": \"AutoML_ceea2569-ef01-4a09-ac5c-5230d248456c\", \"categories\": [0], \"series\": [{\"data\": [0.9937742520007841]}]}, {\"name\": \"f1_score_weighted\", \"run_id\": \"AutoML_ceea2569-ef01-4a09-ac5c-5230d248456c\", \"categories\": [0], \"series\": [{\"data\": [0.9884665953344453]}]}, {\"name\": \"f1_score_macro\", \"run_id\": \"AutoML_ceea2569-ef01-4a09-ac5c-5230d248456c\", \"categories\": [0], \"series\": [{\"data\": [0.9786967986141067]}]}, {\"name\": \"average_precision_score_micro\", \"run_id\": \"AutoML_ceea2569-ef01-4a09-ac5c-5230d248456c\", \"categories\": [0], \"series\": [{\"data\": [0.9989988841805254]}]}, {\"name\": \"precision_score_micro\", \"run_id\": \"AutoML_ceea2569-ef01-4a09-ac5c-5230d248456c\", \"categories\": [0], \"series\": [{\"data\": [0.9885200268761913]}]}, {\"name\": \"log_loss\", \"run_id\": \"AutoML_ceea2569-ef01-4a09-ac5c-5230d248456c\", \"categories\": [0], \"series\": [{\"data\": [0.03950192825182192]}]}], \"run_logs\": \"\\nRun is completed.\", \"graph\": {}, \"widget_settings\": {\"childWidgetDisplay\": \"popup\", \"send_telemetry\": false, \"log_level\": \"INFO\", \"sdk_version\": \"1.19.0\"}, \"loading\": false}"
     },
     "metadata": {},
     "output_type": "display_data"
    },
    {
     "name": "stdout",
     "output_type": "stream",
     "text": [
      "\n",
      "\n",
      "****************************************************************************************************\n",
      "DATA GUARDRAILS: \n",
      "\n",
      "TYPE:         Class balancing detection\n",
      "STATUS:       ALERTED\n",
      "DESCRIPTION:  To decrease model bias, please cancel the current run and fix balancing problem.\n",
      "              Learn more about imbalanced data: https://aka.ms/AutomatedMLImbalancedData\n",
      "DETAILS:      Imbalanced data can lead to a falsely perceived positive effect of a model's accuracy because the input data has bias towards one class.\n",
      "+---------------------------------+---------------------------------+--------------------------------------+\n",
      "|Size of the smallest class       |Name/Label of the smallest class |Number of samples in the training data|\n",
      "+=================================+=================================+======================================+\n",
      "|1318                             |1                                |8101                                  |\n",
      "+---------------------------------+---------------------------------+--------------------------------------+\n",
      "\n",
      "****************************************************************************************************\n",
      "\n",
      "TYPE:         Missing feature values imputation\n",
      "STATUS:       PASSED\n",
      "DESCRIPTION:  No feature missing values were detected in the training data.\n",
      "              Learn more about missing value imputation: https://aka.ms/AutomatedMLFeaturization\n",
      "\n",
      "****************************************************************************************************\n",
      "\n",
      "TYPE:         High cardinality feature detection\n",
      "STATUS:       PASSED\n",
      "DESCRIPTION:  Your inputs were analyzed, and no high cardinality features were detected.\n",
      "              Learn more about high cardinality feature handling: https://aka.ms/AutomatedMLFeaturization\n",
      "\n",
      "****************************************************************************************************\n",
      "\n",
      "****************************************************************************************************\n",
      "ITERATION: The iteration being evaluated.\n",
      "PIPELINE: A summary description of the pipeline being evaluated.\n",
      "DURATION: Time taken for the current iteration.\n",
      "METRIC: The result of computing score on the fitted pipeline.\n",
      "BEST: The best observed score thus far.\n",
      "****************************************************************************************************\n",
      "\n",
      " ITERATION   PIPELINE                                       DURATION      METRIC      BEST\n",
      "         0   MaxAbsScaler LightGBM                          0:01:28       0.9874    0.9874\n",
      "         1   MaxAbsScaler XGBoostClassifier                 0:00:54       0.9853    0.9874\n",
      "         2   MinMaxScaler RandomForest                      0:00:48       0.9253    0.9874\n",
      "         3   MinMaxScaler RandomForest                      0:00:53       0.9106    0.9874\n",
      "         4   MinMaxScaler RandomForest                      0:00:55       0.9421    0.9874\n",
      "         5   StandardScalerWrapper LightGBM                 0:01:28       0.9843    0.9874\n",
      "         6   RobustScaler LightGBM                          0:00:49       0.9546    0.9874\n",
      "         7   TruncatedSVDWrapper XGBoostClassifier          0:01:31       0.9695    0.9874\n",
      "         8   StandardScalerWrapper LightGBM                 0:01:27       0.9614    0.9874\n",
      "         9   StandardScalerWrapper LightGBM                 0:00:55       0.8621    0.9874\n",
      "        10   SparseNormalizer XGBoostClassifier             0:01:10       0.9772    0.9874\n",
      "        11   MaxAbsScaler LogisticRegression                0:00:49       0.9510    0.9874\n",
      "        12   MinMaxScaler LogisticRegression                0:00:50       0.9509    0.9874\n",
      "        13   SparseNormalizer XGBoostClassifier             0:00:51       0.9783    0.9874\n",
      "        14   MinMaxScaler LogisticRegression                0:00:50       0.9510    0.9874\n",
      "        15   SparseNormalizer XGBoostClassifier             0:00:52       0.9701    0.9874\n",
      "        16   StandardScalerWrapper LogisticRegression       0:00:57       0.9510    0.9874\n",
      "        17   StandardScalerWrapper XGBoostClassifier        0:00:58       0.9851    0.9874\n",
      "        18   MaxAbsScaler LogisticRegression                0:00:51       0.9507    0.9874\n",
      "        19   MaxAbsScaler LogisticRegression                0:00:51       0.9510    0.9874\n",
      "        20   SparseNormalizer XGBoostClassifier             0:00:47       0.9667    0.9874\n",
      "        21   SparseNormalizer XGBoostClassifier             0:00:43       0.9737    0.9874\n",
      "        22   StandardScalerWrapper LightGBM                 0:00:43       0.9723    0.9874\n",
      "        23   StandardScalerWrapper LightGBM                 0:00:45       0.9491    0.9874\n",
      "        24   SparseNormalizer XGBoostClassifier             0:00:43       0.9733    0.9874\n",
      "        25   MaxAbsScaler LightGBM                          0:01:09       0.8373    0.9874\n",
      "        26   MinMaxScaler RandomForest                      0:00:35       0.9435    0.9874\n",
      "        27   StandardScalerWrapper XGBoostClassifier        0:00:58       0.9878    0.9878\n",
      "        28   SparseNormalizer XGBoostClassifier             0:01:26       0.9753    0.9878\n",
      "        29   StandardScalerWrapper XGBoostClassifier        0:00:46       0.9703    0.9878\n",
      "        30   StandardScalerWrapper LightGBM                 0:00:46       0.8659    0.9878\n",
      "        31   StandardScalerWrapper XGBoostClassifier        0:00:57       0.9859    0.9878\n",
      "        32   SparseNormalizer XGBoostClassifier             0:00:55       0.9773    0.9878\n",
      "        33   StandardScalerWrapper LightGBM                 0:00:49       0.9142    0.9878\n",
      "        34   SparseNormalizer XGBoostClassifier             0:00:46       0.9732    0.9878\n",
      "        35   RobustScaler LightGBM                          0:00:59       0.9819    0.9878\n",
      "        36   SparseNormalizer XGBoostClassifier             0:01:11       0.9780    0.9878\n",
      "        37   MaxAbsScaler LightGBM                          0:01:09       0.9821    0.9878\n",
      "        38   StandardScalerWrapper LightGBM                 0:01:02       0.9798    0.9878\n",
      "        39   SparseNormalizer XGBoostClassifier             0:00:58       0.9788    0.9878\n",
      "        40   SparseNormalizer XGBoostClassifier             0:00:49       0.8373    0.9878\n",
      "        41   StandardScalerWrapper XGBoostClassifier        0:00:52       0.9869    0.9878\n",
      "        42   SparseNormalizer XGBoostClassifier             0:01:15       0.9785    0.9878\n",
      "        43   SparseNormalizer XGBoostClassifier             0:01:12       0.9789    0.9878\n",
      "        44   SparseNormalizer XGBoostClassifier             0:01:10       0.9773    0.9878\n",
      "        45   TruncatedSVDWrapper XGBoostClassifier          0:00:48       0.8373    0.9878\n",
      "        46   SparseNormalizer XGBoostClassifier             0:00:46       0.9715    0.9878\n",
      "        47   SparseNormalizer XGBoostClassifier             0:00:57       0.9780    0.9878\n",
      "        48   SparseNormalizer XGBoostClassifier             0:00:48       0.9747    0.9878\n",
      "        49   StandardScalerWrapper XGBoostClassifier        0:00:51          nan    0.9878\n",
      "        50   SparseNormalizer XGBoostClassifier             0:00:42       0.9678    0.9878\n",
      "        51   SparseNormalizer RandomForest                  0:00:41       0.9333    0.9878\n",
      "        52                                                  0:00:19          nan    0.9878\n",
      "        53                                                  0:00:15          nan    0.9878\n",
      "        54                                                  0:00:15          nan    0.9878\n",
      "        55                                                  0:00:18          nan    0.9878\n",
      "        56                                                  0:00:17          nan    0.9878\n",
      "        57    VotingEnsemble                                0:01:18       0.9885    0.9885\n",
      "        58    StackEnsemble                                 0:01:29       0.9879    0.9885\n"
     ]
    },
    {
     "data": {
      "text/plain": [
       "{'runId': 'AutoML_ceea2569-ef01-4a09-ac5c-5230d248456c',\n",
       " 'target': 'compute-aml-cluster',\n",
       " 'status': 'Completed',\n",
       " 'startTimeUtc': '2021-01-03T12:42:57.064186Z',\n",
       " 'endTimeUtc': '2021-01-03T12:53:56.929822Z',\n",
       " 'properties': {'num_iterations': '1000',\n",
       "  'training_type': 'TrainFull',\n",
       "  'acquisition_function': 'EI',\n",
       "  'primary_metric': 'accuracy',\n",
       "  'train_split': '0',\n",
       "  'acquisition_parameter': '0',\n",
       "  'num_cross_validation': '3',\n",
       "  'target': 'compute-aml-cluster',\n",
       "  'AMLSettingsJsonString': '{\"path\":null,\"name\":\"automl-experiment\",\"subscription_id\":\"81cefad3-d2c9-4f77-a466-99a7f541c7bb\",\"resource_group\":\"aml-quickstarts-133132\",\"workspace_name\":\"quick-starts-ws-133132\",\"region\":\"southcentralus\",\"compute_target\":\"compute-aml-cluster\",\"spark_service\":null,\"azure_service\":\"remote\",\"many_models\":false,\"pipeline_fetch_max_batch_size\":1,\"iterations\":1000,\"primary_metric\":\"accuracy\",\"task_type\":\"classification\",\"data_script\":null,\"validation_size\":0.0,\"n_cross_validations\":3,\"y_min\":null,\"y_max\":null,\"num_classes\":null,\"featurization\":\"auto\",\"_ignore_package_version_incompatibilities\":false,\"is_timeseries\":false,\"max_cores_per_iteration\":-1,\"max_concurrent_iterations\":10,\"iteration_timeout_minutes\":null,\"mem_in_mb\":null,\"enforce_time_on_windows\":false,\"experiment_timeout_minutes\":30,\"experiment_exit_score\":null,\"whitelist_models\":null,\"blacklist_algos\":[\"TensorFlowLinearClassifier\",\"TensorFlowDNN\"],\"supported_models\":[\"MultinomialNaiveBayes\",\"BernoulliNaiveBayes\",\"LightGBM\",\"SGD\",\"TensorFlowDNN\",\"ExtremeRandomTrees\",\"TensorFlowLinearClassifier\",\"AveragedPerceptronClassifier\",\"SVM\",\"GradientBoosting\",\"DecisionTree\",\"XGBoostClassifier\",\"LinearSVM\",\"KNN\",\"RandomForest\",\"LogisticRegression\"],\"auto_blacklist\":true,\"blacklist_samples_reached\":false,\"exclude_nan_labels\":true,\"verbosity\":20,\"_debug_log\":\"azureml_automl.log\",\"show_warnings\":false,\"model_explainability\":true,\"service_url\":null,\"sdk_url\":null,\"sdk_packages\":null,\"enable_onnx_compatible_models\":false,\"enable_split_onnx_featurizer_estimator_models\":false,\"vm_type\":\"STANDARD_D13_V2\",\"telemetry_verbosity\":20,\"send_telemetry\":true,\"enable_dnn\":false,\"scenario\":\"SDK-1.13.0\",\"environment_label\":null,\"force_text_dnn\":false,\"enable_feature_sweeping\":true,\"enable_early_stopping\":true,\"early_stopping_n_iters\":10,\"metrics\":null,\"enable_ensembling\":true,\"enable_stack_ensembling\":true,\"ensemble_iterations\":15,\"enable_tf\":false,\"enable_subsampling\":null,\"subsample_seed\":null,\"enable_nimbusml\":false,\"enable_streaming\":false,\"force_streaming\":false,\"track_child_runs\":true,\"allowed_private_models\":[],\"label_column_name\":\"Attrition_Flag\",\"weight_column_name\":null,\"cv_split_column_names\":null,\"enable_local_managed\":false,\"_local_managed_run_id\":null,\"cost_mode\":1,\"lag_length\":0,\"metric_operation\":\"maximize\",\"preprocess\":true}',\n",
       "  'DataPrepJsonString': '{\\\\\"training_data\\\\\": \\\\\"{\\\\\\\\\\\\\"blocks\\\\\\\\\\\\\": [{\\\\\\\\\\\\\"id\\\\\\\\\\\\\": \\\\\\\\\\\\\"ab55ce9e-4800-458d-9c95-c0641a633cfa\\\\\\\\\\\\\", \\\\\\\\\\\\\"type\\\\\\\\\\\\\": \\\\\\\\\\\\\"Microsoft.DPrep.GetDatastoreFilesBlock\\\\\\\\\\\\\", \\\\\\\\\\\\\"arguments\\\\\\\\\\\\\": {\\\\\\\\\\\\\"datastores\\\\\\\\\\\\\": [{\\\\\\\\\\\\\"datastoreName\\\\\\\\\\\\\": \\\\\\\\\\\\\"workspaceblobstore\\\\\\\\\\\\\", \\\\\\\\\\\\\"path\\\\\\\\\\\\\": \\\\\\\\\\\\\"data/train_data.csv\\\\\\\\\\\\\", \\\\\\\\\\\\\"resourceGroup\\\\\\\\\\\\\": \\\\\\\\\\\\\"aml-quickstarts-133132\\\\\\\\\\\\\", \\\\\\\\\\\\\"subscription\\\\\\\\\\\\\": \\\\\\\\\\\\\"81cefad3-d2c9-4f77-a466-99a7f541c7bb\\\\\\\\\\\\\", \\\\\\\\\\\\\"workspaceName\\\\\\\\\\\\\": \\\\\\\\\\\\\"quick-starts-ws-133132\\\\\\\\\\\\\"}]}, \\\\\\\\\\\\\"localData\\\\\\\\\\\\\": {}, \\\\\\\\\\\\\"isEnabled\\\\\\\\\\\\\": true, \\\\\\\\\\\\\"name\\\\\\\\\\\\\": null, \\\\\\\\\\\\\"annotation\\\\\\\\\\\\\": null}, {\\\\\\\\\\\\\"id\\\\\\\\\\\\\": \\\\\\\\\\\\\"b7069be8-b83a-4cb1-aacd-d3dc4991f703\\\\\\\\\\\\\", \\\\\\\\\\\\\"type\\\\\\\\\\\\\": \\\\\\\\\\\\\"Microsoft.DPrep.ParseDelimitedBlock\\\\\\\\\\\\\", \\\\\\\\\\\\\"arguments\\\\\\\\\\\\\": {\\\\\\\\\\\\\"columnHeadersMode\\\\\\\\\\\\\": 3, \\\\\\\\\\\\\"fileEncoding\\\\\\\\\\\\\": 0, \\\\\\\\\\\\\"handleQuotedLineBreaks\\\\\\\\\\\\\": false, \\\\\\\\\\\\\"preview\\\\\\\\\\\\\": false, \\\\\\\\\\\\\"separator\\\\\\\\\\\\\": \\\\\\\\\\\\\",\\\\\\\\\\\\\", \\\\\\\\\\\\\"skipRows\\\\\\\\\\\\\": 0, \\\\\\\\\\\\\"skipRowsMode\\\\\\\\\\\\\": 0}, \\\\\\\\\\\\\"localData\\\\\\\\\\\\\": {}, \\\\\\\\\\\\\"isEnabled\\\\\\\\\\\\\": true, \\\\\\\\\\\\\"name\\\\\\\\\\\\\": null, \\\\\\\\\\\\\"annotation\\\\\\\\\\\\\": null}, {\\\\\\\\\\\\\"id\\\\\\\\\\\\\": \\\\\\\\\\\\\"ccb4f1ae-c13b-46d1-916c-37dd7d7025d0\\\\\\\\\\\\\", \\\\\\\\\\\\\"type\\\\\\\\\\\\\": \\\\\\\\\\\\\"Microsoft.DPrep.DropColumnsBlock\\\\\\\\\\\\\", \\\\\\\\\\\\\"arguments\\\\\\\\\\\\\": {\\\\\\\\\\\\\"columns\\\\\\\\\\\\\": {\\\\\\\\\\\\\"type\\\\\\\\\\\\\": 0, \\\\\\\\\\\\\"details\\\\\\\\\\\\\": {\\\\\\\\\\\\\"selectedColumns\\\\\\\\\\\\\": [\\\\\\\\\\\\\"Path\\\\\\\\\\\\\"]}}}, \\\\\\\\\\\\\"localData\\\\\\\\\\\\\": {}, \\\\\\\\\\\\\"isEnabled\\\\\\\\\\\\\": true, \\\\\\\\\\\\\"name\\\\\\\\\\\\\": null, \\\\\\\\\\\\\"annotation\\\\\\\\\\\\\": null}, {\\\\\\\\\\\\\"id\\\\\\\\\\\\\": \\\\\\\\\\\\\"503e94dd-e8c7-4a30-b2c6-068facb0cb1e\\\\\\\\\\\\\", \\\\\\\\\\\\\"type\\\\\\\\\\\\\": \\\\\\\\\\\\\"Microsoft.DPrep.SetColumnTypesBlock\\\\\\\\\\\\\", \\\\\\\\\\\\\"arguments\\\\\\\\\\\\\": {\\\\\\\\\\\\\"columnConversion\\\\\\\\\\\\\": [{\\\\\\\\\\\\\"column\\\\\\\\\\\\\": {\\\\\\\\\\\\\"type\\\\\\\\\\\\\": 2, \\\\\\\\\\\\\"details\\\\\\\\\\\\\": {\\\\\\\\\\\\\"selectedColumn\\\\\\\\\\\\\": \\\\\\\\\\\\\"Column1\\\\\\\\\\\\\"}}, \\\\\\\\\\\\\"typeProperty\\\\\\\\\\\\\": 2}, {\\\\\\\\\\\\\"column\\\\\\\\\\\\\": {\\\\\\\\\\\\\"type\\\\\\\\\\\\\": 2, \\\\\\\\\\\\\"details\\\\\\\\\\\\\": {\\\\\\\\\\\\\"selectedColumn\\\\\\\\\\\\\": \\\\\\\\\\\\\"Customer_Age\\\\\\\\\\\\\"}}, \\\\\\\\\\\\\"typeProperty\\\\\\\\\\\\\": 3}, {\\\\\\\\\\\\\"column\\\\\\\\\\\\\": {\\\\\\\\\\\\\"type\\\\\\\\\\\\\": 2, \\\\\\\\\\\\\"details\\\\\\\\\\\\\": {\\\\\\\\\\\\\"selectedColumn\\\\\\\\\\\\\": \\\\\\\\\\\\\"Gender\\\\\\\\\\\\\"}}, \\\\\\\\\\\\\"typeProperty\\\\\\\\\\\\\": 3}, {\\\\\\\\\\\\\"column\\\\\\\\\\\\\": {\\\\\\\\\\\\\"type\\\\\\\\\\\\\": 2, \\\\\\\\\\\\\"details\\\\\\\\\\\\\": {\\\\\\\\\\\\\"selectedColumn\\\\\\\\\\\\\": \\\\\\\\\\\\\"Dependent_count\\\\\\\\\\\\\"}}, \\\\\\\\\\\\\"typeProperty\\\\\\\\\\\\\": 3}, {\\\\\\\\\\\\\"column\\\\\\\\\\\\\": {\\\\\\\\\\\\\"type\\\\\\\\\\\\\": 2, \\\\\\\\\\\\\"details\\\\\\\\\\\\\": {\\\\\\\\\\\\\"selectedColumn\\\\\\\\\\\\\": \\\\\\\\\\\\\"Education_Level\\\\\\\\\\\\\"}}, \\\\\\\\\\\\\"typeProperty\\\\\\\\\\\\\": 3}, {\\\\\\\\\\\\\"column\\\\\\\\\\\\\": {\\\\\\\\\\\\\"type\\\\\\\\\\\\\": 2, \\\\\\\\\\\\\"details\\\\\\\\\\\\\": {\\\\\\\\\\\\\"selectedColumn\\\\\\\\\\\\\": \\\\\\\\\\\\\"Income_Category\\\\\\\\\\\\\"}}, \\\\\\\\\\\\\"typeProperty\\\\\\\\\\\\\": 3}, {\\\\\\\\\\\\\"column\\\\\\\\\\\\\": {\\\\\\\\\\\\\"type\\\\\\\\\\\\\": 2, \\\\\\\\\\\\\"details\\\\\\\\\\\\\": {\\\\\\\\\\\\\"selectedColumn\\\\\\\\\\\\\": \\\\\\\\\\\\\"Months_on_book\\\\\\\\\\\\\"}}, \\\\\\\\\\\\\"typeProperty\\\\\\\\\\\\\": 3}, {\\\\\\\\\\\\\"column\\\\\\\\\\\\\": {\\\\\\\\\\\\\"type\\\\\\\\\\\\\": 2, \\\\\\\\\\\\\"details\\\\\\\\\\\\\": {\\\\\\\\\\\\\"selectedColumn\\\\\\\\\\\\\": \\\\\\\\\\\\\"Total_Relationship_Count\\\\\\\\\\\\\"}}, \\\\\\\\\\\\\"typeProperty\\\\\\\\\\\\\": 3}, {\\\\\\\\\\\\\"column\\\\\\\\\\\\\": {\\\\\\\\\\\\\"type\\\\\\\\\\\\\": 2, \\\\\\\\\\\\\"details\\\\\\\\\\\\\": {\\\\\\\\\\\\\"selectedColumn\\\\\\\\\\\\\": \\\\\\\\\\\\\"Months_Inactive_12_mon\\\\\\\\\\\\\"}}, \\\\\\\\\\\\\"typeProperty\\\\\\\\\\\\\": 3}, {\\\\\\\\\\\\\"column\\\\\\\\\\\\\": {\\\\\\\\\\\\\"type\\\\\\\\\\\\\": 2, \\\\\\\\\\\\\"details\\\\\\\\\\\\\": {\\\\\\\\\\\\\"selectedColumn\\\\\\\\\\\\\": \\\\\\\\\\\\\"Contacts_Count_12_mon\\\\\\\\\\\\\"}}, \\\\\\\\\\\\\"typeProperty\\\\\\\\\\\\\": 3}, {\\\\\\\\\\\\\"column\\\\\\\\\\\\\": {\\\\\\\\\\\\\"type\\\\\\\\\\\\\": 2, \\\\\\\\\\\\\"details\\\\\\\\\\\\\": {\\\\\\\\\\\\\"selectedColumn\\\\\\\\\\\\\": \\\\\\\\\\\\\"Credit_Limit\\\\\\\\\\\\\"}}, \\\\\\\\\\\\\"typeProperty\\\\\\\\\\\\\": 3}, {\\\\\\\\\\\\\"column\\\\\\\\\\\\\": {\\\\\\\\\\\\\"type\\\\\\\\\\\\\": 2, \\\\\\\\\\\\\"details\\\\\\\\\\\\\": {\\\\\\\\\\\\\"selectedColumn\\\\\\\\\\\\\": \\\\\\\\\\\\\"Total_Revolving_Bal\\\\\\\\\\\\\"}}, \\\\\\\\\\\\\"typeProperty\\\\\\\\\\\\\": 3}, {\\\\\\\\\\\\\"column\\\\\\\\\\\\\": {\\\\\\\\\\\\\"type\\\\\\\\\\\\\": 2, \\\\\\\\\\\\\"details\\\\\\\\\\\\\": {\\\\\\\\\\\\\"selectedColumn\\\\\\\\\\\\\": \\\\\\\\\\\\\"Avg_Open_To_Buy\\\\\\\\\\\\\"}}, \\\\\\\\\\\\\"typeProperty\\\\\\\\\\\\\": 3}, {\\\\\\\\\\\\\"column\\\\\\\\\\\\\": {\\\\\\\\\\\\\"type\\\\\\\\\\\\\": 2, \\\\\\\\\\\\\"details\\\\\\\\\\\\\": {\\\\\\\\\\\\\"selectedColumn\\\\\\\\\\\\\": \\\\\\\\\\\\\"Total_Amt_Chng_Q4_Q1\\\\\\\\\\\\\"}}, \\\\\\\\\\\\\"typeProperty\\\\\\\\\\\\\": 3}, {\\\\\\\\\\\\\"column\\\\\\\\\\\\\": {\\\\\\\\\\\\\"type\\\\\\\\\\\\\": 2, \\\\\\\\\\\\\"details\\\\\\\\\\\\\": {\\\\\\\\\\\\\"selectedColumn\\\\\\\\\\\\\": \\\\\\\\\\\\\"Total_Trans_Amt\\\\\\\\\\\\\"}}, \\\\\\\\\\\\\"typeProperty\\\\\\\\\\\\\": 3}, {\\\\\\\\\\\\\"column\\\\\\\\\\\\\": {\\\\\\\\\\\\\"type\\\\\\\\\\\\\": 2, \\\\\\\\\\\\\"details\\\\\\\\\\\\\": {\\\\\\\\\\\\\"selectedColumn\\\\\\\\\\\\\": \\\\\\\\\\\\\"Total_Trans_Ct\\\\\\\\\\\\\"}}, \\\\\\\\\\\\\"typeProperty\\\\\\\\\\\\\": 3}, {\\\\\\\\\\\\\"column\\\\\\\\\\\\\": {\\\\\\\\\\\\\"type\\\\\\\\\\\\\": 2, \\\\\\\\\\\\\"details\\\\\\\\\\\\\": {\\\\\\\\\\\\\"selectedColumn\\\\\\\\\\\\\": \\\\\\\\\\\\\"Total_Ct_Chng_Q4_Q1\\\\\\\\\\\\\"}}, \\\\\\\\\\\\\"typeProperty\\\\\\\\\\\\\": 3}, {\\\\\\\\\\\\\"column\\\\\\\\\\\\\": {\\\\\\\\\\\\\"type\\\\\\\\\\\\\": 2, \\\\\\\\\\\\\"details\\\\\\\\\\\\\": {\\\\\\\\\\\\\"selectedColumn\\\\\\\\\\\\\": \\\\\\\\\\\\\"Avg_Utilization_Ratio\\\\\\\\\\\\\"}}, \\\\\\\\\\\\\"typeProperty\\\\\\\\\\\\\": 3}, {\\\\\\\\\\\\\"column\\\\\\\\\\\\\": {\\\\\\\\\\\\\"type\\\\\\\\\\\\\": 2, \\\\\\\\\\\\\"details\\\\\\\\\\\\\": {\\\\\\\\\\\\\"selectedColumn\\\\\\\\\\\\\": \\\\\\\\\\\\\"Marital_Status_Divorced\\\\\\\\\\\\\"}}, \\\\\\\\\\\\\"typeProperty\\\\\\\\\\\\\": 3}, {\\\\\\\\\\\\\"column\\\\\\\\\\\\\": {\\\\\\\\\\\\\"type\\\\\\\\\\\\\": 2, \\\\\\\\\\\\\"details\\\\\\\\\\\\\": {\\\\\\\\\\\\\"selectedColumn\\\\\\\\\\\\\": \\\\\\\\\\\\\"Marital_Status_Married\\\\\\\\\\\\\"}}, \\\\\\\\\\\\\"typeProperty\\\\\\\\\\\\\": 3}, {\\\\\\\\\\\\\"column\\\\\\\\\\\\\": {\\\\\\\\\\\\\"type\\\\\\\\\\\\\": 2, \\\\\\\\\\\\\"details\\\\\\\\\\\\\": {\\\\\\\\\\\\\"selectedColumn\\\\\\\\\\\\\": \\\\\\\\\\\\\"Marital_Status_Single\\\\\\\\\\\\\"}}, \\\\\\\\\\\\\"typeProperty\\\\\\\\\\\\\": 3}, {\\\\\\\\\\\\\"column\\\\\\\\\\\\\": {\\\\\\\\\\\\\"type\\\\\\\\\\\\\": 2, \\\\\\\\\\\\\"details\\\\\\\\\\\\\": {\\\\\\\\\\\\\"selectedColumn\\\\\\\\\\\\\": \\\\\\\\\\\\\"Card_Category_Blue\\\\\\\\\\\\\"}}, \\\\\\\\\\\\\"typeProperty\\\\\\\\\\\\\": 3}, {\\\\\\\\\\\\\"column\\\\\\\\\\\\\": {\\\\\\\\\\\\\"type\\\\\\\\\\\\\": 2, \\\\\\\\\\\\\"details\\\\\\\\\\\\\": {\\\\\\\\\\\\\"selectedColumn\\\\\\\\\\\\\": \\\\\\\\\\\\\"Card_Category_Gold\\\\\\\\\\\\\"}}, \\\\\\\\\\\\\"typeProperty\\\\\\\\\\\\\": 3}, {\\\\\\\\\\\\\"column\\\\\\\\\\\\\": {\\\\\\\\\\\\\"type\\\\\\\\\\\\\": 2, \\\\\\\\\\\\\"details\\\\\\\\\\\\\": {\\\\\\\\\\\\\"selectedColumn\\\\\\\\\\\\\": \\\\\\\\\\\\\"Card_Category_Platinum\\\\\\\\\\\\\"}}, \\\\\\\\\\\\\"typeProperty\\\\\\\\\\\\\": 3}, {\\\\\\\\\\\\\"column\\\\\\\\\\\\\": {\\\\\\\\\\\\\"type\\\\\\\\\\\\\": 2, \\\\\\\\\\\\\"details\\\\\\\\\\\\\": {\\\\\\\\\\\\\"selectedColumn\\\\\\\\\\\\\": \\\\\\\\\\\\\"Card_Category_Silver\\\\\\\\\\\\\"}}, \\\\\\\\\\\\\"typeProperty\\\\\\\\\\\\\": 3}, {\\\\\\\\\\\\\"column\\\\\\\\\\\\\": {\\\\\\\\\\\\\"type\\\\\\\\\\\\\": 2, \\\\\\\\\\\\\"details\\\\\\\\\\\\\": {\\\\\\\\\\\\\"selectedColumn\\\\\\\\\\\\\": \\\\\\\\\\\\\"Attrition_Flag\\\\\\\\\\\\\"}}, \\\\\\\\\\\\\"typeProperty\\\\\\\\\\\\\": 2}]}, \\\\\\\\\\\\\"localData\\\\\\\\\\\\\": {}, \\\\\\\\\\\\\"isEnabled\\\\\\\\\\\\\": true, \\\\\\\\\\\\\"name\\\\\\\\\\\\\": null, \\\\\\\\\\\\\"annotation\\\\\\\\\\\\\": null}], \\\\\\\\\\\\\"inspectors\\\\\\\\\\\\\": [], \\\\\\\\\\\\\"meta\\\\\\\\\\\\\": {\\\\\\\\\\\\\"savedDatasetId\\\\\\\\\\\\\": \\\\\\\\\\\\\"57fd53df-386f-4c14-a2ff-4331d95f5778\\\\\\\\\\\\\", \\\\\\\\\\\\\"datasetType\\\\\\\\\\\\\": \\\\\\\\\\\\\"tabular\\\\\\\\\\\\\", \\\\\\\\\\\\\"subscriptionId\\\\\\\\\\\\\": \\\\\\\\\\\\\"81cefad3-d2c9-4f77-a466-99a7f541c7bb\\\\\\\\\\\\\", \\\\\\\\\\\\\"workspaceId\\\\\\\\\\\\\": \\\\\\\\\\\\\"1bc1184b-0d99-47b2-b8b1-a9aba83249ed\\\\\\\\\\\\\", \\\\\\\\\\\\\"workspaceLocation\\\\\\\\\\\\\": \\\\\\\\\\\\\"southcentralus\\\\\\\\\\\\\"}}\\\\\", \\\\\"activities\\\\\": 0}',\n",
       "  'EnableSubsampling': None,\n",
       "  'runTemplate': 'AutoML',\n",
       "  'azureml.runsource': 'automl',\n",
       "  'display_task_type': 'classification',\n",
       "  'dependencies_versions': '{\"azureml-widgets\": \"1.19.0\", \"azureml-train\": \"1.19.0\", \"azureml-train-restclients-hyperdrive\": \"1.19.0\", \"azureml-train-core\": \"1.19.0\", \"azureml-train-automl\": \"1.19.0\", \"azureml-train-automl-runtime\": \"1.19.0\", \"azureml-train-automl-client\": \"1.19.0\", \"azureml-tensorboard\": \"1.19.0\", \"azureml-telemetry\": \"1.19.0\", \"azureml-sdk\": \"1.19.0\", \"azureml-samples\": \"0+unknown\", \"azureml-pipeline\": \"1.19.0\", \"azureml-pipeline-steps\": \"1.19.0\", \"azureml-pipeline-core\": \"1.19.0\", \"azureml-opendatasets\": \"1.19.0\", \"azureml-model-management-sdk\": \"1.0.1b6.post1\", \"azureml-mlflow\": \"1.19.0\", \"azureml-interpret\": \"1.19.0\", \"azureml-explain-model\": \"1.19.0\", \"azureml-defaults\": \"1.19.0\", \"azureml-dataset-runtime\": \"1.19.0\", \"azureml-dataprep\": \"2.6.1\", \"azureml-dataprep-rslex\": \"1.4.0\", \"azureml-dataprep-native\": \"26.0.0\", \"azureml-datadrift\": \"1.19.0\", \"azureml-core\": \"1.19.0\", \"azureml-contrib-services\": \"1.19.0\", \"azureml-contrib-server\": \"1.19.0\", \"azureml-contrib-reinforcementlearning\": \"1.19.0\", \"azureml-contrib-pipeline-steps\": \"1.19.0\", \"azureml-contrib-notebook\": \"1.19.0\", \"azureml-contrib-interpret\": \"1.19.0\", \"azureml-contrib-gbdt\": \"1.19.0\", \"azureml-contrib-fairness\": \"1.19.0\", \"azureml-contrib-dataset\": \"1.19.0\", \"azureml-cli-common\": \"1.19.0\", \"azureml-automl-runtime\": \"1.19.0\", \"azureml-automl-core\": \"1.19.0\", \"azureml-accel-models\": \"1.19.0\"}',\n",
       "  '_aml_system_scenario_identification': 'Remote.Parent',\n",
       "  'ClientType': 'SDK',\n",
       "  'environment_cpu_name': 'AzureML-AutoML',\n",
       "  'environment_cpu_label': 'prod',\n",
       "  'environment_gpu_name': 'AzureML-AutoML-GPU',\n",
       "  'environment_gpu_label': 'prod',\n",
       "  'root_attribution': 'automl',\n",
       "  'attribution': 'AutoML',\n",
       "  'Orchestrator': 'AutoML',\n",
       "  'CancelUri': 'https://southcentralus.experiments.azureml.net/jasmine/v1.0/subscriptions/81cefad3-d2c9-4f77-a466-99a7f541c7bb/resourceGroups/aml-quickstarts-133132/providers/Microsoft.MachineLearningServices/workspaces/quick-starts-ws-133132/experimentids/3ec5e294-f3a0-4945-91b7-a34a74ae9fa0/cancel/AutoML_ceea2569-ef01-4a09-ac5c-5230d248456c',\n",
       "  'ClientSdkVersion': '1.19.0',\n",
       "  'snapshotId': '00000000-0000-0000-0000-000000000000',\n",
       "  'SetupRunId': 'AutoML_ceea2569-ef01-4a09-ac5c-5230d248456c_setup',\n",
       "  'SetupRunContainerId': 'dcid.AutoML_ceea2569-ef01-4a09-ac5c-5230d248456c_setup',\n",
       "  'FeaturizationRunJsonPath': 'featurizer_container.json',\n",
       "  'FeaturizationRunId': 'AutoML_ceea2569-ef01-4a09-ac5c-5230d248456c_featurize',\n",
       "  'ProblemInfoJsonString': '{\"dataset_num_categorical\": 0, \"is_sparse\": false, \"subsampling\": false, \"dataset_classes\": 2, \"dataset_features\": 25, \"dataset_samples\": 8101, \"single_frequency_class_detected\": false}',\n",
       "  'ModelExplainRunId': 'AutoML_ceea2569-ef01-4a09-ac5c-5230d248456c_ModelExplain'},\n",
       " 'inputDatasets': [{'dataset': {'id': '57fd53df-386f-4c14-a2ff-4331d95f5778'}, 'consumptionDetails': {'type': 'RunInput', 'inputName': 'training_data', 'mechanism': 'Direct'}}],\n",
       " 'outputDatasets': [],\n",
       " 'logFiles': {}}"
      ]
     },
     "execution_count": 13,
     "metadata": {},
     "output_type": "execute_result"
    }
   ],
   "source": [
    "RunDetails(remote_run).show()\n",
    "remote_run.wait_for_completion(show_output=True)"
   ]
  },
  {
   "cell_type": "markdown",
   "metadata": {},
   "source": [
    "## Best Model"
   ]
  },
  {
   "cell_type": "code",
   "execution_count": 14,
   "metadata": {
    "gather": {
     "logged": 1598431425670
    },
    "jupyter": {
     "outputs_hidden": false,
     "source_hidden": false
    },
    "nteract": {
     "transient": {
      "deleting": false
     }
    }
   },
   "outputs": [
    {
     "name": "stdout",
     "output_type": "stream",
     "text": [
      "Best Run ID AutoML_ceea2569-ef01-4a09-ac5c-5230d248456c_57\n"
     ]
    }
   ],
   "source": [
    "best_run, fitted_automl_best_model = remote_run.get_output()\n",
    "best_run_metrics = best_run.get_metrics()\n",
    "print('Best Run ID',best_run.id)"
   ]
  },
  {
   "cell_type": "code",
   "execution_count": 15,
   "metadata": {},
   "outputs": [
    {
     "data": {
      "text/html": [
       "<table style=\"width:100%\"><tr><th>Experiment</th><th>Id</th><th>Type</th><th>Status</th><th>Details Page</th><th>Docs Page</th></tr><tr><td>automl-experiment</td><td>AutoML_ceea2569-ef01-4a09-ac5c-5230d248456c_57</td><td>azureml.scriptrun</td><td>Completed</td><td><a href=\"https://ml.azure.com/experiments/automl-experiment/runs/AutoML_ceea2569-ef01-4a09-ac5c-5230d248456c_57?wsid=/subscriptions/81cefad3-d2c9-4f77-a466-99a7f541c7bb/resourcegroups/aml-quickstarts-133132/workspaces/quick-starts-ws-133132\" target=\"_blank\" rel=\"noopener\">Link to Azure Machine Learning studio</a></td><td><a href=\"https://docs.microsoft.com/en-us/python/api/azureml-core/azureml.core.run.Run?view=azure-ml-py\" target=\"_blank\" rel=\"noopener\">Link to Documentation</a></td></tr></table>"
      ],
      "text/plain": [
       "Run(Experiment: automl-experiment,\n",
       "Id: AutoML_ceea2569-ef01-4a09-ac5c-5230d248456c_57,\n",
       "Type: azureml.scriptrun,\n",
       "Status: Completed)"
      ]
     },
     "execution_count": 15,
     "metadata": {},
     "output_type": "execute_result"
    }
   ],
   "source": [
    "best_run"
   ]
  },
  {
   "cell_type": "code",
   "execution_count": 16,
   "metadata": {},
   "outputs": [
    {
     "data": {
      "text/plain": [
       "Pipeline(memory=None,\n",
       "         steps=[('datatransformer',\n",
       "                 DataTransformer(enable_dnn=None, enable_feature_sweeping=None,\n",
       "                                 feature_sweeping_config=None,\n",
       "                                 feature_sweeping_timeout=None,\n",
       "                                 featurization_config=None, force_text_dnn=None,\n",
       "                                 is_cross_validation=None,\n",
       "                                 is_onnx_compatible=None, logger=None,\n",
       "                                 observer=None, task=None, working_dir=None)),\n",
       "                ('prefittedsoftvotingclassifier',...\n",
       "                                                                                               max_depth=10,\n",
       "                                                                                               max_leaves=127,\n",
       "                                                                                               min_child_weight=1,\n",
       "                                                                                               missing=nan,\n",
       "                                                                                               n_estimators=400,\n",
       "                                                                                               n_jobs=-1,\n",
       "                                                                                               nthread=None,\n",
       "                                                                                               objective='reg:logistic',\n",
       "                                                                                               random_state=0,\n",
       "                                                                                               reg_alpha=0,\n",
       "                                                                                               reg_lambda=1.875,\n",
       "                                                                                               scale_pos_weight=1,\n",
       "                                                                                               seed=None,\n",
       "                                                                                               silent=None,\n",
       "                                                                                               subsample=0.9,\n",
       "                                                                                               tree_method='auto',\n",
       "                                                                                               verbose=-10,\n",
       "                                                                                               verbosity=0))],\n",
       "                                                                     verbose=False))],\n",
       "                                               flatten_transform=None,\n",
       "                                               weights=[0.2, 0.2, 0.1, 0.1, 0.2,\n",
       "                                                        0.2]))],\n",
       "         verbose=False)"
      ]
     },
     "execution_count": 16,
     "metadata": {},
     "output_type": "execute_result"
    }
   ],
   "source": [
    "fitted_automl_best_model"
   ]
  },
  {
   "cell_type": "code",
   "execution_count": 17,
   "metadata": {},
   "outputs": [
    {
     "name": "stdout",
     "output_type": "stream",
     "text": [
      "precision_score_weighted 0.9884679366831852\n",
      "log_loss 0.03950192825182192\n",
      "precision_score_micro 0.9885200268761913\n",
      "matthews_correlation 0.9574955630022789\n",
      "average_precision_score_weighted 0.9983986967778214\n",
      "norm_macro_recall 0.9488050764311423\n",
      "f1_score_micro 0.9885200268761913\n",
      "recall_score_macro 0.9744025382155712\n",
      "AUC_weighted 0.9982497423027814\n",
      "f1_score_weighted 0.9884665953344453\n",
      "recall_score_weighted 0.9885200268761913\n",
      "accuracy 0.9885200268761913\n",
      "precision_score_macro 0.9831402968284659\n",
      "AUC_micro 0.9989819049621033\n",
      "average_precision_score_micro 0.9989988841805254\n",
      "AUC_macro 0.9982497423027814\n",
      "weighted_accuracy 0.9937742520007841\n",
      "f1_score_macro 0.9786967986141067\n",
      "recall_score_micro 0.9885200268761913\n",
      "average_precision_score_macro 0.9958124604969072\n",
      "balanced_accuracy 0.9744025382155712\n",
      "accuracy_table aml://artifactId/ExperimentRun/dcid.AutoML_ceea2569-ef01-4a09-ac5c-5230d248456c_57/accuracy_table\n",
      "confusion_matrix aml://artifactId/ExperimentRun/dcid.AutoML_ceea2569-ef01-4a09-ac5c-5230d248456c_57/confusion_matrix\n",
      "\n",
      "Accuracy of Best run\n",
      "0.9885200268761913\n",
      "Run(Experiment: automl-experiment,\n",
      "Id: AutoML_ceea2569-ef01-4a09-ac5c-5230d248456c_57,\n",
      "Type: azureml.scriptrun,\n",
      "Status: Completed)\n"
     ]
    },
    {
     "data": {
      "text/plain": [
       "'AutoMLceea2569e57'"
      ]
     },
     "execution_count": 17,
     "metadata": {},
     "output_type": "execute_result"
    }
   ],
   "source": [
    "# Metric in best run\n",
    "for metric_name in best_run_metrics:\n",
    "    metric = best_run_metrics[metric_name]\n",
    "    print(metric_name, metric)\n",
    "    \n",
    "print('\\nAccuracy of Best run',best_run_metrics['accuracy'],sep='\\n')\n",
    "print(best_run)\n",
    "\n",
    "model_name = best_run.properties['model_name']\n",
    "model_name"
   ]
  },
  {
   "cell_type": "code",
   "execution_count": 18,
   "metadata": {
    "gather": {
     "logged": 1598431426111
    },
    "jupyter": {
     "outputs_hidden": false,
     "source_hidden": false
    },
    "nteract": {
     "transient": {
      "deleting": false
     }
    }
   },
   "outputs": [
    {
     "data": {
      "text/plain": [
       "['outputs/automl.joblib']"
      ]
     },
     "execution_count": 18,
     "metadata": {},
     "output_type": "execute_result"
    }
   ],
   "source": [
    "#TODO: Save the best model\n",
    "\n",
    "os.makedirs('./outputs', exist_ok=True)\n",
    "\n",
    "joblib.dump(fitted_automl_best_model, filename='outputs/automl.joblib')"
   ]
  },
  {
   "cell_type": "markdown",
   "metadata": {},
   "source": [
    "## Fetch Environment"
   ]
  },
  {
   "cell_type": "code",
   "execution_count": 19,
   "metadata": {},
   "outputs": [],
   "source": [
    "env = best_run.get_environment()\n",
    "\n",
    "script_file = 'score.py'\n",
    "best_run.download_file('outputs/scoring_file_v_1_0_0.py', script_file)"
   ]
  },
  {
   "cell_type": "markdown",
   "metadata": {},
   "source": [
    "## Model Deployment\n",
    "\n",
    "Remember you have to deploy only one of the two models you trained.. Perform the steps in the rest of this notebook only if you wish to deploy this model.\n",
    "\n",
    "TODO: In the cell below, register the model, create an inference config and deploy the model as a web service."
   ]
  },
  {
   "cell_type": "code",
   "execution_count": 20,
   "metadata": {
    "gather": {
     "logged": 1598431435189
    },
    "jupyter": {
     "outputs_hidden": false,
     "source_hidden": false
    },
    "nteract": {
     "transient": {
      "deleting": false
     }
    }
   },
   "outputs": [
    {
     "name": "stdout",
     "output_type": "stream",
     "text": [
      "AutoMLceea2569e57\tAutoMLceea2569e57:1\t1\n"
     ]
    }
   ],
   "source": [
    "#Register the model\n",
    "model = remote_run.register_model(model_name=model_name)\n",
    "print(model.name, model.id, model.version, sep='\\t')"
   ]
  },
  {
   "cell_type": "code",
   "execution_count": 22,
   "metadata": {},
   "outputs": [
    {
     "name": "stdout",
     "output_type": "stream",
     "text": [
      "Tips: You can try get_logs(): https://aka.ms/debugimage#dockerlog or local deployment: https://aka.ms/debugimage#debug-locally to debug if deployment takes longer than 10 minutes.\n",
      "Running............\n",
      "Succeeded\n",
      "ACI service creation operation finished, operation \"Succeeded\"\n",
      "State:  Healthy\n",
      "\n",
      "Scoring URI:  http://70543f65-1d64-4754-9d48-266698ebf690.southcentralus.azurecontainer.io/score\n",
      "\n",
      "Service Logs 2021-01-03T12:57:45,803367800+00:00 - rsyslog/run \n",
      "2021-01-03T12:57:45,802026300+00:00 - gunicorn/run \n",
      "2021-01-03T12:57:45,824800300+00:00 - iot-server/run \n",
      "2021-01-03T12:57:45,854668600+00:00 - nginx/run \n",
      "/usr/sbin/nginx: /azureml-envs/azureml_8eff28b157f42edcd2424a5aae6c8074/lib/libcrypto.so.1.0.0: no version information available (required by /usr/sbin/nginx)\n",
      "/usr/sbin/nginx: /azureml-envs/azureml_8eff28b157f42edcd2424a5aae6c8074/lib/libcrypto.so.1.0.0: no version information available (required by /usr/sbin/nginx)\n",
      "/usr/sbin/nginx: /azureml-envs/azureml_8eff28b157f42edcd2424a5aae6c8074/lib/libssl.so.1.0.0: no version information available (required by /usr/sbin/nginx)\n",
      "/usr/sbin/nginx: /azureml-envs/azureml_8eff28b157f42edcd2424a5aae6c8074/lib/libssl.so.1.0.0: no version information available (required by /usr/sbin/nginx)\n",
      "/usr/sbin/nginx: /azureml-envs/azureml_8eff28b157f42edcd2424a5aae6c8074/lib/libssl.so.1.0.0: no version information available (required by /usr/sbin/nginx)\n",
      "rsyslogd: /azureml-envs/azureml_8eff28b157f42edcd2424a5aae6c8074/lib/libuuid.so.1: no version information available (required by rsyslogd)\n",
      "EdgeHubConnectionString and IOTEDGE_IOTHUBHOSTNAME are not set. Exiting...\n",
      "2021-01-03T12:57:47,328042400+00:00 - iot-server/finish 1 0\n",
      "2021-01-03T12:57:47,342367300+00:00 - Exit code 1 is normal. Not restarting iot-server.\n",
      "Starting gunicorn 19.9.0\n",
      "Listening at: http://127.0.0.1:31311 (69)\n",
      "Using worker: sync\n",
      "worker timeout is set to 300\n",
      "Booting worker with pid: 98\n",
      "SPARK_HOME not set. Skipping PySpark Initialization.\n",
      "Generating new fontManager, this may take some time...\n",
      "Initializing logger\n",
      "2021-01-03 12:57:52,881 | root | INFO | Starting up app insights client\n",
      "Starting up app insights client\n",
      "2021-01-03 12:57:52,882 | root | INFO | Starting up request id generator\n",
      "Starting up request id generator\n",
      "2021-01-03 12:57:52,882 | root | INFO | Starting up app insight hooks\n",
      "Starting up app insight hooks\n",
      "2021-01-03 12:57:52,883 | root | INFO | Invoking user's init function\n",
      "Invoking user's init function\n",
      "2021-01-03 12:58:00,964 | root | INFO | Users's init has completed successfully\n",
      "Users's init has completed successfully\n",
      "2021-01-03 12:58:00,971 | root | INFO | Skipping middleware: dbg_model_info as it's not enabled.\n",
      "Skipping middleware: dbg_model_info as it's not enabled.\n",
      "2021-01-03 12:58:00,974 | root | INFO | Skipping middleware: dbg_resource_usage as it's not enabled.\n",
      "Skipping middleware: dbg_resource_usage as it's not enabled.\n",
      "2021-01-03 12:58:00,979 | root | INFO | Scoring timeout is found from os.environ: 60000 ms\n",
      "Scoring timeout is found from os.environ: 60000 ms\n",
      "2021-01-03 12:58:01,005 | root | INFO | 200\n",
      "200\n",
      "127.0.0.1 - - [03/Jan/2021:12:58:01 +0000] \"GET /swagger.json HTTP/1.0\" 200 4169 \"-\" \"Go-http-client/1.1\"\n",
      "2021-01-03 12:58:03,648 | root | INFO | 200\n",
      "200\n",
      "127.0.0.1 - - [03/Jan/2021:12:58:03 +0000] \"GET /swagger.json HTTP/1.0\" 200 4169 \"-\" \"Go-http-client/1.1\"\n",
      "\n"
     ]
    }
   ],
   "source": [
    "from azureml.core.model import InferenceConfig\n",
    "from azureml.core.webservice import AciWebservice\n",
    "from azureml.core.webservice import Webservice\n",
    "from azureml.core.model import Model\n",
    "from azureml.core.environment import Environment\n",
    "\n",
    "inference_config = InferenceConfig(entry_script=script_file, environment=env)\n",
    "\n",
    "deployment_config = AciWebservice.deploy_configuration(auth_enabled=True, #Genrates API key to secure access\n",
    "                                                       cpu_cores = 1, \n",
    "                                                       memory_gb = 1)\n",
    "\n",
    "deploy_service_name= 'automl-model-deployment'\n",
    "service = Model.deploy(ws,deploy_service_name,  [model], inference_config, deployment_config)\n",
    "\n",
    "service.wait_for_deployment(show_output = True)\n",
    "\n",
    "scoring_uri = service.scoring_uri\n",
    "\n",
    "print(\"State: \",service.state)\n",
    "print(\"\\nScoring URI: \", scoring_uri)\n",
    "print(\"\\nService Logs:\\n\",service.get_logs())"
   ]
  },
  {
   "cell_type": "markdown",
   "metadata": {
    "gather": {
     "logged": 1598431657736
    },
    "jupyter": {
     "outputs_hidden": false,
     "source_hidden": false
    },
    "nteract": {
     "transient": {
      "deleting": false
     }
    }
   },
   "source": [
    "## Test the Deploy model with two different methods\n",
    "\n",
    "### Method 1"
   ]
  },
  {
   "cell_type": "code",
   "execution_count": 24,
   "metadata": {
    "gather": {
     "logged": 1598432707604
    },
    "jupyter": {
     "outputs_hidden": false,
     "source_hidden": false
    },
    "nteract": {
     "transient": {
      "deleting": false
     }
    }
   },
   "outputs": [
    {
     "name": "stdout",
     "output_type": "stream",
     "text": [
      "Uploading an estimated of 3 files\n",
      "Target already exists. Skipping upload for data/test_data.csv\n",
      "Target already exists. Skipping upload for data/train_data.csv\n",
      "Uploading training/.ipynb_checkpoints/train_data-checkpoint.csv\n",
      "Uploaded training/.ipynb_checkpoints/train_data-checkpoint.csv, 1 files out of an estimated total of 1\n",
      "Uploaded 1 files\n",
      "{\"data\": [{\"Column1\": 8510, \"Customer_Age\": -0.5396375527574563, \"Gender\": 1.0599556481738364, \"Dependent_count\": 1.2732834007681237, \"Education_Level\": -1.6372140257929357, \"Income_Category\": -0.1451643075621299, \"Months_on_book\": 0.259402089648562, \"Total_Relationship_Count\": -1.809511627862365, \"Months_Inactive_12_mon\": 1.6414782926434333, \"Contacts_Count_12_mon\": -1.315635733377402, \"Credit_Limit\": -0.6808682264320558, \"Total_Revolving_Bal\": -1.4268583411935547, \"Avg_Open_To_Buy\": -0.5528062607047155, \"Total_Amt_Chng_Q4_Q1\": 0.12801033415221885, \"Total_Trans_Amt\": -0.05419145983530442, \"Total_Trans_Ct\": -0.6330550070392089, \"Total_Ct_Chng_Q4_Q1\": 1.9396362996508836, \"Avg_Utilization_Ratio\": -0.9971549934097601, \"Marital_Status_Divorced\": -0.28240509711065837, \"Marital_Status_Married\": 1.0773379863168544, \"Marital_Status_Single\": -0.7985068536605181, \"Card_Category_Blue\": 0.27061075788044237, \"Card_Category_Gold\": -0.10764410815542748, \"Card_Category_Platinum\": -0.04448400337033954, \"Card_Category_Silver\": -0.2407937146979289}, {\"Column1\": 1210, \"Customer_Age\": 0.33357038345253087, \"Gender\": -0.9434357010341592, \"Dependent_count\": -0.26654714611255337, \"Education_Level\": -1.6372140257929357, \"Income_Category\": -0.8876284200276294, \"Months_on_book\": 0.13418330124725636, \"Total_Relationship_Count\": 1.4073061679039114, \"Months_Inactive_12_mon\": 0.6519401850417875, \"Contacts_Count_12_mon\": 0.4924037661358222, \"Credit_Limit\": 0.12004917890870702, \"Total_Revolving_Bal\": 1.590515439710317, \"Avg_Open_To_Buy\": -0.022567029702650412, \"Total_Amt_Chng_Q4_Q1\": -1.4413617557912741, \"Total_Trans_Amt\": -0.9261471708072704, \"Total_Trans_Ct\": -1.7407855748677887, \"Total_Ct_Chng_Q4_Q1\": 1.2087721380456602, \"Avg_Utilization_Ratio\": -0.07941715781033892, \"Marital_Status_Divorced\": -0.28240509711065837, \"Marital_Status_Married\": 1.0773379863168544, \"Marital_Status_Single\": -0.7985068536605181, \"Card_Category_Blue\": 0.27061075788044237, \"Card_Category_Gold\": -0.10764410815542748, \"Card_Category_Platinum\": -0.04448400337033954, \"Card_Category_Silver\": -0.2407937146979289}, {\"Column1\": 5220, \"Customer_Age\": -0.9138695254188793, \"Gender\": 1.0599556481738364, \"Dependent_count\": -0.26654714611255337, \"Education_Level\": -1.6372140257929357, \"Income_Category\": 1.3397639173688694, \"Months_on_book\": 0.008964512845950725, \"Total_Relationship_Count\": 1.4073061679039114, \"Months_Inactive_12_mon\": -0.3375979225598582, \"Contacts_Count_12_mon\": 1.3964235158924343, \"Credit_Limit\": -0.08042774271938337, \"Total_Revolving_Bal\": 0.02599670418675596, \"Avg_Open_To_Buy\": -0.08274148185163996, \"Total_Amt_Chng_Q4_Q1\": 0.47016994678524765, \"Total_Trans_Amt\": -0.21698400141784904, \"Total_Trans_Ct\": 0.048625342393763316, \"Total_Ct_Chng_Q4_Q1\": 0.3014924891564169, \"Avg_Utilization_Ratio\": -0.4530416521452812, \"Marital_Status_Divorced\": -0.28240509711065837, \"Marital_Status_Married\": -0.9282138128432161, \"Marital_Status_Single\": 1.2523374037627806, \"Card_Category_Blue\": 0.27061075788044237, \"Card_Category_Gold\": -0.10764410815542748, \"Card_Category_Platinum\": -0.04448400337033954, \"Card_Category_Silver\": -0.2407937146979289}]}\n"
     ]
    }
   ],
   "source": [
    "import json\n",
    "data_test = test_data.to_pandas_dataframe().dropna()\n",
    "data_sample = data_test.sample(3)\n",
    "y_true = data_sample.pop('Attrition_Flag')\n",
    "sample_json = json.dumps({'data':data_sample.to_dict(orient='records')})\n",
    "print(sample_json)"
   ]
  },
  {
   "cell_type": "markdown",
   "metadata": {
    "gather": {
     "logged": 1598432765711
    },
    "jupyter": {
     "outputs_hidden": false,
     "source_hidden": false
    },
    "nteract": {
     "transient": {
      "deleting": false
     }
    }
   },
   "source": [
    "TODO: In the cell below, print the logs of the web service and delete the service"
   ]
  },
  {
   "cell_type": "code",
   "execution_count": 25,
   "metadata": {
    "jupyter": {
     "outputs_hidden": false,
     "source_hidden": false
    },
    "nteract": {
     "transient": {
      "deleting": false
     }
    }
   },
   "outputs": [
    {
     "name": "stdout",
     "output_type": "stream",
     "text": [
      "{\"result\": [0, 0, 0]}\n"
     ]
    }
   ],
   "source": [
    "Output = service.run(sample_json)\n",
    "print(Output)"
   ]
  },
  {
   "cell_type": "code",
   "execution_count": 26,
   "metadata": {},
   "outputs": [
    {
     "name": "stdout",
     "output_type": "stream",
     "text": [
      "Prediction:  {\"result\": [0, 0, 0]}\n",
      "True Values:  [0 0 0]\n"
     ]
    }
   ],
   "source": [
    "print('Prediction: ',Output)\n",
    "print('True Values: ', y_true.values)"
   ]
  },
  {
   "cell_type": "code",
   "execution_count": null,
   "metadata": {},
   "outputs": [],
   "source": [
    "service.get_logs()"
   ]
  },
  {
   "cell_type": "code",
   "execution_count": null,
   "metadata": {},
   "outputs": [],
   "source": [
    "primary_key,secondary_key=service.get_keys()\n",
    "print(primary_key,secondary_key,sep='\\n')"
   ]
  },
  {
   "cell_type": "code",
   "execution_count": null,
   "metadata": {},
   "outputs": [],
   "source": [
    "import requests\n",
    "\n",
    "headers = {'Content-Type': 'application/json'}\n",
    "# If authentication is enabled, set the authorization header\n",
    "headers['Authorization'] = f'Bearer {primary_key}'\n",
    "\n",
    "# Make the request and display the response\n",
    "resp = requests.post(scoring_uri, sample_json, headers=headers)\n",
    "print(resp.json())"
   ]
  },
  {
   "cell_type": "markdown",
   "metadata": {},
   "source": [
    "### Method 2"
   ]
  },
  {
   "cell_type": "code",
   "execution_count": null,
   "metadata": {},
   "outputs": [],
   "source": [
    "%run endpoint.py"
   ]
  },
  {
   "cell_type": "markdown",
   "metadata": {},
   "source": [
    "## Clean Up"
   ]
  },
  {
   "cell_type": "code",
   "execution_count": null,
   "metadata": {},
   "outputs": [],
   "source": [
    "service.delete()"
   ]
  }
 ],
 "metadata": {
  "kernel_info": {
   "name": "python3"
  },
  "kernelspec": {
   "display_name": "Python 3",
   "language": "python",
   "name": "python3"
  },
  "language_info": {
   "codemirror_mode": {
    "name": "ipython",
    "version": 3
   },
   "file_extension": ".py",
   "mimetype": "text/x-python",
   "name": "python",
   "nbconvert_exporter": "python",
   "pygments_lexer": "ipython3",
   "version": "3.7.6"
  },
  "nteract": {
   "version": "nteract-front-end@1.0.0"
  }
 },
 "nbformat": 4,
 "nbformat_minor": 4
}
