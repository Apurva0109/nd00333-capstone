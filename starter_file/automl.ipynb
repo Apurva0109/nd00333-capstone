{
 "cells": [
  {
   "cell_type": "markdown",
   "metadata": {},
   "source": [
    "# Automated ML\n",
    "\n",
    "Import Dependencies."
   ]
  },
  {
   "cell_type": "code",
   "execution_count": 1,
   "metadata": {
    "gather": {
     "logged": 1598423888013
    },
    "jupyter": {
     "outputs_hidden": false,
     "source_hidden": false
    },
    "nteract": {
     "transient": {
      "deleting": false
     }
    }
   },
   "outputs": [
    {
     "name": "stdout",
     "output_type": "stream",
     "text": [
      "SDK version: 1.19.0\n"
     ]
    }
   ],
   "source": [
    "from azureml.core import Workspace, Experiment,Dataset\n",
    "from azureml.core.compute import ComputeTarget, AmlCompute\n",
    "from azureml.core.compute_target import ComputeTargetException\n",
    "from azureml.widgets import RunDetails\n",
    "\n",
    "import azureml.core\n",
    "from azureml.data.dataset_factory import TabularDatasetFactory\n",
    "from sklearn.model_selection import train_test_split\n",
    "from azureml.train.automl import AutoMLConfig\n",
    "\n",
    "import os\n",
    "import joblib\n",
    "import pandas as pd\n",
    "import numpy as np\n",
    "\n",
    "# Check core SDK version number\n",
    "print(\"SDK version:\", azureml.core.VERSION)"
   ]
  },
  {
   "cell_type": "markdown",
   "metadata": {},
   "source": [
    "## Initialize Workspace"
   ]
  },
  {
   "cell_type": "code",
   "execution_count": 2,
   "metadata": {},
   "outputs": [
    {
     "name": "stdout",
     "output_type": "stream",
     "text": [
      "quick-starts-ws-132749\n",
      "aml-quickstarts-132749\n",
      "southcentralus\n",
      "976ee174-3882-4721-b90a-b5fef6b72f24\n"
     ]
    }
   ],
   "source": [
    "ws = Workspace.from_config()\n",
    "print(ws.name, ws.resource_group, ws.location, ws.subscription_id, sep = '\\n')"
   ]
  },
  {
   "cell_type": "markdown",
   "metadata": {},
   "source": [
    "## Create an Azure ML experiment"
   ]
  },
  {
   "cell_type": "code",
   "execution_count": 3,
   "metadata": {},
   "outputs": [
    {
     "data": {
      "text/html": [
       "<table style=\"width:100%\"><tr><th>Name</th><th>Workspace</th><th>Report Page</th><th>Docs Page</th></tr><tr><td>automl-experiment</td><td>quick-starts-ws-132749</td><td><a href=\"https://ml.azure.com/experiments/automl-experiment?wsid=/subscriptions/976ee174-3882-4721-b90a-b5fef6b72f24/resourcegroups/aml-quickstarts-132749/workspaces/quick-starts-ws-132749\" target=\"_blank\" rel=\"noopener\">Link to Azure Machine Learning studio</a></td><td><a href=\"https://docs.microsoft.com/en-us/python/api/azureml-core/azureml.core.experiment.Experiment?view=azure-ml-py\" target=\"_blank\" rel=\"noopener\">Link to Documentation</a></td></tr></table>"
      ],
      "text/plain": [
       "Experiment(Name: automl-experiment,\n",
       "Workspace: quick-starts-ws-132749)"
      ]
     },
     "execution_count": 3,
     "metadata": {},
     "output_type": "execute_result"
    }
   ],
   "source": [
    "experiment_name = 'automl-experiment'\n",
    "project_folder = './automl-model'\n",
    "\n",
    "experiment = Experiment(ws, experiment_name)\n",
    "experiment"
   ]
  },
  {
   "cell_type": "markdown",
   "metadata": {},
   "source": [
    "## Dataset\n",
    "\n",
    "### Overview\n",
    "\n",
    "We will build prediction model that will classify if a customer is going to churn or not from kaggle's data set [Credit Card customers](https://www.kaggle.com/sakshigoyal7/credit-card-customers). Data set was downloaded as a csv and uploaded i.e. registered as data set in the workspace."
   ]
  },
  {
   "cell_type": "code",
   "execution_count": 4,
   "metadata": {
    "gather": {
     "logged": 1598423890461
    },
    "jupyter": {
     "outputs_hidden": false,
     "source_hidden": false
    },
    "nteract": {
     "transient": {
      "deleting": false
     }
    }
   },
   "outputs": [
    {
     "data": {
      "text/html": [
       "<div>\n",
       "<style scoped>\n",
       "    .dataframe tbody tr th:only-of-type {\n",
       "        vertical-align: middle;\n",
       "    }\n",
       "\n",
       "    .dataframe tbody tr th {\n",
       "        vertical-align: top;\n",
       "    }\n",
       "\n",
       "    .dataframe thead th {\n",
       "        text-align: right;\n",
       "    }\n",
       "</style>\n",
       "<table border=\"1\" class=\"dataframe\">\n",
       "  <thead>\n",
       "    <tr style=\"text-align: right;\">\n",
       "      <th></th>\n",
       "      <th>CLIENTNUM</th>\n",
       "      <th>Customer_Age</th>\n",
       "      <th>Dependent_count</th>\n",
       "      <th>Months_on_book</th>\n",
       "      <th>Total_Relationship_Count</th>\n",
       "      <th>Months_Inactive_12_mon</th>\n",
       "      <th>Contacts_Count_12_mon</th>\n",
       "      <th>Credit_Limit</th>\n",
       "      <th>Total_Revolving_Bal</th>\n",
       "      <th>Avg_Open_To_Buy</th>\n",
       "      <th>Total_Amt_Chng_Q4_Q1</th>\n",
       "      <th>Total_Trans_Amt</th>\n",
       "      <th>Total_Trans_Ct</th>\n",
       "      <th>Total_Ct_Chng_Q4_Q1</th>\n",
       "      <th>Avg_Utilization_Ratio</th>\n",
       "      <th>Naive_Bayes_Classifier_Attrition_Flag_Card_Category_Contacts_Count_12_mon_Dependent_count_Education_Level_Months_Inactive_12_mon_1</th>\n",
       "      <th>Naive_Bayes_Classifier_Attrition_Flag_Card_Category_Contacts_Count_12_mon_Dependent_count_Education_Level_Months_Inactive_12_mon_2</th>\n",
       "    </tr>\n",
       "  </thead>\n",
       "  <tbody>\n",
       "    <tr>\n",
       "      <th>count</th>\n",
       "      <td>1.012700e+04</td>\n",
       "      <td>10127.000000</td>\n",
       "      <td>10127.000000</td>\n",
       "      <td>10127.000000</td>\n",
       "      <td>10127.000000</td>\n",
       "      <td>10127.000000</td>\n",
       "      <td>10127.000000</td>\n",
       "      <td>10127.000000</td>\n",
       "      <td>10127.000000</td>\n",
       "      <td>10127.000000</td>\n",
       "      <td>10127.000000</td>\n",
       "      <td>10127.000000</td>\n",
       "      <td>10127.000000</td>\n",
       "      <td>10127.000000</td>\n",
       "      <td>10127.000000</td>\n",
       "      <td>10127.000000</td>\n",
       "      <td>10127.000000</td>\n",
       "    </tr>\n",
       "    <tr>\n",
       "      <th>mean</th>\n",
       "      <td>7.391776e+08</td>\n",
       "      <td>46.325960</td>\n",
       "      <td>2.346203</td>\n",
       "      <td>35.928409</td>\n",
       "      <td>3.812580</td>\n",
       "      <td>2.341167</td>\n",
       "      <td>2.455317</td>\n",
       "      <td>8631.953698</td>\n",
       "      <td>1162.814061</td>\n",
       "      <td>7469.139637</td>\n",
       "      <td>0.759941</td>\n",
       "      <td>4404.086304</td>\n",
       "      <td>64.858695</td>\n",
       "      <td>0.712222</td>\n",
       "      <td>0.274894</td>\n",
       "      <td>0.159997</td>\n",
       "      <td>0.840003</td>\n",
       "    </tr>\n",
       "    <tr>\n",
       "      <th>std</th>\n",
       "      <td>3.690378e+07</td>\n",
       "      <td>8.016814</td>\n",
       "      <td>1.298908</td>\n",
       "      <td>7.986416</td>\n",
       "      <td>1.554408</td>\n",
       "      <td>1.010622</td>\n",
       "      <td>1.106225</td>\n",
       "      <td>9088.776650</td>\n",
       "      <td>814.987335</td>\n",
       "      <td>9090.685324</td>\n",
       "      <td>0.219207</td>\n",
       "      <td>3397.129254</td>\n",
       "      <td>23.472570</td>\n",
       "      <td>0.238086</td>\n",
       "      <td>0.275691</td>\n",
       "      <td>0.365301</td>\n",
       "      <td>0.365301</td>\n",
       "    </tr>\n",
       "    <tr>\n",
       "      <th>min</th>\n",
       "      <td>7.080821e+08</td>\n",
       "      <td>26.000000</td>\n",
       "      <td>0.000000</td>\n",
       "      <td>13.000000</td>\n",
       "      <td>1.000000</td>\n",
       "      <td>0.000000</td>\n",
       "      <td>0.000000</td>\n",
       "      <td>1438.300000</td>\n",
       "      <td>0.000000</td>\n",
       "      <td>3.000000</td>\n",
       "      <td>0.000000</td>\n",
       "      <td>510.000000</td>\n",
       "      <td>10.000000</td>\n",
       "      <td>0.000000</td>\n",
       "      <td>0.000000</td>\n",
       "      <td>0.000008</td>\n",
       "      <td>0.000420</td>\n",
       "    </tr>\n",
       "    <tr>\n",
       "      <th>25%</th>\n",
       "      <td>7.130368e+08</td>\n",
       "      <td>41.000000</td>\n",
       "      <td>1.000000</td>\n",
       "      <td>31.000000</td>\n",
       "      <td>3.000000</td>\n",
       "      <td>2.000000</td>\n",
       "      <td>2.000000</td>\n",
       "      <td>2555.000000</td>\n",
       "      <td>359.000000</td>\n",
       "      <td>1324.500000</td>\n",
       "      <td>0.631000</td>\n",
       "      <td>2155.500000</td>\n",
       "      <td>45.000000</td>\n",
       "      <td>0.582000</td>\n",
       "      <td>0.023000</td>\n",
       "      <td>0.000099</td>\n",
       "      <td>0.999660</td>\n",
       "    </tr>\n",
       "    <tr>\n",
       "      <th>50%</th>\n",
       "      <td>7.179264e+08</td>\n",
       "      <td>46.000000</td>\n",
       "      <td>2.000000</td>\n",
       "      <td>36.000000</td>\n",
       "      <td>4.000000</td>\n",
       "      <td>2.000000</td>\n",
       "      <td>2.000000</td>\n",
       "      <td>4549.000000</td>\n",
       "      <td>1276.000000</td>\n",
       "      <td>3474.000000</td>\n",
       "      <td>0.736000</td>\n",
       "      <td>3899.000000</td>\n",
       "      <td>67.000000</td>\n",
       "      <td>0.702000</td>\n",
       "      <td>0.176000</td>\n",
       "      <td>0.000181</td>\n",
       "      <td>0.999820</td>\n",
       "    </tr>\n",
       "    <tr>\n",
       "      <th>75%</th>\n",
       "      <td>7.731435e+08</td>\n",
       "      <td>52.000000</td>\n",
       "      <td>3.000000</td>\n",
       "      <td>40.000000</td>\n",
       "      <td>5.000000</td>\n",
       "      <td>3.000000</td>\n",
       "      <td>3.000000</td>\n",
       "      <td>11067.500000</td>\n",
       "      <td>1784.000000</td>\n",
       "      <td>9859.000000</td>\n",
       "      <td>0.859000</td>\n",
       "      <td>4741.000000</td>\n",
       "      <td>81.000000</td>\n",
       "      <td>0.818000</td>\n",
       "      <td>0.503000</td>\n",
       "      <td>0.000337</td>\n",
       "      <td>0.999900</td>\n",
       "    </tr>\n",
       "    <tr>\n",
       "      <th>max</th>\n",
       "      <td>8.283431e+08</td>\n",
       "      <td>73.000000</td>\n",
       "      <td>5.000000</td>\n",
       "      <td>56.000000</td>\n",
       "      <td>6.000000</td>\n",
       "      <td>6.000000</td>\n",
       "      <td>6.000000</td>\n",
       "      <td>34516.000000</td>\n",
       "      <td>2517.000000</td>\n",
       "      <td>34516.000000</td>\n",
       "      <td>3.397000</td>\n",
       "      <td>18484.000000</td>\n",
       "      <td>139.000000</td>\n",
       "      <td>3.714000</td>\n",
       "      <td>0.999000</td>\n",
       "      <td>0.999580</td>\n",
       "      <td>0.999990</td>\n",
       "    </tr>\n",
       "  </tbody>\n",
       "</table>\n",
       "</div>"
      ],
      "text/plain": [
       "          CLIENTNUM  Customer_Age  Dependent_count  Months_on_book  \\\n",
       "count  1.012700e+04  10127.000000     10127.000000    10127.000000   \n",
       "mean   7.391776e+08     46.325960         2.346203       35.928409   \n",
       "std    3.690378e+07      8.016814         1.298908        7.986416   \n",
       "min    7.080821e+08     26.000000         0.000000       13.000000   \n",
       "25%    7.130368e+08     41.000000         1.000000       31.000000   \n",
       "50%    7.179264e+08     46.000000         2.000000       36.000000   \n",
       "75%    7.731435e+08     52.000000         3.000000       40.000000   \n",
       "max    8.283431e+08     73.000000         5.000000       56.000000   \n",
       "\n",
       "       Total_Relationship_Count  Months_Inactive_12_mon  \\\n",
       "count              10127.000000            10127.000000   \n",
       "mean                   3.812580                2.341167   \n",
       "std                    1.554408                1.010622   \n",
       "min                    1.000000                0.000000   \n",
       "25%                    3.000000                2.000000   \n",
       "50%                    4.000000                2.000000   \n",
       "75%                    5.000000                3.000000   \n",
       "max                    6.000000                6.000000   \n",
       "\n",
       "       Contacts_Count_12_mon  Credit_Limit  Total_Revolving_Bal  \\\n",
       "count           10127.000000  10127.000000         10127.000000   \n",
       "mean                2.455317   8631.953698          1162.814061   \n",
       "std                 1.106225   9088.776650           814.987335   \n",
       "min                 0.000000   1438.300000             0.000000   \n",
       "25%                 2.000000   2555.000000           359.000000   \n",
       "50%                 2.000000   4549.000000          1276.000000   \n",
       "75%                 3.000000  11067.500000          1784.000000   \n",
       "max                 6.000000  34516.000000          2517.000000   \n",
       "\n",
       "       Avg_Open_To_Buy  Total_Amt_Chng_Q4_Q1  Total_Trans_Amt  Total_Trans_Ct  \\\n",
       "count     10127.000000          10127.000000     10127.000000    10127.000000   \n",
       "mean       7469.139637              0.759941      4404.086304       64.858695   \n",
       "std        9090.685324              0.219207      3397.129254       23.472570   \n",
       "min           3.000000              0.000000       510.000000       10.000000   \n",
       "25%        1324.500000              0.631000      2155.500000       45.000000   \n",
       "50%        3474.000000              0.736000      3899.000000       67.000000   \n",
       "75%        9859.000000              0.859000      4741.000000       81.000000   \n",
       "max       34516.000000              3.397000     18484.000000      139.000000   \n",
       "\n",
       "       Total_Ct_Chng_Q4_Q1  Avg_Utilization_Ratio  \\\n",
       "count         10127.000000           10127.000000   \n",
       "mean              0.712222               0.274894   \n",
       "std               0.238086               0.275691   \n",
       "min               0.000000               0.000000   \n",
       "25%               0.582000               0.023000   \n",
       "50%               0.702000               0.176000   \n",
       "75%               0.818000               0.503000   \n",
       "max               3.714000               0.999000   \n",
       "\n",
       "       Naive_Bayes_Classifier_Attrition_Flag_Card_Category_Contacts_Count_12_mon_Dependent_count_Education_Level_Months_Inactive_12_mon_1  \\\n",
       "count                                       10127.000000                                                                                    \n",
       "mean                                            0.159997                                                                                    \n",
       "std                                             0.365301                                                                                    \n",
       "min                                             0.000008                                                                                    \n",
       "25%                                             0.000099                                                                                    \n",
       "50%                                             0.000181                                                                                    \n",
       "75%                                             0.000337                                                                                    \n",
       "max                                             0.999580                                                                                    \n",
       "\n",
       "       Naive_Bayes_Classifier_Attrition_Flag_Card_Category_Contacts_Count_12_mon_Dependent_count_Education_Level_Months_Inactive_12_mon_2  \n",
       "count                                       10127.000000                                                                                   \n",
       "mean                                            0.840003                                                                                   \n",
       "std                                             0.365301                                                                                   \n",
       "min                                             0.000420                                                                                   \n",
       "25%                                             0.999660                                                                                   \n",
       "50%                                             0.999820                                                                                   \n",
       "75%                                             0.999900                                                                                   \n",
       "max                                             0.999990                                                                                   "
      ]
     },
     "execution_count": 4,
     "metadata": {},
     "output_type": "execute_result"
    }
   ],
   "source": [
    "dataset=Dataset.get_by_name(ws,name=\"Credit-Card-Churners\")\n",
    "run = experiment.start_logging()\n",
    "df = dataset.to_pandas_dataframe()\n",
    "df.describe()"
   ]
  },
  {
   "cell_type": "code",
   "execution_count": 5,
   "metadata": {},
   "outputs": [
    {
     "name": "stdout",
     "output_type": "stream",
     "text": [
      "/mnt/batch/tasks/shared/LS_root/mounts/clusters/compute-aml-cluster/code/Users\n"
     ]
    },
    {
     "data": {
      "text/plain": [
       "['.config',\n",
       " '.ipynb_checkpoints',\n",
       " 'automl(1).ipynb',\n",
       " 'automl(2).ipynb',\n",
       " 'automl.ipynb',\n",
       " 'conda_dependencies.yml',\n",
       " 'CreditCardChurners.csv',\n",
       " 'hyperparameter_tuning new ScriptRunConfig.ipynb',\n",
       " 'hyperparameter_tuning.ipynb',\n",
       " 'odl_user_132749',\n",
       " 'outputs',\n",
       " 'README.md',\n",
       " 'train.py',\n",
       " 'udacity-project.ipynb']"
      ]
     },
     "execution_count": 5,
     "metadata": {},
     "output_type": "execute_result"
    }
   ],
   "source": [
    "currDir=os.getcwd()\n",
    "print(currDir)\n",
    "os.listdir(currDir)"
   ]
  },
  {
   "cell_type": "markdown",
   "metadata": {},
   "source": [
    "## Create or Attach a Compute Resource"
   ]
  },
  {
   "cell_type": "code",
   "execution_count": 6,
   "metadata": {},
   "outputs": [
    {
     "name": "stdout",
     "output_type": "stream",
     "text": [
      "Found existing cluster.\n",
      "\n",
      "Running\n"
     ]
    }
   ],
   "source": [
    "compute_name = \"compute-aml-cluster\"\n",
    "\n",
    "# Check if the compute target exists\n",
    "try:\n",
    "    compute_aml_cluster = ComputeTarget(workspace=ws, name=compute_name)\n",
    "    print('Found existing cluster.')\n",
    "except ComputeTargetException:\n",
    "    # If not, create it\n",
    "    compute_config = AmlCompute.provisionibng_configuration(vm_size='STANDARD_DS12_V2',\n",
    "                                                           max_nodes=5)\n",
    "    compute_aml_cluster = ComputeTarget.create(ws, compute_name, compute_config)\n",
    "\n",
    "compute_aml_cluster.wait_for_completion(show_output=True)"
   ]
  },
  {
   "cell_type": "code",
   "execution_count": 7,
   "metadata": {},
   "outputs": [
    {
     "data": {
      "text/html": [
       "<div>\n",
       "<style scoped>\n",
       "    .dataframe tbody tr th:only-of-type {\n",
       "        vertical-align: middle;\n",
       "    }\n",
       "\n",
       "    .dataframe tbody tr th {\n",
       "        vertical-align: top;\n",
       "    }\n",
       "\n",
       "    .dataframe thead th {\n",
       "        text-align: right;\n",
       "    }\n",
       "</style>\n",
       "<table border=\"1\" class=\"dataframe\">\n",
       "  <thead>\n",
       "    <tr style=\"text-align: right;\">\n",
       "      <th></th>\n",
       "      <th>Customer_Age</th>\n",
       "      <th>Gender</th>\n",
       "      <th>Dependent_count</th>\n",
       "      <th>Education_Level</th>\n",
       "      <th>Income_Category</th>\n",
       "      <th>Months_on_book</th>\n",
       "      <th>Total_Relationship_Count</th>\n",
       "      <th>Months_Inactive_12_mon</th>\n",
       "      <th>Contacts_Count_12_mon</th>\n",
       "      <th>Credit_Limit</th>\n",
       "      <th>...</th>\n",
       "      <th>Total_Ct_Chng_Q4_Q1</th>\n",
       "      <th>Avg_Utilization_Ratio</th>\n",
       "      <th>Marital_Status_Divorced</th>\n",
       "      <th>Marital_Status_Married</th>\n",
       "      <th>Marital_Status_Single</th>\n",
       "      <th>Card_Category_Blue</th>\n",
       "      <th>Card_Category_Gold</th>\n",
       "      <th>Card_Category_Platinum</th>\n",
       "      <th>Card_Category_Silver</th>\n",
       "      <th>Attrition_Flag</th>\n",
       "    </tr>\n",
       "  </thead>\n",
       "  <tbody>\n",
       "    <tr>\n",
       "      <th>0</th>\n",
       "      <td>-0.165406</td>\n",
       "      <td>1.059956</td>\n",
       "      <td>0.503368</td>\n",
       "      <td>-0.893680</td>\n",
       "      <td>0.597300</td>\n",
       "      <td>0.384621</td>\n",
       "      <td>0.763943</td>\n",
       "      <td>-1.327136</td>\n",
       "      <td>0.492404</td>\n",
       "      <td>0.446622</td>\n",
       "      <td>...</td>\n",
       "      <td>3.834003</td>\n",
       "      <td>-0.775882</td>\n",
       "      <td>-0.282405</td>\n",
       "      <td>1.077338</td>\n",
       "      <td>-0.798507</td>\n",
       "      <td>0.270611</td>\n",
       "      <td>-0.107644</td>\n",
       "      <td>-0.044484</td>\n",
       "      <td>-0.240794</td>\n",
       "      <td>0</td>\n",
       "    </tr>\n",
       "    <tr>\n",
       "      <th>1</th>\n",
       "      <td>0.333570</td>\n",
       "      <td>-0.943436</td>\n",
       "      <td>2.043199</td>\n",
       "      <td>0.593388</td>\n",
       "      <td>-0.887628</td>\n",
       "      <td>1.010715</td>\n",
       "      <td>1.407306</td>\n",
       "      <td>-1.327136</td>\n",
       "      <td>-0.411616</td>\n",
       "      <td>-0.041367</td>\n",
       "      <td>...</td>\n",
       "      <td>12.608573</td>\n",
       "      <td>-0.616276</td>\n",
       "      <td>-0.282405</td>\n",
       "      <td>-0.928214</td>\n",
       "      <td>1.252337</td>\n",
       "      <td>0.270611</td>\n",
       "      <td>-0.107644</td>\n",
       "      <td>-0.044484</td>\n",
       "      <td>-0.240794</td>\n",
       "      <td>0</td>\n",
       "    </tr>\n",
       "    <tr>\n",
       "      <th>2</th>\n",
       "      <td>0.583058</td>\n",
       "      <td>1.059956</td>\n",
       "      <td>0.503368</td>\n",
       "      <td>0.593388</td>\n",
       "      <td>1.339764</td>\n",
       "      <td>0.008965</td>\n",
       "      <td>0.120579</td>\n",
       "      <td>-1.327136</td>\n",
       "      <td>-2.219655</td>\n",
       "      <td>-0.573698</td>\n",
       "      <td>...</td>\n",
       "      <td>6.807864</td>\n",
       "      <td>-0.997155</td>\n",
       "      <td>-0.282405</td>\n",
       "      <td>1.077338</td>\n",
       "      <td>-0.798507</td>\n",
       "      <td>0.270611</td>\n",
       "      <td>-0.107644</td>\n",
       "      <td>-0.044484</td>\n",
       "      <td>-0.240794</td>\n",
       "      <td>0</td>\n",
       "    </tr>\n",
       "    <tr>\n",
       "      <th>3</th>\n",
       "      <td>-0.789126</td>\n",
       "      <td>-0.943436</td>\n",
       "      <td>1.273283</td>\n",
       "      <td>-0.893680</td>\n",
       "      <td>-0.887628</td>\n",
       "      <td>-0.241473</td>\n",
       "      <td>-0.522785</td>\n",
       "      <td>1.641478</td>\n",
       "      <td>-1.315636</td>\n",
       "      <td>-0.585251</td>\n",
       "      <td>...</td>\n",
       "      <td>6.807864</td>\n",
       "      <td>1.759686</td>\n",
       "      <td>-0.282405</td>\n",
       "      <td>-0.928214</td>\n",
       "      <td>-0.798507</td>\n",
       "      <td>0.270611</td>\n",
       "      <td>-0.107644</td>\n",
       "      <td>-0.044484</td>\n",
       "      <td>-0.240794</td>\n",
       "      <td>0</td>\n",
       "    </tr>\n",
       "    <tr>\n",
       "      <th>4</th>\n",
       "      <td>-0.789126</td>\n",
       "      <td>1.059956</td>\n",
       "      <td>0.503368</td>\n",
       "      <td>-1.637214</td>\n",
       "      <td>0.597300</td>\n",
       "      <td>-1.869317</td>\n",
       "      <td>0.763943</td>\n",
       "      <td>-1.327136</td>\n",
       "      <td>-2.219655</td>\n",
       "      <td>-0.430877</td>\n",
       "      <td>...</td>\n",
       "      <td>7.509325</td>\n",
       "      <td>-0.997155</td>\n",
       "      <td>-0.282405</td>\n",
       "      <td>1.077338</td>\n",
       "      <td>-0.798507</td>\n",
       "      <td>0.270611</td>\n",
       "      <td>-0.107644</td>\n",
       "      <td>-0.044484</td>\n",
       "      <td>-0.240794</td>\n",
       "      <td>0</td>\n",
       "    </tr>\n",
       "  </tbody>\n",
       "</table>\n",
       "<p>5 rows × 25 columns</p>\n",
       "</div>"
      ],
      "text/plain": [
       "   Customer_Age    Gender  Dependent_count  Education_Level  Income_Category  \\\n",
       "0     -0.165406  1.059956         0.503368        -0.893680         0.597300   \n",
       "1      0.333570 -0.943436         2.043199         0.593388        -0.887628   \n",
       "2      0.583058  1.059956         0.503368         0.593388         1.339764   \n",
       "3     -0.789126 -0.943436         1.273283        -0.893680        -0.887628   \n",
       "4     -0.789126  1.059956         0.503368        -1.637214         0.597300   \n",
       "\n",
       "   Months_on_book  Total_Relationship_Count  Months_Inactive_12_mon  \\\n",
       "0        0.384621                  0.763943               -1.327136   \n",
       "1        1.010715                  1.407306               -1.327136   \n",
       "2        0.008965                  0.120579               -1.327136   \n",
       "3       -0.241473                 -0.522785                1.641478   \n",
       "4       -1.869317                  0.763943               -1.327136   \n",
       "\n",
       "   Contacts_Count_12_mon  Credit_Limit  ...  Total_Ct_Chng_Q4_Q1  \\\n",
       "0               0.492404      0.446622  ...             3.834003   \n",
       "1              -0.411616     -0.041367  ...            12.608573   \n",
       "2              -2.219655     -0.573698  ...             6.807864   \n",
       "3              -1.315636     -0.585251  ...             6.807864   \n",
       "4              -2.219655     -0.430877  ...             7.509325   \n",
       "\n",
       "   Avg_Utilization_Ratio  Marital_Status_Divorced  Marital_Status_Married  \\\n",
       "0              -0.775882                -0.282405                1.077338   \n",
       "1              -0.616276                -0.282405               -0.928214   \n",
       "2              -0.997155                -0.282405                1.077338   \n",
       "3               1.759686                -0.282405               -0.928214   \n",
       "4              -0.997155                -0.282405                1.077338   \n",
       "\n",
       "   Marital_Status_Single  Card_Category_Blue  Card_Category_Gold  \\\n",
       "0              -0.798507            0.270611           -0.107644   \n",
       "1               1.252337            0.270611           -0.107644   \n",
       "2              -0.798507            0.270611           -0.107644   \n",
       "3              -0.798507            0.270611           -0.107644   \n",
       "4              -0.798507            0.270611           -0.107644   \n",
       "\n",
       "   Card_Category_Platinum  Card_Category_Silver  Attrition_Flag  \n",
       "0               -0.044484             -0.240794               0  \n",
       "1               -0.044484             -0.240794               0  \n",
       "2               -0.044484             -0.240794               0  \n",
       "3               -0.044484             -0.240794               0  \n",
       "4               -0.044484             -0.240794               0  \n",
       "\n",
       "[5 rows x 25 columns]"
      ]
     },
     "execution_count": 7,
     "metadata": {},
     "output_type": "execute_result"
    }
   ],
   "source": [
    "from sklearn.preprocessing import OneHotEncoder, StandardScaler\n",
    "\n",
    "# Use the clean_data function to clean your data.\n",
    "#x, y = clean_data(df)\n",
    "\n",
    "def binary_encode(df, column, positive_value):\n",
    "    df = df.copy()\n",
    "    df[column] = df[column].apply(lambda x: 1 if x == positive_value else 0)\n",
    "    return df\n",
    "\n",
    "def ordinal_encode(df, column, ordering):\n",
    "    df = df.copy()\n",
    "    df[column] = df[column].apply(lambda x: ordering.index(x))\n",
    "    return df\n",
    "\n",
    "def onehot_encode(df, column, prefix):\n",
    "    df = df.copy()\n",
    "    dummies = pd.get_dummies(df[column], prefix=prefix)\n",
    "    df = pd.concat([df, dummies], axis=1)\n",
    "    df = df.drop(column, axis=1)\n",
    "    return df\n",
    "\n",
    "def pre_processing(data):\n",
    "    # Clean and one hot encode data\n",
    "    x_df = data.to_pandas_dataframe().dropna()\n",
    "\n",
    "    # Drop last two columns (unneeded)\n",
    "    x_df.drop(x_df.columns[-2:],inplace=True, axis=1)\n",
    "\n",
    "    # Drop CLIENTNUM columns\n",
    "    x_df.drop(\"CLIENTNUM\",inplace=True, axis=1)\n",
    "\n",
    "    # Encode unknown values as np.NaN\n",
    "    x_df = x_df.replace('Unknown', np.NaN)\n",
    "\n",
    "    # Fill ordinal missing values with modes (Education_Level and Income_Category columns)\n",
    "    x_df['Education_Level'] = x_df['Education_Level'].fillna('Graduate')\n",
    "    x_df['Income_Category'] = x_df['Income_Category'].fillna('Less than $40K')\n",
    "\n",
    "    # Encode binary columns\n",
    "    x_df = binary_encode(x_df, 'Attrition_Flag', positive_value='Attrited Customer')\n",
    "    x_df = binary_encode(x_df, 'Gender', positive_value='M')\n",
    "\n",
    "    # Encode ordinal columns\n",
    "    education_ordering = [\n",
    "        'Uneducated',\n",
    "        'High School',\n",
    "        'College',\n",
    "        'Graduate',\n",
    "        'Post-Graduate',\n",
    "        'Doctorate'\n",
    "    ]\n",
    "    income_ordering = [\n",
    "        'Less than $40K',\n",
    "        '$40K - $60K',\n",
    "        '$60K - $80K',\n",
    "        '$80K - $120K',\n",
    "        '$120K +'\n",
    "    ]\n",
    "\n",
    "    x_df = ordinal_encode(x_df, 'Education_Level', ordering=education_ordering)\n",
    "    x_df = ordinal_encode(x_df, 'Income_Category', ordering=income_ordering)\n",
    "\n",
    "    # Encode nominal columns\n",
    "    x_df = onehot_encode(x_df, 'Marital_Status', prefix='Marital_Status')\n",
    "    x_df = onehot_encode(x_df, 'Card_Category', prefix='Card_Category')\n",
    "\n",
    "    # Split df into X and y\n",
    "    X = x_df.drop('Attrition_Flag', axis=1).copy()\n",
    "    y = x_df['Attrition_Flag'].copy()\n",
    "\n",
    "    # Scale X with a standard scaler\n",
    "    scaler = StandardScaler()\n",
    "    X = pd.DataFrame(scaler.fit_transform(X), columns=X.columns)\n",
    "\n",
    "    return X, y\n",
    "\n",
    "x, y = pre_processing(dataset)\n",
    "\n",
    "all_data = pd.concat([x,y], axis = 1)\n",
    "all_data.head()"
   ]
  },
  {
   "cell_type": "code",
   "execution_count": 8,
   "metadata": {},
   "outputs": [
    {
     "name": "stdout",
     "output_type": "stream",
     "text": [
      "      Customer_Age    Gender  Dependent_count  Education_Level  \\\n",
      "147       1.082034  1.059956        -0.266547         0.593388   \n",
      "1985     -1.787077  1.059956        -1.806378         0.593388   \n",
      "8316     -1.412845 -0.943436         1.273283        -1.637214   \n",
      "\n",
      "      Income_Category  Months_on_book  Total_Relationship_Count  \\\n",
      "147          2.082228        1.762028                 -0.522785   \n",
      "1985        -0.887628       -1.118005                  1.407306   \n",
      "8316        -0.887628       -1.368442                 -1.166148   \n",
      "\n",
      "      Months_Inactive_12_mon  Contacts_Count_12_mon  Credit_Limit  ...  \\\n",
      "147                -0.337598              -2.219655      0.251316  ...   \n",
      "1985                0.651940               0.492404      0.066684  ...   \n",
      "8316                0.651940              -0.411616     -0.577989  ...   \n",
      "\n",
      "      Total_Ct_Chng_Q4_Q1  Avg_Utilization_Ratio  Marital_Status_Divorced  \\\n",
      "147              1.208772              -0.485688                -0.282405   \n",
      "1985            -0.983820              -0.997155                -0.282405   \n",
      "8316            -0.042938              -0.365984                -0.282405   \n",
      "\n",
      "      Marital_Status_Married  Marital_Status_Single  Card_Category_Blue  \\\n",
      "147                 1.077338              -0.798507            0.270611   \n",
      "1985               -0.928214               1.252337            0.270611   \n",
      "8316                1.077338              -0.798507            0.270611   \n",
      "\n",
      "      Card_Category_Gold  Card_Category_Platinum  Card_Category_Silver  \\\n",
      "147            -0.107644               -0.044484             -0.240794   \n",
      "1985           -0.107644               -0.044484             -0.240794   \n",
      "8316           -0.107644               -0.044484             -0.240794   \n",
      "\n",
      "      Attrition_Flag  \n",
      "147                0  \n",
      "1985               0  \n",
      "8316               0  \n",
      "\n",
      "[3 rows x 25 columns]\n",
      "      Customer_Age    Gender  Dependent_count  Education_Level  \\\n",
      "3358     -0.290150  1.059956         2.043199        -1.637214   \n",
      "9951     -0.290150 -0.943436         0.503368         0.593388   \n",
      "3848     -1.163358 -0.943436         0.503368        -0.893680   \n",
      "\n",
      "      Income_Category  Months_on_book  Total_Relationship_Count  \\\n",
      "3358         0.597300        0.384621                  0.763943   \n",
      "9951        -0.887628       -0.241473                 -1.166148   \n",
      "3848        -0.887628       -1.243223                 -0.522785   \n",
      "\n",
      "      Months_Inactive_12_mon  Contacts_Count_12_mon  Credit_Limit  ...  \\\n",
      "3358               -0.337598              -2.219655      0.814456  ...   \n",
      "9951                0.651940               0.492404      1.913338  ...   \n",
      "3848               -1.327136              -0.411616     -0.628823  ...   \n",
      "\n",
      "      Total_Ct_Chng_Q4_Q1  Avg_Utilization_Ratio  Marital_Status_Divorced  \\\n",
      "3358             0.801336              -0.634413                 3.541013   \n",
      "9951            -0.731798              -0.997155                -0.282405   \n",
      "3848            -0.937616               1.759686                -0.282405   \n",
      "\n",
      "      Marital_Status_Married  Marital_Status_Single  Card_Category_Blue  \\\n",
      "3358               -0.928214              -0.798507            0.270611   \n",
      "9951               -0.928214               1.252337            0.270611   \n",
      "3848               -0.928214               1.252337            0.270611   \n",
      "\n",
      "      Card_Category_Gold  Card_Category_Platinum  Card_Category_Silver  \\\n",
      "3358           -0.107644               -0.044484             -0.240794   \n",
      "9951           -0.107644               -0.044484             -0.240794   \n",
      "3848           -0.107644               -0.044484             -0.240794   \n",
      "\n",
      "      Attrition_Flag  \n",
      "3358               0  \n",
      "9951               1  \n",
      "3848               0  \n",
      "\n",
      "[3 rows x 25 columns]\n",
      "(8101, 25)\n",
      "(2026, 25)\n"
     ]
    }
   ],
   "source": [
    "from sklearn.model_selection import train_test_split\n",
    "\n",
    "x_train, x_test = train_test_split(all_data, test_size=0.2,random_state=0)\n",
    "# columns=x_train.columns\n",
    "print(x_train.head(3))\n",
    "print(x_test.head(3))\n",
    "print(x_train.shape)\n",
    "print(x_test.shape)\n",
    "\n",
    "if \"training\" not in os.listdir():\n",
    "    os.mkdir(\"./training\")\n",
    "\n",
    "x_train.to_csv('training/train_data.csv')\n",
    "x_test.to_csv('training/test_data.csv')\n",
    "\n",
    "# x_train.to_csv(path_or_buf='training/train_data.csv', columns=columns, header=True, index=False) \n",
    "# x_test.to_csv(path_or_buf='training/test_data.csv', columns=columns, header=True, index=False)"
   ]
  },
  {
   "cell_type": "code",
   "execution_count": 9,
   "metadata": {},
   "outputs": [
    {
     "name": "stdout",
     "output_type": "stream",
     "text": [
      "{\n",
      "  \"name\": \"workspaceblobstore\",\n",
      "  \"container_name\": \"azureml-blobstore-c1da3321-82da-4cff-8885-886668087e61\",\n",
      "  \"account_name\": \"mlstrg132749\",\n",
      "  \"protocol\": \"https\",\n",
      "  \"endpoint\": \"core.windows.net\"\n",
      "}\n",
      "Uploading an estimated of 2 files\n",
      "Target already exists. Skipping upload for data/test_data.csv\n",
      "Target already exists. Skipping upload for data/train_data.csv\n",
      "Uploaded 0 files\n"
     ]
    }
   ],
   "source": [
    "# get the datastore to upload prepared data\n",
    "datastore = ws.get_default_datastore()\n",
    "print(datastore)\n",
    "\n",
    "# upload the local file from src_dir to the target_path in datastore\n",
    "datastore.upload(src_dir='training/', target_path='data/')\n",
    "# datastore.upload_files(['trainset.csv'])\n",
    "\n",
    "# create a dataset referencing the cloud location\n",
    "train_data = TabularDatasetFactory.from_delimited_files(path = [(datastore, ('data/train_data.csv'))])"
   ]
  },
  {
   "cell_type": "markdown",
   "metadata": {},
   "source": [
    "## AutoML Configuration"
   ]
  },
  {
   "cell_type": "code",
   "execution_count": 10,
   "metadata": {
    "gather": {
     "logged": 1598429217746
    },
    "jupyter": {
     "outputs_hidden": false,
     "source_hidden": false
    },
    "nteract": {
     "transient": {
      "deleting": false
     }
    }
   },
   "outputs": [],
   "source": [
    "# TODO: Put your automl settings here\n",
    "automl_settings = {\n",
    "    \"experiment_timeout_minutes\": 30,\n",
    "    \"max_concurrent_iterations\": 10,\n",
    "    \"primary_metric\" : 'accuracy',\n",
    "    \"n_cross_validations\": 3,\n",
    "    \"max_cores_per_iteration\":-1\n",
    "}\n",
    "\n",
    "# TODO: Put your automl config here\n",
    "automl_config = AutoMLConfig(compute_target=compute_aml_cluster,\n",
    "                             task = \"classification\",\n",
    "                             training_data=train_data,\n",
    "                             label_column_name=\"Attrition_Flag\",   \n",
    "                             path = project_folder,\n",
    "                             enable_early_stopping= True,\n",
    "                             debug_log = \"automl_errors.log\",\n",
    "                             **automl_settings\n",
    ")"
   ]
  },
  {
   "cell_type": "markdown",
   "metadata": {},
   "source": [
    "## Submit Run"
   ]
  },
  {
   "cell_type": "code",
   "execution_count": 11,
   "metadata": {
    "gather": {
     "logged": 1598431107951
    },
    "jupyter": {
     "outputs_hidden": false,
     "source_hidden": false
    },
    "nteract": {
     "transient": {
      "deleting": false
     }
    }
   },
   "outputs": [
    {
     "name": "stdout",
     "output_type": "stream",
     "text": [
      "Running on remote.\n",
      "No run_configuration provided, running on compute-aml-cluster with default configuration\n",
      "Running on remote compute: compute-aml-cluster\n",
      "Parent Run ID: AutoML_c1e7d13b-87cd-4132-b764-99497c57aaeb\n",
      "\n",
      "Current status: FeaturesGeneration. Generating features for the dataset.\n",
      "Current status: DatasetBalancing. Generating individually featurized CV splits.\n",
      "Current status: ModelSelection. Beginning model selection.\n",
      "\n",
      "****************************************************************************************************\n",
      "DATA GUARDRAILS: \n",
      "\n",
      "TYPE:         Class balancing detection\n",
      "STATUS:       ALERTED\n",
      "DESCRIPTION:  To decrease model bias, please cancel the current run and fix balancing problem.\n",
      "              Learn more about imbalanced data: https://aka.ms/AutomatedMLImbalancedData\n",
      "DETAILS:      Imbalanced data can lead to a falsely perceived positive effect of a model's accuracy because the input data has bias towards one class.\n",
      "+---------------------------------+---------------------------------+--------------------------------------+\n",
      "|Size of the smallest class       |Name/Label of the smallest class |Number of samples in the training data|\n",
      "+=================================+=================================+======================================+\n",
      "|1318                             |1                                |8101                                  |\n",
      "+---------------------------------+---------------------------------+--------------------------------------+\n",
      "\n",
      "****************************************************************************************************\n",
      "\n",
      "TYPE:         Missing feature values imputation\n",
      "STATUS:       PASSED\n",
      "DESCRIPTION:  No feature missing values were detected in the training data.\n",
      "              Learn more about missing value imputation: https://aka.ms/AutomatedMLFeaturization\n",
      "\n",
      "****************************************************************************************************\n",
      "\n",
      "TYPE:         High cardinality feature detection\n",
      "STATUS:       PASSED\n",
      "DESCRIPTION:  Your inputs were analyzed, and no high cardinality features were detected.\n",
      "              Learn more about high cardinality feature handling: https://aka.ms/AutomatedMLFeaturization\n",
      "\n",
      "****************************************************************************************************\n",
      "\n",
      "****************************************************************************************************\n",
      "ITERATION: The iteration being evaluated.\n",
      "PIPELINE: A summary description of the pipeline being evaluated.\n",
      "DURATION: Time taken for the current iteration.\n",
      "METRIC: The result of computing score on the fitted pipeline.\n",
      "BEST: The best observed score thus far.\n",
      "****************************************************************************************************\n",
      "\n",
      " ITERATION   PIPELINE                                       DURATION      METRIC      BEST\n",
      "         2   MinMaxScaler RandomForest                      0:00:50       0.9235    0.9235\n",
      "         3   MinMaxScaler RandomForest                      0:00:52       0.9124    0.9235\n",
      "         1   MaxAbsScaler XGBoostClassifier                 0:01:00       0.9853    0.9853\n",
      "         4   MinMaxScaler RandomForest                      0:01:01       0.9401    0.9853\n",
      "         5   StandardScalerWrapper XGBoostClassifier        0:01:01       0.9764    0.9853\n",
      "         8   SparseNormalizer RandomForest                  0:01:04       0.9279    0.9853\n",
      "         0   MaxAbsScaler LightGBM                          0:01:36       0.9874    0.9874\n",
      "         6   SparseNormalizer XGBoostClassifier             0:01:33       0.9715    0.9874\n",
      "         7   StandardScalerWrapper LightGBM                 0:01:38       0.9799    0.9874\n",
      "         9   RobustScaler LightGBM                          0:01:34       0.9522    0.9874\n",
      "        10   SparseNormalizer LightGBM                      0:01:01       0.9662    0.9874\n",
      "        11   SparseNormalizer XGBoostClassifier             0:00:54       0.9740    0.9874\n",
      "        13   MaxAbsScaler LogisticRegression                0:00:50       0.9263    0.9874\n",
      "        15   SparseNormalizer XGBoostClassifier             0:00:52       0.9773    0.9874\n",
      "        14   SparseNormalizer XGBoostClassifier             0:01:01       0.9788    0.9874\n",
      "        12   SparseNormalizer XGBoostClassifier             0:01:30       0.9769    0.9874\n",
      "        17   SparseNormalizer XGBoostClassifier             0:01:03       0.9700    0.9874\n",
      "        19   SparseNormalizer XGBoostClassifier             0:00:51       0.9780    0.9874\n",
      "        16   SparseNormalizer XGBoostClassifier             0:01:03       0.9768    0.9874\n",
      "        18   SparseNormalizer XGBoostClassifier             0:00:42       0.9761    0.9874\n",
      "        20   RobustScaler RandomForest                      0:00:47       0.9037    0.9874\n",
      "        21   StandardScalerWrapper LightGBM                 0:00:47       0.8873    0.9874\n",
      "        22   SparseNormalizer XGBoostClassifier             0:01:20       0.9777    0.9874\n",
      "        23   StandardScalerWrapper LightGBM                 0:01:12       0.9146    0.9874\n",
      "        25   StandardScalerWrapper LightGBM                 0:00:53       0.8373    0.9874\n",
      "        29   SparseNormalizer LightGBM                      0:00:53       0.9470    0.9874\n",
      "        27   SparseNormalizer XGBoostClassifier             0:00:55       0.9686    0.9874\n",
      "        30   StandardScalerWrapper LightGBM                 0:00:42       0.9110    0.9874\n",
      "        24   SparseNormalizer XGBoostClassifier             0:02:09       0.9753    0.9874\n",
      "        26   SparseNormalizer XGBoostClassifier             0:01:40       0.9806    0.9874\n",
      "        31   SparseNormalizer XGBoostClassifier             0:01:12       0.9701    0.9874\n",
      "        28   SparseNormalizer XGBoostClassifier             0:01:42       0.9728    0.9874\n",
      "        32   MaxAbsScaler LightGBM                          0:00:49       0.9465    0.9874\n",
      "        33   SparseNormalizer XGBoostClassifier             0:00:46       0.9703    0.9874\n",
      "        34   SparseNormalizer XGBoostClassifier             0:00:46       0.9667    0.9874\n",
      "        36   MinMaxScaler RandomForest                      0:00:49       0.9217    0.9874\n",
      "        37   SparseNormalizer XGBoostClassifier             0:00:45       0.9648    0.9874\n",
      "        35   MinMaxScaler LightGBM                          0:00:56       0.9267    0.9874\n",
      "        38   StandardScalerWrapper XGBoostClassifier        0:00:55       0.9827    0.9874\n",
      "        40   RobustScaler RandomForest                      0:00:48       0.9078    0.9874\n",
      "        39   StandardScalerWrapper LightGBM                 0:00:59       0.9679    0.9874\n",
      "        41   SparseNormalizer XGBoostClassifier             0:00:52          nan    0.9874\n",
      "        42   StandardScalerWrapper XGBoostClassifier        0:00:35       0.9822    0.9874\n",
      "        43   SparseNormalizer XGBoostClassifier             0:00:53          nan    0.9874\n",
      "        44   SparseNormalizer XGBoostClassifier             0:00:48          nan    0.9874\n",
      "        46   SparseNormalizer XGBoostClassifier             0:00:34          nan    0.9874\n",
      "        47   SparseNormalizer XGBoostClassifier             0:00:29          nan    0.9874\n",
      "        45   MaxAbsScaler LightGBM                          0:03:47          nan    0.9874\n",
      "        48    VotingEnsemble                                0:01:24       0.9885    0.9885\n",
      "        49    StackEnsemble                                 0:01:29       0.9868    0.9885\n"
     ]
    }
   ],
   "source": [
    "remote_run = experiment.submit(automl_config, show_output=True)"
   ]
  },
  {
   "cell_type": "markdown",
   "metadata": {},
   "source": [
    "## Run Details"
   ]
  },
  {
   "cell_type": "code",
   "execution_count": 12,
   "metadata": {},
   "outputs": [
    {
     "data": {
      "text/html": [
       "<table style=\"width:100%\"><tr><th>Experiment</th><th>Id</th><th>Type</th><th>Status</th><th>Details Page</th><th>Docs Page</th></tr><tr><td>automl-experiment</td><td>AutoML_c1e7d13b-87cd-4132-b764-99497c57aaeb</td><td>automl</td><td>Completed</td><td><a href=\"https://ml.azure.com/experiments/automl-experiment/runs/AutoML_c1e7d13b-87cd-4132-b764-99497c57aaeb?wsid=/subscriptions/976ee174-3882-4721-b90a-b5fef6b72f24/resourcegroups/aml-quickstarts-132749/workspaces/quick-starts-ws-132749\" target=\"_blank\" rel=\"noopener\">Link to Azure Machine Learning studio</a></td><td><a href=\"https://docs.microsoft.com/en-us/python/api/overview/azure/ml/intro?view=azure-ml-py\" target=\"_blank\" rel=\"noopener\">Link to Documentation</a></td></tr></table>"
      ],
      "text/plain": [
       "Run(Experiment: automl-experiment,\n",
       "Id: AutoML_c1e7d13b-87cd-4132-b764-99497c57aaeb,\n",
       "Type: automl,\n",
       "Status: Completed)"
      ]
     },
     "execution_count": 12,
     "metadata": {},
     "output_type": "execute_result"
    }
   ],
   "source": [
    "remote_run"
   ]
  },
  {
   "cell_type": "code",
   "execution_count": 13,
   "metadata": {
    "gather": {
     "logged": 1598431121770
    },
    "jupyter": {
     "outputs_hidden": false,
     "source_hidden": false
    },
    "nteract": {
     "transient": {
      "deleting": false
     }
    }
   },
   "outputs": [
    {
     "data": {
      "application/vnd.jupyter.widget-view+json": {
       "model_id": "750f731182a042ddbdb71da9d02e68d6",
       "version_major": 2,
       "version_minor": 0
      },
      "text/plain": [
       "_AutoMLWidget(widget_settings={'childWidgetDisplay': 'popup', 'send_telemetry': False, 'log_level': 'INFO', 's…"
      ]
     },
     "metadata": {},
     "output_type": "display_data"
    },
    {
     "data": {
      "application/aml.mini.widget.v1": "{\"status\": \"Completed\", \"workbench_run_details_uri\": \"https://ml.azure.com/experiments/automl-experiment/runs/AutoML_c1e7d13b-87cd-4132-b764-99497c57aaeb?wsid=/subscriptions/976ee174-3882-4721-b90a-b5fef6b72f24/resourcegroups/aml-quickstarts-132749/workspaces/quick-starts-ws-132749\", \"run_id\": \"AutoML_c1e7d13b-87cd-4132-b764-99497c57aaeb\", \"run_properties\": {\"run_id\": \"AutoML_c1e7d13b-87cd-4132-b764-99497c57aaeb\", \"created_utc\": \"2021-01-01T12:09:33.18337Z\", \"properties\": {\"num_iterations\": \"1000\", \"training_type\": \"TrainFull\", \"acquisition_function\": \"EI\", \"primary_metric\": \"accuracy\", \"train_split\": \"0\", \"acquisition_parameter\": \"0\", \"num_cross_validation\": \"3\", \"target\": \"compute-aml-cluster\", \"AMLSettingsJsonString\": \"{\\\"path\\\":null,\\\"name\\\":\\\"automl-experiment\\\",\\\"subscription_id\\\":\\\"976ee174-3882-4721-b90a-b5fef6b72f24\\\",\\\"resource_group\\\":\\\"aml-quickstarts-132749\\\",\\\"workspace_name\\\":\\\"quick-starts-ws-132749\\\",\\\"region\\\":\\\"southcentralus\\\",\\\"compute_target\\\":\\\"compute-aml-cluster\\\",\\\"spark_service\\\":null,\\\"azure_service\\\":\\\"remote\\\",\\\"many_models\\\":false,\\\"pipeline_fetch_max_batch_size\\\":1,\\\"iterations\\\":1000,\\\"primary_metric\\\":\\\"accuracy\\\",\\\"task_type\\\":\\\"classification\\\",\\\"data_script\\\":null,\\\"validation_size\\\":0.0,\\\"n_cross_validations\\\":3,\\\"y_min\\\":null,\\\"y_max\\\":null,\\\"num_classes\\\":null,\\\"featurization\\\":\\\"auto\\\",\\\"_ignore_package_version_incompatibilities\\\":false,\\\"is_timeseries\\\":false,\\\"max_cores_per_iteration\\\":-1,\\\"max_concurrent_iterations\\\":10,\\\"iteration_timeout_minutes\\\":null,\\\"mem_in_mb\\\":null,\\\"enforce_time_on_windows\\\":false,\\\"experiment_timeout_minutes\\\":30,\\\"experiment_exit_score\\\":null,\\\"whitelist_models\\\":null,\\\"blacklist_algos\\\":[\\\"TensorFlowLinearClassifier\\\",\\\"TensorFlowDNN\\\"],\\\"supported_models\\\":[\\\"LinearSVM\\\",\\\"AveragedPerceptronClassifier\\\",\\\"LightGBM\\\",\\\"KNN\\\",\\\"TensorFlowDNN\\\",\\\"LogisticRegression\\\",\\\"BernoulliNaiveBayes\\\",\\\"DecisionTree\\\",\\\"GradientBoosting\\\",\\\"SVM\\\",\\\"TensorFlowLinearClassifier\\\",\\\"ExtremeRandomTrees\\\",\\\"SGD\\\",\\\"RandomForest\\\",\\\"XGBoostClassifier\\\",\\\"MultinomialNaiveBayes\\\"],\\\"auto_blacklist\\\":true,\\\"blacklist_samples_reached\\\":false,\\\"exclude_nan_labels\\\":true,\\\"verbosity\\\":20,\\\"_debug_log\\\":\\\"azureml_automl.log\\\",\\\"show_warnings\\\":false,\\\"model_explainability\\\":true,\\\"service_url\\\":null,\\\"sdk_url\\\":null,\\\"sdk_packages\\\":null,\\\"enable_onnx_compatible_models\\\":false,\\\"enable_split_onnx_featurizer_estimator_models\\\":false,\\\"vm_type\\\":\\\"STANDARD_D13_V2\\\",\\\"telemetry_verbosity\\\":20,\\\"send_telemetry\\\":true,\\\"enable_dnn\\\":false,\\\"scenario\\\":\\\"SDK-1.13.0\\\",\\\"environment_label\\\":null,\\\"force_text_dnn\\\":false,\\\"enable_feature_sweeping\\\":true,\\\"enable_early_stopping\\\":true,\\\"early_stopping_n_iters\\\":10,\\\"metrics\\\":null,\\\"enable_ensembling\\\":true,\\\"enable_stack_ensembling\\\":true,\\\"ensemble_iterations\\\":15,\\\"enable_tf\\\":false,\\\"enable_subsampling\\\":null,\\\"subsample_seed\\\":null,\\\"enable_nimbusml\\\":false,\\\"enable_streaming\\\":false,\\\"force_streaming\\\":false,\\\"track_child_runs\\\":true,\\\"allowed_private_models\\\":[],\\\"label_column_name\\\":\\\"Attrition_Flag\\\",\\\"weight_column_name\\\":null,\\\"cv_split_column_names\\\":null,\\\"enable_local_managed\\\":false,\\\"_local_managed_run_id\\\":null,\\\"cost_mode\\\":1,\\\"lag_length\\\":0,\\\"metric_operation\\\":\\\"maximize\\\",\\\"preprocess\\\":true}\", \"DataPrepJsonString\": \"{\\\\\\\"training_data\\\\\\\": \\\\\\\"{\\\\\\\\\\\\\\\"blocks\\\\\\\\\\\\\\\": [{\\\\\\\\\\\\\\\"id\\\\\\\\\\\\\\\": \\\\\\\\\\\\\\\"50a08576-ade0-44d8-baa3-514fd7ebdc9d\\\\\\\\\\\\\\\", \\\\\\\\\\\\\\\"type\\\\\\\\\\\\\\\": \\\\\\\\\\\\\\\"Microsoft.DPrep.GetDatastoreFilesBlock\\\\\\\\\\\\\\\", \\\\\\\\\\\\\\\"arguments\\\\\\\\\\\\\\\": {\\\\\\\\\\\\\\\"datastores\\\\\\\\\\\\\\\": [{\\\\\\\\\\\\\\\"datastoreName\\\\\\\\\\\\\\\": \\\\\\\\\\\\\\\"workspaceblobstore\\\\\\\\\\\\\\\", \\\\\\\\\\\\\\\"path\\\\\\\\\\\\\\\": \\\\\\\\\\\\\\\"data/train_data.csv\\\\\\\\\\\\\\\", \\\\\\\\\\\\\\\"resourceGroup\\\\\\\\\\\\\\\": \\\\\\\\\\\\\\\"aml-quickstarts-132749\\\\\\\\\\\\\\\", \\\\\\\\\\\\\\\"subscription\\\\\\\\\\\\\\\": \\\\\\\\\\\\\\\"976ee174-3882-4721-b90a-b5fef6b72f24\\\\\\\\\\\\\\\", \\\\\\\\\\\\\\\"workspaceName\\\\\\\\\\\\\\\": \\\\\\\\\\\\\\\"quick-starts-ws-132749\\\\\\\\\\\\\\\"}]}, \\\\\\\\\\\\\\\"localData\\\\\\\\\\\\\\\": {}, \\\\\\\\\\\\\\\"isEnabled\\\\\\\\\\\\\\\": true, \\\\\\\\\\\\\\\"name\\\\\\\\\\\\\\\": null, \\\\\\\\\\\\\\\"annotation\\\\\\\\\\\\\\\": null}, {\\\\\\\\\\\\\\\"id\\\\\\\\\\\\\\\": \\\\\\\\\\\\\\\"6bbfc8ef-6f27-4660-9b97-1d96cd6e759c\\\\\\\\\\\\\\\", \\\\\\\\\\\\\\\"type\\\\\\\\\\\\\\\": \\\\\\\\\\\\\\\"Microsoft.DPrep.ParseDelimitedBlock\\\\\\\\\\\\\\\", \\\\\\\\\\\\\\\"arguments\\\\\\\\\\\\\\\": {\\\\\\\\\\\\\\\"columnHeadersMode\\\\\\\\\\\\\\\": 3, \\\\\\\\\\\\\\\"fileEncoding\\\\\\\\\\\\\\\": 0, \\\\\\\\\\\\\\\"handleQuotedLineBreaks\\\\\\\\\\\\\\\": false, \\\\\\\\\\\\\\\"preview\\\\\\\\\\\\\\\": false, \\\\\\\\\\\\\\\"separator\\\\\\\\\\\\\\\": \\\\\\\\\\\\\\\",\\\\\\\\\\\\\\\", \\\\\\\\\\\\\\\"skipRows\\\\\\\\\\\\\\\": 0, \\\\\\\\\\\\\\\"skipRowsMode\\\\\\\\\\\\\\\": 0}, \\\\\\\\\\\\\\\"localData\\\\\\\\\\\\\\\": {}, \\\\\\\\\\\\\\\"isEnabled\\\\\\\\\\\\\\\": true, \\\\\\\\\\\\\\\"name\\\\\\\\\\\\\\\": null, \\\\\\\\\\\\\\\"annotation\\\\\\\\\\\\\\\": null}, {\\\\\\\\\\\\\\\"id\\\\\\\\\\\\\\\": \\\\\\\\\\\\\\\"f4f5bb1f-a8a6-48ec-a734-bfbeb128d9fc\\\\\\\\\\\\\\\", \\\\\\\\\\\\\\\"type\\\\\\\\\\\\\\\": \\\\\\\\\\\\\\\"Microsoft.DPrep.DropColumnsBlock\\\\\\\\\\\\\\\", \\\\\\\\\\\\\\\"arguments\\\\\\\\\\\\\\\": {\\\\\\\\\\\\\\\"columns\\\\\\\\\\\\\\\": {\\\\\\\\\\\\\\\"type\\\\\\\\\\\\\\\": 0, \\\\\\\\\\\\\\\"details\\\\\\\\\\\\\\\": {\\\\\\\\\\\\\\\"selectedColumns\\\\\\\\\\\\\\\": [\\\\\\\\\\\\\\\"Path\\\\\\\\\\\\\\\"]}}}, \\\\\\\\\\\\\\\"localData\\\\\\\\\\\\\\\": {}, \\\\\\\\\\\\\\\"isEnabled\\\\\\\\\\\\\\\": true, \\\\\\\\\\\\\\\"name\\\\\\\\\\\\\\\": null, \\\\\\\\\\\\\\\"annotation\\\\\\\\\\\\\\\": null}, {\\\\\\\\\\\\\\\"id\\\\\\\\\\\\\\\": \\\\\\\\\\\\\\\"617dd092-b88c-40cd-a472-c60a28c846bc\\\\\\\\\\\\\\\", \\\\\\\\\\\\\\\"type\\\\\\\\\\\\\\\": \\\\\\\\\\\\\\\"Microsoft.DPrep.SetColumnTypesBlock\\\\\\\\\\\\\\\", \\\\\\\\\\\\\\\"arguments\\\\\\\\\\\\\\\": {\\\\\\\\\\\\\\\"columnConversion\\\\\\\\\\\\\\\": [{\\\\\\\\\\\\\\\"column\\\\\\\\\\\\\\\": {\\\\\\\\\\\\\\\"type\\\\\\\\\\\\\\\": 2, \\\\\\\\\\\\\\\"details\\\\\\\\\\\\\\\": {\\\\\\\\\\\\\\\"selectedColumn\\\\\\\\\\\\\\\": \\\\\\\\\\\\\\\"Column1\\\\\\\\\\\\\\\"}}, \\\\\\\\\\\\\\\"typeProperty\\\\\\\\\\\\\\\": 2}, {\\\\\\\\\\\\\\\"column\\\\\\\\\\\\\\\": {\\\\\\\\\\\\\\\"type\\\\\\\\\\\\\\\": 2, \\\\\\\\\\\\\\\"details\\\\\\\\\\\\\\\": {\\\\\\\\\\\\\\\"selectedColumn\\\\\\\\\\\\\\\": \\\\\\\\\\\\\\\"Customer_Age\\\\\\\\\\\\\\\"}}, \\\\\\\\\\\\\\\"typeProperty\\\\\\\\\\\\\\\": 3}, {\\\\\\\\\\\\\\\"column\\\\\\\\\\\\\\\": {\\\\\\\\\\\\\\\"type\\\\\\\\\\\\\\\": 2, \\\\\\\\\\\\\\\"details\\\\\\\\\\\\\\\": {\\\\\\\\\\\\\\\"selectedColumn\\\\\\\\\\\\\\\": \\\\\\\\\\\\\\\"Gender\\\\\\\\\\\\\\\"}}, \\\\\\\\\\\\\\\"typeProperty\\\\\\\\\\\\\\\": 3}, {\\\\\\\\\\\\\\\"column\\\\\\\\\\\\\\\": {\\\\\\\\\\\\\\\"type\\\\\\\\\\\\\\\": 2, \\\\\\\\\\\\\\\"details\\\\\\\\\\\\\\\": {\\\\\\\\\\\\\\\"selectedColumn\\\\\\\\\\\\\\\": \\\\\\\\\\\\\\\"Dependent_count\\\\\\\\\\\\\\\"}}, \\\\\\\\\\\\\\\"typeProperty\\\\\\\\\\\\\\\": 3}, {\\\\\\\\\\\\\\\"column\\\\\\\\\\\\\\\": {\\\\\\\\\\\\\\\"type\\\\\\\\\\\\\\\": 2, \\\\\\\\\\\\\\\"details\\\\\\\\\\\\\\\": {\\\\\\\\\\\\\\\"selectedColumn\\\\\\\\\\\\\\\": \\\\\\\\\\\\\\\"Education_Level\\\\\\\\\\\\\\\"}}, \\\\\\\\\\\\\\\"typeProperty\\\\\\\\\\\\\\\": 3}, {\\\\\\\\\\\\\\\"column\\\\\\\\\\\\\\\": {\\\\\\\\\\\\\\\"type\\\\\\\\\\\\\\\": 2, \\\\\\\\\\\\\\\"details\\\\\\\\\\\\\\\": {\\\\\\\\\\\\\\\"selectedColumn\\\\\\\\\\\\\\\": \\\\\\\\\\\\\\\"Income_Category\\\\\\\\\\\\\\\"}}, \\\\\\\\\\\\\\\"typeProperty\\\\\\\\\\\\\\\": 3}, {\\\\\\\\\\\\\\\"column\\\\\\\\\\\\\\\": {\\\\\\\\\\\\\\\"type\\\\\\\\\\\\\\\": 2, \\\\\\\\\\\\\\\"details\\\\\\\\\\\\\\\": {\\\\\\\\\\\\\\\"selectedColumn\\\\\\\\\\\\\\\": \\\\\\\\\\\\\\\"Months_on_book\\\\\\\\\\\\\\\"}}, \\\\\\\\\\\\\\\"typeProperty\\\\\\\\\\\\\\\": 3}, {\\\\\\\\\\\\\\\"column\\\\\\\\\\\\\\\": {\\\\\\\\\\\\\\\"type\\\\\\\\\\\\\\\": 2, \\\\\\\\\\\\\\\"details\\\\\\\\\\\\\\\": {\\\\\\\\\\\\\\\"selectedColumn\\\\\\\\\\\\\\\": \\\\\\\\\\\\\\\"Total_Relationship_Count\\\\\\\\\\\\\\\"}}, \\\\\\\\\\\\\\\"typeProperty\\\\\\\\\\\\\\\": 3}, {\\\\\\\\\\\\\\\"column\\\\\\\\\\\\\\\": {\\\\\\\\\\\\\\\"type\\\\\\\\\\\\\\\": 2, \\\\\\\\\\\\\\\"details\\\\\\\\\\\\\\\": {\\\\\\\\\\\\\\\"selectedColumn\\\\\\\\\\\\\\\": \\\\\\\\\\\\\\\"Months_Inactive_12_mon\\\\\\\\\\\\\\\"}}, \\\\\\\\\\\\\\\"typeProperty\\\\\\\\\\\\\\\": 3}, {\\\\\\\\\\\\\\\"column\\\\\\\\\\\\\\\": {\\\\\\\\\\\\\\\"type\\\\\\\\\\\\\\\": 2, \\\\\\\\\\\\\\\"details\\\\\\\\\\\\\\\": {\\\\\\\\\\\\\\\"selectedColumn\\\\\\\\\\\\\\\": \\\\\\\\\\\\\\\"Contacts_Count_12_mon\\\\\\\\\\\\\\\"}}, \\\\\\\\\\\\\\\"typeProperty\\\\\\\\\\\\\\\": 3}, {\\\\\\\\\\\\\\\"column\\\\\\\\\\\\\\\": {\\\\\\\\\\\\\\\"type\\\\\\\\\\\\\\\": 2, \\\\\\\\\\\\\\\"details\\\\\\\\\\\\\\\": {\\\\\\\\\\\\\\\"selectedColumn\\\\\\\\\\\\\\\": \\\\\\\\\\\\\\\"Credit_Limit\\\\\\\\\\\\\\\"}}, \\\\\\\\\\\\\\\"typeProperty\\\\\\\\\\\\\\\": 3}, {\\\\\\\\\\\\\\\"column\\\\\\\\\\\\\\\": {\\\\\\\\\\\\\\\"type\\\\\\\\\\\\\\\": 2, \\\\\\\\\\\\\\\"details\\\\\\\\\\\\\\\": {\\\\\\\\\\\\\\\"selectedColumn\\\\\\\\\\\\\\\": \\\\\\\\\\\\\\\"Total_Revolving_Bal\\\\\\\\\\\\\\\"}}, \\\\\\\\\\\\\\\"typeProperty\\\\\\\\\\\\\\\": 3}, {\\\\\\\\\\\\\\\"column\\\\\\\\\\\\\\\": {\\\\\\\\\\\\\\\"type\\\\\\\\\\\\\\\": 2, \\\\\\\\\\\\\\\"details\\\\\\\\\\\\\\\": {\\\\\\\\\\\\\\\"selectedColumn\\\\\\\\\\\\\\\": \\\\\\\\\\\\\\\"Avg_Open_To_Buy\\\\\\\\\\\\\\\"}}, \\\\\\\\\\\\\\\"typeProperty\\\\\\\\\\\\\\\": 3}, {\\\\\\\\\\\\\\\"column\\\\\\\\\\\\\\\": {\\\\\\\\\\\\\\\"type\\\\\\\\\\\\\\\": 2, \\\\\\\\\\\\\\\"details\\\\\\\\\\\\\\\": {\\\\\\\\\\\\\\\"selectedColumn\\\\\\\\\\\\\\\": \\\\\\\\\\\\\\\"Total_Amt_Chng_Q4_Q1\\\\\\\\\\\\\\\"}}, \\\\\\\\\\\\\\\"typeProperty\\\\\\\\\\\\\\\": 3}, {\\\\\\\\\\\\\\\"column\\\\\\\\\\\\\\\": {\\\\\\\\\\\\\\\"type\\\\\\\\\\\\\\\": 2, \\\\\\\\\\\\\\\"details\\\\\\\\\\\\\\\": {\\\\\\\\\\\\\\\"selectedColumn\\\\\\\\\\\\\\\": \\\\\\\\\\\\\\\"Total_Trans_Amt\\\\\\\\\\\\\\\"}}, \\\\\\\\\\\\\\\"typeProperty\\\\\\\\\\\\\\\": 3}, {\\\\\\\\\\\\\\\"column\\\\\\\\\\\\\\\": {\\\\\\\\\\\\\\\"type\\\\\\\\\\\\\\\": 2, \\\\\\\\\\\\\\\"details\\\\\\\\\\\\\\\": {\\\\\\\\\\\\\\\"selectedColumn\\\\\\\\\\\\\\\": \\\\\\\\\\\\\\\"Total_Trans_Ct\\\\\\\\\\\\\\\"}}, \\\\\\\\\\\\\\\"typeProperty\\\\\\\\\\\\\\\": 3}, {\\\\\\\\\\\\\\\"column\\\\\\\\\\\\\\\": {\\\\\\\\\\\\\\\"type\\\\\\\\\\\\\\\": 2, \\\\\\\\\\\\\\\"details\\\\\\\\\\\\\\\": {\\\\\\\\\\\\\\\"selectedColumn\\\\\\\\\\\\\\\": \\\\\\\\\\\\\\\"Total_Ct_Chng_Q4_Q1\\\\\\\\\\\\\\\"}}, \\\\\\\\\\\\\\\"typeProperty\\\\\\\\\\\\\\\": 3}, {\\\\\\\\\\\\\\\"column\\\\\\\\\\\\\\\": {\\\\\\\\\\\\\\\"type\\\\\\\\\\\\\\\": 2, \\\\\\\\\\\\\\\"details\\\\\\\\\\\\\\\": {\\\\\\\\\\\\\\\"selectedColumn\\\\\\\\\\\\\\\": \\\\\\\\\\\\\\\"Avg_Utilization_Ratio\\\\\\\\\\\\\\\"}}, \\\\\\\\\\\\\\\"typeProperty\\\\\\\\\\\\\\\": 3}, {\\\\\\\\\\\\\\\"column\\\\\\\\\\\\\\\": {\\\\\\\\\\\\\\\"type\\\\\\\\\\\\\\\": 2, \\\\\\\\\\\\\\\"details\\\\\\\\\\\\\\\": {\\\\\\\\\\\\\\\"selectedColumn\\\\\\\\\\\\\\\": \\\\\\\\\\\\\\\"Marital_Status_Divorced\\\\\\\\\\\\\\\"}}, \\\\\\\\\\\\\\\"typeProperty\\\\\\\\\\\\\\\": 3}, {\\\\\\\\\\\\\\\"column\\\\\\\\\\\\\\\": {\\\\\\\\\\\\\\\"type\\\\\\\\\\\\\\\": 2, \\\\\\\\\\\\\\\"details\\\\\\\\\\\\\\\": {\\\\\\\\\\\\\\\"selectedColumn\\\\\\\\\\\\\\\": \\\\\\\\\\\\\\\"Marital_Status_Married\\\\\\\\\\\\\\\"}}, \\\\\\\\\\\\\\\"typeProperty\\\\\\\\\\\\\\\": 3}, {\\\\\\\\\\\\\\\"column\\\\\\\\\\\\\\\": {\\\\\\\\\\\\\\\"type\\\\\\\\\\\\\\\": 2, \\\\\\\\\\\\\\\"details\\\\\\\\\\\\\\\": {\\\\\\\\\\\\\\\"selectedColumn\\\\\\\\\\\\\\\": \\\\\\\\\\\\\\\"Marital_Status_Single\\\\\\\\\\\\\\\"}}, \\\\\\\\\\\\\\\"typeProperty\\\\\\\\\\\\\\\": 3}, {\\\\\\\\\\\\\\\"column\\\\\\\\\\\\\\\": {\\\\\\\\\\\\\\\"type\\\\\\\\\\\\\\\": 2, \\\\\\\\\\\\\\\"details\\\\\\\\\\\\\\\": {\\\\\\\\\\\\\\\"selectedColumn\\\\\\\\\\\\\\\": \\\\\\\\\\\\\\\"Card_Category_Blue\\\\\\\\\\\\\\\"}}, \\\\\\\\\\\\\\\"typeProperty\\\\\\\\\\\\\\\": 3}, {\\\\\\\\\\\\\\\"column\\\\\\\\\\\\\\\": {\\\\\\\\\\\\\\\"type\\\\\\\\\\\\\\\": 2, \\\\\\\\\\\\\\\"details\\\\\\\\\\\\\\\": {\\\\\\\\\\\\\\\"selectedColumn\\\\\\\\\\\\\\\": \\\\\\\\\\\\\\\"Card_Category_Gold\\\\\\\\\\\\\\\"}}, \\\\\\\\\\\\\\\"typeProperty\\\\\\\\\\\\\\\": 3}, {\\\\\\\\\\\\\\\"column\\\\\\\\\\\\\\\": {\\\\\\\\\\\\\\\"type\\\\\\\\\\\\\\\": 2, \\\\\\\\\\\\\\\"details\\\\\\\\\\\\\\\": {\\\\\\\\\\\\\\\"selectedColumn\\\\\\\\\\\\\\\": \\\\\\\\\\\\\\\"Card_Category_Platinum\\\\\\\\\\\\\\\"}}, \\\\\\\\\\\\\\\"typeProperty\\\\\\\\\\\\\\\": 3}, {\\\\\\\\\\\\\\\"column\\\\\\\\\\\\\\\": {\\\\\\\\\\\\\\\"type\\\\\\\\\\\\\\\": 2, \\\\\\\\\\\\\\\"details\\\\\\\\\\\\\\\": {\\\\\\\\\\\\\\\"selectedColumn\\\\\\\\\\\\\\\": \\\\\\\\\\\\\\\"Card_Category_Silver\\\\\\\\\\\\\\\"}}, \\\\\\\\\\\\\\\"typeProperty\\\\\\\\\\\\\\\": 3}, {\\\\\\\\\\\\\\\"column\\\\\\\\\\\\\\\": {\\\\\\\\\\\\\\\"type\\\\\\\\\\\\\\\": 2, \\\\\\\\\\\\\\\"details\\\\\\\\\\\\\\\": {\\\\\\\\\\\\\\\"selectedColumn\\\\\\\\\\\\\\\": \\\\\\\\\\\\\\\"Attrition_Flag\\\\\\\\\\\\\\\"}}, \\\\\\\\\\\\\\\"typeProperty\\\\\\\\\\\\\\\": 2}]}, \\\\\\\\\\\\\\\"localData\\\\\\\\\\\\\\\": {}, \\\\\\\\\\\\\\\"isEnabled\\\\\\\\\\\\\\\": true, \\\\\\\\\\\\\\\"name\\\\\\\\\\\\\\\": null, \\\\\\\\\\\\\\\"annotation\\\\\\\\\\\\\\\": null}], \\\\\\\\\\\\\\\"inspectors\\\\\\\\\\\\\\\": [], \\\\\\\\\\\\\\\"meta\\\\\\\\\\\\\\\": {\\\\\\\\\\\\\\\"savedDatasetId\\\\\\\\\\\\\\\": \\\\\\\\\\\\\\\"53a91e22-1314-4ade-b1f4-4dd88e451a3c\\\\\\\\\\\\\\\", \\\\\\\\\\\\\\\"datasetType\\\\\\\\\\\\\\\": \\\\\\\\\\\\\\\"tabular\\\\\\\\\\\\\\\", \\\\\\\\\\\\\\\"subscriptionId\\\\\\\\\\\\\\\": \\\\\\\\\\\\\\\"976ee174-3882-4721-b90a-b5fef6b72f24\\\\\\\\\\\\\\\", \\\\\\\\\\\\\\\"workspaceId\\\\\\\\\\\\\\\": \\\\\\\\\\\\\\\"c1da3321-82da-4cff-8885-886668087e61\\\\\\\\\\\\\\\", \\\\\\\\\\\\\\\"workspaceLocation\\\\\\\\\\\\\\\": \\\\\\\\\\\\\\\"southcentralus\\\\\\\\\\\\\\\"}}\\\\\\\", \\\\\\\"activities\\\\\\\": 0}\", \"EnableSubsampling\": null, \"runTemplate\": \"AutoML\", \"azureml.runsource\": \"automl\", \"display_task_type\": \"classification\", \"dependencies_versions\": \"{\\\"azureml-widgets\\\": \\\"1.19.0\\\", \\\"azureml-train\\\": \\\"1.19.0\\\", \\\"azureml-train-restclients-hyperdrive\\\": \\\"1.19.0\\\", \\\"azureml-train-core\\\": \\\"1.19.0\\\", \\\"azureml-train-automl\\\": \\\"1.19.0\\\", \\\"azureml-train-automl-runtime\\\": \\\"1.19.0\\\", \\\"azureml-train-automl-client\\\": \\\"1.19.0\\\", \\\"azureml-tensorboard\\\": \\\"1.19.0\\\", \\\"azureml-telemetry\\\": \\\"1.19.0\\\", \\\"azureml-sdk\\\": \\\"1.19.0\\\", \\\"azureml-samples\\\": \\\"0+unknown\\\", \\\"azureml-pipeline\\\": \\\"1.19.0\\\", \\\"azureml-pipeline-steps\\\": \\\"1.19.0\\\", \\\"azureml-pipeline-core\\\": \\\"1.19.0\\\", \\\"azureml-opendatasets\\\": \\\"1.19.0\\\", \\\"azureml-model-management-sdk\\\": \\\"1.0.1b6.post1\\\", \\\"azureml-mlflow\\\": \\\"1.19.0\\\", \\\"azureml-interpret\\\": \\\"1.19.0\\\", \\\"azureml-explain-model\\\": \\\"1.19.0\\\", \\\"azureml-defaults\\\": \\\"1.19.0\\\", \\\"azureml-dataset-runtime\\\": \\\"1.19.0\\\", \\\"azureml-dataprep\\\": \\\"2.6.1\\\", \\\"azureml-dataprep-rslex\\\": \\\"1.4.0\\\", \\\"azureml-dataprep-native\\\": \\\"26.0.0\\\", \\\"azureml-datadrift\\\": \\\"1.19.0\\\", \\\"azureml-core\\\": \\\"1.19.0\\\", \\\"azureml-contrib-services\\\": \\\"1.19.0\\\", \\\"azureml-contrib-server\\\": \\\"1.19.0\\\", \\\"azureml-contrib-reinforcementlearning\\\": \\\"1.19.0\\\", \\\"azureml-contrib-pipeline-steps\\\": \\\"1.19.0\\\", \\\"azureml-contrib-notebook\\\": \\\"1.19.0\\\", \\\"azureml-contrib-interpret\\\": \\\"1.19.0\\\", \\\"azureml-contrib-gbdt\\\": \\\"1.19.0\\\", \\\"azureml-contrib-fairness\\\": \\\"1.19.0\\\", \\\"azureml-contrib-dataset\\\": \\\"1.19.0\\\", \\\"azureml-cli-common\\\": \\\"1.19.0\\\", \\\"azureml-automl-runtime\\\": \\\"1.19.0\\\", \\\"azureml-automl-core\\\": \\\"1.19.0\\\", \\\"azureml-accel-models\\\": \\\"1.19.0\\\"}\", \"_aml_system_scenario_identification\": \"Remote.Parent\", \"ClientType\": \"SDK\", \"environment_cpu_name\": \"AzureML-AutoML\", \"environment_cpu_label\": \"prod\", \"environment_gpu_name\": \"AzureML-AutoML-GPU\", \"environment_gpu_label\": \"prod\", \"root_attribution\": \"automl\", \"attribution\": \"AutoML\", \"Orchestrator\": \"AutoML\", \"CancelUri\": \"https://southcentralus.experiments.azureml.net/jasmine/v1.0/subscriptions/976ee174-3882-4721-b90a-b5fef6b72f24/resourceGroups/aml-quickstarts-132749/providers/Microsoft.MachineLearningServices/workspaces/quick-starts-ws-132749/experimentids/6660614c-d7aa-47c3-bee2-9e9c0db8366e/cancel/AutoML_c1e7d13b-87cd-4132-b764-99497c57aaeb\", \"ClientSdkVersion\": \"1.19.0\", \"snapshotId\": \"00000000-0000-0000-0000-000000000000\", \"SetupRunId\": \"AutoML_c1e7d13b-87cd-4132-b764-99497c57aaeb_setup\", \"SetupRunContainerId\": \"dcid.AutoML_c1e7d13b-87cd-4132-b764-99497c57aaeb_setup\", \"FeaturizationRunJsonPath\": \"featurizer_container.json\", \"FeaturizationRunId\": \"AutoML_c1e7d13b-87cd-4132-b764-99497c57aaeb_featurize\", \"ProblemInfoJsonString\": \"{\\\"dataset_num_categorical\\\": 0, \\\"is_sparse\\\": false, \\\"subsampling\\\": false, \\\"dataset_classes\\\": 2, \\\"dataset_features\\\": 25, \\\"dataset_samples\\\": 8101, \\\"single_frequency_class_detected\\\": false}\", \"ModelExplainRunId\": \"AutoML_c1e7d13b-87cd-4132-b764-99497c57aaeb_ModelExplain\"}, \"tags\": {\"model_explain_run\": \"best_run\", \"_aml_system_azureml.automlComponent\": \"AutoML\", \"pipeline_id\": \"<cf1dc9b7ea4a50d759bce352343ec6737501695a>;<c7af0367625be6ac5c2fecbfc72ed444cb7a2111>;<b19eeb61727e9c4fbb5aa45fb6e9fe3fab5b1f04>;<a5cdf70dd620ae843d740271ad6e717514a3518f>;<032c2f067189c1f56172ca21b98c8843539dd9de>;<c82f68f8b39435f92a19d6c4df3fb88c235aff98>;<c7a96d3df3b5c4460f763c1573f559106ab8a64d>;<d3046b75fada49909ee135161ad7317911042f7e>;<d71eefd49dc41c42e9c90bb2016717f9edbd5729>;<5dfac790c5c209f98a1da2dc1c7fb76f0397324f>;<e1994a7e823c47fbdd111bdea481a48200ba7472>;<fef471dfecef120cf17d63e4e8d83c7130f11032>;<8b8d6ec7348787185d1862cfe0f1be758d8cb238>;<139908a720df632627bd67942431646e3744f7ec>;<9c1167edd47cffc0b875d3f82ede1af0fb07443a>;<c4f6e2875e255309d8accf8fbac1bca463b2941b>;<980c49495810a4c74949df45c6e859e4df3cde61>;<e7f1fa3727fc027c13495191afd180f971f4bb9f>;<8e7e9f15f1b06f9d98a3394040944b6d8f05c26c>;<82b7a511bb356ccec67e5e1d975af2ebb63e564e>;<410d4efc9c4dc1502b5fc819c9b7906dfa08a822>;<45f44701b9d96ac73506a0a3a6c198d8af4c8dab>;<506ad7b3bc3fe81800aa1dc6363bcd883db9d416>;<83833c6e577410927f7a8ed481bb6ede96163a93>;<156fd6169be5159d271b910d02c22bc68aceb6c2>;<d97c8a0e48d67d02504dbc7ff2919dcfaf6f1f22>;<9495235017b95a2234a16a598e83eb733f79acff>;<681068be8ac28f6b3961fb1ce5d4d92f8d06218f>;<a1a8a8d721a4a21920496cad156c2cb8a18be08a>;<7f44b2564ebd2b6e892396178ee4a15d78edd47e>;<6487624e4612aef21c6da7c37cc99d0eb0d3f338>;<773679153f7e340611bbf8f822206dae955d94a6>;<e6b3b38d98acef9efb56abd163db127bb00c91c0>;<9b446db2c98309b34861422ef5fc5b98e94e9295>;<3d18c589366e91fc346a33ffa97d723418136ee7>;<2bbb00cc6297913c68740860de7f70b6ed576343>;<3e8116c4f6948ca3123580cc8487264a2b0e5110>;<c5108029ec4e7935363f90d09287365b116da622>;<4b38e4ac9aecb63ad2d13647c0746662afe3265d>;<aa444070daabc9cef250775141f64f6e05bd7c4a>;<c0821e61a75ba0993ee282b149008b468cb721bb>;<6f39e692723da42e43aa2e593332cb5d3568a3f2>;<5d91a0857abe676697f4b01aaee82b8a0f58f8e9>;<db9450877c38ca06c7f6288ae1c2ac3e8ba459b1>;<47f275a009aef023c1c003f32c12e935fb5e2365>;<fd8bd52104b3def60dca1bca9a3df64523009436>;<a34bc4bda7635db537fa5fcc31a922158b179946>;<0bba159f36526d96e4603e6906113981b1ebe414>;<__AutoML_Stack_Ensemble__>;<__AutoML_Ensemble__>;\", \"score\": \"<0.9234647889899031>;<0.9853106074110641>;<0.9123547748661904>;<0.9764228612173818>;<0.9401306329160212>;<0.9279094162655807>;<0.9522278899904469>;<0.9714849095671013>;<0.9798790571393311>;<0.9874089614728884>;<0.9263057121047988>;<0.9661767246698755>;<0.9739535882914879>;<0.977286555962355>;<0.9787680374438366>;<0.9780273881187123>;<0.9769164141310259>;<0.9767929116330943>;<0.9700040222871272>;<0.976052079476737>;<0.9037151306557698>;<0.8872976629597634>;<0.9145776827055366>;<0.9776569263327254>;<0.8373035592670296>;<0.9470434818380024>;<0.910997892870039>;<0.968645769056728>;<0.9701269305835516>;<0.980619660756647>;<0.9753115215672293>;<0.9465498832165499>;<0.972842705719418>;<0.9702503416658668>;<0.9666704604147527>;<0.9648190199331751>;<0.9217369881296822>;<0.9266748483643461>;<NaN>;<NaN>;<0.9679046169457127>;<0.907787970619021>;<0.9822244619048272>;<NaN>;<NaN>;<0.9827183347731294>;<NaN>;<NaN>;<0.9867917232300795>;<0.9885199354605748>;\", \"predicted_cost\": \"<0.5>;<0>;<0.5>;<0.5>;<0.5>;<0.5>;<0.5>;<0.5>;<0.5>;<0>;<0.529217708941517>;<0.28992833333333334>;<0.7417468936750253>;<1.302368210482234>;<1.503046264076116>;<5.12035932661604>;<0.9402222922781649>;<3.854413514609935>;<1.2733756541210706>;<3.5584870793865426>;<1.7480302778695187>;<1.4740949081561372>;<1.9135140493848122>;<3.707525722577934>;<1.398724748911375>;<3.1963411491656473>;<1.024595450795478>;<1.4569756895575265>;<1.2781617114234736>;<6.64310529712319>;<14.29065781192007>;<0.9880114467769042>;<3.8169862277630733>;<2.8624580405292623>;<0.8154986126373626>;<0.43990780654378503>;<0.3127214082725105>;<0.6306555514393463>;<3.9384948421326493>;<3.4433912490492906>;<1.8380240082380448>;<1.967088950651273>;<0.7678029954567704>;<6.241164555196174>;<4.7800618734633975>;<1.5785297994386627>;<3.0737054958617493>;<4.160208887500775>;<0>;<0>;\", \"fit_time\": \"<0.28992833333333334>;<2.8768466666666668>;<0.27413166666666666>;<1.3849133333333334>;<0.2982916666666667>;<3.553588>;<6.340589333333334>;<5.232867333333334>;<9.232556666666666>;<6.958187666666666>;<0.43021266666666663>;<4.054009333333333>;<1.2719616666666667>;<3.1160763333333334>;<3.8860873333333337>;<3.9962149999999994>;<6.223874333333334>;<3.1597519999999997>;<0.43492233333333336>;<1.0772653333333333>;<0.33944>;<0.7623103333333333>;<0.16862266666666667>;<3.314909666666667>;<0.168795>;<1.7976429999999999>;<0.3025503333333333>;<1.1258406666666667>;<0.597266>;<15.133102>;<10.575505>;<0.136038>;<5.477316666666667>;<0.654719>;<0.265451>;<0.16629833333333333>;<0.22490600000000002>;<0.16183033333333333>;<NaN>;<NaN>;<1.9917536666666666>;<0.6466196666666667>;<0.8783126666666666>;<NaN>;<NaN>;<0.7918826666666666>;<NaN>;<NaN>;<41>;<38>;\", \"training_percent\": \"<100>;<100>;<100>;<100>;<100>;<100>;<100>;<100>;<100>;<100>;<100>;<100>;<100>;<100>;<100>;<100>;<100>;<100>;<100>;<100>;<100>;<100>;<100>;<100>;<100>;<100>;<100>;<100>;<100>;<100>;<100>;<100>;<100>;<100>;<100>;<100>;<100>;<100>;<100>;<100>;<100>;<100>;<100>;<100>;<100>;<100>;<100>;<100>;<100>;<100>;\", \"iteration\": \"<2>;<1>;<3>;<5>;<4>;<8>;<9>;<6>;<7>;<0>;<13>;<10>;<11>;<15>;<14>;<19>;<12>;<16>;<17>;<18>;<20>;<21>;<23>;<22>;<25>;<29>;<30>;<27>;<31>;<26>;<24>;<32>;<28>;<33>;<34>;<37>;<36>;<35>;<45>;<43>;<39>;<40>;<42>;<47>;<46>;<38>;<41>;<44>;<49>;<48>;\", \"run_preprocessor\": \"<MinMaxScaler>;<MaxAbsScaler>;<MinMaxScaler>;<StandardScalerWrapper>;<MinMaxScaler>;<SparseNormalizer>;<RobustScaler>;<SparseNormalizer>;<StandardScalerWrapper>;<MaxAbsScaler>;<MaxAbsScaler>;<SparseNormalizer>;<SparseNormalizer>;<SparseNormalizer>;<SparseNormalizer>;<SparseNormalizer>;<SparseNormalizer>;<SparseNormalizer>;<SparseNormalizer>;<SparseNormalizer>;<RobustScaler>;<StandardScalerWrapper>;<StandardScalerWrapper>;<SparseNormalizer>;<StandardScalerWrapper>;<SparseNormalizer>;<StandardScalerWrapper>;<SparseNormalizer>;<SparseNormalizer>;<SparseNormalizer>;<SparseNormalizer>;<MaxAbsScaler>;<SparseNormalizer>;<SparseNormalizer>;<SparseNormalizer>;<SparseNormalizer>;<MinMaxScaler>;<MinMaxScaler>;<MaxAbsScaler>;<SparseNormalizer>;<StandardScalerWrapper>;<RobustScaler>;<StandardScalerWrapper>;<SparseNormalizer>;<SparseNormalizer>;<StandardScalerWrapper>;<SparseNormalizer>;<SparseNormalizer>;<>;<>;\", \"run_algorithm\": \"<RandomForest>;<XGBoostClassifier>;<RandomForest>;<XGBoostClassifier>;<RandomForest>;<RandomForest>;<LightGBM>;<XGBoostClassifier>;<LightGBM>;<LightGBM>;<LogisticRegression>;<LightGBM>;<XGBoostClassifier>;<XGBoostClassifier>;<XGBoostClassifier>;<XGBoostClassifier>;<XGBoostClassifier>;<XGBoostClassifier>;<XGBoostClassifier>;<XGBoostClassifier>;<RandomForest>;<LightGBM>;<LightGBM>;<XGBoostClassifier>;<LightGBM>;<LightGBM>;<LightGBM>;<XGBoostClassifier>;<XGBoostClassifier>;<XGBoostClassifier>;<XGBoostClassifier>;<LightGBM>;<XGBoostClassifier>;<XGBoostClassifier>;<XGBoostClassifier>;<XGBoostClassifier>;<RandomForest>;<LightGBM>;<LightGBM>;<XGBoostClassifier>;<LightGBM>;<RandomForest>;<XGBoostClassifier>;<XGBoostClassifier>;<XGBoostClassifier>;<XGBoostClassifier>;<XGBoostClassifier>;<XGBoostClassifier>;<StackEnsemble>;<VotingEnsemble>;\", \"dynamic_whitelisting_iterations\": \"<25>;<30>;<35>;<39>;<45>;\", \"automl_best_child_run_id\": \"AutoML_c1e7d13b-87cd-4132-b764-99497c57aaeb_48\"}, \"end_time_utc\": \"2021-01-01T12:25:28.36566Z\", \"status\": \"Completed\", \"log_files\": {}, \"log_groups\": [], \"run_duration\": \"0:15:55\"}, \"child_runs\": [{\"run_id\": \"AutoML_c1e7d13b-87cd-4132-b764-99497c57aaeb_5\", \"run_number\": 11, \"metric\": null, \"status\": \"Completed\", \"run_type\": \"azureml.scriptrun\", \"training_percent\": \"100\", \"start_time\": \"2021-01-01T12:14:15.892431Z\", \"end_time\": \"2021-01-01T12:15:16.620852Z\", \"created_time\": \"2021-01-01T12:14:02.698398Z\", \"created_time_dt\": \"2021-01-01T12:14:02.698398Z\", \"duration\": \"0:01:13\", \"iteration\": \"5\", \"goal\": \"accuracy_max\", \"run_name\": \"StandardScalerWrapper, XGBoostClassifier\", \"run_properties\": \"<azureml.automl.runtime.shared.model_wrappers.StandardScalerWrapper object at 0x7fc69a9af470\", \"primary_metric\": 0.97642286, \"best_metric\": 0.98740896}, {\"run_id\": \"AutoML_c1e7d13b-87cd-4132-b764-99497c57aaeb_0\", \"run_number\": 12, \"metric\": null, \"status\": \"Completed\", \"run_type\": \"azureml.scriptrun\", \"training_percent\": \"100\", \"start_time\": \"2021-01-01T12:14:18.152421Z\", \"end_time\": \"2021-01-01T12:15:54.504923Z\", \"created_time\": \"2021-01-01T12:14:02.700491Z\", \"created_time_dt\": \"2021-01-01T12:14:02.700491Z\", \"duration\": \"0:01:51\", \"iteration\": \"0\", \"goal\": \"accuracy_max\", \"run_name\": \"MaxAbsScaler, LightGBM\", \"run_properties\": \"copy=True\", \"primary_metric\": 0.98740896, \"best_metric\": 0.98740896}, {\"run_id\": \"AutoML_c1e7d13b-87cd-4132-b764-99497c57aaeb_8\", \"run_number\": 13, \"metric\": null, \"status\": \"Completed\", \"run_type\": \"azureml.scriptrun\", \"training_percent\": \"100\", \"start_time\": \"2021-01-01T12:14:16.079181Z\", \"end_time\": \"2021-01-01T12:15:20.062373Z\", \"created_time\": \"2021-01-01T12:14:02.713727Z\", \"created_time_dt\": \"2021-01-01T12:14:02.713727Z\", \"duration\": \"0:01:17\", \"iteration\": \"8\", \"goal\": \"accuracy_max\", \"run_name\": \"SparseNormalizer, RandomForest\", \"run_properties\": \"<azureml.automl.runtime.shared.model_wrappers.SparseNormalizer object at 0x7fbe26013e48\", \"primary_metric\": 0.92790942, \"best_metric\": 0.98740896}, {\"run_id\": \"AutoML_c1e7d13b-87cd-4132-b764-99497c57aaeb_7\", \"run_number\": 14, \"metric\": null, \"status\": \"Completed\", \"run_type\": \"azureml.scriptrun\", \"training_percent\": \"100\", \"start_time\": \"2021-01-01T12:14:15.86636Z\", \"end_time\": \"2021-01-01T12:15:54.214532Z\", \"created_time\": \"2021-01-01T12:14:02.731686Z\", \"created_time_dt\": \"2021-01-01T12:14:02.731686Z\", \"duration\": \"0:01:51\", \"iteration\": \"7\", \"goal\": \"accuracy_max\", \"run_name\": \"StandardScalerWrapper, LightGBM\", \"run_properties\": \"<azureml.automl.runtime.shared.model_wrappers.StandardScalerWrapper object at 0x7f6e54b50080\", \"primary_metric\": 0.97987906, \"best_metric\": 0.98740896}, {\"run_id\": \"AutoML_c1e7d13b-87cd-4132-b764-99497c57aaeb_3\", \"run_number\": 15, \"metric\": null, \"status\": \"Completed\", \"run_type\": \"azureml.scriptrun\", \"training_percent\": \"100\", \"start_time\": \"2021-01-01T12:14:17.673232Z\", \"end_time\": \"2021-01-01T12:15:09.372318Z\", \"created_time\": \"2021-01-01T12:14:02.733278Z\", \"created_time_dt\": \"2021-01-01T12:14:02.733278Z\", \"duration\": \"0:01:06\", \"iteration\": \"3\", \"goal\": \"accuracy_max\", \"run_name\": \"MinMaxScaler, RandomForest\", \"run_properties\": \"copy=True, feature_range=(0, 1\", \"primary_metric\": 0.91235477, \"best_metric\": 0.98740896}, {\"run_id\": \"AutoML_c1e7d13b-87cd-4132-b764-99497c57aaeb_6\", \"run_number\": 16, \"metric\": null, \"status\": \"Completed\", \"run_type\": \"azureml.scriptrun\", \"training_percent\": \"100\", \"start_time\": \"2021-01-01T12:14:17.930977Z\", \"end_time\": \"2021-01-01T12:15:51.2922Z\", \"created_time\": \"2021-01-01T12:14:02.984271Z\", \"created_time_dt\": \"2021-01-01T12:14:02.984271Z\", \"duration\": \"0:01:48\", \"iteration\": \"6\", \"goal\": \"accuracy_max\", \"run_name\": \"SparseNormalizer, XGBoostClassifier\", \"run_properties\": \"<azureml.automl.runtime.shared.model_wrappers.SparseNormalizer object at 0x7f7ebb420940\", \"primary_metric\": 0.97148491, \"best_metric\": 0.98740896}, {\"run_id\": \"AutoML_c1e7d13b-87cd-4132-b764-99497c57aaeb_4\", \"run_number\": 17, \"metric\": null, \"status\": \"Completed\", \"run_type\": \"azureml.scriptrun\", \"training_percent\": \"100\", \"start_time\": \"2021-01-01T12:14:17.438824Z\", \"end_time\": \"2021-01-01T12:15:18.540461Z\", \"created_time\": \"2021-01-01T12:14:03.020784Z\", \"created_time_dt\": \"2021-01-01T12:14:03.020784Z\", \"duration\": \"0:01:15\", \"iteration\": \"4\", \"goal\": \"accuracy_max\", \"run_name\": \"MinMaxScaler, RandomForest\", \"run_properties\": \"copy=True, feature_range=(0, 1\", \"primary_metric\": 0.94013063, \"best_metric\": 0.98740896}, {\"run_id\": \"AutoML_c1e7d13b-87cd-4132-b764-99497c57aaeb_2\", \"run_number\": 18, \"metric\": null, \"status\": \"Completed\", \"run_type\": \"azureml.scriptrun\", \"training_percent\": \"100\", \"start_time\": \"2021-01-01T12:14:17.883322Z\", \"end_time\": \"2021-01-01T12:15:07.44828Z\", \"created_time\": \"2021-01-01T12:14:03.168881Z\", \"created_time_dt\": \"2021-01-01T12:14:03.168881Z\", \"duration\": \"0:01:04\", \"iteration\": \"2\", \"goal\": \"accuracy_max\", \"run_name\": \"MinMaxScaler, RandomForest\", \"run_properties\": \"copy=True, feature_range=(0, 1\", \"primary_metric\": 0.92346479, \"best_metric\": 0.98740896}, {\"run_id\": \"AutoML_c1e7d13b-87cd-4132-b764-99497c57aaeb_1\", \"run_number\": 19, \"metric\": null, \"status\": \"Completed\", \"run_type\": \"azureml.scriptrun\", \"training_percent\": \"100\", \"start_time\": \"2021-01-01T12:14:16.85299Z\", \"end_time\": \"2021-01-01T12:15:17.218498Z\", \"created_time\": \"2021-01-01T12:14:02.701598Z\", \"created_time_dt\": \"2021-01-01T12:14:02.701598Z\", \"duration\": \"0:01:14\", \"iteration\": \"1\", \"goal\": \"accuracy_max\", \"run_name\": \"MaxAbsScaler, XGBoostClassifier\", \"run_properties\": \"copy=True\", \"primary_metric\": 0.98531061, \"best_metric\": 0.98740896}, {\"run_id\": \"AutoML_c1e7d13b-87cd-4132-b764-99497c57aaeb_9\", \"run_number\": 20, \"metric\": null, \"status\": \"Completed\", \"run_type\": \"azureml.scriptrun\", \"training_percent\": \"100\", \"start_time\": \"2021-01-01T12:14:17.660406Z\", \"end_time\": \"2021-01-01T12:15:51.421123Z\", \"created_time\": \"2021-01-01T12:14:02.710015Z\", \"created_time_dt\": \"2021-01-01T12:14:02.710015Z\", \"duration\": \"0:01:48\", \"iteration\": \"9\", \"goal\": \"accuracy_max\", \"run_name\": \"RobustScaler, LightGBM\", \"run_properties\": \"copy=True, quantile_range=[25, 75], with_centering=True,\\n             with_scaling=True\", \"primary_metric\": 0.95222789, \"best_metric\": 0.98740896}, {\"run_id\": \"AutoML_c1e7d13b-87cd-4132-b764-99497c57aaeb_10\", \"run_number\": 21, \"metric\": null, \"status\": \"Completed\", \"run_type\": \"azureml.scriptrun\", \"training_percent\": \"100\", \"start_time\": \"2021-01-01T12:15:27.795245Z\", \"end_time\": \"2021-01-01T12:16:28.614735Z\", \"created_time\": \"2021-01-01T12:15:13.606759Z\", \"created_time_dt\": \"2021-01-01T12:15:13.606759Z\", \"duration\": \"0:01:15\", \"iteration\": \"10\", \"goal\": \"accuracy_max\", \"run_name\": \"SparseNormalizer, LightGBM\", \"run_properties\": \"<azureml.automl.runtime.shared.model_wrappers.SparseNormalizer object at 0x7f142c9b87b8\", \"primary_metric\": 0.96617672, \"best_metric\": 0.98740896}, {\"run_id\": \"AutoML_c1e7d13b-87cd-4132-b764-99497c57aaeb_12\", \"run_number\": 22, \"metric\": null, \"status\": \"Completed\", \"run_type\": \"azureml.scriptrun\", \"training_percent\": \"100\", \"start_time\": \"2021-01-01T12:15:32.339625Z\", \"end_time\": \"2021-01-01T12:17:02.657051Z\", \"created_time\": \"2021-01-01T12:15:21.201336Z\", \"created_time_dt\": \"2021-01-01T12:15:21.201336Z\", \"duration\": \"0:01:41\", \"iteration\": \"12\", \"goal\": \"accuracy_max\", \"run_name\": \"SparseNormalizer, XGBoostClassifier\", \"run_properties\": \"<azureml.automl.runtime.shared.model_wrappers.SparseNormalizer object at 0x7fa1a267aa90\", \"primary_metric\": 0.97691641, \"best_metric\": 0.98740896}, {\"run_id\": \"AutoML_c1e7d13b-87cd-4132-b764-99497c57aaeb_13\", \"run_number\": 23, \"metric\": null, \"status\": \"Completed\", \"run_type\": \"azureml.scriptrun\", \"training_percent\": \"100\", \"start_time\": \"2021-01-01T12:15:34.090817Z\", \"end_time\": \"2021-01-01T12:16:24.069856Z\", \"created_time\": \"2021-01-01T12:15:21.205969Z\", \"created_time_dt\": \"2021-01-01T12:15:21.205969Z\", \"duration\": \"0:01:02\", \"iteration\": \"13\", \"goal\": \"accuracy_max\", \"run_name\": \"MaxAbsScaler, LogisticRegression\", \"run_properties\": \"copy=True\", \"primary_metric\": 0.92630571, \"best_metric\": 0.98740896}, {\"run_id\": \"AutoML_c1e7d13b-87cd-4132-b764-99497c57aaeb_11\", \"run_number\": 24, \"metric\": null, \"status\": \"Completed\", \"run_type\": \"azureml.scriptrun\", \"training_percent\": \"100\", \"start_time\": \"2021-01-01T12:15:33.094802Z\", \"end_time\": \"2021-01-01T12:16:26.803318Z\", \"created_time\": \"2021-01-01T12:15:21.367665Z\", \"created_time_dt\": \"2021-01-01T12:15:21.367665Z\", \"duration\": \"0:01:05\", \"iteration\": \"11\", \"goal\": \"accuracy_max\", \"run_name\": \"SparseNormalizer, XGBoostClassifier\", \"run_properties\": \"<azureml.automl.runtime.shared.model_wrappers.SparseNormalizer object at 0x7fa170b61cc0\", \"primary_metric\": 0.97395359, \"best_metric\": 0.98740896}, {\"run_id\": \"AutoML_c1e7d13b-87cd-4132-b764-99497c57aaeb_15\", \"run_number\": 25, \"metric\": null, \"status\": \"Completed\", \"run_type\": \"azureml.scriptrun\", \"training_percent\": \"100\", \"start_time\": \"2021-01-01T12:15:39.400028Z\", \"end_time\": \"2021-01-01T12:16:31.639015Z\", \"created_time\": \"2021-01-01T12:15:26.807313Z\", \"created_time_dt\": \"2021-01-01T12:15:26.807313Z\", \"duration\": \"0:01:04\", \"iteration\": \"15\", \"goal\": \"accuracy_max\", \"run_name\": \"SparseNormalizer, XGBoostClassifier\", \"run_properties\": \"<azureml.automl.runtime.shared.model_wrappers.SparseNormalizer object at 0x7f8b944bee80\", \"primary_metric\": 0.97728656, \"best_metric\": 0.98740896}, {\"run_id\": \"AutoML_c1e7d13b-87cd-4132-b764-99497c57aaeb_14\", \"run_number\": 26, \"metric\": null, \"status\": \"Completed\", \"run_type\": \"azureml.scriptrun\", \"training_percent\": \"100\", \"start_time\": \"2021-01-01T12:15:38.769309Z\", \"end_time\": \"2021-01-01T12:16:39.542432Z\", \"created_time\": \"2021-01-01T12:15:26.993423Z\", \"created_time_dt\": \"2021-01-01T12:15:26.993423Z\", \"duration\": \"0:01:12\", \"iteration\": \"14\", \"goal\": \"accuracy_max\", \"run_name\": \"SparseNormalizer, XGBoostClassifier\", \"run_properties\": \"<azureml.automl.runtime.shared.model_wrappers.SparseNormalizer object at 0x7f21ac9a5898\", \"primary_metric\": 0.97876804, \"best_metric\": 0.98740896}, {\"run_id\": \"AutoML_c1e7d13b-87cd-4132-b764-99497c57aaeb_16\", \"run_number\": 27, \"metric\": null, \"status\": \"Completed\", \"run_type\": \"azureml.scriptrun\", \"training_percent\": \"100\", \"start_time\": \"2021-01-01T12:16:06.66897Z\", \"end_time\": \"2021-01-01T12:17:09.710008Z\", \"created_time\": \"2021-01-01T12:15:53.294767Z\", \"created_time_dt\": \"2021-01-01T12:15:53.294767Z\", \"duration\": \"0:01:16\", \"iteration\": \"16\", \"goal\": \"accuracy_max\", \"run_name\": \"SparseNormalizer, XGBoostClassifier\", \"run_properties\": \"<azureml.automl.runtime.shared.model_wrappers.SparseNormalizer object at 0x7f927e680a58\", \"primary_metric\": 0.97679291, \"best_metric\": 0.98740896}, {\"run_id\": \"AutoML_c1e7d13b-87cd-4132-b764-99497c57aaeb_17\", \"run_number\": 28, \"metric\": null, \"status\": \"Completed\", \"run_type\": \"azureml.scriptrun\", \"training_percent\": \"100\", \"start_time\": \"2021-01-01T12:16:05.177367Z\", \"end_time\": \"2021-01-01T12:17:08.038273Z\", \"created_time\": \"2021-01-01T12:15:53.476363Z\", \"created_time_dt\": \"2021-01-01T12:15:53.476363Z\", \"duration\": \"0:01:14\", \"iteration\": \"17\", \"goal\": \"accuracy_max\", \"run_name\": \"SparseNormalizer, XGBoostClassifier\", \"run_properties\": \"<azureml.automl.runtime.shared.model_wrappers.SparseNormalizer object at 0x7f549e56cef0\", \"primary_metric\": 0.97000402, \"best_metric\": 0.98740896}, {\"run_id\": \"AutoML_c1e7d13b-87cd-4132-b764-99497c57aaeb_19\", \"run_number\": 29, \"metric\": null, \"status\": \"Completed\", \"run_type\": \"azureml.scriptrun\", \"training_percent\": \"100\", \"start_time\": \"2021-01-01T12:16:10.452905Z\", \"end_time\": \"2021-01-01T12:17:01.736392Z\", \"created_time\": \"2021-01-01T12:15:59.481217Z\", \"created_time_dt\": \"2021-01-01T12:15:59.481217Z\", \"duration\": \"0:01:02\", \"iteration\": \"19\", \"goal\": \"accuracy_max\", \"run_name\": \"SparseNormalizer, XGBoostClassifier\", \"run_properties\": \"<azureml.automl.runtime.shared.model_wrappers.SparseNormalizer object at 0x7fb6cd3fbb38\", \"primary_metric\": 0.97802739, \"best_metric\": 0.98740896}, {\"run_id\": \"AutoML_c1e7d13b-87cd-4132-b764-99497c57aaeb_18\", \"run_number\": 30, \"metric\": null, \"status\": \"Completed\", \"run_type\": \"azureml.scriptrun\", \"training_percent\": \"100\", \"start_time\": \"2021-01-01T12:16:28.01799Z\", \"end_time\": \"2021-01-01T12:17:09.904482Z\", \"created_time\": \"2021-01-01T12:15:59.672901Z\", \"created_time_dt\": \"2021-01-01T12:15:59.672901Z\", \"duration\": \"0:01:10\", \"iteration\": \"18\", \"goal\": \"accuracy_max\", \"run_name\": \"SparseNormalizer, XGBoostClassifier\", \"run_properties\": \"<azureml.automl.runtime.shared.model_wrappers.SparseNormalizer object at 0x7f8bac87a5f8\", \"primary_metric\": 0.97605208, \"best_metric\": 0.98740896}, {\"run_id\": \"AutoML_c1e7d13b-87cd-4132-b764-99497c57aaeb_20\", \"run_number\": 31, \"metric\": null, \"status\": \"Completed\", \"run_type\": \"azureml.scriptrun\", \"training_percent\": \"100\", \"start_time\": \"2021-01-01T12:16:37.893904Z\", \"end_time\": \"2021-01-01T12:17:25.315701Z\", \"created_time\": \"2021-01-01T12:16:26.577094Z\", \"created_time_dt\": \"2021-01-01T12:16:26.577094Z\", \"duration\": \"0:00:58\", \"iteration\": \"20\", \"goal\": \"accuracy_max\", \"run_name\": \"RobustScaler, RandomForest\", \"run_properties\": \"copy=True, quantile_range=[25, 75], with_centering=False,\\n             with_scaling=True\", \"primary_metric\": 0.90371513, \"best_metric\": 0.98740896}, {\"run_id\": \"AutoML_c1e7d13b-87cd-4132-b764-99497c57aaeb_22\", \"run_number\": 32, \"metric\": null, \"status\": \"Completed\", \"run_type\": \"azureml.scriptrun\", \"training_percent\": \"100\", \"start_time\": \"2021-01-01T12:16:43.208156Z\", \"end_time\": \"2021-01-01T12:18:03.566743Z\", \"created_time\": \"2021-01-01T12:16:31.678994Z\", \"created_time_dt\": \"2021-01-01T12:16:31.678994Z\", \"duration\": \"0:01:31\", \"iteration\": \"22\", \"goal\": \"accuracy_max\", \"run_name\": \"SparseNormalizer, XGBoostClassifier\", \"run_properties\": \"<azureml.automl.runtime.shared.model_wrappers.SparseNormalizer object at 0x7f1ecc1a9e48\", \"primary_metric\": 0.97765693, \"best_metric\": 0.98740896}, {\"run_id\": \"AutoML_c1e7d13b-87cd-4132-b764-99497c57aaeb_21\", \"run_number\": 33, \"metric\": null, \"status\": \"Completed\", \"run_type\": \"azureml.scriptrun\", \"training_percent\": \"100\", \"start_time\": \"2021-01-01T12:16:44.936178Z\", \"end_time\": \"2021-01-01T12:17:32.43229Z\", \"created_time\": \"2021-01-01T12:16:31.890768Z\", \"created_time_dt\": \"2021-01-01T12:16:31.890768Z\", \"duration\": \"0:01:00\", \"iteration\": \"21\", \"goal\": \"accuracy_max\", \"run_name\": \"StandardScalerWrapper, LightGBM\", \"run_properties\": \"<azureml.automl.runtime.shared.model_wrappers.StandardScalerWrapper object at 0x7f2184411f28\", \"primary_metric\": 0.88729766, \"best_metric\": 0.98740896}, {\"run_id\": \"AutoML_c1e7d13b-87cd-4132-b764-99497c57aaeb_23\", \"run_number\": 34, \"metric\": null, \"status\": \"Completed\", \"run_type\": \"azureml.scriptrun\", \"training_percent\": \"100\", \"start_time\": \"2021-01-01T12:16:50.111709Z\", \"end_time\": \"2021-01-01T12:18:02.31715Z\", \"created_time\": \"2021-01-01T12:16:36.909603Z\", \"created_time_dt\": \"2021-01-01T12:16:36.909603Z\", \"duration\": \"0:01:25\", \"iteration\": \"23\", \"goal\": \"accuracy_max\", \"run_name\": \"StandardScalerWrapper, LightGBM\", \"run_properties\": \"<azureml.automl.runtime.shared.model_wrappers.StandardScalerWrapper object at 0x7f9e4466cf98\", \"primary_metric\": 0.91457768, \"best_metric\": 0.98740896}, {\"run_id\": \"AutoML_c1e7d13b-87cd-4132-b764-99497c57aaeb_24\", \"run_number\": 35, \"metric\": null, \"status\": \"Completed\", \"run_type\": \"azureml.scriptrun\", \"training_percent\": \"100\", \"start_time\": \"2021-01-01T12:16:54.642766Z\", \"end_time\": \"2021-01-01T12:19:03.399701Z\", \"created_time\": \"2021-01-01T12:16:41.35701Z\", \"created_time_dt\": \"2021-01-01T12:16:41.35701Z\", \"duration\": \"0:02:22\", \"iteration\": \"24\", \"goal\": \"accuracy_max\", \"run_name\": \"SparseNormalizer, XGBoostClassifier\", \"run_properties\": \"<azureml.automl.runtime.shared.model_wrappers.SparseNormalizer object at 0x7f9409681390\", \"primary_metric\": 0.97531152, \"best_metric\": 0.98740896}, {\"run_id\": \"AutoML_c1e7d13b-87cd-4132-b764-99497c57aaeb_25\", \"run_number\": 36, \"metric\": null, \"status\": \"Completed\", \"run_type\": \"azureml.scriptrun\", \"training_percent\": \"100\", \"start_time\": \"2021-01-01T12:17:14.845175Z\", \"end_time\": \"2021-01-01T12:18:08.141229Z\", \"created_time\": \"2021-01-01T12:17:04.557834Z\", \"created_time_dt\": \"2021-01-01T12:17:04.557834Z\", \"duration\": \"0:01:03\", \"iteration\": \"25\", \"goal\": \"accuracy_max\", \"run_name\": \"StandardScalerWrapper, LightGBM\", \"run_properties\": \"<azureml.automl.runtime.shared.model_wrappers.StandardScalerWrapper object at 0x7f9c545e5f60\", \"primary_metric\": 0.83730356, \"best_metric\": 0.98740896}, {\"run_id\": \"AutoML_c1e7d13b-87cd-4132-b764-99497c57aaeb_26\", \"run_number\": 37, \"metric\": null, \"status\": \"Completed\", \"run_type\": \"azureml.scriptrun\", \"training_percent\": \"100\", \"start_time\": \"2021-01-01T12:17:21.967454Z\", \"end_time\": \"2021-01-01T12:19:02.424287Z\", \"created_time\": \"2021-01-01T12:17:08.543322Z\", \"created_time_dt\": \"2021-01-01T12:17:08.543322Z\", \"duration\": \"0:01:53\", \"iteration\": \"26\", \"goal\": \"accuracy_max\", \"run_name\": \"SparseNormalizer, XGBoostClassifier\", \"run_properties\": \"<azureml.automl.runtime.shared.model_wrappers.SparseNormalizer object at 0x7fc261364780\", \"primary_metric\": 0.98061966, \"best_metric\": 0.98740896}, {\"run_id\": \"AutoML_c1e7d13b-87cd-4132-b764-99497c57aaeb_28\", \"run_number\": 38, \"metric\": null, \"status\": \"Completed\", \"run_type\": \"azureml.scriptrun\", \"training_percent\": \"100\", \"start_time\": \"2021-01-01T12:17:25.046472Z\", \"end_time\": \"2021-01-01T12:19:06.934419Z\", \"created_time\": \"2021-01-01T12:17:12.816564Z\", \"created_time_dt\": \"2021-01-01T12:17:12.816564Z\", \"duration\": \"0:01:54\", \"iteration\": \"28\", \"goal\": \"accuracy_max\", \"run_name\": \"SparseNormalizer, XGBoostClassifier\", \"run_properties\": \"<azureml.automl.runtime.shared.model_wrappers.SparseNormalizer object at 0x7fc2c9507860\", \"primary_metric\": 0.97284271, \"best_metric\": 0.98740896}, {\"run_id\": \"AutoML_c1e7d13b-87cd-4132-b764-99497c57aaeb_27\", \"run_number\": 39, \"metric\": null, \"status\": \"Completed\", \"run_type\": \"azureml.scriptrun\", \"training_percent\": \"100\", \"start_time\": \"2021-01-01T12:17:25.196534Z\", \"end_time\": \"2021-01-01T12:18:20.163012Z\", \"created_time\": \"2021-01-01T12:17:12.820051Z\", \"created_time_dt\": \"2021-01-01T12:17:12.820051Z\", \"duration\": \"0:01:07\", \"iteration\": \"27\", \"goal\": \"accuracy_max\", \"run_name\": \"SparseNormalizer, XGBoostClassifier\", \"run_properties\": \"<azureml.automl.runtime.shared.model_wrappers.SparseNormalizer object at 0x7fe75e90e390\", \"primary_metric\": 0.96864577, \"best_metric\": 0.98740896}, {\"run_id\": \"AutoML_c1e7d13b-87cd-4132-b764-99497c57aaeb_29\", \"run_number\": 40, \"metric\": null, \"status\": \"Completed\", \"run_type\": \"azureml.scriptrun\", \"training_percent\": \"100\", \"start_time\": \"2021-01-01T12:17:25.171359Z\", \"end_time\": \"2021-01-01T12:18:18.47643Z\", \"created_time\": \"2021-01-01T12:17:12.818915Z\", \"created_time_dt\": \"2021-01-01T12:17:12.818915Z\", \"duration\": \"0:01:05\", \"iteration\": \"29\", \"goal\": \"accuracy_max\", \"run_name\": \"SparseNormalizer, LightGBM\", \"run_properties\": \"<azureml.automl.runtime.shared.model_wrappers.SparseNormalizer object at 0x7f12bdc94518\", \"primary_metric\": 0.94704348, \"best_metric\": 0.98740896}, {\"run_id\": \"AutoML_c1e7d13b-87cd-4132-b764-99497c57aaeb_30\", \"run_number\": 41, \"metric\": null, \"status\": \"Completed\", \"run_type\": \"azureml.scriptrun\", \"training_percent\": \"100\", \"start_time\": \"2021-01-01T12:17:39.897708Z\", \"end_time\": \"2021-01-01T12:18:22.164913Z\", \"created_time\": \"2021-01-01T12:17:28.162503Z\", \"created_time_dt\": \"2021-01-01T12:17:28.162503Z\", \"duration\": \"0:00:54\", \"iteration\": \"30\", \"goal\": \"accuracy_max\", \"run_name\": \"StandardScalerWrapper, LightGBM\", \"run_properties\": \"<azureml.automl.runtime.shared.model_wrappers.StandardScalerWrapper object at 0x7f30d4871c88\", \"primary_metric\": 0.91099789, \"best_metric\": 0.98740896}, {\"run_id\": \"AutoML_c1e7d13b-87cd-4132-b764-99497c57aaeb_31\", \"run_number\": 42, \"metric\": null, \"status\": \"Completed\", \"run_type\": \"azureml.scriptrun\", \"training_percent\": \"100\", \"start_time\": \"2021-01-01T12:17:48.087294Z\", \"end_time\": \"2021-01-01T12:18:59.943228Z\", \"created_time\": \"2021-01-01T12:17:34.398447Z\", \"created_time_dt\": \"2021-01-01T12:17:34.398447Z\", \"duration\": \"0:01:25\", \"iteration\": \"31\", \"goal\": \"accuracy_max\", \"run_name\": \"SparseNormalizer, XGBoostClassifier\", \"run_properties\": \"<azureml.automl.runtime.shared.model_wrappers.SparseNormalizer object at 0x7f268805dfd0\", \"primary_metric\": 0.97012693, \"best_metric\": 0.98740896}, {\"run_id\": \"AutoML_c1e7d13b-87cd-4132-b764-99497c57aaeb_32\", \"run_number\": 43, \"metric\": null, \"status\": \"Completed\", \"run_type\": \"azureml.scriptrun\", \"training_percent\": \"100\", \"start_time\": \"2021-01-01T12:18:17.899411Z\", \"end_time\": \"2021-01-01T12:19:06.687483Z\", \"created_time\": \"2021-01-01T12:18:04.782745Z\", \"created_time_dt\": \"2021-01-01T12:18:04.782745Z\", \"duration\": \"0:01:01\", \"iteration\": \"32\", \"goal\": \"accuracy_max\", \"run_name\": \"MaxAbsScaler, LightGBM\", \"run_properties\": \"copy=True\", \"primary_metric\": 0.94654988, \"best_metric\": 0.98740896}, {\"run_id\": \"AutoML_c1e7d13b-87cd-4132-b764-99497c57aaeb_33\", \"run_number\": 44, \"metric\": null, \"status\": \"Completed\", \"run_type\": \"azureml.scriptrun\", \"training_percent\": \"100\", \"start_time\": \"2021-01-01T12:18:21.090837Z\", \"end_time\": \"2021-01-01T12:19:06.809119Z\", \"created_time\": \"2021-01-01T12:18:09.229153Z\", \"created_time_dt\": \"2021-01-01T12:18:09.229153Z\", \"duration\": \"0:00:57\", \"iteration\": \"33\", \"goal\": \"accuracy_max\", \"run_name\": \"SparseNormalizer, XGBoostClassifier\", \"run_properties\": \"<azureml.automl.runtime.shared.model_wrappers.SparseNormalizer object at 0x7f5956acc2e8\", \"primary_metric\": 0.97025034, \"best_metric\": 0.98740896}, {\"run_id\": \"AutoML_c1e7d13b-87cd-4132-b764-99497c57aaeb_34\", \"run_number\": 45, \"metric\": null, \"status\": \"Completed\", \"run_type\": \"azureml.scriptrun\", \"training_percent\": \"100\", \"start_time\": \"2021-01-01T12:18:25.35474Z\", \"end_time\": \"2021-01-01T12:19:11.658646Z\", \"created_time\": \"2021-01-01T12:18:13.002248Z\", \"created_time_dt\": \"2021-01-01T12:18:13.002248Z\", \"duration\": \"0:00:58\", \"iteration\": \"34\", \"goal\": \"accuracy_max\", \"run_name\": \"SparseNormalizer, XGBoostClassifier\", \"run_properties\": \"<azureml.automl.runtime.shared.model_wrappers.SparseNormalizer object at 0x7f2dcc786c50\", \"primary_metric\": 0.96667046, \"best_metric\": 0.98740896}, {\"run_id\": \"AutoML_c1e7d13b-87cd-4132-b764-99497c57aaeb_35\", \"run_number\": 46, \"metric\": null, \"status\": \"Completed\", \"run_type\": \"azureml.scriptrun\", \"training_percent\": \"100\", \"start_time\": \"2021-01-01T12:18:35.212083Z\", \"end_time\": \"2021-01-01T12:19:31.235749Z\", \"created_time\": \"2021-01-01T12:18:21.163639Z\", \"created_time_dt\": \"2021-01-01T12:18:21.163639Z\", \"duration\": \"0:01:10\", \"iteration\": \"35\", \"goal\": \"accuracy_max\", \"run_name\": \"MinMaxScaler, LightGBM\", \"run_properties\": \"copy=True, feature_range=(0, 1\", \"primary_metric\": 0.92667485, \"best_metric\": 0.98740896}, {\"run_id\": \"AutoML_c1e7d13b-87cd-4132-b764-99497c57aaeb_36\", \"run_number\": 47, \"metric\": null, \"status\": \"Completed\", \"run_type\": \"azureml.scriptrun\", \"training_percent\": \"100\", \"start_time\": \"2021-01-01T12:18:37.298883Z\", \"end_time\": \"2021-01-01T12:19:25.876278Z\", \"created_time\": \"2021-01-01T12:18:25.670676Z\", \"created_time_dt\": \"2021-01-01T12:18:25.670676Z\", \"duration\": \"0:01:00\", \"iteration\": \"36\", \"goal\": \"accuracy_max\", \"run_name\": \"MinMaxScaler, RandomForest\", \"run_properties\": \"copy=True, feature_range=(0, 1\", \"primary_metric\": 0.92173699, \"best_metric\": 0.98740896}, {\"run_id\": \"AutoML_c1e7d13b-87cd-4132-b764-99497c57aaeb_37\", \"run_number\": 48, \"metric\": null, \"status\": \"Completed\", \"run_type\": \"azureml.scriptrun\", \"training_percent\": \"100\", \"start_time\": \"2021-01-01T12:18:36.664527Z\", \"end_time\": \"2021-01-01T12:19:21.943611Z\", \"created_time\": \"2021-01-01T12:18:25.685248Z\", \"created_time_dt\": \"2021-01-01T12:18:25.685248Z\", \"duration\": \"0:00:56\", \"iteration\": \"37\", \"goal\": \"accuracy_max\", \"run_name\": \"SparseNormalizer, XGBoostClassifier\", \"run_properties\": \"<azureml.automl.runtime.shared.model_wrappers.SparseNormalizer object at 0x7f248c1d20b8\", \"primary_metric\": 0.96481902, \"best_metric\": 0.98740896}, {\"run_id\": \"AutoML_c1e7d13b-87cd-4132-b764-99497c57aaeb_38\", \"run_number\": 49, \"metric\": null, \"status\": \"Canceled\", \"run_type\": \"azureml.scriptrun\", \"training_percent\": \"100\", \"start_time\": \"2021-01-01T12:19:14.621483Z\", \"end_time\": \"2021-01-01T12:20:09.347065Z\", \"created_time\": \"2021-01-01T12:19:02.310194Z\", \"created_time_dt\": \"2021-01-01T12:19:02.310194Z\", \"duration\": \"0:01:07\", \"iteration\": \"38\", \"goal\": \"accuracy_max\", \"run_name\": \"StandardScalerWrapper, XGBoostClassifier\", \"run_properties\": \"<azureml.automl.runtime.shared.model_wrappers.StandardScalerWrapper object at 0x7f7a21118cf8\", \"primary_metric\": 0.98271833, \"best_metric\": 0.98740896}, {\"run_id\": \"AutoML_c1e7d13b-87cd-4132-b764-99497c57aaeb_39\", \"run_number\": 50, \"metric\": null, \"status\": \"Canceled\", \"run_type\": \"azureml.scriptrun\", \"training_percent\": \"100\", \"start_time\": \"2021-01-01T12:19:17.701327Z\", \"end_time\": \"2021-01-01T12:20:16.612459Z\", \"created_time\": \"2021-01-01T12:19:07.277282Z\", \"created_time_dt\": \"2021-01-01T12:19:07.277282Z\", \"duration\": \"0:01:09\", \"iteration\": \"39\", \"goal\": \"accuracy_max\", \"run_name\": \"StandardScalerWrapper, LightGBM\", \"run_properties\": \"<azureml.automl.runtime.shared.model_wrappers.StandardScalerWrapper object at 0x7fce3f512518\", \"primary_metric\": 0.96790462, \"best_metric\": 0.98740896}, {\"run_id\": \"AutoML_c1e7d13b-87cd-4132-b764-99497c57aaeb_40\", \"run_number\": 51, \"metric\": null, \"status\": \"Completed\", \"run_type\": \"azureml.scriptrun\", \"training_percent\": \"100\", \"start_time\": \"2021-01-01T12:19:19.209779Z\", \"end_time\": \"2021-01-01T12:20:06.93031Z\", \"created_time\": \"2021-01-01T12:19:07.312651Z\", \"created_time_dt\": \"2021-01-01T12:19:07.312651Z\", \"duration\": \"0:00:59\", \"iteration\": \"40\", \"goal\": \"accuracy_max\", \"run_name\": \"RobustScaler, RandomForest\", \"run_properties\": \"copy=True, quantile_range=[25, 75], with_centering=True,\\n             with_scaling=True\", \"primary_metric\": 0.90778797, \"best_metric\": 0.98740896}, {\"run_id\": \"AutoML_c1e7d13b-87cd-4132-b764-99497c57aaeb_41\", \"run_number\": 52, \"metric\": null, \"status\": \"Canceled\", \"run_type\": \"azureml.scriptrun\", \"training_percent\": \"100\", \"start_time\": \"2021-01-01T12:19:23.169223Z\", \"end_time\": \"2021-01-01T12:20:15.558612Z\", \"created_time\": \"2021-01-01T12:19:11.761948Z\", \"created_time_dt\": \"2021-01-01T12:19:11.761948Z\", \"duration\": \"0:01:03\", \"iteration\": \"41\", \"goal\": null, \"run_name\": \"SparseNormalizer, XGBoostClassifier\", \"run_properties\": null}, {\"run_id\": \"AutoML_c1e7d13b-87cd-4132-b764-99497c57aaeb_42\", \"run_number\": 53, \"metric\": null, \"status\": \"Canceled\", \"run_type\": \"azureml.scriptrun\", \"training_percent\": \"100\", \"start_time\": \"2021-01-01T12:19:39.443546Z\", \"end_time\": \"2021-01-01T12:20:14.517719Z\", \"created_time\": \"2021-01-01T12:19:11.773176Z\", \"created_time_dt\": \"2021-01-01T12:19:11.773176Z\", \"duration\": \"0:01:02\", \"iteration\": \"42\", \"goal\": \"accuracy_max\", \"run_name\": \"StandardScalerWrapper, XGBoostClassifier\", \"run_properties\": \"<azureml.automl.runtime.shared.model_wrappers.StandardScalerWrapper object at 0x7f65d8079a90\", \"primary_metric\": 0.98222446, \"best_metric\": 0.98740896}, {\"run_id\": \"AutoML_c1e7d13b-87cd-4132-b764-99497c57aaeb_43\", \"run_number\": 54, \"metric\": null, \"status\": \"Canceled\", \"run_type\": \"azureml.scriptrun\", \"training_percent\": \"100\", \"start_time\": \"2021-01-01T12:19:22.962509Z\", \"end_time\": \"2021-01-01T12:20:16.010087Z\", \"created_time\": \"2021-01-01T12:19:11.789958Z\", \"created_time_dt\": \"2021-01-01T12:19:11.789958Z\", \"duration\": \"0:01:04\", \"iteration\": \"43\", \"goal\": null, \"run_name\": \"SparseNormalizer, XGBoostClassifier\", \"run_properties\": null}, {\"run_id\": \"AutoML_c1e7d13b-87cd-4132-b764-99497c57aaeb_44\", \"run_number\": 55, \"metric\": null, \"status\": \"Canceled\", \"run_type\": \"azureml.scriptrun\", \"training_percent\": \"100\", \"start_time\": \"2021-01-01T12:19:25.945939Z\", \"end_time\": \"2021-01-01T12:20:13.921065Z\", \"created_time\": \"2021-01-01T12:19:15.301045Z\", \"created_time_dt\": \"2021-01-01T12:19:15.301045Z\", \"duration\": \"0:00:58\", \"iteration\": \"44\", \"goal\": null, \"run_name\": \"SparseNormalizer, XGBoostClassifier\", \"run_properties\": null}, {\"run_id\": \"AutoML_c1e7d13b-87cd-4132-b764-99497c57aaeb_45\", \"run_number\": 56, \"metric\": null, \"status\": \"Canceled\", \"run_type\": \"azureml.scriptrun\", \"training_percent\": \"100\", \"start_time\": \"2021-01-01T12:19:39.241825Z\", \"end_time\": \"2021-01-01T12:23:25.993574Z\", \"created_time\": \"2021-01-01T12:19:24.500639Z\", \"created_time_dt\": \"2021-01-01T12:19:24.500639Z\", \"duration\": \"0:04:01\", \"iteration\": \"45\", \"goal\": null, \"run_name\": \"MaxAbsScaler, LightGBM\", \"run_properties\": null}, {\"run_id\": \"AutoML_c1e7d13b-87cd-4132-b764-99497c57aaeb_46\", \"run_number\": 57, \"metric\": null, \"status\": \"Canceled\", \"run_type\": \"azureml.scriptrun\", \"training_percent\": \"100\", \"start_time\": \"2021-01-01T12:19:40.392935Z\", \"end_time\": \"2021-01-01T12:20:14.113428Z\", \"created_time\": \"2021-01-01T12:19:29.077782Z\", \"created_time_dt\": \"2021-01-01T12:19:29.077782Z\", \"duration\": \"0:00:45\", \"iteration\": \"46\", \"goal\": null, \"run_name\": \"SparseNormalizer, XGBoostClassifier\", \"run_properties\": null}, {\"run_id\": \"AutoML_c1e7d13b-87cd-4132-b764-99497c57aaeb_47\", \"run_number\": 58, \"metric\": null, \"status\": \"Canceled\", \"run_type\": \"azureml.scriptrun\", \"training_percent\": \"100\", \"start_time\": \"2021-01-01T12:19:45.45026Z\", \"end_time\": \"2021-01-01T12:20:14.668818Z\", \"created_time\": \"2021-01-01T12:19:33.688395Z\", \"created_time_dt\": \"2021-01-01T12:19:33.688395Z\", \"duration\": \"0:00:40\", \"iteration\": \"47\", \"goal\": null, \"run_name\": \"SparseNormalizer, XGBoostClassifier\", \"run_properties\": null}, {\"run_id\": \"AutoML_c1e7d13b-87cd-4132-b764-99497c57aaeb_48\", \"run_number\": 59, \"metric\": null, \"status\": \"Completed\", \"run_type\": \"azureml.scriptrun\", \"training_percent\": \"100\", \"start_time\": \"2021-01-01T12:23:47.603924Z\", \"end_time\": \"2021-01-01T12:25:11.709451Z\", \"created_time\": \"2021-01-01T12:23:28.627459Z\", \"created_time_dt\": \"2021-01-01T12:23:28.627459Z\", \"duration\": \"0:01:43\", \"iteration\": \"48\", \"goal\": \"accuracy_max\", \"run_name\": \"VotingEnsemble\", \"run_properties\": \"classification_labels=None,\\n                              estimators=[('0',\\n                                           Pipeline(memory=None,\\n                                                    steps=[('maxabsscaler',\\n                                                            MaxAbsScaler(copy=True\", \"primary_metric\": 0.98851994, \"best_metric\": 0.98851994}, {\"run_id\": \"AutoML_c1e7d13b-87cd-4132-b764-99497c57aaeb_49\", \"run_number\": 60, \"metric\": null, \"status\": \"Completed\", \"run_type\": \"azureml.scriptrun\", \"training_percent\": \"100\", \"start_time\": \"2021-01-01T12:23:46.047332Z\", \"end_time\": \"2021-01-01T12:25:14.910932Z\", \"created_time\": \"2021-01-01T12:23:28.866087Z\", \"created_time_dt\": \"2021-01-01T12:23:28.866087Z\", \"duration\": \"0:01:46\", \"iteration\": \"49\", \"goal\": \"accuracy_max\", \"run_name\": \"StackEnsemble\", \"run_properties\": \"base_learners=[('0',\\n                                        Pipeline(memory=None,\\n                                                 steps=[('maxabsscaler',\\n                                                         MaxAbsScaler(copy=True\", \"primary_metric\": 0.98679172, \"best_metric\": 0.98851994}], \"children_metrics\": {\"categories\": [0], \"series\": {\"f1_score_micro\": [{\"categories\": [\"0\", \"1\", \"2\", \"3\", \"4\", \"5\", \"6\", \"7\", \"8\", \"9\", \"10\", \"11\", \"12\", \"13\", \"14\", \"15\", \"16\", \"17\", \"18\", \"19\", \"20\", \"21\", \"22\", \"23\", \"24\", \"25\", \"26\", \"27\", \"28\", \"29\", \"30\", \"31\", \"32\", \"33\", \"34\", \"35\", \"36\", \"37\", \"38\", \"39\", \"40\", \"42\", \"48\", \"49\"], \"mode\": \"markers\", \"name\": \"f1_score_micro\", \"stepped\": false, \"type\": \"scatter\", \"data\": [0.9874089614728884, 0.9853106074110641, 0.9234647889899031, 0.9123547748661904, 0.9401306329160212, 0.9764228612173818, 0.9714849095671013, 0.9798790571393311, 0.9279094162655808, 0.9522278899904469, 0.9661767246698755, 0.9739535882914879, 0.9769164141310259, 0.9263057121047988, 0.9787680374438366, 0.977286555962355, 0.9767929116330943, 0.9700040222871272, 0.976052079476737, 0.9780273881187123, 0.9037151306557698, 0.8872976629597634, 0.9776569263327254, 0.9145776827055366, 0.9753115215672293, 0.8373035592670296, 0.980619660756647, 0.968645769056728, 0.972842705719418, 0.9470434818380024, 0.910997892870039, 0.9701269305835516, 0.9465498832165499, 0.9702503416658668, 0.9666704604147527, 0.9266748483643461, 0.9217369881296822, 0.9648190199331751, 0.9827183347731294, 0.9679046169457127, 0.907787970619021, 0.9822244619048272, 0.9885199354605748, 0.9867917232300795]}, {\"categories\": [\"0\", \"1\", \"2\", \"3\", \"4\", \"5\", \"6\", \"7\", \"8\", \"9\", \"10\", \"11\", \"12\", \"13\", \"14\", \"15\", \"16\", \"17\", \"18\", \"19\", \"20\", \"21\", \"22\", \"23\", \"24\", \"25\", \"26\", \"27\", \"28\", \"29\", \"30\", \"31\", \"32\", \"33\", \"34\", \"35\", \"36\", \"37\", \"38\", \"39\", \"40\", \"42\", \"48\", \"49\"], \"mode\": \"lines\", \"name\": \"f1_score_micro_max\", \"stepped\": true, \"type\": \"scatter\", \"data\": [0.9874089614728884, 0.9874089614728884, 0.9874089614728884, 0.9874089614728884, 0.9874089614728884, 0.9874089614728884, 0.9874089614728884, 0.9874089614728884, 0.9874089614728884, 0.9874089614728884, 0.9874089614728884, 0.9874089614728884, 0.9874089614728884, 0.9874089614728884, 0.9874089614728884, 0.9874089614728884, 0.9874089614728884, 0.9874089614728884, 0.9874089614728884, 0.9874089614728884, 0.9874089614728884, 0.9874089614728884, 0.9874089614728884, 0.9874089614728884, 0.9874089614728884, 0.9874089614728884, 0.9874089614728884, 0.9874089614728884, 0.9874089614728884, 0.9874089614728884, 0.9874089614728884, 0.9874089614728884, 0.9874089614728884, 0.9874089614728884, 0.9874089614728884, 0.9874089614728884, 0.9874089614728884, 0.9874089614728884, 0.9874089614728884, 0.9874089614728884, 0.9874089614728884, 0.9874089614728884, 0.9885199354605748, 0.9885199354605748]}], \"norm_macro_recall\": [{\"categories\": [\"0\", \"1\", \"2\", \"3\", \"4\", \"5\", \"6\", \"7\", \"8\", \"9\", \"10\", \"11\", \"12\", \"13\", \"14\", \"15\", \"16\", \"17\", \"18\", \"19\", \"20\", \"21\", \"22\", \"23\", \"24\", \"25\", \"26\", \"27\", \"28\", \"29\", \"30\", \"31\", \"32\", \"33\", \"34\", \"35\", \"36\", \"37\", \"38\", \"39\", \"40\", \"42\", \"48\", \"49\"], \"mode\": \"markers\", \"name\": \"norm_macro_recall\", \"stepped\": false, \"type\": \"scatter\", \"data\": [0.9501117473136196, 0.9320010763817518, 0.5842200683867074, 0.4828305808844257, 0.8715294596679177, 0.8922491978178136, 0.8694079330593562, 0.9125838754921002, 0.7604008261991471, 0.7357865344490122, 0.8207953360611828, 0.8790319783313915, 0.8903273169629454, 0.8467571001843363, 0.8976845267485816, 0.8938693269282011, 0.8949960242649412, 0.8440333932061792, 0.8869359524639121, 0.892679070409422, 0.4149458653498313, 0.3077077560147223, 0.893615511443605, 0.4787003954033538, 0.8867093713475814, 0.0, 0.9097768476049968, 0.8602178314036525, 0.8709521256775826, 0.6880893444660564, 0.45686827531026447, 0.8568593287483132, 0.7044467638134142, 0.8617579231483882, 0.8279108160474736, 0.5701594941154244, 0.5538144485372676, 0.8082916524178828, 0.9227056315107065, 0.8380036668574693, 0.44240382939771966, 0.9149505534285932, 0.9507570535387898, 0.9430670465275082]}, {\"categories\": [\"0\", \"1\", \"2\", \"3\", \"4\", \"5\", \"6\", \"7\", \"8\", \"9\", \"10\", \"11\", \"12\", \"13\", \"14\", \"15\", \"16\", \"17\", \"18\", \"19\", \"20\", \"21\", \"22\", \"23\", \"24\", \"25\", \"26\", \"27\", \"28\", \"29\", \"30\", \"31\", \"32\", \"33\", \"34\", \"35\", \"36\", \"37\", \"38\", \"39\", \"40\", \"42\", \"48\", \"49\"], \"mode\": \"lines\", \"name\": \"norm_macro_recall_max\", \"stepped\": true, \"type\": \"scatter\", \"data\": [0.9501117473136196, 0.9501117473136196, 0.9501117473136196, 0.9501117473136196, 0.9501117473136196, 0.9501117473136196, 0.9501117473136196, 0.9501117473136196, 0.9501117473136196, 0.9501117473136196, 0.9501117473136196, 0.9501117473136196, 0.9501117473136196, 0.9501117473136196, 0.9501117473136196, 0.9501117473136196, 0.9501117473136196, 0.9501117473136196, 0.9501117473136196, 0.9501117473136196, 0.9501117473136196, 0.9501117473136196, 0.9501117473136196, 0.9501117473136196, 0.9501117473136196, 0.9501117473136196, 0.9501117473136196, 0.9501117473136196, 0.9501117473136196, 0.9501117473136196, 0.9501117473136196, 0.9501117473136196, 0.9501117473136196, 0.9501117473136196, 0.9501117473136196, 0.9501117473136196, 0.9501117473136196, 0.9501117473136196, 0.9501117473136196, 0.9501117473136196, 0.9501117473136196, 0.9501117473136196, 0.9507570535387898, 0.9507570535387898]}], \"f1_score_macro\": [{\"categories\": [\"0\", \"1\", \"2\", \"3\", \"4\", \"5\", \"6\", \"7\", \"8\", \"9\", \"10\", \"11\", \"12\", \"13\", \"14\", \"15\", \"16\", \"17\", \"18\", \"19\", \"20\", \"21\", \"22\", \"23\", \"24\", \"25\", \"26\", \"27\", \"28\", \"29\", \"30\", \"31\", \"32\", \"33\", \"34\", \"35\", \"36\", \"37\", \"38\", \"39\", \"40\", \"42\", \"48\", \"49\"], \"mode\": \"markers\", \"name\": \"f1_score_macro\", \"stepped\": false, \"type\": \"scatter\", \"data\": [0.9768412779670027, 0.9726148784006824, 0.8368032759551064, 0.7944189942744844, 0.899007938329414, 0.9557097688962203, 0.9463501476730992, 0.962550071567018, 0.8710228459755799, 0.9035857867825356, 0.9342902577265759, 0.9510871984937849, 0.9565496416929324, 0.8785984981529907, 0.9600051590981007, 0.9574082738409063, 0.9566267946541632, 0.9422878738261161, 0.9549832314909654, 0.9585168928270446, 0.7651207511868128, 0.7034652972952963, 0.9580020553606707, 0.7988009299527912, 0.9537016472347964, 0.4557178599772091, 0.9636967839367095, 0.9410197553307905, 0.9487563906557427, 0.8893997302916837, 0.78774106884615, 0.943354409644674, 0.890750063805195, 0.9439039404246432, 0.9356526147736838, 0.8382143575643561, 0.8275383620380378, 0.9309764200948698, 0.9677419021627832, 0.9385223932698784, 0.7791145725529803, 0.9666665325016162, 0.9787994149473626, 0.9755420981365367]}, {\"categories\": [\"0\", \"1\", \"2\", \"3\", \"4\", \"5\", \"6\", \"7\", \"8\", \"9\", \"10\", \"11\", \"12\", \"13\", \"14\", \"15\", \"16\", \"17\", \"18\", \"19\", \"20\", \"21\", \"22\", \"23\", \"24\", \"25\", \"26\", \"27\", \"28\", \"29\", \"30\", \"31\", \"32\", \"33\", \"34\", \"35\", \"36\", \"37\", \"38\", \"39\", \"40\", \"42\", \"48\", \"49\"], \"mode\": \"lines\", \"name\": \"f1_score_macro_max\", \"stepped\": true, \"type\": \"scatter\", \"data\": [0.9768412779670027, 0.9768412779670027, 0.9768412779670027, 0.9768412779670027, 0.9768412779670027, 0.9768412779670027, 0.9768412779670027, 0.9768412779670027, 0.9768412779670027, 0.9768412779670027, 0.9768412779670027, 0.9768412779670027, 0.9768412779670027, 0.9768412779670027, 0.9768412779670027, 0.9768412779670027, 0.9768412779670027, 0.9768412779670027, 0.9768412779670027, 0.9768412779670027, 0.9768412779670027, 0.9768412779670027, 0.9768412779670027, 0.9768412779670027, 0.9768412779670027, 0.9768412779670027, 0.9768412779670027, 0.9768412779670027, 0.9768412779670027, 0.9768412779670027, 0.9768412779670027, 0.9768412779670027, 0.9768412779670027, 0.9768412779670027, 0.9768412779670027, 0.9768412779670027, 0.9768412779670027, 0.9768412779670027, 0.9768412779670027, 0.9768412779670027, 0.9768412779670027, 0.9768412779670027, 0.9787994149473626, 0.9787994149473626]}], \"AUC_micro\": [{\"categories\": [\"0\", \"1\", \"2\", \"3\", \"4\", \"5\", \"6\", \"7\", \"8\", \"9\", \"10\", \"11\", \"12\", \"13\", \"14\", \"15\", \"16\", \"17\", \"18\", \"19\", \"20\", \"21\", \"22\", \"23\", \"24\", \"25\", \"26\", \"27\", \"28\", \"29\", \"30\", \"31\", \"32\", \"33\", \"34\", \"35\", \"36\", \"37\", \"38\", \"39\", \"40\", \"42\", \"48\", \"49\"], \"mode\": \"markers\", \"name\": \"AUC_micro\", \"stepped\": false, \"type\": \"scatter\", \"data\": [0.9990409582273198, 0.9988644090426736, 0.9814875889961517, 0.9721254241045766, 0.9854173427757336, 0.9970288718920876, 0.996556872229922, 0.998265814043752, 0.9801653883288086, 0.9919525994762085, 0.9945815271553945, 0.9960283383437266, 0.9972475635519054, 0.9801545558313484, 0.9975614618070449, 0.9973237071209783, 0.9975235958346024, 0.9943848700627366, 0.9961412372810573, 0.9974956608891498, 0.9696701436674946, 0.9762877022543369, 0.9975123440964406, 0.9756848691401504, 0.997171867971851, 0.9687632143852909, 0.9974915670484159, 0.9940286218404673, 0.9965493932353322, 0.989193154779117, 0.9761523817779221, 0.9948402354413058, 0.9895189409327437, 0.9952133156476414, 0.9938803177305923, 0.9789400925122429, 0.9787782933424191, 0.992741769746143, 0.9984776668722156, 0.9954522046423243, 0.9722362497301148, 0.9982698861857594, 0.9988322071151939, 0.9980184224821746]}, {\"categories\": [\"0\", \"1\", \"2\", \"3\", \"4\", \"5\", \"6\", \"7\", \"8\", \"9\", \"10\", \"11\", \"12\", \"13\", \"14\", \"15\", \"16\", \"17\", \"18\", \"19\", \"20\", \"21\", \"22\", \"23\", \"24\", \"25\", \"26\", \"27\", \"28\", \"29\", \"30\", \"31\", \"32\", \"33\", \"34\", \"35\", \"36\", \"37\", \"38\", \"39\", \"40\", \"42\", \"48\", \"49\"], \"mode\": \"lines\", \"name\": \"AUC_micro_max\", \"stepped\": true, \"type\": \"scatter\", \"data\": [0.9990409582273198, 0.9990409582273198, 0.9990409582273198, 0.9990409582273198, 0.9990409582273198, 0.9990409582273198, 0.9990409582273198, 0.9990409582273198, 0.9990409582273198, 0.9990409582273198, 0.9990409582273198, 0.9990409582273198, 0.9990409582273198, 0.9990409582273198, 0.9990409582273198, 0.9990409582273198, 0.9990409582273198, 0.9990409582273198, 0.9990409582273198, 0.9990409582273198, 0.9990409582273198, 0.9990409582273198, 0.9990409582273198, 0.9990409582273198, 0.9990409582273198, 0.9990409582273198, 0.9990409582273198, 0.9990409582273198, 0.9990409582273198, 0.9990409582273198, 0.9990409582273198, 0.9990409582273198, 0.9990409582273198, 0.9990409582273198, 0.9990409582273198, 0.9990409582273198, 0.9990409582273198, 0.9990409582273198, 0.9990409582273198, 0.9990409582273198, 0.9990409582273198, 0.9990409582273198, 0.9990409582273198, 0.9990409582273198]}], \"AUC_macro\": [{\"categories\": [\"0\", \"1\", \"2\", \"3\", \"4\", \"5\", \"6\", \"7\", \"8\", \"9\", \"10\", \"11\", \"12\", \"13\", \"14\", \"15\", \"16\", \"17\", \"18\", \"19\", \"20\", \"21\", \"22\", \"23\", \"24\", \"25\", \"26\", \"27\", \"28\", \"29\", \"30\", \"31\", \"32\", \"33\", \"34\", \"35\", \"36\", \"37\", \"38\", \"39\", \"40\", \"42\", \"48\", \"49\"], \"mode\": \"markers\", \"name\": \"AUC_macro\", \"stepped\": false, \"type\": \"scatter\", \"data\": [0.9982348563940859, 0.9980583751239606, 0.9698700923385433, 0.9550724408860654, 0.9848533730383034, 0.99445554243883, 0.9934754029231326, 0.9967994494394906, 0.9654639201839178, 0.9878115099046743, 0.9906018592334381, 0.9918057729478648, 0.9946911799447675, 0.9797621736883505, 0.995255072872241, 0.9948806005356187, 0.9952379037565362, 0.9887882331999139, 0.9923154926294676, 0.9951824368562378, 0.9529016384970936, 0.9911773705843389, 0.9952501113518099, 0.9674836259182547, 0.9946037624629062, 0.9826678110445362, 0.9950837536984961, 0.9874767896553985, 0.9936026361155452, 0.9842256975508715, 0.9729340394640108, 0.989183501882046, 0.9822257320011453, 0.9902179255084279, 0.9884375106776249, 0.9685628302374402, 0.9676328063257067, 0.9868995843593624, 0.9973346550673856, 0.9920353688087307, 0.9583599750537606, 0.9972174097088565, 0.9980359673001894, 0.9975674126876317]}, {\"categories\": [\"0\", \"1\", \"2\", \"3\", \"4\", \"5\", \"6\", \"7\", \"8\", \"9\", \"10\", \"11\", \"12\", \"13\", \"14\", \"15\", \"16\", \"17\", \"18\", \"19\", \"20\", \"21\", \"22\", \"23\", \"24\", \"25\", \"26\", \"27\", \"28\", \"29\", \"30\", \"31\", \"32\", \"33\", \"34\", \"35\", \"36\", \"37\", \"38\", \"39\", \"40\", \"42\", \"48\", \"49\"], \"mode\": \"lines\", \"name\": \"AUC_macro_max\", \"stepped\": true, \"type\": \"scatter\", \"data\": [0.9982348563940859, 0.9982348563940859, 0.9982348563940859, 0.9982348563940859, 0.9982348563940859, 0.9982348563940859, 0.9982348563940859, 0.9982348563940859, 0.9982348563940859, 0.9982348563940859, 0.9982348563940859, 0.9982348563940859, 0.9982348563940859, 0.9982348563940859, 0.9982348563940859, 0.9982348563940859, 0.9982348563940859, 0.9982348563940859, 0.9982348563940859, 0.9982348563940859, 0.9982348563940859, 0.9982348563940859, 0.9982348563940859, 0.9982348563940859, 0.9982348563940859, 0.9982348563940859, 0.9982348563940859, 0.9982348563940859, 0.9982348563940859, 0.9982348563940859, 0.9982348563940859, 0.9982348563940859, 0.9982348563940859, 0.9982348563940859, 0.9982348563940859, 0.9982348563940859, 0.9982348563940859, 0.9982348563940859, 0.9982348563940859, 0.9982348563940859, 0.9982348563940859, 0.9982348563940859, 0.9982348563940859, 0.9982348563940859]}], \"accuracy\": [{\"categories\": [\"0\", \"1\", \"2\", \"3\", \"4\", \"5\", \"6\", \"7\", \"8\", \"9\", \"10\", \"11\", \"12\", \"13\", \"14\", \"15\", \"16\", \"17\", \"18\", \"19\", \"20\", \"21\", \"22\", \"23\", \"24\", \"25\", \"26\", \"27\", \"28\", \"29\", \"30\", \"31\", \"32\", \"33\", \"34\", \"35\", \"36\", \"37\", \"38\", \"39\", \"40\", \"42\", \"48\", \"49\"], \"mode\": \"markers\", \"name\": \"accuracy\", \"stepped\": false, \"type\": \"scatter\", \"data\": [0.9874089614728884, 0.9853106074110641, 0.9234647889899031, 0.9123547748661904, 0.9401306329160212, 0.9764228612173818, 0.9714849095671013, 0.9798790571393311, 0.9279094162655807, 0.9522278899904469, 0.9661767246698755, 0.9739535882914879, 0.9769164141310259, 0.9263057121047988, 0.9787680374438366, 0.977286555962355, 0.9767929116330943, 0.9700040222871272, 0.976052079476737, 0.9780273881187123, 0.9037151306557698, 0.8872976629597634, 0.9776569263327254, 0.9145776827055366, 0.9753115215672293, 0.8373035592670296, 0.980619660756647, 0.968645769056728, 0.972842705719418, 0.9470434818380024, 0.910997892870039, 0.9701269305835516, 0.9465498832165499, 0.9702503416658668, 0.9666704604147527, 0.9266748483643461, 0.9217369881296822, 0.9648190199331751, 0.9827183347731294, 0.9679046169457127, 0.907787970619021, 0.9822244619048272, 0.9885199354605748, 0.9867917232300795]}, {\"categories\": [\"0\", \"1\", \"2\", \"3\", \"4\", \"5\", \"6\", \"7\", \"8\", \"9\", \"10\", \"11\", \"12\", \"13\", \"14\", \"15\", \"16\", \"17\", \"18\", \"19\", \"20\", \"21\", \"22\", \"23\", \"24\", \"25\", \"26\", \"27\", \"28\", \"29\", \"30\", \"31\", \"32\", \"33\", \"34\", \"35\", \"36\", \"37\", \"38\", \"39\", \"40\", \"42\", \"48\", \"49\"], \"mode\": \"lines\", \"name\": \"accuracy_max\", \"stepped\": true, \"type\": \"scatter\", \"data\": [0.9874089614728884, 0.9874089614728884, 0.9874089614728884, 0.9874089614728884, 0.9874089614728884, 0.9874089614728884, 0.9874089614728884, 0.9874089614728884, 0.9874089614728884, 0.9874089614728884, 0.9874089614728884, 0.9874089614728884, 0.9874089614728884, 0.9874089614728884, 0.9874089614728884, 0.9874089614728884, 0.9874089614728884, 0.9874089614728884, 0.9874089614728884, 0.9874089614728884, 0.9874089614728884, 0.9874089614728884, 0.9874089614728884, 0.9874089614728884, 0.9874089614728884, 0.9874089614728884, 0.9874089614728884, 0.9874089614728884, 0.9874089614728884, 0.9874089614728884, 0.9874089614728884, 0.9874089614728884, 0.9874089614728884, 0.9874089614728884, 0.9874089614728884, 0.9874089614728884, 0.9874089614728884, 0.9874089614728884, 0.9874089614728884, 0.9874089614728884, 0.9874089614728884, 0.9874089614728884, 0.9885199354605748, 0.9885199354605748]}], \"balanced_accuracy\": [{\"categories\": [\"0\", \"1\", \"2\", \"3\", \"4\", \"5\", \"6\", \"7\", \"8\", \"9\", \"10\", \"11\", \"12\", \"13\", \"14\", \"15\", \"16\", \"17\", \"18\", \"19\", \"20\", \"21\", \"22\", \"23\", \"24\", \"25\", \"26\", \"27\", \"28\", \"29\", \"30\", \"31\", \"32\", \"33\", \"34\", \"35\", \"36\", \"37\", \"38\", \"39\", \"40\", \"42\", \"48\", \"49\"], \"mode\": \"markers\", \"name\": \"balanced_accuracy\", \"stepped\": false, \"type\": \"scatter\", \"data\": [0.9750558736568098, 0.966000538190876, 0.7921100341933537, 0.7414152904422129, 0.9357647298339588, 0.9461245989089068, 0.934703966529678, 0.95629193774605, 0.8802004130995735, 0.8678932672245061, 0.9103976680305914, 0.9395159891656958, 0.9451636584814728, 0.9233785500921682, 0.9488422633742908, 0.9469346634641006, 0.9474980121324706, 0.9220166966030896, 0.9434679762319561, 0.9463395352047109, 0.7074729326749157, 0.6538538780073612, 0.9468077557218025, 0.7393501977016769, 0.9433546856737908, 0.5, 0.9548884238024984, 0.9301089157018262, 0.9354760628387914, 0.8440446722330283, 0.7284341376551323, 0.9284296643741566, 0.8522233819067071, 0.930878961574194, 0.9139554080237368, 0.7850797470577122, 0.7769072242686338, 0.9041458262089414, 0.9613528157553533, 0.9190018334287346, 0.7212019146988599, 0.9574752767142966, 0.975378526769395, 0.9715335232637541]}, {\"categories\": [\"0\", \"1\", \"2\", \"3\", \"4\", \"5\", \"6\", \"7\", \"8\", \"9\", \"10\", \"11\", \"12\", \"13\", \"14\", \"15\", \"16\", \"17\", \"18\", \"19\", \"20\", \"21\", \"22\", \"23\", \"24\", \"25\", \"26\", \"27\", \"28\", \"29\", \"30\", \"31\", \"32\", \"33\", \"34\", \"35\", \"36\", \"37\", \"38\", \"39\", \"40\", \"42\", \"48\", \"49\"], \"mode\": \"lines\", \"name\": \"balanced_accuracy_max\", \"stepped\": true, \"type\": \"scatter\", \"data\": [0.9750558736568098, 0.9750558736568098, 0.9750558736568098, 0.9750558736568098, 0.9750558736568098, 0.9750558736568098, 0.9750558736568098, 0.9750558736568098, 0.9750558736568098, 0.9750558736568098, 0.9750558736568098, 0.9750558736568098, 0.9750558736568098, 0.9750558736568098, 0.9750558736568098, 0.9750558736568098, 0.9750558736568098, 0.9750558736568098, 0.9750558736568098, 0.9750558736568098, 0.9750558736568098, 0.9750558736568098, 0.9750558736568098, 0.9750558736568098, 0.9750558736568098, 0.9750558736568098, 0.9750558736568098, 0.9750558736568098, 0.9750558736568098, 0.9750558736568098, 0.9750558736568098, 0.9750558736568098, 0.9750558736568098, 0.9750558736568098, 0.9750558736568098, 0.9750558736568098, 0.9750558736568098, 0.9750558736568098, 0.9750558736568098, 0.9750558736568098, 0.9750558736568098, 0.9750558736568098, 0.975378526769395, 0.975378526769395]}], \"precision_score_micro\": [{\"categories\": [\"0\", \"1\", \"2\", \"3\", \"4\", \"5\", \"6\", \"7\", \"8\", \"9\", \"10\", \"11\", \"12\", \"13\", \"14\", \"15\", \"16\", \"17\", \"18\", \"19\", \"20\", \"21\", \"22\", \"23\", \"24\", \"25\", \"26\", \"27\", \"28\", \"29\", \"30\", \"31\", \"32\", \"33\", \"34\", \"35\", \"36\", \"37\", \"38\", \"39\", \"40\", \"42\", \"48\", \"49\"], \"mode\": \"markers\", \"name\": \"precision_score_micro\", \"stepped\": false, \"type\": \"scatter\", \"data\": [0.9874089614728884, 0.9853106074110641, 0.9234647889899031, 0.9123547748661904, 0.9401306329160212, 0.9764228612173818, 0.9714849095671013, 0.9798790571393311, 0.9279094162655807, 0.9522278899904469, 0.9661767246698755, 0.9739535882914879, 0.9769164141310259, 0.9263057121047988, 0.9787680374438366, 0.977286555962355, 0.9767929116330943, 0.9700040222871272, 0.976052079476737, 0.9780273881187123, 0.9037151306557698, 0.8872976629597634, 0.9776569263327254, 0.9145776827055366, 0.9753115215672293, 0.8373035592670296, 0.980619660756647, 0.968645769056728, 0.972842705719418, 0.9470434818380024, 0.910997892870039, 0.9701269305835516, 0.9465498832165499, 0.9702503416658668, 0.9666704604147527, 0.9266748483643461, 0.9217369881296822, 0.9648190199331751, 0.9827183347731294, 0.9679046169457127, 0.907787970619021, 0.9822244619048272, 0.9885199354605748, 0.9867917232300795]}, {\"categories\": [\"0\", \"1\", \"2\", \"3\", \"4\", \"5\", \"6\", \"7\", \"8\", \"9\", \"10\", \"11\", \"12\", \"13\", \"14\", \"15\", \"16\", \"17\", \"18\", \"19\", \"20\", \"21\", \"22\", \"23\", \"24\", \"25\", \"26\", \"27\", \"28\", \"29\", \"30\", \"31\", \"32\", \"33\", \"34\", \"35\", \"36\", \"37\", \"38\", \"39\", \"40\", \"42\", \"48\", \"49\"], \"mode\": \"lines\", \"name\": \"precision_score_micro_max\", \"stepped\": true, \"type\": \"scatter\", \"data\": [0.9874089614728884, 0.9874089614728884, 0.9874089614728884, 0.9874089614728884, 0.9874089614728884, 0.9874089614728884, 0.9874089614728884, 0.9874089614728884, 0.9874089614728884, 0.9874089614728884, 0.9874089614728884, 0.9874089614728884, 0.9874089614728884, 0.9874089614728884, 0.9874089614728884, 0.9874089614728884, 0.9874089614728884, 0.9874089614728884, 0.9874089614728884, 0.9874089614728884, 0.9874089614728884, 0.9874089614728884, 0.9874089614728884, 0.9874089614728884, 0.9874089614728884, 0.9874089614728884, 0.9874089614728884, 0.9874089614728884, 0.9874089614728884, 0.9874089614728884, 0.9874089614728884, 0.9874089614728884, 0.9874089614728884, 0.9874089614728884, 0.9874089614728884, 0.9874089614728884, 0.9874089614728884, 0.9874089614728884, 0.9874089614728884, 0.9874089614728884, 0.9874089614728884, 0.9874089614728884, 0.9885199354605748, 0.9885199354605748]}], \"precision_score_macro\": [{\"categories\": [\"0\", \"1\", \"2\", \"3\", \"4\", \"5\", \"6\", \"7\", \"8\", \"9\", \"10\", \"11\", \"12\", \"13\", \"14\", \"15\", \"16\", \"17\", \"18\", \"19\", \"20\", \"21\", \"22\", \"23\", \"24\", \"25\", \"26\", \"27\", \"28\", \"29\", \"30\", \"31\", \"32\", \"33\", \"34\", \"35\", \"36\", \"37\", \"38\", \"39\", \"40\", \"42\", \"48\", \"49\"], \"mode\": \"markers\", \"name\": \"precision_score_macro\", \"stepped\": false, \"type\": \"scatter\", \"data\": [0.9786522709509162, 0.9796563414116992, 0.9131233217999827, 0.9318488223372864, 0.8715122508990328, 0.9663202476603691, 0.9591925660088753, 0.9692810059386449, 0.862625083277066, 0.9529508521275281, 0.9632363425917978, 0.9637303819995907, 0.9689439949026827, 0.8479553768401292, 0.9722635531221551, 0.9687784790494108, 0.9665064663378077, 0.9661812917118864, 0.9675524840839147, 0.9718891977707985, 0.9400211206237762, 0.9386681850567277, 0.9702080800453897, 0.9493841678201904, 0.9649853944744785, 0.4186517796335148, 0.9731768424337313, 0.9529549836456885, 0.9635112734668327, 0.9599094172681285, 0.9475419643965747, 0.9600822201599927, 0.9464911479261501, 0.958341485902773, 0.9615404501052671, 0.9407652908384505, 0.9264877150884967, 0.9644681108057415, 0.9745603920692578, 0.9612442142051636, 0.9399621476808493, 0.9766251206673239, 0.9823221104805429, 0.979735372093511]}, {\"categories\": [\"0\", \"1\", \"2\", \"3\", \"4\", \"5\", \"6\", \"7\", \"8\", \"9\", \"10\", \"11\", \"12\", \"13\", \"14\", \"15\", \"16\", \"17\", \"18\", \"19\", \"20\", \"21\", \"22\", \"23\", \"24\", \"25\", \"26\", \"27\", \"28\", \"29\", \"30\", \"31\", \"32\", \"33\", \"34\", \"35\", \"36\", \"37\", \"38\", \"39\", \"40\", \"42\", \"48\", \"49\"], \"mode\": \"lines\", \"name\": \"precision_score_macro_max\", \"stepped\": true, \"type\": \"scatter\", \"data\": [0.9786522709509162, 0.9796563414116992, 0.9796563414116992, 0.9796563414116992, 0.9796563414116992, 0.9796563414116992, 0.9796563414116992, 0.9796563414116992, 0.9796563414116992, 0.9796563414116992, 0.9796563414116992, 0.9796563414116992, 0.9796563414116992, 0.9796563414116992, 0.9796563414116992, 0.9796563414116992, 0.9796563414116992, 0.9796563414116992, 0.9796563414116992, 0.9796563414116992, 0.9796563414116992, 0.9796563414116992, 0.9796563414116992, 0.9796563414116992, 0.9796563414116992, 0.9796563414116992, 0.9796563414116992, 0.9796563414116992, 0.9796563414116992, 0.9796563414116992, 0.9796563414116992, 0.9796563414116992, 0.9796563414116992, 0.9796563414116992, 0.9796563414116992, 0.9796563414116992, 0.9796563414116992, 0.9796563414116992, 0.9796563414116992, 0.9796563414116992, 0.9796563414116992, 0.9796563414116992, 0.9823221104805429, 0.9823221104805429]}], \"recall_score_macro\": [{\"categories\": [\"0\", \"1\", \"2\", \"3\", \"4\", \"5\", \"6\", \"7\", \"8\", \"9\", \"10\", \"11\", \"12\", \"13\", \"14\", \"15\", \"16\", \"17\", \"18\", \"19\", \"20\", \"21\", \"22\", \"23\", \"24\", \"25\", \"26\", \"27\", \"28\", \"29\", \"30\", \"31\", \"32\", \"33\", \"34\", \"35\", \"36\", \"37\", \"38\", \"39\", \"40\", \"42\", \"48\", \"49\"], \"mode\": \"markers\", \"name\": \"recall_score_macro\", \"stepped\": false, \"type\": \"scatter\", \"data\": [0.9750558736568098, 0.966000538190876, 0.7921100341933537, 0.7414152904422129, 0.9357647298339588, 0.9461245989089068, 0.934703966529678, 0.95629193774605, 0.8802004130995735, 0.8678932672245061, 0.9103976680305914, 0.9395159891656958, 0.9451636584814728, 0.9233785500921682, 0.9488422633742908, 0.9469346634641006, 0.9474980121324706, 0.9220166966030896, 0.9434679762319561, 0.9463395352047109, 0.7074729326749157, 0.6538538780073612, 0.9468077557218025, 0.7393501977016769, 0.9433546856737908, 0.5, 0.9548884238024984, 0.9301089157018262, 0.9354760628387914, 0.8440446722330283, 0.7284341376551323, 0.9284296643741566, 0.8522233819067071, 0.930878961574194, 0.9139554080237368, 0.7850797470577122, 0.7769072242686338, 0.9041458262089414, 0.9613528157553533, 0.9190018334287346, 0.7212019146988599, 0.9574752767142966, 0.975378526769395, 0.9715335232637541]}, {\"categories\": [\"0\", \"1\", \"2\", \"3\", \"4\", \"5\", \"6\", \"7\", \"8\", \"9\", \"10\", \"11\", \"12\", \"13\", \"14\", \"15\", \"16\", \"17\", \"18\", \"19\", \"20\", \"21\", \"22\", \"23\", \"24\", \"25\", \"26\", \"27\", \"28\", \"29\", \"30\", \"31\", \"32\", \"33\", \"34\", \"35\", \"36\", \"37\", \"38\", \"39\", \"40\", \"42\", \"48\", \"49\"], \"mode\": \"lines\", \"name\": \"recall_score_macro_max\", \"stepped\": true, \"type\": \"scatter\", \"data\": [0.9750558736568098, 0.9750558736568098, 0.9750558736568098, 0.9750558736568098, 0.9750558736568098, 0.9750558736568098, 0.9750558736568098, 0.9750558736568098, 0.9750558736568098, 0.9750558736568098, 0.9750558736568098, 0.9750558736568098, 0.9750558736568098, 0.9750558736568098, 0.9750558736568098, 0.9750558736568098, 0.9750558736568098, 0.9750558736568098, 0.9750558736568098, 0.9750558736568098, 0.9750558736568098, 0.9750558736568098, 0.9750558736568098, 0.9750558736568098, 0.9750558736568098, 0.9750558736568098, 0.9750558736568098, 0.9750558736568098, 0.9750558736568098, 0.9750558736568098, 0.9750558736568098, 0.9750558736568098, 0.9750558736568098, 0.9750558736568098, 0.9750558736568098, 0.9750558736568098, 0.9750558736568098, 0.9750558736568098, 0.9750558736568098, 0.9750558736568098, 0.9750558736568098, 0.9750558736568098, 0.975378526769395, 0.975378526769395]}], \"recall_score_micro\": [{\"categories\": [\"0\", \"1\", \"2\", \"3\", \"4\", \"5\", \"6\", \"7\", \"8\", \"9\", \"10\", \"11\", \"12\", \"13\", \"14\", \"15\", \"16\", \"17\", \"18\", \"19\", \"20\", \"21\", \"22\", \"23\", \"24\", \"25\", \"26\", \"27\", \"28\", \"29\", \"30\", \"31\", \"32\", \"33\", \"34\", \"35\", \"36\", \"37\", \"38\", \"39\", \"40\", \"42\", \"48\", \"49\"], \"mode\": \"markers\", \"name\": \"recall_score_micro\", \"stepped\": false, \"type\": \"scatter\", \"data\": [0.9874089614728884, 0.9853106074110641, 0.9234647889899031, 0.9123547748661904, 0.9401306329160212, 0.9764228612173818, 0.9714849095671013, 0.9798790571393311, 0.9279094162655807, 0.9522278899904469, 0.9661767246698755, 0.9739535882914879, 0.9769164141310259, 0.9263057121047988, 0.9787680374438366, 0.977286555962355, 0.9767929116330943, 0.9700040222871272, 0.976052079476737, 0.9780273881187123, 0.9037151306557698, 0.8872976629597634, 0.9776569263327254, 0.9145776827055366, 0.9753115215672293, 0.8373035592670296, 0.980619660756647, 0.968645769056728, 0.972842705719418, 0.9470434818380024, 0.910997892870039, 0.9701269305835516, 0.9465498832165499, 0.9702503416658668, 0.9666704604147527, 0.9266748483643461, 0.9217369881296822, 0.9648190199331751, 0.9827183347731294, 0.9679046169457127, 0.907787970619021, 0.9822244619048272, 0.9885199354605748, 0.9867917232300795]}, {\"categories\": [\"0\", \"1\", \"2\", \"3\", \"4\", \"5\", \"6\", \"7\", \"8\", \"9\", \"10\", \"11\", \"12\", \"13\", \"14\", \"15\", \"16\", \"17\", \"18\", \"19\", \"20\", \"21\", \"22\", \"23\", \"24\", \"25\", \"26\", \"27\", \"28\", \"29\", \"30\", \"31\", \"32\", \"33\", \"34\", \"35\", \"36\", \"37\", \"38\", \"39\", \"40\", \"42\", \"48\", \"49\"], \"mode\": \"lines\", \"name\": \"recall_score_micro_max\", \"stepped\": true, \"type\": \"scatter\", \"data\": [0.9874089614728884, 0.9874089614728884, 0.9874089614728884, 0.9874089614728884, 0.9874089614728884, 0.9874089614728884, 0.9874089614728884, 0.9874089614728884, 0.9874089614728884, 0.9874089614728884, 0.9874089614728884, 0.9874089614728884, 0.9874089614728884, 0.9874089614728884, 0.9874089614728884, 0.9874089614728884, 0.9874089614728884, 0.9874089614728884, 0.9874089614728884, 0.9874089614728884, 0.9874089614728884, 0.9874089614728884, 0.9874089614728884, 0.9874089614728884, 0.9874089614728884, 0.9874089614728884, 0.9874089614728884, 0.9874089614728884, 0.9874089614728884, 0.9874089614728884, 0.9874089614728884, 0.9874089614728884, 0.9874089614728884, 0.9874089614728884, 0.9874089614728884, 0.9874089614728884, 0.9874089614728884, 0.9874089614728884, 0.9874089614728884, 0.9874089614728884, 0.9874089614728884, 0.9874089614728884, 0.9885199354605748, 0.9885199354605748]}], \"average_precision_score_weighted\": [{\"categories\": [\"0\", \"1\", \"2\", \"3\", \"4\", \"5\", \"6\", \"7\", \"8\", \"9\", \"10\", \"11\", \"12\", \"13\", \"14\", \"15\", \"16\", \"17\", \"18\", \"19\", \"20\", \"21\", \"22\", \"23\", \"24\", \"25\", \"26\", \"27\", \"28\", \"29\", \"30\", \"31\", \"32\", \"33\", \"34\", \"35\", \"36\", \"37\", \"38\", \"39\", \"40\", \"42\", \"48\", \"49\"], \"mode\": \"markers\", \"name\": \"average_precision_score_weighted\", \"stepped\": false, \"type\": \"scatter\", \"data\": [0.9983621673771177, 0.9981571799370664, 0.9758919771302246, 0.9677187699566329, 0.9868346544264796, 0.9947488676745166, 0.9944300560170297, 0.997182339002883, 0.9762786915201799, 0.9900478497739938, 0.9926691754478462, 0.9937969037492714, 0.995625721182478, 0.9838196969817904, 0.9961080540192128, 0.9957223343970402, 0.995935108108247, 0.9919145013086877, 0.9939931499252453, 0.9960004611077001, 0.9672348220742295, 0.9921812735013985, 0.9960527706574451, 0.9775600784452937, 0.9953258367768855, 0.9852484659132168, 0.9960074210278708, 0.9895012245430316, 0.9946872084213468, 0.9884006566235387, 0.9790932097875554, 0.9920912420262082, 0.9861307998536261, 0.9924817366741668, 0.9912773787604752, 0.9764855951889588, 0.9746278736083775, 0.9904113321529477, 0.9975779497224796, 0.9934462754110139, 0.9713935999716442, 0.9973835696671802, 0.9981344883921791, 0.9978758616362412]}, {\"categories\": [\"0\", \"1\", \"2\", \"3\", \"4\", \"5\", \"6\", \"7\", \"8\", \"9\", \"10\", \"11\", \"12\", \"13\", \"14\", \"15\", \"16\", \"17\", \"18\", \"19\", \"20\", \"21\", \"22\", \"23\", \"24\", \"25\", \"26\", \"27\", \"28\", \"29\", \"30\", \"31\", \"32\", \"33\", \"34\", \"35\", \"36\", \"37\", \"38\", \"39\", \"40\", \"42\", \"48\", \"49\"], \"mode\": \"lines\", \"name\": \"average_precision_score_weighted_max\", \"stepped\": true, \"type\": \"scatter\", \"data\": [0.9983621673771177, 0.9983621673771177, 0.9983621673771177, 0.9983621673771177, 0.9983621673771177, 0.9983621673771177, 0.9983621673771177, 0.9983621673771177, 0.9983621673771177, 0.9983621673771177, 0.9983621673771177, 0.9983621673771177, 0.9983621673771177, 0.9983621673771177, 0.9983621673771177, 0.9983621673771177, 0.9983621673771177, 0.9983621673771177, 0.9983621673771177, 0.9983621673771177, 0.9983621673771177, 0.9983621673771177, 0.9983621673771177, 0.9983621673771177, 0.9983621673771177, 0.9983621673771177, 0.9983621673771177, 0.9983621673771177, 0.9983621673771177, 0.9983621673771177, 0.9983621673771177, 0.9983621673771177, 0.9983621673771177, 0.9983621673771177, 0.9983621673771177, 0.9983621673771177, 0.9983621673771177, 0.9983621673771177, 0.9983621673771177, 0.9983621673771177, 0.9983621673771177, 0.9983621673771177, 0.9983621673771177, 0.9983621673771177]}], \"AUC_weighted\": [{\"categories\": [\"0\", \"1\", \"2\", \"3\", \"4\", \"5\", \"6\", \"7\", \"8\", \"9\", \"10\", \"11\", \"12\", \"13\", \"14\", \"15\", \"16\", \"17\", \"18\", \"19\", \"20\", \"21\", \"22\", \"23\", \"24\", \"25\", \"26\", \"27\", \"28\", \"29\", \"30\", \"31\", \"32\", \"33\", \"34\", \"35\", \"36\", \"37\", \"38\", \"39\", \"40\", \"42\", \"48\", \"49\"], \"mode\": \"markers\", \"name\": \"AUC_weighted\", \"stepped\": false, \"type\": \"scatter\", \"data\": [0.9982348563940859, 0.9980583751239606, 0.9698700923385433, 0.9550724408860654, 0.9848533730383034, 0.99445554243883, 0.9934754029231326, 0.9967994494394906, 0.9654639201839178, 0.9878115099046743, 0.9906018592334381, 0.9918057729478648, 0.9946911799447675, 0.9797621736883505, 0.995255072872241, 0.9948806005356187, 0.9952379037565362, 0.9887882331999139, 0.9923154926294678, 0.9951824368562378, 0.9529016384970938, 0.9911773705843389, 0.9952501113518099, 0.9674836259182547, 0.9946037624629059, 0.9826678110445362, 0.9950837536984962, 0.9874767896553985, 0.9936026361155452, 0.9842256975508715, 0.972934039464011, 0.989183501882046, 0.9822257320011452, 0.9902179255084279, 0.988437510677625, 0.9685628302374402, 0.9676328063257067, 0.9868995843593624, 0.997334655067386, 0.9920353688087306, 0.9583599750537606, 0.9972174097088565, 0.9980359673001895, 0.9975674126876317]}, {\"categories\": [\"0\", \"1\", \"2\", \"3\", \"4\", \"5\", \"6\", \"7\", \"8\", \"9\", \"10\", \"11\", \"12\", \"13\", \"14\", \"15\", \"16\", \"17\", \"18\", \"19\", \"20\", \"21\", \"22\", \"23\", \"24\", \"25\", \"26\", \"27\", \"28\", \"29\", \"30\", \"31\", \"32\", \"33\", \"34\", \"35\", \"36\", \"37\", \"38\", \"39\", \"40\", \"42\", \"48\", \"49\"], \"mode\": \"lines\", \"name\": \"AUC_weighted_max\", \"stepped\": true, \"type\": \"scatter\", \"data\": [0.9982348563940859, 0.9982348563940859, 0.9982348563940859, 0.9982348563940859, 0.9982348563940859, 0.9982348563940859, 0.9982348563940859, 0.9982348563940859, 0.9982348563940859, 0.9982348563940859, 0.9982348563940859, 0.9982348563940859, 0.9982348563940859, 0.9982348563940859, 0.9982348563940859, 0.9982348563940859, 0.9982348563940859, 0.9982348563940859, 0.9982348563940859, 0.9982348563940859, 0.9982348563940859, 0.9982348563940859, 0.9982348563940859, 0.9982348563940859, 0.9982348563940859, 0.9982348563940859, 0.9982348563940859, 0.9982348563940859, 0.9982348563940859, 0.9982348563940859, 0.9982348563940859, 0.9982348563940859, 0.9982348563940859, 0.9982348563940859, 0.9982348563940859, 0.9982348563940859, 0.9982348563940859, 0.9982348563940859, 0.9982348563940859, 0.9982348563940859, 0.9982348563940859, 0.9982348563940859, 0.9982348563940859, 0.9982348563940859]}], \"f1_score_weighted\": [{\"categories\": [\"0\", \"1\", \"2\", \"3\", \"4\", \"5\", \"6\", \"7\", \"8\", \"9\", \"10\", \"11\", \"12\", \"13\", \"14\", \"15\", \"16\", \"17\", \"18\", \"19\", \"20\", \"21\", \"22\", \"23\", \"24\", \"25\", \"26\", \"27\", \"28\", \"29\", \"30\", \"31\", \"32\", \"33\", \"34\", \"35\", \"36\", \"37\", \"38\", \"39\", \"40\", \"42\", \"48\", \"49\"], \"mode\": \"markers\", \"name\": \"f1_score_weighted\", \"stepped\": false, \"type\": \"scatter\", \"data\": [0.9873862570688954, 0.9852013763530646, 0.9169586922559132, 0.8995227647598125, 0.9425078218073769, 0.9761587279279457, 0.971095972962465, 0.9797390334933649, 0.9287798867474129, 0.9497645428055154, 0.9651615959406099, 0.9736149563147798, 0.9766184237564467, 0.9299278377538877, 0.9784988808167564, 0.9770227116651045, 0.9765610551325944, 0.969259175474298, 0.9757425610528805, 0.9777222524016832, 0.8867468298973407, 0.8611065656047399, 0.9773774066601542, 0.9017514653350945, 0.9750228064683287, 0.7631713985796408, 0.9804293349463556, 0.9682470840006322, 0.9724275522884612, 0.9432451758367524, 0.8968193927026494, 0.9695981809276746, 0.9434032837823537, 0.9698035289437931, 0.9657799177692293, 0.9188383966191868, 0.9132907689309301, 0.9636026368019867, 0.9825915786664824, 0.9671343316033659, 0.8926666053149083, 0.9820407664614743, 0.9884787521575996, 0.9867355333960903]}, {\"categories\": [\"0\", \"1\", \"2\", \"3\", \"4\", \"5\", \"6\", \"7\", \"8\", \"9\", \"10\", \"11\", \"12\", \"13\", \"14\", \"15\", \"16\", \"17\", \"18\", \"19\", \"20\", \"21\", \"22\", \"23\", \"24\", \"25\", \"26\", \"27\", \"28\", \"29\", \"30\", \"31\", \"32\", \"33\", \"34\", \"35\", \"36\", \"37\", \"38\", \"39\", \"40\", \"42\", \"48\", \"49\"], \"mode\": \"lines\", \"name\": \"f1_score_weighted_max\", \"stepped\": true, \"type\": \"scatter\", \"data\": [0.9873862570688954, 0.9873862570688954, 0.9873862570688954, 0.9873862570688954, 0.9873862570688954, 0.9873862570688954, 0.9873862570688954, 0.9873862570688954, 0.9873862570688954, 0.9873862570688954, 0.9873862570688954, 0.9873862570688954, 0.9873862570688954, 0.9873862570688954, 0.9873862570688954, 0.9873862570688954, 0.9873862570688954, 0.9873862570688954, 0.9873862570688954, 0.9873862570688954, 0.9873862570688954, 0.9873862570688954, 0.9873862570688954, 0.9873862570688954, 0.9873862570688954, 0.9873862570688954, 0.9873862570688954, 0.9873862570688954, 0.9873862570688954, 0.9873862570688954, 0.9873862570688954, 0.9873862570688954, 0.9873862570688954, 0.9873862570688954, 0.9873862570688954, 0.9873862570688954, 0.9873862570688954, 0.9873862570688954, 0.9873862570688954, 0.9873862570688954, 0.9873862570688954, 0.9873862570688954, 0.9884787521575996, 0.9884787521575996]}], \"matthews_correlation\": [{\"categories\": [\"0\", \"1\", \"2\", \"3\", \"4\", \"5\", \"6\", \"7\", \"8\", \"9\", \"10\", \"11\", \"12\", \"13\", \"14\", \"15\", \"16\", \"17\", \"18\", \"19\", \"20\", \"21\", \"22\", \"23\", \"24\", \"25\", \"26\", \"27\", \"28\", \"29\", \"30\", \"31\", \"32\", \"33\", \"34\", \"35\", \"36\", \"37\", \"38\", \"39\", \"40\", \"42\", \"48\", \"49\"], \"mode\": \"markers\", \"name\": \"matthews_correlation\", \"stepped\": false, \"type\": \"scatter\", \"data\": [0.9537000545583414, 0.9455203753613054, 0.6947111819199007, 0.642388463359838, 0.8047123263967556, 0.9121159709801573, 0.8935178003307569, 0.925421850972224, 0.7426059680408685, 0.8163770630983329, 0.8720133484754502, 0.902906591885916, 0.9137883828543676, 0.7675923784443223, 0.9207549378177416, 0.915428176587669, 0.9137649483230045, 0.8870324786948838, 0.9106861256543556, 0.9178480365969612, 0.6042281894754081, 0.5192090170395286, 0.916693910298109, 0.6558678287523074, 0.9080426752841646, 0.0, 0.9278508979443997, 0.8827397579539724, 0.8985186237783079, 0.7955535331454473, 0.6394082350861504, 0.8879430234148386, 0.793055661449341, 0.8887724411785379, 0.8741489816405211, 0.7088937602952816, 0.6869171091802798, 0.8664548522324326, 0.9357761450892198, 0.8792313552232217, 0.6237248854879582, 0.9338557109114866, 0.9576683612324097, 0.9512100164202143]}, {\"categories\": [\"0\", \"1\", \"2\", \"3\", \"4\", \"5\", \"6\", \"7\", \"8\", \"9\", \"10\", \"11\", \"12\", \"13\", \"14\", \"15\", \"16\", \"17\", \"18\", \"19\", \"20\", \"21\", \"22\", \"23\", \"24\", \"25\", \"26\", \"27\", \"28\", \"29\", \"30\", \"31\", \"32\", \"33\", \"34\", \"35\", \"36\", \"37\", \"38\", \"39\", \"40\", \"42\", \"48\", \"49\"], \"mode\": \"lines\", \"name\": \"matthews_correlation_max\", \"stepped\": true, \"type\": \"scatter\", \"data\": [0.9537000545583414, 0.9537000545583414, 0.9537000545583414, 0.9537000545583414, 0.9537000545583414, 0.9537000545583414, 0.9537000545583414, 0.9537000545583414, 0.9537000545583414, 0.9537000545583414, 0.9537000545583414, 0.9537000545583414, 0.9537000545583414, 0.9537000545583414, 0.9537000545583414, 0.9537000545583414, 0.9537000545583414, 0.9537000545583414, 0.9537000545583414, 0.9537000545583414, 0.9537000545583414, 0.9537000545583414, 0.9537000545583414, 0.9537000545583414, 0.9537000545583414, 0.9537000545583414, 0.9537000545583414, 0.9537000545583414, 0.9537000545583414, 0.9537000545583414, 0.9537000545583414, 0.9537000545583414, 0.9537000545583414, 0.9537000545583414, 0.9537000545583414, 0.9537000545583414, 0.9537000545583414, 0.9537000545583414, 0.9537000545583414, 0.9537000545583414, 0.9537000545583414, 0.9537000545583414, 0.9576683612324097, 0.9576683612324097]}], \"weighted_accuracy\": [{\"categories\": [\"0\", \"1\", \"2\", \"3\", \"4\", \"5\", \"6\", \"7\", \"8\", \"9\", \"10\", \"11\", \"12\", \"13\", \"14\", \"15\", \"16\", \"17\", \"18\", \"19\", \"20\", \"21\", \"22\", \"23\", \"24\", \"25\", \"26\", \"27\", \"28\", \"29\", \"30\", \"31\", \"32\", \"33\", \"34\", \"35\", \"36\", \"37\", \"38\", \"39\", \"40\", \"42\", \"48\", \"49\"], \"mode\": \"markers\", \"name\": \"weighted_accuracy\", \"stepped\": false, \"type\": \"scatter\", \"data\": [0.9920264572700059, 0.9924851054037255, 0.9726318144476376, 0.9762595284017953, 0.9417448074522108, 0.9876452954598544, 0.9852456872026836, 0.9886367982229483, 0.9457316275101791, 0.9837912590155269, 0.9870388291778566, 0.9868276892542226, 0.9887666375340799, 0.9273128430425276, 0.9898814598110007, 0.9886144186431042, 0.9877051071968014, 0.9879036150094941, 0.9882215930825056, 0.9898256978272832, 0.9772397807607024, 0.9745453970014107, 0.9891599393591584, 0.9801592369641027, 0.9872533951672304, 0.9635304322903258, 0.9901790359801069, 0.9830225676081273, 0.986809623635282, 0.9856028878693829, 0.9793470072725995, 0.985740148783668, 0.9818346227809372, 0.9849676104304902, 0.9863521877821261, 0.9797518220353454, 0.97617996959562, 0.987441899449926, 0.9906523914141286, 0.9862537445956384, 0.9777765735579992, 0.9914489980414726, 0.9934225703198244, 0.9924690918704124]}, {\"categories\": [\"0\", \"1\", \"2\", \"3\", \"4\", \"5\", \"6\", \"7\", \"8\", \"9\", \"10\", \"11\", \"12\", \"13\", \"14\", \"15\", \"16\", \"17\", \"18\", \"19\", \"20\", \"21\", \"22\", \"23\", \"24\", \"25\", \"26\", \"27\", \"28\", \"29\", \"30\", \"31\", \"32\", \"33\", \"34\", \"35\", \"36\", \"37\", \"38\", \"39\", \"40\", \"42\", \"48\", \"49\"], \"mode\": \"lines\", \"name\": \"weighted_accuracy_max\", \"stepped\": true, \"type\": \"scatter\", \"data\": [0.9920264572700059, 0.9924851054037255, 0.9924851054037255, 0.9924851054037255, 0.9924851054037255, 0.9924851054037255, 0.9924851054037255, 0.9924851054037255, 0.9924851054037255, 0.9924851054037255, 0.9924851054037255, 0.9924851054037255, 0.9924851054037255, 0.9924851054037255, 0.9924851054037255, 0.9924851054037255, 0.9924851054037255, 0.9924851054037255, 0.9924851054037255, 0.9924851054037255, 0.9924851054037255, 0.9924851054037255, 0.9924851054037255, 0.9924851054037255, 0.9924851054037255, 0.9924851054037255, 0.9924851054037255, 0.9924851054037255, 0.9924851054037255, 0.9924851054037255, 0.9924851054037255, 0.9924851054037255, 0.9924851054037255, 0.9924851054037255, 0.9924851054037255, 0.9924851054037255, 0.9924851054037255, 0.9924851054037255, 0.9924851054037255, 0.9924851054037255, 0.9924851054037255, 0.9924851054037255, 0.9934225703198244, 0.9934225703198244]}], \"average_precision_score_macro\": [{\"categories\": [\"0\", \"1\", \"2\", \"3\", \"4\", \"5\", \"6\", \"7\", \"8\", \"9\", \"10\", \"11\", \"12\", \"13\", \"14\", \"15\", \"16\", \"17\", \"18\", \"19\", \"20\", \"21\", \"22\", \"23\", \"24\", \"25\", \"26\", \"27\", \"28\", \"29\", \"30\", \"31\", \"32\", \"33\", \"34\", \"35\", \"36\", \"37\", \"38\", \"39\", \"40\", \"42\", \"48\", \"49\"], \"mode\": \"markers\", \"name\": \"average_precision_score_macro\", \"stepped\": false, \"type\": \"scatter\", \"data\": [0.99570583306166, 0.9951287622344864, 0.9388555857946964, 0.9204800930528066, 0.9658579191274527, 0.9863771870170223, 0.9855990738580268, 0.992710671304911, 0.9428211774993415, 0.9747172632912102, 0.9814469194650305, 0.9844598396658092, 0.9887950210465762, 0.9587687404637638, 0.990022506664923, 0.9890371821008955, 0.989468247973235, 0.9801449949342299, 0.9847765198629924, 0.9897264564367599, 0.9207365004141336, 0.9796459010580939, 0.9898647371888121, 0.9460112392795037, 0.9878964998945734, 0.9618590501581572, 0.9898909219589299, 0.9739814923389436, 0.9863720682071307, 0.9714331362843805, 0.9478451993982584, 0.9804913270677211, 0.9650649623323155, 0.9814860828722519, 0.9783004610430805, 0.9423445574084731, 0.9359161466730669, 0.9764802457773648, 0.9936363569274181, 0.9833255570840285, 0.9307706762761931, 0.9930952668978769, 0.9950811047722569, 0.9945127445082717]}, {\"categories\": [\"0\", \"1\", \"2\", \"3\", \"4\", \"5\", \"6\", \"7\", \"8\", \"9\", \"10\", \"11\", \"12\", \"13\", \"14\", \"15\", \"16\", \"17\", \"18\", \"19\", \"20\", \"21\", \"22\", \"23\", \"24\", \"25\", \"26\", \"27\", \"28\", \"29\", \"30\", \"31\", \"32\", \"33\", \"34\", \"35\", \"36\", \"37\", \"38\", \"39\", \"40\", \"42\", \"48\", \"49\"], \"mode\": \"lines\", \"name\": \"average_precision_score_macro_max\", \"stepped\": true, \"type\": \"scatter\", \"data\": [0.99570583306166, 0.99570583306166, 0.99570583306166, 0.99570583306166, 0.99570583306166, 0.99570583306166, 0.99570583306166, 0.99570583306166, 0.99570583306166, 0.99570583306166, 0.99570583306166, 0.99570583306166, 0.99570583306166, 0.99570583306166, 0.99570583306166, 0.99570583306166, 0.99570583306166, 0.99570583306166, 0.99570583306166, 0.99570583306166, 0.99570583306166, 0.99570583306166, 0.99570583306166, 0.99570583306166, 0.99570583306166, 0.99570583306166, 0.99570583306166, 0.99570583306166, 0.99570583306166, 0.99570583306166, 0.99570583306166, 0.99570583306166, 0.99570583306166, 0.99570583306166, 0.99570583306166, 0.99570583306166, 0.99570583306166, 0.99570583306166, 0.99570583306166, 0.99570583306166, 0.99570583306166, 0.99570583306166, 0.99570583306166, 0.99570583306166]}], \"log_loss\": [{\"categories\": [\"0\", \"1\", \"2\", \"3\", \"4\", \"5\", \"6\", \"7\", \"8\", \"9\", \"10\", \"11\", \"12\", \"13\", \"14\", \"15\", \"16\", \"17\", \"18\", \"19\", \"20\", \"21\", \"22\", \"23\", \"24\", \"25\", \"26\", \"27\", \"28\", \"29\", \"30\", \"31\", \"32\", \"33\", \"34\", \"35\", \"36\", \"37\", \"38\", \"39\", \"40\", \"42\", \"48\", \"49\"], \"mode\": \"markers\", \"name\": \"log_loss\", \"stepped\": false, \"type\": \"scatter\", \"data\": [0.04076043957448076, 0.044375149243352986, 0.20205319305505332, 0.2396793838863136, 0.24719658744562792, 0.24372108822511765, 0.07849128924376841, 0.051823607072295726, 0.4012654520731753, 0.1399940949544174, 0.11431504737617411, 0.10744723053422699, 0.06500954155810958, 0.18087733857869223, 0.060981743207833124, 0.06500848381777033, 0.06257396169125272, 0.26843301738513564, 0.10671507137304159, 0.06253364578843616, 0.2490155595179342, 0.24978933982579313, 0.062492005851740674, 0.23924822894343997, 0.06817484125090613, 0.44426011279917005, 0.06569381124791579, 0.25576989825587076, 0.08081633479918564, 0.16433944030495506, 0.24247128109686233, 0.25658452742923094, 0.15461721370893391, 0.12121385446198092, 0.27534273440898493, 0.21930328619779207, 0.21423990003539742, 0.286070353939948, 0.09433760717538875, 0.10283574478904002, 0.2430926225021457, 0.10515569466872043, 0.08394512918228525, 0.04690900117545058]}, {\"categories\": [\"0\", \"1\", \"2\", \"3\", \"4\", \"5\", \"6\", \"7\", \"8\", \"9\", \"10\", \"11\", \"12\", \"13\", \"14\", \"15\", \"16\", \"17\", \"18\", \"19\", \"20\", \"21\", \"22\", \"23\", \"24\", \"25\", \"26\", \"27\", \"28\", \"29\", \"30\", \"31\", \"32\", \"33\", \"34\", \"35\", \"36\", \"37\", \"38\", \"39\", \"40\", \"42\", \"48\", \"49\"], \"mode\": \"lines\", \"name\": \"log_loss_min\", \"stepped\": true, \"type\": \"scatter\", \"data\": [0.04076043957448076, 0.04076043957448076, 0.04076043957448076, 0.04076043957448076, 0.04076043957448076, 0.04076043957448076, 0.04076043957448076, 0.04076043957448076, 0.04076043957448076, 0.04076043957448076, 0.04076043957448076, 0.04076043957448076, 0.04076043957448076, 0.04076043957448076, 0.04076043957448076, 0.04076043957448076, 0.04076043957448076, 0.04076043957448076, 0.04076043957448076, 0.04076043957448076, 0.04076043957448076, 0.04076043957448076, 0.04076043957448076, 0.04076043957448076, 0.04076043957448076, 0.04076043957448076, 0.04076043957448076, 0.04076043957448076, 0.04076043957448076, 0.04076043957448076, 0.04076043957448076, 0.04076043957448076, 0.04076043957448076, 0.04076043957448076, 0.04076043957448076, 0.04076043957448076, 0.04076043957448076, 0.04076043957448076, 0.04076043957448076, 0.04076043957448076, 0.04076043957448076, 0.04076043957448076, 0.04076043957448076, 0.04076043957448076]}], \"recall_score_weighted\": [{\"categories\": [\"0\", \"1\", \"2\", \"3\", \"4\", \"5\", \"6\", \"7\", \"8\", \"9\", \"10\", \"11\", \"12\", \"13\", \"14\", \"15\", \"16\", \"17\", \"18\", \"19\", \"20\", \"21\", \"22\", \"23\", \"24\", \"25\", \"26\", \"27\", \"28\", \"29\", \"30\", \"31\", \"32\", \"33\", \"34\", \"35\", \"36\", \"37\", \"38\", \"39\", \"40\", \"42\", \"48\", \"49\"], \"mode\": \"markers\", \"name\": \"recall_score_weighted\", \"stepped\": false, \"type\": \"scatter\", \"data\": [0.9874089614728884, 0.9853106074110641, 0.9234647889899031, 0.9123547748661904, 0.9401306329160212, 0.9764228612173818, 0.9714849095671013, 0.9798790571393311, 0.9279094162655807, 0.9522278899904469, 0.9661767246698755, 0.9739535882914879, 0.9769164141310259, 0.9263057121047988, 0.9787680374438366, 0.977286555962355, 0.9767929116330943, 0.9700040222871272, 0.976052079476737, 0.9780273881187123, 0.9037151306557698, 0.8872976629597634, 0.9776569263327254, 0.9145776827055366, 0.9753115215672293, 0.8373035592670296, 0.980619660756647, 0.968645769056728, 0.972842705719418, 0.9470434818380024, 0.910997892870039, 0.9701269305835516, 0.9465498832165499, 0.9702503416658668, 0.9666704604147527, 0.9266748483643461, 0.9217369881296822, 0.9648190199331751, 0.9827183347731294, 0.9679046169457127, 0.907787970619021, 0.9822244619048272, 0.9885199354605748, 0.9867917232300795]}, {\"categories\": [\"0\", \"1\", \"2\", \"3\", \"4\", \"5\", \"6\", \"7\", \"8\", \"9\", \"10\", \"11\", \"12\", \"13\", \"14\", \"15\", \"16\", \"17\", \"18\", \"19\", \"20\", \"21\", \"22\", \"23\", \"24\", \"25\", \"26\", \"27\", \"28\", \"29\", \"30\", \"31\", \"32\", \"33\", \"34\", \"35\", \"36\", \"37\", \"38\", \"39\", \"40\", \"42\", \"48\", \"49\"], \"mode\": \"lines\", \"name\": \"recall_score_weighted_max\", \"stepped\": true, \"type\": \"scatter\", \"data\": [0.9874089614728884, 0.9874089614728884, 0.9874089614728884, 0.9874089614728884, 0.9874089614728884, 0.9874089614728884, 0.9874089614728884, 0.9874089614728884, 0.9874089614728884, 0.9874089614728884, 0.9874089614728884, 0.9874089614728884, 0.9874089614728884, 0.9874089614728884, 0.9874089614728884, 0.9874089614728884, 0.9874089614728884, 0.9874089614728884, 0.9874089614728884, 0.9874089614728884, 0.9874089614728884, 0.9874089614728884, 0.9874089614728884, 0.9874089614728884, 0.9874089614728884, 0.9874089614728884, 0.9874089614728884, 0.9874089614728884, 0.9874089614728884, 0.9874089614728884, 0.9874089614728884, 0.9874089614728884, 0.9874089614728884, 0.9874089614728884, 0.9874089614728884, 0.9874089614728884, 0.9874089614728884, 0.9874089614728884, 0.9874089614728884, 0.9874089614728884, 0.9874089614728884, 0.9874089614728884, 0.9885199354605748, 0.9885199354605748]}], \"precision_score_weighted\": [{\"categories\": [\"0\", \"1\", \"2\", \"3\", \"4\", \"5\", \"6\", \"7\", \"8\", \"9\", \"10\", \"11\", \"12\", \"13\", \"14\", \"15\", \"16\", \"17\", \"18\", \"19\", \"20\", \"21\", \"22\", \"23\", \"24\", \"25\", \"26\", \"27\", \"28\", \"29\", \"30\", \"31\", \"32\", \"33\", \"34\", \"35\", \"36\", \"37\", \"38\", \"39\", \"40\", \"42\", \"48\", \"49\"], \"mode\": \"markers\", \"name\": \"precision_score_weighted\", \"stepped\": false, \"type\": \"scatter\", \"data\": [0.9873729082892057, 0.98524767775142, 0.9219843056641777, 0.9167418097590024, 0.9485543640466026, 0.976266209559061, 0.9711489015241993, 0.9797708071029442, 0.9299610302937112, 0.9523245269045196, 0.966013455982322, 0.9736708000495201, 0.9766924683532524, 0.9393104318233286, 0.9786281735213297, 0.9770879062513124, 0.9766027057265859, 0.969839435671898, 0.9758210400768131, 0.9778551879018775, 0.9116225650690121, 0.9001126780798573, 0.9774688521209706, 0.92150439131249, 0.9750788687908196, 0.7011160233823897, 0.9804836514544184, 0.968224708689221, 0.97255501976834, 0.9486291768436624, 0.9185123152056014, 0.9697400981017313, 0.946557798018699, 0.9698765507783689, 0.9664267860387996, 0.9289511738001958, 0.9225080663130042, 0.9648219854286509, 0.9826213141311714, 0.967556377974863, 0.9144443536116439, 0.9821386994102094, 0.9884748441475115, 0.9867466479347723]}, {\"categories\": [\"0\", \"1\", \"2\", \"3\", \"4\", \"5\", \"6\", \"7\", \"8\", \"9\", \"10\", \"11\", \"12\", \"13\", \"14\", \"15\", \"16\", \"17\", \"18\", \"19\", \"20\", \"21\", \"22\", \"23\", \"24\", \"25\", \"26\", \"27\", \"28\", \"29\", \"30\", \"31\", \"32\", \"33\", \"34\", \"35\", \"36\", \"37\", \"38\", \"39\", \"40\", \"42\", \"48\", \"49\"], \"mode\": \"lines\", \"name\": \"precision_score_weighted_max\", \"stepped\": true, \"type\": \"scatter\", \"data\": [0.9873729082892057, 0.9873729082892057, 0.9873729082892057, 0.9873729082892057, 0.9873729082892057, 0.9873729082892057, 0.9873729082892057, 0.9873729082892057, 0.9873729082892057, 0.9873729082892057, 0.9873729082892057, 0.9873729082892057, 0.9873729082892057, 0.9873729082892057, 0.9873729082892057, 0.9873729082892057, 0.9873729082892057, 0.9873729082892057, 0.9873729082892057, 0.9873729082892057, 0.9873729082892057, 0.9873729082892057, 0.9873729082892057, 0.9873729082892057, 0.9873729082892057, 0.9873729082892057, 0.9873729082892057, 0.9873729082892057, 0.9873729082892057, 0.9873729082892057, 0.9873729082892057, 0.9873729082892057, 0.9873729082892057, 0.9873729082892057, 0.9873729082892057, 0.9873729082892057, 0.9873729082892057, 0.9873729082892057, 0.9873729082892057, 0.9873729082892057, 0.9873729082892057, 0.9873729082892057, 0.9884748441475115, 0.9884748441475115]}], \"average_precision_score_micro\": [{\"categories\": [\"0\", \"1\", \"2\", \"3\", \"4\", \"5\", \"6\", \"7\", \"8\", \"9\", \"10\", \"11\", \"12\", \"13\", \"14\", \"15\", \"16\", \"17\", \"18\", \"19\", \"20\", \"21\", \"22\", \"23\", \"24\", \"25\", \"26\", \"27\", \"28\", \"29\", \"30\", \"31\", \"32\", \"33\", \"34\", \"35\", \"36\", \"37\", \"38\", \"39\", \"40\", \"42\", \"48\", \"49\"], \"mode\": \"markers\", \"name\": \"average_precision_score_micro\", \"stepped\": false, \"type\": \"scatter\", \"data\": [0.9990566812269132, 0.9988847508984856, 0.9820951022979972, 0.9731441039979009, 0.985809758578183, 0.9969802806578825, 0.9966389397701411, 0.9982974200329148, 0.9803466092602738, 0.9921961411336473, 0.9947116995988287, 0.9960956151793825, 0.9973028421971127, 0.9805070501040132, 0.9976165347001006, 0.9973824195061827, 0.9975785156600173, 0.9944531058024707, 0.9960661033131566, 0.9975497863735988, 0.9706981298626692, 0.9776836550346334, 0.9975672327364279, 0.9764761177405771, 0.9972359991689633, 0.9709127983804055, 0.9975162320363463, 0.9937427051102307, 0.9966299654551937, 0.9894311446056355, 0.9770696714130706, 0.9949054266443871, 0.9898388676974935, 0.9951648480811665, 0.9939497756000236, 0.979261680842526, 0.9796223335776298, 0.9928335953471135, 0.9985074237298889, 0.9955488154062087, 0.9732135956370996, 0.9983048346530078, 0.9988524336987495, 0.9974798763393827]}, {\"categories\": [\"0\", \"1\", \"2\", \"3\", \"4\", \"5\", \"6\", \"7\", \"8\", \"9\", \"10\", \"11\", \"12\", \"13\", \"14\", \"15\", \"16\", \"17\", \"18\", \"19\", \"20\", \"21\", \"22\", \"23\", \"24\", \"25\", \"26\", \"27\", \"28\", \"29\", \"30\", \"31\", \"32\", \"33\", \"34\", \"35\", \"36\", \"37\", \"38\", \"39\", \"40\", \"42\", \"48\", \"49\"], \"mode\": \"lines\", \"name\": \"average_precision_score_micro_max\", \"stepped\": true, \"type\": \"scatter\", \"data\": [0.9990566812269132, 0.9990566812269132, 0.9990566812269132, 0.9990566812269132, 0.9990566812269132, 0.9990566812269132, 0.9990566812269132, 0.9990566812269132, 0.9990566812269132, 0.9990566812269132, 0.9990566812269132, 0.9990566812269132, 0.9990566812269132, 0.9990566812269132, 0.9990566812269132, 0.9990566812269132, 0.9990566812269132, 0.9990566812269132, 0.9990566812269132, 0.9990566812269132, 0.9990566812269132, 0.9990566812269132, 0.9990566812269132, 0.9990566812269132, 0.9990566812269132, 0.9990566812269132, 0.9990566812269132, 0.9990566812269132, 0.9990566812269132, 0.9990566812269132, 0.9990566812269132, 0.9990566812269132, 0.9990566812269132, 0.9990566812269132, 0.9990566812269132, 0.9990566812269132, 0.9990566812269132, 0.9990566812269132, 0.9990566812269132, 0.9990566812269132, 0.9990566812269132, 0.9990566812269132, 0.9990566812269132, 0.9990566812269132]}]}, \"metricName\": null, \"primaryMetricName\": \"accuracy\", \"showLegend\": false}, \"run_metrics\": [{\"name\": \"experiment_status\", \"run_id\": \"AutoML_c1e7d13b-87cd-4132-b764-99497c57aaeb\", \"categories\": [0, 1, 2, 3, 4, 5, 6], \"series\": [{\"data\": [\"DatasetEvaluation\", \"FeaturesGeneration\", \"DatasetFeaturization\", \"DatasetFeaturizationCompleted\", \"DatasetBalancing\", \"DatasetCrossValidationSplit\", \"ModelSelection\"]}]}, {\"name\": \"experiment_status_description\", \"run_id\": \"AutoML_c1e7d13b-87cd-4132-b764-99497c57aaeb\", \"categories\": [0, 1, 2, 3, 4, 5, 6], \"series\": [{\"data\": [\"Gathering dataset statistics.\", \"Generating features for the dataset.\", \"Beginning to fit featurizers and featurize the dataset.\", \"Completed fit featurizers and featurizing the dataset.\", \"Performing class balancing sweeping\", \"Generating individually featurized CV splits.\", \"Beginning model selection.\"]}]}, {\"name\": \"AUC_micro\", \"run_id\": \"AutoML_c1e7d13b-87cd-4132-b764-99497c57aaeb\", \"categories\": [0], \"series\": [{\"data\": [0.9988322071151939]}]}, {\"name\": \"matthews_correlation\", \"run_id\": \"AutoML_c1e7d13b-87cd-4132-b764-99497c57aaeb\", \"categories\": [0], \"series\": [{\"data\": [0.9576683612324097]}]}, {\"name\": \"norm_macro_recall\", \"run_id\": \"AutoML_c1e7d13b-87cd-4132-b764-99497c57aaeb\", \"categories\": [0], \"series\": [{\"data\": [0.9507570535387898]}]}, {\"name\": \"precision_score_macro\", \"run_id\": \"AutoML_c1e7d13b-87cd-4132-b764-99497c57aaeb\", \"categories\": [0], \"series\": [{\"data\": [0.9823221104805429]}]}, {\"name\": \"accuracy\", \"run_id\": \"AutoML_c1e7d13b-87cd-4132-b764-99497c57aaeb\", \"categories\": [0], \"series\": [{\"data\": [0.9885199354605748]}]}, {\"name\": \"precision_score_micro\", \"run_id\": \"AutoML_c1e7d13b-87cd-4132-b764-99497c57aaeb\", \"categories\": [0], \"series\": [{\"data\": [0.9885199354605748]}]}, {\"name\": \"log_loss\", \"run_id\": \"AutoML_c1e7d13b-87cd-4132-b764-99497c57aaeb\", \"categories\": [0], \"series\": [{\"data\": [0.08394512918228525]}]}, {\"name\": \"f1_score_micro\", \"run_id\": \"AutoML_c1e7d13b-87cd-4132-b764-99497c57aaeb\", \"categories\": [0], \"series\": [{\"data\": [0.9885199354605748]}]}, {\"name\": \"average_precision_score_weighted\", \"run_id\": \"AutoML_c1e7d13b-87cd-4132-b764-99497c57aaeb\", \"categories\": [0], \"series\": [{\"data\": [0.9981344883921791]}]}, {\"name\": \"f1_score_macro\", \"run_id\": \"AutoML_c1e7d13b-87cd-4132-b764-99497c57aaeb\", \"categories\": [0], \"series\": [{\"data\": [0.9787994149473626]}]}, {\"name\": \"precision_score_weighted\", \"run_id\": \"AutoML_c1e7d13b-87cd-4132-b764-99497c57aaeb\", \"categories\": [0], \"series\": [{\"data\": [0.9884748441475115]}]}, {\"name\": \"AUC_macro\", \"run_id\": \"AutoML_c1e7d13b-87cd-4132-b764-99497c57aaeb\", \"categories\": [0], \"series\": [{\"data\": [0.9980359673001894]}]}, {\"name\": \"recall_score_micro\", \"run_id\": \"AutoML_c1e7d13b-87cd-4132-b764-99497c57aaeb\", \"categories\": [0], \"series\": [{\"data\": [0.9885199354605748]}]}, {\"name\": \"average_precision_score_micro\", \"run_id\": \"AutoML_c1e7d13b-87cd-4132-b764-99497c57aaeb\", \"categories\": [0], \"series\": [{\"data\": [0.9988524336987495]}]}, {\"name\": \"weighted_accuracy\", \"run_id\": \"AutoML_c1e7d13b-87cd-4132-b764-99497c57aaeb\", \"categories\": [0], \"series\": [{\"data\": [0.9934225703198244]}]}, {\"name\": \"recall_score_weighted\", \"run_id\": \"AutoML_c1e7d13b-87cd-4132-b764-99497c57aaeb\", \"categories\": [0], \"series\": [{\"data\": [0.9885199354605748]}]}, {\"name\": \"average_precision_score_macro\", \"run_id\": \"AutoML_c1e7d13b-87cd-4132-b764-99497c57aaeb\", \"categories\": [0], \"series\": [{\"data\": [0.9950811047722569]}]}, {\"name\": \"balanced_accuracy\", \"run_id\": \"AutoML_c1e7d13b-87cd-4132-b764-99497c57aaeb\", \"categories\": [0], \"series\": [{\"data\": [0.975378526769395]}]}, {\"name\": \"recall_score_macro\", \"run_id\": \"AutoML_c1e7d13b-87cd-4132-b764-99497c57aaeb\", \"categories\": [0], \"series\": [{\"data\": [0.975378526769395]}]}, {\"name\": \"AUC_weighted\", \"run_id\": \"AutoML_c1e7d13b-87cd-4132-b764-99497c57aaeb\", \"categories\": [0], \"series\": [{\"data\": [0.9980359673001895]}]}, {\"name\": \"f1_score_weighted\", \"run_id\": \"AutoML_c1e7d13b-87cd-4132-b764-99497c57aaeb\", \"categories\": [0], \"series\": [{\"data\": [0.9884787521575996]}]}], \"run_logs\": \"\\nRun is completed.\", \"graph\": {}, \"widget_settings\": {\"childWidgetDisplay\": \"popup\", \"send_telemetry\": false, \"log_level\": \"INFO\", \"sdk_version\": \"1.19.0\"}, \"loading\": false}"
     },
     "metadata": {},
     "output_type": "display_data"
    },
    {
     "name": "stdout",
     "output_type": "stream",
     "text": [
      "\n",
      "\n",
      "****************************************************************************************************\n",
      "DATA GUARDRAILS: \n",
      "\n",
      "TYPE:         Class balancing detection\n",
      "STATUS:       ALERTED\n",
      "DESCRIPTION:  To decrease model bias, please cancel the current run and fix balancing problem.\n",
      "              Learn more about imbalanced data: https://aka.ms/AutomatedMLImbalancedData\n",
      "DETAILS:      Imbalanced data can lead to a falsely perceived positive effect of a model's accuracy because the input data has bias towards one class.\n",
      "+---------------------------------+---------------------------------+--------------------------------------+\n",
      "|Size of the smallest class       |Name/Label of the smallest class |Number of samples in the training data|\n",
      "+=================================+=================================+======================================+\n",
      "|1318                             |1                                |8101                                  |\n",
      "+---------------------------------+---------------------------------+--------------------------------------+\n",
      "\n",
      "****************************************************************************************************\n",
      "\n",
      "TYPE:         Missing feature values imputation\n",
      "STATUS:       PASSED\n",
      "DESCRIPTION:  No feature missing values were detected in the training data.\n",
      "              Learn more about missing value imputation: https://aka.ms/AutomatedMLFeaturization\n",
      "\n",
      "****************************************************************************************************\n",
      "\n",
      "TYPE:         High cardinality feature detection\n",
      "STATUS:       PASSED\n",
      "DESCRIPTION:  Your inputs were analyzed, and no high cardinality features were detected.\n",
      "              Learn more about high cardinality feature handling: https://aka.ms/AutomatedMLFeaturization\n",
      "\n",
      "****************************************************************************************************\n",
      "\n",
      "****************************************************************************************************\n",
      "ITERATION: The iteration being evaluated.\n",
      "PIPELINE: A summary description of the pipeline being evaluated.\n",
      "DURATION: Time taken for the current iteration.\n",
      "METRIC: The result of computing score on the fitted pipeline.\n",
      "BEST: The best observed score thus far.\n",
      "****************************************************************************************************\n",
      "\n",
      " ITERATION   PIPELINE                                       DURATION      METRIC      BEST\n",
      "         0   MaxAbsScaler LightGBM                          0:01:36       0.9874    0.9874\n",
      "         1   MaxAbsScaler XGBoostClassifier                 0:01:00       0.9853    0.9874\n",
      "         2   MinMaxScaler RandomForest                      0:00:50       0.9235    0.9874\n",
      "         3   MinMaxScaler RandomForest                      0:00:52       0.9124    0.9874\n",
      "         4   MinMaxScaler RandomForest                      0:01:01       0.9401    0.9874\n",
      "         5   StandardScalerWrapper XGBoostClassifier        0:01:01       0.9764    0.9874\n",
      "         6   SparseNormalizer XGBoostClassifier             0:01:33       0.9715    0.9874\n",
      "         7   StandardScalerWrapper LightGBM                 0:01:38       0.9799    0.9874\n",
      "         8   SparseNormalizer RandomForest                  0:01:04       0.9279    0.9874\n",
      "         9   RobustScaler LightGBM                          0:01:34       0.9522    0.9874\n",
      "        10   SparseNormalizer LightGBM                      0:01:01       0.9662    0.9874\n",
      "        11   SparseNormalizer XGBoostClassifier             0:00:54       0.9740    0.9874\n",
      "        12   SparseNormalizer XGBoostClassifier             0:01:30       0.9769    0.9874\n",
      "        13   MaxAbsScaler LogisticRegression                0:00:50       0.9263    0.9874\n",
      "        14   SparseNormalizer XGBoostClassifier             0:01:01       0.9788    0.9874\n",
      "        15   SparseNormalizer XGBoostClassifier             0:00:52       0.9773    0.9874\n",
      "        16   SparseNormalizer XGBoostClassifier             0:01:03       0.9768    0.9874\n",
      "        17   SparseNormalizer XGBoostClassifier             0:01:03       0.9700    0.9874\n",
      "        18   SparseNormalizer XGBoostClassifier             0:00:42       0.9761    0.9874\n",
      "        19   SparseNormalizer XGBoostClassifier             0:00:51       0.9780    0.9874\n",
      "        20   RobustScaler RandomForest                      0:00:47       0.9037    0.9874\n",
      "        21   StandardScalerWrapper LightGBM                 0:00:47       0.8873    0.9874\n",
      "        22   SparseNormalizer XGBoostClassifier             0:01:20       0.9777    0.9874\n",
      "        23   StandardScalerWrapper LightGBM                 0:01:12       0.9146    0.9874\n",
      "        24   SparseNormalizer XGBoostClassifier             0:02:09       0.9753    0.9874\n",
      "        25   StandardScalerWrapper LightGBM                 0:00:53       0.8373    0.9874\n",
      "        26   SparseNormalizer XGBoostClassifier             0:01:40       0.9806    0.9874\n",
      "        27   SparseNormalizer XGBoostClassifier             0:00:55       0.9686    0.9874\n",
      "        28   SparseNormalizer XGBoostClassifier             0:01:42       0.9728    0.9874\n",
      "        29   SparseNormalizer LightGBM                      0:00:53       0.9470    0.9874\n",
      "        30   StandardScalerWrapper LightGBM                 0:00:42       0.9110    0.9874\n",
      "        31   SparseNormalizer XGBoostClassifier             0:01:12       0.9701    0.9874\n",
      "        32   MaxAbsScaler LightGBM                          0:00:49       0.9465    0.9874\n",
      "        33   SparseNormalizer XGBoostClassifier             0:00:46       0.9703    0.9874\n",
      "        34   SparseNormalizer XGBoostClassifier             0:00:46       0.9667    0.9874\n",
      "        35   MinMaxScaler LightGBM                          0:00:56       0.9267    0.9874\n",
      "        36   MinMaxScaler RandomForest                      0:00:49       0.9217    0.9874\n",
      "        37   SparseNormalizer XGBoostClassifier             0:00:45       0.9648    0.9874\n",
      "        38   StandardScalerWrapper XGBoostClassifier        0:00:55       0.9827    0.9874\n",
      "        39   StandardScalerWrapper LightGBM                 0:00:59       0.9679    0.9874\n",
      "        40   RobustScaler RandomForest                      0:00:48       0.9078    0.9874\n",
      "        41   SparseNormalizer XGBoostClassifier             0:00:52          nan    0.9874\n",
      "        42   StandardScalerWrapper XGBoostClassifier        0:00:35       0.9822    0.9874\n",
      "        43   SparseNormalizer XGBoostClassifier             0:00:53          nan    0.9874\n",
      "        44   SparseNormalizer XGBoostClassifier             0:00:48          nan    0.9874\n",
      "        45   MaxAbsScaler LightGBM                          0:03:47          nan    0.9874\n",
      "        46   SparseNormalizer XGBoostClassifier             0:00:34          nan    0.9874\n",
      "        47   SparseNormalizer XGBoostClassifier             0:00:29          nan    0.9874\n",
      "        48    VotingEnsemble                                0:01:24       0.9885    0.9885\n",
      "        49    StackEnsemble                                 0:01:29       0.9868    0.9885\n"
     ]
    },
    {
     "data": {
      "text/plain": [
       "{'runId': 'AutoML_c1e7d13b-87cd-4132-b764-99497c57aaeb',\n",
       " 'target': 'compute-aml-cluster',\n",
       " 'status': 'Completed',\n",
       " 'startTimeUtc': '2021-01-01T12:09:49.222377Z',\n",
       " 'endTimeUtc': '2021-01-01T12:25:28.36566Z',\n",
       " 'properties': {'num_iterations': '1000',\n",
       "  'training_type': 'TrainFull',\n",
       "  'acquisition_function': 'EI',\n",
       "  'primary_metric': 'accuracy',\n",
       "  'train_split': '0',\n",
       "  'acquisition_parameter': '0',\n",
       "  'num_cross_validation': '3',\n",
       "  'target': 'compute-aml-cluster',\n",
       "  'AMLSettingsJsonString': '{\"path\":null,\"name\":\"automl-experiment\",\"subscription_id\":\"976ee174-3882-4721-b90a-b5fef6b72f24\",\"resource_group\":\"aml-quickstarts-132749\",\"workspace_name\":\"quick-starts-ws-132749\",\"region\":\"southcentralus\",\"compute_target\":\"compute-aml-cluster\",\"spark_service\":null,\"azure_service\":\"remote\",\"many_models\":false,\"pipeline_fetch_max_batch_size\":1,\"iterations\":1000,\"primary_metric\":\"accuracy\",\"task_type\":\"classification\",\"data_script\":null,\"validation_size\":0.0,\"n_cross_validations\":3,\"y_min\":null,\"y_max\":null,\"num_classes\":null,\"featurization\":\"auto\",\"_ignore_package_version_incompatibilities\":false,\"is_timeseries\":false,\"max_cores_per_iteration\":-1,\"max_concurrent_iterations\":10,\"iteration_timeout_minutes\":null,\"mem_in_mb\":null,\"enforce_time_on_windows\":false,\"experiment_timeout_minutes\":30,\"experiment_exit_score\":null,\"whitelist_models\":null,\"blacklist_algos\":[\"TensorFlowLinearClassifier\",\"TensorFlowDNN\"],\"supported_models\":[\"LinearSVM\",\"AveragedPerceptronClassifier\",\"LightGBM\",\"KNN\",\"TensorFlowDNN\",\"LogisticRegression\",\"BernoulliNaiveBayes\",\"DecisionTree\",\"GradientBoosting\",\"SVM\",\"TensorFlowLinearClassifier\",\"ExtremeRandomTrees\",\"SGD\",\"RandomForest\",\"XGBoostClassifier\",\"MultinomialNaiveBayes\"],\"auto_blacklist\":true,\"blacklist_samples_reached\":false,\"exclude_nan_labels\":true,\"verbosity\":20,\"_debug_log\":\"azureml_automl.log\",\"show_warnings\":false,\"model_explainability\":true,\"service_url\":null,\"sdk_url\":null,\"sdk_packages\":null,\"enable_onnx_compatible_models\":false,\"enable_split_onnx_featurizer_estimator_models\":false,\"vm_type\":\"STANDARD_D13_V2\",\"telemetry_verbosity\":20,\"send_telemetry\":true,\"enable_dnn\":false,\"scenario\":\"SDK-1.13.0\",\"environment_label\":null,\"force_text_dnn\":false,\"enable_feature_sweeping\":true,\"enable_early_stopping\":true,\"early_stopping_n_iters\":10,\"metrics\":null,\"enable_ensembling\":true,\"enable_stack_ensembling\":true,\"ensemble_iterations\":15,\"enable_tf\":false,\"enable_subsampling\":null,\"subsample_seed\":null,\"enable_nimbusml\":false,\"enable_streaming\":false,\"force_streaming\":false,\"track_child_runs\":true,\"allowed_private_models\":[],\"label_column_name\":\"Attrition_Flag\",\"weight_column_name\":null,\"cv_split_column_names\":null,\"enable_local_managed\":false,\"_local_managed_run_id\":null,\"cost_mode\":1,\"lag_length\":0,\"metric_operation\":\"maximize\",\"preprocess\":true}',\n",
       "  'DataPrepJsonString': '{\\\\\"training_data\\\\\": \\\\\"{\\\\\\\\\\\\\"blocks\\\\\\\\\\\\\": [{\\\\\\\\\\\\\"id\\\\\\\\\\\\\": \\\\\\\\\\\\\"50a08576-ade0-44d8-baa3-514fd7ebdc9d\\\\\\\\\\\\\", \\\\\\\\\\\\\"type\\\\\\\\\\\\\": \\\\\\\\\\\\\"Microsoft.DPrep.GetDatastoreFilesBlock\\\\\\\\\\\\\", \\\\\\\\\\\\\"arguments\\\\\\\\\\\\\": {\\\\\\\\\\\\\"datastores\\\\\\\\\\\\\": [{\\\\\\\\\\\\\"datastoreName\\\\\\\\\\\\\": \\\\\\\\\\\\\"workspaceblobstore\\\\\\\\\\\\\", \\\\\\\\\\\\\"path\\\\\\\\\\\\\": \\\\\\\\\\\\\"data/train_data.csv\\\\\\\\\\\\\", \\\\\\\\\\\\\"resourceGroup\\\\\\\\\\\\\": \\\\\\\\\\\\\"aml-quickstarts-132749\\\\\\\\\\\\\", \\\\\\\\\\\\\"subscription\\\\\\\\\\\\\": \\\\\\\\\\\\\"976ee174-3882-4721-b90a-b5fef6b72f24\\\\\\\\\\\\\", \\\\\\\\\\\\\"workspaceName\\\\\\\\\\\\\": \\\\\\\\\\\\\"quick-starts-ws-132749\\\\\\\\\\\\\"}]}, \\\\\\\\\\\\\"localData\\\\\\\\\\\\\": {}, \\\\\\\\\\\\\"isEnabled\\\\\\\\\\\\\": true, \\\\\\\\\\\\\"name\\\\\\\\\\\\\": null, \\\\\\\\\\\\\"annotation\\\\\\\\\\\\\": null}, {\\\\\\\\\\\\\"id\\\\\\\\\\\\\": \\\\\\\\\\\\\"6bbfc8ef-6f27-4660-9b97-1d96cd6e759c\\\\\\\\\\\\\", \\\\\\\\\\\\\"type\\\\\\\\\\\\\": \\\\\\\\\\\\\"Microsoft.DPrep.ParseDelimitedBlock\\\\\\\\\\\\\", \\\\\\\\\\\\\"arguments\\\\\\\\\\\\\": {\\\\\\\\\\\\\"columnHeadersMode\\\\\\\\\\\\\": 3, \\\\\\\\\\\\\"fileEncoding\\\\\\\\\\\\\": 0, \\\\\\\\\\\\\"handleQuotedLineBreaks\\\\\\\\\\\\\": false, \\\\\\\\\\\\\"preview\\\\\\\\\\\\\": false, \\\\\\\\\\\\\"separator\\\\\\\\\\\\\": \\\\\\\\\\\\\",\\\\\\\\\\\\\", \\\\\\\\\\\\\"skipRows\\\\\\\\\\\\\": 0, \\\\\\\\\\\\\"skipRowsMode\\\\\\\\\\\\\": 0}, \\\\\\\\\\\\\"localData\\\\\\\\\\\\\": {}, \\\\\\\\\\\\\"isEnabled\\\\\\\\\\\\\": true, \\\\\\\\\\\\\"name\\\\\\\\\\\\\": null, \\\\\\\\\\\\\"annotation\\\\\\\\\\\\\": null}, {\\\\\\\\\\\\\"id\\\\\\\\\\\\\": \\\\\\\\\\\\\"f4f5bb1f-a8a6-48ec-a734-bfbeb128d9fc\\\\\\\\\\\\\", \\\\\\\\\\\\\"type\\\\\\\\\\\\\": \\\\\\\\\\\\\"Microsoft.DPrep.DropColumnsBlock\\\\\\\\\\\\\", \\\\\\\\\\\\\"arguments\\\\\\\\\\\\\": {\\\\\\\\\\\\\"columns\\\\\\\\\\\\\": {\\\\\\\\\\\\\"type\\\\\\\\\\\\\": 0, \\\\\\\\\\\\\"details\\\\\\\\\\\\\": {\\\\\\\\\\\\\"selectedColumns\\\\\\\\\\\\\": [\\\\\\\\\\\\\"Path\\\\\\\\\\\\\"]}}}, \\\\\\\\\\\\\"localData\\\\\\\\\\\\\": {}, \\\\\\\\\\\\\"isEnabled\\\\\\\\\\\\\": true, \\\\\\\\\\\\\"name\\\\\\\\\\\\\": null, \\\\\\\\\\\\\"annotation\\\\\\\\\\\\\": null}, {\\\\\\\\\\\\\"id\\\\\\\\\\\\\": \\\\\\\\\\\\\"617dd092-b88c-40cd-a472-c60a28c846bc\\\\\\\\\\\\\", \\\\\\\\\\\\\"type\\\\\\\\\\\\\": \\\\\\\\\\\\\"Microsoft.DPrep.SetColumnTypesBlock\\\\\\\\\\\\\", \\\\\\\\\\\\\"arguments\\\\\\\\\\\\\": {\\\\\\\\\\\\\"columnConversion\\\\\\\\\\\\\": [{\\\\\\\\\\\\\"column\\\\\\\\\\\\\": {\\\\\\\\\\\\\"type\\\\\\\\\\\\\": 2, \\\\\\\\\\\\\"details\\\\\\\\\\\\\": {\\\\\\\\\\\\\"selectedColumn\\\\\\\\\\\\\": \\\\\\\\\\\\\"Column1\\\\\\\\\\\\\"}}, \\\\\\\\\\\\\"typeProperty\\\\\\\\\\\\\": 2}, {\\\\\\\\\\\\\"column\\\\\\\\\\\\\": {\\\\\\\\\\\\\"type\\\\\\\\\\\\\": 2, \\\\\\\\\\\\\"details\\\\\\\\\\\\\": {\\\\\\\\\\\\\"selectedColumn\\\\\\\\\\\\\": \\\\\\\\\\\\\"Customer_Age\\\\\\\\\\\\\"}}, \\\\\\\\\\\\\"typeProperty\\\\\\\\\\\\\": 3}, {\\\\\\\\\\\\\"column\\\\\\\\\\\\\": {\\\\\\\\\\\\\"type\\\\\\\\\\\\\": 2, \\\\\\\\\\\\\"details\\\\\\\\\\\\\": {\\\\\\\\\\\\\"selectedColumn\\\\\\\\\\\\\": \\\\\\\\\\\\\"Gender\\\\\\\\\\\\\"}}, \\\\\\\\\\\\\"typeProperty\\\\\\\\\\\\\": 3}, {\\\\\\\\\\\\\"column\\\\\\\\\\\\\": {\\\\\\\\\\\\\"type\\\\\\\\\\\\\": 2, \\\\\\\\\\\\\"details\\\\\\\\\\\\\": {\\\\\\\\\\\\\"selectedColumn\\\\\\\\\\\\\": \\\\\\\\\\\\\"Dependent_count\\\\\\\\\\\\\"}}, \\\\\\\\\\\\\"typeProperty\\\\\\\\\\\\\": 3}, {\\\\\\\\\\\\\"column\\\\\\\\\\\\\": {\\\\\\\\\\\\\"type\\\\\\\\\\\\\": 2, \\\\\\\\\\\\\"details\\\\\\\\\\\\\": {\\\\\\\\\\\\\"selectedColumn\\\\\\\\\\\\\": \\\\\\\\\\\\\"Education_Level\\\\\\\\\\\\\"}}, \\\\\\\\\\\\\"typeProperty\\\\\\\\\\\\\": 3}, {\\\\\\\\\\\\\"column\\\\\\\\\\\\\": {\\\\\\\\\\\\\"type\\\\\\\\\\\\\": 2, \\\\\\\\\\\\\"details\\\\\\\\\\\\\": {\\\\\\\\\\\\\"selectedColumn\\\\\\\\\\\\\": \\\\\\\\\\\\\"Income_Category\\\\\\\\\\\\\"}}, \\\\\\\\\\\\\"typeProperty\\\\\\\\\\\\\": 3}, {\\\\\\\\\\\\\"column\\\\\\\\\\\\\": {\\\\\\\\\\\\\"type\\\\\\\\\\\\\": 2, \\\\\\\\\\\\\"details\\\\\\\\\\\\\": {\\\\\\\\\\\\\"selectedColumn\\\\\\\\\\\\\": \\\\\\\\\\\\\"Months_on_book\\\\\\\\\\\\\"}}, \\\\\\\\\\\\\"typeProperty\\\\\\\\\\\\\": 3}, {\\\\\\\\\\\\\"column\\\\\\\\\\\\\": {\\\\\\\\\\\\\"type\\\\\\\\\\\\\": 2, \\\\\\\\\\\\\"details\\\\\\\\\\\\\": {\\\\\\\\\\\\\"selectedColumn\\\\\\\\\\\\\": \\\\\\\\\\\\\"Total_Relationship_Count\\\\\\\\\\\\\"}}, \\\\\\\\\\\\\"typeProperty\\\\\\\\\\\\\": 3}, {\\\\\\\\\\\\\"column\\\\\\\\\\\\\": {\\\\\\\\\\\\\"type\\\\\\\\\\\\\": 2, \\\\\\\\\\\\\"details\\\\\\\\\\\\\": {\\\\\\\\\\\\\"selectedColumn\\\\\\\\\\\\\": \\\\\\\\\\\\\"Months_Inactive_12_mon\\\\\\\\\\\\\"}}, \\\\\\\\\\\\\"typeProperty\\\\\\\\\\\\\": 3}, {\\\\\\\\\\\\\"column\\\\\\\\\\\\\": {\\\\\\\\\\\\\"type\\\\\\\\\\\\\": 2, \\\\\\\\\\\\\"details\\\\\\\\\\\\\": {\\\\\\\\\\\\\"selectedColumn\\\\\\\\\\\\\": \\\\\\\\\\\\\"Contacts_Count_12_mon\\\\\\\\\\\\\"}}, \\\\\\\\\\\\\"typeProperty\\\\\\\\\\\\\": 3}, {\\\\\\\\\\\\\"column\\\\\\\\\\\\\": {\\\\\\\\\\\\\"type\\\\\\\\\\\\\": 2, \\\\\\\\\\\\\"details\\\\\\\\\\\\\": {\\\\\\\\\\\\\"selectedColumn\\\\\\\\\\\\\": \\\\\\\\\\\\\"Credit_Limit\\\\\\\\\\\\\"}}, \\\\\\\\\\\\\"typeProperty\\\\\\\\\\\\\": 3}, {\\\\\\\\\\\\\"column\\\\\\\\\\\\\": {\\\\\\\\\\\\\"type\\\\\\\\\\\\\": 2, \\\\\\\\\\\\\"details\\\\\\\\\\\\\": {\\\\\\\\\\\\\"selectedColumn\\\\\\\\\\\\\": \\\\\\\\\\\\\"Total_Revolving_Bal\\\\\\\\\\\\\"}}, \\\\\\\\\\\\\"typeProperty\\\\\\\\\\\\\": 3}, {\\\\\\\\\\\\\"column\\\\\\\\\\\\\": {\\\\\\\\\\\\\"type\\\\\\\\\\\\\": 2, \\\\\\\\\\\\\"details\\\\\\\\\\\\\": {\\\\\\\\\\\\\"selectedColumn\\\\\\\\\\\\\": \\\\\\\\\\\\\"Avg_Open_To_Buy\\\\\\\\\\\\\"}}, \\\\\\\\\\\\\"typeProperty\\\\\\\\\\\\\": 3}, {\\\\\\\\\\\\\"column\\\\\\\\\\\\\": {\\\\\\\\\\\\\"type\\\\\\\\\\\\\": 2, \\\\\\\\\\\\\"details\\\\\\\\\\\\\": {\\\\\\\\\\\\\"selectedColumn\\\\\\\\\\\\\": \\\\\\\\\\\\\"Total_Amt_Chng_Q4_Q1\\\\\\\\\\\\\"}}, \\\\\\\\\\\\\"typeProperty\\\\\\\\\\\\\": 3}, {\\\\\\\\\\\\\"column\\\\\\\\\\\\\": {\\\\\\\\\\\\\"type\\\\\\\\\\\\\": 2, \\\\\\\\\\\\\"details\\\\\\\\\\\\\": {\\\\\\\\\\\\\"selectedColumn\\\\\\\\\\\\\": \\\\\\\\\\\\\"Total_Trans_Amt\\\\\\\\\\\\\"}}, \\\\\\\\\\\\\"typeProperty\\\\\\\\\\\\\": 3}, {\\\\\\\\\\\\\"column\\\\\\\\\\\\\": {\\\\\\\\\\\\\"type\\\\\\\\\\\\\": 2, \\\\\\\\\\\\\"details\\\\\\\\\\\\\": {\\\\\\\\\\\\\"selectedColumn\\\\\\\\\\\\\": \\\\\\\\\\\\\"Total_Trans_Ct\\\\\\\\\\\\\"}}, \\\\\\\\\\\\\"typeProperty\\\\\\\\\\\\\": 3}, {\\\\\\\\\\\\\"column\\\\\\\\\\\\\": {\\\\\\\\\\\\\"type\\\\\\\\\\\\\": 2, \\\\\\\\\\\\\"details\\\\\\\\\\\\\": {\\\\\\\\\\\\\"selectedColumn\\\\\\\\\\\\\": \\\\\\\\\\\\\"Total_Ct_Chng_Q4_Q1\\\\\\\\\\\\\"}}, \\\\\\\\\\\\\"typeProperty\\\\\\\\\\\\\": 3}, {\\\\\\\\\\\\\"column\\\\\\\\\\\\\": {\\\\\\\\\\\\\"type\\\\\\\\\\\\\": 2, \\\\\\\\\\\\\"details\\\\\\\\\\\\\": {\\\\\\\\\\\\\"selectedColumn\\\\\\\\\\\\\": \\\\\\\\\\\\\"Avg_Utilization_Ratio\\\\\\\\\\\\\"}}, \\\\\\\\\\\\\"typeProperty\\\\\\\\\\\\\": 3}, {\\\\\\\\\\\\\"column\\\\\\\\\\\\\": {\\\\\\\\\\\\\"type\\\\\\\\\\\\\": 2, \\\\\\\\\\\\\"details\\\\\\\\\\\\\": {\\\\\\\\\\\\\"selectedColumn\\\\\\\\\\\\\": \\\\\\\\\\\\\"Marital_Status_Divorced\\\\\\\\\\\\\"}}, \\\\\\\\\\\\\"typeProperty\\\\\\\\\\\\\": 3}, {\\\\\\\\\\\\\"column\\\\\\\\\\\\\": {\\\\\\\\\\\\\"type\\\\\\\\\\\\\": 2, \\\\\\\\\\\\\"details\\\\\\\\\\\\\": {\\\\\\\\\\\\\"selectedColumn\\\\\\\\\\\\\": \\\\\\\\\\\\\"Marital_Status_Married\\\\\\\\\\\\\"}}, \\\\\\\\\\\\\"typeProperty\\\\\\\\\\\\\": 3}, {\\\\\\\\\\\\\"column\\\\\\\\\\\\\": {\\\\\\\\\\\\\"type\\\\\\\\\\\\\": 2, \\\\\\\\\\\\\"details\\\\\\\\\\\\\": {\\\\\\\\\\\\\"selectedColumn\\\\\\\\\\\\\": \\\\\\\\\\\\\"Marital_Status_Single\\\\\\\\\\\\\"}}, \\\\\\\\\\\\\"typeProperty\\\\\\\\\\\\\": 3}, {\\\\\\\\\\\\\"column\\\\\\\\\\\\\": {\\\\\\\\\\\\\"type\\\\\\\\\\\\\": 2, \\\\\\\\\\\\\"details\\\\\\\\\\\\\": {\\\\\\\\\\\\\"selectedColumn\\\\\\\\\\\\\": \\\\\\\\\\\\\"Card_Category_Blue\\\\\\\\\\\\\"}}, \\\\\\\\\\\\\"typeProperty\\\\\\\\\\\\\": 3}, {\\\\\\\\\\\\\"column\\\\\\\\\\\\\": {\\\\\\\\\\\\\"type\\\\\\\\\\\\\": 2, \\\\\\\\\\\\\"details\\\\\\\\\\\\\": {\\\\\\\\\\\\\"selectedColumn\\\\\\\\\\\\\": \\\\\\\\\\\\\"Card_Category_Gold\\\\\\\\\\\\\"}}, \\\\\\\\\\\\\"typeProperty\\\\\\\\\\\\\": 3}, {\\\\\\\\\\\\\"column\\\\\\\\\\\\\": {\\\\\\\\\\\\\"type\\\\\\\\\\\\\": 2, \\\\\\\\\\\\\"details\\\\\\\\\\\\\": {\\\\\\\\\\\\\"selectedColumn\\\\\\\\\\\\\": \\\\\\\\\\\\\"Card_Category_Platinum\\\\\\\\\\\\\"}}, \\\\\\\\\\\\\"typeProperty\\\\\\\\\\\\\": 3}, {\\\\\\\\\\\\\"column\\\\\\\\\\\\\": {\\\\\\\\\\\\\"type\\\\\\\\\\\\\": 2, \\\\\\\\\\\\\"details\\\\\\\\\\\\\": {\\\\\\\\\\\\\"selectedColumn\\\\\\\\\\\\\": \\\\\\\\\\\\\"Card_Category_Silver\\\\\\\\\\\\\"}}, \\\\\\\\\\\\\"typeProperty\\\\\\\\\\\\\": 3}, {\\\\\\\\\\\\\"column\\\\\\\\\\\\\": {\\\\\\\\\\\\\"type\\\\\\\\\\\\\": 2, \\\\\\\\\\\\\"details\\\\\\\\\\\\\": {\\\\\\\\\\\\\"selectedColumn\\\\\\\\\\\\\": \\\\\\\\\\\\\"Attrition_Flag\\\\\\\\\\\\\"}}, \\\\\\\\\\\\\"typeProperty\\\\\\\\\\\\\": 2}]}, \\\\\\\\\\\\\"localData\\\\\\\\\\\\\": {}, \\\\\\\\\\\\\"isEnabled\\\\\\\\\\\\\": true, \\\\\\\\\\\\\"name\\\\\\\\\\\\\": null, \\\\\\\\\\\\\"annotation\\\\\\\\\\\\\": null}], \\\\\\\\\\\\\"inspectors\\\\\\\\\\\\\": [], \\\\\\\\\\\\\"meta\\\\\\\\\\\\\": {\\\\\\\\\\\\\"savedDatasetId\\\\\\\\\\\\\": \\\\\\\\\\\\\"53a91e22-1314-4ade-b1f4-4dd88e451a3c\\\\\\\\\\\\\", \\\\\\\\\\\\\"datasetType\\\\\\\\\\\\\": \\\\\\\\\\\\\"tabular\\\\\\\\\\\\\", \\\\\\\\\\\\\"subscriptionId\\\\\\\\\\\\\": \\\\\\\\\\\\\"976ee174-3882-4721-b90a-b5fef6b72f24\\\\\\\\\\\\\", \\\\\\\\\\\\\"workspaceId\\\\\\\\\\\\\": \\\\\\\\\\\\\"c1da3321-82da-4cff-8885-886668087e61\\\\\\\\\\\\\", \\\\\\\\\\\\\"workspaceLocation\\\\\\\\\\\\\": \\\\\\\\\\\\\"southcentralus\\\\\\\\\\\\\"}}\\\\\", \\\\\"activities\\\\\": 0}',\n",
       "  'EnableSubsampling': None,\n",
       "  'runTemplate': 'AutoML',\n",
       "  'azureml.runsource': 'automl',\n",
       "  'display_task_type': 'classification',\n",
       "  'dependencies_versions': '{\"azureml-widgets\": \"1.19.0\", \"azureml-train\": \"1.19.0\", \"azureml-train-restclients-hyperdrive\": \"1.19.0\", \"azureml-train-core\": \"1.19.0\", \"azureml-train-automl\": \"1.19.0\", \"azureml-train-automl-runtime\": \"1.19.0\", \"azureml-train-automl-client\": \"1.19.0\", \"azureml-tensorboard\": \"1.19.0\", \"azureml-telemetry\": \"1.19.0\", \"azureml-sdk\": \"1.19.0\", \"azureml-samples\": \"0+unknown\", \"azureml-pipeline\": \"1.19.0\", \"azureml-pipeline-steps\": \"1.19.0\", \"azureml-pipeline-core\": \"1.19.0\", \"azureml-opendatasets\": \"1.19.0\", \"azureml-model-management-sdk\": \"1.0.1b6.post1\", \"azureml-mlflow\": \"1.19.0\", \"azureml-interpret\": \"1.19.0\", \"azureml-explain-model\": \"1.19.0\", \"azureml-defaults\": \"1.19.0\", \"azureml-dataset-runtime\": \"1.19.0\", \"azureml-dataprep\": \"2.6.1\", \"azureml-dataprep-rslex\": \"1.4.0\", \"azureml-dataprep-native\": \"26.0.0\", \"azureml-datadrift\": \"1.19.0\", \"azureml-core\": \"1.19.0\", \"azureml-contrib-services\": \"1.19.0\", \"azureml-contrib-server\": \"1.19.0\", \"azureml-contrib-reinforcementlearning\": \"1.19.0\", \"azureml-contrib-pipeline-steps\": \"1.19.0\", \"azureml-contrib-notebook\": \"1.19.0\", \"azureml-contrib-interpret\": \"1.19.0\", \"azureml-contrib-gbdt\": \"1.19.0\", \"azureml-contrib-fairness\": \"1.19.0\", \"azureml-contrib-dataset\": \"1.19.0\", \"azureml-cli-common\": \"1.19.0\", \"azureml-automl-runtime\": \"1.19.0\", \"azureml-automl-core\": \"1.19.0\", \"azureml-accel-models\": \"1.19.0\"}',\n",
       "  '_aml_system_scenario_identification': 'Remote.Parent',\n",
       "  'ClientType': 'SDK',\n",
       "  'environment_cpu_name': 'AzureML-AutoML',\n",
       "  'environment_cpu_label': 'prod',\n",
       "  'environment_gpu_name': 'AzureML-AutoML-GPU',\n",
       "  'environment_gpu_label': 'prod',\n",
       "  'root_attribution': 'automl',\n",
       "  'attribution': 'AutoML',\n",
       "  'Orchestrator': 'AutoML',\n",
       "  'CancelUri': 'https://southcentralus.experiments.azureml.net/jasmine/v1.0/subscriptions/976ee174-3882-4721-b90a-b5fef6b72f24/resourceGroups/aml-quickstarts-132749/providers/Microsoft.MachineLearningServices/workspaces/quick-starts-ws-132749/experimentids/6660614c-d7aa-47c3-bee2-9e9c0db8366e/cancel/AutoML_c1e7d13b-87cd-4132-b764-99497c57aaeb',\n",
       "  'ClientSdkVersion': '1.19.0',\n",
       "  'snapshotId': '00000000-0000-0000-0000-000000000000',\n",
       "  'SetupRunId': 'AutoML_c1e7d13b-87cd-4132-b764-99497c57aaeb_setup',\n",
       "  'SetupRunContainerId': 'dcid.AutoML_c1e7d13b-87cd-4132-b764-99497c57aaeb_setup',\n",
       "  'FeaturizationRunJsonPath': 'featurizer_container.json',\n",
       "  'FeaturizationRunId': 'AutoML_c1e7d13b-87cd-4132-b764-99497c57aaeb_featurize',\n",
       "  'ProblemInfoJsonString': '{\"dataset_num_categorical\": 0, \"is_sparse\": false, \"subsampling\": false, \"dataset_classes\": 2, \"dataset_features\": 25, \"dataset_samples\": 8101, \"single_frequency_class_detected\": false}',\n",
       "  'ModelExplainRunId': 'AutoML_c1e7d13b-87cd-4132-b764-99497c57aaeb_ModelExplain'},\n",
       " 'inputDatasets': [{'dataset': {'id': '53a91e22-1314-4ade-b1f4-4dd88e451a3c'}, 'consumptionDetails': {'type': 'RunInput', 'inputName': 'training_data', 'mechanism': 'Direct'}}],\n",
       " 'outputDatasets': [],\n",
       " 'logFiles': {}}"
      ]
     },
     "execution_count": 13,
     "metadata": {},
     "output_type": "execute_result"
    }
   ],
   "source": [
    "RunDetails(remote_run).show()\n",
    "remote_run.wait_for_completion(show_output=True)"
   ]
  },
  {
   "cell_type": "markdown",
   "metadata": {},
   "source": [
    "## Best Model"
   ]
  },
  {
   "cell_type": "code",
   "execution_count": 14,
   "metadata": {
    "gather": {
     "logged": 1598431425670
    },
    "jupyter": {
     "outputs_hidden": false,
     "source_hidden": false
    },
    "nteract": {
     "transient": {
      "deleting": false
     }
    }
   },
   "outputs": [
    {
     "name": "stdout",
     "output_type": "stream",
     "text": [
      "Best Run ID AutoML_c1e7d13b-87cd-4132-b764-99497c57aaeb_48\n"
     ]
    }
   ],
   "source": [
    "best_run, fitted_automl_best_model = remote_run.get_output()\n",
    "best_run_metrics = best_run.get_metrics()\n",
    "print('Best Run ID',best_run.id)"
   ]
  },
  {
   "cell_type": "code",
   "execution_count": 15,
   "metadata": {},
   "outputs": [
    {
     "data": {
      "text/html": [
       "<table style=\"width:100%\"><tr><th>Experiment</th><th>Id</th><th>Type</th><th>Status</th><th>Details Page</th><th>Docs Page</th></tr><tr><td>automl-experiment</td><td>AutoML_c1e7d13b-87cd-4132-b764-99497c57aaeb_48</td><td>azureml.scriptrun</td><td>Completed</td><td><a href=\"https://ml.azure.com/experiments/automl-experiment/runs/AutoML_c1e7d13b-87cd-4132-b764-99497c57aaeb_48?wsid=/subscriptions/976ee174-3882-4721-b90a-b5fef6b72f24/resourcegroups/aml-quickstarts-132749/workspaces/quick-starts-ws-132749\" target=\"_blank\" rel=\"noopener\">Link to Azure Machine Learning studio</a></td><td><a href=\"https://docs.microsoft.com/en-us/python/api/azureml-core/azureml.core.run.Run?view=azure-ml-py\" target=\"_blank\" rel=\"noopener\">Link to Documentation</a></td></tr></table>"
      ],
      "text/plain": [
       "Run(Experiment: automl-experiment,\n",
       "Id: AutoML_c1e7d13b-87cd-4132-b764-99497c57aaeb_48,\n",
       "Type: azureml.scriptrun,\n",
       "Status: Completed)"
      ]
     },
     "execution_count": 15,
     "metadata": {},
     "output_type": "execute_result"
    }
   ],
   "source": [
    "best_run"
   ]
  },
  {
   "cell_type": "code",
   "execution_count": 16,
   "metadata": {},
   "outputs": [
    {
     "data": {
      "text/plain": [
       "Pipeline(memory=None,\n",
       "         steps=[('datatransformer',\n",
       "                 DataTransformer(enable_dnn=None, enable_feature_sweeping=None,\n",
       "                                 feature_sweeping_config=None,\n",
       "                                 feature_sweeping_timeout=None,\n",
       "                                 featurization_config=None, force_text_dnn=None,\n",
       "                                 is_cross_validation=None,\n",
       "                                 is_onnx_compatible=None, logger=None,\n",
       "                                 observer=None, task=None, working_dir=None)),\n",
       "                ('prefittedsoftvotingclassifier',...\n",
       "                                                                                                    min_samples_split=0.10368421052631578,\n",
       "                                                                                                    min_weight_fraction_leaf=0.0,\n",
       "                                                                                                    n_estimators=600,\n",
       "                                                                                                    n_jobs=-1,\n",
       "                                                                                                    oob_score=False,\n",
       "                                                                                                    random_state=None,\n",
       "                                                                                                    verbose=0,\n",
       "                                                                                                    warm_start=False))],\n",
       "                                                                     verbose=False))],\n",
       "                                               flatten_transform=None,\n",
       "                                               weights=[0.3333333333333333, 0.2,\n",
       "                                                        0.06666666666666667,\n",
       "                                                        0.13333333333333333,\n",
       "                                                        0.06666666666666667,\n",
       "                                                        0.06666666666666667,\n",
       "                                                        0.06666666666666667,\n",
       "                                                        0.06666666666666667]))],\n",
       "         verbose=False)"
      ]
     },
     "execution_count": 16,
     "metadata": {},
     "output_type": "execute_result"
    }
   ],
   "source": [
    "fitted_automl_best_model"
   ]
  },
  {
   "cell_type": "code",
   "execution_count": 17,
   "metadata": {},
   "outputs": [
    {
     "name": "stdout",
     "output_type": "stream",
     "text": [
      "AUC_micro 0.9988322071151939\n",
      "matthews_correlation 0.9576683612324097\n",
      "average_precision_score_macro 0.9950811047722569\n",
      "balanced_accuracy 0.975378526769395\n",
      "average_precision_score_micro 0.9988524336987495\n",
      "AUC_macro 0.9980359673001894\n",
      "recall_score_micro 0.9885199354605748\n",
      "f1_score_weighted 0.9884787521575996\n",
      "weighted_accuracy 0.9934225703198244\n",
      "precision_score_macro 0.9823221104805429\n",
      "recall_score_weighted 0.9885199354605748\n",
      "AUC_weighted 0.9980359673001895\n",
      "recall_score_macro 0.975378526769395\n",
      "average_precision_score_weighted 0.9981344883921791\n",
      "precision_score_micro 0.9885199354605748\n",
      "precision_score_weighted 0.9884748441475115\n",
      "accuracy 0.9885199354605748\n",
      "f1_score_micro 0.9885199354605748\n",
      "log_loss 0.08394512918228525\n",
      "norm_macro_recall 0.9507570535387898\n",
      "f1_score_macro 0.9787994149473626\n",
      "confusion_matrix aml://artifactId/ExperimentRun/dcid.AutoML_c1e7d13b-87cd-4132-b764-99497c57aaeb_48/confusion_matrix\n",
      "accuracy_table aml://artifactId/ExperimentRun/dcid.AutoML_c1e7d13b-87cd-4132-b764-99497c57aaeb_48/accuracy_table\n",
      "\n",
      "Accuracy of Best run\n",
      "0.9885199354605748\n",
      "Run(Experiment: automl-experiment,\n",
      "Id: AutoML_c1e7d13b-87cd-4132-b764-99497c57aaeb_48,\n",
      "Type: azureml.scriptrun,\n",
      "Status: Completed)\n"
     ]
    },
    {
     "data": {
      "text/plain": [
       "'AutoMLc1e7d13b848'"
      ]
     },
     "execution_count": 17,
     "metadata": {},
     "output_type": "execute_result"
    }
   ],
   "source": [
    "# Metric in best run\n",
    "for metric_name in best_run_metrics:\n",
    "    metric = best_run_metrics[metric_name]\n",
    "    print(metric_name, metric)\n",
    "    \n",
    "print('\\nAccuracy of Best run',best_run_metrics['accuracy'],sep='\\n')\n",
    "print(best_run)\n",
    "\n",
    "model_name = best_run.properties['model_name']\n",
    "model_name"
   ]
  },
  {
   "cell_type": "code",
   "execution_count": 18,
   "metadata": {
    "gather": {
     "logged": 1598431426111
    },
    "jupyter": {
     "outputs_hidden": false,
     "source_hidden": false
    },
    "nteract": {
     "transient": {
      "deleting": false
     }
    }
   },
   "outputs": [
    {
     "data": {
      "text/plain": [
       "['outputs/automl.joblib']"
      ]
     },
     "execution_count": 18,
     "metadata": {},
     "output_type": "execute_result"
    }
   ],
   "source": [
    "#TODO: Save the best model\n",
    "\n",
    "os.makedirs('./outputs', exist_ok=True)\n",
    "\n",
    "joblib.dump(fitted_automl_best_model, filename='outputs/automl.joblib')"
   ]
  },
  {
   "cell_type": "markdown",
   "metadata": {},
   "source": [
    "## Fetch Environment"
   ]
  },
  {
   "cell_type": "code",
   "execution_count": null,
   "metadata": {},
   "outputs": [],
   "source": [
    "env = best_run.get_environment()\n",
    "\n",
    "script_file = 'score.py'\n",
    "\n",
    "best_run.download_file('outputs/scoring_file_v_1_0_0.py', script_file)"
   ]
  },
  {
   "cell_type": "markdown",
   "metadata": {},
   "source": [
    "## Model Deployment\n",
    "\n",
    "Remember you have to deploy only one of the two models you trained.. Perform the steps in the rest of this notebook only if you wish to deploy this model.\n",
    "\n",
    "TODO: In the cell below, register the model, create an inference config and deploy the model as a web service."
   ]
  },
  {
   "cell_type": "code",
   "execution_count": null,
   "metadata": {
    "gather": {
     "logged": 1598431435189
    },
    "jupyter": {
     "outputs_hidden": false,
     "source_hidden": false
    },
    "nteract": {
     "transient": {
      "deleting": false
     }
    }
   },
   "outputs": [],
   "source": [
    "#Register the model\n",
    "model = remote_run.register_model(model_name=model_name)\n",
    "print(model.name, model.id, model.version, sep='\\t')"
   ]
  },
  {
   "cell_type": "code",
   "execution_count": null,
   "metadata": {},
   "outputs": [],
   "source": [
    "from azureml.core.model import InferenceConfig\n",
    "from azureml.core.webservice import AciWebservice\n",
    "from azureml.core.webservice import Webservice\n",
    "from azureml.core.model import Model\n",
    "from azureml.core.environment import Environment\n",
    "\n",
    "inference_config = InferenceConfig(entry_script=script_file, environment=env)\n",
    "\n",
    "deployment_config = AciWebservice.deploy_configuration(cpu_cores = 1, memory_gb = 1)\n",
    "\n",
    "deploy_service_name= 'automl-model-deployment'\n",
    "service = Model.deploy(ws,deploy_service_name,  [model], inference_config, deployment_config)\n",
    "\n",
    "service.wait_for_deployment(show_output = True)\n",
    "\n",
    "print(\"State: \",service.state)\n",
    "print(\"\\nScoring URI: \",service.scoring_uri)\n",
    "print(\"\\nService Logs\",service.get_logs())"
   ]
  },
  {
   "cell_type": "markdown",
   "metadata": {
    "gather": {
     "logged": 1598431657736
    },
    "jupyter": {
     "outputs_hidden": false,
     "source_hidden": false
    },
    "nteract": {
     "transient": {
      "deleting": false
     }
    }
   },
   "source": [
    "## Test the Deploy model\n",
    "TODO: In the cell below, send a request to the web service you deployed to test it."
   ]
  },
  {
   "cell_type": "code",
   "execution_count": null,
   "metadata": {
    "gather": {
     "logged": 1598432707604
    },
    "jupyter": {
     "outputs_hidden": false,
     "source_hidden": false
    },
    "nteract": {
     "transient": {
      "deleting": false
     }
    }
   },
   "outputs": [],
   "source": []
  },
  {
   "cell_type": "markdown",
   "metadata": {
    "gather": {
     "logged": 1598432765711
    },
    "jupyter": {
     "outputs_hidden": false,
     "source_hidden": false
    },
    "nteract": {
     "transient": {
      "deleting": false
     }
    }
   },
   "source": [
    "TODO: In the cell below, print the logs of the web service and delete the service"
   ]
  },
  {
   "cell_type": "code",
   "execution_count": null,
   "metadata": {
    "jupyter": {
     "outputs_hidden": false,
     "source_hidden": false
    },
    "nteract": {
     "transient": {
      "deleting": false
     }
    }
   },
   "outputs": [],
   "source": []
  }
 ],
 "metadata": {
  "kernel_info": {
   "name": "python3"
  },
  "kernelspec": {
   "display_name": "Python 3",
   "language": "python",
   "name": "python3"
  },
  "language_info": {
   "codemirror_mode": {
    "name": "ipython",
    "version": 3
   },
   "file_extension": ".py",
   "mimetype": "text/x-python",
   "name": "python",
   "nbconvert_exporter": "python",
   "pygments_lexer": "ipython3",
   "version": "3.7.6"
  },
  "nteract": {
   "version": "nteract-front-end@1.0.0"
  }
 },
 "nbformat": 4,
 "nbformat_minor": 4
}
