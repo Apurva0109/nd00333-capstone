{
 "cells": [
  {
   "cell_type": "markdown",
   "metadata": {},
   "source": [
    "# Automated ML\n",
    "\n",
    "Import Dependencies."
   ]
  },
  {
   "cell_type": "code",
   "execution_count": 1,
   "metadata": {
    "collapsed": false,
    "gather": {
     "logged": 1598423888013
    },
    "jupyter": {
     "outputs_hidden": false,
     "source_hidden": false
    },
    "nteract": {
     "transient": {
      "deleting": false
     }
    }
   },
   "outputs": [
    {
     "name": "stdout",
     "output_type": "stream",
     "text": [
      "SDK version: 1.19.0\n"
     ]
    }
   ],
   "source": [
    "from azureml.core import Workspace, Experiment,Dataset\n",
    "from azureml.core.compute import ComputeTarget, AmlCompute\n",
    "from azureml.core.compute_target import ComputeTargetException\n",
    "from azureml.widgets import RunDetails\n",
    "\n",
    "import azureml.core\n",
    "from azureml.data.dataset_factory import TabularDatasetFactory\n",
    "from sklearn.model_selection import train_test_split\n",
    "from azureml.train.automl import AutoMLConfig\n",
    "\n",
    "import os\n",
    "import joblib\n",
    "import pandas as pd\n",
    "import numpy as np\n",
    "\n",
    "# Check core SDK version number\n",
    "print(\"SDK version:\", azureml.core.VERSION)"
   ]
  },
  {
   "cell_type": "markdown",
   "metadata": {},
   "source": [
    "## Initialize Workspace"
   ]
  },
  {
   "cell_type": "code",
   "execution_count": 2,
   "metadata": {},
   "outputs": [
    {
     "name": "stdout",
     "output_type": "stream",
     "text": [
      "quick-starts-ws-133333\n",
      "aml-quickstarts-133333\n",
      "southcentralus\n",
      "48a74bb7-9950-4cc1-9caa-5d50f995cc55\n"
     ]
    }
   ],
   "source": [
    "ws = Workspace.from_config()\n",
    "print(ws.name, ws.resource_group, ws.location, ws.subscription_id, sep = '\\n')"
   ]
  },
  {
   "cell_type": "markdown",
   "metadata": {},
   "source": [
    "## Create an Azure ML experiment"
   ]
  },
  {
   "cell_type": "code",
   "execution_count": 3,
   "metadata": {},
   "outputs": [
    {
     "data": {
      "text/html": [
       "<table style=\"width:100%\"><tr><th>Name</th><th>Workspace</th><th>Report Page</th><th>Docs Page</th></tr><tr><td>automl-experiment</td><td>quick-starts-ws-133333</td><td><a href=\"https://ml.azure.com/experiments/automl-experiment?wsid=/subscriptions/48a74bb7-9950-4cc1-9caa-5d50f995cc55/resourcegroups/aml-quickstarts-133333/workspaces/quick-starts-ws-133333\" target=\"_blank\" rel=\"noopener\">Link to Azure Machine Learning studio</a></td><td><a href=\"https://docs.microsoft.com/en-us/python/api/azureml-core/azureml.core.experiment.Experiment?view=azure-ml-py\" target=\"_blank\" rel=\"noopener\">Link to Documentation</a></td></tr></table>"
      ],
      "text/plain": [
       "Experiment(Name: automl-experiment,\n",
       "Workspace: quick-starts-ws-133333)"
      ]
     },
     "execution_count": 3,
     "metadata": {},
     "output_type": "execute_result"
    }
   ],
   "source": [
    "experiment_name = 'automl-experiment'\n",
    "project_folder = './automl-model'\n",
    "\n",
    "experiment = Experiment(ws, experiment_name)\n",
    "experiment"
   ]
  },
  {
   "cell_type": "markdown",
   "metadata": {},
   "source": [
    "## Dataset\n",
    "\n",
    "### Overview\n",
    "\n",
    "We will build prediction model that will classify if a customer is going to churn or not from kaggle's data set [Credit Card customers](https://www.kaggle.com/sakshigoyal7/credit-card-customers). Data set was downloaded as a csv and uploaded i.e. registered as data set in the workspace."
   ]
  },
  {
   "cell_type": "code",
   "execution_count": 4,
   "metadata": {
    "collapsed": false,
    "gather": {
     "logged": 1598423890461
    },
    "jupyter": {
     "outputs_hidden": false,
     "source_hidden": false
    },
    "nteract": {
     "transient": {
      "deleting": false
     }
    }
   },
   "outputs": [
    {
     "data": {
      "text/html": [
       "<div>\n",
       "<style scoped>\n",
       "    .dataframe tbody tr th:only-of-type {\n",
       "        vertical-align: middle;\n",
       "    }\n",
       "\n",
       "    .dataframe tbody tr th {\n",
       "        vertical-align: top;\n",
       "    }\n",
       "\n",
       "    .dataframe thead th {\n",
       "        text-align: right;\n",
       "    }\n",
       "</style>\n",
       "<table border=\"1\" class=\"dataframe\">\n",
       "  <thead>\n",
       "    <tr style=\"text-align: right;\">\n",
       "      <th></th>\n",
       "      <th>CLIENTNUM</th>\n",
       "      <th>Customer_Age</th>\n",
       "      <th>Dependent_count</th>\n",
       "      <th>Months_on_book</th>\n",
       "      <th>Total_Relationship_Count</th>\n",
       "      <th>Months_Inactive_12_mon</th>\n",
       "      <th>Contacts_Count_12_mon</th>\n",
       "      <th>Credit_Limit</th>\n",
       "      <th>Total_Revolving_Bal</th>\n",
       "      <th>Avg_Open_To_Buy</th>\n",
       "      <th>Total_Amt_Chng_Q4_Q1</th>\n",
       "      <th>Total_Trans_Amt</th>\n",
       "      <th>Total_Trans_Ct</th>\n",
       "      <th>Total_Ct_Chng_Q4_Q1</th>\n",
       "      <th>Avg_Utilization_Ratio</th>\n",
       "      <th>Naive_Bayes_Classifier_Attrition_Flag_Card_Category_Contacts_Count_12_mon_Dependent_count_Education_Level_Months_Inactive_12_mon_1</th>\n",
       "      <th>Naive_Bayes_Classifier_Attrition_Flag_Card_Category_Contacts_Count_12_mon_Dependent_count_Education_Level_Months_Inactive_12_mon_2</th>\n",
       "    </tr>\n",
       "  </thead>\n",
       "  <tbody>\n",
       "    <tr>\n",
       "      <th>count</th>\n",
       "      <td>1.012700e+04</td>\n",
       "      <td>10127.000000</td>\n",
       "      <td>10127.000000</td>\n",
       "      <td>10127.000000</td>\n",
       "      <td>10127.000000</td>\n",
       "      <td>10127.000000</td>\n",
       "      <td>10127.000000</td>\n",
       "      <td>10127.000000</td>\n",
       "      <td>10127.000000</td>\n",
       "      <td>10127.000000</td>\n",
       "      <td>10127.000000</td>\n",
       "      <td>10127.000000</td>\n",
       "      <td>10127.000000</td>\n",
       "      <td>10127.000000</td>\n",
       "      <td>10127.000000</td>\n",
       "      <td>10127.000000</td>\n",
       "      <td>10127.000000</td>\n",
       "    </tr>\n",
       "    <tr>\n",
       "      <th>mean</th>\n",
       "      <td>7.391776e+08</td>\n",
       "      <td>46.325960</td>\n",
       "      <td>2.346203</td>\n",
       "      <td>35.928409</td>\n",
       "      <td>3.812580</td>\n",
       "      <td>2.341167</td>\n",
       "      <td>2.455317</td>\n",
       "      <td>8631.953698</td>\n",
       "      <td>1162.814061</td>\n",
       "      <td>7469.139637</td>\n",
       "      <td>0.759941</td>\n",
       "      <td>4404.086304</td>\n",
       "      <td>64.858695</td>\n",
       "      <td>0.712222</td>\n",
       "      <td>0.274894</td>\n",
       "      <td>0.159997</td>\n",
       "      <td>0.840003</td>\n",
       "    </tr>\n",
       "    <tr>\n",
       "      <th>std</th>\n",
       "      <td>3.690378e+07</td>\n",
       "      <td>8.016814</td>\n",
       "      <td>1.298908</td>\n",
       "      <td>7.986416</td>\n",
       "      <td>1.554408</td>\n",
       "      <td>1.010622</td>\n",
       "      <td>1.106225</td>\n",
       "      <td>9088.776650</td>\n",
       "      <td>814.987335</td>\n",
       "      <td>9090.685324</td>\n",
       "      <td>0.219207</td>\n",
       "      <td>3397.129254</td>\n",
       "      <td>23.472570</td>\n",
       "      <td>0.238086</td>\n",
       "      <td>0.275691</td>\n",
       "      <td>0.365301</td>\n",
       "      <td>0.365301</td>\n",
       "    </tr>\n",
       "    <tr>\n",
       "      <th>min</th>\n",
       "      <td>7.080821e+08</td>\n",
       "      <td>26.000000</td>\n",
       "      <td>0.000000</td>\n",
       "      <td>13.000000</td>\n",
       "      <td>1.000000</td>\n",
       "      <td>0.000000</td>\n",
       "      <td>0.000000</td>\n",
       "      <td>1438.300000</td>\n",
       "      <td>0.000000</td>\n",
       "      <td>3.000000</td>\n",
       "      <td>0.000000</td>\n",
       "      <td>510.000000</td>\n",
       "      <td>10.000000</td>\n",
       "      <td>0.000000</td>\n",
       "      <td>0.000000</td>\n",
       "      <td>0.000008</td>\n",
       "      <td>0.000420</td>\n",
       "    </tr>\n",
       "    <tr>\n",
       "      <th>25%</th>\n",
       "      <td>7.130368e+08</td>\n",
       "      <td>41.000000</td>\n",
       "      <td>1.000000</td>\n",
       "      <td>31.000000</td>\n",
       "      <td>3.000000</td>\n",
       "      <td>2.000000</td>\n",
       "      <td>2.000000</td>\n",
       "      <td>2555.000000</td>\n",
       "      <td>359.000000</td>\n",
       "      <td>1324.500000</td>\n",
       "      <td>0.631000</td>\n",
       "      <td>2155.500000</td>\n",
       "      <td>45.000000</td>\n",
       "      <td>0.582000</td>\n",
       "      <td>0.023000</td>\n",
       "      <td>0.000099</td>\n",
       "      <td>0.999660</td>\n",
       "    </tr>\n",
       "    <tr>\n",
       "      <th>50%</th>\n",
       "      <td>7.179264e+08</td>\n",
       "      <td>46.000000</td>\n",
       "      <td>2.000000</td>\n",
       "      <td>36.000000</td>\n",
       "      <td>4.000000</td>\n",
       "      <td>2.000000</td>\n",
       "      <td>2.000000</td>\n",
       "      <td>4549.000000</td>\n",
       "      <td>1276.000000</td>\n",
       "      <td>3474.000000</td>\n",
       "      <td>0.736000</td>\n",
       "      <td>3899.000000</td>\n",
       "      <td>67.000000</td>\n",
       "      <td>0.702000</td>\n",
       "      <td>0.176000</td>\n",
       "      <td>0.000181</td>\n",
       "      <td>0.999820</td>\n",
       "    </tr>\n",
       "    <tr>\n",
       "      <th>75%</th>\n",
       "      <td>7.731435e+08</td>\n",
       "      <td>52.000000</td>\n",
       "      <td>3.000000</td>\n",
       "      <td>40.000000</td>\n",
       "      <td>5.000000</td>\n",
       "      <td>3.000000</td>\n",
       "      <td>3.000000</td>\n",
       "      <td>11067.500000</td>\n",
       "      <td>1784.000000</td>\n",
       "      <td>9859.000000</td>\n",
       "      <td>0.859000</td>\n",
       "      <td>4741.000000</td>\n",
       "      <td>81.000000</td>\n",
       "      <td>0.818000</td>\n",
       "      <td>0.503000</td>\n",
       "      <td>0.000337</td>\n",
       "      <td>0.999900</td>\n",
       "    </tr>\n",
       "    <tr>\n",
       "      <th>max</th>\n",
       "      <td>8.283431e+08</td>\n",
       "      <td>73.000000</td>\n",
       "      <td>5.000000</td>\n",
       "      <td>56.000000</td>\n",
       "      <td>6.000000</td>\n",
       "      <td>6.000000</td>\n",
       "      <td>6.000000</td>\n",
       "      <td>34516.000000</td>\n",
       "      <td>2517.000000</td>\n",
       "      <td>34516.000000</td>\n",
       "      <td>3.397000</td>\n",
       "      <td>18484.000000</td>\n",
       "      <td>139.000000</td>\n",
       "      <td>3.714000</td>\n",
       "      <td>0.999000</td>\n",
       "      <td>0.999580</td>\n",
       "      <td>0.999990</td>\n",
       "    </tr>\n",
       "  </tbody>\n",
       "</table>\n",
       "</div>"
      ],
      "text/plain": [
       "          CLIENTNUM  Customer_Age  Dependent_count  Months_on_book  \\\n",
       "count  1.012700e+04  10127.000000     10127.000000    10127.000000   \n",
       "mean   7.391776e+08     46.325960         2.346203       35.928409   \n",
       "std    3.690378e+07      8.016814         1.298908        7.986416   \n",
       "min    7.080821e+08     26.000000         0.000000       13.000000   \n",
       "25%    7.130368e+08     41.000000         1.000000       31.000000   \n",
       "50%    7.179264e+08     46.000000         2.000000       36.000000   \n",
       "75%    7.731435e+08     52.000000         3.000000       40.000000   \n",
       "max    8.283431e+08     73.000000         5.000000       56.000000   \n",
       "\n",
       "       Total_Relationship_Count  Months_Inactive_12_mon  \\\n",
       "count              10127.000000            10127.000000   \n",
       "mean                   3.812580                2.341167   \n",
       "std                    1.554408                1.010622   \n",
       "min                    1.000000                0.000000   \n",
       "25%                    3.000000                2.000000   \n",
       "50%                    4.000000                2.000000   \n",
       "75%                    5.000000                3.000000   \n",
       "max                    6.000000                6.000000   \n",
       "\n",
       "       Contacts_Count_12_mon  Credit_Limit  Total_Revolving_Bal  \\\n",
       "count           10127.000000  10127.000000         10127.000000   \n",
       "mean                2.455317   8631.953698          1162.814061   \n",
       "std                 1.106225   9088.776650           814.987335   \n",
       "min                 0.000000   1438.300000             0.000000   \n",
       "25%                 2.000000   2555.000000           359.000000   \n",
       "50%                 2.000000   4549.000000          1276.000000   \n",
       "75%                 3.000000  11067.500000          1784.000000   \n",
       "max                 6.000000  34516.000000          2517.000000   \n",
       "\n",
       "       Avg_Open_To_Buy  Total_Amt_Chng_Q4_Q1  Total_Trans_Amt  Total_Trans_Ct  \\\n",
       "count     10127.000000          10127.000000     10127.000000    10127.000000   \n",
       "mean       7469.139637              0.759941      4404.086304       64.858695   \n",
       "std        9090.685324              0.219207      3397.129254       23.472570   \n",
       "min           3.000000              0.000000       510.000000       10.000000   \n",
       "25%        1324.500000              0.631000      2155.500000       45.000000   \n",
       "50%        3474.000000              0.736000      3899.000000       67.000000   \n",
       "75%        9859.000000              0.859000      4741.000000       81.000000   \n",
       "max       34516.000000              3.397000     18484.000000      139.000000   \n",
       "\n",
       "       Total_Ct_Chng_Q4_Q1  Avg_Utilization_Ratio  \\\n",
       "count         10127.000000           10127.000000   \n",
       "mean              0.712222               0.274894   \n",
       "std               0.238086               0.275691   \n",
       "min               0.000000               0.000000   \n",
       "25%               0.582000               0.023000   \n",
       "50%               0.702000               0.176000   \n",
       "75%               0.818000               0.503000   \n",
       "max               3.714000               0.999000   \n",
       "\n",
       "       Naive_Bayes_Classifier_Attrition_Flag_Card_Category_Contacts_Count_12_mon_Dependent_count_Education_Level_Months_Inactive_12_mon_1  \\\n",
       "count                                       10127.000000                                                                                    \n",
       "mean                                            0.159997                                                                                    \n",
       "std                                             0.365301                                                                                    \n",
       "min                                             0.000008                                                                                    \n",
       "25%                                             0.000099                                                                                    \n",
       "50%                                             0.000181                                                                                    \n",
       "75%                                             0.000337                                                                                    \n",
       "max                                             0.999580                                                                                    \n",
       "\n",
       "       Naive_Bayes_Classifier_Attrition_Flag_Card_Category_Contacts_Count_12_mon_Dependent_count_Education_Level_Months_Inactive_12_mon_2  \n",
       "count                                       10127.000000                                                                                   \n",
       "mean                                            0.840003                                                                                   \n",
       "std                                             0.365301                                                                                   \n",
       "min                                             0.000420                                                                                   \n",
       "25%                                             0.999660                                                                                   \n",
       "50%                                             0.999820                                                                                   \n",
       "75%                                             0.999900                                                                                   \n",
       "max                                             0.999990                                                                                   "
      ]
     },
     "execution_count": 4,
     "metadata": {},
     "output_type": "execute_result"
    }
   ],
   "source": [
    "dataset=Dataset.get_by_name(ws,name=\"Credit-Card-Churners\")\n",
    "run = experiment.start_logging()\n",
    "df = dataset.to_pandas_dataframe()\n",
    "df.describe()"
   ]
  },
  {
   "cell_type": "code",
   "execution_count": 5,
   "metadata": {},
   "outputs": [
    {
     "name": "stdout",
     "output_type": "stream",
     "text": [
      "/mnt/batch/tasks/shared/LS_root/mounts/clusters/compute-aml-cluster/code/Users/odl_user_133333\n"
     ]
    },
    {
     "data": {
      "text/plain": [
       "['.config',\n",
       " '.ipynb_checkpoints',\n",
       " 'automl.ipynb',\n",
       " 'conda_dependencies.yml',\n",
       " 'CreditCardChurners.csv',\n",
       " 'hyperdrive_model.joblib',\n",
       " 'hyperparameter_tuning.ipynb',\n",
       " 'outputs',\n",
       " 'README.md',\n",
       " 'score.py',\n",
       " 'train.py']"
      ]
     },
     "execution_count": 5,
     "metadata": {},
     "output_type": "execute_result"
    }
   ],
   "source": [
    "currDir=os.getcwd()\n",
    "print(currDir)\n",
    "os.listdir(currDir)"
   ]
  },
  {
   "cell_type": "markdown",
   "metadata": {},
   "source": [
    "## Create or Attach a Compute Resource"
   ]
  },
  {
   "cell_type": "code",
   "execution_count": 6,
   "metadata": {},
   "outputs": [
    {
     "name": "stdout",
     "output_type": "stream",
     "text": [
      "Found existing cluster.\n",
      "\n",
      "Running\n"
     ]
    }
   ],
   "source": [
    "compute_name = \"compute-aml-cluster\"\n",
    "\n",
    "# Check if the compute target exists\n",
    "try:\n",
    "    compute_aml_cluster = ComputeTarget(workspace=ws, name=compute_name)\n",
    "    print('Found existing cluster.')\n",
    "except ComputeTargetException:\n",
    "    # If not, create it\n",
    "    compute_config = AmlCompute.provisionibng_configuration(vm_size='STANDARD_DS12_V2',\n",
    "                                                           max_nodes=5)\n",
    "    compute_aml_cluster = ComputeTarget.create(ws, compute_name, compute_config)\n",
    "\n",
    "compute_aml_cluster.wait_for_completion(show_output=True)"
   ]
  },
  {
   "cell_type": "code",
   "execution_count": 7,
   "metadata": {},
   "outputs": [
    {
     "data": {
      "text/html": [
       "<div>\n",
       "<style scoped>\n",
       "    .dataframe tbody tr th:only-of-type {\n",
       "        vertical-align: middle;\n",
       "    }\n",
       "\n",
       "    .dataframe tbody tr th {\n",
       "        vertical-align: top;\n",
       "    }\n",
       "\n",
       "    .dataframe thead th {\n",
       "        text-align: right;\n",
       "    }\n",
       "</style>\n",
       "<table border=\"1\" class=\"dataframe\">\n",
       "  <thead>\n",
       "    <tr style=\"text-align: right;\">\n",
       "      <th></th>\n",
       "      <th>Customer_Age</th>\n",
       "      <th>Gender</th>\n",
       "      <th>Dependent_count</th>\n",
       "      <th>Education_Level</th>\n",
       "      <th>Income_Category</th>\n",
       "      <th>Months_on_book</th>\n",
       "      <th>Total_Relationship_Count</th>\n",
       "      <th>Months_Inactive_12_mon</th>\n",
       "      <th>Contacts_Count_12_mon</th>\n",
       "      <th>Credit_Limit</th>\n",
       "      <th>...</th>\n",
       "      <th>Total_Ct_Chng_Q4_Q1</th>\n",
       "      <th>Avg_Utilization_Ratio</th>\n",
       "      <th>Marital_Status_Divorced</th>\n",
       "      <th>Marital_Status_Married</th>\n",
       "      <th>Marital_Status_Single</th>\n",
       "      <th>Card_Category_Blue</th>\n",
       "      <th>Card_Category_Gold</th>\n",
       "      <th>Card_Category_Platinum</th>\n",
       "      <th>Card_Category_Silver</th>\n",
       "      <th>Attrition_Flag</th>\n",
       "    </tr>\n",
       "  </thead>\n",
       "  <tbody>\n",
       "    <tr>\n",
       "      <th>0</th>\n",
       "      <td>-0.165406</td>\n",
       "      <td>1.059956</td>\n",
       "      <td>0.503368</td>\n",
       "      <td>-0.893680</td>\n",
       "      <td>0.597300</td>\n",
       "      <td>0.384621</td>\n",
       "      <td>0.763943</td>\n",
       "      <td>-1.327136</td>\n",
       "      <td>0.492404</td>\n",
       "      <td>0.446622</td>\n",
       "      <td>...</td>\n",
       "      <td>3.834003</td>\n",
       "      <td>-0.775882</td>\n",
       "      <td>-0.282405</td>\n",
       "      <td>1.077338</td>\n",
       "      <td>-0.798507</td>\n",
       "      <td>0.270611</td>\n",
       "      <td>-0.107644</td>\n",
       "      <td>-0.044484</td>\n",
       "      <td>-0.240794</td>\n",
       "      <td>0</td>\n",
       "    </tr>\n",
       "    <tr>\n",
       "      <th>1</th>\n",
       "      <td>0.333570</td>\n",
       "      <td>-0.943436</td>\n",
       "      <td>2.043199</td>\n",
       "      <td>0.593388</td>\n",
       "      <td>-0.887628</td>\n",
       "      <td>1.010715</td>\n",
       "      <td>1.407306</td>\n",
       "      <td>-1.327136</td>\n",
       "      <td>-0.411616</td>\n",
       "      <td>-0.041367</td>\n",
       "      <td>...</td>\n",
       "      <td>12.608573</td>\n",
       "      <td>-0.616276</td>\n",
       "      <td>-0.282405</td>\n",
       "      <td>-0.928214</td>\n",
       "      <td>1.252337</td>\n",
       "      <td>0.270611</td>\n",
       "      <td>-0.107644</td>\n",
       "      <td>-0.044484</td>\n",
       "      <td>-0.240794</td>\n",
       "      <td>0</td>\n",
       "    </tr>\n",
       "    <tr>\n",
       "      <th>2</th>\n",
       "      <td>0.583058</td>\n",
       "      <td>1.059956</td>\n",
       "      <td>0.503368</td>\n",
       "      <td>0.593388</td>\n",
       "      <td>1.339764</td>\n",
       "      <td>0.008965</td>\n",
       "      <td>0.120579</td>\n",
       "      <td>-1.327136</td>\n",
       "      <td>-2.219655</td>\n",
       "      <td>-0.573698</td>\n",
       "      <td>...</td>\n",
       "      <td>6.807864</td>\n",
       "      <td>-0.997155</td>\n",
       "      <td>-0.282405</td>\n",
       "      <td>1.077338</td>\n",
       "      <td>-0.798507</td>\n",
       "      <td>0.270611</td>\n",
       "      <td>-0.107644</td>\n",
       "      <td>-0.044484</td>\n",
       "      <td>-0.240794</td>\n",
       "      <td>0</td>\n",
       "    </tr>\n",
       "    <tr>\n",
       "      <th>3</th>\n",
       "      <td>-0.789126</td>\n",
       "      <td>-0.943436</td>\n",
       "      <td>1.273283</td>\n",
       "      <td>-0.893680</td>\n",
       "      <td>-0.887628</td>\n",
       "      <td>-0.241473</td>\n",
       "      <td>-0.522785</td>\n",
       "      <td>1.641478</td>\n",
       "      <td>-1.315636</td>\n",
       "      <td>-0.585251</td>\n",
       "      <td>...</td>\n",
       "      <td>6.807864</td>\n",
       "      <td>1.759686</td>\n",
       "      <td>-0.282405</td>\n",
       "      <td>-0.928214</td>\n",
       "      <td>-0.798507</td>\n",
       "      <td>0.270611</td>\n",
       "      <td>-0.107644</td>\n",
       "      <td>-0.044484</td>\n",
       "      <td>-0.240794</td>\n",
       "      <td>0</td>\n",
       "    </tr>\n",
       "    <tr>\n",
       "      <th>4</th>\n",
       "      <td>-0.789126</td>\n",
       "      <td>1.059956</td>\n",
       "      <td>0.503368</td>\n",
       "      <td>-1.637214</td>\n",
       "      <td>0.597300</td>\n",
       "      <td>-1.869317</td>\n",
       "      <td>0.763943</td>\n",
       "      <td>-1.327136</td>\n",
       "      <td>-2.219655</td>\n",
       "      <td>-0.430877</td>\n",
       "      <td>...</td>\n",
       "      <td>7.509325</td>\n",
       "      <td>-0.997155</td>\n",
       "      <td>-0.282405</td>\n",
       "      <td>1.077338</td>\n",
       "      <td>-0.798507</td>\n",
       "      <td>0.270611</td>\n",
       "      <td>-0.107644</td>\n",
       "      <td>-0.044484</td>\n",
       "      <td>-0.240794</td>\n",
       "      <td>0</td>\n",
       "    </tr>\n",
       "  </tbody>\n",
       "</table>\n",
       "<p>5 rows × 25 columns</p>\n",
       "</div>"
      ],
      "text/plain": [
       "   Customer_Age    Gender  Dependent_count  Education_Level  Income_Category  \\\n",
       "0     -0.165406  1.059956         0.503368        -0.893680         0.597300   \n",
       "1      0.333570 -0.943436         2.043199         0.593388        -0.887628   \n",
       "2      0.583058  1.059956         0.503368         0.593388         1.339764   \n",
       "3     -0.789126 -0.943436         1.273283        -0.893680        -0.887628   \n",
       "4     -0.789126  1.059956         0.503368        -1.637214         0.597300   \n",
       "\n",
       "   Months_on_book  Total_Relationship_Count  Months_Inactive_12_mon  \\\n",
       "0        0.384621                  0.763943               -1.327136   \n",
       "1        1.010715                  1.407306               -1.327136   \n",
       "2        0.008965                  0.120579               -1.327136   \n",
       "3       -0.241473                 -0.522785                1.641478   \n",
       "4       -1.869317                  0.763943               -1.327136   \n",
       "\n",
       "   Contacts_Count_12_mon  Credit_Limit  ...  Total_Ct_Chng_Q4_Q1  \\\n",
       "0               0.492404      0.446622  ...             3.834003   \n",
       "1              -0.411616     -0.041367  ...            12.608573   \n",
       "2              -2.219655     -0.573698  ...             6.807864   \n",
       "3              -1.315636     -0.585251  ...             6.807864   \n",
       "4              -2.219655     -0.430877  ...             7.509325   \n",
       "\n",
       "   Avg_Utilization_Ratio  Marital_Status_Divorced  Marital_Status_Married  \\\n",
       "0              -0.775882                -0.282405                1.077338   \n",
       "1              -0.616276                -0.282405               -0.928214   \n",
       "2              -0.997155                -0.282405                1.077338   \n",
       "3               1.759686                -0.282405               -0.928214   \n",
       "4              -0.997155                -0.282405                1.077338   \n",
       "\n",
       "   Marital_Status_Single  Card_Category_Blue  Card_Category_Gold  \\\n",
       "0              -0.798507            0.270611           -0.107644   \n",
       "1               1.252337            0.270611           -0.107644   \n",
       "2              -0.798507            0.270611           -0.107644   \n",
       "3              -0.798507            0.270611           -0.107644   \n",
       "4              -0.798507            0.270611           -0.107644   \n",
       "\n",
       "   Card_Category_Platinum  Card_Category_Silver  Attrition_Flag  \n",
       "0               -0.044484             -0.240794               0  \n",
       "1               -0.044484             -0.240794               0  \n",
       "2               -0.044484             -0.240794               0  \n",
       "3               -0.044484             -0.240794               0  \n",
       "4               -0.044484             -0.240794               0  \n",
       "\n",
       "[5 rows x 25 columns]"
      ]
     },
     "execution_count": 7,
     "metadata": {},
     "output_type": "execute_result"
    }
   ],
   "source": [
    "from sklearn.preprocessing import OneHotEncoder, StandardScaler\n",
    "\n",
    "# Use the clean_data function to clean your data.\n",
    "#x, y = clean_data(df)\n",
    "\n",
    "def binary_encode(df, column, positive_value):\n",
    "    df = df.copy()\n",
    "    df[column] = df[column].apply(lambda x: 1 if x == positive_value else 0)\n",
    "    return df\n",
    "\n",
    "def ordinal_encode(df, column, ordering):\n",
    "    df = df.copy()\n",
    "    df[column] = df[column].apply(lambda x: ordering.index(x))\n",
    "    return df\n",
    "\n",
    "def onehot_encode(df, column, prefix):\n",
    "    df = df.copy()\n",
    "    dummies = pd.get_dummies(df[column], prefix=prefix)\n",
    "    df = pd.concat([df, dummies], axis=1)\n",
    "    df = df.drop(column, axis=1)\n",
    "    return df\n",
    "\n",
    "def pre_processing(data):\n",
    "    # Clean and one hot encode data\n",
    "    x_df = data.to_pandas_dataframe().dropna()\n",
    "\n",
    "    # Drop last two columns (unneeded)\n",
    "    x_df.drop(x_df.columns[-2:],inplace=True, axis=1)\n",
    "\n",
    "    # Drop CLIENTNUM columns\n",
    "    x_df.drop(\"CLIENTNUM\",inplace=True, axis=1)\n",
    "\n",
    "    # Encode unknown values as np.NaN\n",
    "    x_df = x_df.replace('Unknown', np.NaN)\n",
    "\n",
    "    # Fill ordinal missing values with modes (Education_Level and Income_Category columns)\n",
    "    x_df['Education_Level'] = x_df['Education_Level'].fillna('Graduate')\n",
    "    x_df['Income_Category'] = x_df['Income_Category'].fillna('Less than $40K')\n",
    "\n",
    "    # Encode binary columns\n",
    "    x_df = binary_encode(x_df, 'Attrition_Flag', positive_value='Attrited Customer')\n",
    "    x_df = binary_encode(x_df, 'Gender', positive_value='M')\n",
    "\n",
    "    # Encode ordinal columns\n",
    "    education_ordering = [\n",
    "        'Uneducated',\n",
    "        'High School',\n",
    "        'College',\n",
    "        'Graduate',\n",
    "        'Post-Graduate',\n",
    "        'Doctorate'\n",
    "    ]\n",
    "    income_ordering = [\n",
    "        'Less than $40K',\n",
    "        '$40K - $60K',\n",
    "        '$60K - $80K',\n",
    "        '$80K - $120K',\n",
    "        '$120K +'\n",
    "    ]\n",
    "\n",
    "    x_df = ordinal_encode(x_df, 'Education_Level', ordering=education_ordering)\n",
    "    x_df = ordinal_encode(x_df, 'Income_Category', ordering=income_ordering)\n",
    "\n",
    "    # Encode nominal columns\n",
    "    x_df = onehot_encode(x_df, 'Marital_Status', prefix='Marital_Status')\n",
    "    x_df = onehot_encode(x_df, 'Card_Category', prefix='Card_Category')\n",
    "\n",
    "    # Split df into X and y\n",
    "    X = x_df.drop('Attrition_Flag', axis=1).copy()\n",
    "    y = x_df['Attrition_Flag'].copy()\n",
    "\n",
    "    # Scale X with a standard scaler\n",
    "    scaler = StandardScaler()\n",
    "    X = pd.DataFrame(scaler.fit_transform(X), columns=X.columns)\n",
    "\n",
    "    return X, y\n",
    "\n",
    "x, y = pre_processing(dataset)\n",
    "\n",
    "all_data = pd.concat([x,y], axis = 1)\n",
    "all_data.head()"
   ]
  },
  {
   "cell_type": "code",
   "execution_count": 8,
   "metadata": {},
   "outputs": [
    {
     "name": "stdout",
     "output_type": "stream",
     "text": [
      "      Customer_Age    Gender  Dependent_count  Education_Level  \\\n",
      "147       1.082034  1.059956        -0.266547         0.593388   \n",
      "1985     -1.787077  1.059956        -1.806378         0.593388   \n",
      "8316     -1.412845 -0.943436         1.273283        -1.637214   \n",
      "\n",
      "      Income_Category  Months_on_book  Total_Relationship_Count  \\\n",
      "147          2.082228        1.762028                 -0.522785   \n",
      "1985        -0.887628       -1.118005                  1.407306   \n",
      "8316        -0.887628       -1.368442                 -1.166148   \n",
      "\n",
      "      Months_Inactive_12_mon  Contacts_Count_12_mon  Credit_Limit  ...  \\\n",
      "147                -0.337598              -2.219655      0.251316  ...   \n",
      "1985                0.651940               0.492404      0.066684  ...   \n",
      "8316                0.651940              -0.411616     -0.577989  ...   \n",
      "\n",
      "      Total_Ct_Chng_Q4_Q1  Avg_Utilization_Ratio  Marital_Status_Divorced  \\\n",
      "147              1.208772              -0.485688                -0.282405   \n",
      "1985            -0.983820              -0.997155                -0.282405   \n",
      "8316            -0.042938              -0.365984                -0.282405   \n",
      "\n",
      "      Marital_Status_Married  Marital_Status_Single  Card_Category_Blue  \\\n",
      "147                 1.077338              -0.798507            0.270611   \n",
      "1985               -0.928214               1.252337            0.270611   \n",
      "8316                1.077338              -0.798507            0.270611   \n",
      "\n",
      "      Card_Category_Gold  Card_Category_Platinum  Card_Category_Silver  \\\n",
      "147            -0.107644               -0.044484             -0.240794   \n",
      "1985           -0.107644               -0.044484             -0.240794   \n",
      "8316           -0.107644               -0.044484             -0.240794   \n",
      "\n",
      "      Attrition_Flag  \n",
      "147                0  \n",
      "1985               0  \n",
      "8316               0  \n",
      "\n",
      "[3 rows x 25 columns]\n",
      "      Customer_Age    Gender  Dependent_count  Education_Level  \\\n",
      "3358     -0.290150  1.059956         2.043199        -1.637214   \n",
      "9951     -0.290150 -0.943436         0.503368         0.593388   \n",
      "3848     -1.163358 -0.943436         0.503368        -0.893680   \n",
      "\n",
      "      Income_Category  Months_on_book  Total_Relationship_Count  \\\n",
      "3358         0.597300        0.384621                  0.763943   \n",
      "9951        -0.887628       -0.241473                 -1.166148   \n",
      "3848        -0.887628       -1.243223                 -0.522785   \n",
      "\n",
      "      Months_Inactive_12_mon  Contacts_Count_12_mon  Credit_Limit  ...  \\\n",
      "3358               -0.337598              -2.219655      0.814456  ...   \n",
      "9951                0.651940               0.492404      1.913338  ...   \n",
      "3848               -1.327136              -0.411616     -0.628823  ...   \n",
      "\n",
      "      Total_Ct_Chng_Q4_Q1  Avg_Utilization_Ratio  Marital_Status_Divorced  \\\n",
      "3358             0.801336              -0.634413                 3.541013   \n",
      "9951            -0.731798              -0.997155                -0.282405   \n",
      "3848            -0.937616               1.759686                -0.282405   \n",
      "\n",
      "      Marital_Status_Married  Marital_Status_Single  Card_Category_Blue  \\\n",
      "3358               -0.928214              -0.798507            0.270611   \n",
      "9951               -0.928214               1.252337            0.270611   \n",
      "3848               -0.928214               1.252337            0.270611   \n",
      "\n",
      "      Card_Category_Gold  Card_Category_Platinum  Card_Category_Silver  \\\n",
      "3358           -0.107644               -0.044484             -0.240794   \n",
      "9951           -0.107644               -0.044484             -0.240794   \n",
      "3848           -0.107644               -0.044484             -0.240794   \n",
      "\n",
      "      Attrition_Flag  \n",
      "3358               0  \n",
      "9951               1  \n",
      "3848               0  \n",
      "\n",
      "[3 rows x 25 columns]\n",
      "(8101, 25)\n",
      "(2026, 25)\n"
     ]
    }
   ],
   "source": [
    "from sklearn.model_selection import train_test_split\n",
    "\n",
    "x_train, x_test = train_test_split(all_data, test_size=0.2,random_state=0)\n",
    "# columns=x_train.columns\n",
    "# x_train.reset_index(drop=True, inplace=True)\n",
    "# x_test.reset_index(drop=True, inplace=True)\n",
    "print(x_train.head(3))\n",
    "print(x_test.head(3))\n",
    "print(x_train.shape)\n",
    "print(x_test.shape)\n",
    "\n",
    "if \"training\" not in os.listdir():\n",
    "    os.mkdir(\"./training\")\n",
    "\n",
    "x_train.to_csv('training/train_data.csv',index=False)\n",
    "x_test.to_csv('training/test_data.csv',index=False)\n",
    "\n",
    "# x_train.to_csv(path_or_buf='training/train_data.csv', columns=columns, header=True, index=False) \n",
    "# x_test.to_csv(path_or_buf='training/test_data.csv', columns=columns, header=True, index=False)"
   ]
  },
  {
   "cell_type": "code",
   "execution_count": 9,
   "metadata": {},
   "outputs": [
    {
     "name": "stdout",
     "output_type": "stream",
     "text": [
      "{\n",
      "  \"name\": \"workspaceblobstore\",\n",
      "  \"container_name\": \"azureml-blobstore-6ab345f6-9aa7-4cde-a479-7cfaf32a7d99\",\n",
      "  \"account_name\": \"mlstrg133333\",\n",
      "  \"protocol\": \"https\",\n",
      "  \"endpoint\": \"core.windows.net\"\n",
      "}\n",
      "Uploading an estimated of 2 files\n",
      "Uploading training/test_data.csv\n",
      "Uploaded training/test_data.csv, 1 files out of an estimated total of 2\n",
      "Uploading training/train_data.csv\n",
      "Uploaded training/train_data.csv, 2 files out of an estimated total of 2\n",
      "Uploaded 2 files\n"
     ]
    }
   ],
   "source": [
    "# get the datastore to upload prepared data\n",
    "datastore = ws.get_default_datastore()\n",
    "print(datastore)\n",
    "\n",
    "# upload the local file from src_dir to the target_path in datastore\n",
    "datastore.upload(src_dir='training/', target_path='data/')\n",
    "# datastore.upload_files(['trainset.csv'])\n",
    "\n",
    "# create a dataset referencing the cloud location\n",
    "train_data = TabularDatasetFactory.from_delimited_files(path = [(datastore, ('data/train_data.csv'))])\n",
    "test_data = TabularDatasetFactory.from_delimited_files(path = [(datastore, ('data/test_data.csv'))])"
   ]
  },
  {
   "cell_type": "markdown",
   "metadata": {},
   "source": [
    "## AutoML Configuration"
   ]
  },
  {
   "cell_type": "code",
   "execution_count": 10,
   "metadata": {
    "collapsed": false,
    "gather": {
     "logged": 1598429217746
    },
    "jupyter": {
     "outputs_hidden": false,
     "source_hidden": false
    },
    "nteract": {
     "transient": {
      "deleting": false
     }
    }
   },
   "outputs": [],
   "source": [
    "# TODO: Put your automl settings here\n",
    "automl_settings = {\n",
    "    \"experiment_timeout_minutes\": 30,\n",
    "    \"max_concurrent_iterations\": 10,\n",
    "    \"primary_metric\" : 'accuracy',\n",
    "    \"n_cross_validations\": 3,\n",
    "    \"max_cores_per_iteration\":-1\n",
    "}\n",
    "\n",
    "# TODO: Put your automl config here\n",
    "automl_config = AutoMLConfig(compute_target=compute_aml_cluster,\n",
    "                             task = \"classification\",\n",
    "                             training_data=train_data,\n",
    "                             label_column_name=\"Attrition_Flag\",   \n",
    "                             path = project_folder,\n",
    "                             enable_early_stopping= True,\n",
    "                             debug_log = \"automl_errors.log\",\n",
    "                             **automl_settings\n",
    ")"
   ]
  },
  {
   "cell_type": "markdown",
   "metadata": {},
   "source": [
    "## Submit Run"
   ]
  },
  {
   "cell_type": "code",
   "execution_count": 11,
   "metadata": {
    "collapsed": false,
    "gather": {
     "logged": 1598431107951
    },
    "jupyter": {
     "outputs_hidden": false,
     "source_hidden": false
    },
    "nteract": {
     "transient": {
      "deleting": false
     }
    }
   },
   "outputs": [
    {
     "name": "stdout",
     "output_type": "stream",
     "text": [
      "Running on remote.\n",
      "No run_configuration provided, running on compute-aml-cluster with default configuration\n",
      "Running on remote compute: compute-aml-cluster\n",
      "Parent Run ID: AutoML_a9dbd640-a214-4bb3-8cc2-bd3d17249017\n",
      "\n",
      "Current status: FeaturesGeneration. Generating features for the dataset.\n",
      "Current status: DatasetCrossValidationSplit. Generating individually featurized CV splits.\n",
      "Current status: ModelSelection. Beginning model selection.\n",
      "\n",
      "****************************************************************************************************\n",
      "DATA GUARDRAILS: \n",
      "\n",
      "TYPE:         Class balancing detection\n",
      "STATUS:       ALERTED\n",
      "DESCRIPTION:  To decrease model bias, please cancel the current run and fix balancing problem.\n",
      "              Learn more about imbalanced data: https://aka.ms/AutomatedMLImbalancedData\n",
      "DETAILS:      Imbalanced data can lead to a falsely perceived positive effect of a model's accuracy because the input data has bias towards one class.\n",
      "+---------------------------------+---------------------------------+--------------------------------------+\n",
      "|Size of the smallest class       |Name/Label of the smallest class |Number of samples in the training data|\n",
      "+=================================+=================================+======================================+\n",
      "|1318                             |1                                |8101                                  |\n",
      "+---------------------------------+---------------------------------+--------------------------------------+\n",
      "\n",
      "****************************************************************************************************\n",
      "\n",
      "TYPE:         Missing feature values imputation\n",
      "STATUS:       PASSED\n",
      "DESCRIPTION:  No feature missing values were detected in the training data.\n",
      "              Learn more about missing value imputation: https://aka.ms/AutomatedMLFeaturization\n",
      "\n",
      "****************************************************************************************************\n",
      "\n",
      "TYPE:         High cardinality feature detection\n",
      "STATUS:       PASSED\n",
      "DESCRIPTION:  Your inputs were analyzed, and no high cardinality features were detected.\n",
      "              Learn more about high cardinality feature handling: https://aka.ms/AutomatedMLFeaturization\n",
      "\n",
      "****************************************************************************************************\n",
      "\n",
      "****************************************************************************************************\n",
      "ITERATION: The iteration being evaluated.\n",
      "PIPELINE: A summary description of the pipeline being evaluated.\n",
      "DURATION: Time taken for the current iteration.\n",
      "METRIC: The result of computing score on the fitted pipeline.\n",
      "BEST: The best observed score thus far.\n",
      "****************************************************************************************************\n",
      "\n",
      " ITERATION   PIPELINE                                       DURATION      METRIC      BEST\n",
      "         2   MinMaxScaler RandomForest                      0:00:55       0.8909    0.8909\n",
      "         3   MinMaxScaler RandomForest                      0:00:49       0.8743    0.8909\n",
      "         4   MinMaxScaler RandomForest                      0:00:46       0.9066    0.9066\n",
      "         5   StandardScalerWrapper LogisticRegression       0:00:49       0.9045    0.9066\n",
      "         6   StandardScalerWrapper LightGBM                 0:00:55       0.9205    0.9205\n",
      "         1   MaxAbsScaler XGBoostClassifier                 0:01:03       0.9626    0.9626\n",
      "         7   MaxAbsScaler ExtremeRandomTrees                0:01:04       0.8562    0.9626\n",
      "         9   SparseNormalizer XGBoostClassifier             0:00:58       0.9395    0.9626\n",
      "         0   MaxAbsScaler LightGBM                          0:01:53       0.9696    0.9696\n",
      "         8   StandardScalerWrapper XGBoostClassifier        0:01:43       0.9703    0.9703\n",
      "        11   SparseNormalizer XGBoostClassifier             0:00:55       0.9426    0.9703\n",
      "        15   SparseNormalizer XGBoostClassifier             0:00:55       0.9330    0.9703\n",
      "        10   MaxAbsScaler LightGBM                          0:01:11       0.9662    0.9703\n",
      "        12   SparseNormalizer XGBoostClassifier             0:00:58       0.9464    0.9703\n",
      "        13   SparseNormalizer XGBoostClassifier             0:01:04       0.9386    0.9703\n",
      "        14   SparseNormalizer XGBoostClassifier             0:01:07       0.9538    0.9703\n",
      "        17   RobustScaler GradientBoosting                  0:01:05       0.9441    0.9703\n",
      "        16   SparseNormalizer XGBoostClassifier             0:01:11       0.9543    0.9703\n",
      "        18   SparseNormalizer LightGBM                      0:01:01       0.9527    0.9703\n",
      "        19   SparseNormalizer XGBoostClassifier             0:00:57       0.9538    0.9703\n",
      "        20   SparseNormalizer XGBoostClassifier             0:00:52       0.9459    0.9703\n",
      "        22   MaxAbsScaler LightGBM                          0:00:49       0.9035    0.9703\n",
      "        23   StandardScalerWrapper XGBoostClassifier        0:00:47       0.8373    0.9703\n",
      "        25   MaxAbsScaler ExtremeRandomTrees                0:00:52       0.8679    0.9703\n",
      "        26   RobustScaler LightGBM                          0:00:46       0.8731    0.9703\n",
      "        24   SparseNormalizer XGBoostClassifier             0:01:05       0.9370    0.9703\n",
      "        27   StandardScalerWrapper LightGBM                 0:00:52       0.9159    0.9703\n",
      "        21   SparseNormalizer XGBoostClassifier             0:01:51       0.9522    0.9703\n",
      "        28   SparseNormalizer XGBoostClassifier             0:01:09       0.9262    0.9703\n",
      "        29   StandardScalerWrapper LightGBM                 0:01:35       0.9249    0.9703\n",
      "        30   TruncatedSVDWrapper XGBoostClassifier          0:01:22       0.8373    0.9703\n",
      "        31   StandardScalerWrapper XGBoostClassifier        0:01:14       0.9686    0.9703\n",
      "        33   StandardScalerWrapper XGBoostClassifier        0:01:14       0.9656    0.9703\n",
      "        34   StandardScalerWrapper XGBoostClassifier        0:01:12       0.9695    0.9703\n",
      "        32   StandardScalerWrapper XGBoostClassifier        0:01:25       0.9695    0.9703\n",
      "        38   StandardScalerWrapper XGBoostClassifier        0:00:56       0.9662    0.9703\n",
      "        37   SparseNormalizer XGBoostClassifier             0:01:00       0.9442    0.9703\n",
      "        36   StandardScalerWrapper XGBoostClassifier        0:02:08       0.9678    0.9703\n",
      "        35   StandardScalerWrapper XGBoostClassifier        0:02:19       0.9690    0.9703\n",
      "        42   MaxAbsScaler LogisticRegression                0:00:59       0.8464    0.9703\n",
      "        39   SparseNormalizer XGBoostClassifier             0:01:31          nan    0.9703\n",
      "        40   StandardScalerWrapper XGBoostClassifier        0:01:14          nan    0.9703\n",
      "        41   StandardScalerWrapper XGBoostClassifier        0:01:14          nan    0.9703\n",
      "        43   StandardScalerWrapper XGBoostClassifier        0:01:06       0.9699    0.9703\n",
      "        44   SparseNormalizer LightGBM                      0:01:01          nan    0.9703\n",
      "        45   SparseNormalizer XGBoostClassifier             0:00:38          nan    0.9703\n",
      "        46   MaxAbsScaler LogisticRegression                0:00:34       0.9043    0.9703\n",
      "        47                                                  0:00:18          nan    0.9703\n",
      "        48    VotingEnsemble                                0:01:44       0.9723    0.9723\n",
      "        49    StackEnsemble                                 0:01:43       0.9716    0.9723\n"
     ]
    }
   ],
   "source": [
    "remote_run = experiment.submit(automl_config, show_output=True)"
   ]
  },
  {
   "cell_type": "markdown",
   "metadata": {},
   "source": [
    "## Run Details"
   ]
  },
  {
   "cell_type": "code",
   "execution_count": 12,
   "metadata": {},
   "outputs": [
    {
     "data": {
      "text/html": [
       "<table style=\"width:100%\"><tr><th>Experiment</th><th>Id</th><th>Type</th><th>Status</th><th>Details Page</th><th>Docs Page</th></tr><tr><td>automl-experiment</td><td>AutoML_a9dbd640-a214-4bb3-8cc2-bd3d17249017</td><td>automl</td><td>Completed</td><td><a href=\"https://ml.azure.com/experiments/automl-experiment/runs/AutoML_a9dbd640-a214-4bb3-8cc2-bd3d17249017?wsid=/subscriptions/48a74bb7-9950-4cc1-9caa-5d50f995cc55/resourcegroups/aml-quickstarts-133333/workspaces/quick-starts-ws-133333\" target=\"_blank\" rel=\"noopener\">Link to Azure Machine Learning studio</a></td><td><a href=\"https://docs.microsoft.com/en-us/python/api/overview/azure/ml/intro?view=azure-ml-py\" target=\"_blank\" rel=\"noopener\">Link to Documentation</a></td></tr></table>"
      ],
      "text/plain": [
       "Run(Experiment: automl-experiment,\n",
       "Id: AutoML_a9dbd640-a214-4bb3-8cc2-bd3d17249017,\n",
       "Type: automl,\n",
       "Status: Completed)"
      ]
     },
     "execution_count": 12,
     "metadata": {},
     "output_type": "execute_result"
    }
   ],
   "source": [
    "remote_run"
   ]
  },
  {
   "cell_type": "code",
   "execution_count": 13,
   "metadata": {
    "collapsed": false,
    "gather": {
     "logged": 1598431121770
    },
    "jupyter": {
     "outputs_hidden": false,
     "source_hidden": false
    },
    "nteract": {
     "transient": {
      "deleting": false
     }
    }
   },
   "outputs": [
    {
     "data": {
      "application/vnd.jupyter.widget-view+json": {
       "model_id": "52b96a955c994856872a94b60eb28420",
       "version_major": 2,
       "version_minor": 0
      },
      "text/plain": [
       "_AutoMLWidget(widget_settings={'childWidgetDisplay': 'popup', 'send_telemetry': False, 'log_level': 'INFO', 's…"
      ]
     },
     "metadata": {},
     "output_type": "display_data"
    },
    {
     "data": {
      "application/aml.mini.widget.v1": "{\"status\": \"Completed\", \"workbench_run_details_uri\": \"https://ml.azure.com/experiments/automl-experiment/runs/AutoML_a9dbd640-a214-4bb3-8cc2-bd3d17249017?wsid=/subscriptions/48a74bb7-9950-4cc1-9caa-5d50f995cc55/resourcegroups/aml-quickstarts-133333/workspaces/quick-starts-ws-133333\", \"run_id\": \"AutoML_a9dbd640-a214-4bb3-8cc2-bd3d17249017\", \"run_properties\": {\"run_id\": \"AutoML_a9dbd640-a214-4bb3-8cc2-bd3d17249017\", \"created_utc\": \"2021-01-04T14:58:58.840321Z\", \"properties\": {\"num_iterations\": \"1000\", \"training_type\": \"TrainFull\", \"acquisition_function\": \"EI\", \"primary_metric\": \"accuracy\", \"train_split\": \"0\", \"acquisition_parameter\": \"0\", \"num_cross_validation\": \"3\", \"target\": \"compute-aml-cluster\", \"AMLSettingsJsonString\": \"{\\\"path\\\":null,\\\"name\\\":\\\"automl-experiment\\\",\\\"subscription_id\\\":\\\"48a74bb7-9950-4cc1-9caa-5d50f995cc55\\\",\\\"resource_group\\\":\\\"aml-quickstarts-133333\\\",\\\"workspace_name\\\":\\\"quick-starts-ws-133333\\\",\\\"region\\\":\\\"southcentralus\\\",\\\"compute_target\\\":\\\"compute-aml-cluster\\\",\\\"spark_service\\\":null,\\\"azure_service\\\":\\\"remote\\\",\\\"many_models\\\":false,\\\"pipeline_fetch_max_batch_size\\\":1,\\\"iterations\\\":1000,\\\"primary_metric\\\":\\\"accuracy\\\",\\\"task_type\\\":\\\"classification\\\",\\\"data_script\\\":null,\\\"validation_size\\\":0.0,\\\"n_cross_validations\\\":3,\\\"y_min\\\":null,\\\"y_max\\\":null,\\\"num_classes\\\":null,\\\"featurization\\\":\\\"auto\\\",\\\"_ignore_package_version_incompatibilities\\\":false,\\\"is_timeseries\\\":false,\\\"max_cores_per_iteration\\\":-1,\\\"max_concurrent_iterations\\\":10,\\\"iteration_timeout_minutes\\\":null,\\\"mem_in_mb\\\":null,\\\"enforce_time_on_windows\\\":false,\\\"experiment_timeout_minutes\\\":30,\\\"experiment_exit_score\\\":null,\\\"whitelist_models\\\":null,\\\"blacklist_algos\\\":[\\\"TensorFlowLinearClassifier\\\",\\\"TensorFlowDNN\\\"],\\\"supported_models\\\":[\\\"LinearSVM\\\",\\\"XGBoostClassifier\\\",\\\"SGD\\\",\\\"SVM\\\",\\\"LogisticRegression\\\",\\\"AveragedPerceptronClassifier\\\",\\\"ExtremeRandomTrees\\\",\\\"TensorFlowDNN\\\",\\\"GradientBoosting\\\",\\\"DecisionTree\\\",\\\"MultinomialNaiveBayes\\\",\\\"KNN\\\",\\\"BernoulliNaiveBayes\\\",\\\"TensorFlowLinearClassifier\\\",\\\"RandomForest\\\",\\\"LightGBM\\\"],\\\"auto_blacklist\\\":true,\\\"blacklist_samples_reached\\\":false,\\\"exclude_nan_labels\\\":true,\\\"verbosity\\\":20,\\\"_debug_log\\\":\\\"azureml_automl.log\\\",\\\"show_warnings\\\":false,\\\"model_explainability\\\":true,\\\"service_url\\\":null,\\\"sdk_url\\\":null,\\\"sdk_packages\\\":null,\\\"enable_onnx_compatible_models\\\":false,\\\"enable_split_onnx_featurizer_estimator_models\\\":false,\\\"vm_type\\\":\\\"STANDARD_D13_V2\\\",\\\"telemetry_verbosity\\\":20,\\\"send_telemetry\\\":true,\\\"enable_dnn\\\":false,\\\"scenario\\\":\\\"SDK-1.13.0\\\",\\\"environment_label\\\":null,\\\"force_text_dnn\\\":false,\\\"enable_feature_sweeping\\\":true,\\\"enable_early_stopping\\\":true,\\\"early_stopping_n_iters\\\":10,\\\"metrics\\\":null,\\\"enable_ensembling\\\":true,\\\"enable_stack_ensembling\\\":true,\\\"ensemble_iterations\\\":15,\\\"enable_tf\\\":false,\\\"enable_subsampling\\\":null,\\\"subsample_seed\\\":null,\\\"enable_nimbusml\\\":false,\\\"enable_streaming\\\":false,\\\"force_streaming\\\":false,\\\"track_child_runs\\\":true,\\\"allowed_private_models\\\":[],\\\"label_column_name\\\":\\\"Attrition_Flag\\\",\\\"weight_column_name\\\":null,\\\"cv_split_column_names\\\":null,\\\"enable_local_managed\\\":false,\\\"_local_managed_run_id\\\":null,\\\"cost_mode\\\":1,\\\"lag_length\\\":0,\\\"metric_operation\\\":\\\"maximize\\\",\\\"preprocess\\\":true}\", \"DataPrepJsonString\": \"{\\\\\\\"training_data\\\\\\\": \\\\\\\"{\\\\\\\\\\\\\\\"blocks\\\\\\\\\\\\\\\": [{\\\\\\\\\\\\\\\"id\\\\\\\\\\\\\\\": \\\\\\\\\\\\\\\"1f1178af-8d47-4648-986d-5f06ee862450\\\\\\\\\\\\\\\", \\\\\\\\\\\\\\\"type\\\\\\\\\\\\\\\": \\\\\\\\\\\\\\\"Microsoft.DPrep.GetDatastoreFilesBlock\\\\\\\\\\\\\\\", \\\\\\\\\\\\\\\"arguments\\\\\\\\\\\\\\\": {\\\\\\\\\\\\\\\"datastores\\\\\\\\\\\\\\\": [{\\\\\\\\\\\\\\\"datastoreName\\\\\\\\\\\\\\\": \\\\\\\\\\\\\\\"workspaceblobstore\\\\\\\\\\\\\\\", \\\\\\\\\\\\\\\"path\\\\\\\\\\\\\\\": \\\\\\\\\\\\\\\"data/train_data.csv\\\\\\\\\\\\\\\", \\\\\\\\\\\\\\\"resourceGroup\\\\\\\\\\\\\\\": \\\\\\\\\\\\\\\"aml-quickstarts-133333\\\\\\\\\\\\\\\", \\\\\\\\\\\\\\\"subscription\\\\\\\\\\\\\\\": \\\\\\\\\\\\\\\"48a74bb7-9950-4cc1-9caa-5d50f995cc55\\\\\\\\\\\\\\\", \\\\\\\\\\\\\\\"workspaceName\\\\\\\\\\\\\\\": \\\\\\\\\\\\\\\"quick-starts-ws-133333\\\\\\\\\\\\\\\"}]}, \\\\\\\\\\\\\\\"localData\\\\\\\\\\\\\\\": {}, \\\\\\\\\\\\\\\"isEnabled\\\\\\\\\\\\\\\": true, \\\\\\\\\\\\\\\"name\\\\\\\\\\\\\\\": null, \\\\\\\\\\\\\\\"annotation\\\\\\\\\\\\\\\": null}, {\\\\\\\\\\\\\\\"id\\\\\\\\\\\\\\\": \\\\\\\\\\\\\\\"d357f6c6-097b-40fd-b4ef-b55a7212f750\\\\\\\\\\\\\\\", \\\\\\\\\\\\\\\"type\\\\\\\\\\\\\\\": \\\\\\\\\\\\\\\"Microsoft.DPrep.ParseDelimitedBlock\\\\\\\\\\\\\\\", \\\\\\\\\\\\\\\"arguments\\\\\\\\\\\\\\\": {\\\\\\\\\\\\\\\"columnHeadersMode\\\\\\\\\\\\\\\": 3, \\\\\\\\\\\\\\\"fileEncoding\\\\\\\\\\\\\\\": 0, \\\\\\\\\\\\\\\"handleQuotedLineBreaks\\\\\\\\\\\\\\\": false, \\\\\\\\\\\\\\\"preview\\\\\\\\\\\\\\\": false, \\\\\\\\\\\\\\\"separator\\\\\\\\\\\\\\\": \\\\\\\\\\\\\\\",\\\\\\\\\\\\\\\", \\\\\\\\\\\\\\\"skipRows\\\\\\\\\\\\\\\": 0, \\\\\\\\\\\\\\\"skipRowsMode\\\\\\\\\\\\\\\": 0}, \\\\\\\\\\\\\\\"localData\\\\\\\\\\\\\\\": {}, \\\\\\\\\\\\\\\"isEnabled\\\\\\\\\\\\\\\": true, \\\\\\\\\\\\\\\"name\\\\\\\\\\\\\\\": null, \\\\\\\\\\\\\\\"annotation\\\\\\\\\\\\\\\": null}, {\\\\\\\\\\\\\\\"id\\\\\\\\\\\\\\\": \\\\\\\\\\\\\\\"5041bcef-272a-4de4-ac9e-ec22476f5e87\\\\\\\\\\\\\\\", \\\\\\\\\\\\\\\"type\\\\\\\\\\\\\\\": \\\\\\\\\\\\\\\"Microsoft.DPrep.DropColumnsBlock\\\\\\\\\\\\\\\", \\\\\\\\\\\\\\\"arguments\\\\\\\\\\\\\\\": {\\\\\\\\\\\\\\\"columns\\\\\\\\\\\\\\\": {\\\\\\\\\\\\\\\"type\\\\\\\\\\\\\\\": 0, \\\\\\\\\\\\\\\"details\\\\\\\\\\\\\\\": {\\\\\\\\\\\\\\\"selectedColumns\\\\\\\\\\\\\\\": [\\\\\\\\\\\\\\\"Path\\\\\\\\\\\\\\\"]}}}, \\\\\\\\\\\\\\\"localData\\\\\\\\\\\\\\\": {}, \\\\\\\\\\\\\\\"isEnabled\\\\\\\\\\\\\\\": true, \\\\\\\\\\\\\\\"name\\\\\\\\\\\\\\\": null, \\\\\\\\\\\\\\\"annotation\\\\\\\\\\\\\\\": null}, {\\\\\\\\\\\\\\\"id\\\\\\\\\\\\\\\": \\\\\\\\\\\\\\\"382e0ffe-2f1d-47d9-ba55-eb11600b8c45\\\\\\\\\\\\\\\", \\\\\\\\\\\\\\\"type\\\\\\\\\\\\\\\": \\\\\\\\\\\\\\\"Microsoft.DPrep.SetColumnTypesBlock\\\\\\\\\\\\\\\", \\\\\\\\\\\\\\\"arguments\\\\\\\\\\\\\\\": {\\\\\\\\\\\\\\\"columnConversion\\\\\\\\\\\\\\\": [{\\\\\\\\\\\\\\\"column\\\\\\\\\\\\\\\": {\\\\\\\\\\\\\\\"type\\\\\\\\\\\\\\\": 2, \\\\\\\\\\\\\\\"details\\\\\\\\\\\\\\\": {\\\\\\\\\\\\\\\"selectedColumn\\\\\\\\\\\\\\\": \\\\\\\\\\\\\\\"Customer_Age\\\\\\\\\\\\\\\"}}, \\\\\\\\\\\\\\\"typeProperty\\\\\\\\\\\\\\\": 3}, {\\\\\\\\\\\\\\\"column\\\\\\\\\\\\\\\": {\\\\\\\\\\\\\\\"type\\\\\\\\\\\\\\\": 2, \\\\\\\\\\\\\\\"details\\\\\\\\\\\\\\\": {\\\\\\\\\\\\\\\"selectedColumn\\\\\\\\\\\\\\\": \\\\\\\\\\\\\\\"Gender\\\\\\\\\\\\\\\"}}, \\\\\\\\\\\\\\\"typeProperty\\\\\\\\\\\\\\\": 3}, {\\\\\\\\\\\\\\\"column\\\\\\\\\\\\\\\": {\\\\\\\\\\\\\\\"type\\\\\\\\\\\\\\\": 2, \\\\\\\\\\\\\\\"details\\\\\\\\\\\\\\\": {\\\\\\\\\\\\\\\"selectedColumn\\\\\\\\\\\\\\\": \\\\\\\\\\\\\\\"Dependent_count\\\\\\\\\\\\\\\"}}, \\\\\\\\\\\\\\\"typeProperty\\\\\\\\\\\\\\\": 3}, {\\\\\\\\\\\\\\\"column\\\\\\\\\\\\\\\": {\\\\\\\\\\\\\\\"type\\\\\\\\\\\\\\\": 2, \\\\\\\\\\\\\\\"details\\\\\\\\\\\\\\\": {\\\\\\\\\\\\\\\"selectedColumn\\\\\\\\\\\\\\\": \\\\\\\\\\\\\\\"Education_Level\\\\\\\\\\\\\\\"}}, \\\\\\\\\\\\\\\"typeProperty\\\\\\\\\\\\\\\": 3}, {\\\\\\\\\\\\\\\"column\\\\\\\\\\\\\\\": {\\\\\\\\\\\\\\\"type\\\\\\\\\\\\\\\": 2, \\\\\\\\\\\\\\\"details\\\\\\\\\\\\\\\": {\\\\\\\\\\\\\\\"selectedColumn\\\\\\\\\\\\\\\": \\\\\\\\\\\\\\\"Income_Category\\\\\\\\\\\\\\\"}}, \\\\\\\\\\\\\\\"typeProperty\\\\\\\\\\\\\\\": 3}, {\\\\\\\\\\\\\\\"column\\\\\\\\\\\\\\\": {\\\\\\\\\\\\\\\"type\\\\\\\\\\\\\\\": 2, \\\\\\\\\\\\\\\"details\\\\\\\\\\\\\\\": {\\\\\\\\\\\\\\\"selectedColumn\\\\\\\\\\\\\\\": \\\\\\\\\\\\\\\"Months_on_book\\\\\\\\\\\\\\\"}}, \\\\\\\\\\\\\\\"typeProperty\\\\\\\\\\\\\\\": 3}, {\\\\\\\\\\\\\\\"column\\\\\\\\\\\\\\\": {\\\\\\\\\\\\\\\"type\\\\\\\\\\\\\\\": 2, \\\\\\\\\\\\\\\"details\\\\\\\\\\\\\\\": {\\\\\\\\\\\\\\\"selectedColumn\\\\\\\\\\\\\\\": \\\\\\\\\\\\\\\"Total_Relationship_Count\\\\\\\\\\\\\\\"}}, \\\\\\\\\\\\\\\"typeProperty\\\\\\\\\\\\\\\": 3}, {\\\\\\\\\\\\\\\"column\\\\\\\\\\\\\\\": {\\\\\\\\\\\\\\\"type\\\\\\\\\\\\\\\": 2, \\\\\\\\\\\\\\\"details\\\\\\\\\\\\\\\": {\\\\\\\\\\\\\\\"selectedColumn\\\\\\\\\\\\\\\": \\\\\\\\\\\\\\\"Months_Inactive_12_mon\\\\\\\\\\\\\\\"}}, \\\\\\\\\\\\\\\"typeProperty\\\\\\\\\\\\\\\": 3}, {\\\\\\\\\\\\\\\"column\\\\\\\\\\\\\\\": {\\\\\\\\\\\\\\\"type\\\\\\\\\\\\\\\": 2, \\\\\\\\\\\\\\\"details\\\\\\\\\\\\\\\": {\\\\\\\\\\\\\\\"selectedColumn\\\\\\\\\\\\\\\": \\\\\\\\\\\\\\\"Contacts_Count_12_mon\\\\\\\\\\\\\\\"}}, \\\\\\\\\\\\\\\"typeProperty\\\\\\\\\\\\\\\": 3}, {\\\\\\\\\\\\\\\"column\\\\\\\\\\\\\\\": {\\\\\\\\\\\\\\\"type\\\\\\\\\\\\\\\": 2, \\\\\\\\\\\\\\\"details\\\\\\\\\\\\\\\": {\\\\\\\\\\\\\\\"selectedColumn\\\\\\\\\\\\\\\": \\\\\\\\\\\\\\\"Credit_Limit\\\\\\\\\\\\\\\"}}, \\\\\\\\\\\\\\\"typeProperty\\\\\\\\\\\\\\\": 3}, {\\\\\\\\\\\\\\\"column\\\\\\\\\\\\\\\": {\\\\\\\\\\\\\\\"type\\\\\\\\\\\\\\\": 2, \\\\\\\\\\\\\\\"details\\\\\\\\\\\\\\\": {\\\\\\\\\\\\\\\"selectedColumn\\\\\\\\\\\\\\\": \\\\\\\\\\\\\\\"Total_Revolving_Bal\\\\\\\\\\\\\\\"}}, \\\\\\\\\\\\\\\"typeProperty\\\\\\\\\\\\\\\": 3}, {\\\\\\\\\\\\\\\"column\\\\\\\\\\\\\\\": {\\\\\\\\\\\\\\\"type\\\\\\\\\\\\\\\": 2, \\\\\\\\\\\\\\\"details\\\\\\\\\\\\\\\": {\\\\\\\\\\\\\\\"selectedColumn\\\\\\\\\\\\\\\": \\\\\\\\\\\\\\\"Avg_Open_To_Buy\\\\\\\\\\\\\\\"}}, \\\\\\\\\\\\\\\"typeProperty\\\\\\\\\\\\\\\": 3}, {\\\\\\\\\\\\\\\"column\\\\\\\\\\\\\\\": {\\\\\\\\\\\\\\\"type\\\\\\\\\\\\\\\": 2, \\\\\\\\\\\\\\\"details\\\\\\\\\\\\\\\": {\\\\\\\\\\\\\\\"selectedColumn\\\\\\\\\\\\\\\": \\\\\\\\\\\\\\\"Total_Amt_Chng_Q4_Q1\\\\\\\\\\\\\\\"}}, \\\\\\\\\\\\\\\"typeProperty\\\\\\\\\\\\\\\": 3}, {\\\\\\\\\\\\\\\"column\\\\\\\\\\\\\\\": {\\\\\\\\\\\\\\\"type\\\\\\\\\\\\\\\": 2, \\\\\\\\\\\\\\\"details\\\\\\\\\\\\\\\": {\\\\\\\\\\\\\\\"selectedColumn\\\\\\\\\\\\\\\": \\\\\\\\\\\\\\\"Total_Trans_Amt\\\\\\\\\\\\\\\"}}, \\\\\\\\\\\\\\\"typeProperty\\\\\\\\\\\\\\\": 3}, {\\\\\\\\\\\\\\\"column\\\\\\\\\\\\\\\": {\\\\\\\\\\\\\\\"type\\\\\\\\\\\\\\\": 2, \\\\\\\\\\\\\\\"details\\\\\\\\\\\\\\\": {\\\\\\\\\\\\\\\"selectedColumn\\\\\\\\\\\\\\\": \\\\\\\\\\\\\\\"Total_Trans_Ct\\\\\\\\\\\\\\\"}}, \\\\\\\\\\\\\\\"typeProperty\\\\\\\\\\\\\\\": 3}, {\\\\\\\\\\\\\\\"column\\\\\\\\\\\\\\\": {\\\\\\\\\\\\\\\"type\\\\\\\\\\\\\\\": 2, \\\\\\\\\\\\\\\"details\\\\\\\\\\\\\\\": {\\\\\\\\\\\\\\\"selectedColumn\\\\\\\\\\\\\\\": \\\\\\\\\\\\\\\"Total_Ct_Chng_Q4_Q1\\\\\\\\\\\\\\\"}}, \\\\\\\\\\\\\\\"typeProperty\\\\\\\\\\\\\\\": 3}, {\\\\\\\\\\\\\\\"column\\\\\\\\\\\\\\\": {\\\\\\\\\\\\\\\"type\\\\\\\\\\\\\\\": 2, \\\\\\\\\\\\\\\"details\\\\\\\\\\\\\\\": {\\\\\\\\\\\\\\\"selectedColumn\\\\\\\\\\\\\\\": \\\\\\\\\\\\\\\"Avg_Utilization_Ratio\\\\\\\\\\\\\\\"}}, \\\\\\\\\\\\\\\"typeProperty\\\\\\\\\\\\\\\": 3}, {\\\\\\\\\\\\\\\"column\\\\\\\\\\\\\\\": {\\\\\\\\\\\\\\\"type\\\\\\\\\\\\\\\": 2, \\\\\\\\\\\\\\\"details\\\\\\\\\\\\\\\": {\\\\\\\\\\\\\\\"selectedColumn\\\\\\\\\\\\\\\": \\\\\\\\\\\\\\\"Marital_Status_Divorced\\\\\\\\\\\\\\\"}}, \\\\\\\\\\\\\\\"typeProperty\\\\\\\\\\\\\\\": 3}, {\\\\\\\\\\\\\\\"column\\\\\\\\\\\\\\\": {\\\\\\\\\\\\\\\"type\\\\\\\\\\\\\\\": 2, \\\\\\\\\\\\\\\"details\\\\\\\\\\\\\\\": {\\\\\\\\\\\\\\\"selectedColumn\\\\\\\\\\\\\\\": \\\\\\\\\\\\\\\"Marital_Status_Married\\\\\\\\\\\\\\\"}}, \\\\\\\\\\\\\\\"typeProperty\\\\\\\\\\\\\\\": 3}, {\\\\\\\\\\\\\\\"column\\\\\\\\\\\\\\\": {\\\\\\\\\\\\\\\"type\\\\\\\\\\\\\\\": 2, \\\\\\\\\\\\\\\"details\\\\\\\\\\\\\\\": {\\\\\\\\\\\\\\\"selectedColumn\\\\\\\\\\\\\\\": \\\\\\\\\\\\\\\"Marital_Status_Single\\\\\\\\\\\\\\\"}}, \\\\\\\\\\\\\\\"typeProperty\\\\\\\\\\\\\\\": 3}, {\\\\\\\\\\\\\\\"column\\\\\\\\\\\\\\\": {\\\\\\\\\\\\\\\"type\\\\\\\\\\\\\\\": 2, \\\\\\\\\\\\\\\"details\\\\\\\\\\\\\\\": {\\\\\\\\\\\\\\\"selectedColumn\\\\\\\\\\\\\\\": \\\\\\\\\\\\\\\"Card_Category_Blue\\\\\\\\\\\\\\\"}}, \\\\\\\\\\\\\\\"typeProperty\\\\\\\\\\\\\\\": 3}, {\\\\\\\\\\\\\\\"column\\\\\\\\\\\\\\\": {\\\\\\\\\\\\\\\"type\\\\\\\\\\\\\\\": 2, \\\\\\\\\\\\\\\"details\\\\\\\\\\\\\\\": {\\\\\\\\\\\\\\\"selectedColumn\\\\\\\\\\\\\\\": \\\\\\\\\\\\\\\"Card_Category_Gold\\\\\\\\\\\\\\\"}}, \\\\\\\\\\\\\\\"typeProperty\\\\\\\\\\\\\\\": 3}, {\\\\\\\\\\\\\\\"column\\\\\\\\\\\\\\\": {\\\\\\\\\\\\\\\"type\\\\\\\\\\\\\\\": 2, \\\\\\\\\\\\\\\"details\\\\\\\\\\\\\\\": {\\\\\\\\\\\\\\\"selectedColumn\\\\\\\\\\\\\\\": \\\\\\\\\\\\\\\"Card_Category_Platinum\\\\\\\\\\\\\\\"}}, \\\\\\\\\\\\\\\"typeProperty\\\\\\\\\\\\\\\": 3}, {\\\\\\\\\\\\\\\"column\\\\\\\\\\\\\\\": {\\\\\\\\\\\\\\\"type\\\\\\\\\\\\\\\": 2, \\\\\\\\\\\\\\\"details\\\\\\\\\\\\\\\": {\\\\\\\\\\\\\\\"selectedColumn\\\\\\\\\\\\\\\": \\\\\\\\\\\\\\\"Card_Category_Silver\\\\\\\\\\\\\\\"}}, \\\\\\\\\\\\\\\"typeProperty\\\\\\\\\\\\\\\": 3}, {\\\\\\\\\\\\\\\"column\\\\\\\\\\\\\\\": {\\\\\\\\\\\\\\\"type\\\\\\\\\\\\\\\": 2, \\\\\\\\\\\\\\\"details\\\\\\\\\\\\\\\": {\\\\\\\\\\\\\\\"selectedColumn\\\\\\\\\\\\\\\": \\\\\\\\\\\\\\\"Attrition_Flag\\\\\\\\\\\\\\\"}}, \\\\\\\\\\\\\\\"typeProperty\\\\\\\\\\\\\\\": 2}]}, \\\\\\\\\\\\\\\"localData\\\\\\\\\\\\\\\": {}, \\\\\\\\\\\\\\\"isEnabled\\\\\\\\\\\\\\\": true, \\\\\\\\\\\\\\\"name\\\\\\\\\\\\\\\": null, \\\\\\\\\\\\\\\"annotation\\\\\\\\\\\\\\\": null}], \\\\\\\\\\\\\\\"inspectors\\\\\\\\\\\\\\\": [], \\\\\\\\\\\\\\\"meta\\\\\\\\\\\\\\\": {\\\\\\\\\\\\\\\"savedDatasetId\\\\\\\\\\\\\\\": \\\\\\\\\\\\\\\"dde29fc2-1922-45b8-acce-1f9139241be3\\\\\\\\\\\\\\\", \\\\\\\\\\\\\\\"datasetType\\\\\\\\\\\\\\\": \\\\\\\\\\\\\\\"tabular\\\\\\\\\\\\\\\", \\\\\\\\\\\\\\\"subscriptionId\\\\\\\\\\\\\\\": \\\\\\\\\\\\\\\"48a74bb7-9950-4cc1-9caa-5d50f995cc55\\\\\\\\\\\\\\\", \\\\\\\\\\\\\\\"workspaceId\\\\\\\\\\\\\\\": \\\\\\\\\\\\\\\"6ab345f6-9aa7-4cde-a479-7cfaf32a7d99\\\\\\\\\\\\\\\", \\\\\\\\\\\\\\\"workspaceLocation\\\\\\\\\\\\\\\": \\\\\\\\\\\\\\\"southcentralus\\\\\\\\\\\\\\\"}}\\\\\\\", \\\\\\\"activities\\\\\\\": 0}\", \"EnableSubsampling\": null, \"runTemplate\": \"AutoML\", \"azureml.runsource\": \"automl\", \"display_task_type\": \"classification\", \"dependencies_versions\": \"{\\\"azureml-widgets\\\": \\\"1.19.0\\\", \\\"azureml-train\\\": \\\"1.19.0\\\", \\\"azureml-train-restclients-hyperdrive\\\": \\\"1.19.0\\\", \\\"azureml-train-core\\\": \\\"1.19.0\\\", \\\"azureml-train-automl\\\": \\\"1.19.0\\\", \\\"azureml-train-automl-runtime\\\": \\\"1.19.0\\\", \\\"azureml-train-automl-client\\\": \\\"1.19.0\\\", \\\"azureml-tensorboard\\\": \\\"1.19.0\\\", \\\"azureml-telemetry\\\": \\\"1.19.0\\\", \\\"azureml-sdk\\\": \\\"1.19.0\\\", \\\"azureml-samples\\\": \\\"0+unknown\\\", \\\"azureml-pipeline\\\": \\\"1.19.0\\\", \\\"azureml-pipeline-steps\\\": \\\"1.19.0\\\", \\\"azureml-pipeline-core\\\": \\\"1.19.0\\\", \\\"azureml-opendatasets\\\": \\\"1.19.0\\\", \\\"azureml-model-management-sdk\\\": \\\"1.0.1b6.post1\\\", \\\"azureml-mlflow\\\": \\\"1.19.0\\\", \\\"azureml-interpret\\\": \\\"1.19.0\\\", \\\"azureml-explain-model\\\": \\\"1.19.0\\\", \\\"azureml-defaults\\\": \\\"1.19.0\\\", \\\"azureml-dataset-runtime\\\": \\\"1.19.0\\\", \\\"azureml-dataprep\\\": \\\"2.6.1\\\", \\\"azureml-dataprep-rslex\\\": \\\"1.4.0\\\", \\\"azureml-dataprep-native\\\": \\\"26.0.0\\\", \\\"azureml-datadrift\\\": \\\"1.19.0\\\", \\\"azureml-core\\\": \\\"1.19.0\\\", \\\"azureml-contrib-services\\\": \\\"1.19.0\\\", \\\"azureml-contrib-server\\\": \\\"1.19.0\\\", \\\"azureml-contrib-reinforcementlearning\\\": \\\"1.19.0\\\", \\\"azureml-contrib-pipeline-steps\\\": \\\"1.19.0\\\", \\\"azureml-contrib-notebook\\\": \\\"1.19.0\\\", \\\"azureml-contrib-interpret\\\": \\\"1.19.0\\\", \\\"azureml-contrib-gbdt\\\": \\\"1.19.0\\\", \\\"azureml-contrib-fairness\\\": \\\"1.19.0\\\", \\\"azureml-contrib-dataset\\\": \\\"1.19.0\\\", \\\"azureml-cli-common\\\": \\\"1.19.0\\\", \\\"azureml-automl-runtime\\\": \\\"1.19.0\\\", \\\"azureml-automl-core\\\": \\\"1.19.0\\\", \\\"azureml-accel-models\\\": \\\"1.19.0\\\"}\", \"_aml_system_scenario_identification\": \"Remote.Parent\", \"ClientType\": \"SDK\", \"environment_cpu_name\": \"AzureML-AutoML\", \"environment_cpu_label\": \"prod\", \"environment_gpu_name\": \"AzureML-AutoML-GPU\", \"environment_gpu_label\": \"prod\", \"root_attribution\": \"automl\", \"attribution\": \"AutoML\", \"Orchestrator\": \"AutoML\", \"CancelUri\": \"https://southcentralus.experiments.azureml.net/jasmine/v1.0/subscriptions/48a74bb7-9950-4cc1-9caa-5d50f995cc55/resourceGroups/aml-quickstarts-133333/providers/Microsoft.MachineLearningServices/workspaces/quick-starts-ws-133333/experimentids/7e83dc34-b3d2-407b-9714-f3912e448df2/cancel/AutoML_a9dbd640-a214-4bb3-8cc2-bd3d17249017\", \"ClientSdkVersion\": \"1.19.0\", \"snapshotId\": \"00000000-0000-0000-0000-000000000000\", \"SetupRunId\": \"AutoML_a9dbd640-a214-4bb3-8cc2-bd3d17249017_setup\", \"SetupRunContainerId\": \"dcid.AutoML_a9dbd640-a214-4bb3-8cc2-bd3d17249017_setup\", \"FeaturizationRunJsonPath\": \"featurizer_container.json\", \"FeaturizationRunId\": \"AutoML_a9dbd640-a214-4bb3-8cc2-bd3d17249017_featurize\", \"ProblemInfoJsonString\": \"{\\\"dataset_num_categorical\\\": 0, \\\"is_sparse\\\": false, \\\"subsampling\\\": false, \\\"dataset_classes\\\": 2, \\\"dataset_features\\\": 24, \\\"dataset_samples\\\": 8101, \\\"single_frequency_class_detected\\\": false}\", \"ModelExplainRunId\": \"AutoML_a9dbd640-a214-4bb3-8cc2-bd3d17249017_ModelExplain\"}, \"tags\": {\"model_explain_run\": \"best_run\", \"_aml_system_azureml.automlComponent\": \"AutoML\", \"pipeline_id\": \"\", \"score\": \"\", \"predicted_cost\": \"\", \"fit_time\": \"\", \"training_percent\": \"\", \"iteration\": \"\", \"run_preprocessor\": \"\", \"run_algorithm\": \"\", \"dynamic_whitelisting_iterations\": \"<23>;<30>;<35>;<40>;<45>;\", \"automl_best_child_run_id\": \"AutoML_a9dbd640-a214-4bb3-8cc2-bd3d17249017_48\", \"model_explain_best_run_child_id\": \"AutoML_a9dbd640-a214-4bb3-8cc2-bd3d17249017_48\"}, \"end_time_utc\": \"2021-01-04T15:12:44.653491Z\", \"status\": \"Completed\", \"log_files\": {}, \"log_groups\": [], \"run_duration\": \"0:13:45\"}, \"child_runs\": [{\"run_id\": \"AutoML_a9dbd640-a214-4bb3-8cc2-bd3d17249017_0\", \"run_number\": 6, \"metric\": null, \"status\": \"Completed\", \"run_type\": \"azureml.scriptrun\", \"training_percent\": \"100\", \"start_time\": \"2021-01-04T15:03:47.576245Z\", \"end_time\": \"2021-01-04T15:05:40.420843Z\", \"created_time\": \"2021-01-04T15:03:31.924659Z\", \"created_time_dt\": \"2021-01-04T15:03:31.924659Z\", \"duration\": \"0:02:08\", \"iteration\": \"0\", \"goal\": \"accuracy_max\", \"run_name\": \"MaxAbsScaler, LightGBM\", \"run_properties\": \"copy=True\", \"primary_metric\": 0.96963356, \"best_metric\": 0.96963356}, {\"run_id\": \"AutoML_a9dbd640-a214-4bb3-8cc2-bd3d17249017_5\", \"run_number\": 7, \"metric\": null, \"status\": \"Completed\", \"run_type\": \"azureml.scriptrun\", \"training_percent\": \"100\", \"start_time\": \"2021-01-04T15:03:47.721722Z\", \"end_time\": \"2021-01-04T15:04:36.592041Z\", \"created_time\": \"2021-01-04T15:03:32.049246Z\", \"created_time_dt\": \"2021-01-04T15:03:32.049246Z\", \"duration\": \"0:01:04\", \"iteration\": \"5\", \"goal\": \"accuracy_max\", \"run_name\": \"StandardScalerWrapper, LogisticRegression\", \"run_properties\": \"<azureml.automl.runtime.shared.model_wrappers.StandardScalerWrapper object at 0x7fcc40152278\", \"primary_metric\": 0.90445642, \"best_metric\": 0.96963356}, {\"run_id\": \"AutoML_a9dbd640-a214-4bb3-8cc2-bd3d17249017_7\", \"run_number\": 8, \"metric\": null, \"status\": \"Completed\", \"run_type\": \"azureml.scriptrun\", \"training_percent\": \"100\", \"start_time\": \"2021-01-04T15:03:47.627022Z\", \"end_time\": \"2021-01-04T15:04:52.070795Z\", \"created_time\": \"2021-01-04T15:03:32.067032Z\", \"created_time_dt\": \"2021-01-04T15:03:32.067032Z\", \"duration\": \"0:01:20\", \"iteration\": \"7\", \"goal\": \"accuracy_max\", \"run_name\": \"MaxAbsScaler, ExtremeRandomTrees\", \"run_properties\": \"copy=True\", \"primary_metric\": 0.85619003, \"best_metric\": 0.96963356}, {\"run_id\": \"AutoML_a9dbd640-a214-4bb3-8cc2-bd3d17249017_4\", \"run_number\": 9, \"metric\": null, \"status\": \"Completed\", \"run_type\": \"azureml.scriptrun\", \"training_percent\": \"100\", \"start_time\": \"2021-01-04T15:03:48.582111Z\", \"end_time\": \"2021-01-04T15:04:35.04027Z\", \"created_time\": \"2021-01-04T15:03:32.072458Z\", \"created_time_dt\": \"2021-01-04T15:03:32.072458Z\", \"duration\": \"0:01:02\", \"iteration\": \"4\", \"goal\": \"accuracy_max\", \"run_name\": \"MinMaxScaler, RandomForest\", \"run_properties\": \"copy=True, feature_range=(0, 1\", \"primary_metric\": 0.90655477, \"best_metric\": 0.96963356}, {\"run_id\": \"AutoML_a9dbd640-a214-4bb3-8cc2-bd3d17249017_8\", \"run_number\": 10, \"metric\": null, \"status\": \"Completed\", \"run_type\": \"azureml.scriptrun\", \"training_percent\": \"100\", \"start_time\": \"2021-01-04T15:03:50.595398Z\", \"end_time\": \"2021-01-04T15:05:33.513907Z\", \"created_time\": \"2021-01-04T15:03:32.099349Z\", \"created_time_dt\": \"2021-01-04T15:03:32.099349Z\", \"duration\": \"0:02:01\", \"iteration\": \"8\", \"goal\": \"accuracy_max\", \"run_name\": \"StandardScalerWrapper, XGBoostClassifier\", \"run_properties\": \"<azureml.automl.runtime.shared.model_wrappers.StandardScalerWrapper object at 0x7f991fb50b38\", \"primary_metric\": 0.97025094, \"best_metric\": 0.97025094}, {\"run_id\": \"AutoML_a9dbd640-a214-4bb3-8cc2-bd3d17249017_9\", \"run_number\": 11, \"metric\": null, \"status\": \"Completed\", \"run_type\": \"azureml.scriptrun\", \"training_percent\": \"100\", \"start_time\": \"2021-01-04T15:03:48.406704Z\", \"end_time\": \"2021-01-04T15:04:46.390674Z\", \"created_time\": \"2021-01-04T15:03:32.107615Z\", \"created_time_dt\": \"2021-01-04T15:03:32.107615Z\", \"duration\": \"0:01:14\", \"iteration\": \"9\", \"goal\": \"accuracy_max\", \"run_name\": \"SparseNormalizer, XGBoostClassifier\", \"run_properties\": \"<azureml.automl.runtime.shared.model_wrappers.SparseNormalizer object at 0x7f6e311178d0\", \"primary_metric\": 0.93951358, \"best_metric\": 0.97025094}, {\"run_id\": \"AutoML_a9dbd640-a214-4bb3-8cc2-bd3d17249017_6\", \"run_number\": 12, \"metric\": null, \"status\": \"Completed\", \"run_type\": \"azureml.scriptrun\", \"training_percent\": \"100\", \"start_time\": \"2021-01-04T15:03:46.179321Z\", \"end_time\": \"2021-01-04T15:04:41.052731Z\", \"created_time\": \"2021-01-04T15:03:32.163264Z\", \"created_time_dt\": \"2021-01-04T15:03:32.163264Z\", \"duration\": \"0:01:08\", \"iteration\": \"6\", \"goal\": \"accuracy_max\", \"run_name\": \"StandardScalerWrapper, LightGBM\", \"run_properties\": \"<azureml.automl.runtime.shared.model_wrappers.StandardScalerWrapper object at 0x7f0371c95b38\", \"primary_metric\": 0.92050301, \"best_metric\": 0.96963356}, {\"run_id\": \"AutoML_a9dbd640-a214-4bb3-8cc2-bd3d17249017_2\", \"run_number\": 13, \"metric\": null, \"status\": \"Completed\", \"run_type\": \"azureml.scriptrun\", \"training_percent\": \"100\", \"start_time\": \"2021-01-04T15:03:48.059389Z\", \"end_time\": \"2021-01-04T15:04:43.21169Z\", \"created_time\": \"2021-01-04T15:03:32.177715Z\", \"created_time_dt\": \"2021-01-04T15:03:32.177715Z\", \"duration\": \"0:01:11\", \"iteration\": \"2\", \"goal\": \"accuracy_max\", \"run_name\": \"MinMaxScaler, RandomForest\", \"run_properties\": \"copy=True, feature_range=(0, 1\", \"primary_metric\": 0.89087722, \"best_metric\": 0.96963356}, {\"run_id\": \"AutoML_a9dbd640-a214-4bb3-8cc2-bd3d17249017_3\", \"run_number\": 14, \"metric\": null, \"status\": \"Completed\", \"run_type\": \"azureml.scriptrun\", \"training_percent\": \"100\", \"start_time\": \"2021-01-04T15:03:47.98315Z\", \"end_time\": \"2021-01-04T15:04:36.914666Z\", \"created_time\": \"2021-01-04T15:03:32.052781Z\", \"created_time_dt\": \"2021-01-04T15:03:32.052781Z\", \"duration\": \"0:01:04\", \"iteration\": \"3\", \"goal\": \"accuracy_max\", \"run_name\": \"MinMaxScaler, RandomForest\", \"run_properties\": \"copy=True, feature_range=(0, 1\", \"primary_metric\": 0.87433429, \"best_metric\": 0.96963356}, {\"run_id\": \"AutoML_a9dbd640-a214-4bb3-8cc2-bd3d17249017_1\", \"run_number\": 15, \"metric\": null, \"status\": \"Completed\", \"run_type\": \"azureml.scriptrun\", \"training_percent\": \"100\", \"start_time\": \"2021-01-04T15:03:49.640254Z\", \"end_time\": \"2021-01-04T15:04:52.406285Z\", \"created_time\": \"2021-01-04T15:03:32.100497Z\", \"created_time_dt\": \"2021-01-04T15:03:32.100497Z\", \"duration\": \"0:01:20\", \"iteration\": \"1\", \"goal\": \"accuracy_max\", \"run_name\": \"MaxAbsScaler, XGBoostClassifier\", \"run_properties\": \"copy=True\", \"primary_metric\": 0.96259757, \"best_metric\": 0.96963356}, {\"run_id\": \"AutoML_a9dbd640-a214-4bb3-8cc2-bd3d17249017_10\", \"run_number\": 16, \"metric\": null, \"status\": \"Completed\", \"run_type\": \"azureml.scriptrun\", \"training_percent\": \"100\", \"start_time\": \"2021-01-04T15:05:14.118696Z\", \"end_time\": \"2021-01-04T15:06:24.630168Z\", \"created_time\": \"2021-01-04T15:04:40.171868Z\", \"created_time_dt\": \"2021-01-04T15:04:40.171868Z\", \"duration\": \"0:01:44\", \"iteration\": \"10\", \"goal\": \"accuracy_max\", \"run_name\": \"MaxAbsScaler, LightGBM\", \"run_properties\": \"copy=True\", \"primary_metric\": 0.96617723, \"best_metric\": 0.97025094}, {\"run_id\": \"AutoML_a9dbd640-a214-4bb3-8cc2-bd3d17249017_12\", \"run_number\": 17, \"metric\": null, \"status\": \"Completed\", \"run_type\": \"azureml.scriptrun\", \"training_percent\": \"100\", \"start_time\": \"2021-01-04T15:05:19.554571Z\", \"end_time\": \"2021-01-04T15:06:17.557935Z\", \"created_time\": \"2021-01-04T15:05:07.062457Z\", \"created_time_dt\": \"2021-01-04T15:05:07.062457Z\", \"duration\": \"0:01:10\", \"iteration\": \"12\", \"goal\": \"accuracy_max\", \"run_name\": \"SparseNormalizer, XGBoostClassifier\", \"run_properties\": \"<azureml.automl.runtime.shared.model_wrappers.SparseNormalizer object at 0x7f91ae1b29e8\", \"primary_metric\": 0.94642574, \"best_metric\": 0.97025094}, {\"run_id\": \"AutoML_a9dbd640-a214-4bb3-8cc2-bd3d17249017_16\", \"run_number\": 18, \"metric\": null, \"status\": \"Completed\", \"run_type\": \"azureml.scriptrun\", \"training_percent\": \"100\", \"start_time\": \"2021-01-04T15:05:19.944492Z\", \"end_time\": \"2021-01-04T15:06:30.837286Z\", \"created_time\": \"2021-01-04T15:05:07.068606Z\", \"created_time_dt\": \"2021-01-04T15:05:07.068606Z\", \"duration\": \"0:01:23\", \"iteration\": \"16\", \"goal\": \"accuracy_max\", \"run_name\": \"SparseNormalizer, XGBoostClassifier\", \"run_properties\": \"<azureml.automl.runtime.shared.model_wrappers.SparseNormalizer object at 0x7f0c594eed30\", \"primary_metric\": 0.95432702, \"best_metric\": 0.97025094}, {\"run_id\": \"AutoML_a9dbd640-a214-4bb3-8cc2-bd3d17249017_11\", \"run_number\": 19, \"metric\": null, \"status\": \"Completed\", \"run_type\": \"azureml.scriptrun\", \"training_percent\": \"100\", \"start_time\": \"2021-01-04T15:05:19.924073Z\", \"end_time\": \"2021-01-04T15:06:14.79009Z\", \"created_time\": \"2021-01-04T15:05:07.084339Z\", \"created_time_dt\": \"2021-01-04T15:05:07.084339Z\", \"duration\": \"0:01:07\", \"iteration\": \"11\", \"goal\": \"accuracy_max\", \"run_name\": \"SparseNormalizer, XGBoostClassifier\", \"run_properties\": \"<azureml.automl.runtime.shared.model_wrappers.SparseNormalizer object at 0x7f9e73008860\", \"primary_metric\": 0.94259995, \"best_metric\": 0.97025094}, {\"run_id\": \"AutoML_a9dbd640-a214-4bb3-8cc2-bd3d17249017_17\", \"run_number\": 20, \"metric\": null, \"status\": \"Completed\", \"run_type\": \"azureml.scriptrun\", \"training_percent\": \"100\", \"start_time\": \"2021-01-04T15:05:20.215471Z\", \"end_time\": \"2021-01-04T15:06:24.798534Z\", \"created_time\": \"2021-01-04T15:05:07.119359Z\", \"created_time_dt\": \"2021-01-04T15:05:07.119359Z\", \"duration\": \"0:01:17\", \"iteration\": \"17\", \"goal\": \"accuracy_max\", \"run_name\": \"RobustScaler, GradientBoosting\", \"run_properties\": \"copy=True, quantile_range=[10, 90], with_centering=False,\\n             with_scaling=True\", \"primary_metric\": 0.94408047, \"best_metric\": 0.97025094}, {\"run_id\": \"AutoML_a9dbd640-a214-4bb3-8cc2-bd3d17249017_14\", \"run_number\": 21, \"metric\": null, \"status\": \"Completed\", \"run_type\": \"azureml.scriptrun\", \"training_percent\": \"100\", \"start_time\": \"2021-01-04T15:05:19.753561Z\", \"end_time\": \"2021-01-04T15:06:27.199043Z\", \"created_time\": \"2021-01-04T15:05:07.211615Z\", \"created_time_dt\": \"2021-01-04T15:05:07.211615Z\", \"duration\": \"0:01:19\", \"iteration\": \"14\", \"goal\": \"accuracy_max\", \"run_name\": \"SparseNormalizer, XGBoostClassifier\", \"run_properties\": \"<azureml.automl.runtime.shared.model_wrappers.SparseNormalizer object at 0x7f4728c34f28\", \"primary_metric\": 0.95383306, \"best_metric\": 0.97025094}, {\"run_id\": \"AutoML_a9dbd640-a214-4bb3-8cc2-bd3d17249017_15\", \"run_number\": 22, \"metric\": null, \"status\": \"Completed\", \"run_type\": \"azureml.scriptrun\", \"training_percent\": \"100\", \"start_time\": \"2021-01-04T15:05:19.719331Z\", \"end_time\": \"2021-01-04T15:06:14.579585Z\", \"created_time\": \"2021-01-04T15:05:07.25117Z\", \"created_time_dt\": \"2021-01-04T15:05:07.25117Z\", \"duration\": \"0:01:07\", \"iteration\": \"15\", \"goal\": \"accuracy_max\", \"run_name\": \"SparseNormalizer, XGBoostClassifier\", \"run_properties\": \"<azureml.automl.runtime.shared.model_wrappers.SparseNormalizer object at 0x7fcaa48640f0\", \"primary_metric\": 0.93297096, \"best_metric\": 0.97025094}, {\"run_id\": \"AutoML_a9dbd640-a214-4bb3-8cc2-bd3d17249017_13\", \"run_number\": 23, \"metric\": null, \"status\": \"Completed\", \"run_type\": \"azureml.scriptrun\", \"training_percent\": \"100\", \"start_time\": \"2021-01-04T15:05:20.361006Z\", \"end_time\": \"2021-01-04T15:06:24.459741Z\", \"created_time\": \"2021-01-04T15:05:07.257492Z\", \"created_time_dt\": \"2021-01-04T15:05:07.257492Z\", \"duration\": \"0:01:17\", \"iteration\": \"13\", \"goal\": \"accuracy_max\", \"run_name\": \"SparseNormalizer, XGBoostClassifier\", \"run_properties\": \"<azureml.automl.runtime.shared.model_wrappers.SparseNormalizer object at 0x7f0e004f7278\", \"primary_metric\": 0.93864961, \"best_metric\": 0.97025094}, {\"run_id\": \"AutoML_a9dbd640-a214-4bb3-8cc2-bd3d17249017_18\", \"run_number\": 24, \"metric\": null, \"status\": \"Completed\", \"run_type\": \"azureml.scriptrun\", \"training_percent\": \"100\", \"start_time\": \"2021-01-04T15:05:54.507305Z\", \"end_time\": \"2021-01-04T15:06:55.850358Z\", \"created_time\": \"2021-01-04T15:05:36.644047Z\", \"created_time_dt\": \"2021-01-04T15:05:36.644047Z\", \"duration\": \"0:01:19\", \"iteration\": \"18\", \"goal\": \"accuracy_max\", \"run_name\": \"SparseNormalizer, LightGBM\", \"run_properties\": \"<azureml.automl.runtime.shared.model_wrappers.SparseNormalizer object at 0x7f1c8204ad68\", \"primary_metric\": 0.95272185, \"best_metric\": 0.97025094}, {\"run_id\": \"AutoML_a9dbd640-a214-4bb3-8cc2-bd3d17249017_19\", \"run_number\": 25, \"metric\": null, \"status\": \"Completed\", \"run_type\": \"azureml.scriptrun\", \"training_percent\": \"100\", \"start_time\": \"2021-01-04T15:05:58.994098Z\", \"end_time\": \"2021-01-04T15:06:55.532541Z\", \"created_time\": \"2021-01-04T15:05:47.516378Z\", \"created_time_dt\": \"2021-01-04T15:05:47.516378Z\", \"duration\": \"0:01:08\", \"iteration\": \"19\", \"goal\": \"accuracy_max\", \"run_name\": \"SparseNormalizer, XGBoostClassifier\", \"run_properties\": \"<azureml.automl.runtime.shared.model_wrappers.SparseNormalizer object at 0x7fb5904110b8\", \"primary_metric\": 0.95383324, \"best_metric\": 0.97025094}, {\"run_id\": \"AutoML_a9dbd640-a214-4bb3-8cc2-bd3d17249017_20\", \"run_number\": 26, \"metric\": null, \"status\": \"Completed\", \"run_type\": \"azureml.scriptrun\", \"training_percent\": \"100\", \"start_time\": \"2021-01-04T15:06:31.227972Z\", \"end_time\": \"2021-01-04T15:07:22.885882Z\", \"created_time\": \"2021-01-04T15:06:18.014676Z\", \"created_time_dt\": \"2021-01-04T15:06:18.014676Z\", \"duration\": \"0:01:04\", \"iteration\": \"20\", \"goal\": \"accuracy_max\", \"run_name\": \"SparseNormalizer, XGBoostClassifier\", \"run_properties\": \"<azureml.automl.runtime.shared.model_wrappers.SparseNormalizer object at 0x7f91200f4128\", \"primary_metric\": 0.94593255, \"best_metric\": 0.97025094}, {\"run_id\": \"AutoML_a9dbd640-a214-4bb3-8cc2-bd3d17249017_21\", \"run_number\": 27, \"metric\": null, \"status\": \"Completed\", \"run_type\": \"azureml.scriptrun\", \"training_percent\": \"100\", \"start_time\": \"2021-01-04T15:06:29.607078Z\", \"end_time\": \"2021-01-04T15:08:20.701926Z\", \"created_time\": \"2021-01-04T15:06:18.03131Z\", \"created_time_dt\": \"2021-01-04T15:06:18.03131Z\", \"duration\": \"0:02:02\", \"iteration\": \"21\", \"goal\": \"accuracy_max\", \"run_name\": \"SparseNormalizer, XGBoostClassifier\", \"run_properties\": \"<azureml.automl.runtime.shared.model_wrappers.SparseNormalizer object at 0x7f37f53afe10\", \"primary_metric\": 0.9522278, \"best_metric\": 0.97025094}, {\"run_id\": \"AutoML_a9dbd640-a214-4bb3-8cc2-bd3d17249017_22\", \"run_number\": 28, \"metric\": null, \"status\": \"Completed\", \"run_type\": \"azureml.scriptrun\", \"training_percent\": \"100\", \"start_time\": \"2021-01-04T15:06:37.483066Z\", \"end_time\": \"2021-01-04T15:07:26.486472Z\", \"created_time\": \"2021-01-04T15:06:24.093142Z\", \"created_time_dt\": \"2021-01-04T15:06:24.093142Z\", \"duration\": \"0:01:02\", \"iteration\": \"22\", \"goal\": \"accuracy_max\", \"run_name\": \"MaxAbsScaler, LightGBM\", \"run_properties\": \"copy=True\", \"primary_metric\": 0.90346817, \"best_metric\": 0.97025094}, {\"run_id\": \"AutoML_a9dbd640-a214-4bb3-8cc2-bd3d17249017_26\", \"run_number\": 29, \"metric\": null, \"status\": \"Completed\", \"run_type\": \"azureml.scriptrun\", \"training_percent\": \"100\", \"start_time\": \"2021-01-04T15:06:42.360364Z\", \"end_time\": \"2021-01-04T15:07:28.183171Z\", \"created_time\": \"2021-01-04T15:06:31.617224Z\", \"created_time_dt\": \"2021-01-04T15:06:31.617224Z\", \"duration\": \"0:00:56\", \"iteration\": \"26\", \"goal\": \"accuracy_max\", \"run_name\": \"RobustScaler, LightGBM\", \"run_properties\": \"copy=True, quantile_range=[10, 90], with_centering=False,\\n             with_scaling=False\", \"primary_metric\": 0.87310173, \"best_metric\": 0.97025094}, {\"run_id\": \"AutoML_a9dbd640-a214-4bb3-8cc2-bd3d17249017_25\", \"run_number\": 30, \"metric\": null, \"status\": \"Completed\", \"run_type\": \"azureml.scriptrun\", \"training_percent\": \"100\", \"start_time\": \"2021-01-04T15:06:44.530395Z\", \"end_time\": \"2021-01-04T15:07:36.466619Z\", \"created_time\": \"2021-01-04T15:06:31.656583Z\", \"created_time_dt\": \"2021-01-04T15:06:31.656583Z\", \"duration\": \"0:01:04\", \"iteration\": \"25\", \"goal\": \"accuracy_max\", \"run_name\": \"MaxAbsScaler, ExtremeRandomTrees\", \"run_properties\": \"copy=True\", \"primary_metric\": 0.86791705, \"best_metric\": 0.97025094}, {\"run_id\": \"AutoML_a9dbd640-a214-4bb3-8cc2-bd3d17249017_24\", \"run_number\": 31, \"metric\": null, \"status\": \"Completed\", \"run_type\": \"azureml.scriptrun\", \"training_percent\": \"100\", \"start_time\": \"2021-01-04T15:06:45.124362Z\", \"end_time\": \"2021-01-04T15:07:49.801099Z\", \"created_time\": \"2021-01-04T15:06:31.761556Z\", \"created_time_dt\": \"2021-01-04T15:06:31.761556Z\", \"duration\": \"0:01:18\", \"iteration\": \"24\", \"goal\": \"accuracy_max\", \"run_name\": \"SparseNormalizer, XGBoostClassifier\", \"run_properties\": \"<azureml.automl.runtime.shared.model_wrappers.SparseNormalizer object at 0x7fcf1487c320\", \"primary_metric\": 0.93704426, \"best_metric\": 0.97025094}, {\"run_id\": \"AutoML_a9dbd640-a214-4bb3-8cc2-bd3d17249017_23\", \"run_number\": 32, \"metric\": null, \"status\": \"Completed\", \"run_type\": \"azureml.scriptrun\", \"training_percent\": \"100\", \"start_time\": \"2021-01-04T15:06:41.792188Z\", \"end_time\": \"2021-01-04T15:07:29.226498Z\", \"created_time\": \"2021-01-04T15:06:31.768597Z\", \"created_time_dt\": \"2021-01-04T15:06:31.768597Z\", \"duration\": \"0:00:57\", \"iteration\": \"23\", \"goal\": \"accuracy_max\", \"run_name\": \"StandardScalerWrapper, XGBoostClassifier\", \"run_properties\": \"<azureml.automl.runtime.shared.model_wrappers.StandardScalerWrapper object at 0x7fcbb8d196a0\", \"primary_metric\": 0.83730356, \"best_metric\": 0.97025094}, {\"run_id\": \"AutoML_a9dbd640-a214-4bb3-8cc2-bd3d17249017_27\", \"run_number\": 33, \"metric\": null, \"status\": \"Completed\", \"run_type\": \"azureml.scriptrun\", \"training_percent\": \"100\", \"start_time\": \"2021-01-04T15:06:50.343588Z\", \"end_time\": \"2021-01-04T15:07:42.624757Z\", \"created_time\": \"2021-01-04T15:06:37.898007Z\", \"created_time_dt\": \"2021-01-04T15:06:37.898007Z\", \"duration\": \"0:01:04\", \"iteration\": \"27\", \"goal\": \"accuracy_max\", \"run_name\": \"StandardScalerWrapper, LightGBM\", \"run_properties\": \"<azureml.automl.runtime.shared.model_wrappers.StandardScalerWrapper object at 0x7f023e771ba8\", \"primary_metric\": 0.91593607, \"best_metric\": 0.97025094}, {\"run_id\": \"AutoML_a9dbd640-a214-4bb3-8cc2-bd3d17249017_29\", \"run_number\": 34, \"metric\": null, \"status\": \"Completed\", \"run_type\": \"azureml.scriptrun\", \"training_percent\": \"100\", \"start_time\": \"2021-01-04T15:07:11.609832Z\", \"end_time\": \"2021-01-04T15:08:46.481206Z\", \"created_time\": \"2021-01-04T15:06:59.172163Z\", \"created_time_dt\": \"2021-01-04T15:06:59.172163Z\", \"duration\": \"0:01:47\", \"iteration\": \"29\", \"goal\": \"accuracy_max\", \"run_name\": \"StandardScalerWrapper, LightGBM\", \"run_properties\": \"<azureml.automl.runtime.shared.model_wrappers.StandardScalerWrapper object at 0x7fb01330d390\", \"primary_metric\": 0.92494677, \"best_metric\": 0.97025094}, {\"run_id\": \"AutoML_a9dbd640-a214-4bb3-8cc2-bd3d17249017_28\", \"run_number\": 35, \"metric\": null, \"status\": \"Completed\", \"run_type\": \"azureml.scriptrun\", \"training_percent\": \"100\", \"start_time\": \"2021-01-04T15:07:11.283387Z\", \"end_time\": \"2021-01-04T15:08:20.269997Z\", \"created_time\": \"2021-01-04T15:06:59.225742Z\", \"created_time_dt\": \"2021-01-04T15:06:59.225742Z\", \"duration\": \"0:01:21\", \"iteration\": \"28\", \"goal\": \"accuracy_max\", \"run_name\": \"SparseNormalizer, XGBoostClassifier\", \"run_properties\": \"<azureml.automl.runtime.shared.model_wrappers.SparseNormalizer object at 0x7f0112f83748\", \"primary_metric\": 0.92618175, \"best_metric\": 0.97025094}, {\"run_id\": \"AutoML_a9dbd640-a214-4bb3-8cc2-bd3d17249017_30\", \"run_number\": 36, \"metric\": null, \"status\": \"Completed\", \"run_type\": \"azureml.scriptrun\", \"training_percent\": \"100\", \"start_time\": \"2021-01-04T15:07:41.920695Z\", \"end_time\": \"2021-01-04T15:09:03.576204Z\", \"created_time\": \"2021-01-04T15:07:26.80228Z\", \"created_time_dt\": \"2021-01-04T15:07:26.80228Z\", \"duration\": \"0:01:36\", \"iteration\": \"30\", \"goal\": \"accuracy_max\", \"run_name\": \"TruncatedSVDWrapper, XGBoostClassifier\", \"run_properties\": \"n_components=0.2573684210526316, random_state=None\", \"primary_metric\": 0.83730356, \"best_metric\": 0.97025094}, {\"run_id\": \"AutoML_a9dbd640-a214-4bb3-8cc2-bd3d17249017_33\", \"run_number\": 37, \"metric\": null, \"status\": \"Completed\", \"run_type\": \"azureml.scriptrun\", \"training_percent\": \"100\", \"start_time\": \"2021-01-04T15:07:45.791531Z\", \"end_time\": \"2021-01-04T15:08:59.645748Z\", \"created_time\": \"2021-01-04T15:07:33.184846Z\", \"created_time_dt\": \"2021-01-04T15:07:33.184846Z\", \"duration\": \"0:01:26\", \"iteration\": \"33\", \"goal\": \"accuracy_max\", \"run_name\": \"StandardScalerWrapper, XGBoostClassifier\", \"run_properties\": \"<azureml.automl.runtime.shared.model_wrappers.StandardScalerWrapper object at 0x7f9ce5c39c50\", \"primary_metric\": 0.96556026, \"best_metric\": 0.97025094}, {\"run_id\": \"AutoML_a9dbd640-a214-4bb3-8cc2-bd3d17249017_31\", \"run_number\": 38, \"metric\": null, \"status\": \"Completed\", \"run_type\": \"azureml.scriptrun\", \"training_percent\": \"100\", \"start_time\": \"2021-01-04T15:07:45.988302Z\", \"end_time\": \"2021-01-04T15:08:59.78393Z\", \"created_time\": \"2021-01-04T15:07:33.349068Z\", \"created_time_dt\": \"2021-01-04T15:07:33.349068Z\", \"duration\": \"0:01:26\", \"iteration\": \"31\", \"goal\": \"accuracy_max\", \"run_name\": \"StandardScalerWrapper, XGBoostClassifier\", \"run_properties\": \"<azureml.automl.runtime.shared.model_wrappers.StandardScalerWrapper object at 0x7efe160f59b0\", \"primary_metric\": 0.96864627, \"best_metric\": 0.97025094}, {\"run_id\": \"AutoML_a9dbd640-a214-4bb3-8cc2-bd3d17249017_32\", \"run_number\": 39, \"metric\": null, \"status\": \"Completed\", \"run_type\": \"azureml.scriptrun\", \"training_percent\": \"100\", \"start_time\": \"2021-01-04T15:07:43.920628Z\", \"end_time\": \"2021-01-04T15:09:09.347455Z\", \"created_time\": \"2021-01-04T15:07:33.367085Z\", \"created_time_dt\": \"2021-01-04T15:07:33.367085Z\", \"duration\": \"0:01:35\", \"iteration\": \"32\", \"goal\": \"accuracy_max\", \"run_name\": \"StandardScalerWrapper, XGBoostClassifier\", \"run_properties\": \"<azureml.automl.runtime.shared.model_wrappers.StandardScalerWrapper object at 0x7f3e2925b908\", \"primary_metric\": 0.96951015, \"best_metric\": 0.97025094}, {\"run_id\": \"AutoML_a9dbd640-a214-4bb3-8cc2-bd3d17249017_34\", \"run_number\": 40, \"metric\": null, \"status\": \"Completed\", \"run_type\": \"azureml.scriptrun\", \"training_percent\": \"100\", \"start_time\": \"2021-01-04T15:07:50.22843Z\", \"end_time\": \"2021-01-04T15:09:02.134174Z\", \"created_time\": \"2021-01-04T15:07:39.460636Z\", \"created_time_dt\": \"2021-01-04T15:07:39.460636Z\", \"duration\": \"0:01:22\", \"iteration\": \"34\", \"goal\": \"accuracy_max\", \"run_name\": \"StandardScalerWrapper, XGBoostClassifier\", \"run_properties\": \"<azureml.automl.runtime.shared.model_wrappers.StandardScalerWrapper object at 0x7f0b000ad128\", \"primary_metric\": 0.96951042, \"best_metric\": 0.97025094}, {\"run_id\": \"AutoML_a9dbd640-a214-4bb3-8cc2-bd3d17249017_35\", \"run_number\": 41, \"metric\": null, \"status\": \"Completed\", \"run_type\": \"azureml.scriptrun\", \"training_percent\": \"100\", \"start_time\": \"2021-01-04T15:08:01.065479Z\", \"end_time\": \"2021-01-04T15:10:20.007742Z\", \"created_time\": \"2021-01-04T15:07:47.338043Z\", \"created_time_dt\": \"2021-01-04T15:07:47.338043Z\", \"duration\": \"0:02:32\", \"iteration\": \"35\", \"goal\": \"accuracy_max\", \"run_name\": \"StandardScalerWrapper, XGBoostClassifier\", \"run_properties\": \"<azureml.automl.runtime.shared.model_wrappers.StandardScalerWrapper object at 0x7fee314f26a0\", \"primary_metric\": 0.96901628, \"best_metric\": 0.97025094}, {\"run_id\": \"AutoML_a9dbd640-a214-4bb3-8cc2-bd3d17249017_36\", \"run_number\": 42, \"metric\": null, \"status\": \"Completed\", \"run_type\": \"azureml.scriptrun\", \"training_percent\": \"100\", \"start_time\": \"2021-01-04T15:08:05.927571Z\", \"end_time\": \"2021-01-04T15:10:13.710644Z\", \"created_time\": \"2021-01-04T15:07:54.516067Z\", \"created_time_dt\": \"2021-01-04T15:07:54.516067Z\", \"duration\": \"0:02:19\", \"iteration\": \"36\", \"goal\": \"accuracy_max\", \"run_name\": \"StandardScalerWrapper, XGBoostClassifier\", \"run_properties\": \"<azureml.automl.runtime.shared.model_wrappers.StandardScalerWrapper object at 0x7f8863353400\", \"primary_metric\": 0.96778189, \"best_metric\": 0.97025094}, {\"run_id\": \"AutoML_a9dbd640-a214-4bb3-8cc2-bd3d17249017_38\", \"run_number\": 43, \"metric\": null, \"status\": \"Completed\", \"run_type\": \"azureml.scriptrun\", \"training_percent\": \"100\", \"start_time\": \"2021-01-04T15:08:35.200407Z\", \"end_time\": \"2021-01-04T15:09:31.485381Z\", \"created_time\": \"2021-01-04T15:08:23.537245Z\", \"created_time_dt\": \"2021-01-04T15:08:23.537245Z\", \"duration\": \"0:01:07\", \"iteration\": \"38\", \"goal\": \"accuracy_max\", \"run_name\": \"StandardScalerWrapper, XGBoostClassifier\", \"run_properties\": \"<azureml.automl.runtime.shared.model_wrappers.StandardScalerWrapper object at 0x7fed9c5fe128\", \"primary_metric\": 0.96617718, \"best_metric\": 0.97025094}, {\"run_id\": \"AutoML_a9dbd640-a214-4bb3-8cc2-bd3d17249017_37\", \"run_number\": 44, \"metric\": null, \"status\": \"Completed\", \"run_type\": \"azureml.scriptrun\", \"training_percent\": \"100\", \"start_time\": \"2021-01-04T15:08:35.748836Z\", \"end_time\": \"2021-01-04T15:09:35.288815Z\", \"created_time\": \"2021-01-04T15:08:23.547529Z\", \"created_time_dt\": \"2021-01-04T15:08:23.547529Z\", \"duration\": \"0:01:11\", \"iteration\": \"37\", \"goal\": \"accuracy_max\", \"run_name\": \"SparseNormalizer, XGBoostClassifier\", \"run_properties\": \"<azureml.automl.runtime.shared.model_wrappers.SparseNormalizer object at 0x7fa5d92933c8\", \"primary_metric\": 0.94420434, \"best_metric\": 0.97025094}, {\"run_id\": \"AutoML_a9dbd640-a214-4bb3-8cc2-bd3d17249017_39\", \"run_number\": 45, \"metric\": null, \"status\": \"Canceled\", \"run_type\": \"azureml.scriptrun\", \"training_percent\": \"100\", \"start_time\": \"2021-01-04T15:09:00.218684Z\", \"end_time\": \"2021-01-04T15:10:31.049934Z\", \"created_time\": \"2021-01-04T15:08:49.675874Z\", \"created_time_dt\": \"2021-01-04T15:08:49.675874Z\", \"duration\": \"0:01:41\", \"iteration\": \"39\", \"goal\": null, \"run_name\": \"SparseNormalizer, XGBoostClassifier\", \"run_properties\": null}, {\"run_id\": \"AutoML_a9dbd640-a214-4bb3-8cc2-bd3d17249017_40\", \"run_number\": 46, \"metric\": null, \"status\": \"Canceled\", \"run_type\": \"azureml.scriptrun\", \"training_percent\": \"100\", \"start_time\": \"2021-01-04T15:09:14.680634Z\", \"end_time\": \"2021-01-04T15:10:28.621195Z\", \"created_time\": \"2021-01-04T15:09:03.642456Z\", \"created_time_dt\": \"2021-01-04T15:09:03.642456Z\", \"duration\": \"0:01:24\", \"iteration\": \"40\", \"goal\": null, \"run_name\": \"StandardScalerWrapper, XGBoostClassifier\", \"run_properties\": null}, {\"run_id\": \"AutoML_a9dbd640-a214-4bb3-8cc2-bd3d17249017_41\", \"run_number\": 47, \"metric\": null, \"status\": \"Canceled\", \"run_type\": \"azureml.scriptrun\", \"training_percent\": \"100\", \"start_time\": \"2021-01-04T15:09:16.595972Z\", \"end_time\": \"2021-01-04T15:10:31.053004Z\", \"created_time\": \"2021-01-04T15:09:03.939433Z\", \"created_time_dt\": \"2021-01-04T15:09:03.939433Z\", \"duration\": \"0:01:27\", \"iteration\": \"41\", \"goal\": null, \"run_name\": \"StandardScalerWrapper, XGBoostClassifier\", \"run_properties\": null}, {\"run_id\": \"AutoML_a9dbd640-a214-4bb3-8cc2-bd3d17249017_43\", \"run_number\": 48, \"metric\": null, \"status\": \"Canceled\", \"run_type\": \"azureml.scriptrun\", \"training_percent\": \"100\", \"start_time\": \"2021-01-04T15:09:22.580547Z\", \"end_time\": \"2021-01-04T15:10:28.750951Z\", \"created_time\": \"2021-01-04T15:09:10.305979Z\", \"created_time_dt\": \"2021-01-04T15:09:10.305979Z\", \"duration\": \"0:01:18\", \"iteration\": \"43\", \"goal\": \"accuracy_max\", \"run_name\": \"StandardScalerWrapper, XGBoostClassifier\", \"run_properties\": \"<azureml.automl.runtime.shared.model_wrappers.StandardScalerWrapper object at 0x7f017417c198\", \"primary_metric\": 0.96988057, \"best_metric\": 0.97025094}, {\"run_id\": \"AutoML_a9dbd640-a214-4bb3-8cc2-bd3d17249017_42\", \"run_number\": 49, \"metric\": null, \"status\": \"Completed\", \"run_type\": \"azureml.scriptrun\", \"training_percent\": \"100\", \"start_time\": \"2021-01-04T15:09:21.936864Z\", \"end_time\": \"2021-01-04T15:10:21.335556Z\", \"created_time\": \"2021-01-04T15:09:10.478762Z\", \"created_time_dt\": \"2021-01-04T15:09:10.478762Z\", \"duration\": \"0:01:10\", \"iteration\": \"42\", \"goal\": \"accuracy_max\", \"run_name\": \"MaxAbsScaler, LogisticRegression\", \"run_properties\": \"copy=True\", \"primary_metric\": 0.84643922, \"best_metric\": 0.97025094}, {\"run_id\": \"AutoML_a9dbd640-a214-4bb3-8cc2-bd3d17249017_44\", \"run_number\": 50, \"metric\": null, \"status\": \"Canceled\", \"run_type\": \"azureml.scriptrun\", \"training_percent\": \"100\", \"start_time\": \"2021-01-04T15:09:29.666235Z\", \"end_time\": \"2021-01-04T15:10:30.198234Z\", \"created_time\": \"2021-01-04T15:09:16.29199Z\", \"created_time_dt\": \"2021-01-04T15:09:16.29199Z\", \"duration\": \"0:01:13\", \"iteration\": \"44\", \"goal\": null, \"run_name\": \"SparseNormalizer, LightGBM\", \"run_properties\": null}, {\"run_id\": \"AutoML_a9dbd640-a214-4bb3-8cc2-bd3d17249017_45\", \"run_number\": 51, \"metric\": null, \"status\": \"Canceled\", \"run_type\": \"azureml.scriptrun\", \"training_percent\": \"100\", \"start_time\": \"2021-01-04T15:09:51.169978Z\", \"end_time\": \"2021-01-04T15:10:28.725985Z\", \"created_time\": \"2021-01-04T15:09:37.606415Z\", \"created_time_dt\": \"2021-01-04T15:09:37.606415Z\", \"duration\": \"0:00:51\", \"iteration\": \"45\", \"goal\": null, \"run_name\": \"SparseNormalizer, XGBoostClassifier\", \"run_properties\": null}, {\"run_id\": \"AutoML_a9dbd640-a214-4bb3-8cc2-bd3d17249017_46\", \"run_number\": 52, \"metric\": null, \"status\": \"Canceled\", \"run_type\": \"azureml.scriptrun\", \"training_percent\": \"100\", \"start_time\": \"2021-01-04T15:09:55.457013Z\", \"end_time\": \"2021-01-04T15:10:29.04942Z\", \"created_time\": \"2021-01-04T15:09:43.810813Z\", \"created_time_dt\": \"2021-01-04T15:09:43.810813Z\", \"duration\": \"0:00:45\", \"iteration\": \"46\", \"goal\": \"accuracy_max\", \"run_name\": \"MaxAbsScaler, LogisticRegression\", \"run_properties\": \"copy=True\", \"primary_metric\": 0.90433292, \"best_metric\": 0.97025094}, {\"run_id\": \"AutoML_a9dbd640-a214-4bb3-8cc2-bd3d17249017_47\", \"run_number\": 53, \"metric\": null, \"status\": \"Canceled\", \"run_type\": \"azureml.scriptrun\", \"training_percent\": \"100\", \"start_time\": \"2021-01-04T15:10:17.014174Z\", \"end_time\": \"2021-01-04T15:10:34.689881Z\", \"created_time\": \"2021-01-04T15:10:17.014174Z\", \"created_time_dt\": \"2021-01-04T15:10:17.014174Z\", \"duration\": \"0:00:17\", \"iteration\": \"47\", \"goal\": null, \"run_name\": \"Canceled\", \"run_properties\": null}, {\"run_id\": \"AutoML_a9dbd640-a214-4bb3-8cc2-bd3d17249017_48\", \"run_number\": 54, \"metric\": null, \"status\": \"Completed\", \"run_type\": \"azureml.scriptrun\", \"training_percent\": \"100\", \"start_time\": \"2021-01-04T15:10:47.110879Z\", \"end_time\": \"2021-01-04T15:12:30.959145Z\", \"created_time\": \"2021-01-04T15:10:36.068338Z\", \"created_time_dt\": \"2021-01-04T15:10:36.068338Z\", \"duration\": \"0:01:54\", \"iteration\": \"48\", \"goal\": \"accuracy_max\", \"run_name\": \"VotingEnsemble\", \"run_properties\": \"classification_labels=None,\\n                              estimators=[('8',\\n                                           Pipeline(memory=None,\\n                                                    steps=[('standardscalerwrapper',\\n                                                            <azureml.automl.runtime.shared.model_wrappers.StandardScalerWrapper object at 0x7f79fc028438>\", \"primary_metric\": 0.97234966, \"best_metric\": 0.97234966}, {\"run_id\": \"AutoML_a9dbd640-a214-4bb3-8cc2-bd3d17249017_49\", \"run_number\": 55, \"metric\": null, \"status\": \"Completed\", \"run_type\": \"azureml.scriptrun\", \"training_percent\": \"100\", \"start_time\": \"2021-01-04T15:10:49.164791Z\", \"end_time\": \"2021-01-04T15:12:31.837228Z\", \"created_time\": \"2021-01-04T15:10:36.215739Z\", \"created_time_dt\": \"2021-01-04T15:10:36.215739Z\", \"duration\": \"0:01:55\", \"iteration\": \"49\", \"goal\": \"accuracy_max\", \"run_name\": \"StackEnsemble\", \"run_properties\": \"base_learners=[('8',\\n                                        Pipeline(memory=None,\\n                                                 steps=[('standardscalerwrapper',\\n                                                         <azureml.automl.runtime.shared.model_wrappers.StandardScalerWrapper object at 0x7f76515564a8>\", \"primary_metric\": 0.97160882, \"best_metric\": 0.97234966}], \"children_metrics\": {\"categories\": [0], \"series\": {\"f1_score_macro\": [{\"categories\": [\"0\", \"1\", \"2\", \"3\", \"4\", \"5\", \"6\", \"7\", \"8\", \"9\", \"10\", \"11\", \"12\", \"13\", \"14\", \"15\", \"16\", \"17\", \"18\", \"19\", \"20\", \"21\", \"22\", \"23\", \"24\", \"25\", \"26\", \"27\", \"28\", \"29\", \"30\", \"31\", \"32\", \"33\", \"34\", \"35\", \"36\", \"37\", \"38\", \"42\", \"43\", \"46\", \"48\", \"49\"], \"mode\": \"markers\", \"name\": \"f1_score_macro\", \"stepped\": false, \"type\": \"scatter\", \"data\": [0.9429965797497974, 0.9283149962538836, 0.7420234873316781, 0.6675786373555024, 0.8490636051068327, 0.8051740922221337, 0.8243128853784998, 0.783991131604671, 0.9440036917027591, 0.8814128725415776, 0.9361301196754468, 0.8884965169444262, 0.8954801544694954, 0.8793840467591171, 0.9110755809749032, 0.863106079986894, 0.9115638098212039, 0.8895509858283185, 0.9091145102083996, 0.9102606191674453, 0.8941300931880795, 0.9081690629997574, 0.772393463735105, 0.4557178599772091, 0.8730802993544704, 0.6284663131577789, 0.6488341710972104, 0.8107195894625812, 0.8496527332086957, 0.8411005867366764, 0.4557178599772091, 0.940779410423937, 0.9426349619085225, 0.93441364262064, 0.9426331109446685, 0.941858750879228, 0.9395000414799615, 0.890855444989338, 0.9353513954490503, 0.7719571248134987, 0.9427781539519108, 0.8043034878077947, 0.9477726622602182, 0.9466103461182481]}, {\"categories\": [\"0\", \"1\", \"2\", \"3\", \"4\", \"5\", \"6\", \"7\", \"8\", \"9\", \"10\", \"11\", \"12\", \"13\", \"14\", \"15\", \"16\", \"17\", \"18\", \"19\", \"20\", \"21\", \"22\", \"23\", \"24\", \"25\", \"26\", \"27\", \"28\", \"29\", \"30\", \"31\", \"32\", \"33\", \"34\", \"35\", \"36\", \"37\", \"38\", \"42\", \"43\", \"46\", \"48\", \"49\"], \"mode\": \"lines\", \"name\": \"f1_score_macro_max\", \"stepped\": true, \"type\": \"scatter\", \"data\": [0.9429965797497974, 0.9429965797497974, 0.9429965797497974, 0.9429965797497974, 0.9429965797497974, 0.9429965797497974, 0.9429965797497974, 0.9429965797497974, 0.9440036917027591, 0.9440036917027591, 0.9440036917027591, 0.9440036917027591, 0.9440036917027591, 0.9440036917027591, 0.9440036917027591, 0.9440036917027591, 0.9440036917027591, 0.9440036917027591, 0.9440036917027591, 0.9440036917027591, 0.9440036917027591, 0.9440036917027591, 0.9440036917027591, 0.9440036917027591, 0.9440036917027591, 0.9440036917027591, 0.9440036917027591, 0.9440036917027591, 0.9440036917027591, 0.9440036917027591, 0.9440036917027591, 0.9440036917027591, 0.9440036917027591, 0.9440036917027591, 0.9440036917027591, 0.9440036917027591, 0.9440036917027591, 0.9440036917027591, 0.9440036917027591, 0.9440036917027591, 0.9440036917027591, 0.9440036917027591, 0.9477726622602182, 0.9477726622602182]}], \"AUC_weighted\": [{\"categories\": [\"0\", \"1\", \"2\", \"3\", \"4\", \"5\", \"6\", \"7\", \"8\", \"9\", \"10\", \"11\", \"12\", \"13\", \"14\", \"15\", \"16\", \"17\", \"18\", \"19\", \"20\", \"21\", \"22\", \"23\", \"24\", \"25\", \"26\", \"27\", \"28\", \"29\", \"30\", \"31\", \"32\", \"33\", \"34\", \"35\", \"36\", \"37\", \"38\", \"42\", \"43\", \"46\", \"48\", \"49\"], \"mode\": \"markers\", \"name\": \"AUC_weighted\", \"stepped\": false, \"type\": \"scatter\", \"data\": [0.9928643754218142, 0.9894721612460694, 0.9347238273170383, 0.9219888025428203, 0.9618848704329196, 0.9215904858407346, 0.9759713348109115, 0.9272455078888826, 0.9928205839126365, 0.973059569881476, 0.9909400401336615, 0.9773117566201437, 0.9797636117272573, 0.973175656926324, 0.9844182185894428, 0.9692651501048477, 0.9861733890371642, 0.9783526985647616, 0.9824226649642956, 0.9861260221373641, 0.9796947971419842, 0.9824057605381639, 0.9536984816222116, 0.5, 0.9759942266462516, 0.9164338800058057, 0.9380171866253475, 0.9686490421059192, 0.9575944144194665, 0.9681129184119789, 0.5, 0.9925808183767613, 0.992690756769262, 0.9906782365043342, 0.9932517774481147, 0.9926062308818664, 0.9922407256245643, 0.9777377100408119, 0.9915680749873709, 0.9226355810203475, 0.9921912729266246, 0.9215462964008232, 0.993284414001482, 0.9934278123661476]}, {\"categories\": [\"0\", \"1\", \"2\", \"3\", \"4\", \"5\", \"6\", \"7\", \"8\", \"9\", \"10\", \"11\", \"12\", \"13\", \"14\", \"15\", \"16\", \"17\", \"18\", \"19\", \"20\", \"21\", \"22\", \"23\", \"24\", \"25\", \"26\", \"27\", \"28\", \"29\", \"30\", \"31\", \"32\", \"33\", \"34\", \"35\", \"36\", \"37\", \"38\", \"42\", \"43\", \"46\", \"48\", \"49\"], \"mode\": \"lines\", \"name\": \"AUC_weighted_max\", \"stepped\": true, \"type\": \"scatter\", \"data\": [0.9928643754218142, 0.9928643754218142, 0.9928643754218142, 0.9928643754218142, 0.9928643754218142, 0.9928643754218142, 0.9928643754218142, 0.9928643754218142, 0.9928643754218142, 0.9928643754218142, 0.9928643754218142, 0.9928643754218142, 0.9928643754218142, 0.9928643754218142, 0.9928643754218142, 0.9928643754218142, 0.9928643754218142, 0.9928643754218142, 0.9928643754218142, 0.9928643754218142, 0.9928643754218142, 0.9928643754218142, 0.9928643754218142, 0.9928643754218142, 0.9928643754218142, 0.9928643754218142, 0.9928643754218142, 0.9928643754218142, 0.9928643754218142, 0.9928643754218142, 0.9928643754218142, 0.9928643754218142, 0.9928643754218142, 0.9928643754218142, 0.9932517774481147, 0.9932517774481147, 0.9932517774481147, 0.9932517774481147, 0.9932517774481147, 0.9932517774481147, 0.9932517774481147, 0.9932517774481147, 0.993284414001482, 0.9934278123661476]}], \"precision_score_micro\": [{\"categories\": [\"0\", \"1\", \"2\", \"3\", \"4\", \"5\", \"6\", \"7\", \"8\", \"9\", \"10\", \"11\", \"12\", \"13\", \"14\", \"15\", \"16\", \"17\", \"18\", \"19\", \"20\", \"21\", \"22\", \"23\", \"24\", \"25\", \"26\", \"27\", \"28\", \"29\", \"30\", \"31\", \"32\", \"33\", \"34\", \"35\", \"36\", \"37\", \"38\", \"42\", \"43\", \"46\", \"48\", \"49\"], \"mode\": \"markers\", \"name\": \"precision_score_micro\", \"stepped\": false, \"type\": \"scatter\", \"data\": [0.9696335605011405, 0.9625975747436936, 0.8908772242562196, 0.8743342886265261, 0.9065547739520343, 0.9044564198902098, 0.9205030144299551, 0.8561900256420804, 0.9702509358673742, 0.9395135775044451, 0.9661772274557663, 0.9425999515497233, 0.9464257408093024, 0.9386496085126222, 0.9538330568010934, 0.9329709618294092, 0.954327021085012, 0.9440804731672312, 0.9527218542743657, 0.9538332396323264, 0.9459325535581243, 0.9522277985748305, 0.9034681713677147, 0.8373035592670296, 0.9370442588707428, 0.8679170494695608, 0.8731017318688551, 0.9159360730593606, 0.9261817525287844, 0.9249467732572757, 0.8373035592670296, 0.9686462718426189, 0.9695101494188253, 0.9655602634598068, 0.969510423665675, 0.9690162765505231, 0.9677818914805217, 0.944204341327629, 0.9661771817479581, 0.8464392246127406, 0.9698805654970039, 0.9043329173922782, 0.9723496555916648, 0.9716088234353074]}, {\"categories\": [\"0\", \"1\", \"2\", \"3\", \"4\", \"5\", \"6\", \"7\", \"8\", \"9\", \"10\", \"11\", \"12\", \"13\", \"14\", \"15\", \"16\", \"17\", \"18\", \"19\", \"20\", \"21\", \"22\", \"23\", \"24\", \"25\", \"26\", \"27\", \"28\", \"29\", \"30\", \"31\", \"32\", \"33\", \"34\", \"35\", \"36\", \"37\", \"38\", \"42\", \"43\", \"46\", \"48\", \"49\"], \"mode\": \"lines\", \"name\": \"precision_score_micro_max\", \"stepped\": true, \"type\": \"scatter\", \"data\": [0.9696335605011405, 0.9696335605011405, 0.9696335605011405, 0.9696335605011405, 0.9696335605011405, 0.9696335605011405, 0.9696335605011405, 0.9696335605011405, 0.9702509358673742, 0.9702509358673742, 0.9702509358673742, 0.9702509358673742, 0.9702509358673742, 0.9702509358673742, 0.9702509358673742, 0.9702509358673742, 0.9702509358673742, 0.9702509358673742, 0.9702509358673742, 0.9702509358673742, 0.9702509358673742, 0.9702509358673742, 0.9702509358673742, 0.9702509358673742, 0.9702509358673742, 0.9702509358673742, 0.9702509358673742, 0.9702509358673742, 0.9702509358673742, 0.9702509358673742, 0.9702509358673742, 0.9702509358673742, 0.9702509358673742, 0.9702509358673742, 0.9702509358673742, 0.9702509358673742, 0.9702509358673742, 0.9702509358673742, 0.9702509358673742, 0.9702509358673742, 0.9702509358673742, 0.9702509358673742, 0.9723496555916648, 0.9723496555916648]}], \"average_precision_score_weighted\": [{\"categories\": [\"0\", \"1\", \"2\", \"3\", \"4\", \"5\", \"6\", \"7\", \"8\", \"9\", \"10\", \"11\", \"12\", \"13\", \"14\", \"15\", \"16\", \"17\", \"18\", \"19\", \"20\", \"21\", \"22\", \"23\", \"24\", \"25\", \"26\", \"27\", \"28\", \"29\", \"30\", \"31\", \"32\", \"33\", \"34\", \"35\", \"36\", \"37\", \"38\", \"42\", \"43\", \"46\", \"48\", \"49\"], \"mode\": \"markers\", \"name\": \"average_precision_score_weighted\", \"stepped\": false, \"type\": \"scatter\", \"data\": [0.9938390287479599, 0.9907219259124993, 0.9512876920721781, 0.9421304414531556, 0.9681261054406097, 0.9453135181196913, 0.9790853212010918, 0.9457764957040314, 0.993813573492412, 0.9782312538893813, 0.9916726407858704, 0.9811968766786497, 0.9830335822163683, 0.977583458191135, 0.986717121113954, 0.9759242874836874, 0.9879712004469233, 0.9820782208376727, 0.9853200368038416, 0.9878832079557469, 0.983343026948614, 0.9851043121720374, 0.9649392537429149, 0.72762492823072, 0.9792977251028215, 0.9406397740142219, 0.9566004747051654, 0.9746194162589736, 0.9661364315042591, 0.9740752434388288, 0.72762492823072, 0.9933614232139244, 0.9936080583449759, 0.9919226293292945, 0.9940498693811629, 0.9936143977619559, 0.9931960683754548, 0.9816685912236988, 0.9925605147802741, 0.9439729436057219, 0.9933256705307638, 0.9453010100517388, 0.9941225831144056, 0.9941724884061856]}, {\"categories\": [\"0\", \"1\", \"2\", \"3\", \"4\", \"5\", \"6\", \"7\", \"8\", \"9\", \"10\", \"11\", \"12\", \"13\", \"14\", \"15\", \"16\", \"17\", \"18\", \"19\", \"20\", \"21\", \"22\", \"23\", \"24\", \"25\", \"26\", \"27\", \"28\", \"29\", \"30\", \"31\", \"32\", \"33\", \"34\", \"35\", \"36\", \"37\", \"38\", \"42\", \"43\", \"46\", \"48\", \"49\"], \"mode\": \"lines\", \"name\": \"average_precision_score_weighted_max\", \"stepped\": true, \"type\": \"scatter\", \"data\": [0.9938390287479599, 0.9938390287479599, 0.9938390287479599, 0.9938390287479599, 0.9938390287479599, 0.9938390287479599, 0.9938390287479599, 0.9938390287479599, 0.9938390287479599, 0.9938390287479599, 0.9938390287479599, 0.9938390287479599, 0.9938390287479599, 0.9938390287479599, 0.9938390287479599, 0.9938390287479599, 0.9938390287479599, 0.9938390287479599, 0.9938390287479599, 0.9938390287479599, 0.9938390287479599, 0.9938390287479599, 0.9938390287479599, 0.9938390287479599, 0.9938390287479599, 0.9938390287479599, 0.9938390287479599, 0.9938390287479599, 0.9938390287479599, 0.9938390287479599, 0.9938390287479599, 0.9938390287479599, 0.9938390287479599, 0.9938390287479599, 0.9940498693811629, 0.9940498693811629, 0.9940498693811629, 0.9940498693811629, 0.9940498693811629, 0.9940498693811629, 0.9940498693811629, 0.9940498693811629, 0.9941225831144056, 0.9941724884061856]}], \"recall_score_micro\": [{\"categories\": [\"0\", \"1\", \"2\", \"3\", \"4\", \"5\", \"6\", \"7\", \"8\", \"9\", \"10\", \"11\", \"12\", \"13\", \"14\", \"15\", \"16\", \"17\", \"18\", \"19\", \"20\", \"21\", \"22\", \"23\", \"24\", \"25\", \"26\", \"27\", \"28\", \"29\", \"30\", \"31\", \"32\", \"33\", \"34\", \"35\", \"36\", \"37\", \"38\", \"42\", \"43\", \"46\", \"48\", \"49\"], \"mode\": \"markers\", \"name\": \"recall_score_micro\", \"stepped\": false, \"type\": \"scatter\", \"data\": [0.9696335605011405, 0.9625975747436936, 0.8908772242562196, 0.8743342886265261, 0.9065547739520343, 0.9044564198902098, 0.9205030144299551, 0.8561900256420804, 0.9702509358673742, 0.9395135775044451, 0.9661772274557663, 0.9425999515497233, 0.9464257408093024, 0.9386496085126222, 0.9538330568010934, 0.9329709618294092, 0.954327021085012, 0.9440804731672312, 0.9527218542743657, 0.9538332396323264, 0.9459325535581243, 0.9522277985748305, 0.9034681713677147, 0.8373035592670296, 0.9370442588707428, 0.8679170494695608, 0.8731017318688551, 0.9159360730593606, 0.9261817525287844, 0.9249467732572757, 0.8373035592670296, 0.9686462718426189, 0.9695101494188253, 0.9655602634598068, 0.969510423665675, 0.9690162765505231, 0.9677818914805217, 0.944204341327629, 0.9661771817479581, 0.8464392246127406, 0.9698805654970039, 0.9043329173922782, 0.9723496555916648, 0.9716088234353074]}, {\"categories\": [\"0\", \"1\", \"2\", \"3\", \"4\", \"5\", \"6\", \"7\", \"8\", \"9\", \"10\", \"11\", \"12\", \"13\", \"14\", \"15\", \"16\", \"17\", \"18\", \"19\", \"20\", \"21\", \"22\", \"23\", \"24\", \"25\", \"26\", \"27\", \"28\", \"29\", \"30\", \"31\", \"32\", \"33\", \"34\", \"35\", \"36\", \"37\", \"38\", \"42\", \"43\", \"46\", \"48\", \"49\"], \"mode\": \"lines\", \"name\": \"recall_score_micro_max\", \"stepped\": true, \"type\": \"scatter\", \"data\": [0.9696335605011405, 0.9696335605011405, 0.9696335605011405, 0.9696335605011405, 0.9696335605011405, 0.9696335605011405, 0.9696335605011405, 0.9696335605011405, 0.9702509358673742, 0.9702509358673742, 0.9702509358673742, 0.9702509358673742, 0.9702509358673742, 0.9702509358673742, 0.9702509358673742, 0.9702509358673742, 0.9702509358673742, 0.9702509358673742, 0.9702509358673742, 0.9702509358673742, 0.9702509358673742, 0.9702509358673742, 0.9702509358673742, 0.9702509358673742, 0.9702509358673742, 0.9702509358673742, 0.9702509358673742, 0.9702509358673742, 0.9702509358673742, 0.9702509358673742, 0.9702509358673742, 0.9702509358673742, 0.9702509358673742, 0.9702509358673742, 0.9702509358673742, 0.9702509358673742, 0.9702509358673742, 0.9702509358673742, 0.9702509358673742, 0.9702509358673742, 0.9702509358673742, 0.9702509358673742, 0.9723496555916648, 0.9723496555916648]}], \"average_precision_score_macro\": [{\"categories\": [\"0\", \"1\", \"2\", \"3\", \"4\", \"5\", \"6\", \"7\", \"8\", \"9\", \"10\", \"11\", \"12\", \"13\", \"14\", \"15\", \"16\", \"17\", \"18\", \"19\", \"20\", \"21\", \"22\", \"23\", \"24\", \"25\", \"26\", \"27\", \"28\", \"29\", \"30\", \"31\", \"32\", \"33\", \"34\", \"35\", \"36\", \"37\", \"38\", \"42\", \"43\", \"46\", \"48\", \"49\"], \"mode\": \"markers\", \"name\": \"average_precision_score_macro\", \"stepped\": false, \"type\": \"scatter\", \"data\": [0.9839374947142434, 0.9757242749292713, 0.8797953476205747, 0.8571798217927741, 0.9179246601403794, 0.8694382745743857, 0.945736208188379, 0.8660070567689097, 0.983890761214344, 0.9446587585918996, 0.978037235663555, 0.9515539351241262, 0.9560387259003006, 0.9423176859552301, 0.9655390079058411, 0.939404489428477, 0.9685759939223777, 0.954042563807579, 0.9620357658149649, 0.9683115535545888, 0.957165553531059, 0.9613961691029468, 0.9131425596856205, 0.5, 0.9461962019129455, 0.8563263749480687, 0.8947870337702261, 0.935576374034377, 0.915925292804339, 0.9341089921882036, 0.5, 0.9826372733923111, 0.9834282519581737, 0.9788905305257288, 0.9844701362130355, 0.9833965992907387, 0.9822863186314148, 0.9527837204991932, 0.9804571098254874, 0.863336196832264, 0.9826104055875752, 0.8694382636979102, 0.9845969690318267, 0.9846691637679843]}, {\"categories\": [\"0\", \"1\", \"2\", \"3\", \"4\", \"5\", \"6\", \"7\", \"8\", \"9\", \"10\", \"11\", \"12\", \"13\", \"14\", \"15\", \"16\", \"17\", \"18\", \"19\", \"20\", \"21\", \"22\", \"23\", \"24\", \"25\", \"26\", \"27\", \"28\", \"29\", \"30\", \"31\", \"32\", \"33\", \"34\", \"35\", \"36\", \"37\", \"38\", \"42\", \"43\", \"46\", \"48\", \"49\"], \"mode\": \"lines\", \"name\": \"average_precision_score_macro_max\", \"stepped\": true, \"type\": \"scatter\", \"data\": [0.9839374947142434, 0.9839374947142434, 0.9839374947142434, 0.9839374947142434, 0.9839374947142434, 0.9839374947142434, 0.9839374947142434, 0.9839374947142434, 0.9839374947142434, 0.9839374947142434, 0.9839374947142434, 0.9839374947142434, 0.9839374947142434, 0.9839374947142434, 0.9839374947142434, 0.9839374947142434, 0.9839374947142434, 0.9839374947142434, 0.9839374947142434, 0.9839374947142434, 0.9839374947142434, 0.9839374947142434, 0.9839374947142434, 0.9839374947142434, 0.9839374947142434, 0.9839374947142434, 0.9839374947142434, 0.9839374947142434, 0.9839374947142434, 0.9839374947142434, 0.9839374947142434, 0.9839374947142434, 0.9839374947142434, 0.9839374947142434, 0.9844701362130355, 0.9844701362130355, 0.9844701362130355, 0.9844701362130355, 0.9844701362130355, 0.9844701362130355, 0.9844701362130355, 0.9844701362130355, 0.9845969690318267, 0.9846691637679843]}], \"recall_score_macro\": [{\"categories\": [\"0\", \"1\", \"2\", \"3\", \"4\", \"5\", \"6\", \"7\", \"8\", \"9\", \"10\", \"11\", \"12\", \"13\", \"14\", \"15\", \"16\", \"17\", \"18\", \"19\", \"20\", \"21\", \"22\", \"23\", \"24\", \"25\", \"26\", \"27\", \"28\", \"29\", \"30\", \"31\", \"32\", \"33\", \"34\", \"35\", \"36\", \"37\", \"38\", \"42\", \"43\", \"46\", \"48\", \"49\"], \"mode\": \"markers\", \"name\": \"recall_score_macro\", \"stepped\": false, \"type\": \"scatter\", \"data\": [0.9346776926111456, 0.9118217640095369, 0.6955512689061926, 0.6334971007681539, 0.9000114413642114, 0.7771830156367496, 0.7732897672689822, 0.8547353763665507, 0.9349911083782237, 0.8588645186646849, 0.9249671779209638, 0.8686884860334837, 0.8744624436546844, 0.8564174457872715, 0.8939893260184864, 0.8291079393938968, 0.8927327083542638, 0.862807830297046, 0.8920018872491594, 0.8902198433562679, 0.8710594187360604, 0.8913016898705459, 0.7185556415610629, 0.5, 0.8414518702038368, 0.5990263562173036, 0.6130477725122224, 0.7580575614341315, 0.8175321223037096, 0.7982982734430584, 0.5, 0.9300348501700088, 0.9330454204192171, 0.9205937257979581, 0.934174110112849, 0.9335718497744486, 0.9304886840944387, 0.8684453126309123, 0.9192350290410035, 0.8458808503555747, 0.9300429499209183, 0.7755866106796349, 0.937994917601963, 0.9385067004407596]}, {\"categories\": [\"0\", \"1\", \"2\", \"3\", \"4\", \"5\", \"6\", \"7\", \"8\", \"9\", \"10\", \"11\", \"12\", \"13\", \"14\", \"15\", \"16\", \"17\", \"18\", \"19\", \"20\", \"21\", \"22\", \"23\", \"24\", \"25\", \"26\", \"27\", \"28\", \"29\", \"30\", \"31\", \"32\", \"33\", \"34\", \"35\", \"36\", \"37\", \"38\", \"42\", \"43\", \"46\", \"48\", \"49\"], \"mode\": \"lines\", \"name\": \"recall_score_macro_max\", \"stepped\": true, \"type\": \"scatter\", \"data\": [0.9346776926111456, 0.9346776926111456, 0.9346776926111456, 0.9346776926111456, 0.9346776926111456, 0.9346776926111456, 0.9346776926111456, 0.9346776926111456, 0.9349911083782237, 0.9349911083782237, 0.9349911083782237, 0.9349911083782237, 0.9349911083782237, 0.9349911083782237, 0.9349911083782237, 0.9349911083782237, 0.9349911083782237, 0.9349911083782237, 0.9349911083782237, 0.9349911083782237, 0.9349911083782237, 0.9349911083782237, 0.9349911083782237, 0.9349911083782237, 0.9349911083782237, 0.9349911083782237, 0.9349911083782237, 0.9349911083782237, 0.9349911083782237, 0.9349911083782237, 0.9349911083782237, 0.9349911083782237, 0.9349911083782237, 0.9349911083782237, 0.9349911083782237, 0.9349911083782237, 0.9349911083782237, 0.9349911083782237, 0.9349911083782237, 0.9349911083782237, 0.9349911083782237, 0.9349911083782237, 0.937994917601963, 0.9385067004407596]}], \"norm_macro_recall\": [{\"categories\": [\"0\", \"1\", \"2\", \"3\", \"4\", \"5\", \"6\", \"7\", \"8\", \"9\", \"10\", \"11\", \"12\", \"13\", \"14\", \"15\", \"16\", \"17\", \"18\", \"19\", \"20\", \"21\", \"22\", \"23\", \"24\", \"25\", \"26\", \"27\", \"28\", \"29\", \"30\", \"31\", \"32\", \"33\", \"34\", \"35\", \"36\", \"37\", \"38\", \"42\", \"43\", \"46\", \"48\", \"49\"], \"mode\": \"markers\", \"name\": \"norm_macro_recall\", \"stepped\": false, \"type\": \"scatter\", \"data\": [0.8693553852222914, 0.8236435280190738, 0.3911025378123853, 0.26699420153630776, 0.8000228827284227, 0.5543660312734991, 0.5465795345379644, 0.7094707527331018, 0.8699822167564474, 0.7177290373293698, 0.8499343558419278, 0.7373769720669673, 0.7489248873093688, 0.7128348915745429, 0.7879786520369727, 0.6582158787877935, 0.7854654167085275, 0.7256156605940922, 0.7840037744983187, 0.7804396867125357, 0.742118837472121, 0.7826033797410918, 0.43711128312212594, 0.0, 0.6829037404076738, 0.1980527124346073, 0.2260955450244447, 0.5161151228682628, 0.6350642446074192, 0.596596546886117, 0.0, 0.8600697003400178, 0.8660908408384342, 0.8411874515959162, 0.8683482202256979, 0.8671436995488971, 0.8609773681888774, 0.7368906252618245, 0.8384700580820071, 0.6917617007111495, 0.8600858998418367, 0.5511732213592698, 0.8759898352039258, 0.8770134008815192]}, {\"categories\": [\"0\", \"1\", \"2\", \"3\", \"4\", \"5\", \"6\", \"7\", \"8\", \"9\", \"10\", \"11\", \"12\", \"13\", \"14\", \"15\", \"16\", \"17\", \"18\", \"19\", \"20\", \"21\", \"22\", \"23\", \"24\", \"25\", \"26\", \"27\", \"28\", \"29\", \"30\", \"31\", \"32\", \"33\", \"34\", \"35\", \"36\", \"37\", \"38\", \"42\", \"43\", \"46\", \"48\", \"49\"], \"mode\": \"lines\", \"name\": \"norm_macro_recall_max\", \"stepped\": true, \"type\": \"scatter\", \"data\": [0.8693553852222914, 0.8693553852222914, 0.8693553852222914, 0.8693553852222914, 0.8693553852222914, 0.8693553852222914, 0.8693553852222914, 0.8693553852222914, 0.8699822167564474, 0.8699822167564474, 0.8699822167564474, 0.8699822167564474, 0.8699822167564474, 0.8699822167564474, 0.8699822167564474, 0.8699822167564474, 0.8699822167564474, 0.8699822167564474, 0.8699822167564474, 0.8699822167564474, 0.8699822167564474, 0.8699822167564474, 0.8699822167564474, 0.8699822167564474, 0.8699822167564474, 0.8699822167564474, 0.8699822167564474, 0.8699822167564474, 0.8699822167564474, 0.8699822167564474, 0.8699822167564474, 0.8699822167564474, 0.8699822167564474, 0.8699822167564474, 0.8699822167564474, 0.8699822167564474, 0.8699822167564474, 0.8699822167564474, 0.8699822167564474, 0.8699822167564474, 0.8699822167564474, 0.8699822167564474, 0.8759898352039258, 0.8770134008815192]}], \"matthews_correlation\": [{\"categories\": [\"0\", \"1\", \"2\", \"3\", \"4\", \"5\", \"6\", \"7\", \"8\", \"9\", \"10\", \"11\", \"12\", \"13\", \"14\", \"15\", \"16\", \"17\", \"18\", \"19\", \"20\", \"21\", \"22\", \"23\", \"24\", \"25\", \"26\", \"27\", \"28\", \"29\", \"30\", \"31\", \"32\", \"33\", \"34\", \"35\", \"36\", \"37\", \"38\", \"42\", \"43\", \"46\", \"48\", \"49\"], \"mode\": \"markers\", \"name\": \"matthews_correlation\", \"stepped\": false, \"type\": \"scatter\", \"data\": [0.886617900508924, 0.8584509833070508, 0.5383485320150344, 0.43924999567149764, 0.7121623564854868, 0.6189777947202796, 0.6802494919527383, 0.5986288371783961, 0.8887221609554347, 0.7665404718170375, 0.8730485330296469, 0.7797354017463781, 0.794151947755633, 0.7626508235421587, 0.8242883823347872, 0.7362251011688361, 0.8255440111051714, 0.7843145166906845, 0.8201460896597877, 0.8233172689253844, 0.7919564341301215, 0.818162815817348, 0.60001181175817, 0.0, 0.7540702458999702, 0.39846888472349223, 0.4355932922993187, 0.6591567079262696, 0.7085260607347544, 0.7007027988871126, 0.0, 0.8823623529646906, 0.8859433452647063, 0.8700909088309757, 0.8859358300192043, 0.8842469142264472, 0.8796122750369811, 0.7852478382595435, 0.8723428196184547, 0.5781439438600793, 0.8866002718479499, 0.617791692321936, 0.8963294119983588, 0.8940506033705611]}, {\"categories\": [\"0\", \"1\", \"2\", \"3\", \"4\", \"5\", \"6\", \"7\", \"8\", \"9\", \"10\", \"11\", \"12\", \"13\", \"14\", \"15\", \"16\", \"17\", \"18\", \"19\", \"20\", \"21\", \"22\", \"23\", \"24\", \"25\", \"26\", \"27\", \"28\", \"29\", \"30\", \"31\", \"32\", \"33\", \"34\", \"35\", \"36\", \"37\", \"38\", \"42\", \"43\", \"46\", \"48\", \"49\"], \"mode\": \"lines\", \"name\": \"matthews_correlation_max\", \"stepped\": true, \"type\": \"scatter\", \"data\": [0.886617900508924, 0.886617900508924, 0.886617900508924, 0.886617900508924, 0.886617900508924, 0.886617900508924, 0.886617900508924, 0.886617900508924, 0.8887221609554347, 0.8887221609554347, 0.8887221609554347, 0.8887221609554347, 0.8887221609554347, 0.8887221609554347, 0.8887221609554347, 0.8887221609554347, 0.8887221609554347, 0.8887221609554347, 0.8887221609554347, 0.8887221609554347, 0.8887221609554347, 0.8887221609554347, 0.8887221609554347, 0.8887221609554347, 0.8887221609554347, 0.8887221609554347, 0.8887221609554347, 0.8887221609554347, 0.8887221609554347, 0.8887221609554347, 0.8887221609554347, 0.8887221609554347, 0.8887221609554347, 0.8887221609554347, 0.8887221609554347, 0.8887221609554347, 0.8887221609554347, 0.8887221609554347, 0.8887221609554347, 0.8887221609554347, 0.8887221609554347, 0.8887221609554347, 0.8963294119983588, 0.8963294119983588]}], \"recall_score_weighted\": [{\"categories\": [\"0\", \"1\", \"2\", \"3\", \"4\", \"5\", \"6\", \"7\", \"8\", \"9\", \"10\", \"11\", \"12\", \"13\", \"14\", \"15\", \"16\", \"17\", \"18\", \"19\", \"20\", \"21\", \"22\", \"23\", \"24\", \"25\", \"26\", \"27\", \"28\", \"29\", \"30\", \"31\", \"32\", \"33\", \"34\", \"35\", \"36\", \"37\", \"38\", \"42\", \"43\", \"46\", \"48\", \"49\"], \"mode\": \"markers\", \"name\": \"recall_score_weighted\", \"stepped\": false, \"type\": \"scatter\", \"data\": [0.9696335605011405, 0.9625975747436936, 0.8908772242562196, 0.8743342886265261, 0.9065547739520343, 0.9044564198902098, 0.9205030144299551, 0.8561900256420804, 0.9702509358673742, 0.9395135775044451, 0.9661772274557663, 0.9425999515497233, 0.9464257408093024, 0.9386496085126222, 0.9538330568010934, 0.9329709618294092, 0.954327021085012, 0.9440804731672312, 0.9527218542743657, 0.9538332396323264, 0.9459325535581243, 0.9522277985748305, 0.9034681713677147, 0.8373035592670296, 0.9370442588707428, 0.8679170494695608, 0.8731017318688551, 0.9159360730593606, 0.9261817525287844, 0.9249467732572757, 0.8373035592670296, 0.9686462718426189, 0.9695101494188253, 0.9655602634598068, 0.969510423665675, 0.9690162765505231, 0.9677818914805217, 0.944204341327629, 0.9661771817479581, 0.8464392246127406, 0.9698805654970039, 0.9043329173922782, 0.9723496555916648, 0.9716088234353074]}, {\"categories\": [\"0\", \"1\", \"2\", \"3\", \"4\", \"5\", \"6\", \"7\", \"8\", \"9\", \"10\", \"11\", \"12\", \"13\", \"14\", \"15\", \"16\", \"17\", \"18\", \"19\", \"20\", \"21\", \"22\", \"23\", \"24\", \"25\", \"26\", \"27\", \"28\", \"29\", \"30\", \"31\", \"32\", \"33\", \"34\", \"35\", \"36\", \"37\", \"38\", \"42\", \"43\", \"46\", \"48\", \"49\"], \"mode\": \"lines\", \"name\": \"recall_score_weighted_max\", \"stepped\": true, \"type\": \"scatter\", \"data\": [0.9696335605011405, 0.9696335605011405, 0.9696335605011405, 0.9696335605011405, 0.9696335605011405, 0.9696335605011405, 0.9696335605011405, 0.9696335605011405, 0.9702509358673742, 0.9702509358673742, 0.9702509358673742, 0.9702509358673742, 0.9702509358673742, 0.9702509358673742, 0.9702509358673742, 0.9702509358673742, 0.9702509358673742, 0.9702509358673742, 0.9702509358673742, 0.9702509358673742, 0.9702509358673742, 0.9702509358673742, 0.9702509358673742, 0.9702509358673742, 0.9702509358673742, 0.9702509358673742, 0.9702509358673742, 0.9702509358673742, 0.9702509358673742, 0.9702509358673742, 0.9702509358673742, 0.9702509358673742, 0.9702509358673742, 0.9702509358673742, 0.9702509358673742, 0.9702509358673742, 0.9702509358673742, 0.9702509358673742, 0.9702509358673742, 0.9702509358673742, 0.9702509358673742, 0.9702509358673742, 0.9723496555916648, 0.9723496555916648]}], \"AUC_micro\": [{\"categories\": [\"0\", \"1\", \"2\", \"3\", \"4\", \"5\", \"6\", \"7\", \"8\", \"9\", \"10\", \"11\", \"12\", \"13\", \"14\", \"15\", \"16\", \"17\", \"18\", \"19\", \"20\", \"21\", \"22\", \"23\", \"24\", \"25\", \"26\", \"27\", \"28\", \"29\", \"30\", \"31\", \"32\", \"33\", \"34\", \"35\", \"36\", \"37\", \"38\", \"42\", \"43\", \"46\", \"48\", \"49\"], \"mode\": \"markers\", \"name\": \"AUC_micro\", \"stepped\": false, \"type\": \"scatter\", \"data\": [0.9961908104703002, 0.9941827829988776, 0.9633135916883752, 0.9562202525969008, 0.9640408663967247, 0.9649915375297345, 0.9818943923766623, 0.9260344409664448, 0.9961922558475997, 0.9863114276636092, 0.9950637339532437, 0.9882170976579706, 0.9892906124312727, 0.9860749468553561, 0.9918032998779536, 0.984005080870371, 0.9923613398405154, 0.9882735364380649, 0.9907841266104717, 0.9922709382524109, 0.9892047078621644, 0.9907868939768463, 0.9701030859075105, 0.8373035592670296, 0.9862651692681627, 0.952879832800944, 0.960075615521243, 0.9787418444221547, 0.9787990076807939, 0.9813690446321229, 0.8373035592670296, 0.995959032852804, 0.9961286299309567, 0.9949357683046003, 0.9963766408202686, 0.9961086196164456, 0.9958981951634334, 0.9883572091948455, 0.9951724875703706, 0.9234499776870567, 0.995813725477713, 0.9649871082219296, 0.996355287029537, 0.9953234970732202]}, {\"categories\": [\"0\", \"1\", \"2\", \"3\", \"4\", \"5\", \"6\", \"7\", \"8\", \"9\", \"10\", \"11\", \"12\", \"13\", \"14\", \"15\", \"16\", \"17\", \"18\", \"19\", \"20\", \"21\", \"22\", \"23\", \"24\", \"25\", \"26\", \"27\", \"28\", \"29\", \"30\", \"31\", \"32\", \"33\", \"34\", \"35\", \"36\", \"37\", \"38\", \"42\", \"43\", \"46\", \"48\", \"49\"], \"mode\": \"lines\", \"name\": \"AUC_micro_max\", \"stepped\": true, \"type\": \"scatter\", \"data\": [0.9961908104703002, 0.9961908104703002, 0.9961908104703002, 0.9961908104703002, 0.9961908104703002, 0.9961908104703002, 0.9961908104703002, 0.9961908104703002, 0.9961922558475997, 0.9961922558475997, 0.9961922558475997, 0.9961922558475997, 0.9961922558475997, 0.9961922558475997, 0.9961922558475997, 0.9961922558475997, 0.9961922558475997, 0.9961922558475997, 0.9961922558475997, 0.9961922558475997, 0.9961922558475997, 0.9961922558475997, 0.9961922558475997, 0.9961922558475997, 0.9961922558475997, 0.9961922558475997, 0.9961922558475997, 0.9961922558475997, 0.9961922558475997, 0.9961922558475997, 0.9961922558475997, 0.9961922558475997, 0.9961922558475997, 0.9961922558475997, 0.9963766408202686, 0.9963766408202686, 0.9963766408202686, 0.9963766408202686, 0.9963766408202686, 0.9963766408202686, 0.9963766408202686, 0.9963766408202686, 0.9963766408202686, 0.9963766408202686]}], \"f1_score_micro\": [{\"categories\": [\"0\", \"1\", \"2\", \"3\", \"4\", \"5\", \"6\", \"7\", \"8\", \"9\", \"10\", \"11\", \"12\", \"13\", \"14\", \"15\", \"16\", \"17\", \"18\", \"19\", \"20\", \"21\", \"22\", \"23\", \"24\", \"25\", \"26\", \"27\", \"28\", \"29\", \"30\", \"31\", \"32\", \"33\", \"34\", \"35\", \"36\", \"37\", \"38\", \"42\", \"43\", \"46\", \"48\", \"49\"], \"mode\": \"markers\", \"name\": \"f1_score_micro\", \"stepped\": false, \"type\": \"scatter\", \"data\": [0.9696335605011405, 0.9625975747436936, 0.8908772242562196, 0.8743342886265261, 0.9065547739520342, 0.9044564198902098, 0.9205030144299551, 0.8561900256420804, 0.9702509358673742, 0.9395135775044451, 0.9661772274557663, 0.9425999515497233, 0.9464257408093024, 0.9386496085126222, 0.9538330568010934, 0.9329709618294092, 0.954327021085012, 0.9440804731672312, 0.9527218542743657, 0.9538332396323264, 0.9459325535581243, 0.9522277985748305, 0.9034681713677147, 0.8373035592670296, 0.9370442588707428, 0.8679170494695608, 0.8731017318688551, 0.9159360730593606, 0.9261817525287844, 0.9249467732572757, 0.8373035592670296, 0.9686462718426189, 0.9695101494188253, 0.9655602634598068, 0.969510423665675, 0.9690162765505231, 0.9677818914805217, 0.944204341327629, 0.9661771817479581, 0.8464392246127406, 0.9698805654970039, 0.9043329173922782, 0.9723496555916648, 0.9716088234353074]}, {\"categories\": [\"0\", \"1\", \"2\", \"3\", \"4\", \"5\", \"6\", \"7\", \"8\", \"9\", \"10\", \"11\", \"12\", \"13\", \"14\", \"15\", \"16\", \"17\", \"18\", \"19\", \"20\", \"21\", \"22\", \"23\", \"24\", \"25\", \"26\", \"27\", \"28\", \"29\", \"30\", \"31\", \"32\", \"33\", \"34\", \"35\", \"36\", \"37\", \"38\", \"42\", \"43\", \"46\", \"48\", \"49\"], \"mode\": \"lines\", \"name\": \"f1_score_micro_max\", \"stepped\": true, \"type\": \"scatter\", \"data\": [0.9696335605011405, 0.9696335605011405, 0.9696335605011405, 0.9696335605011405, 0.9696335605011405, 0.9696335605011405, 0.9696335605011405, 0.9696335605011405, 0.9702509358673742, 0.9702509358673742, 0.9702509358673742, 0.9702509358673742, 0.9702509358673742, 0.9702509358673742, 0.9702509358673742, 0.9702509358673742, 0.9702509358673742, 0.9702509358673742, 0.9702509358673742, 0.9702509358673742, 0.9702509358673742, 0.9702509358673742, 0.9702509358673742, 0.9702509358673742, 0.9702509358673742, 0.9702509358673742, 0.9702509358673742, 0.9702509358673742, 0.9702509358673742, 0.9702509358673742, 0.9702509358673742, 0.9702509358673742, 0.9702509358673742, 0.9702509358673742, 0.9702509358673742, 0.9702509358673742, 0.9702509358673742, 0.9702509358673742, 0.9702509358673742, 0.9702509358673742, 0.9702509358673742, 0.9702509358673742, 0.9723496555916648, 0.9723496555916648]}], \"log_loss\": [{\"categories\": [\"0\", \"1\", \"2\", \"3\", \"4\", \"5\", \"6\", \"7\", \"8\", \"9\", \"10\", \"11\", \"12\", \"13\", \"14\", \"15\", \"16\", \"17\", \"18\", \"19\", \"20\", \"21\", \"22\", \"23\", \"24\", \"25\", \"26\", \"27\", \"28\", \"29\", \"30\", \"31\", \"32\", \"33\", \"34\", \"35\", \"36\", \"37\", \"38\", \"42\", \"43\", \"46\", \"48\", \"49\"], \"mode\": \"markers\", \"name\": \"log_loss\", \"stepped\": false, \"type\": \"scatter\", \"data\": [0.07915032906153031, 0.10679036421544867, 0.26140903125219955, 0.28651604070368303, 0.3000702666506731, 0.23868931716497124, 0.20919016508600952, 0.40917336677601596, 0.07778715671180038, 0.18077491921415412, 0.0926775264948292, 0.16774605687624766, 0.13701400390158328, 0.17890965911818227, 0.11625327918868861, 0.314303384818754, 0.11346824159259694, 0.15135457491418894, 0.125629681157648, 0.11557227306294142, 0.14145567108774523, 0.1394351499970463, 0.25485130690091506, 0.4464462014664952, 0.19402023531447943, 0.302056930941669, 0.28947544692943533, 0.21653211671453354, 0.32697959254844217, 0.19677185729498634, 0.4442869189455811, 0.08100076184371681, 0.07964038983420814, 0.09595074452952242, 0.07634634462903404, 0.08426368812401493, 0.08118879122521665, 0.14439309901670536, 0.10038365810366952, 0.3523433729148706, 0.08375741274764632, 0.2386478429341047, 0.07728542595824862, 0.09017889703019043]}, {\"categories\": [\"0\", \"1\", \"2\", \"3\", \"4\", \"5\", \"6\", \"7\", \"8\", \"9\", \"10\", \"11\", \"12\", \"13\", \"14\", \"15\", \"16\", \"17\", \"18\", \"19\", \"20\", \"21\", \"22\", \"23\", \"24\", \"25\", \"26\", \"27\", \"28\", \"29\", \"30\", \"31\", \"32\", \"33\", \"34\", \"35\", \"36\", \"37\", \"38\", \"42\", \"43\", \"46\", \"48\", \"49\"], \"mode\": \"lines\", \"name\": \"log_loss_min\", \"stepped\": true, \"type\": \"scatter\", \"data\": [0.07915032906153031, 0.07915032906153031, 0.07915032906153031, 0.07915032906153031, 0.07915032906153031, 0.07915032906153031, 0.07915032906153031, 0.07915032906153031, 0.07778715671180038, 0.07778715671180038, 0.07778715671180038, 0.07778715671180038, 0.07778715671180038, 0.07778715671180038, 0.07778715671180038, 0.07778715671180038, 0.07778715671180038, 0.07778715671180038, 0.07778715671180038, 0.07778715671180038, 0.07778715671180038, 0.07778715671180038, 0.07778715671180038, 0.07778715671180038, 0.07778715671180038, 0.07778715671180038, 0.07778715671180038, 0.07778715671180038, 0.07778715671180038, 0.07778715671180038, 0.07778715671180038, 0.07778715671180038, 0.07778715671180038, 0.07778715671180038, 0.07634634462903404, 0.07634634462903404, 0.07634634462903404, 0.07634634462903404, 0.07634634462903404, 0.07634634462903404, 0.07634634462903404, 0.07634634462903404, 0.07634634462903404, 0.07634634462903404]}], \"accuracy\": [{\"categories\": [\"0\", \"1\", \"2\", \"3\", \"4\", \"5\", \"6\", \"7\", \"8\", \"9\", \"10\", \"11\", \"12\", \"13\", \"14\", \"15\", \"16\", \"17\", \"18\", \"19\", \"20\", \"21\", \"22\", \"23\", \"24\", \"25\", \"26\", \"27\", \"28\", \"29\", \"30\", \"31\", \"32\", \"33\", \"34\", \"35\", \"36\", \"37\", \"38\", \"42\", \"43\", \"46\", \"48\", \"49\"], \"mode\": \"markers\", \"name\": \"accuracy\", \"stepped\": false, \"type\": \"scatter\", \"data\": [0.9696335605011405, 0.9625975747436936, 0.8908772242562196, 0.8743342886265261, 0.9065547739520343, 0.9044564198902098, 0.9205030144299551, 0.8561900256420804, 0.9702509358673742, 0.9395135775044451, 0.9661772274557663, 0.9425999515497233, 0.9464257408093024, 0.9386496085126222, 0.9538330568010934, 0.9329709618294092, 0.954327021085012, 0.9440804731672312, 0.9527218542743657, 0.9538332396323264, 0.9459325535581243, 0.9522277985748305, 0.9034681713677147, 0.8373035592670296, 0.9370442588707428, 0.8679170494695608, 0.8731017318688551, 0.9159360730593606, 0.9261817525287844, 0.9249467732572757, 0.8373035592670296, 0.9686462718426189, 0.9695101494188253, 0.9655602634598068, 0.969510423665675, 0.9690162765505231, 0.9677818914805217, 0.944204341327629, 0.9661771817479581, 0.8464392246127406, 0.9698805654970039, 0.9043329173922782, 0.9723496555916648, 0.9716088234353074]}, {\"categories\": [\"0\", \"1\", \"2\", \"3\", \"4\", \"5\", \"6\", \"7\", \"8\", \"9\", \"10\", \"11\", \"12\", \"13\", \"14\", \"15\", \"16\", \"17\", \"18\", \"19\", \"20\", \"21\", \"22\", \"23\", \"24\", \"25\", \"26\", \"27\", \"28\", \"29\", \"30\", \"31\", \"32\", \"33\", \"34\", \"35\", \"36\", \"37\", \"38\", \"42\", \"43\", \"46\", \"48\", \"49\"], \"mode\": \"lines\", \"name\": \"accuracy_max\", \"stepped\": true, \"type\": \"scatter\", \"data\": [0.9696335605011405, 0.9696335605011405, 0.9696335605011405, 0.9696335605011405, 0.9696335605011405, 0.9696335605011405, 0.9696335605011405, 0.9696335605011405, 0.9702509358673742, 0.9702509358673742, 0.9702509358673742, 0.9702509358673742, 0.9702509358673742, 0.9702509358673742, 0.9702509358673742, 0.9702509358673742, 0.9702509358673742, 0.9702509358673742, 0.9702509358673742, 0.9702509358673742, 0.9702509358673742, 0.9702509358673742, 0.9702509358673742, 0.9702509358673742, 0.9702509358673742, 0.9702509358673742, 0.9702509358673742, 0.9702509358673742, 0.9702509358673742, 0.9702509358673742, 0.9702509358673742, 0.9702509358673742, 0.9702509358673742, 0.9702509358673742, 0.9702509358673742, 0.9702509358673742, 0.9702509358673742, 0.9702509358673742, 0.9702509358673742, 0.9702509358673742, 0.9702509358673742, 0.9702509358673742, 0.9723496555916648, 0.9723496555916648]}], \"f1_score_weighted\": [{\"categories\": [\"0\", \"1\", \"2\", \"3\", \"4\", \"5\", \"6\", \"7\", \"8\", \"9\", \"10\", \"11\", \"12\", \"13\", \"14\", \"15\", \"16\", \"17\", \"18\", \"19\", \"20\", \"21\", \"22\", \"23\", \"24\", \"25\", \"26\", \"27\", \"28\", \"29\", \"30\", \"31\", \"32\", \"33\", \"34\", \"35\", \"36\", \"37\", \"38\", \"42\", \"43\", \"46\", \"48\", \"49\"], \"mode\": \"markers\", \"name\": \"f1_score_weighted\", \"stepped\": false, \"type\": \"scatter\", \"data\": [0.9693367734175294, 0.9618155090877781, 0.8740864458892182, 0.8438281193040528, 0.9119360806017763, 0.8991500747250751, 0.9120382011206534, 0.8681631383490699, 0.9699243669140715, 0.937512970902466, 0.9657168082814026, 0.9409811632278252, 0.944807550692282, 0.9365495887176074, 0.952777484003512, 0.9292047781210645, 0.9531653555875051, 0.9419327939549285, 0.9516622493730074, 0.9525610875592735, 0.9441744956205539, 0.9511532705300402, 0.8889408029414639, 0.7631713985796408, 0.9339283474586567, 0.829799074895572, 0.8380548735268792, 0.9059655984166856, 0.9221283303327791, 0.9189959106080465, 0.7631713985796408, 0.9682258779455403, 0.9691548691432798, 0.9649756611570456, 0.9691814644038962, 0.9687087466924617, 0.9674291672872792, 0.9424278347516566, 0.9655075231529467, 0.8598776784804888, 0.9694113113535724, 0.8988405775357444, 0.9720084982652897, 0.9713219649966011]}, {\"categories\": [\"0\", \"1\", \"2\", \"3\", \"4\", \"5\", \"6\", \"7\", \"8\", \"9\", \"10\", \"11\", \"12\", \"13\", \"14\", \"15\", \"16\", \"17\", \"18\", \"19\", \"20\", \"21\", \"22\", \"23\", \"24\", \"25\", \"26\", \"27\", \"28\", \"29\", \"30\", \"31\", \"32\", \"33\", \"34\", \"35\", \"36\", \"37\", \"38\", \"42\", \"43\", \"46\", \"48\", \"49\"], \"mode\": \"lines\", \"name\": \"f1_score_weighted_max\", \"stepped\": true, \"type\": \"scatter\", \"data\": [0.9693367734175294, 0.9693367734175294, 0.9693367734175294, 0.9693367734175294, 0.9693367734175294, 0.9693367734175294, 0.9693367734175294, 0.9693367734175294, 0.9699243669140715, 0.9699243669140715, 0.9699243669140715, 0.9699243669140715, 0.9699243669140715, 0.9699243669140715, 0.9699243669140715, 0.9699243669140715, 0.9699243669140715, 0.9699243669140715, 0.9699243669140715, 0.9699243669140715, 0.9699243669140715, 0.9699243669140715, 0.9699243669140715, 0.9699243669140715, 0.9699243669140715, 0.9699243669140715, 0.9699243669140715, 0.9699243669140715, 0.9699243669140715, 0.9699243669140715, 0.9699243669140715, 0.9699243669140715, 0.9699243669140715, 0.9699243669140715, 0.9699243669140715, 0.9699243669140715, 0.9699243669140715, 0.9699243669140715, 0.9699243669140715, 0.9699243669140715, 0.9699243669140715, 0.9699243669140715, 0.9720084982652897, 0.9720084982652897]}], \"precision_score_macro\": [{\"categories\": [\"0\", \"1\", \"2\", \"3\", \"4\", \"5\", \"6\", \"7\", \"8\", \"9\", \"10\", \"11\", \"12\", \"13\", \"14\", \"15\", \"16\", \"17\", \"18\", \"19\", \"20\", \"21\", \"22\", \"23\", \"24\", \"25\", \"26\", \"27\", \"28\", \"29\", \"30\", \"31\", \"32\", \"33\", \"34\", \"35\", \"36\", \"37\", \"38\", \"42\", \"43\", \"46\", \"48\", \"49\"], \"mode\": \"markers\", \"name\": \"precision_score_macro\", \"stepped\": false, \"type\": \"scatter\", \"data\": [0.9522266843806197, 0.9474683178941364, 0.8724317114467439, 0.8784049129763966, 0.8169760352826166, 0.845685043341564, 0.9233368586598573, 0.7525640463448099, 0.9540612332161942, 0.90938101291355, 0.9484413687242098, 0.9122993911232794, 0.921173652098448, 0.9080138798845786, 0.9312953305069375, 0.9119180003939206, 0.9339329347747078, 0.923950759918554, 0.9290202481037726, 0.9344051598274437, 0.9226050109237663, 0.9276964552304818, 0.9118711492617346, 0.4186517796335148, 0.9163350079383452, 0.9012623194522053, 0.9200589591190598, 0.9209263240811961, 0.8953237725561117, 0.9114899193389959, 0.4186517796335148, 0.9526990097218597, 0.9532092941581976, 0.9500746922092335, 0.9520727749003114, 0.9509206836958181, 0.9494066757164109, 0.9184329906803166, 0.9538617171469926, 0.7416058909600723, 0.957042941364859, 0.8463610347306328, 0.9586994448199158, 0.9559322178483636]}, {\"categories\": [\"0\", \"1\", \"2\", \"3\", \"4\", \"5\", \"6\", \"7\", \"8\", \"9\", \"10\", \"11\", \"12\", \"13\", \"14\", \"15\", \"16\", \"17\", \"18\", \"19\", \"20\", \"21\", \"22\", \"23\", \"24\", \"25\", \"26\", \"27\", \"28\", \"29\", \"30\", \"31\", \"32\", \"33\", \"34\", \"35\", \"36\", \"37\", \"38\", \"42\", \"43\", \"46\", \"48\", \"49\"], \"mode\": \"lines\", \"name\": \"precision_score_macro_max\", \"stepped\": true, \"type\": \"scatter\", \"data\": [0.9522266843806197, 0.9522266843806197, 0.9522266843806197, 0.9522266843806197, 0.9522266843806197, 0.9522266843806197, 0.9522266843806197, 0.9522266843806197, 0.9540612332161942, 0.9540612332161942, 0.9540612332161942, 0.9540612332161942, 0.9540612332161942, 0.9540612332161942, 0.9540612332161942, 0.9540612332161942, 0.9540612332161942, 0.9540612332161942, 0.9540612332161942, 0.9540612332161942, 0.9540612332161942, 0.9540612332161942, 0.9540612332161942, 0.9540612332161942, 0.9540612332161942, 0.9540612332161942, 0.9540612332161942, 0.9540612332161942, 0.9540612332161942, 0.9540612332161942, 0.9540612332161942, 0.9540612332161942, 0.9540612332161942, 0.9540612332161942, 0.9540612332161942, 0.9540612332161942, 0.9540612332161942, 0.9540612332161942, 0.9540612332161942, 0.9540612332161942, 0.957042941364859, 0.957042941364859, 0.9586994448199158, 0.9586994448199158]}], \"weighted_accuracy\": [{\"categories\": [\"0\", \"1\", \"2\", \"3\", \"4\", \"5\", \"6\", \"7\", \"8\", \"9\", \"10\", \"11\", \"12\", \"13\", \"14\", \"15\", \"16\", \"17\", \"18\", \"19\", \"20\", \"21\", \"22\", \"23\", \"24\", \"25\", \"26\", \"27\", \"28\", \"29\", \"30\", \"31\", \"32\", \"33\", \"34\", \"35\", \"36\", \"37\", \"38\", \"42\", \"43\", \"46\", \"48\", \"49\"], \"mode\": \"markers\", \"name\": \"weighted_accuracy\", \"stepped\": false, \"type\": \"scatter\", \"data\": [0.9826914098941565, 0.981573479404816, 0.9641721460588101, 0.9649428608874006, 0.9089433472486216, 0.9518856275189181, 0.9755550314716039, 0.856645209868994, 0.9834062358694972, 0.9695634639083086, 0.9815667793570703, 0.9701348423809515, 0.973177495020597, 0.9692678519351904, 0.976094627831281, 0.9716541964933739, 0.977239519301328, 0.9744386617671278, 0.9753694153075333, 0.9774755489253102, 0.9738522136576946, 0.9749179307724773, 0.9726487806246041, 0.9635304322903258, 0.9727600568502698, 0.9684762053427735, 0.9704992439889687, 0.9749936188153193, 0.9666912757698465, 0.9723177903194351, 0.9635304322903258, 0.9830418341227226, 0.9831154195617705, 0.982358151429417, 0.9826718742006447, 0.9822124541916764, 0.9816954684454271, 0.9724406791024363, 0.9837391967618904, 0.8465044116888478, 0.984705386092692, 0.9523145002635593, 0.9851420941464112, 0.983944699820314]}, {\"categories\": [\"0\", \"1\", \"2\", \"3\", \"4\", \"5\", \"6\", \"7\", \"8\", \"9\", \"10\", \"11\", \"12\", \"13\", \"14\", \"15\", \"16\", \"17\", \"18\", \"19\", \"20\", \"21\", \"22\", \"23\", \"24\", \"25\", \"26\", \"27\", \"28\", \"29\", \"30\", \"31\", \"32\", \"33\", \"34\", \"35\", \"36\", \"37\", \"38\", \"42\", \"43\", \"46\", \"48\", \"49\"], \"mode\": \"lines\", \"name\": \"weighted_accuracy_max\", \"stepped\": true, \"type\": \"scatter\", \"data\": [0.9826914098941565, 0.9826914098941565, 0.9826914098941565, 0.9826914098941565, 0.9826914098941565, 0.9826914098941565, 0.9826914098941565, 0.9826914098941565, 0.9834062358694972, 0.9834062358694972, 0.9834062358694972, 0.9834062358694972, 0.9834062358694972, 0.9834062358694972, 0.9834062358694972, 0.9834062358694972, 0.9834062358694972, 0.9834062358694972, 0.9834062358694972, 0.9834062358694972, 0.9834062358694972, 0.9834062358694972, 0.9834062358694972, 0.9834062358694972, 0.9834062358694972, 0.9834062358694972, 0.9834062358694972, 0.9834062358694972, 0.9834062358694972, 0.9834062358694972, 0.9834062358694972, 0.9834062358694972, 0.9834062358694972, 0.9834062358694972, 0.9834062358694972, 0.9834062358694972, 0.9834062358694972, 0.9834062358694972, 0.9837391967618904, 0.9837391967618904, 0.984705386092692, 0.984705386092692, 0.9851420941464112, 0.9851420941464112]}], \"precision_score_weighted\": [{\"categories\": [\"0\", \"1\", \"2\", \"3\", \"4\", \"5\", \"6\", \"7\", \"8\", \"9\", \"10\", \"11\", \"12\", \"13\", \"14\", \"15\", \"16\", \"17\", \"18\", \"19\", \"20\", \"21\", \"22\", \"23\", \"24\", \"25\", \"26\", \"27\", \"28\", \"29\", \"30\", \"31\", \"32\", \"33\", \"34\", \"35\", \"36\", \"37\", \"38\", \"42\", \"43\", \"46\", \"48\", \"49\"], \"mode\": \"markers\", \"name\": \"precision_score_weighted\", \"stepped\": false, \"type\": \"scatter\", \"data\": [0.9693797010512032, 0.9620284310258826, 0.8879505046127036, 0.8770118561978274, 0.9250950018363883, 0.8985055750409453, 0.9209750862233199, 0.8975971740954405, 0.9699852100231375, 0.9375234826597275, 0.9656846706849729, 0.9408441249983346, 0.9449051252527753, 0.9365507029878316, 0.9528755840802092, 0.9308618947568353, 0.9533104224683114, 0.9426158742032054, 0.9516447635409496, 0.9527966839767581, 0.9444225272467778, 0.9510639356162617, 0.9052078271469645, 0.7011160233823897, 0.9351262969998664, 0.8771914146437879, 0.885866252460718, 0.916847442730696, 0.9230748501182936, 0.9231758677893804, 0.7011160233823897, 0.9682396847979392, 0.9691634987798049, 0.9650830683188959, 0.9692133805636036, 0.9686858739435565, 0.9674065018676014, 0.9425686941321034, 0.9657361951976046, 0.8929048536901089, 0.9695060764314505, 0.8983114568002303, 0.9720909775601103, 0.9714824450908045]}, {\"categories\": [\"0\", \"1\", \"2\", \"3\", \"4\", \"5\", \"6\", \"7\", \"8\", \"9\", \"10\", \"11\", \"12\", \"13\", \"14\", \"15\", \"16\", \"17\", \"18\", \"19\", \"20\", \"21\", \"22\", \"23\", \"24\", \"25\", \"26\", \"27\", \"28\", \"29\", \"30\", \"31\", \"32\", \"33\", \"34\", \"35\", \"36\", \"37\", \"38\", \"42\", \"43\", \"46\", \"48\", \"49\"], \"mode\": \"lines\", \"name\": \"precision_score_weighted_max\", \"stepped\": true, \"type\": \"scatter\", \"data\": [0.9693797010512032, 0.9693797010512032, 0.9693797010512032, 0.9693797010512032, 0.9693797010512032, 0.9693797010512032, 0.9693797010512032, 0.9693797010512032, 0.9699852100231375, 0.9699852100231375, 0.9699852100231375, 0.9699852100231375, 0.9699852100231375, 0.9699852100231375, 0.9699852100231375, 0.9699852100231375, 0.9699852100231375, 0.9699852100231375, 0.9699852100231375, 0.9699852100231375, 0.9699852100231375, 0.9699852100231375, 0.9699852100231375, 0.9699852100231375, 0.9699852100231375, 0.9699852100231375, 0.9699852100231375, 0.9699852100231375, 0.9699852100231375, 0.9699852100231375, 0.9699852100231375, 0.9699852100231375, 0.9699852100231375, 0.9699852100231375, 0.9699852100231375, 0.9699852100231375, 0.9699852100231375, 0.9699852100231375, 0.9699852100231375, 0.9699852100231375, 0.9699852100231375, 0.9699852100231375, 0.9720909775601103, 0.9720909775601103]}], \"balanced_accuracy\": [{\"categories\": [\"0\", \"1\", \"2\", \"3\", \"4\", \"5\", \"6\", \"7\", \"8\", \"9\", \"10\", \"11\", \"12\", \"13\", \"14\", \"15\", \"16\", \"17\", \"18\", \"19\", \"20\", \"21\", \"22\", \"23\", \"24\", \"25\", \"26\", \"27\", \"28\", \"29\", \"30\", \"31\", \"32\", \"33\", \"34\", \"35\", \"36\", \"37\", \"38\", \"42\", \"43\", \"46\", \"48\", \"49\"], \"mode\": \"markers\", \"name\": \"balanced_accuracy\", \"stepped\": false, \"type\": \"scatter\", \"data\": [0.9346776926111456, 0.9118217640095369, 0.6955512689061926, 0.6334971007681539, 0.9000114413642114, 0.7771830156367496, 0.7732897672689822, 0.8547353763665507, 0.9349911083782237, 0.8588645186646849, 0.9249671779209638, 0.8686884860334837, 0.8744624436546844, 0.8564174457872715, 0.8939893260184864, 0.8291079393938968, 0.8927327083542638, 0.862807830297046, 0.8920018872491594, 0.8902198433562679, 0.8710594187360604, 0.8913016898705459, 0.7185556415610629, 0.5, 0.8414518702038368, 0.5990263562173036, 0.6130477725122224, 0.7580575614341315, 0.8175321223037096, 0.7982982734430584, 0.5, 0.9300348501700088, 0.9330454204192171, 0.9205937257979581, 0.934174110112849, 0.9335718497744486, 0.9304886840944387, 0.8684453126309123, 0.9192350290410035, 0.8458808503555747, 0.9300429499209183, 0.7755866106796349, 0.937994917601963, 0.9385067004407596]}, {\"categories\": [\"0\", \"1\", \"2\", \"3\", \"4\", \"5\", \"6\", \"7\", \"8\", \"9\", \"10\", \"11\", \"12\", \"13\", \"14\", \"15\", \"16\", \"17\", \"18\", \"19\", \"20\", \"21\", \"22\", \"23\", \"24\", \"25\", \"26\", \"27\", \"28\", \"29\", \"30\", \"31\", \"32\", \"33\", \"34\", \"35\", \"36\", \"37\", \"38\", \"42\", \"43\", \"46\", \"48\", \"49\"], \"mode\": \"lines\", \"name\": \"balanced_accuracy_max\", \"stepped\": true, \"type\": \"scatter\", \"data\": [0.9346776926111456, 0.9346776926111456, 0.9346776926111456, 0.9346776926111456, 0.9346776926111456, 0.9346776926111456, 0.9346776926111456, 0.9346776926111456, 0.9349911083782237, 0.9349911083782237, 0.9349911083782237, 0.9349911083782237, 0.9349911083782237, 0.9349911083782237, 0.9349911083782237, 0.9349911083782237, 0.9349911083782237, 0.9349911083782237, 0.9349911083782237, 0.9349911083782237, 0.9349911083782237, 0.9349911083782237, 0.9349911083782237, 0.9349911083782237, 0.9349911083782237, 0.9349911083782237, 0.9349911083782237, 0.9349911083782237, 0.9349911083782237, 0.9349911083782237, 0.9349911083782237, 0.9349911083782237, 0.9349911083782237, 0.9349911083782237, 0.9349911083782237, 0.9349911083782237, 0.9349911083782237, 0.9349911083782237, 0.9349911083782237, 0.9349911083782237, 0.9349911083782237, 0.9349911083782237, 0.937994917601963, 0.9385067004407596]}], \"AUC_macro\": [{\"categories\": [\"0\", \"1\", \"2\", \"3\", \"4\", \"5\", \"6\", \"7\", \"8\", \"9\", \"10\", \"11\", \"12\", \"13\", \"14\", \"15\", \"16\", \"17\", \"18\", \"19\", \"20\", \"21\", \"22\", \"23\", \"24\", \"25\", \"26\", \"27\", \"28\", \"29\", \"30\", \"31\", \"32\", \"33\", \"34\", \"35\", \"36\", \"37\", \"38\", \"42\", \"43\", \"46\", \"48\", \"49\"], \"mode\": \"markers\", \"name\": \"AUC_macro\", \"stepped\": false, \"type\": \"scatter\", \"data\": [0.9928643754218142, 0.9894721612460692, 0.934723827317038, 0.9219888025428203, 0.9618848704329196, 0.9215904858407346, 0.9759713348109115, 0.9272455078888825, 0.9928205839126365, 0.973059569881476, 0.9909400401336615, 0.9773117566201437, 0.9797636117272573, 0.973175656926324, 0.9844181602511272, 0.9692651501048477, 0.9861733890371642, 0.9783526985647617, 0.9824226649642956, 0.9861260221373641, 0.9796947971419843, 0.9824057605381639, 0.9536984816222116, 0.5, 0.9759942266462516, 0.9164338800058056, 0.9380171866253474, 0.9686490421059192, 0.9575944144194666, 0.968112918411979, 0.5, 0.9925808183767613, 0.992690756769262, 0.9906782365043342, 0.9932517774481147, 0.9926063366102581, 0.9922407256245643, 0.9777377100408118, 0.9915680749873709, 0.9226355810203475, 0.9921912729266248, 0.9215462964008232, 0.993284414001482, 0.9934278123661476]}, {\"categories\": [\"0\", \"1\", \"2\", \"3\", \"4\", \"5\", \"6\", \"7\", \"8\", \"9\", \"10\", \"11\", \"12\", \"13\", \"14\", \"15\", \"16\", \"17\", \"18\", \"19\", \"20\", \"21\", \"22\", \"23\", \"24\", \"25\", \"26\", \"27\", \"28\", \"29\", \"30\", \"31\", \"32\", \"33\", \"34\", \"35\", \"36\", \"37\", \"38\", \"42\", \"43\", \"46\", \"48\", \"49\"], \"mode\": \"lines\", \"name\": \"AUC_macro_max\", \"stepped\": true, \"type\": \"scatter\", \"data\": [0.9928643754218142, 0.9928643754218142, 0.9928643754218142, 0.9928643754218142, 0.9928643754218142, 0.9928643754218142, 0.9928643754218142, 0.9928643754218142, 0.9928643754218142, 0.9928643754218142, 0.9928643754218142, 0.9928643754218142, 0.9928643754218142, 0.9928643754218142, 0.9928643754218142, 0.9928643754218142, 0.9928643754218142, 0.9928643754218142, 0.9928643754218142, 0.9928643754218142, 0.9928643754218142, 0.9928643754218142, 0.9928643754218142, 0.9928643754218142, 0.9928643754218142, 0.9928643754218142, 0.9928643754218142, 0.9928643754218142, 0.9928643754218142, 0.9928643754218142, 0.9928643754218142, 0.9928643754218142, 0.9928643754218142, 0.9928643754218142, 0.9932517774481147, 0.9932517774481147, 0.9932517774481147, 0.9932517774481147, 0.9932517774481147, 0.9932517774481147, 0.9932517774481147, 0.9932517774481147, 0.993284414001482, 0.9934278123661476]}], \"average_precision_score_micro\": [{\"categories\": [\"0\", \"1\", \"2\", \"3\", \"4\", \"5\", \"6\", \"7\", \"8\", \"9\", \"10\", \"11\", \"12\", \"13\", \"14\", \"15\", \"16\", \"17\", \"18\", \"19\", \"20\", \"21\", \"22\", \"23\", \"24\", \"25\", \"26\", \"27\", \"28\", \"29\", \"30\", \"31\", \"32\", \"33\", \"34\", \"35\", \"36\", \"37\", \"38\", \"42\", \"43\", \"46\", \"48\", \"49\"], \"mode\": \"markers\", \"name\": \"average_precision_score_micro\", \"stepped\": false, \"type\": \"scatter\", \"data\": [0.9962706485169024, 0.9943127607666028, 0.9643354605385439, 0.9577950503505771, 0.9645719929915556, 0.9649228491690313, 0.9826103515267216, 0.9257854334646525, 0.9962542683545902, 0.9865934284335851, 0.9951823198016001, 0.9885472879751674, 0.9896315086011137, 0.9864130841199343, 0.9919843342743059, 0.9843345315811184, 0.9925735364399721, 0.988590985723075, 0.9910353986728148, 0.9924864069338741, 0.989520200632095, 0.9909739601378846, 0.9710311087907147, 0.7824642437488748, 0.9866956306349729, 0.954292100214673, 0.9616707998874318, 0.9794575919070057, 0.9786135205005243, 0.9819370251809391, 0.7824642437488748, 0.9960175857062036, 0.9961558301382086, 0.995058417229283, 0.9964242966355169, 0.9961641770762789, 0.9959655651529404, 0.9887067348863298, 0.9952950651734428, 0.9233742686913163, 0.9959017135839657, 0.9649112868676787, 0.9964316788600728, 0.9943906599645347]}, {\"categories\": [\"0\", \"1\", \"2\", \"3\", \"4\", \"5\", \"6\", \"7\", \"8\", \"9\", \"10\", \"11\", \"12\", \"13\", \"14\", \"15\", \"16\", \"17\", \"18\", \"19\", \"20\", \"21\", \"22\", \"23\", \"24\", \"25\", \"26\", \"27\", \"28\", \"29\", \"30\", \"31\", \"32\", \"33\", \"34\", \"35\", \"36\", \"37\", \"38\", \"42\", \"43\", \"46\", \"48\", \"49\"], \"mode\": \"lines\", \"name\": \"average_precision_score_micro_max\", \"stepped\": true, \"type\": \"scatter\", \"data\": [0.9962706485169024, 0.9962706485169024, 0.9962706485169024, 0.9962706485169024, 0.9962706485169024, 0.9962706485169024, 0.9962706485169024, 0.9962706485169024, 0.9962706485169024, 0.9962706485169024, 0.9962706485169024, 0.9962706485169024, 0.9962706485169024, 0.9962706485169024, 0.9962706485169024, 0.9962706485169024, 0.9962706485169024, 0.9962706485169024, 0.9962706485169024, 0.9962706485169024, 0.9962706485169024, 0.9962706485169024, 0.9962706485169024, 0.9962706485169024, 0.9962706485169024, 0.9962706485169024, 0.9962706485169024, 0.9962706485169024, 0.9962706485169024, 0.9962706485169024, 0.9962706485169024, 0.9962706485169024, 0.9962706485169024, 0.9962706485169024, 0.9964242966355169, 0.9964242966355169, 0.9964242966355169, 0.9964242966355169, 0.9964242966355169, 0.9964242966355169, 0.9964242966355169, 0.9964242966355169, 0.9964316788600728, 0.9964316788600728]}]}, \"metricName\": null, \"primaryMetricName\": \"accuracy\", \"showLegend\": false}, \"run_metrics\": [{\"name\": \"experiment_status\", \"run_id\": \"AutoML_a9dbd640-a214-4bb3-8cc2-bd3d17249017\", \"categories\": [0, 1, 2, 3, 4, 5, 6, 7, 8, 9, 10, 11, 12, 13, 14], \"series\": [{\"data\": [\"DatasetEvaluation\", \"FeaturesGeneration\", \"DatasetFeaturization\", \"DatasetFeaturizationCompleted\", \"DatasetBalancing\", \"DatasetCrossValidationSplit\", \"ModelSelection\", \"BestRunExplainModel\", \"ModelExplanationDataSetSetup\", \"PickSurrogateModel\", \"EngineeredFeatureExplanations\", \"EngineeredFeatureExplanations\", \"RawFeaturesExplanations\", \"RawFeaturesExplanations\", \"BestRunExplainModel\"]}]}, {\"name\": \"experiment_status_description\", \"run_id\": \"AutoML_a9dbd640-a214-4bb3-8cc2-bd3d17249017\", \"categories\": [0, 1, 2, 3, 4, 5, 6, 7, 8, 9, 10, 11, 12, 13, 14], \"series\": [{\"data\": [\"Gathering dataset statistics.\", \"Generating features for the dataset.\", \"Beginning to fit featurizers and featurize the dataset.\", \"Completed fit featurizers and featurizing the dataset.\", \"Performing class balancing sweeping\", \"Generating individually featurized CV splits.\", \"Beginning model selection.\", \"Best run model explanations started\", \"Model explanations data setup completed\", \"Choosing LightGBM as the surrogate model for explanations\", \"Computation of engineered features started\", \"Computation of engineered features completed\", \"Computation of raw features started\", \"Computation of raw features completed\", \"Best run model explanations completed\"]}]}, {\"name\": \"f1_score_macro\", \"run_id\": \"AutoML_a9dbd640-a214-4bb3-8cc2-bd3d17249017\", \"categories\": [0], \"series\": [{\"data\": [0.9477726622602182]}]}, {\"name\": \"average_precision_score_weighted\", \"run_id\": \"AutoML_a9dbd640-a214-4bb3-8cc2-bd3d17249017\", \"categories\": [0], \"series\": [{\"data\": [0.9941225831144056]}]}, {\"name\": \"precision_score_weighted\", \"run_id\": \"AutoML_a9dbd640-a214-4bb3-8cc2-bd3d17249017\", \"categories\": [0], \"series\": [{\"data\": [0.9720909775601103]}]}, {\"name\": \"recall_score_macro\", \"run_id\": \"AutoML_a9dbd640-a214-4bb3-8cc2-bd3d17249017\", \"categories\": [0], \"series\": [{\"data\": [0.937994917601963]}]}, {\"name\": \"AUC_macro\", \"run_id\": \"AutoML_a9dbd640-a214-4bb3-8cc2-bd3d17249017\", \"categories\": [0], \"series\": [{\"data\": [0.993284414001482]}]}, {\"name\": \"average_precision_score_micro\", \"run_id\": \"AutoML_a9dbd640-a214-4bb3-8cc2-bd3d17249017\", \"categories\": [0], \"series\": [{\"data\": [0.9964316788600728]}]}, {\"name\": \"balanced_accuracy\", \"run_id\": \"AutoML_a9dbd640-a214-4bb3-8cc2-bd3d17249017\", \"categories\": [0], \"series\": [{\"data\": [0.937994917601963]}]}, {\"name\": \"f1_score_weighted\", \"run_id\": \"AutoML_a9dbd640-a214-4bb3-8cc2-bd3d17249017\", \"categories\": [0], \"series\": [{\"data\": [0.9720084982652897]}]}, {\"name\": \"log_loss\", \"run_id\": \"AutoML_a9dbd640-a214-4bb3-8cc2-bd3d17249017\", \"categories\": [0], \"series\": [{\"data\": [0.07728542595824862]}]}, {\"name\": \"norm_macro_recall\", \"run_id\": \"AutoML_a9dbd640-a214-4bb3-8cc2-bd3d17249017\", \"categories\": [0], \"series\": [{\"data\": [0.8759898352039258]}]}, {\"name\": \"f1_score_micro\", \"run_id\": \"AutoML_a9dbd640-a214-4bb3-8cc2-bd3d17249017\", \"categories\": [0], \"series\": [{\"data\": [0.9723496555916648]}]}, {\"name\": \"AUC_micro\", \"run_id\": \"AutoML_a9dbd640-a214-4bb3-8cc2-bd3d17249017\", \"categories\": [0], \"series\": [{\"data\": [0.996355287029537]}]}, {\"name\": \"recall_score_weighted\", \"run_id\": \"AutoML_a9dbd640-a214-4bb3-8cc2-bd3d17249017\", \"categories\": [0], \"series\": [{\"data\": [0.9723496555916648]}]}, {\"name\": \"AUC_weighted\", \"run_id\": \"AutoML_a9dbd640-a214-4bb3-8cc2-bd3d17249017\", \"categories\": [0], \"series\": [{\"data\": [0.993284414001482]}]}, {\"name\": \"recall_score_micro\", \"run_id\": \"AutoML_a9dbd640-a214-4bb3-8cc2-bd3d17249017\", \"categories\": [0], \"series\": [{\"data\": [0.9723496555916648]}]}, {\"name\": \"weighted_accuracy\", \"run_id\": \"AutoML_a9dbd640-a214-4bb3-8cc2-bd3d17249017\", \"categories\": [0], \"series\": [{\"data\": [0.9851420941464112]}]}, {\"name\": \"accuracy\", \"run_id\": \"AutoML_a9dbd640-a214-4bb3-8cc2-bd3d17249017\", \"categories\": [0], \"series\": [{\"data\": [0.9723496555916648]}]}, {\"name\": \"average_precision_score_macro\", \"run_id\": \"AutoML_a9dbd640-a214-4bb3-8cc2-bd3d17249017\", \"categories\": [0], \"series\": [{\"data\": [0.9845969690318267]}]}, {\"name\": \"matthews_correlation\", \"run_id\": \"AutoML_a9dbd640-a214-4bb3-8cc2-bd3d17249017\", \"categories\": [0], \"series\": [{\"data\": [0.8963294119983588]}]}, {\"name\": \"precision_score_macro\", \"run_id\": \"AutoML_a9dbd640-a214-4bb3-8cc2-bd3d17249017\", \"categories\": [0], \"series\": [{\"data\": [0.9586994448199158]}]}, {\"name\": \"precision_score_micro\", \"run_id\": \"AutoML_a9dbd640-a214-4bb3-8cc2-bd3d17249017\", \"categories\": [0], \"series\": [{\"data\": [0.9723496555916648]}]}], \"run_logs\": \"\\nRun is completed.\", \"graph\": {}, \"widget_settings\": {\"childWidgetDisplay\": \"popup\", \"send_telemetry\": false, \"log_level\": \"INFO\", \"sdk_version\": \"1.19.0\"}, \"loading\": false}"
     },
     "metadata": {},
     "output_type": "display_data"
    },
    {
     "name": "stdout",
     "output_type": "stream",
     "text": [
      "\n",
      "\n",
      "****************************************************************************************************\n",
      "DATA GUARDRAILS: \n",
      "\n",
      "TYPE:         Class balancing detection\n",
      "STATUS:       ALERTED\n",
      "DESCRIPTION:  To decrease model bias, please cancel the current run and fix balancing problem.\n",
      "              Learn more about imbalanced data: https://aka.ms/AutomatedMLImbalancedData\n",
      "DETAILS:      Imbalanced data can lead to a falsely perceived positive effect of a model's accuracy because the input data has bias towards one class.\n",
      "+---------------------------------+---------------------------------+--------------------------------------+\n",
      "|Size of the smallest class       |Name/Label of the smallest class |Number of samples in the training data|\n",
      "+=================================+=================================+======================================+\n",
      "|1318                             |1                                |8101                                  |\n",
      "+---------------------------------+---------------------------------+--------------------------------------+\n",
      "\n",
      "****************************************************************************************************\n",
      "\n",
      "TYPE:         Missing feature values imputation\n",
      "STATUS:       PASSED\n",
      "DESCRIPTION:  No feature missing values were detected in the training data.\n",
      "              Learn more about missing value imputation: https://aka.ms/AutomatedMLFeaturization\n",
      "\n",
      "****************************************************************************************************\n",
      "\n",
      "TYPE:         High cardinality feature detection\n",
      "STATUS:       PASSED\n",
      "DESCRIPTION:  Your inputs were analyzed, and no high cardinality features were detected.\n",
      "              Learn more about high cardinality feature handling: https://aka.ms/AutomatedMLFeaturization\n",
      "\n",
      "****************************************************************************************************\n",
      "\n",
      "****************************************************************************************************\n",
      "ITERATION: The iteration being evaluated.\n",
      "PIPELINE: A summary description of the pipeline being evaluated.\n",
      "DURATION: Time taken for the current iteration.\n",
      "METRIC: The result of computing score on the fitted pipeline.\n",
      "BEST: The best observed score thus far.\n",
      "****************************************************************************************************\n",
      "\n",
      " ITERATION   PIPELINE                                       DURATION      METRIC      BEST\n",
      "         0   MaxAbsScaler LightGBM                          0:01:53       0.9696    0.9696\n",
      "         1   MaxAbsScaler XGBoostClassifier                 0:01:03       0.9626    0.9696\n",
      "         2   MinMaxScaler RandomForest                      0:00:55       0.8909    0.9696\n",
      "         3   MinMaxScaler RandomForest                      0:00:49       0.8743    0.9696\n",
      "         4   MinMaxScaler RandomForest                      0:00:46       0.9066    0.9696\n",
      "         5   StandardScalerWrapper LogisticRegression       0:00:49       0.9045    0.9696\n",
      "         6   StandardScalerWrapper LightGBM                 0:00:55       0.9205    0.9696\n",
      "         7   MaxAbsScaler ExtremeRandomTrees                0:01:04       0.8562    0.9696\n",
      "         8   StandardScalerWrapper XGBoostClassifier        0:01:43       0.9703    0.9703\n",
      "         9   SparseNormalizer XGBoostClassifier             0:00:58       0.9395    0.9703\n",
      "        10   MaxAbsScaler LightGBM                          0:01:11       0.9662    0.9703\n",
      "        11   SparseNormalizer XGBoostClassifier             0:00:55       0.9426    0.9703\n",
      "        12   SparseNormalizer XGBoostClassifier             0:00:58       0.9464    0.9703\n",
      "        13   SparseNormalizer XGBoostClassifier             0:01:04       0.9386    0.9703\n",
      "        14   SparseNormalizer XGBoostClassifier             0:01:07       0.9538    0.9703\n",
      "        15   SparseNormalizer XGBoostClassifier             0:00:55       0.9330    0.9703\n",
      "        16   SparseNormalizer XGBoostClassifier             0:01:11       0.9543    0.9703\n",
      "        17   RobustScaler GradientBoosting                  0:01:05       0.9441    0.9703\n",
      "        18   SparseNormalizer LightGBM                      0:01:01       0.9527    0.9703\n",
      "        19   SparseNormalizer XGBoostClassifier             0:00:57       0.9538    0.9703\n",
      "        20   SparseNormalizer XGBoostClassifier             0:00:52       0.9459    0.9703\n",
      "        21   SparseNormalizer XGBoostClassifier             0:01:51       0.9522    0.9703\n",
      "        22   MaxAbsScaler LightGBM                          0:00:49       0.9035    0.9703\n",
      "        23   StandardScalerWrapper XGBoostClassifier        0:00:47       0.8373    0.9703\n",
      "        24   SparseNormalizer XGBoostClassifier             0:01:05       0.9370    0.9703\n",
      "        25   MaxAbsScaler ExtremeRandomTrees                0:00:52       0.8679    0.9703\n",
      "        26   RobustScaler LightGBM                          0:00:46       0.8731    0.9703\n",
      "        27   StandardScalerWrapper LightGBM                 0:00:52       0.9159    0.9703\n",
      "        28   SparseNormalizer XGBoostClassifier             0:01:09       0.9262    0.9703\n",
      "        29   StandardScalerWrapper LightGBM                 0:01:35       0.9249    0.9703\n",
      "        30   TruncatedSVDWrapper XGBoostClassifier          0:01:22       0.8373    0.9703\n",
      "        31   StandardScalerWrapper XGBoostClassifier        0:01:14       0.9686    0.9703\n",
      "        32   StandardScalerWrapper XGBoostClassifier        0:01:25       0.9695    0.9703\n",
      "        33   StandardScalerWrapper XGBoostClassifier        0:01:14       0.9656    0.9703\n",
      "        34   StandardScalerWrapper XGBoostClassifier        0:01:12       0.9695    0.9703\n",
      "        35   StandardScalerWrapper XGBoostClassifier        0:02:19       0.9690    0.9703\n",
      "        36   StandardScalerWrapper XGBoostClassifier        0:02:08       0.9678    0.9703\n",
      "        37   SparseNormalizer XGBoostClassifier             0:01:00       0.9442    0.9703\n",
      "        38   StandardScalerWrapper XGBoostClassifier        0:00:56       0.9662    0.9703\n",
      "        39   SparseNormalizer XGBoostClassifier             0:01:31          nan    0.9703\n",
      "        40   StandardScalerWrapper XGBoostClassifier        0:01:14          nan    0.9703\n",
      "        41   StandardScalerWrapper XGBoostClassifier        0:01:14          nan    0.9703\n",
      "        42   MaxAbsScaler LogisticRegression                0:00:59       0.8464    0.9703\n",
      "        43   StandardScalerWrapper XGBoostClassifier        0:01:06       0.9699    0.9703\n",
      "        44   SparseNormalizer LightGBM                      0:01:01          nan    0.9703\n",
      "        45   SparseNormalizer XGBoostClassifier             0:00:38          nan    0.9703\n",
      "        46   MaxAbsScaler LogisticRegression                0:00:34       0.9043    0.9703\n",
      "        47                                                  0:00:18          nan    0.9703\n",
      "        48    VotingEnsemble                                0:01:44       0.9723    0.9723\n",
      "        49    StackEnsemble                                 0:01:43       0.9716    0.9723\n"
     ]
    },
    {
     "data": {
      "text/plain": [
       "{'runId': 'AutoML_a9dbd640-a214-4bb3-8cc2-bd3d17249017',\n",
       " 'target': 'compute-aml-cluster',\n",
       " 'status': 'Completed',\n",
       " 'startTimeUtc': '2021-01-04T14:59:14.955789Z',\n",
       " 'endTimeUtc': '2021-01-04T15:12:44.653491Z',\n",
       " 'properties': {'num_iterations': '1000',\n",
       "  'training_type': 'TrainFull',\n",
       "  'acquisition_function': 'EI',\n",
       "  'primary_metric': 'accuracy',\n",
       "  'train_split': '0',\n",
       "  'acquisition_parameter': '0',\n",
       "  'num_cross_validation': '3',\n",
       "  'target': 'compute-aml-cluster',\n",
       "  'AMLSettingsJsonString': '{\"path\":null,\"name\":\"automl-experiment\",\"subscription_id\":\"48a74bb7-9950-4cc1-9caa-5d50f995cc55\",\"resource_group\":\"aml-quickstarts-133333\",\"workspace_name\":\"quick-starts-ws-133333\",\"region\":\"southcentralus\",\"compute_target\":\"compute-aml-cluster\",\"spark_service\":null,\"azure_service\":\"remote\",\"many_models\":false,\"pipeline_fetch_max_batch_size\":1,\"iterations\":1000,\"primary_metric\":\"accuracy\",\"task_type\":\"classification\",\"data_script\":null,\"validation_size\":0.0,\"n_cross_validations\":3,\"y_min\":null,\"y_max\":null,\"num_classes\":null,\"featurization\":\"auto\",\"_ignore_package_version_incompatibilities\":false,\"is_timeseries\":false,\"max_cores_per_iteration\":-1,\"max_concurrent_iterations\":10,\"iteration_timeout_minutes\":null,\"mem_in_mb\":null,\"enforce_time_on_windows\":false,\"experiment_timeout_minutes\":30,\"experiment_exit_score\":null,\"whitelist_models\":null,\"blacklist_algos\":[\"TensorFlowLinearClassifier\",\"TensorFlowDNN\"],\"supported_models\":[\"LinearSVM\",\"XGBoostClassifier\",\"SGD\",\"SVM\",\"LogisticRegression\",\"AveragedPerceptronClassifier\",\"ExtremeRandomTrees\",\"TensorFlowDNN\",\"GradientBoosting\",\"DecisionTree\",\"MultinomialNaiveBayes\",\"KNN\",\"BernoulliNaiveBayes\",\"TensorFlowLinearClassifier\",\"RandomForest\",\"LightGBM\"],\"auto_blacklist\":true,\"blacklist_samples_reached\":false,\"exclude_nan_labels\":true,\"verbosity\":20,\"_debug_log\":\"azureml_automl.log\",\"show_warnings\":false,\"model_explainability\":true,\"service_url\":null,\"sdk_url\":null,\"sdk_packages\":null,\"enable_onnx_compatible_models\":false,\"enable_split_onnx_featurizer_estimator_models\":false,\"vm_type\":\"STANDARD_D13_V2\",\"telemetry_verbosity\":20,\"send_telemetry\":true,\"enable_dnn\":false,\"scenario\":\"SDK-1.13.0\",\"environment_label\":null,\"force_text_dnn\":false,\"enable_feature_sweeping\":true,\"enable_early_stopping\":true,\"early_stopping_n_iters\":10,\"metrics\":null,\"enable_ensembling\":true,\"enable_stack_ensembling\":true,\"ensemble_iterations\":15,\"enable_tf\":false,\"enable_subsampling\":null,\"subsample_seed\":null,\"enable_nimbusml\":false,\"enable_streaming\":false,\"force_streaming\":false,\"track_child_runs\":true,\"allowed_private_models\":[],\"label_column_name\":\"Attrition_Flag\",\"weight_column_name\":null,\"cv_split_column_names\":null,\"enable_local_managed\":false,\"_local_managed_run_id\":null,\"cost_mode\":1,\"lag_length\":0,\"metric_operation\":\"maximize\",\"preprocess\":true}',\n",
       "  'DataPrepJsonString': '{\\\\\"training_data\\\\\": \\\\\"{\\\\\\\\\\\\\"blocks\\\\\\\\\\\\\": [{\\\\\\\\\\\\\"id\\\\\\\\\\\\\": \\\\\\\\\\\\\"1f1178af-8d47-4648-986d-5f06ee862450\\\\\\\\\\\\\", \\\\\\\\\\\\\"type\\\\\\\\\\\\\": \\\\\\\\\\\\\"Microsoft.DPrep.GetDatastoreFilesBlock\\\\\\\\\\\\\", \\\\\\\\\\\\\"arguments\\\\\\\\\\\\\": {\\\\\\\\\\\\\"datastores\\\\\\\\\\\\\": [{\\\\\\\\\\\\\"datastoreName\\\\\\\\\\\\\": \\\\\\\\\\\\\"workspaceblobstore\\\\\\\\\\\\\", \\\\\\\\\\\\\"path\\\\\\\\\\\\\": \\\\\\\\\\\\\"data/train_data.csv\\\\\\\\\\\\\", \\\\\\\\\\\\\"resourceGroup\\\\\\\\\\\\\": \\\\\\\\\\\\\"aml-quickstarts-133333\\\\\\\\\\\\\", \\\\\\\\\\\\\"subscription\\\\\\\\\\\\\": \\\\\\\\\\\\\"48a74bb7-9950-4cc1-9caa-5d50f995cc55\\\\\\\\\\\\\", \\\\\\\\\\\\\"workspaceName\\\\\\\\\\\\\": \\\\\\\\\\\\\"quick-starts-ws-133333\\\\\\\\\\\\\"}]}, \\\\\\\\\\\\\"localData\\\\\\\\\\\\\": {}, \\\\\\\\\\\\\"isEnabled\\\\\\\\\\\\\": true, \\\\\\\\\\\\\"name\\\\\\\\\\\\\": null, \\\\\\\\\\\\\"annotation\\\\\\\\\\\\\": null}, {\\\\\\\\\\\\\"id\\\\\\\\\\\\\": \\\\\\\\\\\\\"d357f6c6-097b-40fd-b4ef-b55a7212f750\\\\\\\\\\\\\", \\\\\\\\\\\\\"type\\\\\\\\\\\\\": \\\\\\\\\\\\\"Microsoft.DPrep.ParseDelimitedBlock\\\\\\\\\\\\\", \\\\\\\\\\\\\"arguments\\\\\\\\\\\\\": {\\\\\\\\\\\\\"columnHeadersMode\\\\\\\\\\\\\": 3, \\\\\\\\\\\\\"fileEncoding\\\\\\\\\\\\\": 0, \\\\\\\\\\\\\"handleQuotedLineBreaks\\\\\\\\\\\\\": false, \\\\\\\\\\\\\"preview\\\\\\\\\\\\\": false, \\\\\\\\\\\\\"separator\\\\\\\\\\\\\": \\\\\\\\\\\\\",\\\\\\\\\\\\\", \\\\\\\\\\\\\"skipRows\\\\\\\\\\\\\": 0, \\\\\\\\\\\\\"skipRowsMode\\\\\\\\\\\\\": 0}, \\\\\\\\\\\\\"localData\\\\\\\\\\\\\": {}, \\\\\\\\\\\\\"isEnabled\\\\\\\\\\\\\": true, \\\\\\\\\\\\\"name\\\\\\\\\\\\\": null, \\\\\\\\\\\\\"annotation\\\\\\\\\\\\\": null}, {\\\\\\\\\\\\\"id\\\\\\\\\\\\\": \\\\\\\\\\\\\"5041bcef-272a-4de4-ac9e-ec22476f5e87\\\\\\\\\\\\\", \\\\\\\\\\\\\"type\\\\\\\\\\\\\": \\\\\\\\\\\\\"Microsoft.DPrep.DropColumnsBlock\\\\\\\\\\\\\", \\\\\\\\\\\\\"arguments\\\\\\\\\\\\\": {\\\\\\\\\\\\\"columns\\\\\\\\\\\\\": {\\\\\\\\\\\\\"type\\\\\\\\\\\\\": 0, \\\\\\\\\\\\\"details\\\\\\\\\\\\\": {\\\\\\\\\\\\\"selectedColumns\\\\\\\\\\\\\": [\\\\\\\\\\\\\"Path\\\\\\\\\\\\\"]}}}, \\\\\\\\\\\\\"localData\\\\\\\\\\\\\": {}, \\\\\\\\\\\\\"isEnabled\\\\\\\\\\\\\": true, \\\\\\\\\\\\\"name\\\\\\\\\\\\\": null, \\\\\\\\\\\\\"annotation\\\\\\\\\\\\\": null}, {\\\\\\\\\\\\\"id\\\\\\\\\\\\\": \\\\\\\\\\\\\"382e0ffe-2f1d-47d9-ba55-eb11600b8c45\\\\\\\\\\\\\", \\\\\\\\\\\\\"type\\\\\\\\\\\\\": \\\\\\\\\\\\\"Microsoft.DPrep.SetColumnTypesBlock\\\\\\\\\\\\\", \\\\\\\\\\\\\"arguments\\\\\\\\\\\\\": {\\\\\\\\\\\\\"columnConversion\\\\\\\\\\\\\": [{\\\\\\\\\\\\\"column\\\\\\\\\\\\\": {\\\\\\\\\\\\\"type\\\\\\\\\\\\\": 2, \\\\\\\\\\\\\"details\\\\\\\\\\\\\": {\\\\\\\\\\\\\"selectedColumn\\\\\\\\\\\\\": \\\\\\\\\\\\\"Customer_Age\\\\\\\\\\\\\"}}, \\\\\\\\\\\\\"typeProperty\\\\\\\\\\\\\": 3}, {\\\\\\\\\\\\\"column\\\\\\\\\\\\\": {\\\\\\\\\\\\\"type\\\\\\\\\\\\\": 2, \\\\\\\\\\\\\"details\\\\\\\\\\\\\": {\\\\\\\\\\\\\"selectedColumn\\\\\\\\\\\\\": \\\\\\\\\\\\\"Gender\\\\\\\\\\\\\"}}, \\\\\\\\\\\\\"typeProperty\\\\\\\\\\\\\": 3}, {\\\\\\\\\\\\\"column\\\\\\\\\\\\\": {\\\\\\\\\\\\\"type\\\\\\\\\\\\\": 2, \\\\\\\\\\\\\"details\\\\\\\\\\\\\": {\\\\\\\\\\\\\"selectedColumn\\\\\\\\\\\\\": \\\\\\\\\\\\\"Dependent_count\\\\\\\\\\\\\"}}, \\\\\\\\\\\\\"typeProperty\\\\\\\\\\\\\": 3}, {\\\\\\\\\\\\\"column\\\\\\\\\\\\\": {\\\\\\\\\\\\\"type\\\\\\\\\\\\\": 2, \\\\\\\\\\\\\"details\\\\\\\\\\\\\": {\\\\\\\\\\\\\"selectedColumn\\\\\\\\\\\\\": \\\\\\\\\\\\\"Education_Level\\\\\\\\\\\\\"}}, \\\\\\\\\\\\\"typeProperty\\\\\\\\\\\\\": 3}, {\\\\\\\\\\\\\"column\\\\\\\\\\\\\": {\\\\\\\\\\\\\"type\\\\\\\\\\\\\": 2, \\\\\\\\\\\\\"details\\\\\\\\\\\\\": {\\\\\\\\\\\\\"selectedColumn\\\\\\\\\\\\\": \\\\\\\\\\\\\"Income_Category\\\\\\\\\\\\\"}}, \\\\\\\\\\\\\"typeProperty\\\\\\\\\\\\\": 3}, {\\\\\\\\\\\\\"column\\\\\\\\\\\\\": {\\\\\\\\\\\\\"type\\\\\\\\\\\\\": 2, \\\\\\\\\\\\\"details\\\\\\\\\\\\\": {\\\\\\\\\\\\\"selectedColumn\\\\\\\\\\\\\": \\\\\\\\\\\\\"Months_on_book\\\\\\\\\\\\\"}}, \\\\\\\\\\\\\"typeProperty\\\\\\\\\\\\\": 3}, {\\\\\\\\\\\\\"column\\\\\\\\\\\\\": {\\\\\\\\\\\\\"type\\\\\\\\\\\\\": 2, \\\\\\\\\\\\\"details\\\\\\\\\\\\\": {\\\\\\\\\\\\\"selectedColumn\\\\\\\\\\\\\": \\\\\\\\\\\\\"Total_Relationship_Count\\\\\\\\\\\\\"}}, \\\\\\\\\\\\\"typeProperty\\\\\\\\\\\\\": 3}, {\\\\\\\\\\\\\"column\\\\\\\\\\\\\": {\\\\\\\\\\\\\"type\\\\\\\\\\\\\": 2, \\\\\\\\\\\\\"details\\\\\\\\\\\\\": {\\\\\\\\\\\\\"selectedColumn\\\\\\\\\\\\\": \\\\\\\\\\\\\"Months_Inactive_12_mon\\\\\\\\\\\\\"}}, \\\\\\\\\\\\\"typeProperty\\\\\\\\\\\\\": 3}, {\\\\\\\\\\\\\"column\\\\\\\\\\\\\": {\\\\\\\\\\\\\"type\\\\\\\\\\\\\": 2, \\\\\\\\\\\\\"details\\\\\\\\\\\\\": {\\\\\\\\\\\\\"selectedColumn\\\\\\\\\\\\\": \\\\\\\\\\\\\"Contacts_Count_12_mon\\\\\\\\\\\\\"}}, \\\\\\\\\\\\\"typeProperty\\\\\\\\\\\\\": 3}, {\\\\\\\\\\\\\"column\\\\\\\\\\\\\": {\\\\\\\\\\\\\"type\\\\\\\\\\\\\": 2, \\\\\\\\\\\\\"details\\\\\\\\\\\\\": {\\\\\\\\\\\\\"selectedColumn\\\\\\\\\\\\\": \\\\\\\\\\\\\"Credit_Limit\\\\\\\\\\\\\"}}, \\\\\\\\\\\\\"typeProperty\\\\\\\\\\\\\": 3}, {\\\\\\\\\\\\\"column\\\\\\\\\\\\\": {\\\\\\\\\\\\\"type\\\\\\\\\\\\\": 2, \\\\\\\\\\\\\"details\\\\\\\\\\\\\": {\\\\\\\\\\\\\"selectedColumn\\\\\\\\\\\\\": \\\\\\\\\\\\\"Total_Revolving_Bal\\\\\\\\\\\\\"}}, \\\\\\\\\\\\\"typeProperty\\\\\\\\\\\\\": 3}, {\\\\\\\\\\\\\"column\\\\\\\\\\\\\": {\\\\\\\\\\\\\"type\\\\\\\\\\\\\": 2, \\\\\\\\\\\\\"details\\\\\\\\\\\\\": {\\\\\\\\\\\\\"selectedColumn\\\\\\\\\\\\\": \\\\\\\\\\\\\"Avg_Open_To_Buy\\\\\\\\\\\\\"}}, \\\\\\\\\\\\\"typeProperty\\\\\\\\\\\\\": 3}, {\\\\\\\\\\\\\"column\\\\\\\\\\\\\": {\\\\\\\\\\\\\"type\\\\\\\\\\\\\": 2, \\\\\\\\\\\\\"details\\\\\\\\\\\\\": {\\\\\\\\\\\\\"selectedColumn\\\\\\\\\\\\\": \\\\\\\\\\\\\"Total_Amt_Chng_Q4_Q1\\\\\\\\\\\\\"}}, \\\\\\\\\\\\\"typeProperty\\\\\\\\\\\\\": 3}, {\\\\\\\\\\\\\"column\\\\\\\\\\\\\": {\\\\\\\\\\\\\"type\\\\\\\\\\\\\": 2, \\\\\\\\\\\\\"details\\\\\\\\\\\\\": {\\\\\\\\\\\\\"selectedColumn\\\\\\\\\\\\\": \\\\\\\\\\\\\"Total_Trans_Amt\\\\\\\\\\\\\"}}, \\\\\\\\\\\\\"typeProperty\\\\\\\\\\\\\": 3}, {\\\\\\\\\\\\\"column\\\\\\\\\\\\\": {\\\\\\\\\\\\\"type\\\\\\\\\\\\\": 2, \\\\\\\\\\\\\"details\\\\\\\\\\\\\": {\\\\\\\\\\\\\"selectedColumn\\\\\\\\\\\\\": \\\\\\\\\\\\\"Total_Trans_Ct\\\\\\\\\\\\\"}}, \\\\\\\\\\\\\"typeProperty\\\\\\\\\\\\\": 3}, {\\\\\\\\\\\\\"column\\\\\\\\\\\\\": {\\\\\\\\\\\\\"type\\\\\\\\\\\\\": 2, \\\\\\\\\\\\\"details\\\\\\\\\\\\\": {\\\\\\\\\\\\\"selectedColumn\\\\\\\\\\\\\": \\\\\\\\\\\\\"Total_Ct_Chng_Q4_Q1\\\\\\\\\\\\\"}}, \\\\\\\\\\\\\"typeProperty\\\\\\\\\\\\\": 3}, {\\\\\\\\\\\\\"column\\\\\\\\\\\\\": {\\\\\\\\\\\\\"type\\\\\\\\\\\\\": 2, \\\\\\\\\\\\\"details\\\\\\\\\\\\\": {\\\\\\\\\\\\\"selectedColumn\\\\\\\\\\\\\": \\\\\\\\\\\\\"Avg_Utilization_Ratio\\\\\\\\\\\\\"}}, \\\\\\\\\\\\\"typeProperty\\\\\\\\\\\\\": 3}, {\\\\\\\\\\\\\"column\\\\\\\\\\\\\": {\\\\\\\\\\\\\"type\\\\\\\\\\\\\": 2, \\\\\\\\\\\\\"details\\\\\\\\\\\\\": {\\\\\\\\\\\\\"selectedColumn\\\\\\\\\\\\\": \\\\\\\\\\\\\"Marital_Status_Divorced\\\\\\\\\\\\\"}}, \\\\\\\\\\\\\"typeProperty\\\\\\\\\\\\\": 3}, {\\\\\\\\\\\\\"column\\\\\\\\\\\\\": {\\\\\\\\\\\\\"type\\\\\\\\\\\\\": 2, \\\\\\\\\\\\\"details\\\\\\\\\\\\\": {\\\\\\\\\\\\\"selectedColumn\\\\\\\\\\\\\": \\\\\\\\\\\\\"Marital_Status_Married\\\\\\\\\\\\\"}}, \\\\\\\\\\\\\"typeProperty\\\\\\\\\\\\\": 3}, {\\\\\\\\\\\\\"column\\\\\\\\\\\\\": {\\\\\\\\\\\\\"type\\\\\\\\\\\\\": 2, \\\\\\\\\\\\\"details\\\\\\\\\\\\\": {\\\\\\\\\\\\\"selectedColumn\\\\\\\\\\\\\": \\\\\\\\\\\\\"Marital_Status_Single\\\\\\\\\\\\\"}}, \\\\\\\\\\\\\"typeProperty\\\\\\\\\\\\\": 3}, {\\\\\\\\\\\\\"column\\\\\\\\\\\\\": {\\\\\\\\\\\\\"type\\\\\\\\\\\\\": 2, \\\\\\\\\\\\\"details\\\\\\\\\\\\\": {\\\\\\\\\\\\\"selectedColumn\\\\\\\\\\\\\": \\\\\\\\\\\\\"Card_Category_Blue\\\\\\\\\\\\\"}}, \\\\\\\\\\\\\"typeProperty\\\\\\\\\\\\\": 3}, {\\\\\\\\\\\\\"column\\\\\\\\\\\\\": {\\\\\\\\\\\\\"type\\\\\\\\\\\\\": 2, \\\\\\\\\\\\\"details\\\\\\\\\\\\\": {\\\\\\\\\\\\\"selectedColumn\\\\\\\\\\\\\": \\\\\\\\\\\\\"Card_Category_Gold\\\\\\\\\\\\\"}}, \\\\\\\\\\\\\"typeProperty\\\\\\\\\\\\\": 3}, {\\\\\\\\\\\\\"column\\\\\\\\\\\\\": {\\\\\\\\\\\\\"type\\\\\\\\\\\\\": 2, \\\\\\\\\\\\\"details\\\\\\\\\\\\\": {\\\\\\\\\\\\\"selectedColumn\\\\\\\\\\\\\": \\\\\\\\\\\\\"Card_Category_Platinum\\\\\\\\\\\\\"}}, \\\\\\\\\\\\\"typeProperty\\\\\\\\\\\\\": 3}, {\\\\\\\\\\\\\"column\\\\\\\\\\\\\": {\\\\\\\\\\\\\"type\\\\\\\\\\\\\": 2, \\\\\\\\\\\\\"details\\\\\\\\\\\\\": {\\\\\\\\\\\\\"selectedColumn\\\\\\\\\\\\\": \\\\\\\\\\\\\"Card_Category_Silver\\\\\\\\\\\\\"}}, \\\\\\\\\\\\\"typeProperty\\\\\\\\\\\\\": 3}, {\\\\\\\\\\\\\"column\\\\\\\\\\\\\": {\\\\\\\\\\\\\"type\\\\\\\\\\\\\": 2, \\\\\\\\\\\\\"details\\\\\\\\\\\\\": {\\\\\\\\\\\\\"selectedColumn\\\\\\\\\\\\\": \\\\\\\\\\\\\"Attrition_Flag\\\\\\\\\\\\\"}}, \\\\\\\\\\\\\"typeProperty\\\\\\\\\\\\\": 2}]}, \\\\\\\\\\\\\"localData\\\\\\\\\\\\\": {}, \\\\\\\\\\\\\"isEnabled\\\\\\\\\\\\\": true, \\\\\\\\\\\\\"name\\\\\\\\\\\\\": null, \\\\\\\\\\\\\"annotation\\\\\\\\\\\\\": null}], \\\\\\\\\\\\\"inspectors\\\\\\\\\\\\\": [], \\\\\\\\\\\\\"meta\\\\\\\\\\\\\": {\\\\\\\\\\\\\"savedDatasetId\\\\\\\\\\\\\": \\\\\\\\\\\\\"dde29fc2-1922-45b8-acce-1f9139241be3\\\\\\\\\\\\\", \\\\\\\\\\\\\"datasetType\\\\\\\\\\\\\": \\\\\\\\\\\\\"tabular\\\\\\\\\\\\\", \\\\\\\\\\\\\"subscriptionId\\\\\\\\\\\\\": \\\\\\\\\\\\\"48a74bb7-9950-4cc1-9caa-5d50f995cc55\\\\\\\\\\\\\", \\\\\\\\\\\\\"workspaceId\\\\\\\\\\\\\": \\\\\\\\\\\\\"6ab345f6-9aa7-4cde-a479-7cfaf32a7d99\\\\\\\\\\\\\", \\\\\\\\\\\\\"workspaceLocation\\\\\\\\\\\\\": \\\\\\\\\\\\\"southcentralus\\\\\\\\\\\\\"}}\\\\\", \\\\\"activities\\\\\": 0}',\n",
       "  'EnableSubsampling': None,\n",
       "  'runTemplate': 'AutoML',\n",
       "  'azureml.runsource': 'automl',\n",
       "  'display_task_type': 'classification',\n",
       "  'dependencies_versions': '{\"azureml-widgets\": \"1.19.0\", \"azureml-train\": \"1.19.0\", \"azureml-train-restclients-hyperdrive\": \"1.19.0\", \"azureml-train-core\": \"1.19.0\", \"azureml-train-automl\": \"1.19.0\", \"azureml-train-automl-runtime\": \"1.19.0\", \"azureml-train-automl-client\": \"1.19.0\", \"azureml-tensorboard\": \"1.19.0\", \"azureml-telemetry\": \"1.19.0\", \"azureml-sdk\": \"1.19.0\", \"azureml-samples\": \"0+unknown\", \"azureml-pipeline\": \"1.19.0\", \"azureml-pipeline-steps\": \"1.19.0\", \"azureml-pipeline-core\": \"1.19.0\", \"azureml-opendatasets\": \"1.19.0\", \"azureml-model-management-sdk\": \"1.0.1b6.post1\", \"azureml-mlflow\": \"1.19.0\", \"azureml-interpret\": \"1.19.0\", \"azureml-explain-model\": \"1.19.0\", \"azureml-defaults\": \"1.19.0\", \"azureml-dataset-runtime\": \"1.19.0\", \"azureml-dataprep\": \"2.6.1\", \"azureml-dataprep-rslex\": \"1.4.0\", \"azureml-dataprep-native\": \"26.0.0\", \"azureml-datadrift\": \"1.19.0\", \"azureml-core\": \"1.19.0\", \"azureml-contrib-services\": \"1.19.0\", \"azureml-contrib-server\": \"1.19.0\", \"azureml-contrib-reinforcementlearning\": \"1.19.0\", \"azureml-contrib-pipeline-steps\": \"1.19.0\", \"azureml-contrib-notebook\": \"1.19.0\", \"azureml-contrib-interpret\": \"1.19.0\", \"azureml-contrib-gbdt\": \"1.19.0\", \"azureml-contrib-fairness\": \"1.19.0\", \"azureml-contrib-dataset\": \"1.19.0\", \"azureml-cli-common\": \"1.19.0\", \"azureml-automl-runtime\": \"1.19.0\", \"azureml-automl-core\": \"1.19.0\", \"azureml-accel-models\": \"1.19.0\"}',\n",
       "  '_aml_system_scenario_identification': 'Remote.Parent',\n",
       "  'ClientType': 'SDK',\n",
       "  'environment_cpu_name': 'AzureML-AutoML',\n",
       "  'environment_cpu_label': 'prod',\n",
       "  'environment_gpu_name': 'AzureML-AutoML-GPU',\n",
       "  'environment_gpu_label': 'prod',\n",
       "  'root_attribution': 'automl',\n",
       "  'attribution': 'AutoML',\n",
       "  'Orchestrator': 'AutoML',\n",
       "  'CancelUri': 'https://southcentralus.experiments.azureml.net/jasmine/v1.0/subscriptions/48a74bb7-9950-4cc1-9caa-5d50f995cc55/resourceGroups/aml-quickstarts-133333/providers/Microsoft.MachineLearningServices/workspaces/quick-starts-ws-133333/experimentids/7e83dc34-b3d2-407b-9714-f3912e448df2/cancel/AutoML_a9dbd640-a214-4bb3-8cc2-bd3d17249017',\n",
       "  'ClientSdkVersion': '1.19.0',\n",
       "  'snapshotId': '00000000-0000-0000-0000-000000000000',\n",
       "  'SetupRunId': 'AutoML_a9dbd640-a214-4bb3-8cc2-bd3d17249017_setup',\n",
       "  'SetupRunContainerId': 'dcid.AutoML_a9dbd640-a214-4bb3-8cc2-bd3d17249017_setup',\n",
       "  'FeaturizationRunJsonPath': 'featurizer_container.json',\n",
       "  'FeaturizationRunId': 'AutoML_a9dbd640-a214-4bb3-8cc2-bd3d17249017_featurize',\n",
       "  'ProblemInfoJsonString': '{\"dataset_num_categorical\": 0, \"is_sparse\": false, \"subsampling\": false, \"dataset_classes\": 2, \"dataset_features\": 24, \"dataset_samples\": 8101, \"single_frequency_class_detected\": false}',\n",
       "  'ModelExplainRunId': 'AutoML_a9dbd640-a214-4bb3-8cc2-bd3d17249017_ModelExplain'},\n",
       " 'inputDatasets': [{'dataset': {'id': 'dde29fc2-1922-45b8-acce-1f9139241be3'}, 'consumptionDetails': {'type': 'RunInput', 'inputName': 'training_data', 'mechanism': 'Direct'}}],\n",
       " 'outputDatasets': [],\n",
       " 'logFiles': {}}"
      ]
     },
     "execution_count": 13,
     "metadata": {},
     "output_type": "execute_result"
    }
   ],
   "source": [
    "RunDetails(remote_run).show()\n",
    "remote_run.wait_for_completion(show_output=True)"
   ]
  },
  {
   "cell_type": "markdown",
   "metadata": {},
   "source": [
    "## Best Model"
   ]
  },
  {
   "cell_type": "code",
   "execution_count": 14,
   "metadata": {
    "collapsed": false,
    "gather": {
     "logged": 1598431425670
    },
    "jupyter": {
     "outputs_hidden": false,
     "source_hidden": false
    },
    "nteract": {
     "transient": {
      "deleting": false
     }
    }
   },
   "outputs": [
    {
     "name": "stdout",
     "output_type": "stream",
     "text": [
      "Best Run ID AutoML_a9dbd640-a214-4bb3-8cc2-bd3d17249017_48\n"
     ]
    }
   ],
   "source": [
    "best_run, fitted_automl_best_model = remote_run.get_output()\n",
    "best_run_metrics = best_run.get_metrics()\n",
    "print('Best Run ID',best_run.id)"
   ]
  },
  {
   "cell_type": "code",
   "execution_count": 15,
   "metadata": {},
   "outputs": [
    {
     "data": {
      "text/html": [
       "<table style=\"width:100%\"><tr><th>Experiment</th><th>Id</th><th>Type</th><th>Status</th><th>Details Page</th><th>Docs Page</th></tr><tr><td>automl-experiment</td><td>AutoML_a9dbd640-a214-4bb3-8cc2-bd3d17249017_48</td><td>azureml.scriptrun</td><td>Completed</td><td><a href=\"https://ml.azure.com/experiments/automl-experiment/runs/AutoML_a9dbd640-a214-4bb3-8cc2-bd3d17249017_48?wsid=/subscriptions/48a74bb7-9950-4cc1-9caa-5d50f995cc55/resourcegroups/aml-quickstarts-133333/workspaces/quick-starts-ws-133333\" target=\"_blank\" rel=\"noopener\">Link to Azure Machine Learning studio</a></td><td><a href=\"https://docs.microsoft.com/en-us/python/api/azureml-core/azureml.core.run.Run?view=azure-ml-py\" target=\"_blank\" rel=\"noopener\">Link to Documentation</a></td></tr></table>"
      ],
      "text/plain": [
       "Run(Experiment: automl-experiment,\n",
       "Id: AutoML_a9dbd640-a214-4bb3-8cc2-bd3d17249017_48,\n",
       "Type: azureml.scriptrun,\n",
       "Status: Completed)"
      ]
     },
     "execution_count": 15,
     "metadata": {},
     "output_type": "execute_result"
    }
   ],
   "source": [
    "best_run"
   ]
  },
  {
   "cell_type": "code",
   "execution_count": 16,
   "metadata": {},
   "outputs": [
    {
     "data": {
      "text/plain": [
       "Pipeline(memory=None,\n",
       "         steps=[('datatransformer',\n",
       "                 DataTransformer(enable_dnn=None, enable_feature_sweeping=None,\n",
       "                                 feature_sweeping_config=None,\n",
       "                                 feature_sweeping_timeout=None,\n",
       "                                 featurization_config=None, force_text_dnn=None,\n",
       "                                 is_cross_validation=None,\n",
       "                                 is_onnx_compatible=None, logger=None,\n",
       "                                 observer=None, task=None, working_dir=None)),\n",
       "                ('prefittedsoftvotingclassifier',...\n",
       "                                                                                               n_estimators=200,\n",
       "                                                                                               n_jobs=-1,\n",
       "                                                                                               nthread=None,\n",
       "                                                                                               objective='reg:logistic',\n",
       "                                                                                               random_state=0,\n",
       "                                                                                               reg_alpha=0.625,\n",
       "                                                                                               reg_lambda=0.8333333333333334,\n",
       "                                                                                               scale_pos_weight=1,\n",
       "                                                                                               seed=None,\n",
       "                                                                                               silent=None,\n",
       "                                                                                               subsample=0.8,\n",
       "                                                                                               tree_method='auto',\n",
       "                                                                                               verbose=-10,\n",
       "                                                                                               verbosity=0))],\n",
       "                                                                     verbose=False))],\n",
       "                                               flatten_transform=None,\n",
       "                                               weights=[0.06666666666666667,\n",
       "                                                        0.4666666666666667, 0.2,\n",
       "                                                        0.2,\n",
       "                                                        0.06666666666666667]))],\n",
       "         verbose=False)"
      ]
     },
     "execution_count": 16,
     "metadata": {},
     "output_type": "execute_result"
    }
   ],
   "source": [
    "fitted_automl_best_model"
   ]
  },
  {
   "cell_type": "code",
   "execution_count": 17,
   "metadata": {},
   "outputs": [
    {
     "name": "stdout",
     "output_type": "stream",
     "text": [
      "f1_score_micro 0.9723496555916648\n",
      "average_precision_score_weighted 0.9941225831144056\n",
      "log_loss 0.07728542595824862\n",
      "norm_macro_recall 0.8759898352039258\n",
      "f1_score_macro 0.9477726622602182\n",
      "matthews_correlation 0.8963294119983588\n",
      "f1_score_weighted 0.9720084982652897\n",
      "weighted_accuracy 0.9851420941464112\n",
      "precision_score_macro 0.9586994448199158\n",
      "average_precision_score_macro 0.9845969690318267\n",
      "recall_score_macro 0.937994917601963\n",
      "precision_score_micro 0.9723496555916648\n",
      "AUC_macro 0.993284414001482\n",
      "AUC_micro 0.996355287029537\n",
      "accuracy 0.9723496555916648\n",
      "precision_score_weighted 0.9720909775601103\n",
      "recall_score_micro 0.9723496555916648\n",
      "balanced_accuracy 0.937994917601963\n",
      "recall_score_weighted 0.9723496555916648\n",
      "average_precision_score_micro 0.9964316788600728\n",
      "AUC_weighted 0.993284414001482\n",
      "accuracy_table aml://artifactId/ExperimentRun/dcid.AutoML_a9dbd640-a214-4bb3-8cc2-bd3d17249017_48/accuracy_table\n",
      "confusion_matrix aml://artifactId/ExperimentRun/dcid.AutoML_a9dbd640-a214-4bb3-8cc2-bd3d17249017_48/confusion_matrix\n",
      "\n",
      "Accuracy of Best run\n",
      "0.9723496555916648\n",
      "Run(Experiment: automl-experiment,\n",
      "Id: AutoML_a9dbd640-a214-4bb3-8cc2-bd3d17249017_48,\n",
      "Type: azureml.scriptrun,\n",
      "Status: Completed)\n"
     ]
    },
    {
     "data": {
      "text/plain": [
       "'AutoMLa9dbd640a48'"
      ]
     },
     "execution_count": 17,
     "metadata": {},
     "output_type": "execute_result"
    }
   ],
   "source": [
    "# Metric in best run\n",
    "for metric_name in best_run_metrics:\n",
    "    metric = best_run_metrics[metric_name]\n",
    "    print(metric_name, metric)\n",
    "    \n",
    "print('\\nAccuracy of Best run',best_run_metrics['accuracy'],sep='\\n')\n",
    "print(best_run)\n",
    "\n",
    "model_name = best_run.properties['model_name']\n",
    "model_name"
   ]
  },
  {
   "cell_type": "code",
   "execution_count": 18,
   "metadata": {
    "collapsed": false,
    "gather": {
     "logged": 1598431426111
    },
    "jupyter": {
     "outputs_hidden": false,
     "source_hidden": false
    },
    "nteract": {
     "transient": {
      "deleting": false
     }
    }
   },
   "outputs": [
    {
     "data": {
      "text/plain": [
       "['outputs/automl.joblib']"
      ]
     },
     "execution_count": 18,
     "metadata": {},
     "output_type": "execute_result"
    }
   ],
   "source": [
    "#TODO: Save the best model\n",
    "\n",
    "os.makedirs('./outputs', exist_ok=True)\n",
    "\n",
    "joblib.dump(fitted_automl_best_model, filename='outputs/automl.joblib')"
   ]
  },
  {
   "cell_type": "markdown",
   "metadata": {},
   "source": [
    "## Fetch Environment"
   ]
  },
  {
   "cell_type": "code",
   "execution_count": 19,
   "metadata": {},
   "outputs": [],
   "source": [
    "env = best_run.get_environment()\n",
    "\n",
    "script_file = 'score.py'\n",
    "best_run.download_file('outputs/scoring_file_v_1_0_0.py', script_file)"
   ]
  },
  {
   "cell_type": "markdown",
   "metadata": {},
   "source": [
    "## Model Deployment\n",
    "\n",
    "Remember you have to deploy only one of the two models you trained.. Perform the steps in the rest of this notebook only if you wish to deploy this model.\n",
    "\n",
    "TODO: In the cell below, register the model, create an inference config and deploy the model as a web service."
   ]
  },
  {
   "cell_type": "code",
   "execution_count": 20,
   "metadata": {
    "collapsed": false,
    "gather": {
     "logged": 1598431435189
    },
    "jupyter": {
     "outputs_hidden": false,
     "source_hidden": false
    },
    "nteract": {
     "transient": {
      "deleting": false
     }
    }
   },
   "outputs": [
    {
     "name": "stdout",
     "output_type": "stream",
     "text": [
      "AutoMLa9dbd640a48\tAutoMLa9dbd640a48:1\t1\n"
     ]
    }
   ],
   "source": [
    "#Register the model\n",
    "model = remote_run.register_model(model_name=model_name)\n",
    "print(model.name, model.id, model.version, sep='\\t')"
   ]
  },
  {
   "cell_type": "code",
   "execution_count": 21,
   "metadata": {},
   "outputs": [
    {
     "name": "stdout",
     "output_type": "stream",
     "text": [
      "Tips: You can try get_logs(): https://aka.ms/debugimage#dockerlog or local deployment: https://aka.ms/debugimage#debug-locally to debug if deployment takes longer than 10 minutes.\n",
      "Running..............................................\n",
      "Succeeded\n",
      "ACI service creation operation finished, operation \"Succeeded\"\n",
      "State:  Healthy\n",
      "\n",
      "Scoring URI:  http://fa100294-54cf-4bed-b633-284283593169.southcentralus.azurecontainer.io/score\n"
     ]
    }
   ],
   "source": [
    "from azureml.core.model import InferenceConfig\n",
    "from azureml.core.webservice import AciWebservice\n",
    "from azureml.core.webservice import Webservice\n",
    "from azureml.core.model import Model\n",
    "from azureml.core.environment import Environment\n",
    "\n",
    "inference_config = InferenceConfig(entry_script=script_file, environment=env)\n",
    "\n",
    "deployment_config = AciWebservice.deploy_configuration(cpu_cores = 1, \n",
    "                                                       memory_gb = 1)\n",
    "\n",
    "deploy_service_name= 'automl-model-deployment'\n",
    "service = Model.deploy(ws,deploy_service_name,  [model], inference_config, deployment_config)\n",
    "\n",
    "service.wait_for_deployment(show_output = True)\n",
    "\n",
    "scoring_uri = service.scoring_uri\n",
    "\n",
    "print(\"State: \",service.state)\n",
    "print(\"\\nScoring URI: \", scoring_uri)"
   ]
  },
  {
   "cell_type": "markdown",
   "metadata": {
    "gather": {
     "logged": 1598431657736
    },
    "jupyter": {
     "outputs_hidden": false,
     "source_hidden": false
    },
    "nteract": {
     "transient": {
      "deleting": false
     }
    }
   },
   "source": [
    "## Test the Deploy model "
   ]
  },
  {
   "cell_type": "code",
   "execution_count": 22,
   "metadata": {
    "collapsed": false,
    "gather": {
     "logged": 1598432707604
    },
    "jupyter": {
     "outputs_hidden": false,
     "source_hidden": false
    },
    "nteract": {
     "transient": {
      "deleting": false
     }
    }
   },
   "outputs": [
    {
     "name": "stdout",
     "output_type": "stream",
     "text": [
      "{\"data\": [{\"Customer_Age\": -0.9138695254188793, \"Gender\": -0.9434357010341592, \"Dependent_count\": 1.2732834007681237, \"Education_Level\": 1.3369222922850161, \"Income_Category\": -0.8876284200276294, \"Months_on_book\": -1.744098524772328, \"Total_Relationship_Count\": -0.5227845095558545, \"Months_Inactive_12_mon\": 0.6519401850417875, \"Contacts_Count_12_mon\": -1.315635733377402, \"Credit_Limit\": -0.3496741901529384, \"Total_Revolving_Bal\": -0.06726088318562885, \"Avg_Open_To_Buy\": -0.3435707799234027, \"Total_Amt_Chng_Q4_Q1\": 1.1909861973988283, \"Total_Trans_Amt\": -0.5093040625235756, \"Total_Trans_Ct\": 0.09123036423332408, \"Total_Ct_Chng_Q4_Q1\": -0.15634770403306225, \"Avg_Utilization_Ratio\": -0.2607882715651652, \"Marital_Status_Divorced\": -0.28240509711065837, \"Marital_Status_Married\": 1.0773379863168544, \"Marital_Status_Single\": -0.7985068536605181, \"Card_Category_Blue\": 0.27061075788044237, \"Card_Category_Gold\": -0.10764410815542748, \"Card_Category_Platinum\": -0.04448400337033954, \"Card_Category_Silver\": -0.2407937146979289}, {\"Customer_Age\": 1.581010292323941, \"Gender\": -0.9434357010341592, \"Dependent_count\": -1.8063776929932305, \"Education_Level\": 0.5933882127655281, \"Income_Category\": -0.8876284200276294, \"Months_on_book\": 0.008964512845950725, \"Total_Relationship_Count\": -1.1661480687091097, \"Months_Inactive_12_mon\": 0.6519401850417875, \"Contacts_Count_12_mon\": -0.4116159836207899, \"Credit_Limit\": -0.7618512200205709, \"Total_Revolving_Bal\": -1.4268583411935547, \"Avg_Open_To_Buy\": -0.6337722511647819, \"Total_Amt_Chng_Q4_Q1\": -1.4459238839597146, \"Total_Trans_Amt\": -0.7100717177845077, \"Total_Trans_Ct\": -1.144315269113938, \"Total_Ct_Chng_Q4_Q1\": -1.4920649648977817, \"Avg_Utilization_Ratio\": -0.9971549934097601, \"Marital_Status_Divorced\": -0.28240509711065837, \"Marital_Status_Married\": 1.0773379863168544, \"Marital_Status_Single\": -0.7985068536605181, \"Card_Category_Blue\": 0.27061075788044237, \"Card_Category_Gold\": -0.10764410815542748, \"Card_Category_Platinum\": -0.04448400337033954, \"Card_Category_Silver\": -0.2407937146979289}, {\"Customer_Age\": 0.33357038345253087, \"Gender\": 1.0599556481738364, \"Dependent_count\": 0.5033681273277852, \"Education_Level\": 0.5933882127655281, \"Income_Category\": 0.5972998049033698, \"Months_on_book\": 1.1359336084577014, \"Total_Relationship_Count\": -1.809511627862365, \"Months_Inactive_12_mon\": -1.327136030161504, \"Contacts_Count_12_mon\": -1.315635733377402, \"Credit_Limit\": -0.7162982861270312, \"Total_Revolving_Bal\": -0.0758503978120327, \"Avg_Open_To_Buy\": -0.7093478428034579, \"Total_Amt_Chng_Q4_Q1\": -0.22327353481769122, \"Total_Trans_Amt\": 0.8831167723506306, \"Total_Trans_Ct\": 1.6250111504575115, \"Total_Ct_Chng_Q4_Q1\": -0.8284067032102796, \"Avg_Utilization_Ratio\": 0.8854771673653372, \"Marital_Status_Divorced\": -0.28240509711065837, \"Marital_Status_Married\": -0.9282138128432161, \"Marital_Status_Single\": 1.2523374037627806, \"Card_Category_Blue\": 0.27061075788044237, \"Card_Category_Gold\": -0.10764410815542748, \"Card_Category_Platinum\": -0.04448400337033954, \"Card_Category_Silver\": -0.2407937146979289}]}\n"
     ]
    }
   ],
   "source": [
    "import json\n",
    "data_test = test_data.to_pandas_dataframe().dropna()\n",
    "data_sample = data_test.sample(3)\n",
    "y_true = data_sample.pop('Attrition_Flag')\n",
    "sample_json = json.dumps({'data':data_sample.to_dict(orient='records')})\n",
    "print(sample_json)"
   ]
  },
  {
   "cell_type": "markdown",
   "metadata": {
    "gather": {
     "logged": 1598432765711
    },
    "jupyter": {
     "outputs_hidden": false,
     "source_hidden": false
    },
    "nteract": {
     "transient": {
      "deleting": false
     }
    }
   },
   "source": [
    "TODO: In the cell below, print the logs of the web service and delete the service"
   ]
  },
  {
   "cell_type": "code",
   "execution_count": 23,
   "metadata": {
    "collapsed": false,
    "jupyter": {
     "outputs_hidden": false,
     "source_hidden": false
    },
    "nteract": {
     "transient": {
      "deleting": false
     }
    }
   },
   "outputs": [
    {
     "name": "stdout",
     "output_type": "stream",
     "text": [
      "{\"result\": [0, 1, 0]}\n"
     ]
    }
   ],
   "source": [
    "output = service.run(sample_json)\n",
    "print(output)"
   ]
  },
  {
   "cell_type": "code",
   "execution_count": 24,
   "metadata": {},
   "outputs": [
    {
     "name": "stdout",
     "output_type": "stream",
     "text": [
      "Prediction:  {\"result\": [0, 1, 0]}\n",
      "True Values:  [0 1 0]\n"
     ]
    }
   ],
   "source": [
    "print('Prediction: ',output)\n",
    "print('True Values: ', y_true.values)"
   ]
  },
  {
   "cell_type": "code",
   "execution_count": 25,
   "metadata": {},
   "outputs": [
    {
     "name": "stdout",
     "output_type": "stream",
     "text": [
      "\n",
      "Service Logs:\n",
      " 2021-01-04T15:42:17,645906200+00:00 - gunicorn/run \n",
      "2021-01-04T15:42:17,655874400+00:00 - iot-server/run \n",
      "2021-01-04T15:42:17,689255700+00:00 - nginx/run \n",
      "/usr/sbin/nginx: /azureml-envs/azureml_8eff28b157f42edcd2424a5aae6c8074/lib/libcrypto.so.1.0.0: no version information available (required by /usr/sbin/nginx)\n",
      "/usr/sbin/nginx: /azureml-envs/azureml_8eff28b157f42edcd2424a5aae6c8074/lib/libcrypto.so.1.0.0: no version information available (required by /usr/sbin/nginx)\n",
      "/usr/sbin/nginx: /azureml-envs/azureml_8eff28b157f42edcd2424a5aae6c8074/lib/libssl.so.1.0.0: no version information available (required by /usr/sbin/nginx)\n",
      "/usr/sbin/nginx: /azureml-envs/azureml_8eff28b157f42edcd2424a5aae6c8074/lib/libssl.so.1.0.0: no version information available (required by /usr/sbin/nginx)\n",
      "/usr/sbin/nginx: /azureml-envs/azureml_8eff28b157f42edcd2424a5aae6c8074/lib/libssl.so.1.0.0: no version information available (required by /usr/sbin/nginx)\n",
      "2021-01-04T15:42:17,717142500+00:00 - rsyslog/run \n",
      "rsyslogd: /azureml-envs/azureml_8eff28b157f42edcd2424a5aae6c8074/lib/libuuid.so.1: no version information available (required by rsyslogd)\n",
      "EdgeHubConnectionString and IOTEDGE_IOTHUBHOSTNAME are not set. Exiting...\n",
      "2021-01-04T15:42:19,320083300+00:00 - iot-server/finish 1 0\n",
      "2021-01-04T15:42:19,328765300+00:00 - Exit code 1 is normal. Not restarting iot-server.\n",
      "Starting gunicorn 19.9.0\n",
      "Listening at: http://127.0.0.1:31311 (67)\n",
      "Using worker: sync\n",
      "worker timeout is set to 300\n",
      "Booting worker with pid: 97\n",
      "SPARK_HOME not set. Skipping PySpark Initialization.\n",
      "Generating new fontManager, this may take some time...\n",
      "Initializing logger\n",
      "2021-01-04 15:42:24,499 | root | INFO | Starting up app insights client\n",
      "Starting up app insights client\n",
      "2021-01-04 15:42:24,500 | root | INFO | Starting up request id generator\n",
      "Starting up request id generator\n",
      "2021-01-04 15:42:24,500 | root | INFO | Starting up app insight hooks\n",
      "Starting up app insight hooks\n",
      "2021-01-04 15:42:24,500 | root | INFO | Invoking user's init function\n",
      "Invoking user's init function\n",
      "2021-01-04 15:42:32,706 | root | INFO | Users's init has completed successfully\n",
      "Users's init has completed successfully\n",
      "2021-01-04 15:42:32,714 | root | INFO | Skipping middleware: dbg_model_info as it's not enabled.\n",
      "Skipping middleware: dbg_model_info as it's not enabled.\n",
      "2021-01-04 15:42:32,714 | root | INFO | Skipping middleware: dbg_resource_usage as it's not enabled.\n",
      "Skipping middleware: dbg_resource_usage as it's not enabled.\n",
      "2021-01-04 15:42:32,716 | root | INFO | Scoring timeout is found from os.environ: 60000 ms\n",
      "Scoring timeout is found from os.environ: 60000 ms\n",
      "2021-01-04 15:42:32,771 | root | INFO | 200\n",
      "200\n",
      "127.0.0.1 - - [04/Jan/2021:15:42:32 +0000] \"GET /swagger.json HTTP/1.0\" 200 4100 \"-\" \"Go-http-client/1.1\"\n",
      "2021-01-04 15:42:35,373 | root | INFO | 200\n",
      "200\n",
      "127.0.0.1 - - [04/Jan/2021:15:42:35 +0000] \"GET /swagger.json HTTP/1.0\" 200 4100 \"-\" \"Go-http-client/1.1\"\n",
      "2021-01-04 15:46:36,384 | root | INFO | Validation Request Content-Type\n",
      "Validation Request Content-Type\n",
      "2021-01-04 15:46:36,389 | root | INFO | \tHost: localhost:5001\n",
      "\tHost: localhost:5001\n",
      "2021-01-04 15:46:36,389 | root | INFO | \tX-Real-Ip: 127.0.0.1\n",
      "\tX-Real-Ip: 127.0.0.1\n",
      "2021-01-04 15:46:36,389 | root | INFO | \tX-Forwarded-For: 127.0.0.1\n",
      "\tX-Forwarded-For: 127.0.0.1\n",
      "2021-01-04 15:46:36,390 | root | INFO | \tX-Forwarded-Proto: http\n",
      "\tX-Forwarded-Proto: http\n",
      "2021-01-04 15:46:36,390 | root | INFO | \tConnection: close\n",
      "\tConnection: close\n",
      "2021-01-04 15:46:36,390 | root | INFO | \tContent-Length: 3073\n",
      "\tContent-Length: 3073\n",
      "2021-01-04 15:46:36,391 | root | INFO | \tUser-Agent: python-requests/2.25.0\n",
      "\tUser-Agent: python-requests/2.25.0\n",
      "2021-01-04 15:46:36,391 | root | INFO | \tAccept: application/json\n",
      "\tAccept: application/json\n",
      "2021-01-04 15:46:36,391 | root | INFO | \tAccept-Encoding: gzip, deflate\n",
      "\tAccept-Encoding: gzip, deflate\n",
      "2021-01-04 15:46:36,391 | root | INFO | \tContent-Type: application/json\n",
      "\tContent-Type: application/json\n",
      "2021-01-04 15:46:36,391 | root | INFO | \tX-Ms-Request-Id: 03031212-a1a1-44c1-9c29-a5e5f8f2f860\n",
      "\tX-Ms-Request-Id: 03031212-a1a1-44c1-9c29-a5e5f8f2f860\n",
      "2021-01-04 15:46:36,392 | root | INFO | Scoring Timer is set to 60.0 seconds\n",
      "Scoring Timer is set to 60.0 seconds\n",
      "2021-01-04 15:46:36,581 | root | INFO | 200\n",
      "200\n",
      "127.0.0.1 - - [04/Jan/2021:15:46:36 +0000] \"POST /score HTTP/1.0\" 200 25 \"-\" \"python-requests/2.25.0\"\n",
      "\n"
     ]
    }
   ],
   "source": [
    "print(\"\\nService Logs:\\n\",service.get_logs())"
   ]
  },
  {
   "cell_type": "markdown",
   "metadata": {},
   "source": [
    "## Clean Up"
   ]
  },
  {
   "cell_type": "code",
   "execution_count": 26,
   "metadata": {},
   "outputs": [],
   "source": [
    "service.delete()"
   ]
  },
  {
   "cell_type": "code",
   "execution_count": null,
   "metadata": {},
   "outputs": [],
   "source": []
  }
 ],
 "metadata": {
  "kernel_info": {
   "name": "python3"
  },
  "kernelspec": {
   "display_name": "Python 3",
   "language": "python",
   "name": "python3"
  },
  "language_info": {
   "codemirror_mode": {
    "name": "ipython",
    "version": 3
   },
   "file_extension": ".py",
   "mimetype": "text/x-python",
   "name": "python",
   "nbconvert_exporter": "python",
   "pygments_lexer": "ipython3",
   "version": "3.6.9"
  },
  "nteract": {
   "version": "nteract-front-end@1.0.0"
  }
 },
 "nbformat": 4,
 "nbformat_minor": 4
}
